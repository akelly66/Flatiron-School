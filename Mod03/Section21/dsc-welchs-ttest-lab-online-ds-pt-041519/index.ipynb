{
 "cells": [
  {
   "cell_type": "markdown",
   "metadata": {},
   "source": [
    "# Welch's T-test - Lab\n",
    "\n",
    "## Introduction \n",
    "\n",
    "Now that you've gotten a brief introduction to Welch's T-test, it's time to practice your NumPy and math programming skills to write your own Welch's T-test function! \n",
    "\n",
    "## Objectives\n",
    "You will be able to:\n",
    "* Write a function computing Welch's t-test using NumPy"
   ]
  },
  {
   "cell_type": "markdown",
   "metadata": {},
   "source": [
    "\n",
    "### Welch's t-Test\n",
    "\n",
    "Recall that Welch's t-Test is given by  \n",
    "\n",
    "# $ t = \\frac{\\bar{X_1}-\\bar{X_2}}{\\sqrt{\\frac{s_1^2}{N_1} + \\frac{s_2^2}{N_2}}} = \\frac{\\bar{X_1}-\\bar{X_2}}{\\sqrt{se_1^2+se_2^2}}$\n",
    "\n",
    "where $\\bar{X_i}$ , $s_i$, and $N_i$ are the sample mean, sample variance, and sample size, respectively, for sample i.\n",
    "\n",
    "Write a function for calculatying Welch's t-statistic using two samples a, and b. To help, 2 potential samples are defined below.\n",
    "\n",
    "> **Important Note**: While the formula does not indicate it, it is appropriate to take the absolute value of the t-value."
   ]
  },
  {
   "cell_type": "code",
   "execution_count": 1,
   "metadata": {},
   "outputs": [],
   "source": [
    "import numpy as np\n",
    "\n",
    "np.random.seed(82)\n",
    "control = np.random.normal(loc=10, scale=1, size=8)\n",
    "treatment = np.random.normal(loc=10.5, scale=1.2, size=12)"
   ]
  },
  {
   "cell_type": "code",
   "execution_count": 2,
   "metadata": {},
   "outputs": [
    {
     "data": {
      "text/plain": [
       "array([10.8406504 ,  8.64285284, 11.28693651, 10.57347539, 10.57945015,\n",
       "        9.97237817,  9.61844717,  9.69121804])"
      ]
     },
     "execution_count": 2,
     "metadata": {},
     "output_type": "execute_result"
    }
   ],
   "source": [
    "control"
   ]
  },
  {
   "cell_type": "code",
   "execution_count": 3,
   "metadata": {},
   "outputs": [
    {
     "data": {
      "text/plain": [
       "array([12.16530726, 12.5597993 , 11.76525366,  9.82399228, 11.03539891,\n",
       "       12.8992533 , 10.78680718, 11.71126641, 10.2343344 ,  9.77839837,\n",
       "        9.72938618, 10.39959928])"
      ]
     },
     "execution_count": 3,
     "metadata": {},
     "output_type": "execute_result"
    }
   ],
   "source": [
    "treatment"
   ]
  },
  {
   "cell_type": "code",
   "execution_count": 12,
   "metadata": {},
   "outputs": [
    {
     "data": {
      "text/plain": [
       "2.0997990691576858"
      ]
     },
     "execution_count": 12,
     "metadata": {},
     "output_type": "execute_result"
    }
   ],
   "source": [
    "def welch_t(a, b):\n",
    "    \n",
    "    num = a.mean()-b.mean()\n",
    "   # left = np.std(a)**2 / len(a)\n",
    "   # right = np.std(b)**2 / len(b)\n",
    "    denom = np.sqrt(a.var(ddof=1)/a.size+b.var(ddof=1)/b.size)\n",
    "    \n",
    "    \n",
    "    return abs(num/denom)#Return the t-score!\n",
    "\n",
    "welch_t(control,treatment)\n",
    "# 2.0997990691576858"
   ]
  },
  {
   "cell_type": "markdown",
   "metadata": {},
   "source": [
    "## Degrees of Freedom\n",
    "Once you have the t-score, you also need to calculate the degrees of freedom to determine the appropriate t-distribution and convert this score into a p-value. The effective degrees of freedom can be calculated using the formula:"
   ]
  },
  {
   "cell_type": "markdown",
   "metadata": {},
   "source": [
    "# $ v \\approx \\frac{\\left( \\frac{s_1^2}{N_1} + \\frac{s_2^2}{N_2}\\right)^2}{\\frac{s_1^4}{N_1^2v_1} + \\frac{s_2^4}{N_2^2v_2}} $\n",
    "\n",
    "$N_i$ - sample size of sample i  \n",
    "$s_i$ - variance of sample i  \n",
    "$v_i$ - degrees of freedom for sample i (equivalent to $N_i$-1   \n",
    "  \n",
    "Write a second function to calculate degree of freedom for above samples:"
   ]
  },
  {
   "cell_type": "code",
   "execution_count": 17,
   "metadata": {},
   "outputs": [
    {
     "data": {
      "text/plain": [
       "17.673079085111"
      ]
     },
     "execution_count": 17,
     "metadata": {},
     "output_type": "execute_result"
    }
   ],
   "source": [
    "def welch_df(a, b):\n",
    "    s1 = a.var(ddof=1) \n",
    "    s2 = b.var(ddof=1)\n",
    "    n1 = a.size\n",
    "    n2 = b.size\n",
    "    \n",
    "    num = (s1/n1 + s2/n2)**2\n",
    "    denom = (s1/ n1)**2/(n1 - 1) + (s2/ n2)**2/(n2 - 1)\n",
    "    \n",
    "    return num/denom#Return the degrees of freedom\n",
    "\n",
    "welch_df(control, treatment)\n",
    "# 17.673079085111"
   ]
  },
  {
   "cell_type": "markdown",
   "metadata": {},
   "source": [
    "Now calculate the welch-t score and degrees of freedom from the samples, a and b, using your functions."
   ]
  },
  {
   "cell_type": "code",
   "execution_count": 18,
   "metadata": {},
   "outputs": [
    {
     "name": "stdout",
     "output_type": "stream",
     "text": [
      "2.0997990691576858 17.673079085111\n"
     ]
    }
   ],
   "source": [
    "t = welch_t(control, treatment)\n",
    "df = welch_df(control, treatment)#Your code here; calculate t and the degrees of freedom for the two samples, a and b\n",
    "print(t,df)\n",
    "# 2.0997990691576858 17.673079085111"
   ]
  },
  {
   "cell_type": "markdown",
   "metadata": {},
   "source": [
    "## Converting to a p-Value\n",
    "\n",
    "Great! Now that you have the t-score and the degrees of freedom, it's time to convert those values into a p-value (for a one-sided $t$-test). Remember that the easiest way to do this is to use the cumulative distribution function associated with your particular t-distribution.  \n",
    "\n",
    "Calculate the p-value associated with this experiment."
   ]
  },
  {
   "cell_type": "code",
   "execution_count": 19,
   "metadata": {},
   "outputs": [
    {
     "name": "stdout",
     "output_type": "stream",
     "text": [
      "0.025191666225846454\n"
     ]
    }
   ],
   "source": [
    "\n",
    "import scipy.stats as stats\n",
    "\n",
    "\n",
    "p = 1 - stats.t.cdf(t, df)\n",
    "#Your code here; calculate the p-value for the two samples defined above\n",
    "print(p)\n",
    "# 0.025191666225846454"
   ]
  },
  {
   "cell_type": "markdown",
   "metadata": {},
   "source": [
    "In this case, there is a 2.5% probability you would see t equal to or greater than what you saw from the data. Given that alpha was set at 0.05, this would constitute sufficient evidence to reject the null hypothesis.\n",
    "\n",
    "Building on this, you can also write a function that calculates the p-value for given samples with a two-sided test by taking advantage of the symmetry of the t-distribution to calculate only one side. The two-tailed p-value is simply twice the one-tailed value, because you want the probability:  \n",
    ">$t<−|t̂|$ and  $t>|t̂|$ , where t̂  is the t-statistic calculated from our data  \n",
    "\n",
    "With that, define a summative function `p_val_welch(a, b, two_sided=False)` which takes in two samples a and b, as  well as an optional binary variable to allow you to toggle between a one and two-sided Welch's $t$-test.   \n",
    "\n",
    "> The default behavior should be set to one-sided as indicated above. If the parameter two_sided is set to True, the function should return the p-value for a two-sided $t$-test, as oppossed to a one-sided $t$-test."
   ]
  },
  {
   "cell_type": "code",
   "execution_count": 22,
   "metadata": {},
   "outputs": [],
   "source": [
    "def p_value(a, b, two_sided=False):\n",
    "    \n",
    "    t = welch_t(a, b)\n",
    "    df = welch_df(control, treatment)\n",
    "    p = 1 - stats.t.cdf(t, df)\n",
    "    \n",
    "    if two_sided:\n",
    "        return p*2\n",
    "    else:\n",
    "        return p\n",
    "    #Your code here\n",
    "    return #Return the p-value!"
   ]
  },
  {
   "cell_type": "markdown",
   "metadata": {},
   "source": [
    "Now briefly test your function; no need to write any code just run the cells below to ensure your function is operating properly. The output should match the commented values."
   ]
  },
  {
   "cell_type": "code",
   "execution_count": 23,
   "metadata": {},
   "outputs": [
    {
     "data": {
      "text/plain": [
       "0.025191666225846454"
      ]
     },
     "execution_count": 23,
     "metadata": {},
     "output_type": "execute_result"
    }
   ],
   "source": [
    "p_value(treatment, control)\n",
    "#0.025191666225846454"
   ]
  },
  {
   "cell_type": "code",
   "execution_count": 25,
   "metadata": {},
   "outputs": [
    {
     "data": {
      "text/plain": [
       "0.05038333245169291"
      ]
     },
     "execution_count": 25,
     "metadata": {},
     "output_type": "execute_result"
    }
   ],
   "source": [
    "p_value(treatment, control, two_sided=True)\n",
    "#0.05038333245169291"
   ]
  },
  {
   "cell_type": "markdown",
   "metadata": {},
   "source": [
    "## Summary\n",
    "\n",
    "Nice work! In this lab, you practiced implementing formulas for Welch's $t$-test for when sample variances or sample sizes differ in your experimental groups. You also got to review converting $t$-scores into p-values. All of this should continue to build on your abilities to effectively design and carry out statistically valid hypothesis tests."
   ]
  }
 ],
 "metadata": {
  "kernelspec": {
   "display_name": "Python 3",
   "language": "python",
   "name": "python3"
  },
  "language_info": {
   "codemirror_mode": {
    "name": "ipython",
    "version": 3
   },
   "file_extension": ".py",
   "mimetype": "text/x-python",
   "name": "python",
   "nbconvert_exporter": "python",
   "pygments_lexer": "ipython3",
   "version": "3.6.6"
  }
 },
 "nbformat": 4,
 "nbformat_minor": 2
}
