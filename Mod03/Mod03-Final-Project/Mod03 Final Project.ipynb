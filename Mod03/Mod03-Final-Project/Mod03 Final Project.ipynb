{
 "cells": [
  {
   "cell_type": "markdown",
   "metadata": {
    "cell_style": "center"
   },
   "source": [
    "# Module 3 Final Project"
   ]
  },
  {
   "cell_type": "markdown",
   "metadata": {},
   "source": [
    "<strong>Name:</strong> Allie Kelly<br>\n",
    "<strong>Pace:</strong> Part-time<br>\n",
    "<strong>Project Review: </strong><br>\n",
    "<strong>Instructor:</strong> Victor Geislinger<br>\n",
    "<strong>Blog Post URL:</strong>"
   ]
  },
  {
   "cell_type": "markdown",
   "metadata": {},
   "source": [
    "## Import Packages and Data"
   ]
  },
  {
   "cell_type": "code",
   "execution_count": 1,
   "metadata": {},
   "outputs": [],
   "source": [
    "import sqlite3\n",
    "import scipy\n",
    "import scipy.stats as stats\n",
    "import statsmodels as sm\n",
    "from statsmodels.formula.api import ols\n",
    "\n",
    "import matplotlib.pyplot as plt\n",
    "import seaborn as sns\n",
    "sns.set_style(\"whitegrid\")\n",
    "%matplotlib inline\n",
    "\n",
    "import math\n",
    "import numpy as np\n",
    "import pandas as pd"
   ]
  },
  {
   "cell_type": "code",
   "execution_count": 2,
   "metadata": {},
   "outputs": [],
   "source": [
    "#begin SQL cursor, import data\n",
    "conn = sqlite3.connect('Northwind_small.sqlite')\n",
    "cur = conn.cursor()"
   ]
  },
  {
   "cell_type": "markdown",
   "metadata": {},
   "source": [
    "# Hypothesis 1"
   ]
  },
  {
   "cell_type": "markdown",
   "metadata": {},
   "source": [
    "$H_{0}$ The average product order quantity is equal whether a discount is applied or not.<br>\n",
    "   \n",
    "$H_{1}$ The average product order quantity increases when a discount is applied as compared to the average quantity when a discount is not applied. <Br>\n",
    "    \n",
    "This is a one-tailed t-test."
   ]
  },
  {
   "cell_type": "code",
   "execution_count": 3,
   "metadata": {
    "scrolled": true
   },
   "outputs": [
    {
     "data": {
      "text/html": [
       "<div>\n",
       "<style scoped>\n",
       "    .dataframe tbody tr th:only-of-type {\n",
       "        vertical-align: middle;\n",
       "    }\n",
       "\n",
       "    .dataframe tbody tr th {\n",
       "        vertical-align: top;\n",
       "    }\n",
       "\n",
       "    .dataframe thead th {\n",
       "        text-align: right;\n",
       "    }\n",
       "</style>\n",
       "<table border=\"1\" class=\"dataframe\">\n",
       "  <thead>\n",
       "    <tr style=\"text-align: right;\">\n",
       "      <th></th>\n",
       "      <th>Id</th>\n",
       "      <th>OrderId</th>\n",
       "      <th>ProductId</th>\n",
       "      <th>UnitPrice</th>\n",
       "      <th>Quantity</th>\n",
       "      <th>Discount</th>\n",
       "    </tr>\n",
       "  </thead>\n",
       "  <tbody>\n",
       "    <tr>\n",
       "      <th>0</th>\n",
       "      <td>10248/11</td>\n",
       "      <td>10248</td>\n",
       "      <td>11</td>\n",
       "      <td>14.0</td>\n",
       "      <td>12</td>\n",
       "      <td>0.0</td>\n",
       "    </tr>\n",
       "    <tr>\n",
       "      <th>1</th>\n",
       "      <td>10248/42</td>\n",
       "      <td>10248</td>\n",
       "      <td>42</td>\n",
       "      <td>9.8</td>\n",
       "      <td>10</td>\n",
       "      <td>0.0</td>\n",
       "    </tr>\n",
       "    <tr>\n",
       "      <th>2</th>\n",
       "      <td>10248/72</td>\n",
       "      <td>10248</td>\n",
       "      <td>72</td>\n",
       "      <td>34.8</td>\n",
       "      <td>5</td>\n",
       "      <td>0.0</td>\n",
       "    </tr>\n",
       "    <tr>\n",
       "      <th>3</th>\n",
       "      <td>10249/14</td>\n",
       "      <td>10249</td>\n",
       "      <td>14</td>\n",
       "      <td>18.6</td>\n",
       "      <td>9</td>\n",
       "      <td>0.0</td>\n",
       "    </tr>\n",
       "    <tr>\n",
       "      <th>4</th>\n",
       "      <td>10249/51</td>\n",
       "      <td>10249</td>\n",
       "      <td>51</td>\n",
       "      <td>42.4</td>\n",
       "      <td>40</td>\n",
       "      <td>0.0</td>\n",
       "    </tr>\n",
       "  </tbody>\n",
       "</table>\n",
       "</div>"
      ],
      "text/plain": [
       "         Id  OrderId  ProductId  UnitPrice  Quantity  Discount\n",
       "0  10248/11    10248         11       14.0        12       0.0\n",
       "1  10248/42    10248         42        9.8        10       0.0\n",
       "2  10248/72    10248         72       34.8         5       0.0\n",
       "3  10249/14    10249         14       18.6         9       0.0\n",
       "4  10249/51    10249         51       42.4        40       0.0"
      ]
     },
     "execution_count": 3,
     "metadata": {},
     "output_type": "execute_result"
    }
   ],
   "source": [
    "#Transform SQL data into DataFrame for the relevant table\n",
    "cur.execute(\"\"\"Select * FROM OrderDetail;\"\"\")\n",
    "order_df= pd.DataFrame(cur.fetchall())\n",
    "order_df.columns = [x[0] for x in cur.description]\n",
    "order_df.head()"
   ]
  },
  {
   "cell_type": "markdown",
   "metadata": {},
   "source": [
    "## EDA for Hypothesis 1"
   ]
  },
  {
   "cell_type": "code",
   "execution_count": 4,
   "metadata": {},
   "outputs": [
    {
     "name": "stdout",
     "output_type": "stream",
     "text": [
      "<class 'pandas.core.frame.DataFrame'>\n",
      "RangeIndex: 2155 entries, 0 to 2154\n",
      "Data columns (total 6 columns):\n",
      "Id           2155 non-null object\n",
      "OrderId      2155 non-null int64\n",
      "ProductId    2155 non-null int64\n",
      "UnitPrice    2155 non-null float64\n",
      "Quantity     2155 non-null int64\n",
      "Discount     2155 non-null float64\n",
      "dtypes: float64(2), int64(3), object(1)\n",
      "memory usage: 101.1+ KB\n"
     ]
    }
   ],
   "source": [
    "order_df.info()"
   ]
  },
  {
   "cell_type": "code",
   "execution_count": 5,
   "metadata": {
    "scrolled": true
   },
   "outputs": [
    {
     "data": {
      "text/html": [
       "<div>\n",
       "<style scoped>\n",
       "    .dataframe tbody tr th:only-of-type {\n",
       "        vertical-align: middle;\n",
       "    }\n",
       "\n",
       "    .dataframe tbody tr th {\n",
       "        vertical-align: top;\n",
       "    }\n",
       "\n",
       "    .dataframe thead th {\n",
       "        text-align: right;\n",
       "    }\n",
       "</style>\n",
       "<table border=\"1\" class=\"dataframe\">\n",
       "  <thead>\n",
       "    <tr style=\"text-align: right;\">\n",
       "      <th></th>\n",
       "      <th>OrderId</th>\n",
       "      <th>ProductId</th>\n",
       "      <th>UnitPrice</th>\n",
       "      <th>Quantity</th>\n",
       "      <th>Discount</th>\n",
       "    </tr>\n",
       "  </thead>\n",
       "  <tbody>\n",
       "    <tr>\n",
       "      <th>count</th>\n",
       "      <td>2155.000000</td>\n",
       "      <td>2155.000000</td>\n",
       "      <td>2155.000000</td>\n",
       "      <td>2155.000000</td>\n",
       "      <td>2155.000000</td>\n",
       "    </tr>\n",
       "    <tr>\n",
       "      <th>mean</th>\n",
       "      <td>10659.375870</td>\n",
       "      <td>40.793039</td>\n",
       "      <td>26.218520</td>\n",
       "      <td>23.812993</td>\n",
       "      <td>0.056167</td>\n",
       "    </tr>\n",
       "    <tr>\n",
       "      <th>std</th>\n",
       "      <td>241.378032</td>\n",
       "      <td>22.159019</td>\n",
       "      <td>29.827418</td>\n",
       "      <td>19.022047</td>\n",
       "      <td>0.083450</td>\n",
       "    </tr>\n",
       "    <tr>\n",
       "      <th>min</th>\n",
       "      <td>10248.000000</td>\n",
       "      <td>1.000000</td>\n",
       "      <td>2.000000</td>\n",
       "      <td>1.000000</td>\n",
       "      <td>0.000000</td>\n",
       "    </tr>\n",
       "    <tr>\n",
       "      <th>25%</th>\n",
       "      <td>10451.000000</td>\n",
       "      <td>22.000000</td>\n",
       "      <td>12.000000</td>\n",
       "      <td>10.000000</td>\n",
       "      <td>0.000000</td>\n",
       "    </tr>\n",
       "    <tr>\n",
       "      <th>50%</th>\n",
       "      <td>10657.000000</td>\n",
       "      <td>41.000000</td>\n",
       "      <td>18.400000</td>\n",
       "      <td>20.000000</td>\n",
       "      <td>0.000000</td>\n",
       "    </tr>\n",
       "    <tr>\n",
       "      <th>75%</th>\n",
       "      <td>10862.500000</td>\n",
       "      <td>60.000000</td>\n",
       "      <td>32.000000</td>\n",
       "      <td>30.000000</td>\n",
       "      <td>0.100000</td>\n",
       "    </tr>\n",
       "    <tr>\n",
       "      <th>max</th>\n",
       "      <td>11077.000000</td>\n",
       "      <td>77.000000</td>\n",
       "      <td>263.500000</td>\n",
       "      <td>130.000000</td>\n",
       "      <td>0.250000</td>\n",
       "    </tr>\n",
       "  </tbody>\n",
       "</table>\n",
       "</div>"
      ],
      "text/plain": [
       "            OrderId    ProductId    UnitPrice     Quantity     Discount\n",
       "count   2155.000000  2155.000000  2155.000000  2155.000000  2155.000000\n",
       "mean   10659.375870    40.793039    26.218520    23.812993     0.056167\n",
       "std      241.378032    22.159019    29.827418    19.022047     0.083450\n",
       "min    10248.000000     1.000000     2.000000     1.000000     0.000000\n",
       "25%    10451.000000    22.000000    12.000000    10.000000     0.000000\n",
       "50%    10657.000000    41.000000    18.400000    20.000000     0.000000\n",
       "75%    10862.500000    60.000000    32.000000    30.000000     0.100000\n",
       "max    11077.000000    77.000000   263.500000   130.000000     0.250000"
      ]
     },
     "execution_count": 5,
     "metadata": {},
     "output_type": "execute_result"
    }
   ],
   "source": [
    "order_df.describe()"
   ]
  },
  {
   "cell_type": "markdown",
   "metadata": {},
   "source": [
    "My immediate impression of the data is that there are 2155 orders that were made and kept in this table. There are 77 different products, and the discounts range from none to 25%.  "
   ]
  },
  {
   "cell_type": "code",
   "execution_count": 6,
   "metadata": {},
   "outputs": [
    {
     "data": {
      "image/png": "[encoded data removed]",
      "text/plain": [
       "<Figure size 432x288 with 1 Axes>"
      ]
     },
     "metadata": {
      "needs_background": "light"
     },
     "output_type": "display_data"
    }
   ],
   "source": [
    "plt.scatter(order_df.Discount, order_df.Quantity)\n",
    "plt.title(\"Order Quantity Categorized by Discount Level\")\n",
    "plt.xlabel(\"Discount Percentage\")\n",
    "plt.ylabel(\"Order Quantity\");"
   ]
  },
  {
   "cell_type": "markdown",
   "metadata": {},
   "source": [
    "The scatter plot shows that its pretty evenly distributed among each discount level, though there are a few smaller dicounts that only have a few orders. "
   ]
  },
  {
   "cell_type": "code",
   "execution_count": 7,
   "metadata": {
    "scrolled": true
   },
   "outputs": [
    {
     "name": "stderr",
     "output_type": "stream",
     "text": [
      "/Users/Allie/anaconda3/envs/learn-env/lib/python3.6/site-packages/scipy/stats/stats.py:1713: FutureWarning: Using a non-tuple sequence for multidimensional indexing is deprecated; use `arr[tuple(seq)]` instead of `arr[seq]`. In the future this will be interpreted as an array index, `arr[np.array(seq)]`, which will result either in an error or a different result.\n",
      "  return np.add.reduce(sorted[indexer] * weights, axis=axis) / sumval\n"
     ]
    },
    {
     "data": {
      "image/png": "[encoded data removed]",
      "text/plain": [
       "<Figure size 432x288 with 1 Axes>"
      ]
     },
     "metadata": {
      "needs_background": "light"
     },
     "output_type": "display_data"
    }
   ],
   "source": [
    "#Checking the distribution of order quantity\n",
    "sns.distplot(order_df.Quantity)\n",
    "plt.title(\"Distribution of Order Quantity\");"
   ]
  },
  {
   "cell_type": "code",
   "execution_count": 8,
   "metadata": {},
   "outputs": [
    {
     "name": "stderr",
     "output_type": "stream",
     "text": [
      "/Users/Allie/anaconda3/envs/learn-env/lib/python3.6/site-packages/scipy/stats/stats.py:1713: FutureWarning: Using a non-tuple sequence for multidimensional indexing is deprecated; use `arr[tuple(seq)]` instead of `arr[seq]`. In the future this will be interpreted as an array index, `arr[np.array(seq)]`, which will result either in an error or a different result.\n",
      "  return np.add.reduce(sorted[indexer] * weights, axis=axis) / sumval\n"
     ]
    },
    {
     "data": {
      "image/png": "[encoded data removed]",
      "text/plain": [
       "<Figure size 432x288 with 1 Axes>"
      ]
     },
     "metadata": {
      "needs_background": "light"
     },
     "output_type": "display_data"
    }
   ],
   "source": [
    "#Fulfilling the assumption that the data follows a normal distribution\n",
    "sns.distplot(order_df.Quantity.apply(np.log))\n",
    "plt.title(f\"Distribution of Order Quantity (NORMALIZED)\");"
   ]
  },
  {
   "cell_type": "markdown",
   "metadata": {},
   "source": [
    "The distribution of order quantity is relatively normal, though a bit skewed to the right. "
   ]
  },
  {
   "cell_type": "code",
   "execution_count": 9,
   "metadata": {},
   "outputs": [
    {
     "data": {
      "text/plain": [
       "830"
      ]
     },
     "execution_count": 9,
     "metadata": {},
     "output_type": "execute_result"
    }
   ],
   "source": [
    "len(order_df.OrderId.unique()) #There are 830 different orders made, multiple products per order"
   ]
  },
  {
   "cell_type": "code",
   "execution_count": 10,
   "metadata": {},
   "outputs": [],
   "source": [
    "order_discount_pivot = pd.pivot_table(order_df, \n",
    "                                      index=\"Discount\", \n",
    "                                      \n",
    "                                      columns='ProductId', \n",
    "                                      values=\"Quantity\",\n",
    "                                      fill_value=0.0, \n",
    "                                      margins=True)"
   ]
  },
  {
   "cell_type": "code",
   "execution_count": 11,
   "metadata": {},
   "outputs": [
    {
     "data": {
      "text/html": [
       "<div>\n",
       "<style scoped>\n",
       "    .dataframe tbody tr th:only-of-type {\n",
       "        vertical-align: middle;\n",
       "    }\n",
       "\n",
       "    .dataframe tbody tr th {\n",
       "        vertical-align: top;\n",
       "    }\n",
       "\n",
       "    .dataframe thead th {\n",
       "        text-align: right;\n",
       "    }\n",
       "</style>\n",
       "<table border=\"1\" class=\"dataframe\">\n",
       "  <thead>\n",
       "    <tr style=\"text-align: right;\">\n",
       "      <th>ProductId</th>\n",
       "      <th>1</th>\n",
       "      <th>2</th>\n",
       "      <th>3</th>\n",
       "      <th>4</th>\n",
       "      <th>5</th>\n",
       "      <th>6</th>\n",
       "      <th>7</th>\n",
       "      <th>8</th>\n",
       "      <th>9</th>\n",
       "      <th>10</th>\n",
       "      <th>...</th>\n",
       "      <th>69</th>\n",
       "      <th>70</th>\n",
       "      <th>71</th>\n",
       "      <th>72</th>\n",
       "      <th>73</th>\n",
       "      <th>74</th>\n",
       "      <th>75</th>\n",
       "      <th>76</th>\n",
       "      <th>77</th>\n",
       "      <th>All</th>\n",
       "    </tr>\n",
       "    <tr>\n",
       "      <th>Discount</th>\n",
       "      <th></th>\n",
       "      <th></th>\n",
       "      <th></th>\n",
       "      <th></th>\n",
       "      <th></th>\n",
       "      <th></th>\n",
       "      <th></th>\n",
       "      <th></th>\n",
       "      <th></th>\n",
       "      <th></th>\n",
       "      <th></th>\n",
       "      <th></th>\n",
       "      <th></th>\n",
       "      <th></th>\n",
       "      <th></th>\n",
       "      <th></th>\n",
       "      <th></th>\n",
       "      <th></th>\n",
       "      <th></th>\n",
       "      <th></th>\n",
       "      <th></th>\n",
       "    </tr>\n",
       "  </thead>\n",
       "  <tbody>\n",
       "    <tr>\n",
       "      <th>0.0</th>\n",
       "      <td>17.772727</td>\n",
       "      <td>21.473684</td>\n",
       "      <td>28.800000</td>\n",
       "      <td>17.20</td>\n",
       "      <td>29.333333</td>\n",
       "      <td>26.750000</td>\n",
       "      <td>29.904762</td>\n",
       "      <td>30</td>\n",
       "      <td>4.5</td>\n",
       "      <td>19.454545</td>\n",
       "      <td>...</td>\n",
       "      <td>18.500000</td>\n",
       "      <td>19.043478</td>\n",
       "      <td>21.800000</td>\n",
       "      <td>19.677419</td>\n",
       "      <td>22.125000</td>\n",
       "      <td>22.600000</td>\n",
       "      <td>21.758621</td>\n",
       "      <td>22.730769</td>\n",
       "      <td>17.869565</td>\n",
       "      <td>21.715262</td>\n",
       "    </tr>\n",
       "    <tr>\n",
       "      <th>0.01</th>\n",
       "      <td>0.000000</td>\n",
       "      <td>0.000000</td>\n",
       "      <td>0.000000</td>\n",
       "      <td>0.00</td>\n",
       "      <td>0.000000</td>\n",
       "      <td>0.000000</td>\n",
       "      <td>0.000000</td>\n",
       "      <td>0</td>\n",
       "      <td>0.0</td>\n",
       "      <td>0.000000</td>\n",
       "      <td>...</td>\n",
       "      <td>0.000000</td>\n",
       "      <td>0.000000</td>\n",
       "      <td>0.000000</td>\n",
       "      <td>0.000000</td>\n",
       "      <td>2.000000</td>\n",
       "      <td>0.000000</td>\n",
       "      <td>0.000000</td>\n",
       "      <td>0.000000</td>\n",
       "      <td>0.000000</td>\n",
       "      <td>2.000000</td>\n",
       "    </tr>\n",
       "    <tr>\n",
       "      <th>0.02</th>\n",
       "      <td>0.000000</td>\n",
       "      <td>0.000000</td>\n",
       "      <td>0.000000</td>\n",
       "      <td>0.00</td>\n",
       "      <td>0.000000</td>\n",
       "      <td>1.000000</td>\n",
       "      <td>0.000000</td>\n",
       "      <td>0</td>\n",
       "      <td>0.0</td>\n",
       "      <td>0.000000</td>\n",
       "      <td>...</td>\n",
       "      <td>0.000000</td>\n",
       "      <td>0.000000</td>\n",
       "      <td>0.000000</td>\n",
       "      <td>0.000000</td>\n",
       "      <td>0.000000</td>\n",
       "      <td>0.000000</td>\n",
       "      <td>0.000000</td>\n",
       "      <td>0.000000</td>\n",
       "      <td>0.000000</td>\n",
       "      <td>2.000000</td>\n",
       "    </tr>\n",
       "    <tr>\n",
       "      <th>0.03</th>\n",
       "      <td>0.000000</td>\n",
       "      <td>0.000000</td>\n",
       "      <td>0.000000</td>\n",
       "      <td>0.00</td>\n",
       "      <td>0.000000</td>\n",
       "      <td>0.000000</td>\n",
       "      <td>0.000000</td>\n",
       "      <td>0</td>\n",
       "      <td>0.0</td>\n",
       "      <td>0.000000</td>\n",
       "      <td>...</td>\n",
       "      <td>0.000000</td>\n",
       "      <td>0.000000</td>\n",
       "      <td>0.000000</td>\n",
       "      <td>0.000000</td>\n",
       "      <td>0.000000</td>\n",
       "      <td>0.000000</td>\n",
       "      <td>0.000000</td>\n",
       "      <td>0.000000</td>\n",
       "      <td>0.000000</td>\n",
       "      <td>1.666667</td>\n",
       "    </tr>\n",
       "    <tr>\n",
       "      <th>0.04</th>\n",
       "      <td>0.000000</td>\n",
       "      <td>0.000000</td>\n",
       "      <td>0.000000</td>\n",
       "      <td>0.00</td>\n",
       "      <td>0.000000</td>\n",
       "      <td>0.000000</td>\n",
       "      <td>0.000000</td>\n",
       "      <td>0</td>\n",
       "      <td>0.0</td>\n",
       "      <td>0.000000</td>\n",
       "      <td>...</td>\n",
       "      <td>0.000000</td>\n",
       "      <td>0.000000</td>\n",
       "      <td>0.000000</td>\n",
       "      <td>0.000000</td>\n",
       "      <td>0.000000</td>\n",
       "      <td>0.000000</td>\n",
       "      <td>0.000000</td>\n",
       "      <td>0.000000</td>\n",
       "      <td>0.000000</td>\n",
       "      <td>1.000000</td>\n",
       "    </tr>\n",
       "    <tr>\n",
       "      <th>0.05</th>\n",
       "      <td>20.000000</td>\n",
       "      <td>16.666667</td>\n",
       "      <td>0.000000</td>\n",
       "      <td>50.00</td>\n",
       "      <td>0.000000</td>\n",
       "      <td>33.000000</td>\n",
       "      <td>13.000000</td>\n",
       "      <td>0</td>\n",
       "      <td>0.0</td>\n",
       "      <td>20.000000</td>\n",
       "      <td>...</td>\n",
       "      <td>31.666667</td>\n",
       "      <td>21.000000</td>\n",
       "      <td>30.000000</td>\n",
       "      <td>20.000000</td>\n",
       "      <td>24.000000</td>\n",
       "      <td>0.000000</td>\n",
       "      <td>70.000000</td>\n",
       "      <td>33.000000</td>\n",
       "      <td>38.200000</td>\n",
       "      <td>28.010811</td>\n",
       "    </tr>\n",
       "    <tr>\n",
       "      <th>0.06</th>\n",
       "      <td>0.000000</td>\n",
       "      <td>0.000000</td>\n",
       "      <td>0.000000</td>\n",
       "      <td>0.00</td>\n",
       "      <td>0.000000</td>\n",
       "      <td>0.000000</td>\n",
       "      <td>0.000000</td>\n",
       "      <td>0</td>\n",
       "      <td>0.0</td>\n",
       "      <td>0.000000</td>\n",
       "      <td>...</td>\n",
       "      <td>0.000000</td>\n",
       "      <td>0.000000</td>\n",
       "      <td>0.000000</td>\n",
       "      <td>0.000000</td>\n",
       "      <td>0.000000</td>\n",
       "      <td>0.000000</td>\n",
       "      <td>0.000000</td>\n",
       "      <td>0.000000</td>\n",
       "      <td>0.000000</td>\n",
       "      <td>2.000000</td>\n",
       "    </tr>\n",
       "    <tr>\n",
       "      <th>0.1</th>\n",
       "      <td>10.000000</td>\n",
       "      <td>20.000000</td>\n",
       "      <td>20.000000</td>\n",
       "      <td>22.50</td>\n",
       "      <td>15.000000</td>\n",
       "      <td>0.000000</td>\n",
       "      <td>20.000000</td>\n",
       "      <td>2</td>\n",
       "      <td>20.0</td>\n",
       "      <td>19.000000</td>\n",
       "      <td>...</td>\n",
       "      <td>21.333333</td>\n",
       "      <td>26.750000</td>\n",
       "      <td>24.500000</td>\n",
       "      <td>26.333333</td>\n",
       "      <td>20.000000</td>\n",
       "      <td>0.000000</td>\n",
       "      <td>20.600000</td>\n",
       "      <td>30.000000</td>\n",
       "      <td>24.000000</td>\n",
       "      <td>25.236994</td>\n",
       "    </tr>\n",
       "    <tr>\n",
       "      <th>0.15</th>\n",
       "      <td>19.600000</td>\n",
       "      <td>25.000000</td>\n",
       "      <td>0.000000</td>\n",
       "      <td>50.00</td>\n",
       "      <td>0.000000</td>\n",
       "      <td>0.000000</td>\n",
       "      <td>26.500000</td>\n",
       "      <td>15</td>\n",
       "      <td>16.0</td>\n",
       "      <td>49.333333</td>\n",
       "      <td>...</td>\n",
       "      <td>20.000000</td>\n",
       "      <td>29.000000</td>\n",
       "      <td>20.000000</td>\n",
       "      <td>27.500000</td>\n",
       "      <td>25.000000</td>\n",
       "      <td>20.000000</td>\n",
       "      <td>13.000000</td>\n",
       "      <td>27.000000</td>\n",
       "      <td>15.000000</td>\n",
       "      <td>28.382166</td>\n",
       "    </tr>\n",
       "    <tr>\n",
       "      <th>0.2</th>\n",
       "      <td>42.500000</td>\n",
       "      <td>24.700000</td>\n",
       "      <td>0.000000</td>\n",
       "      <td>18.00</td>\n",
       "      <td>38.500000</td>\n",
       "      <td>0.000000</td>\n",
       "      <td>10.000000</td>\n",
       "      <td>30</td>\n",
       "      <td>0.0</td>\n",
       "      <td>25.000000</td>\n",
       "      <td>...</td>\n",
       "      <td>27.250000</td>\n",
       "      <td>27.333333</td>\n",
       "      <td>44.750000</td>\n",
       "      <td>0.000000</td>\n",
       "      <td>20.000000</td>\n",
       "      <td>0.000000</td>\n",
       "      <td>30.166667</td>\n",
       "      <td>47.000000</td>\n",
       "      <td>2.000000</td>\n",
       "      <td>27.024845</td>\n",
       "    </tr>\n",
       "    <tr>\n",
       "      <th>0.25</th>\n",
       "      <td>27.800000</td>\n",
       "      <td>34.500000</td>\n",
       "      <td>0.000000</td>\n",
       "      <td>27.50</td>\n",
       "      <td>30.000000</td>\n",
       "      <td>20.000000</td>\n",
       "      <td>0.000000</td>\n",
       "      <td>70</td>\n",
       "      <td>50.0</td>\n",
       "      <td>18.000000</td>\n",
       "      <td>...</td>\n",
       "      <td>36.666667</td>\n",
       "      <td>17.250000</td>\n",
       "      <td>32.500000</td>\n",
       "      <td>42.000000</td>\n",
       "      <td>0.000000</td>\n",
       "      <td>25.500000</td>\n",
       "      <td>4.000000</td>\n",
       "      <td>20.500000</td>\n",
       "      <td>23.333333</td>\n",
       "      <td>28.240260</td>\n",
       "    </tr>\n",
       "    <tr>\n",
       "      <th>All</th>\n",
       "      <td>21.789474</td>\n",
       "      <td>24.022727</td>\n",
       "      <td>27.333333</td>\n",
       "      <td>22.65</td>\n",
       "      <td>29.800000</td>\n",
       "      <td>25.083333</td>\n",
       "      <td>26.310345</td>\n",
       "      <td>28</td>\n",
       "      <td>19.0</td>\n",
       "      <td>22.484848</td>\n",
       "      <td>...</td>\n",
       "      <td>23.032258</td>\n",
       "      <td>20.948718</td>\n",
       "      <td>25.166667</td>\n",
       "      <td>21.210526</td>\n",
       "      <td>20.928571</td>\n",
       "      <td>22.846154</td>\n",
       "      <td>25.108696</td>\n",
       "      <td>25.153846</td>\n",
       "      <td>20.815789</td>\n",
       "      <td>23.812993</td>\n",
       "    </tr>\n",
       "  </tbody>\n",
       "</table>\n",
       "<p>12 rows × 78 columns</p>\n",
       "</div>"
      ],
      "text/plain": [
       "ProductId          1          2          3      4          5          6  \\\n",
       "Discount                                                                  \n",
       "0.0        17.772727  21.473684  28.800000  17.20  29.333333  26.750000   \n",
       "0.01        0.000000   0.000000   0.000000   0.00   0.000000   0.000000   \n",
       "0.02        0.000000   0.000000   0.000000   0.00   0.000000   1.000000   \n",
       "0.03        0.000000   0.000000   0.000000   0.00   0.000000   0.000000   \n",
       "0.04        0.000000   0.000000   0.000000   0.00   0.000000   0.000000   \n",
       "0.05       20.000000  16.666667   0.000000  50.00   0.000000  33.000000   \n",
       "0.06        0.000000   0.000000   0.000000   0.00   0.000000   0.000000   \n",
       "0.1        10.000000  20.000000  20.000000  22.50  15.000000   0.000000   \n",
       "0.15       19.600000  25.000000   0.000000  50.00   0.000000   0.000000   \n",
       "0.2        42.500000  24.700000   0.000000  18.00  38.500000   0.000000   \n",
       "0.25       27.800000  34.500000   0.000000  27.50  30.000000  20.000000   \n",
       "All        21.789474  24.022727  27.333333  22.65  29.800000  25.083333   \n",
       "\n",
       "ProductId          7   8     9         10    ...             69         70  \\\n",
       "Discount                                     ...                             \n",
       "0.0        29.904762  30   4.5  19.454545    ...      18.500000  19.043478   \n",
       "0.01        0.000000   0   0.0   0.000000    ...       0.000000   0.000000   \n",
       "0.02        0.000000   0   0.0   0.000000    ...       0.000000   0.000000   \n",
       "0.03        0.000000   0   0.0   0.000000    ...       0.000000   0.000000   \n",
       "0.04        0.000000   0   0.0   0.000000    ...       0.000000   0.000000   \n",
       "0.05       13.000000   0   0.0  20.000000    ...      31.666667  21.000000   \n",
       "0.06        0.000000   0   0.0   0.000000    ...       0.000000   0.000000   \n",
       "0.1        20.000000   2  20.0  19.000000    ...      21.333333  26.750000   \n",
       "0.15       26.500000  15  16.0  49.333333    ...      20.000000  29.000000   \n",
       "0.2        10.000000  30   0.0  25.000000    ...      27.250000  27.333333   \n",
       "0.25        0.000000  70  50.0  18.000000    ...      36.666667  17.250000   \n",
       "All        26.310345  28  19.0  22.484848    ...      23.032258  20.948718   \n",
       "\n",
       "ProductId         71         72         73         74         75         76  \\\n",
       "Discount                                                                      \n",
       "0.0        21.800000  19.677419  22.125000  22.600000  21.758621  22.730769   \n",
       "0.01        0.000000   0.000000   2.000000   0.000000   0.000000   0.000000   \n",
       "0.02        0.000000   0.000000   0.000000   0.000000   0.000000   0.000000   \n",
       "0.03        0.000000   0.000000   0.000000   0.000000   0.000000   0.000000   \n",
       "0.04        0.000000   0.000000   0.000000   0.000000   0.000000   0.000000   \n",
       "0.05       30.000000  20.000000  24.000000   0.000000  70.000000  33.000000   \n",
       "0.06        0.000000   0.000000   0.000000   0.000000   0.000000   0.000000   \n",
       "0.1        24.500000  26.333333  20.000000   0.000000  20.600000  30.000000   \n",
       "0.15       20.000000  27.500000  25.000000  20.000000  13.000000  27.000000   \n",
       "0.2        44.750000   0.000000  20.000000   0.000000  30.166667  47.000000   \n",
       "0.25       32.500000  42.000000   0.000000  25.500000   4.000000  20.500000   \n",
       "All        25.166667  21.210526  20.928571  22.846154  25.108696  25.153846   \n",
       "\n",
       "ProductId         77        All  \n",
       "Discount                         \n",
       "0.0        17.869565  21.715262  \n",
       "0.01        0.000000   2.000000  \n",
       "0.02        0.000000   2.000000  \n",
       "0.03        0.000000   1.666667  \n",
       "0.04        0.000000   1.000000  \n",
       "0.05       38.200000  28.010811  \n",
       "0.06        0.000000   2.000000  \n",
       "0.1        24.000000  25.236994  \n",
       "0.15       15.000000  28.382166  \n",
       "0.2         2.000000  27.024845  \n",
       "0.25       23.333333  28.240260  \n",
       "All        20.815789  23.812993  \n",
       "\n",
       "[12 rows x 78 columns]"
      ]
     },
     "execution_count": 11,
     "metadata": {},
     "output_type": "execute_result"
    }
   ],
   "source": [
    "order_discount_pivot"
   ]
  },
  {
   "cell_type": "markdown",
   "metadata": {},
   "source": [
    "This pivot table shows the average order quantity of each product based on discount. From afar, it does look more or less like the quantity increases based on discount level. First however, we'll test whether having a discount affects quantity in general. "
   ]
  },
  {
   "cell_type": "code",
   "execution_count": 12,
   "metadata": {},
   "outputs": [],
   "source": [
    "# Splitting DataFrame based on whether or not the order had a discount \n",
    "no_discount = order_df.query('Discount == 0.0')\n",
    "yes_discount = order_df.query('Discount > 0.0')"
   ]
  },
  {
   "cell_type": "code",
   "execution_count": 13,
   "metadata": {
    "scrolled": true
   },
   "outputs": [
    {
     "name": "stdout",
     "output_type": "stream",
     "text": [
      "Number of orders with a discount: 838\n",
      "Average order quantity on orders with discount applied: 27.11\n",
      "Number of orders without a discount: 1317\n",
      "Average order quantity on orders without discount applied: 21.72\n"
     ]
    }
   ],
   "source": [
    "print(f'Number of orders with a discount: {len(yes_discount)}')\n",
    "print(f'Average order quantity on orders with discount applied: {round(yes_discount.Quantity.mean(),2)}')\n",
    "\n",
    "print(f'Number of orders without a discount: {len(no_discount)}')\n",
    "print(f'Average order quantity on orders without discount applied: {round(no_discount.Quantity.mean(),2)}')\n"
   ]
  },
  {
   "cell_type": "markdown",
   "metadata": {},
   "source": [
    "## One-tailed T-Test"
   ]
  },
  {
   "cell_type": "code",
   "execution_count": 14,
   "metadata": {},
   "outputs": [],
   "source": [
    "alpha = .05 \n",
    "results = stats.ttest_ind(yes_discount.Quantity, no_discount.Quantity, equal_var=False)\n",
    "one_tailed_p = results[1]"
   ]
  },
  {
   "cell_type": "code",
   "execution_count": 15,
   "metadata": {},
   "outputs": [
    {
     "name": "stdout",
     "output_type": "stream",
     "text": [
      "With a p-value of 5.65641429030433e-10, we can safely reject the null hypothesis.\n"
     ]
    }
   ],
   "source": [
    "if one_tailed_p < alpha:\n",
    "    print(f'With a p-value of {one_tailed_p}, we can safely reject the null hypothesis.')\n",
    "else:\n",
    "    print('We cannot reject the null hypothesis.')"
   ]
  },
  {
   "cell_type": "code",
   "execution_count": 16,
   "metadata": {
    "scrolled": true
   },
   "outputs": [],
   "source": [
    "#Replace all discounts 6% or below with a 5% discount level because there are so few orders at those levels.\n",
    "to_replace = [.01, .02, .03, .04, .06]\n",
    "value = [.05, .05, .05, .05, .05]#if values to replace is a list, value MUST be the same length\n",
    "order_df.Discount.replace(to_replace=to_replace, value=value, inplace=True)"
   ]
  },
  {
   "cell_type": "markdown",
   "metadata": {},
   "source": [
    "## Calculate Effect Size of Discount with Cohen's D"
   ]
  },
  {
   "cell_type": "markdown",
   "metadata": {},
   "source": [
    "Cohen's D will tell us the discount that has the highest effect on order quantity. "
   ]
  },
  {
   "cell_type": "code",
   "execution_count": 17,
   "metadata": {},
   "outputs": [],
   "source": [
    "def Cohen_d(group1, group2):\n",
    "\n",
    "    # Compute Cohen's d.\n",
    "\n",
    "    # group1: Series or NumPy array\n",
    "    # group2: Series or NumPy array\n",
    "\n",
    "    # returns a floating point number \n",
    "\n",
    "    diff = group1.mean() - group2.mean()\n",
    "\n",
    "    n1, n2 = len(group1), len(group2)\n",
    "    var1 = group1.var()\n",
    "    var2 = group2.var()\n",
    "\n",
    "    # Calculate the pooled threshold as shown earlier\n",
    "    pooled_var = (n1 * var1 + n2 * var2) / (n1 + n2)\n",
    "    \n",
    "    # Calculate Cohen's d statistic\n",
    "    d = diff / np.sqrt(pooled_var)\n",
    "    \n",
    "    return d"
   ]
  },
  {
   "cell_type": "code",
   "execution_count": 18,
   "metadata": {},
   "outputs": [
    {
     "name": "stdout",
     "output_type": "stream",
     "text": [
      "The effect size of a 5.0 percent discount is 0.347\n",
      "The effect size of a 10.0 percent discount is 0.196\n",
      "The effect size of a 15.0 percent discount is 0.372\n",
      "The effect size of a 20.0 percent discount is 0.301\n",
      "The effect size of a 25.0 percent discount is 0.367\n"
     ]
    }
   ],
   "source": [
    "discounts = [0.05, 0.1, 0.15, 0.2, 0.25]\n",
    "\n",
    "for discount in discounts: \n",
    "    experiment = yes_discount.loc[yes_discount['Discount'] == discount].Quantity\n",
    "    control = no_discount.Quantity\n",
    "    cd = Cohen_d(experiment, control)\n",
    "    print(f'The effect size of a {discount * 100} percent discount is {round(cd, 3)}')"
   ]
  },
  {
   "cell_type": "markdown",
   "metadata": {},
   "source": [
    "The discount with the highest effect size is 15%, followed closely by a 25% discount. "
   ]
  },
  {
   "cell_type": "markdown",
   "metadata": {},
   "source": [
    "# Hypothesis 2"
   ]
  },
  {
   "cell_type": "markdown",
   "metadata": {},
   "source": [
    "$H_{0}$ The day of the week has no effect on order quantity. <br> \n",
    "$H_{1}$ The day of the week will cause a difference in order quantity. \n",
    "<br><br>\n",
    "This two-tailed t-test that aims to predict which items are most likely to be ordered (or not ordered) on certain days which would help mitigate any stock issues that could arise from under- or over-ordering. "
   ]
  },
  {
   "cell_type": "code",
   "execution_count": 19,
   "metadata": {
    "scrolled": false
   },
   "outputs": [
    {
     "data": {
      "text/html": [
       "<div>\n",
       "<style scoped>\n",
       "    .dataframe tbody tr th:only-of-type {\n",
       "        vertical-align: middle;\n",
       "    }\n",
       "\n",
       "    .dataframe tbody tr th {\n",
       "        vertical-align: top;\n",
       "    }\n",
       "\n",
       "    .dataframe thead th {\n",
       "        text-align: right;\n",
       "    }\n",
       "</style>\n",
       "<table border=\"1\" class=\"dataframe\">\n",
       "  <thead>\n",
       "    <tr style=\"text-align: right;\">\n",
       "      <th></th>\n",
       "      <th>ProductId</th>\n",
       "      <th>Quantity</th>\n",
       "      <th>OrderDate</th>\n",
       "    </tr>\n",
       "  </thead>\n",
       "  <tbody>\n",
       "    <tr>\n",
       "      <th>0</th>\n",
       "      <td>11</td>\n",
       "      <td>12</td>\n",
       "      <td>2012-07-04</td>\n",
       "    </tr>\n",
       "    <tr>\n",
       "      <th>1</th>\n",
       "      <td>42</td>\n",
       "      <td>10</td>\n",
       "      <td>2012-07-04</td>\n",
       "    </tr>\n",
       "    <tr>\n",
       "      <th>2</th>\n",
       "      <td>72</td>\n",
       "      <td>5</td>\n",
       "      <td>2012-07-04</td>\n",
       "    </tr>\n",
       "    <tr>\n",
       "      <th>3</th>\n",
       "      <td>14</td>\n",
       "      <td>9</td>\n",
       "      <td>2012-07-05</td>\n",
       "    </tr>\n",
       "    <tr>\n",
       "      <th>4</th>\n",
       "      <td>51</td>\n",
       "      <td>40</td>\n",
       "      <td>2012-07-05</td>\n",
       "    </tr>\n",
       "  </tbody>\n",
       "</table>\n",
       "</div>"
      ],
      "text/plain": [
       "   ProductId  Quantity   OrderDate\n",
       "0         11        12  2012-07-04\n",
       "1         42        10  2012-07-04\n",
       "2         72         5  2012-07-04\n",
       "3         14         9  2012-07-05\n",
       "4         51        40  2012-07-05"
      ]
     },
     "execution_count": 19,
     "metadata": {},
     "output_type": "execute_result"
    }
   ],
   "source": [
    "cur.execute(\"\"\"Select od.ProductId, od.Quantity, o.OrderDate\n",
    "               FROM OrderDetail AS od\n",
    "               JOIN 'Order' as o\n",
    "               ON o.Id = od.OrderID;\"\"\")\n",
    "order_df = pd.DataFrame(cur.fetchall()) \n",
    "order_df.columns = [i[0] for i in cur.description]\n",
    "order_df.head()"
   ]
  },
  {
   "cell_type": "code",
   "execution_count": 20,
   "metadata": {},
   "outputs": [],
   "source": [
    "#Adding a column that shows what day of the week the order was made\n",
    "order_df['OrderDate'] = pd.to_datetime(order_df.OrderDate)\n",
    "order_df['day_of_week'] = order_df['OrderDate'].dt.day_name()"
   ]
  },
  {
   "cell_type": "code",
   "execution_count": 21,
   "metadata": {
    "scrolled": true
   },
   "outputs": [
    {
     "data": {
      "text/html": [
       "<div>\n",
       "<style scoped>\n",
       "    .dataframe tbody tr th:only-of-type {\n",
       "        vertical-align: middle;\n",
       "    }\n",
       "\n",
       "    .dataframe tbody tr th {\n",
       "        vertical-align: top;\n",
       "    }\n",
       "\n",
       "    .dataframe thead th {\n",
       "        text-align: right;\n",
       "    }\n",
       "</style>\n",
       "<table border=\"1\" class=\"dataframe\">\n",
       "  <thead>\n",
       "    <tr style=\"text-align: right;\">\n",
       "      <th></th>\n",
       "      <th>ProductId</th>\n",
       "      <th>Quantity</th>\n",
       "      <th>OrderDate</th>\n",
       "      <th>day_of_week</th>\n",
       "    </tr>\n",
       "  </thead>\n",
       "  <tbody>\n",
       "    <tr>\n",
       "      <th>0</th>\n",
       "      <td>11</td>\n",
       "      <td>12</td>\n",
       "      <td>2012-07-04</td>\n",
       "      <td>Wednesday</td>\n",
       "    </tr>\n",
       "    <tr>\n",
       "      <th>1</th>\n",
       "      <td>42</td>\n",
       "      <td>10</td>\n",
       "      <td>2012-07-04</td>\n",
       "      <td>Wednesday</td>\n",
       "    </tr>\n",
       "    <tr>\n",
       "      <th>2</th>\n",
       "      <td>72</td>\n",
       "      <td>5</td>\n",
       "      <td>2012-07-04</td>\n",
       "      <td>Wednesday</td>\n",
       "    </tr>\n",
       "    <tr>\n",
       "      <th>3</th>\n",
       "      <td>14</td>\n",
       "      <td>9</td>\n",
       "      <td>2012-07-05</td>\n",
       "      <td>Thursday</td>\n",
       "    </tr>\n",
       "    <tr>\n",
       "      <th>4</th>\n",
       "      <td>51</td>\n",
       "      <td>40</td>\n",
       "      <td>2012-07-05</td>\n",
       "      <td>Thursday</td>\n",
       "    </tr>\n",
       "  </tbody>\n",
       "</table>\n",
       "</div>"
      ],
      "text/plain": [
       "   ProductId  Quantity  OrderDate day_of_week\n",
       "0         11        12 2012-07-04   Wednesday\n",
       "1         42        10 2012-07-04   Wednesday\n",
       "2         72         5 2012-07-04   Wednesday\n",
       "3         14         9 2012-07-05    Thursday\n",
       "4         51        40 2012-07-05    Thursday"
      ]
     },
     "execution_count": 21,
     "metadata": {},
     "output_type": "execute_result"
    }
   ],
   "source": [
    "order_df.head()"
   ]
  },
  {
   "cell_type": "code",
   "execution_count": 22,
   "metadata": {},
   "outputs": [],
   "source": [
    "# Normalizing Data\n",
    "order_df.Quantity = order_df.Quantity.apply(np.log)"
   ]
  },
  {
   "cell_type": "code",
   "execution_count": 23,
   "metadata": {
    "scrolled": false
   },
   "outputs": [
    {
     "data": {
      "text/html": [
       "<div>\n",
       "<style scoped>\n",
       "    .dataframe tbody tr th:only-of-type {\n",
       "        vertical-align: middle;\n",
       "    }\n",
       "\n",
       "    .dataframe tbody tr th {\n",
       "        vertical-align: top;\n",
       "    }\n",
       "\n",
       "    .dataframe thead th {\n",
       "        text-align: right;\n",
       "    }\n",
       "</style>\n",
       "<table border=\"1\" class=\"dataframe\">\n",
       "  <thead>\n",
       "    <tr style=\"text-align: right;\">\n",
       "      <th>day_of_week</th>\n",
       "      <th>Monday</th>\n",
       "      <th>Sunday</th>\n",
       "      <th>Thursday</th>\n",
       "      <th>Tuesday</th>\n",
       "      <th>Wednesday</th>\n",
       "      <th>All</th>\n",
       "    </tr>\n",
       "    <tr>\n",
       "      <th>ProductId</th>\n",
       "      <th></th>\n",
       "      <th></th>\n",
       "      <th></th>\n",
       "      <th></th>\n",
       "      <th></th>\n",
       "      <th></th>\n",
       "    </tr>\n",
       "  </thead>\n",
       "  <tbody>\n",
       "    <tr>\n",
       "      <th>1</th>\n",
       "      <td>2.858345</td>\n",
       "      <td>2.530896</td>\n",
       "      <td>2.786384</td>\n",
       "      <td>3.188748</td>\n",
       "      <td>2.595236</td>\n",
       "      <td>2.752432</td>\n",
       "    </tr>\n",
       "    <tr>\n",
       "      <th>2</th>\n",
       "      <td>2.389001</td>\n",
       "      <td>2.882278</td>\n",
       "      <td>3.183746</td>\n",
       "      <td>3.088090</td>\n",
       "      <td>3.361936</td>\n",
       "      <td>2.927838</td>\n",
       "    </tr>\n",
       "    <tr>\n",
       "      <th>3</th>\n",
       "      <td>2.995732</td>\n",
       "      <td>3.176210</td>\n",
       "      <td>3.443776</td>\n",
       "      <td>2.594408</td>\n",
       "      <td>0.000000</td>\n",
       "      <td>3.060314</td>\n",
       "    </tr>\n",
       "    <tr>\n",
       "      <th>4</th>\n",
       "      <td>2.652773</td>\n",
       "      <td>2.925201</td>\n",
       "      <td>3.733686</td>\n",
       "      <td>1.445186</td>\n",
       "      <td>3.154876</td>\n",
       "      <td>2.835876</td>\n",
       "    </tr>\n",
       "    <tr>\n",
       "      <th>5</th>\n",
       "      <td>2.995732</td>\n",
       "      <td>2.596478</td>\n",
       "      <td>3.180584</td>\n",
       "      <td>3.585060</td>\n",
       "      <td>0.000000</td>\n",
       "      <td>3.126173</td>\n",
       "    </tr>\n",
       "  </tbody>\n",
       "</table>\n",
       "</div>"
      ],
      "text/plain": [
       "day_of_week    Monday    Sunday  Thursday   Tuesday  Wednesday       All\n",
       "ProductId                                                               \n",
       "1            2.858345  2.530896  2.786384  3.188748   2.595236  2.752432\n",
       "2            2.389001  2.882278  3.183746  3.088090   3.361936  2.927838\n",
       "3            2.995732  3.176210  3.443776  2.594408   0.000000  3.060314\n",
       "4            2.652773  2.925201  3.733686  1.445186   3.154876  2.835876\n",
       "5            2.995732  2.596478  3.180584  3.585060   0.000000  3.126173"
      ]
     },
     "execution_count": 23,
     "metadata": {},
     "output_type": "execute_result"
    }
   ],
   "source": [
    "weekday_quantity_pivot = pd.pivot_table(order_df, \n",
    "                                      index=\"ProductId\", \n",
    "                                      columns='day_of_week', \n",
    "                                      values=\"Quantity\",\n",
    "                                      fill_value=0.0, \n",
    "                                      margins=True)\n",
    "weekday_quantity_pivot.head()"
   ]
  },
  {
   "cell_type": "markdown",
   "metadata": {},
   "source": [
    "This pivot table shows the average order quantity per product per day of the week, with the last column showing average order quantities across all days of the week. The following process will demonstrate which days have significantly higher or lower order quantities as compared to the average order for that product."
   ]
  },
  {
   "cell_type": "code",
   "execution_count": 24,
   "metadata": {
    "scrolled": false
   },
   "outputs": [
    {
     "data": {
      "text/html": [
       "<div>\n",
       "<style scoped>\n",
       "    .dataframe tbody tr th:only-of-type {\n",
       "        vertical-align: middle;\n",
       "    }\n",
       "\n",
       "    .dataframe tbody tr th {\n",
       "        vertical-align: top;\n",
       "    }\n",
       "\n",
       "    .dataframe thead th {\n",
       "        text-align: right;\n",
       "    }\n",
       "</style>\n",
       "<table border=\"1\" class=\"dataframe\">\n",
       "  <thead>\n",
       "    <tr style=\"text-align: right;\">\n",
       "      <th></th>\n",
       "      <th>ProductId</th>\n",
       "      <th>Monday</th>\n",
       "      <th>Sunday</th>\n",
       "      <th>Thursday</th>\n",
       "      <th>Tuesday</th>\n",
       "      <th>Wednesday</th>\n",
       "      <th>All</th>\n",
       "    </tr>\n",
       "  </thead>\n",
       "  <tbody>\n",
       "    <tr>\n",
       "      <th>0</th>\n",
       "      <td>1</td>\n",
       "      <td>2.858345</td>\n",
       "      <td>2.530896</td>\n",
       "      <td>2.786384</td>\n",
       "      <td>3.188748</td>\n",
       "      <td>2.595236</td>\n",
       "      <td>2.752432</td>\n",
       "    </tr>\n",
       "    <tr>\n",
       "      <th>1</th>\n",
       "      <td>2</td>\n",
       "      <td>2.389001</td>\n",
       "      <td>2.882278</td>\n",
       "      <td>3.183746</td>\n",
       "      <td>3.088090</td>\n",
       "      <td>3.361936</td>\n",
       "      <td>2.927838</td>\n",
       "    </tr>\n",
       "    <tr>\n",
       "      <th>2</th>\n",
       "      <td>3</td>\n",
       "      <td>2.995732</td>\n",
       "      <td>3.176210</td>\n",
       "      <td>3.443776</td>\n",
       "      <td>2.594408</td>\n",
       "      <td>0.000000</td>\n",
       "      <td>3.060314</td>\n",
       "    </tr>\n",
       "    <tr>\n",
       "      <th>3</th>\n",
       "      <td>4</td>\n",
       "      <td>2.652773</td>\n",
       "      <td>2.925201</td>\n",
       "      <td>3.733686</td>\n",
       "      <td>1.445186</td>\n",
       "      <td>3.154876</td>\n",
       "      <td>2.835876</td>\n",
       "    </tr>\n",
       "    <tr>\n",
       "      <th>4</th>\n",
       "      <td>5</td>\n",
       "      <td>2.995732</td>\n",
       "      <td>2.596478</td>\n",
       "      <td>3.180584</td>\n",
       "      <td>3.585060</td>\n",
       "      <td>0.000000</td>\n",
       "      <td>3.126173</td>\n",
       "    </tr>\n",
       "  </tbody>\n",
       "</table>\n",
       "</div>"
      ],
      "text/plain": [
       "  ProductId    Monday    Sunday  Thursday   Tuesday  Wednesday       All\n",
       "0         1  2.858345  2.530896  2.786384  3.188748   2.595236  2.752432\n",
       "1         2  2.389001  2.882278  3.183746  3.088090   3.361936  2.927838\n",
       "2         3  2.995732  3.176210  3.443776  2.594408   0.000000  3.060314\n",
       "3         4  2.652773  2.925201  3.733686  1.445186   3.154876  2.835876\n",
       "4         5  2.995732  2.596478  3.180584  3.585060   0.000000  3.126173"
      ]
     },
     "execution_count": 24,
     "metadata": {},
     "output_type": "execute_result"
    }
   ],
   "source": [
    "#Making a dataframe from the pivot table\n",
    "weekday_quantity = pd.DataFrame(weekday_quantity_pivot.to_records())\n",
    "weekday_quantity.drop(77, axis=0, inplace=True)\n",
    "weekday_quantity.head()"
   ]
  },
  {
   "cell_type": "code",
   "execution_count": 25,
   "metadata": {
    "scrolled": true
   },
   "outputs": [
    {
     "data": {
      "image/png": "[encoded data removed]",
      "text/plain": [
       "<Figure size 1440x432 with 1 Axes>"
      ]
     },
     "metadata": {
      "needs_background": "light"
     },
     "output_type": "display_data"
    },
    {
     "data": {
      "image/png": "[encoded data removed]",
      "text/plain": [
       "<Figure size 1440x432 with 1 Axes>"
      ]
     },
     "metadata": {
      "needs_background": "light"
     },
     "output_type": "display_data"
    },
    {
     "data": {
      "image/png": "[encoded data removed]",
      "text/plain": [
       "<Figure size 1440x432 with 1 Axes>"
      ]
     },
     "metadata": {
      "needs_background": "light"
     },
     "output_type": "display_data"
    },
    {
     "data": {
      "image/png": "[encoded data removed]",
      "text/plain": [
       "<Figure size 1440x432 with 1 Axes>"
      ]
     },
     "metadata": {
      "needs_background": "light"
     },
     "output_type": "display_data"
    },
    {
     "data": {
      "image/png": "[encoded data removed]",
      "text/plain": [
       "<Figure size 1440x432 with 1 Axes>"
      ]
     },
     "metadata": {
      "needs_background": "light"
     },
     "output_type": "display_data"
    }
   ],
   "source": [
    "order_days = [\"Monday\", \"Tuesday\", \"Wednesday\", \"Thursday\", \"Sunday\"] #No orders on Friday or Saturday\n",
    "for day in order_days:     \n",
    "    \n",
    "    fig = plt.figure(figsize=(20, 6))\n",
    "    ax = fig.add_subplot(111)\n",
    "    sns.barplot(weekday_quantity.ProductId, weekday_quantity[day], palette=\"deep\")\n",
    "    ax.set_xticks(range(0,78,1))\n",
    "    ax.set_xticklabels( range(1,78,1), rotation=45)\n",
    "    for tick in ax.xaxis.get_major_ticks()[1::2]:\n",
    "        tick.set_pad(15)\n",
    "    plt.xlabel(\"Product ID Number\")\n",
    "    plt.ylabel(\"Quantity Ordered\")\n",
    "    plt.title(f\"Average Order Quantity per Product On {day}s\");"
   ]
  },
  {
   "cell_type": "markdown",
   "metadata": {},
   "source": [
    "The previous graphs illustrate average order quantity per day per product for each order day. The colors do not represent anything and are used to make it easier to read. From this, we can see that certain products have never been ordered on certain days, and that some days vary drastically. Tuesday generally seems to have lower quantities. \n",
    "\n",
    "<b>ONE THING TO KEEP IN MIND:</b> The scale is different for each day of the week, depending on the range of order quantities. This can be misleading. \n",
    "\n",
    "The following code is written in order to conduct a one sample, two tailed T-test for every product that was ordered for each day of the week, then put it concisely in a dataframe."
   ]
  },
  {
   "cell_type": "code",
   "execution_count": 26,
   "metadata": {},
   "outputs": [
    {
     "name": "stderr",
     "output_type": "stream",
     "text": [
      "/Users/Allie/anaconda3/envs/learn-env/lib/python3.6/site-packages/numpy/core/fromnumeric.py:3367: RuntimeWarning: Degrees of freedom <= 0 for slice\n",
      "  **kwargs)\n",
      "/Users/Allie/anaconda3/envs/learn-env/lib/python3.6/site-packages/numpy/core/_methods.py:132: RuntimeWarning: invalid value encountered in double_scalars\n",
      "  ret = ret.dtype.type(ret / rcount)\n",
      "/Users/Allie/anaconda3/envs/learn-env/lib/python3.6/site-packages/numpy/core/fromnumeric.py:3118: RuntimeWarning: Mean of empty slice.\n",
      "  out=out, **kwargs)\n",
      "/Users/Allie/anaconda3/envs/learn-env/lib/python3.6/site-packages/numpy/core/_methods.py:85: RuntimeWarning: invalid value encountered in double_scalars\n",
      "  ret = ret.dtype.type(ret / rcount)\n",
      "/Users/Allie/anaconda3/envs/learn-env/lib/python3.6/site-packages/numpy/core/_methods.py:110: RuntimeWarning: invalid value encountered in true_divide\n",
      "  arrmean, rcount, out=arrmean, casting='unsafe', subok=False)\n"
     ]
    }
   ],
   "source": [
    "\n",
    "pop_means = weekday_quantity.All # Population mean\n",
    "alpha = .05 # Significance level\n",
    "\n",
    "\n",
    "p_vals = []\n",
    "d_o_w = []\n",
    "significant_or_not = []\n",
    "difference = []\n",
    "for day in order_days:\n",
    "    day_order = order_df.loc[order_df[\"day_of_week\"] == day] #sort by day\n",
    "    for i in np.arange(1,78): # Sort by product ID\n",
    "        pop_mean = pop_means[i-1] #Population mean series begins at 0\n",
    "        a = day_order.loc[day_order[\"ProductId\"]==i].Quantity\n",
    "        difference.append(a.mean()-pop_mean)\n",
    "        T, two_tailed_p = stats.ttest_1samp(a=a, popmean=pop_mean)\n",
    "        p_vals.append(round(two_tailed_p,2))\n",
    "        d_o_w.append(day)\n",
    "        if alpha > two_tailed_p/2:\n",
    "            significant_or_not.append(True)\n",
    "        else:\n",
    "            significant_or_not.append(False)    \n",
    "            \n",
    "results_df = pd.DataFrame([p_vals, d_o_w, significant_or_not, difference]).transpose()\n",
    "results_df.columns = ['PVal', \"Day\", \"RejectNull\", \"Difference\"]"
   ]
  },
  {
   "cell_type": "code",
   "execution_count": 27,
   "metadata": {},
   "outputs": [],
   "source": [
    "# This cell separates each day into a different dataframe\n",
    "Monday_Orders = results_df.loc[results_df['Day']==\"Monday\"]\n",
    "Tuesday_Orders = results_df.loc[results_df['Day']==\"Tuesday\"]\n",
    "Wednesday_Orders = results_df.loc[results_df['Day']==\"Wednesday\"]\n",
    "Thursday_Orders = results_df.loc[results_df['Day']==\"Thursday\"]\n",
    "Sunday_Orders = results_df.loc[results_df['Day']==\"Sunday\"]"
   ]
  },
  {
   "cell_type": "markdown",
   "metadata": {},
   "source": [
    "The product ID column had become the index, so to rename each value to the correct product ID, each day needs to be reindexed 1-77 to align with the correct product:"
   ]
  },
  {
   "cell_type": "code",
   "execution_count": 28,
   "metadata": {
    "scrolled": true
   },
   "outputs": [],
   "source": [
    "\n",
    "index=np.arange(1,78)\n",
    "Monday_Orders.set_index(index, inplace=True)\n",
    "Tuesday_Orders.set_index(index, inplace=True)\n",
    "Wednesday_Orders.set_index(index, inplace=True)\n",
    "Thursday_Orders.set_index(index, inplace=True)\n",
    "Sunday_Orders.set_index(index, inplace=True)"
   ]
  },
  {
   "cell_type": "code",
   "execution_count": 29,
   "metadata": {},
   "outputs": [],
   "source": [
    "# This cell selects only the products on each day that had a significant difference in order quantity\n",
    "Monday_Order_Adjustments = Monday_Orders.loc[Monday_Orders['RejectNull']==True]\n",
    "Tuesday_Order_Adjustments = Tuesday_Orders.loc[Tuesday_Orders['RejectNull']==True]\n",
    "Wednesday_Order_Adjustments = Wednesday_Orders.loc[Wednesday_Orders['RejectNull']==True]\n",
    "Thursday_Order_Adjustments = Thursday_Orders.loc[Thursday_Orders['RejectNull']==True]\n",
    "Sunday_Order_Adjustments = Sunday_Orders.loc[Sunday_Orders['RejectNull']==True]"
   ]
  },
  {
   "cell_type": "code",
   "execution_count": 30,
   "metadata": {},
   "outputs": [],
   "source": [
    "weekly_order_adjustments = pd.concat([Monday_Order_Adjustments, Tuesday_Order_Adjustments, Wednesday_Order_Adjustments,\n",
    "                                     Thursday_Order_Adjustments, Sunday_Order_Adjustments])\n",
    "weekly_order_adjustments = weekly_order_adjustments.drop([\"RejectNull\", \"PVal\"], axis=1)\n",
    "weekly_order_adjustments.index.name = \"ProductId\""
   ]
  },
  {
   "cell_type": "code",
   "execution_count": 31,
   "metadata": {
    "scrolled": true
   },
   "outputs": [
    {
     "data": {
      "text/html": [
       "<div>\n",
       "<style scoped>\n",
       "    .dataframe tbody tr th:only-of-type {\n",
       "        vertical-align: middle;\n",
       "    }\n",
       "\n",
       "    .dataframe tbody tr th {\n",
       "        vertical-align: top;\n",
       "    }\n",
       "\n",
       "    .dataframe thead th {\n",
       "        text-align: right;\n",
       "    }\n",
       "</style>\n",
       "<table border=\"1\" class=\"dataframe\">\n",
       "  <thead>\n",
       "    <tr style=\"text-align: right;\">\n",
       "      <th></th>\n",
       "      <th>Day</th>\n",
       "      <th>Difference</th>\n",
       "    </tr>\n",
       "    <tr>\n",
       "      <th>ProductId</th>\n",
       "      <th></th>\n",
       "      <th></th>\n",
       "    </tr>\n",
       "  </thead>\n",
       "  <tbody>\n",
       "    <tr>\n",
       "      <th>2</th>\n",
       "      <td>Monday</td>\n",
       "      <td>-0.538837</td>\n",
       "    </tr>\n",
       "    <tr>\n",
       "      <th>10</th>\n",
       "      <td>Monday</td>\n",
       "      <td>0.559837</td>\n",
       "    </tr>\n",
       "    <tr>\n",
       "      <th>16</th>\n",
       "      <td>Monday</td>\n",
       "      <td>0.422109</td>\n",
       "    </tr>\n",
       "    <tr>\n",
       "      <th>25</th>\n",
       "      <td>Monday</td>\n",
       "      <td>0.621101</td>\n",
       "    </tr>\n",
       "    <tr>\n",
       "      <th>28</th>\n",
       "      <td>Monday</td>\n",
       "      <td>0.473977</td>\n",
       "    </tr>\n",
       "    <tr>\n",
       "      <th>36</th>\n",
       "      <td>Monday</td>\n",
       "      <td>-0.792725</td>\n",
       "    </tr>\n",
       "    <tr>\n",
       "      <th>56</th>\n",
       "      <td>Monday</td>\n",
       "      <td>0.48033</td>\n",
       "    </tr>\n",
       "    <tr>\n",
       "      <th>67</th>\n",
       "      <td>Monday</td>\n",
       "      <td>0.615105</td>\n",
       "    </tr>\n",
       "    <tr>\n",
       "      <th>11</th>\n",
       "      <td>Tuesday</td>\n",
       "      <td>-0.607124</td>\n",
       "    </tr>\n",
       "    <tr>\n",
       "      <th>18</th>\n",
       "      <td>Tuesday</td>\n",
       "      <td>-0.705672</td>\n",
       "    </tr>\n",
       "    <tr>\n",
       "      <th>19</th>\n",
       "      <td>Tuesday</td>\n",
       "      <td>-0.850809</td>\n",
       "    </tr>\n",
       "    <tr>\n",
       "      <th>25</th>\n",
       "      <td>Tuesday</td>\n",
       "      <td>-0.386439</td>\n",
       "    </tr>\n",
       "    <tr>\n",
       "      <th>30</th>\n",
       "      <td>Tuesday</td>\n",
       "      <td>0.554636</td>\n",
       "    </tr>\n",
       "    <tr>\n",
       "      <th>42</th>\n",
       "      <td>Tuesday</td>\n",
       "      <td>0.495673</td>\n",
       "    </tr>\n",
       "    <tr>\n",
       "      <th>47</th>\n",
       "      <td>Tuesday</td>\n",
       "      <td>0.606692</td>\n",
       "    </tr>\n",
       "    <tr>\n",
       "      <th>49</th>\n",
       "      <td>Tuesday</td>\n",
       "      <td>0.457935</td>\n",
       "    </tr>\n",
       "    <tr>\n",
       "      <th>4</th>\n",
       "      <td>Wednesday</td>\n",
       "      <td>0.319001</td>\n",
       "    </tr>\n",
       "    <tr>\n",
       "      <th>12</th>\n",
       "      <td>Wednesday</td>\n",
       "      <td>0.215122</td>\n",
       "    </tr>\n",
       "    <tr>\n",
       "      <th>11</th>\n",
       "      <td>Thursday</td>\n",
       "      <td>0.583553</td>\n",
       "    </tr>\n",
       "    <tr>\n",
       "      <th>19</th>\n",
       "      <td>Thursday</td>\n",
       "      <td>0.436495</td>\n",
       "    </tr>\n",
       "    <tr>\n",
       "      <th>29</th>\n",
       "      <td>Thursday</td>\n",
       "      <td>0.549569</td>\n",
       "    </tr>\n",
       "    <tr>\n",
       "      <th>47</th>\n",
       "      <td>Thursday</td>\n",
       "      <td>0.703397</td>\n",
       "    </tr>\n",
       "    <tr>\n",
       "      <th>58</th>\n",
       "      <td>Thursday</td>\n",
       "      <td>0.193036</td>\n",
       "    </tr>\n",
       "    <tr>\n",
       "      <th>77</th>\n",
       "      <td>Thursday</td>\n",
       "      <td>0.426371</td>\n",
       "    </tr>\n",
       "    <tr>\n",
       "      <th>12</th>\n",
       "      <td>Sunday</td>\n",
       "      <td>0.546206</td>\n",
       "    </tr>\n",
       "    <tr>\n",
       "      <th>14</th>\n",
       "      <td>Sunday</td>\n",
       "      <td>0.765242</td>\n",
       "    </tr>\n",
       "    <tr>\n",
       "      <th>16</th>\n",
       "      <td>Sunday</td>\n",
       "      <td>0.476082</td>\n",
       "    </tr>\n",
       "    <tr>\n",
       "      <th>20</th>\n",
       "      <td>Sunday</td>\n",
       "      <td>0.605646</td>\n",
       "    </tr>\n",
       "    <tr>\n",
       "      <th>31</th>\n",
       "      <td>Sunday</td>\n",
       "      <td>0.391892</td>\n",
       "    </tr>\n",
       "    <tr>\n",
       "      <th>36</th>\n",
       "      <td>Sunday</td>\n",
       "      <td>0.582768</td>\n",
       "    </tr>\n",
       "    <tr>\n",
       "      <th>43</th>\n",
       "      <td>Sunday</td>\n",
       "      <td>0.446466</td>\n",
       "    </tr>\n",
       "  </tbody>\n",
       "</table>\n",
       "</div>"
      ],
      "text/plain": [
       "                 Day Difference\n",
       "ProductId                      \n",
       "2             Monday  -0.538837\n",
       "10            Monday   0.559837\n",
       "16            Monday   0.422109\n",
       "25            Monday   0.621101\n",
       "28            Monday   0.473977\n",
       "36            Monday  -0.792725\n",
       "56            Monday    0.48033\n",
       "67            Monday   0.615105\n",
       "11           Tuesday  -0.607124\n",
       "18           Tuesday  -0.705672\n",
       "19           Tuesday  -0.850809\n",
       "25           Tuesday  -0.386439\n",
       "30           Tuesday   0.554636\n",
       "42           Tuesday   0.495673\n",
       "47           Tuesday   0.606692\n",
       "49           Tuesday   0.457935\n",
       "4          Wednesday   0.319001\n",
       "12         Wednesday   0.215122\n",
       "11          Thursday   0.583553\n",
       "19          Thursday   0.436495\n",
       "29          Thursday   0.549569\n",
       "47          Thursday   0.703397\n",
       "58          Thursday   0.193036\n",
       "77          Thursday   0.426371\n",
       "12            Sunday   0.546206\n",
       "14            Sunday   0.765242\n",
       "16            Sunday   0.476082\n",
       "20            Sunday   0.605646\n",
       "31            Sunday   0.391892\n",
       "36            Sunday   0.582768\n",
       "43            Sunday   0.446466"
      ]
     },
     "execution_count": 31,
     "metadata": {},
     "output_type": "execute_result"
    }
   ],
   "source": [
    "weekly_order_adjustments"
   ]
  },
  {
   "cell_type": "markdown",
   "metadata": {},
   "source": [
    "Results: The above dataframe illustrates which products on which days historically have significantly lower or higher order counts, which can help stockists increase or decrease how much of those products are in stock so the company does not have a surplus of perishable food, nor under-stocks which can cause clients to switch to a competitor.  \n",
    "\n",
    "The null hypothesis was not rejected for most products on most days, however once the data becomes more robust, more analysis can be done. From here, we should check for increases of certain products around holidays, seasons, etc. "
   ]
  },
  {
   "cell_type": "code",
   "execution_count": 35,
   "metadata": {
    "scrolled": false
   },
   "outputs": [
    {
     "data": {
      "text/html": [
       "<div>\n",
       "<style scoped>\n",
       "    .dataframe tbody tr th:only-of-type {\n",
       "        vertical-align: middle;\n",
       "    }\n",
       "\n",
       "    .dataframe tbody tr th {\n",
       "        vertical-align: top;\n",
       "    }\n",
       "\n",
       "    .dataframe thead th {\n",
       "        text-align: right;\n",
       "    }\n",
       "</style>\n",
       "<table border=\"1\" class=\"dataframe\">\n",
       "  <thead>\n",
       "    <tr style=\"text-align: right;\">\n",
       "      <th></th>\n",
       "      <th>PVal</th>\n",
       "      <th>Day</th>\n",
       "      <th>RejectNull</th>\n",
       "      <th>Difference</th>\n",
       "    </tr>\n",
       "  </thead>\n",
       "  <tbody>\n",
       "    <tr>\n",
       "      <th>2</th>\n",
       "      <td>NaN</td>\n",
       "      <td>Monday</td>\n",
       "      <td>False</td>\n",
       "      <td>-0.0645816</td>\n",
       "    </tr>\n",
       "    <tr>\n",
       "      <th>4</th>\n",
       "      <td>NaN</td>\n",
       "      <td>Monday</td>\n",
       "      <td>False</td>\n",
       "      <td>-0.130441</td>\n",
       "    </tr>\n",
       "    <tr>\n",
       "      <th>13</th>\n",
       "      <td>NaN</td>\n",
       "      <td>Monday</td>\n",
       "      <td>False</td>\n",
       "      <td>-0.154288</td>\n",
       "    </tr>\n",
       "    <tr>\n",
       "      <th>14</th>\n",
       "      <td>NaN</td>\n",
       "      <td>Monday</td>\n",
       "      <td>False</td>\n",
       "      <td>0.464949</td>\n",
       "    </tr>\n",
       "    <tr>\n",
       "      <th>21</th>\n",
       "      <td>NaN</td>\n",
       "      <td>Monday</td>\n",
       "      <td>False</td>\n",
       "      <td>-0.469058</td>\n",
       "    </tr>\n",
       "  </tbody>\n",
       "</table>\n",
       "</div>"
      ],
      "text/plain": [
       "   PVal     Day RejectNull Difference\n",
       "2   NaN  Monday      False -0.0645816\n",
       "4   NaN  Monday      False  -0.130441\n",
       "13  NaN  Monday      False  -0.154288\n",
       "14  NaN  Monday      False   0.464949\n",
       "21  NaN  Monday      False  -0.469058"
      ]
     },
     "execution_count": 35,
     "metadata": {},
     "output_type": "execute_result"
    }
   ],
   "source": [
    "results_df[results_df['PVal'].isnull()].head()"
   ]
  },
  {
   "cell_type": "code",
   "execution_count": 33,
   "metadata": {},
   "outputs": [
    {
     "name": "stdout",
     "output_type": "stream",
     "text": [
      "<module 'numpy' from '/Users/Allie/anaconda3/envs/learn-env/lib/python3.6/site-packages/numpy/__init__.py'>\n"
     ]
    }
   ],
   "source": [
    "print(np)"
   ]
  },
  {
   "cell_type": "markdown",
   "metadata": {},
   "source": [
    "<b>Note:</b> The NaNs in the PVal column signify insufficient data needed to adjust order quanitites. The above dataframe is for observational purposes ONLY and the Product ID has not been reincremented, so will not reflect the true products. "
   ]
  },
  {
   "cell_type": "markdown",
   "metadata": {},
   "source": [
    "# Hypothesis 3"
   ]
  },
  {
   "cell_type": "markdown",
   "metadata": {},
   "source": [
    "$H_{0}$ Products ordered do not change based on region that does the ordering. <br> \n",
    "$H_{1}$ Region has an effect on which products are ordered.  \n",
    "\n",
    "This is a two-tailed t-test."
   ]
  },
  {
   "cell_type": "code",
   "execution_count": null,
   "metadata": {},
   "outputs": [],
   "source": []
  }
 ],
 "metadata": {
  "kernelspec": {
   "display_name": "Python [conda env:learn-env] *",
   "language": "python",
   "name": "conda-env-learn-env-py"
  },
  "language_info": {
   "codemirror_mode": {
    "name": "ipython",
    "version": 3
   },
   "file_extension": ".py",
   "mimetype": "text/x-python",
   "name": "python",
   "nbconvert_exporter": "python",
   "pygments_lexer": "ipython3",
   "version": "3.6.6"
  },
  "toc": {
   "base_numbering": 1,
   "nav_menu": {},
   "number_sections": true,
   "sideBar": true,
   "skip_h1_title": false,
   "title_cell": "Table of Contents",
   "title_sidebar": "Contents",
   "toc_cell": false,
   "toc_position": {
    "height": "calc(100% - 180px)",
    "left": "10px",
    "top": "150px",
    "width": "165px"
   },
   "toc_section_display": true,
   "toc_window_display": false
  }
 },
 "nbformat": 4,
 "nbformat_minor": 2
}
