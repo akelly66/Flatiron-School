{
 "cells": [
  {
   "cell_type": "markdown",
   "metadata": {
    "cell_style": "center"
   },
   "source": [
    "# Module 3 Final Project"
   ]
  },
  {
   "cell_type": "markdown",
   "metadata": {},
   "source": [
    "<strong>Name:</strong> Allie Kelly<br>\n",
    "<strong>Pace:</strong> Part-time<br>\n",
    "<strong>Project Review: </strong> September 13, 2019 at 10:30 am EST<br>\n",
    "<strong>Instructor:</strong> Victor Geislinger<br>\n",
    "<strong>Blog Post URL:</strong> https://medium.com/@allisonkelly42/hypothesis-testing-with-the-northwind-database-d0382c9328bd"
   ]
  },
  {
   "cell_type": "markdown",
   "metadata": {},
   "source": [
    "## Import Packages and Data"
   ]
  },
  {
   "cell_type": "code",
   "execution_count": 1,
   "metadata": {},
   "outputs": [],
   "source": [
    "import sqlite3\n",
    "import scipy\n",
    "import scipy.stats as stats\n",
    "import statsmodels as sm\n",
    "from statsmodels.formula.api import ols\n",
    "\n",
    "import matplotlib.pyplot as plt\n",
    "import seaborn as sns\n",
    "sns.set_style(\"whitegrid\")\n",
    "%matplotlib inline\n",
    "\n",
    "import math\n",
    "import numpy as np\n",
    "import pandas as pd"
   ]
  },
  {
   "cell_type": "code",
   "execution_count": 2,
   "metadata": {},
   "outputs": [],
   "source": [
    "#begin SQL cursor, import data\n",
    "conn = sqlite3.connect('Northwind_small.sqlite')\n",
    "cur = conn.cursor()"
   ]
  },
  {
   "cell_type": "markdown",
   "metadata": {},
   "source": [
    "# Hypothesis 1"
   ]
  },
  {
   "cell_type": "markdown",
   "metadata": {},
   "source": [
    "$H_{0}$ The average product order quantity is equal whether a discount is applied or not.<br>\n",
    "   \n",
    "$H_{1}$ The average product order quantity increases when a discount is applied as compared to the average quantity when a discount is not applied. <Br>\n",
    "    \n",
    "This is a one-tailed t-test."
   ]
  },
  {
   "cell_type": "code",
   "execution_count": 3,
   "metadata": {
    "scrolled": true
   },
   "outputs": [
    {
     "data": {
      "text/html": [
       "<div>\n",
       "<style scoped>\n",
       "    .dataframe tbody tr th:only-of-type {\n",
       "        vertical-align: middle;\n",
       "    }\n",
       "\n",
       "    .dataframe tbody tr th {\n",
       "        vertical-align: top;\n",
       "    }\n",
       "\n",
       "    .dataframe thead th {\n",
       "        text-align: right;\n",
       "    }\n",
       "</style>\n",
       "<table border=\"1\" class=\"dataframe\">\n",
       "  <thead>\n",
       "    <tr style=\"text-align: right;\">\n",
       "      <th></th>\n",
       "      <th>Id</th>\n",
       "      <th>OrderId</th>\n",
       "      <th>ProductId</th>\n",
       "      <th>UnitPrice</th>\n",
       "      <th>Quantity</th>\n",
       "      <th>Discount</th>\n",
       "    </tr>\n",
       "  </thead>\n",
       "  <tbody>\n",
       "    <tr>\n",
       "      <th>0</th>\n",
       "      <td>10248/11</td>\n",
       "      <td>10248</td>\n",
       "      <td>11</td>\n",
       "      <td>14.0</td>\n",
       "      <td>12</td>\n",
       "      <td>0.0</td>\n",
       "    </tr>\n",
       "    <tr>\n",
       "      <th>1</th>\n",
       "      <td>10248/42</td>\n",
       "      <td>10248</td>\n",
       "      <td>42</td>\n",
       "      <td>9.8</td>\n",
       "      <td>10</td>\n",
       "      <td>0.0</td>\n",
       "    </tr>\n",
       "    <tr>\n",
       "      <th>2</th>\n",
       "      <td>10248/72</td>\n",
       "      <td>10248</td>\n",
       "      <td>72</td>\n",
       "      <td>34.8</td>\n",
       "      <td>5</td>\n",
       "      <td>0.0</td>\n",
       "    </tr>\n",
       "    <tr>\n",
       "      <th>3</th>\n",
       "      <td>10249/14</td>\n",
       "      <td>10249</td>\n",
       "      <td>14</td>\n",
       "      <td>18.6</td>\n",
       "      <td>9</td>\n",
       "      <td>0.0</td>\n",
       "    </tr>\n",
       "    <tr>\n",
       "      <th>4</th>\n",
       "      <td>10249/51</td>\n",
       "      <td>10249</td>\n",
       "      <td>51</td>\n",
       "      <td>42.4</td>\n",
       "      <td>40</td>\n",
       "      <td>0.0</td>\n",
       "    </tr>\n",
       "  </tbody>\n",
       "</table>\n",
       "</div>"
      ],
      "text/plain": [
       "         Id  OrderId  ProductId  UnitPrice  Quantity  Discount\n",
       "0  10248/11    10248         11       14.0        12       0.0\n",
       "1  10248/42    10248         42        9.8        10       0.0\n",
       "2  10248/72    10248         72       34.8         5       0.0\n",
       "3  10249/14    10249         14       18.6         9       0.0\n",
       "4  10249/51    10249         51       42.4        40       0.0"
      ]
     },
     "execution_count": 3,
     "metadata": {},
     "output_type": "execute_result"
    }
   ],
   "source": [
    "#Transform SQL data into DataFrame for the relevant table\n",
    "cur.execute(\"\"\"Select * FROM OrderDetail;\"\"\")\n",
    "order_df= pd.DataFrame(cur.fetchall())\n",
    "order_df.columns = [x[0] for x in cur.description]\n",
    "order_df.head()"
   ]
  },
  {
   "cell_type": "markdown",
   "metadata": {},
   "source": [
    "## EDA for Hypothesis 1"
   ]
  },
  {
   "cell_type": "code",
   "execution_count": 4,
   "metadata": {},
   "outputs": [
    {
     "name": "stdout",
     "output_type": "stream",
     "text": [
      "<class 'pandas.core.frame.DataFrame'>\n",
      "RangeIndex: 2155 entries, 0 to 2154\n",
      "Data columns (total 6 columns):\n",
      "Id           2155 non-null object\n",
      "OrderId      2155 non-null int64\n",
      "ProductId    2155 non-null int64\n",
      "UnitPrice    2155 non-null float64\n",
      "Quantity     2155 non-null int64\n",
      "Discount     2155 non-null float64\n",
      "dtypes: float64(2), int64(3), object(1)\n",
      "memory usage: 101.1+ KB\n"
     ]
    }
   ],
   "source": [
    "order_df.info()"
   ]
  },
  {
   "cell_type": "code",
   "execution_count": 5,
   "metadata": {
    "scrolled": true
   },
   "outputs": [
    {
     "data": {
      "text/html": [
       "<div>\n",
       "<style scoped>\n",
       "    .dataframe tbody tr th:only-of-type {\n",
       "        vertical-align: middle;\n",
       "    }\n",
       "\n",
       "    .dataframe tbody tr th {\n",
       "        vertical-align: top;\n",
       "    }\n",
       "\n",
       "    .dataframe thead th {\n",
       "        text-align: right;\n",
       "    }\n",
       "</style>\n",
       "<table border=\"1\" class=\"dataframe\">\n",
       "  <thead>\n",
       "    <tr style=\"text-align: right;\">\n",
       "      <th></th>\n",
       "      <th>OrderId</th>\n",
       "      <th>ProductId</th>\n",
       "      <th>UnitPrice</th>\n",
       "      <th>Quantity</th>\n",
       "      <th>Discount</th>\n",
       "    </tr>\n",
       "  </thead>\n",
       "  <tbody>\n",
       "    <tr>\n",
       "      <th>count</th>\n",
       "      <td>2155.000000</td>\n",
       "      <td>2155.000000</td>\n",
       "      <td>2155.000000</td>\n",
       "      <td>2155.000000</td>\n",
       "      <td>2155.000000</td>\n",
       "    </tr>\n",
       "    <tr>\n",
       "      <th>mean</th>\n",
       "      <td>10659.375870</td>\n",
       "      <td>40.793039</td>\n",
       "      <td>26.218520</td>\n",
       "      <td>23.812993</td>\n",
       "      <td>0.056167</td>\n",
       "    </tr>\n",
       "    <tr>\n",
       "      <th>std</th>\n",
       "      <td>241.378032</td>\n",
       "      <td>22.159019</td>\n",
       "      <td>29.827418</td>\n",
       "      <td>19.022047</td>\n",
       "      <td>0.083450</td>\n",
       "    </tr>\n",
       "    <tr>\n",
       "      <th>min</th>\n",
       "      <td>10248.000000</td>\n",
       "      <td>1.000000</td>\n",
       "      <td>2.000000</td>\n",
       "      <td>1.000000</td>\n",
       "      <td>0.000000</td>\n",
       "    </tr>\n",
       "    <tr>\n",
       "      <th>25%</th>\n",
       "      <td>10451.000000</td>\n",
       "      <td>22.000000</td>\n",
       "      <td>12.000000</td>\n",
       "      <td>10.000000</td>\n",
       "      <td>0.000000</td>\n",
       "    </tr>\n",
       "    <tr>\n",
       "      <th>50%</th>\n",
       "      <td>10657.000000</td>\n",
       "      <td>41.000000</td>\n",
       "      <td>18.400000</td>\n",
       "      <td>20.000000</td>\n",
       "      <td>0.000000</td>\n",
       "    </tr>\n",
       "    <tr>\n",
       "      <th>75%</th>\n",
       "      <td>10862.500000</td>\n",
       "      <td>60.000000</td>\n",
       "      <td>32.000000</td>\n",
       "      <td>30.000000</td>\n",
       "      <td>0.100000</td>\n",
       "    </tr>\n",
       "    <tr>\n",
       "      <th>max</th>\n",
       "      <td>11077.000000</td>\n",
       "      <td>77.000000</td>\n",
       "      <td>263.500000</td>\n",
       "      <td>130.000000</td>\n",
       "      <td>0.250000</td>\n",
       "    </tr>\n",
       "  </tbody>\n",
       "</table>\n",
       "</div>"
      ],
      "text/plain": [
       "            OrderId    ProductId    UnitPrice     Quantity     Discount\n",
       "count   2155.000000  2155.000000  2155.000000  2155.000000  2155.000000\n",
       "mean   10659.375870    40.793039    26.218520    23.812993     0.056167\n",
       "std      241.378032    22.159019    29.827418    19.022047     0.083450\n",
       "min    10248.000000     1.000000     2.000000     1.000000     0.000000\n",
       "25%    10451.000000    22.000000    12.000000    10.000000     0.000000\n",
       "50%    10657.000000    41.000000    18.400000    20.000000     0.000000\n",
       "75%    10862.500000    60.000000    32.000000    30.000000     0.100000\n",
       "max    11077.000000    77.000000   263.500000   130.000000     0.250000"
      ]
     },
     "execution_count": 5,
     "metadata": {},
     "output_type": "execute_result"
    }
   ],
   "source": [
    "order_df.describe()"
   ]
  },
  {
   "cell_type": "markdown",
   "metadata": {},
   "source": [
    "My immediate impression of the data is that there are 2155 orders that were made and kept in this table. There are 77 different products, and the discounts range from 0% to 25%.  "
   ]
  },
  {
   "cell_type": "code",
   "execution_count": 6,
   "metadata": {},
   "outputs": [
    {
     "data": {
      "image/png": "[encoded data removed]",
      "text/plain": [
       "<Figure size 432x288 with 1 Axes>"
      ]
     },
     "metadata": {
      "needs_background": "light"
     },
     "output_type": "display_data"
    }
   ],
   "source": [
    "plt.scatter(order_df.Discount, order_df.Quantity)\n",
    "plt.title(\"Order Quantity Categorized by Discount Level\")\n",
    "plt.xlabel(\"Discount Percentage\")\n",
    "plt.ylabel(\"Order Quantity\");"
   ]
  },
  {
   "cell_type": "markdown",
   "metadata": {},
   "source": [
    "The scatter plot shows that its pretty evenly distributed among each discount level, though there are a few smaller dicounts that only have a few orders. "
   ]
  },
  {
   "cell_type": "code",
   "execution_count": 7,
   "metadata": {
    "scrolled": true
   },
   "outputs": [
    {
     "name": "stderr",
     "output_type": "stream",
     "text": [
      "/Users/Allie/anaconda3/envs/learn-env/lib/python3.6/site-packages/scipy/stats/stats.py:1713: FutureWarning: Using a non-tuple sequence for multidimensional indexing is deprecated; use `arr[tuple(seq)]` instead of `arr[seq]`. In the future this will be interpreted as an array index, `arr[np.array(seq)]`, which will result either in an error or a different result.\n",
      "  return np.add.reduce(sorted[indexer] * weights, axis=axis) / sumval\n"
     ]
    },
    {
     "data": {
      "image/png": "[encoded data removed]",
      "text/plain": [
       "<Figure size 432x288 with 1 Axes>"
      ]
     },
     "metadata": {
      "needs_background": "light"
     },
     "output_type": "display_data"
    }
   ],
   "source": [
    "#Checking the distribution of order quantity\n",
    "sns.distplot(order_df.Quantity)\n",
    "plt.title(\"Distribution of Order Quantity\");"
   ]
  },
  {
   "cell_type": "code",
   "execution_count": 8,
   "metadata": {},
   "outputs": [
    {
     "name": "stderr",
     "output_type": "stream",
     "text": [
      "/Users/Allie/anaconda3/envs/learn-env/lib/python3.6/site-packages/scipy/stats/stats.py:1713: FutureWarning: Using a non-tuple sequence for multidimensional indexing is deprecated; use `arr[tuple(seq)]` instead of `arr[seq]`. In the future this will be interpreted as an array index, `arr[np.array(seq)]`, which will result either in an error or a different result.\n",
      "  return np.add.reduce(sorted[indexer] * weights, axis=axis) / sumval\n"
     ]
    },
    {
     "data": {
      "image/png": "[encoded data removed]",
      "text/plain": [
       "<Figure size 432x288 with 1 Axes>"
      ]
     },
     "metadata": {
      "needs_background": "light"
     },
     "output_type": "display_data"
    }
   ],
   "source": [
    "#Fulfilling the assumption that the data follows a normal distribution\n",
    "sns.distplot(order_df.Quantity.apply(np.log))\n",
    "plt.title(f\"Distribution of Order Quantity (NORMALIZED)\");"
   ]
  },
  {
   "cell_type": "markdown",
   "metadata": {},
   "source": [
    "The distribution of order quantity is relatively normal, though a bit skewed to the right. "
   ]
  },
  {
   "cell_type": "code",
   "execution_count": 9,
   "metadata": {},
   "outputs": [
    {
     "data": {
      "text/plain": [
       "830"
      ]
     },
     "execution_count": 9,
     "metadata": {},
     "output_type": "execute_result"
    }
   ],
   "source": [
    "len(order_df.OrderId.unique()) #There are 830 different orders made, multiple products per order"
   ]
  },
  {
   "cell_type": "code",
   "execution_count": 10,
   "metadata": {},
   "outputs": [],
   "source": [
    "order_discount_pivot = pd.pivot_table(order_df, \n",
    "                                      index=\"Discount\", \n",
    "                                      \n",
    "                                      columns='ProductId', \n",
    "                                      values=\"Quantity\",\n",
    "                                      fill_value=0.0, \n",
    "                                      margins=True)"
   ]
  },
  {
   "cell_type": "code",
   "execution_count": 11,
   "metadata": {},
   "outputs": [
    {
     "data": {
      "text/html": [
       "<div>\n",
       "<style scoped>\n",
       "    .dataframe tbody tr th:only-of-type {\n",
       "        vertical-align: middle;\n",
       "    }\n",
       "\n",
       "    .dataframe tbody tr th {\n",
       "        vertical-align: top;\n",
       "    }\n",
       "\n",
       "    .dataframe thead th {\n",
       "        text-align: right;\n",
       "    }\n",
       "</style>\n",
       "<table border=\"1\" class=\"dataframe\">\n",
       "  <thead>\n",
       "    <tr style=\"text-align: right;\">\n",
       "      <th>ProductId</th>\n",
       "      <th>1</th>\n",
       "      <th>2</th>\n",
       "      <th>3</th>\n",
       "      <th>4</th>\n",
       "      <th>5</th>\n",
       "      <th>6</th>\n",
       "      <th>7</th>\n",
       "      <th>8</th>\n",
       "      <th>9</th>\n",
       "      <th>10</th>\n",
       "      <th>...</th>\n",
       "      <th>69</th>\n",
       "      <th>70</th>\n",
       "      <th>71</th>\n",
       "      <th>72</th>\n",
       "      <th>73</th>\n",
       "      <th>74</th>\n",
       "      <th>75</th>\n",
       "      <th>76</th>\n",
       "      <th>77</th>\n",
       "      <th>All</th>\n",
       "    </tr>\n",
       "    <tr>\n",
       "      <th>Discount</th>\n",
       "      <th></th>\n",
       "      <th></th>\n",
       "      <th></th>\n",
       "      <th></th>\n",
       "      <th></th>\n",
       "      <th></th>\n",
       "      <th></th>\n",
       "      <th></th>\n",
       "      <th></th>\n",
       "      <th></th>\n",
       "      <th></th>\n",
       "      <th></th>\n",
       "      <th></th>\n",
       "      <th></th>\n",
       "      <th></th>\n",
       "      <th></th>\n",
       "      <th></th>\n",
       "      <th></th>\n",
       "      <th></th>\n",
       "      <th></th>\n",
       "      <th></th>\n",
       "    </tr>\n",
       "  </thead>\n",
       "  <tbody>\n",
       "    <tr>\n",
       "      <th>0.0</th>\n",
       "      <td>17.772727</td>\n",
       "      <td>21.473684</td>\n",
       "      <td>28.800000</td>\n",
       "      <td>17.20</td>\n",
       "      <td>29.333333</td>\n",
       "      <td>26.750000</td>\n",
       "      <td>29.904762</td>\n",
       "      <td>30</td>\n",
       "      <td>4.5</td>\n",
       "      <td>19.454545</td>\n",
       "      <td>...</td>\n",
       "      <td>18.500000</td>\n",
       "      <td>19.043478</td>\n",
       "      <td>21.800000</td>\n",
       "      <td>19.677419</td>\n",
       "      <td>22.125000</td>\n",
       "      <td>22.600000</td>\n",
       "      <td>21.758621</td>\n",
       "      <td>22.730769</td>\n",
       "      <td>17.869565</td>\n",
       "      <td>21.715262</td>\n",
       "    </tr>\n",
       "    <tr>\n",
       "      <th>0.01</th>\n",
       "      <td>0.000000</td>\n",
       "      <td>0.000000</td>\n",
       "      <td>0.000000</td>\n",
       "      <td>0.00</td>\n",
       "      <td>0.000000</td>\n",
       "      <td>0.000000</td>\n",
       "      <td>0.000000</td>\n",
       "      <td>0</td>\n",
       "      <td>0.0</td>\n",
       "      <td>0.000000</td>\n",
       "      <td>...</td>\n",
       "      <td>0.000000</td>\n",
       "      <td>0.000000</td>\n",
       "      <td>0.000000</td>\n",
       "      <td>0.000000</td>\n",
       "      <td>2.000000</td>\n",
       "      <td>0.000000</td>\n",
       "      <td>0.000000</td>\n",
       "      <td>0.000000</td>\n",
       "      <td>0.000000</td>\n",
       "      <td>2.000000</td>\n",
       "    </tr>\n",
       "    <tr>\n",
       "      <th>0.02</th>\n",
       "      <td>0.000000</td>\n",
       "      <td>0.000000</td>\n",
       "      <td>0.000000</td>\n",
       "      <td>0.00</td>\n",
       "      <td>0.000000</td>\n",
       "      <td>1.000000</td>\n",
       "      <td>0.000000</td>\n",
       "      <td>0</td>\n",
       "      <td>0.0</td>\n",
       "      <td>0.000000</td>\n",
       "      <td>...</td>\n",
       "      <td>0.000000</td>\n",
       "      <td>0.000000</td>\n",
       "      <td>0.000000</td>\n",
       "      <td>0.000000</td>\n",
       "      <td>0.000000</td>\n",
       "      <td>0.000000</td>\n",
       "      <td>0.000000</td>\n",
       "      <td>0.000000</td>\n",
       "      <td>0.000000</td>\n",
       "      <td>2.000000</td>\n",
       "    </tr>\n",
       "    <tr>\n",
       "      <th>0.03</th>\n",
       "      <td>0.000000</td>\n",
       "      <td>0.000000</td>\n",
       "      <td>0.000000</td>\n",
       "      <td>0.00</td>\n",
       "      <td>0.000000</td>\n",
       "      <td>0.000000</td>\n",
       "      <td>0.000000</td>\n",
       "      <td>0</td>\n",
       "      <td>0.0</td>\n",
       "      <td>0.000000</td>\n",
       "      <td>...</td>\n",
       "      <td>0.000000</td>\n",
       "      <td>0.000000</td>\n",
       "      <td>0.000000</td>\n",
       "      <td>0.000000</td>\n",
       "      <td>0.000000</td>\n",
       "      <td>0.000000</td>\n",
       "      <td>0.000000</td>\n",
       "      <td>0.000000</td>\n",
       "      <td>0.000000</td>\n",
       "      <td>1.666667</td>\n",
       "    </tr>\n",
       "    <tr>\n",
       "      <th>0.04</th>\n",
       "      <td>0.000000</td>\n",
       "      <td>0.000000</td>\n",
       "      <td>0.000000</td>\n",
       "      <td>0.00</td>\n",
       "      <td>0.000000</td>\n",
       "      <td>0.000000</td>\n",
       "      <td>0.000000</td>\n",
       "      <td>0</td>\n",
       "      <td>0.0</td>\n",
       "      <td>0.000000</td>\n",
       "      <td>...</td>\n",
       "      <td>0.000000</td>\n",
       "      <td>0.000000</td>\n",
       "      <td>0.000000</td>\n",
       "      <td>0.000000</td>\n",
       "      <td>0.000000</td>\n",
       "      <td>0.000000</td>\n",
       "      <td>0.000000</td>\n",
       "      <td>0.000000</td>\n",
       "      <td>0.000000</td>\n",
       "      <td>1.000000</td>\n",
       "    </tr>\n",
       "    <tr>\n",
       "      <th>0.05</th>\n",
       "      <td>20.000000</td>\n",
       "      <td>16.666667</td>\n",
       "      <td>0.000000</td>\n",
       "      <td>50.00</td>\n",
       "      <td>0.000000</td>\n",
       "      <td>33.000000</td>\n",
       "      <td>13.000000</td>\n",
       "      <td>0</td>\n",
       "      <td>0.0</td>\n",
       "      <td>20.000000</td>\n",
       "      <td>...</td>\n",
       "      <td>31.666667</td>\n",
       "      <td>21.000000</td>\n",
       "      <td>30.000000</td>\n",
       "      <td>20.000000</td>\n",
       "      <td>24.000000</td>\n",
       "      <td>0.000000</td>\n",
       "      <td>70.000000</td>\n",
       "      <td>33.000000</td>\n",
       "      <td>38.200000</td>\n",
       "      <td>28.010811</td>\n",
       "    </tr>\n",
       "    <tr>\n",
       "      <th>0.06</th>\n",
       "      <td>0.000000</td>\n",
       "      <td>0.000000</td>\n",
       "      <td>0.000000</td>\n",
       "      <td>0.00</td>\n",
       "      <td>0.000000</td>\n",
       "      <td>0.000000</td>\n",
       "      <td>0.000000</td>\n",
       "      <td>0</td>\n",
       "      <td>0.0</td>\n",
       "      <td>0.000000</td>\n",
       "      <td>...</td>\n",
       "      <td>0.000000</td>\n",
       "      <td>0.000000</td>\n",
       "      <td>0.000000</td>\n",
       "      <td>0.000000</td>\n",
       "      <td>0.000000</td>\n",
       "      <td>0.000000</td>\n",
       "      <td>0.000000</td>\n",
       "      <td>0.000000</td>\n",
       "      <td>0.000000</td>\n",
       "      <td>2.000000</td>\n",
       "    </tr>\n",
       "    <tr>\n",
       "      <th>0.1</th>\n",
       "      <td>10.000000</td>\n",
       "      <td>20.000000</td>\n",
       "      <td>20.000000</td>\n",
       "      <td>22.50</td>\n",
       "      <td>15.000000</td>\n",
       "      <td>0.000000</td>\n",
       "      <td>20.000000</td>\n",
       "      <td>2</td>\n",
       "      <td>20.0</td>\n",
       "      <td>19.000000</td>\n",
       "      <td>...</td>\n",
       "      <td>21.333333</td>\n",
       "      <td>26.750000</td>\n",
       "      <td>24.500000</td>\n",
       "      <td>26.333333</td>\n",
       "      <td>20.000000</td>\n",
       "      <td>0.000000</td>\n",
       "      <td>20.600000</td>\n",
       "      <td>30.000000</td>\n",
       "      <td>24.000000</td>\n",
       "      <td>25.236994</td>\n",
       "    </tr>\n",
       "    <tr>\n",
       "      <th>0.15</th>\n",
       "      <td>19.600000</td>\n",
       "      <td>25.000000</td>\n",
       "      <td>0.000000</td>\n",
       "      <td>50.00</td>\n",
       "      <td>0.000000</td>\n",
       "      <td>0.000000</td>\n",
       "      <td>26.500000</td>\n",
       "      <td>15</td>\n",
       "      <td>16.0</td>\n",
       "      <td>49.333333</td>\n",
       "      <td>...</td>\n",
       "      <td>20.000000</td>\n",
       "      <td>29.000000</td>\n",
       "      <td>20.000000</td>\n",
       "      <td>27.500000</td>\n",
       "      <td>25.000000</td>\n",
       "      <td>20.000000</td>\n",
       "      <td>13.000000</td>\n",
       "      <td>27.000000</td>\n",
       "      <td>15.000000</td>\n",
       "      <td>28.382166</td>\n",
       "    </tr>\n",
       "    <tr>\n",
       "      <th>0.2</th>\n",
       "      <td>42.500000</td>\n",
       "      <td>24.700000</td>\n",
       "      <td>0.000000</td>\n",
       "      <td>18.00</td>\n",
       "      <td>38.500000</td>\n",
       "      <td>0.000000</td>\n",
       "      <td>10.000000</td>\n",
       "      <td>30</td>\n",
       "      <td>0.0</td>\n",
       "      <td>25.000000</td>\n",
       "      <td>...</td>\n",
       "      <td>27.250000</td>\n",
       "      <td>27.333333</td>\n",
       "      <td>44.750000</td>\n",
       "      <td>0.000000</td>\n",
       "      <td>20.000000</td>\n",
       "      <td>0.000000</td>\n",
       "      <td>30.166667</td>\n",
       "      <td>47.000000</td>\n",
       "      <td>2.000000</td>\n",
       "      <td>27.024845</td>\n",
       "    </tr>\n",
       "    <tr>\n",
       "      <th>0.25</th>\n",
       "      <td>27.800000</td>\n",
       "      <td>34.500000</td>\n",
       "      <td>0.000000</td>\n",
       "      <td>27.50</td>\n",
       "      <td>30.000000</td>\n",
       "      <td>20.000000</td>\n",
       "      <td>0.000000</td>\n",
       "      <td>70</td>\n",
       "      <td>50.0</td>\n",
       "      <td>18.000000</td>\n",
       "      <td>...</td>\n",
       "      <td>36.666667</td>\n",
       "      <td>17.250000</td>\n",
       "      <td>32.500000</td>\n",
       "      <td>42.000000</td>\n",
       "      <td>0.000000</td>\n",
       "      <td>25.500000</td>\n",
       "      <td>4.000000</td>\n",
       "      <td>20.500000</td>\n",
       "      <td>23.333333</td>\n",
       "      <td>28.240260</td>\n",
       "    </tr>\n",
       "    <tr>\n",
       "      <th>All</th>\n",
       "      <td>21.789474</td>\n",
       "      <td>24.022727</td>\n",
       "      <td>27.333333</td>\n",
       "      <td>22.65</td>\n",
       "      <td>29.800000</td>\n",
       "      <td>25.083333</td>\n",
       "      <td>26.310345</td>\n",
       "      <td>28</td>\n",
       "      <td>19.0</td>\n",
       "      <td>22.484848</td>\n",
       "      <td>...</td>\n",
       "      <td>23.032258</td>\n",
       "      <td>20.948718</td>\n",
       "      <td>25.166667</td>\n",
       "      <td>21.210526</td>\n",
       "      <td>20.928571</td>\n",
       "      <td>22.846154</td>\n",
       "      <td>25.108696</td>\n",
       "      <td>25.153846</td>\n",
       "      <td>20.815789</td>\n",
       "      <td>23.812993</td>\n",
       "    </tr>\n",
       "  </tbody>\n",
       "</table>\n",
       "<p>12 rows × 78 columns</p>\n",
       "</div>"
      ],
      "text/plain": [
       "ProductId          1          2          3      4          5          6  \\\n",
       "Discount                                                                  \n",
       "0.0        17.772727  21.473684  28.800000  17.20  29.333333  26.750000   \n",
       "0.01        0.000000   0.000000   0.000000   0.00   0.000000   0.000000   \n",
       "0.02        0.000000   0.000000   0.000000   0.00   0.000000   1.000000   \n",
       "0.03        0.000000   0.000000   0.000000   0.00   0.000000   0.000000   \n",
       "0.04        0.000000   0.000000   0.000000   0.00   0.000000   0.000000   \n",
       "0.05       20.000000  16.666667   0.000000  50.00   0.000000  33.000000   \n",
       "0.06        0.000000   0.000000   0.000000   0.00   0.000000   0.000000   \n",
       "0.1        10.000000  20.000000  20.000000  22.50  15.000000   0.000000   \n",
       "0.15       19.600000  25.000000   0.000000  50.00   0.000000   0.000000   \n",
       "0.2        42.500000  24.700000   0.000000  18.00  38.500000   0.000000   \n",
       "0.25       27.800000  34.500000   0.000000  27.50  30.000000  20.000000   \n",
       "All        21.789474  24.022727  27.333333  22.65  29.800000  25.083333   \n",
       "\n",
       "ProductId          7   8     9         10    ...             69         70  \\\n",
       "Discount                                     ...                             \n",
       "0.0        29.904762  30   4.5  19.454545    ...      18.500000  19.043478   \n",
       "0.01        0.000000   0   0.0   0.000000    ...       0.000000   0.000000   \n",
       "0.02        0.000000   0   0.0   0.000000    ...       0.000000   0.000000   \n",
       "0.03        0.000000   0   0.0   0.000000    ...       0.000000   0.000000   \n",
       "0.04        0.000000   0   0.0   0.000000    ...       0.000000   0.000000   \n",
       "0.05       13.000000   0   0.0  20.000000    ...      31.666667  21.000000   \n",
       "0.06        0.000000   0   0.0   0.000000    ...       0.000000   0.000000   \n",
       "0.1        20.000000   2  20.0  19.000000    ...      21.333333  26.750000   \n",
       "0.15       26.500000  15  16.0  49.333333    ...      20.000000  29.000000   \n",
       "0.2        10.000000  30   0.0  25.000000    ...      27.250000  27.333333   \n",
       "0.25        0.000000  70  50.0  18.000000    ...      36.666667  17.250000   \n",
       "All        26.310345  28  19.0  22.484848    ...      23.032258  20.948718   \n",
       "\n",
       "ProductId         71         72         73         74         75         76  \\\n",
       "Discount                                                                      \n",
       "0.0        21.800000  19.677419  22.125000  22.600000  21.758621  22.730769   \n",
       "0.01        0.000000   0.000000   2.000000   0.000000   0.000000   0.000000   \n",
       "0.02        0.000000   0.000000   0.000000   0.000000   0.000000   0.000000   \n",
       "0.03        0.000000   0.000000   0.000000   0.000000   0.000000   0.000000   \n",
       "0.04        0.000000   0.000000   0.000000   0.000000   0.000000   0.000000   \n",
       "0.05       30.000000  20.000000  24.000000   0.000000  70.000000  33.000000   \n",
       "0.06        0.000000   0.000000   0.000000   0.000000   0.000000   0.000000   \n",
       "0.1        24.500000  26.333333  20.000000   0.000000  20.600000  30.000000   \n",
       "0.15       20.000000  27.500000  25.000000  20.000000  13.000000  27.000000   \n",
       "0.2        44.750000   0.000000  20.000000   0.000000  30.166667  47.000000   \n",
       "0.25       32.500000  42.000000   0.000000  25.500000   4.000000  20.500000   \n",
       "All        25.166667  21.210526  20.928571  22.846154  25.108696  25.153846   \n",
       "\n",
       "ProductId         77        All  \n",
       "Discount                         \n",
       "0.0        17.869565  21.715262  \n",
       "0.01        0.000000   2.000000  \n",
       "0.02        0.000000   2.000000  \n",
       "0.03        0.000000   1.666667  \n",
       "0.04        0.000000   1.000000  \n",
       "0.05       38.200000  28.010811  \n",
       "0.06        0.000000   2.000000  \n",
       "0.1        24.000000  25.236994  \n",
       "0.15       15.000000  28.382166  \n",
       "0.2         2.000000  27.024845  \n",
       "0.25       23.333333  28.240260  \n",
       "All        20.815789  23.812993  \n",
       "\n",
       "[12 rows x 78 columns]"
      ]
     },
     "execution_count": 11,
     "metadata": {},
     "output_type": "execute_result"
    }
   ],
   "source": [
    "order_discount_pivot"
   ]
  },
  {
   "cell_type": "markdown",
   "metadata": {},
   "source": [
    "This pivot table shows the average order quantity of each product based on discount. From afar, it does look more or less like the quantity increases based on discount level. First however, we'll test whether having a discount affects quantity in general. "
   ]
  },
  {
   "cell_type": "code",
   "execution_count": 12,
   "metadata": {},
   "outputs": [],
   "source": [
    "# Splitting DataFrame based on whether or not the order had a discount \n",
    "no_discount = order_df.query('Discount == 0.0')\n",
    "yes_discount = order_df.query('Discount > 0.0')"
   ]
  },
  {
   "cell_type": "code",
   "execution_count": 13,
   "metadata": {
    "scrolled": true
   },
   "outputs": [
    {
     "name": "stdout",
     "output_type": "stream",
     "text": [
      "Number of orders with a discount: 838\n",
      "Average order quantity on orders with discount applied: 27.11\n",
      "Number of orders without a discount: 1317\n",
      "Average order quantity on orders without discount applied: 21.72\n"
     ]
    }
   ],
   "source": [
    "print(f'Number of orders with a discount: {len(yes_discount)}')\n",
    "print(f'Average order quantity on orders with discount applied: {round(yes_discount.Quantity.mean(),2)}')\n",
    "\n",
    "print(f'Number of orders without a discount: {len(no_discount)}')\n",
    "print(f'Average order quantity on orders without discount applied: {round(no_discount.Quantity.mean(),2)}')\n"
   ]
  },
  {
   "cell_type": "markdown",
   "metadata": {},
   "source": [
    "## One-tailed T-Test"
   ]
  },
  {
   "cell_type": "code",
   "execution_count": 14,
   "metadata": {},
   "outputs": [],
   "source": [
    "alpha = .05 \n",
    "results = stats.ttest_ind(yes_discount.Quantity, no_discount.Quantity, equal_var=False)\n",
    "one_tailed_p = results[1]"
   ]
  },
  {
   "cell_type": "code",
   "execution_count": 15,
   "metadata": {},
   "outputs": [
    {
     "name": "stdout",
     "output_type": "stream",
     "text": [
      "With a p-value of 5.65641429030433e-10, we can safely reject the null hypothesis.\n"
     ]
    }
   ],
   "source": [
    "if one_tailed_p < alpha:\n",
    "    print(f'With a p-value of {one_tailed_p}, we can safely reject the null hypothesis.')\n",
    "else:\n",
    "    print('We cannot reject the null hypothesis.')"
   ]
  },
  {
   "cell_type": "code",
   "execution_count": 16,
   "metadata": {
    "scrolled": true
   },
   "outputs": [],
   "source": [
    "#Replace all discounts 6% or below with a 5% discount level because there are so few orders at those levels.\n",
    "to_replace = [.01, .02, .03, .04, .06]\n",
    "value = [.05, .05, .05, .05, .05]#if values to replace is a list, value MUST be the same length\n",
    "order_df.Discount.replace(to_replace=to_replace, value=value, inplace=True)"
   ]
  },
  {
   "cell_type": "markdown",
   "metadata": {},
   "source": [
    "## Calculate Effect Size of Discount with Cohen's D"
   ]
  },
  {
   "cell_type": "markdown",
   "metadata": {},
   "source": [
    "Cohen's D will tell us the discount that has the highest effect on order quantity. "
   ]
  },
  {
   "cell_type": "code",
   "execution_count": 17,
   "metadata": {},
   "outputs": [],
   "source": [
    "def Cohen_d(group1, group2):\n",
    "\n",
    "    # Compute Cohen's d.\n",
    "\n",
    "    # group1: Series or NumPy array\n",
    "    # group2: Series or NumPy array\n",
    "\n",
    "    # returns a floating point number \n",
    "\n",
    "    diff = group1.mean() - group2.mean()\n",
    "\n",
    "    n1, n2 = len(group1), len(group2)\n",
    "    var1 = group1.var()\n",
    "    var2 = group2.var()\n",
    "\n",
    "    # Calculate the pooled threshold as shown earlier\n",
    "    pooled_var = (n1 * var1 + n2 * var2) / (n1 + n2)\n",
    "    \n",
    "    # Calculate Cohen's d statistic\n",
    "    d = diff / np.sqrt(pooled_var)\n",
    "    \n",
    "    return d"
   ]
  },
  {
   "cell_type": "code",
   "execution_count": 72,
   "metadata": {
    "scrolled": true
   },
   "outputs": [
    {
     "name": "stdout",
     "output_type": "stream",
     "text": [
      "The effect size of a 5.0 percent discount is 0.347\n",
      "The effect size of a 10.0 percent discount is 0.196\n",
      "The effect size of a 15.0 percent discount is 0.372\n",
      "The effect size of a 20.0 percent discount is 0.301\n",
      "The effect size of a 25.0 percent discount is 0.367\n"
     ]
    }
   ],
   "source": [
    "discounts = [0.05, 0.1, 0.15, 0.2, 0.25]\n",
    "effect = []\n",
    "for discount in discounts: \n",
    "    experiment = yes_discount.loc[yes_discount['Discount'] == discount].Quantity\n",
    "    control = no_discount.Quantity\n",
    "    cd = Cohen_d(experiment, control)\n",
    "    effect.append(round(cd, 3))\n",
    "    print(f'The effect size of a {discount * 100} percent discount is {round(cd, 3)}')"
   ]
  },
  {
   "cell_type": "code",
   "execution_count": 77,
   "metadata": {},
   "outputs": [
    {
     "data": {
      "image/png": "[encoded data removed]",
      "text/plain": [
       "<Figure size 432x288 with 1 Axes>"
      ]
     },
     "metadata": {
      "needs_background": "light"
     },
     "output_type": "display_data"
    }
   ],
   "source": [
    "percents = [x*100 for x in discounts]\n",
    "plt.bar(percents, effect);"
   ]
  },
  {
   "cell_type": "markdown",
   "metadata": {},
   "source": [
    "The discount with the highest effect size is 15%, followed closely by a 25% discount. "
   ]
  },
  {
   "cell_type": "markdown",
   "metadata": {},
   "source": [
    "# Hypothesis 2"
   ]
  },
  {
   "cell_type": "markdown",
   "metadata": {},
   "source": [
    "$H_{0}$ The day of the week has no effect on order quantity. <br> \n",
    "$H_{1}$ The day of the week will cause a difference in order quantity. \n",
    "<br><br>\n",
    "This two-tailed t-test that aims to predict which items are most likely to be ordered (or not ordered) on certain days which would help mitigate any stock issues that could arise from under- or over-ordering. "
   ]
  },
  {
   "cell_type": "code",
   "execution_count": 19,
   "metadata": {
    "scrolled": false
   },
   "outputs": [
    {
     "data": {
      "text/html": [
       "<div>\n",
       "<style scoped>\n",
       "    .dataframe tbody tr th:only-of-type {\n",
       "        vertical-align: middle;\n",
       "    }\n",
       "\n",
       "    .dataframe tbody tr th {\n",
       "        vertical-align: top;\n",
       "    }\n",
       "\n",
       "    .dataframe thead th {\n",
       "        text-align: right;\n",
       "    }\n",
       "</style>\n",
       "<table border=\"1\" class=\"dataframe\">\n",
       "  <thead>\n",
       "    <tr style=\"text-align: right;\">\n",
       "      <th></th>\n",
       "      <th>ProductId</th>\n",
       "      <th>Quantity</th>\n",
       "      <th>OrderDate</th>\n",
       "    </tr>\n",
       "  </thead>\n",
       "  <tbody>\n",
       "    <tr>\n",
       "      <th>0</th>\n",
       "      <td>11</td>\n",
       "      <td>12</td>\n",
       "      <td>2012-07-04</td>\n",
       "    </tr>\n",
       "    <tr>\n",
       "      <th>1</th>\n",
       "      <td>42</td>\n",
       "      <td>10</td>\n",
       "      <td>2012-07-04</td>\n",
       "    </tr>\n",
       "    <tr>\n",
       "      <th>2</th>\n",
       "      <td>72</td>\n",
       "      <td>5</td>\n",
       "      <td>2012-07-04</td>\n",
       "    </tr>\n",
       "    <tr>\n",
       "      <th>3</th>\n",
       "      <td>14</td>\n",
       "      <td>9</td>\n",
       "      <td>2012-07-05</td>\n",
       "    </tr>\n",
       "    <tr>\n",
       "      <th>4</th>\n",
       "      <td>51</td>\n",
       "      <td>40</td>\n",
       "      <td>2012-07-05</td>\n",
       "    </tr>\n",
       "  </tbody>\n",
       "</table>\n",
       "</div>"
      ],
      "text/plain": [
       "   ProductId  Quantity   OrderDate\n",
       "0         11        12  2012-07-04\n",
       "1         42        10  2012-07-04\n",
       "2         72         5  2012-07-04\n",
       "3         14         9  2012-07-05\n",
       "4         51        40  2012-07-05"
      ]
     },
     "execution_count": 19,
     "metadata": {},
     "output_type": "execute_result"
    }
   ],
   "source": [
    "cur.execute(\"\"\"Select od.ProductId, od.Quantity, o.OrderDate\n",
    "               FROM OrderDetail AS od\n",
    "               JOIN 'Order' as o\n",
    "               ON o.Id = od.OrderID;\"\"\")\n",
    "order_df = pd.DataFrame(cur.fetchall()) \n",
    "order_df.columns = [i[0] for i in cur.description]\n",
    "order_df.head()"
   ]
  },
  {
   "cell_type": "code",
   "execution_count": 20,
   "metadata": {},
   "outputs": [],
   "source": [
    "#Adding a column that shows what day of the week the order was made\n",
    "order_df['OrderDate'] = pd.to_datetime(order_df.OrderDate)\n",
    "order_df['day_of_week'] = order_df['OrderDate'].dt.day_name()"
   ]
  },
  {
   "cell_type": "code",
   "execution_count": 21,
   "metadata": {
    "scrolled": true
   },
   "outputs": [
    {
     "data": {
      "text/html": [
       "<div>\n",
       "<style scoped>\n",
       "    .dataframe tbody tr th:only-of-type {\n",
       "        vertical-align: middle;\n",
       "    }\n",
       "\n",
       "    .dataframe tbody tr th {\n",
       "        vertical-align: top;\n",
       "    }\n",
       "\n",
       "    .dataframe thead th {\n",
       "        text-align: right;\n",
       "    }\n",
       "</style>\n",
       "<table border=\"1\" class=\"dataframe\">\n",
       "  <thead>\n",
       "    <tr style=\"text-align: right;\">\n",
       "      <th></th>\n",
       "      <th>ProductId</th>\n",
       "      <th>Quantity</th>\n",
       "      <th>OrderDate</th>\n",
       "      <th>day_of_week</th>\n",
       "    </tr>\n",
       "  </thead>\n",
       "  <tbody>\n",
       "    <tr>\n",
       "      <th>0</th>\n",
       "      <td>11</td>\n",
       "      <td>12</td>\n",
       "      <td>2012-07-04</td>\n",
       "      <td>Wednesday</td>\n",
       "    </tr>\n",
       "    <tr>\n",
       "      <th>1</th>\n",
       "      <td>42</td>\n",
       "      <td>10</td>\n",
       "      <td>2012-07-04</td>\n",
       "      <td>Wednesday</td>\n",
       "    </tr>\n",
       "    <tr>\n",
       "      <th>2</th>\n",
       "      <td>72</td>\n",
       "      <td>5</td>\n",
       "      <td>2012-07-04</td>\n",
       "      <td>Wednesday</td>\n",
       "    </tr>\n",
       "    <tr>\n",
       "      <th>3</th>\n",
       "      <td>14</td>\n",
       "      <td>9</td>\n",
       "      <td>2012-07-05</td>\n",
       "      <td>Thursday</td>\n",
       "    </tr>\n",
       "    <tr>\n",
       "      <th>4</th>\n",
       "      <td>51</td>\n",
       "      <td>40</td>\n",
       "      <td>2012-07-05</td>\n",
       "      <td>Thursday</td>\n",
       "    </tr>\n",
       "  </tbody>\n",
       "</table>\n",
       "</div>"
      ],
      "text/plain": [
       "   ProductId  Quantity  OrderDate day_of_week\n",
       "0         11        12 2012-07-04   Wednesday\n",
       "1         42        10 2012-07-04   Wednesday\n",
       "2         72         5 2012-07-04   Wednesday\n",
       "3         14         9 2012-07-05    Thursday\n",
       "4         51        40 2012-07-05    Thursday"
      ]
     },
     "execution_count": 21,
     "metadata": {},
     "output_type": "execute_result"
    }
   ],
   "source": [
    "order_df.head()"
   ]
  },
  {
   "cell_type": "markdown",
   "metadata": {},
   "source": [
    "## EDA for Hypothesis 2\n"
   ]
  },
  {
   "cell_type": "code",
   "execution_count": 22,
   "metadata": {},
   "outputs": [],
   "source": [
    "# Normalizing Data\n",
    "order_df.Quantity = order_df.Quantity.apply(np.log)"
   ]
  },
  {
   "cell_type": "code",
   "execution_count": 23,
   "metadata": {
    "scrolled": false
   },
   "outputs": [
    {
     "data": {
      "text/html": [
       "<div>\n",
       "<style scoped>\n",
       "    .dataframe tbody tr th:only-of-type {\n",
       "        vertical-align: middle;\n",
       "    }\n",
       "\n",
       "    .dataframe tbody tr th {\n",
       "        vertical-align: top;\n",
       "    }\n",
       "\n",
       "    .dataframe thead th {\n",
       "        text-align: right;\n",
       "    }\n",
       "</style>\n",
       "<table border=\"1\" class=\"dataframe\">\n",
       "  <thead>\n",
       "    <tr style=\"text-align: right;\">\n",
       "      <th>day_of_week</th>\n",
       "      <th>Monday</th>\n",
       "      <th>Sunday</th>\n",
       "      <th>Thursday</th>\n",
       "      <th>Tuesday</th>\n",
       "      <th>Wednesday</th>\n",
       "      <th>All</th>\n",
       "    </tr>\n",
       "    <tr>\n",
       "      <th>ProductId</th>\n",
       "      <th></th>\n",
       "      <th></th>\n",
       "      <th></th>\n",
       "      <th></th>\n",
       "      <th></th>\n",
       "      <th></th>\n",
       "    </tr>\n",
       "  </thead>\n",
       "  <tbody>\n",
       "    <tr>\n",
       "      <th>1</th>\n",
       "      <td>2.858345</td>\n",
       "      <td>2.530896</td>\n",
       "      <td>2.786384</td>\n",
       "      <td>3.188748</td>\n",
       "      <td>2.595236</td>\n",
       "      <td>2.752432</td>\n",
       "    </tr>\n",
       "    <tr>\n",
       "      <th>2</th>\n",
       "      <td>2.389001</td>\n",
       "      <td>2.882278</td>\n",
       "      <td>3.183746</td>\n",
       "      <td>3.088090</td>\n",
       "      <td>3.361936</td>\n",
       "      <td>2.927838</td>\n",
       "    </tr>\n",
       "    <tr>\n",
       "      <th>3</th>\n",
       "      <td>2.995732</td>\n",
       "      <td>3.176210</td>\n",
       "      <td>3.443776</td>\n",
       "      <td>2.594408</td>\n",
       "      <td>0.000000</td>\n",
       "      <td>3.060314</td>\n",
       "    </tr>\n",
       "    <tr>\n",
       "      <th>4</th>\n",
       "      <td>2.652773</td>\n",
       "      <td>2.925201</td>\n",
       "      <td>3.733686</td>\n",
       "      <td>1.445186</td>\n",
       "      <td>3.154876</td>\n",
       "      <td>2.835876</td>\n",
       "    </tr>\n",
       "    <tr>\n",
       "      <th>5</th>\n",
       "      <td>2.995732</td>\n",
       "      <td>2.596478</td>\n",
       "      <td>3.180584</td>\n",
       "      <td>3.585060</td>\n",
       "      <td>0.000000</td>\n",
       "      <td>3.126173</td>\n",
       "    </tr>\n",
       "  </tbody>\n",
       "</table>\n",
       "</div>"
      ],
      "text/plain": [
       "day_of_week    Monday    Sunday  Thursday   Tuesday  Wednesday       All\n",
       "ProductId                                                               \n",
       "1            2.858345  2.530896  2.786384  3.188748   2.595236  2.752432\n",
       "2            2.389001  2.882278  3.183746  3.088090   3.361936  2.927838\n",
       "3            2.995732  3.176210  3.443776  2.594408   0.000000  3.060314\n",
       "4            2.652773  2.925201  3.733686  1.445186   3.154876  2.835876\n",
       "5            2.995732  2.596478  3.180584  3.585060   0.000000  3.126173"
      ]
     },
     "execution_count": 23,
     "metadata": {},
     "output_type": "execute_result"
    }
   ],
   "source": [
    "weekday_quantity_pivot = pd.pivot_table(order_df, \n",
    "                                      index=\"ProductId\", \n",
    "                                      columns='day_of_week', \n",
    "                                      values=\"Quantity\",\n",
    "                                      fill_value=0.0, \n",
    "                                      margins=True)\n",
    "weekday_quantity_pivot.head()"
   ]
  },
  {
   "cell_type": "markdown",
   "metadata": {},
   "source": [
    "This pivot table shows the average order quantity per product per day of the week, with the last column showing average order quantities across all days of the week. The following process will demonstrate which days have significantly higher or lower order quantities as compared to the average order for that product."
   ]
  },
  {
   "cell_type": "code",
   "execution_count": 24,
   "metadata": {
    "scrolled": false
   },
   "outputs": [
    {
     "data": {
      "text/html": [
       "<div>\n",
       "<style scoped>\n",
       "    .dataframe tbody tr th:only-of-type {\n",
       "        vertical-align: middle;\n",
       "    }\n",
       "\n",
       "    .dataframe tbody tr th {\n",
       "        vertical-align: top;\n",
       "    }\n",
       "\n",
       "    .dataframe thead th {\n",
       "        text-align: right;\n",
       "    }\n",
       "</style>\n",
       "<table border=\"1\" class=\"dataframe\">\n",
       "  <thead>\n",
       "    <tr style=\"text-align: right;\">\n",
       "      <th></th>\n",
       "      <th>ProductId</th>\n",
       "      <th>Monday</th>\n",
       "      <th>Sunday</th>\n",
       "      <th>Thursday</th>\n",
       "      <th>Tuesday</th>\n",
       "      <th>Wednesday</th>\n",
       "      <th>All</th>\n",
       "    </tr>\n",
       "  </thead>\n",
       "  <tbody>\n",
       "    <tr>\n",
       "      <th>0</th>\n",
       "      <td>1</td>\n",
       "      <td>2.858345</td>\n",
       "      <td>2.530896</td>\n",
       "      <td>2.786384</td>\n",
       "      <td>3.188748</td>\n",
       "      <td>2.595236</td>\n",
       "      <td>2.752432</td>\n",
       "    </tr>\n",
       "    <tr>\n",
       "      <th>1</th>\n",
       "      <td>2</td>\n",
       "      <td>2.389001</td>\n",
       "      <td>2.882278</td>\n",
       "      <td>3.183746</td>\n",
       "      <td>3.088090</td>\n",
       "      <td>3.361936</td>\n",
       "      <td>2.927838</td>\n",
       "    </tr>\n",
       "    <tr>\n",
       "      <th>2</th>\n",
       "      <td>3</td>\n",
       "      <td>2.995732</td>\n",
       "      <td>3.176210</td>\n",
       "      <td>3.443776</td>\n",
       "      <td>2.594408</td>\n",
       "      <td>0.000000</td>\n",
       "      <td>3.060314</td>\n",
       "    </tr>\n",
       "    <tr>\n",
       "      <th>3</th>\n",
       "      <td>4</td>\n",
       "      <td>2.652773</td>\n",
       "      <td>2.925201</td>\n",
       "      <td>3.733686</td>\n",
       "      <td>1.445186</td>\n",
       "      <td>3.154876</td>\n",
       "      <td>2.835876</td>\n",
       "    </tr>\n",
       "    <tr>\n",
       "      <th>4</th>\n",
       "      <td>5</td>\n",
       "      <td>2.995732</td>\n",
       "      <td>2.596478</td>\n",
       "      <td>3.180584</td>\n",
       "      <td>3.585060</td>\n",
       "      <td>0.000000</td>\n",
       "      <td>3.126173</td>\n",
       "    </tr>\n",
       "  </tbody>\n",
       "</table>\n",
       "</div>"
      ],
      "text/plain": [
       "  ProductId    Monday    Sunday  Thursday   Tuesday  Wednesday       All\n",
       "0         1  2.858345  2.530896  2.786384  3.188748   2.595236  2.752432\n",
       "1         2  2.389001  2.882278  3.183746  3.088090   3.361936  2.927838\n",
       "2         3  2.995732  3.176210  3.443776  2.594408   0.000000  3.060314\n",
       "3         4  2.652773  2.925201  3.733686  1.445186   3.154876  2.835876\n",
       "4         5  2.995732  2.596478  3.180584  3.585060   0.000000  3.126173"
      ]
     },
     "execution_count": 24,
     "metadata": {},
     "output_type": "execute_result"
    }
   ],
   "source": [
    "#Making a dataframe from the pivot table\n",
    "weekday_quantity = pd.DataFrame(weekday_quantity_pivot.to_records())\n",
    "weekday_quantity.drop(77, axis=0, inplace=True)\n",
    "weekday_quantity.head()"
   ]
  },
  {
   "cell_type": "code",
   "execution_count": 25,
   "metadata": {},
   "outputs": [
    {
     "data": {
      "image/png": "[encoded data removed]",
      "text/plain": [
       "<Figure size 1440x432 with 1 Axes>"
      ]
     },
     "metadata": {
      "needs_background": "light"
     },
     "output_type": "display_data"
    },
    {
     "data": {
      "image/png": "[encoded data removed]",
      "text/plain": [
       "<Figure size 1440x432 with 1 Axes>"
      ]
     },
     "metadata": {
      "needs_background": "light"
     },
     "output_type": "display_data"
    },
    {
     "data": {
      "image/png": "[encoded data removed]",
      "text/plain": [
       "<Figure size 1440x432 with 1 Axes>"
      ]
     },
     "metadata": {
      "needs_background": "light"
     },
     "output_type": "display_data"
    },
    {
     "data": {
      "image/png": "[encoded data removed]",
      "text/plain": [
       "<Figure size 1440x432 with 1 Axes>"
      ]
     },
     "metadata": {
      "needs_background": "light"
     },
     "output_type": "display_data"
    },
    {
     "data": {
      "image/png": "[encoded data removed]",
      "text/plain": [
       "<Figure size 1440x432 with 1 Axes>"
      ]
     },
     "metadata": {
      "needs_background": "light"
     },
     "output_type": "display_data"
    }
   ],
   "source": [
    "order_days = [\"Monday\", \"Tuesday\", \"Wednesday\", \"Thursday\", \"Sunday\"] #No orders on Friday or Saturday\n",
    "for day in order_days:     \n",
    "    \n",
    "    fig = plt.figure(figsize=(20, 6))\n",
    "    ax = fig.add_subplot(111)\n",
    "    sns.barplot(weekday_quantity.ProductId, weekday_quantity[day], palette=\"deep\")\n",
    "    ax.set_xticks(range(0,78,1))\n",
    "    ax.set_xticklabels( range(1,78,1), rotation=45)\n",
    "    for tick in ax.xaxis.get_major_ticks()[1::2]:\n",
    "        tick.set_pad(15)\n",
    "    plt.ylim(top=5)    \n",
    "    plt.xlabel(\"Product ID Number\")\n",
    "    plt.ylabel(\"Quantity Ordered\")\n",
    "    plt.title(f\"Average Order Quantity per Product On {day}s\");"
   ]
  },
  {
   "cell_type": "markdown",
   "metadata": {},
   "source": [
    "The previous graphs illustrate average order quantity per day per product for each order day. The colors do not represent anything and are used to make it easier to read. From this, we can see that certain products have never been ordered on certain days, and that some days vary drastically. Tuesday generally seems to have lower quantities. \n",
    "\n",
    "The following code is written in order to conduct a one sample, two tailed T-test for every product that was ordered for each day of the week, then put it concisely in a dataframe."
   ]
  },
  {
   "cell_type": "markdown",
   "metadata": {},
   "source": [
    "## Two-tailed T-Test"
   ]
  },
  {
   "cell_type": "code",
   "execution_count": 31,
   "metadata": {
    "scrolled": true
   },
   "outputs": [
    {
     "name": "stderr",
     "output_type": "stream",
     "text": [
      "/Users/Allie/anaconda3/envs/learn-env/lib/python3.6/site-packages/numpy/core/fromnumeric.py:3367: RuntimeWarning: Degrees of freedom <= 0 for slice\n",
      "  **kwargs)\n",
      "/Users/Allie/anaconda3/envs/learn-env/lib/python3.6/site-packages/numpy/core/_methods.py:132: RuntimeWarning: invalid value encountered in double_scalars\n",
      "  ret = ret.dtype.type(ret / rcount)\n",
      "/Users/Allie/anaconda3/envs/learn-env/lib/python3.6/site-packages/numpy/core/fromnumeric.py:3118: RuntimeWarning: Mean of empty slice.\n",
      "  out=out, **kwargs)\n",
      "/Users/Allie/anaconda3/envs/learn-env/lib/python3.6/site-packages/numpy/core/_methods.py:85: RuntimeWarning: invalid value encountered in double_scalars\n",
      "  ret = ret.dtype.type(ret / rcount)\n",
      "/Users/Allie/anaconda3/envs/learn-env/lib/python3.6/site-packages/numpy/core/_methods.py:110: RuntimeWarning: invalid value encountered in true_divide\n",
      "  arrmean, rcount, out=arrmean, casting='unsafe', subok=False)\n"
     ]
    }
   ],
   "source": [
    "\n",
    "pop_means = weekday_quantity.All # Population mean\n",
    "alpha = .05 # Significance level\n",
    "\n",
    "\n",
    "p_vals = []\n",
    "d_o_w = []\n",
    "product_id = []\n",
    "difference = []\n",
    "for day in order_days:\n",
    "    day_order = order_df.loc[order_df[\"day_of_week\"] == day] #sort by day\n",
    "    for i in np.arange(1,78): # Sort by product ID\n",
    "        pop_mean = pop_means[i-1] #Population mean series begins at 0\n",
    "        a = day_order.loc[day_order[\"ProductId\"]==i].Quantity\n",
    "        \n",
    "        T, two_tailed_p = stats.ttest_1samp(a=a, popmean=pop_mean)\n",
    "        if alpha > two_tailed_p/2:\n",
    "            difference.append(np.exp(a).mean()-np.exp(pop_mean))\n",
    "            p_vals.append(round(two_tailed_p,2))\n",
    "            d_o_w.append(day)\n",
    "            product_id.append(i)\n",
    "        else:\n",
    "            continue\n",
    "            \n",
    "results_df = pd.DataFrame([p_vals, d_o_w, product_id, difference]).transpose()\n",
    "results_df.columns = ['PVal', \"Day\", \"ProductID\", \"Difference\"]"
   ]
  },
  {
   "cell_type": "code",
   "execution_count": 66,
   "metadata": {},
   "outputs": [
    {
     "name": "stdout",
     "output_type": "stream",
     "text": [
      "<class 'pandas.core.frame.DataFrame'>\n",
      "RangeIndex: 77 entries, 0 to 76\n",
      "Data columns (total 2 columns):\n",
      "ProductID      77 non-null int64\n",
      "ProductName    77 non-null object\n",
      "dtypes: int64(1), object(1)\n",
      "memory usage: 1.3+ KB\n",
      "None\n"
     ]
    },
    {
     "data": {
      "text/html": [
       "<div>\n",
       "<style scoped>\n",
       "    .dataframe tbody tr th:only-of-type {\n",
       "        vertical-align: middle;\n",
       "    }\n",
       "\n",
       "    .dataframe tbody tr th {\n",
       "        vertical-align: top;\n",
       "    }\n",
       "\n",
       "    .dataframe thead th {\n",
       "        text-align: right;\n",
       "    }\n",
       "</style>\n",
       "<table border=\"1\" class=\"dataframe\">\n",
       "  <thead>\n",
       "    <tr style=\"text-align: right;\">\n",
       "      <th></th>\n",
       "      <th>ProductID</th>\n",
       "      <th>ProductName</th>\n",
       "    </tr>\n",
       "  </thead>\n",
       "  <tbody>\n",
       "    <tr>\n",
       "      <th>0</th>\n",
       "      <td>1</td>\n",
       "      <td>Chai</td>\n",
       "    </tr>\n",
       "    <tr>\n",
       "      <th>1</th>\n",
       "      <td>2</td>\n",
       "      <td>Chang</td>\n",
       "    </tr>\n",
       "    <tr>\n",
       "      <th>2</th>\n",
       "      <td>3</td>\n",
       "      <td>Aniseed Syrup</td>\n",
       "    </tr>\n",
       "    <tr>\n",
       "      <th>3</th>\n",
       "      <td>4</td>\n",
       "      <td>Chef Anton's Cajun Seasoning</td>\n",
       "    </tr>\n",
       "    <tr>\n",
       "      <th>4</th>\n",
       "      <td>5</td>\n",
       "      <td>Chef Anton's Gumbo Mix</td>\n",
       "    </tr>\n",
       "  </tbody>\n",
       "</table>\n",
       "</div>"
      ],
      "text/plain": [
       "   ProductID                   ProductName\n",
       "0          1                          Chai\n",
       "1          2                         Chang\n",
       "2          3                 Aniseed Syrup\n",
       "3          4  Chef Anton's Cajun Seasoning\n",
       "4          5        Chef Anton's Gumbo Mix"
      ]
     },
     "execution_count": 66,
     "metadata": {},
     "output_type": "execute_result"
    }
   ],
   "source": [
    "cur.execute(\"\"\"Select p.Id, p.ProductName\n",
    "               FROM Product AS p;\"\"\")\n",
    "product_df = pd.DataFrame(cur.fetchall()) \n",
    "product_df.columns = [\"ProductID\", \"ProductName\"]\n",
    "print(product_df.info())\n",
    "product_df.head()\n"
   ]
  },
  {
   "cell_type": "code",
   "execution_count": 69,
   "metadata": {},
   "outputs": [],
   "source": [
    "results_df.ProductID = results_df.ProductID.astype(int)\n",
    "results_df = pd.merge(results_df, product_df, on='ProductID', how='inner')"
   ]
  },
  {
   "cell_type": "code",
   "execution_count": 71,
   "metadata": {},
   "outputs": [
    {
     "data": {
      "text/html": [
       "<div>\n",
       "<style scoped>\n",
       "    .dataframe tbody tr th:only-of-type {\n",
       "        vertical-align: middle;\n",
       "    }\n",
       "\n",
       "    .dataframe tbody tr th {\n",
       "        vertical-align: top;\n",
       "    }\n",
       "\n",
       "    .dataframe thead th {\n",
       "        text-align: right;\n",
       "    }\n",
       "</style>\n",
       "<table border=\"1\" class=\"dataframe\">\n",
       "  <thead>\n",
       "    <tr style=\"text-align: right;\">\n",
       "      <th></th>\n",
       "      <th>PVal</th>\n",
       "      <th>Day</th>\n",
       "      <th>ProductID</th>\n",
       "      <th>Difference</th>\n",
       "      <th>ProductName</th>\n",
       "    </tr>\n",
       "  </thead>\n",
       "  <tbody>\n",
       "    <tr>\n",
       "      <th>0</th>\n",
       "      <td>0</td>\n",
       "      <td>Monday</td>\n",
       "      <td>2</td>\n",
       "      <td>-6.68718</td>\n",
       "      <td>Chang</td>\n",
       "    </tr>\n",
       "    <tr>\n",
       "      <th>1</th>\n",
       "      <td>0.07</td>\n",
       "      <td>Monday</td>\n",
       "      <td>10</td>\n",
       "      <td>18.6286</td>\n",
       "      <td>Ikura</td>\n",
       "    </tr>\n",
       "    <tr>\n",
       "      <th>2</th>\n",
       "      <td>0.02</td>\n",
       "      <td>Monday</td>\n",
       "      <td>16</td>\n",
       "      <td>13.0167</td>\n",
       "      <td>Pavlova</td>\n",
       "    </tr>\n",
       "    <tr>\n",
       "      <th>4</th>\n",
       "      <td>0.09</td>\n",
       "      <td>Monday</td>\n",
       "      <td>25</td>\n",
       "      <td>15.5324</td>\n",
       "      <td>NuNuCa Nuß-Nougat-Creme</td>\n",
       "    </tr>\n",
       "    <tr>\n",
       "      <th>6</th>\n",
       "      <td>0.06</td>\n",
       "      <td>Monday</td>\n",
       "      <td>28</td>\n",
       "      <td>11.1188</td>\n",
       "      <td>Rössle Sauerkraut</td>\n",
       "    </tr>\n",
       "    <tr>\n",
       "      <th>7</th>\n",
       "      <td>0.03</td>\n",
       "      <td>Monday</td>\n",
       "      <td>36</td>\n",
       "      <td>-9.83162</td>\n",
       "      <td>Inlagd Sill</td>\n",
       "    </tr>\n",
       "    <tr>\n",
       "      <th>9</th>\n",
       "      <td>0.02</td>\n",
       "      <td>Monday</td>\n",
       "      <td>56</td>\n",
       "      <td>17.5383</td>\n",
       "      <td>Gnocchi di nonna Alice</td>\n",
       "    </tr>\n",
       "    <tr>\n",
       "      <th>10</th>\n",
       "      <td>0.03</td>\n",
       "      <td>Monday</td>\n",
       "      <td>67</td>\n",
       "      <td>13.021</td>\n",
       "      <td>Laughing Lumberjack Lager</td>\n",
       "    </tr>\n",
       "    <tr>\n",
       "      <th>28</th>\n",
       "      <td>0.1</td>\n",
       "      <td>Sunday</td>\n",
       "      <td>20</td>\n",
       "      <td>14.4369</td>\n",
       "      <td>Sir Rodney's Marmalade</td>\n",
       "    </tr>\n",
       "    <tr>\n",
       "      <th>27</th>\n",
       "      <td>0.04</td>\n",
       "      <td>Sunday</td>\n",
       "      <td>14</td>\n",
       "      <td>15.4982</td>\n",
       "      <td>Tofu</td>\n",
       "    </tr>\n",
       "    <tr>\n",
       "      <th>23</th>\n",
       "      <td>0.09</td>\n",
       "      <td>Sunday</td>\n",
       "      <td>12</td>\n",
       "      <td>12.5378</td>\n",
       "      <td>Queso Manchego La Pastora</td>\n",
       "    </tr>\n",
       "    <tr>\n",
       "      <th>29</th>\n",
       "      <td>0.05</td>\n",
       "      <td>Sunday</td>\n",
       "      <td>31</td>\n",
       "      <td>14.2762</td>\n",
       "      <td>Gorgonzola Telino</td>\n",
       "    </tr>\n",
       "    <tr>\n",
       "      <th>30</th>\n",
       "      <td>0.01</td>\n",
       "      <td>Sunday</td>\n",
       "      <td>43</td>\n",
       "      <td>10.0106</td>\n",
       "      <td>Ipoh Coffee</td>\n",
       "    </tr>\n",
       "    <tr>\n",
       "      <th>3</th>\n",
       "      <td>0.01</td>\n",
       "      <td>Sunday</td>\n",
       "      <td>16</td>\n",
       "      <td>14.2667</td>\n",
       "      <td>Pavlova</td>\n",
       "    </tr>\n",
       "    <tr>\n",
       "      <th>8</th>\n",
       "      <td>0</td>\n",
       "      <td>Sunday</td>\n",
       "      <td>36</td>\n",
       "      <td>17.9541</td>\n",
       "      <td>Inlagd Sill</td>\n",
       "    </tr>\n",
       "    <tr>\n",
       "      <th>15</th>\n",
       "      <td>0.06</td>\n",
       "      <td>Thursday</td>\n",
       "      <td>19</td>\n",
       "      <td>10.0401</td>\n",
       "      <td>Teatime Chocolate Biscuits</td>\n",
       "    </tr>\n",
       "    <tr>\n",
       "      <th>26</th>\n",
       "      <td>0.08</td>\n",
       "      <td>Thursday</td>\n",
       "      <td>77</td>\n",
       "      <td>12.3334</td>\n",
       "      <td>Original Frankfurter grüne Soße</td>\n",
       "    </tr>\n",
       "    <tr>\n",
       "      <th>25</th>\n",
       "      <td>0</td>\n",
       "      <td>Thursday</td>\n",
       "      <td>58</td>\n",
       "      <td>5.26643</td>\n",
       "      <td>Escargots de Bourgogne</td>\n",
       "    </tr>\n",
       "    <tr>\n",
       "      <th>24</th>\n",
       "      <td>0.01</td>\n",
       "      <td>Thursday</td>\n",
       "      <td>29</td>\n",
       "      <td>15.607</td>\n",
       "      <td>Thüringer Rostbratwurst</td>\n",
       "    </tr>\n",
       "    <tr>\n",
       "      <th>19</th>\n",
       "      <td>0.04</td>\n",
       "      <td>Thursday</td>\n",
       "      <td>47</td>\n",
       "      <td>20.7529</td>\n",
       "      <td>Zaanse koeken</td>\n",
       "    </tr>\n",
       "    <tr>\n",
       "      <th>12</th>\n",
       "      <td>0.05</td>\n",
       "      <td>Thursday</td>\n",
       "      <td>11</td>\n",
       "      <td>14.886</td>\n",
       "      <td>Queso Cabrales</td>\n",
       "    </tr>\n",
       "    <tr>\n",
       "      <th>5</th>\n",
       "      <td>0.08</td>\n",
       "      <td>Tuesday</td>\n",
       "      <td>25</td>\n",
       "      <td>-4.06755</td>\n",
       "      <td>NuNuCa Nuß-Nougat-Creme</td>\n",
       "    </tr>\n",
       "    <tr>\n",
       "      <th>13</th>\n",
       "      <td>0</td>\n",
       "      <td>Tuesday</td>\n",
       "      <td>18</td>\n",
       "      <td>-8.20165</td>\n",
       "      <td>Carnarvon Tigers</td>\n",
       "    </tr>\n",
       "    <tr>\n",
       "      <th>20</th>\n",
       "      <td>0.03</td>\n",
       "      <td>Tuesday</td>\n",
       "      <td>49</td>\n",
       "      <td>12.4456</td>\n",
       "      <td>Maxilaku</td>\n",
       "    </tr>\n",
       "    <tr>\n",
       "      <th>18</th>\n",
       "      <td>0.1</td>\n",
       "      <td>Tuesday</td>\n",
       "      <td>47</td>\n",
       "      <td>16.7529</td>\n",
       "      <td>Zaanse koeken</td>\n",
       "    </tr>\n",
       "    <tr>\n",
       "      <th>17</th>\n",
       "      <td>0.01</td>\n",
       "      <td>Tuesday</td>\n",
       "      <td>42</td>\n",
       "      <td>12.1152</td>\n",
       "      <td>Singaporean Hokkien Fried Mee</td>\n",
       "    </tr>\n",
       "    <tr>\n",
       "      <th>16</th>\n",
       "      <td>0.04</td>\n",
       "      <td>Tuesday</td>\n",
       "      <td>30</td>\n",
       "      <td>11.5104</td>\n",
       "      <td>Nord-Ost Matjeshering</td>\n",
       "    </tr>\n",
       "    <tr>\n",
       "      <th>11</th>\n",
       "      <td>0.09</td>\n",
       "      <td>Tuesday</td>\n",
       "      <td>11</td>\n",
       "      <td>-4.42352</td>\n",
       "      <td>Queso Cabrales</td>\n",
       "    </tr>\n",
       "    <tr>\n",
       "      <th>14</th>\n",
       "      <td>0.05</td>\n",
       "      <td>Tuesday</td>\n",
       "      <td>19</td>\n",
       "      <td>-4.81709</td>\n",
       "      <td>Teatime Chocolate Biscuits</td>\n",
       "    </tr>\n",
       "    <tr>\n",
       "      <th>22</th>\n",
       "      <td>0</td>\n",
       "      <td>Wednesday</td>\n",
       "      <td>12</td>\n",
       "      <td>3.87114</td>\n",
       "      <td>Queso Manchego La Pastora</td>\n",
       "    </tr>\n",
       "    <tr>\n",
       "      <th>21</th>\n",
       "      <td>0.04</td>\n",
       "      <td>Wednesday</td>\n",
       "      <td>4</td>\n",
       "      <td>6.70468</td>\n",
       "      <td>Chef Anton's Cajun Seasoning</td>\n",
       "    </tr>\n",
       "  </tbody>\n",
       "</table>\n",
       "</div>"
      ],
      "text/plain": [
       "    PVal        Day  ProductID Difference                      ProductName\n",
       "0      0     Monday          2   -6.68718                            Chang\n",
       "1   0.07     Monday         10    18.6286                            Ikura\n",
       "2   0.02     Monday         16    13.0167                          Pavlova\n",
       "4   0.09     Monday         25    15.5324          NuNuCa Nuß-Nougat-Creme\n",
       "6   0.06     Monday         28    11.1188                Rössle Sauerkraut\n",
       "7   0.03     Monday         36   -9.83162                      Inlagd Sill\n",
       "9   0.02     Monday         56    17.5383           Gnocchi di nonna Alice\n",
       "10  0.03     Monday         67     13.021        Laughing Lumberjack Lager\n",
       "28   0.1     Sunday         20    14.4369           Sir Rodney's Marmalade\n",
       "27  0.04     Sunday         14    15.4982                             Tofu\n",
       "23  0.09     Sunday         12    12.5378        Queso Manchego La Pastora\n",
       "29  0.05     Sunday         31    14.2762                Gorgonzola Telino\n",
       "30  0.01     Sunday         43    10.0106                      Ipoh Coffee\n",
       "3   0.01     Sunday         16    14.2667                          Pavlova\n",
       "8      0     Sunday         36    17.9541                      Inlagd Sill\n",
       "15  0.06   Thursday         19    10.0401       Teatime Chocolate Biscuits\n",
       "26  0.08   Thursday         77    12.3334  Original Frankfurter grüne Soße\n",
       "25     0   Thursday         58    5.26643           Escargots de Bourgogne\n",
       "24  0.01   Thursday         29     15.607          Thüringer Rostbratwurst\n",
       "19  0.04   Thursday         47    20.7529                    Zaanse koeken\n",
       "12  0.05   Thursday         11     14.886                   Queso Cabrales\n",
       "5   0.08    Tuesday         25   -4.06755          NuNuCa Nuß-Nougat-Creme\n",
       "13     0    Tuesday         18   -8.20165                 Carnarvon Tigers\n",
       "20  0.03    Tuesday         49    12.4456                         Maxilaku\n",
       "18   0.1    Tuesday         47    16.7529                    Zaanse koeken\n",
       "17  0.01    Tuesday         42    12.1152    Singaporean Hokkien Fried Mee\n",
       "16  0.04    Tuesday         30    11.5104            Nord-Ost Matjeshering\n",
       "11  0.09    Tuesday         11   -4.42352                   Queso Cabrales\n",
       "14  0.05    Tuesday         19   -4.81709       Teatime Chocolate Biscuits\n",
       "22     0  Wednesday         12    3.87114        Queso Manchego La Pastora\n",
       "21  0.04  Wednesday          4    6.70468     Chef Anton's Cajun Seasoning"
      ]
     },
     "execution_count": 71,
     "metadata": {},
     "output_type": "execute_result"
    }
   ],
   "source": [
    "results_df.sort_values(by=\"Day\")"
   ]
  },
  {
   "cell_type": "markdown",
   "metadata": {},
   "source": [
    "Results: The above dataframe illustrates which products on which days historically have significantly lower or higher order counts, which can help stockists increase or decrease how much of those products are in stock so the company does not have a surplus of perishable food, nor under-stocks which can cause clients to switch to a competitor. \n",
    "\n",
    "Positive values in the difference column indicate larger orders on those days, so stock should increase. Negative values indicate smaller orders for those products. \n",
    "\n",
    "The null hypothesis was not rejected for most products on most days, however once the data becomes more robust, more analysis can be done. From here, we should check for increases of certain products around holidays, seasons, etc. and consistently run weekly analyses to best continue to suit our customers' needs."
   ]
  },
  {
   "cell_type": "markdown",
   "metadata": {},
   "source": [
    "# Hypothesis 3"
   ]
  },
  {
   "cell_type": "markdown",
   "metadata": {},
   "source": [
    "$H_{0}$ Order total does not change based on country where order is placed. \n",
    "<br> \n",
    "$H_{1}$ Order country has an effect on order total.  \n",
    "\n",
    "This is a two-tailed t-test."
   ]
  },
  {
   "cell_type": "code",
   "execution_count": 35,
   "metadata": {
    "scrolled": true
   },
   "outputs": [
    {
     "data": {
      "text/html": [
       "<div>\n",
       "<style scoped>\n",
       "    .dataframe tbody tr th:only-of-type {\n",
       "        vertical-align: middle;\n",
       "    }\n",
       "\n",
       "    .dataframe tbody tr th {\n",
       "        vertical-align: top;\n",
       "    }\n",
       "\n",
       "    .dataframe thead th {\n",
       "        text-align: right;\n",
       "    }\n",
       "</style>\n",
       "<table border=\"1\" class=\"dataframe\">\n",
       "  <thead>\n",
       "    <tr style=\"text-align: right;\">\n",
       "      <th></th>\n",
       "      <th>ProductId</th>\n",
       "      <th>OrderId</th>\n",
       "      <th>Quantity</th>\n",
       "      <th>Discount</th>\n",
       "      <th>UnitPrice</th>\n",
       "      <th>ShipCountry</th>\n",
       "    </tr>\n",
       "  </thead>\n",
       "  <tbody>\n",
       "    <tr>\n",
       "      <th>0</th>\n",
       "      <td>11</td>\n",
       "      <td>10248</td>\n",
       "      <td>12</td>\n",
       "      <td>0.0</td>\n",
       "      <td>14.0</td>\n",
       "      <td>France</td>\n",
       "    </tr>\n",
       "    <tr>\n",
       "      <th>1</th>\n",
       "      <td>42</td>\n",
       "      <td>10248</td>\n",
       "      <td>10</td>\n",
       "      <td>0.0</td>\n",
       "      <td>9.8</td>\n",
       "      <td>France</td>\n",
       "    </tr>\n",
       "    <tr>\n",
       "      <th>2</th>\n",
       "      <td>72</td>\n",
       "      <td>10248</td>\n",
       "      <td>5</td>\n",
       "      <td>0.0</td>\n",
       "      <td>34.8</td>\n",
       "      <td>France</td>\n",
       "    </tr>\n",
       "    <tr>\n",
       "      <th>3</th>\n",
       "      <td>14</td>\n",
       "      <td>10249</td>\n",
       "      <td>9</td>\n",
       "      <td>0.0</td>\n",
       "      <td>18.6</td>\n",
       "      <td>Germany</td>\n",
       "    </tr>\n",
       "    <tr>\n",
       "      <th>4</th>\n",
       "      <td>51</td>\n",
       "      <td>10249</td>\n",
       "      <td>40</td>\n",
       "      <td>0.0</td>\n",
       "      <td>42.4</td>\n",
       "      <td>Germany</td>\n",
       "    </tr>\n",
       "  </tbody>\n",
       "</table>\n",
       "</div>"
      ],
      "text/plain": [
       "   ProductId  OrderId  Quantity  Discount  UnitPrice ShipCountry\n",
       "0         11    10248        12       0.0       14.0      France\n",
       "1         42    10248        10       0.0        9.8      France\n",
       "2         72    10248         5       0.0       34.8      France\n",
       "3         14    10249         9       0.0       18.6     Germany\n",
       "4         51    10249        40       0.0       42.4     Germany"
      ]
     },
     "execution_count": 35,
     "metadata": {},
     "output_type": "execute_result"
    }
   ],
   "source": [
    "cur.execute(\"\"\"Select od.ProductId, od.OrderID, od.Quantity, od.Discount, od.UnitPrice, o.ShipCountry\n",
    "               FROM OrderDetail AS od\n",
    "               JOIN 'Order' as o\n",
    "               ON o.Id = od.OrderID;\"\"\")\n",
    "country_df= pd.DataFrame(cur.fetchall())\n",
    "country_df.columns = [x[0] for x in cur.description]\n",
    "country_df.head()"
   ]
  },
  {
   "cell_type": "markdown",
   "metadata": {},
   "source": [
    "## EDA for Hypothesis 3"
   ]
  },
  {
   "cell_type": "code",
   "execution_count": 36,
   "metadata": {},
   "outputs": [],
   "source": [
    "# Calculate unit price with discount\n",
    "# Multiply new unit price with Quantity\n",
    "# Add all quantity totals for all items with same Order ID\n",
    "\n",
    "country_df['ItemTotal_WithDiscount'] = round((1-country_df['Discount']) * country_df['UnitPrice'],2) * country_df['Quantity']"
   ]
  },
  {
   "cell_type": "code",
   "execution_count": 37,
   "metadata": {},
   "outputs": [],
   "source": [
    "order_total_df = country_df.loc[:,['OrderId','ShipCountry','ItemTotal_WithDiscount']]"
   ]
  },
  {
   "cell_type": "code",
   "execution_count": 38,
   "metadata": {},
   "outputs": [],
   "source": [
    "total_by_country = order_total_df.groupby(['OrderId', 'ShipCountry']).sum()"
   ]
  },
  {
   "cell_type": "code",
   "execution_count": 39,
   "metadata": {
    "scrolled": true
   },
   "outputs": [
    {
     "data": {
      "image/png": "[encoded data removed]",
      "text/plain": [
       "<Figure size 1080x576 with 1 Axes>"
      ]
     },
     "metadata": {
      "needs_background": "light"
     },
     "output_type": "display_data"
    }
   ],
   "source": [
    "total_by_country.boxplot('ItemTotal_WithDiscount', by='ShipCountry', figsize=(15, 8))\n",
    "plt.title(\"Statistical Distribution of Order Total per Country\")\n",
    "plt.xlabel(\"Country\")\n",
    "plt.ylabel(\"Order Total (USD)\");"
   ]
  },
  {
   "cell_type": "markdown",
   "metadata": {},
   "source": [
    "This box plot seems to show that there are a few countries with massive outliters that reach far and away from the average order from their respective country. It seems as if the highest range is around 2500 or less for most countries, while the highest single order reaches to neary 17,500."
   ]
  },
  {
   "cell_type": "code",
   "execution_count": 40,
   "metadata": {},
   "outputs": [],
   "source": [
    "total_by_country = total_by_country.reset_index()\n",
    "q = total_by_country.ItemTotal_WithDiscount.quantile(0.99)\n",
    "total_by_country = total_by_country[total_by_country[\"ItemTotal_WithDiscount\"] < q] \n",
    "#Resetting index and removing rows with totals more than 3 standard deviations from the mean"
   ]
  },
  {
   "cell_type": "markdown",
   "metadata": {},
   "source": [
    "The distribution is heavily positively skewed, so it would be in our best interest to normalize, as seen below."
   ]
  },
  {
   "cell_type": "code",
   "execution_count": 41,
   "metadata": {
    "scrolled": true
   },
   "outputs": [
    {
     "name": "stderr",
     "output_type": "stream",
     "text": [
      "/Users/Allie/anaconda3/envs/learn-env/lib/python3.6/site-packages/scipy/stats/stats.py:1713: FutureWarning: Using a non-tuple sequence for multidimensional indexing is deprecated; use `arr[tuple(seq)]` instead of `arr[seq]`. In the future this will be interpreted as an array index, `arr[np.array(seq)]`, which will result either in an error or a different result.\n",
      "  return np.add.reduce(sorted[indexer] * weights, axis=axis) / sumval\n"
     ]
    },
    {
     "data": {
      "image/png": "[encoded data removed]",
      "text/plain": [
       "<Figure size 432x288 with 1 Axes>"
      ]
     },
     "metadata": {
      "needs_background": "light"
     },
     "output_type": "display_data"
    },
    {
     "data": {
      "image/png": "[encoded data removed]",
      "text/plain": [
       "<Figure size 432x288 with 1 Axes>"
      ]
     },
     "metadata": {
      "needs_background": "light"
     },
     "output_type": "display_data"
    }
   ],
   "source": [
    "plt.figure()\n",
    "\n",
    "sns.distplot(total_by_country.ItemTotal_WithDiscount)\n",
    "\n",
    "total_by_country['LogItemTotal_WithDiscount'] = total_by_country.ItemTotal_WithDiscount.apply(np.log)\n",
    "plt.figure()\n",
    "sns.distplot(total_by_country.LogItemTotal_WithDiscount);"
   ]
  },
  {
   "cell_type": "code",
   "execution_count": 42,
   "metadata": {
    "scrolled": false
   },
   "outputs": [
    {
     "data": {
      "image/png": "[encoded data removed]",
      "text/plain": [
       "<Figure size 1080x576 with 1 Axes>"
      ]
     },
     "metadata": {
      "needs_background": "light"
     },
     "output_type": "display_data"
    }
   ],
   "source": [
    "total_by_country.boxplot('LogItemTotal_WithDiscount', by='ShipCountry', figsize=(15, 8))\n",
    "plt.title(\"Statistical Distribution of Order Total per Country\")\n",
    "plt.xlabel(\"Country\")\n",
    "plt.ylabel(\"Order Total (USD)\");"
   ]
  },
  {
   "cell_type": "code",
   "execution_count": 43,
   "metadata": {},
   "outputs": [],
   "source": [
    "countries =  list(total_by_country.ShipCountry.unique())\n",
    "pop_mean = total_by_country.LogItemTotal_WithDiscount.mean()\n",
    "avg_order = []\n",
    "countries_to_look_at = []\n",
    "\n",
    "for country in countries:\n",
    "    a = total_by_country.loc[total_by_country[\"ShipCountry\"]==country].LogItemTotal_WithDiscount\n",
    "    T, two_tailed_p = stats.ttest_1samp(a=a, popmean=pop_mean)\n",
    "    \n",
    "    if alpha>two_tailed_p/2:\n",
    "        countries_to_look_at.append(country)\n",
    "        avg_order.append(round(np.exp(a).mean()-np.exp(pop_mean), 2))"
   ]
  },
  {
   "cell_type": "code",
   "execution_count": 44,
   "metadata": {},
   "outputs": [],
   "source": [
    "df = pd.DataFrame([countries_to_look_at, avg_order]).transpose()\n",
    "df.columns = [\"Country\", \"Avg_Order_Diff\"]"
   ]
  },
  {
   "cell_type": "code",
   "execution_count": 45,
   "metadata": {},
   "outputs": [
    {
     "data": {
      "text/html": [
       "<div>\n",
       "<style scoped>\n",
       "    .dataframe tbody tr th:only-of-type {\n",
       "        vertical-align: middle;\n",
       "    }\n",
       "\n",
       "    .dataframe tbody tr th {\n",
       "        vertical-align: top;\n",
       "    }\n",
       "\n",
       "    .dataframe thead th {\n",
       "        text-align: right;\n",
       "    }\n",
       "</style>\n",
       "<table border=\"1\" class=\"dataframe\">\n",
       "  <thead>\n",
       "    <tr style=\"text-align: right;\">\n",
       "      <th></th>\n",
       "      <th>Country</th>\n",
       "      <th>Avg_Order_Diff</th>\n",
       "    </tr>\n",
       "  </thead>\n",
       "  <tbody>\n",
       "    <tr>\n",
       "      <th>3</th>\n",
       "      <td>Austria</td>\n",
       "      <td>2348.42</td>\n",
       "    </tr>\n",
       "    <tr>\n",
       "      <th>9</th>\n",
       "      <td>Ireland</td>\n",
       "      <td>1322.99</td>\n",
       "    </tr>\n",
       "    <tr>\n",
       "      <th>5</th>\n",
       "      <td>USA</td>\n",
       "      <td>922.24</td>\n",
       "    </tr>\n",
       "    <tr>\n",
       "      <th>2</th>\n",
       "      <td>Switzerland</td>\n",
       "      <td>909.03</td>\n",
       "    </tr>\n",
       "    <tr>\n",
       "      <th>1</th>\n",
       "      <td>Germany</td>\n",
       "      <td>768.09</td>\n",
       "    </tr>\n",
       "    <tr>\n",
       "      <th>0</th>\n",
       "      <td>France</td>\n",
       "      <td>204.94</td>\n",
       "    </tr>\n",
       "    <tr>\n",
       "      <th>8</th>\n",
       "      <td>UK</td>\n",
       "      <td>201.4</td>\n",
       "    </tr>\n",
       "    <tr>\n",
       "      <th>4</th>\n",
       "      <td>Mexico</td>\n",
       "      <td>-9.44</td>\n",
       "    </tr>\n",
       "    <tr>\n",
       "      <th>7</th>\n",
       "      <td>Spain</td>\n",
       "      <td>-69.78</td>\n",
       "    </tr>\n",
       "    <tr>\n",
       "      <th>6</th>\n",
       "      <td>Italy</td>\n",
       "      <td>-288.44</td>\n",
       "    </tr>\n",
       "    <tr>\n",
       "      <th>11</th>\n",
       "      <td>Argentina</td>\n",
       "      <td>-344.22</td>\n",
       "    </tr>\n",
       "    <tr>\n",
       "      <th>10</th>\n",
       "      <td>Poland</td>\n",
       "      <td>-347.1</td>\n",
       "    </tr>\n",
       "  </tbody>\n",
       "</table>\n",
       "</div>"
      ],
      "text/plain": [
       "        Country Avg_Order_Diff\n",
       "3       Austria        2348.42\n",
       "9       Ireland        1322.99\n",
       "5           USA         922.24\n",
       "2   Switzerland         909.03\n",
       "1       Germany         768.09\n",
       "0        France         204.94\n",
       "8            UK          201.4\n",
       "4        Mexico          -9.44\n",
       "7         Spain         -69.78\n",
       "6         Italy        -288.44\n",
       "11    Argentina        -344.22\n",
       "10       Poland         -347.1"
      ]
     },
     "execution_count": 45,
     "metadata": {},
     "output_type": "execute_result"
    }
   ],
   "source": [
    "sorted_df = df.sort_values(by=\"Avg_Order_Diff\", ascending=False)\n",
    "sorted_df"
   ]
  },
  {
   "cell_type": "code",
   "execution_count": 46,
   "metadata": {
    "scrolled": true
   },
   "outputs": [
    {
     "data": {
      "image/png": "[encoded data removed]",
      "text/plain": [
       "<Figure size 864x648 with 1 Axes>"
      ]
     },
     "metadata": {
      "needs_background": "light"
     },
     "output_type": "display_data"
    }
   ],
   "source": [
    "plt.figure(figsize = (12,9))\n",
    "pal = sns.diverging_palette(220, 15, n= 12, sep=10)\n",
    "sns.barplot(sorted_df.Country, sorted_df.Avg_Order_Diff, palette = pal)\n",
    "plt.ylabel(\"Average Order Total (USD)\");"
   ]
  },
  {
   "cell_type": "markdown",
   "metadata": {},
   "source": [
    "From here, focus should be on properly staffing larger accounts and maintaining a positive relationship with accounts above 0. For those below, further analysis can be done to identify why orders from those countries are lower than average. Shipping times, expired products, damaged orders, etc. should be investigated, as well as identifying if there is a problem with the sales managers that oversee these accounts. "
   ]
  },
  {
   "cell_type": "markdown",
   "metadata": {},
   "source": [
    "# Hypothesis 4"
   ]
  },
  {
   "cell_type": "markdown",
   "metadata": {},
   "source": [
    "$H_{0}$ Supervisor has no affect on the performance of their subordinates, as determined by order totals.  \n",
    "<br> \n",
    "$H_{1}$ A group's supervisor has a significant effect (positive or negative) on performance of said group of employees as determined by order totals. .  \n",
    "\n",
    "This is a two-tailed t-test."
   ]
  },
  {
   "cell_type": "code",
   "execution_count": 47,
   "metadata": {},
   "outputs": [
    {
     "data": {
      "text/html": [
       "<div>\n",
       "<style scoped>\n",
       "    .dataframe tbody tr th:only-of-type {\n",
       "        vertical-align: middle;\n",
       "    }\n",
       "\n",
       "    .dataframe tbody tr th {\n",
       "        vertical-align: top;\n",
       "    }\n",
       "\n",
       "    .dataframe thead th {\n",
       "        text-align: right;\n",
       "    }\n",
       "</style>\n",
       "<table border=\"1\" class=\"dataframe\">\n",
       "  <thead>\n",
       "    <tr style=\"text-align: right;\">\n",
       "      <th></th>\n",
       "      <th>Id</th>\n",
       "      <th>ReportsTo</th>\n",
       "      <th>ProductId</th>\n",
       "      <th>OrderId</th>\n",
       "      <th>Quantity</th>\n",
       "      <th>Discount</th>\n",
       "      <th>UnitPrice</th>\n",
       "    </tr>\n",
       "  </thead>\n",
       "  <tbody>\n",
       "    <tr>\n",
       "      <th>0</th>\n",
       "      <td>1</td>\n",
       "      <td>2.0</td>\n",
       "      <td>2</td>\n",
       "      <td>10258</td>\n",
       "      <td>50</td>\n",
       "      <td>0.2</td>\n",
       "      <td>15.2</td>\n",
       "    </tr>\n",
       "    <tr>\n",
       "      <th>1</th>\n",
       "      <td>1</td>\n",
       "      <td>2.0</td>\n",
       "      <td>5</td>\n",
       "      <td>10258</td>\n",
       "      <td>65</td>\n",
       "      <td>0.2</td>\n",
       "      <td>17.0</td>\n",
       "    </tr>\n",
       "    <tr>\n",
       "      <th>2</th>\n",
       "      <td>1</td>\n",
       "      <td>2.0</td>\n",
       "      <td>32</td>\n",
       "      <td>10258</td>\n",
       "      <td>6</td>\n",
       "      <td>0.2</td>\n",
       "      <td>25.6</td>\n",
       "    </tr>\n",
       "    <tr>\n",
       "      <th>3</th>\n",
       "      <td>1</td>\n",
       "      <td>2.0</td>\n",
       "      <td>36</td>\n",
       "      <td>10270</td>\n",
       "      <td>30</td>\n",
       "      <td>0.0</td>\n",
       "      <td>15.2</td>\n",
       "    </tr>\n",
       "    <tr>\n",
       "      <th>4</th>\n",
       "      <td>1</td>\n",
       "      <td>2.0</td>\n",
       "      <td>43</td>\n",
       "      <td>10270</td>\n",
       "      <td>25</td>\n",
       "      <td>0.0</td>\n",
       "      <td>36.8</td>\n",
       "    </tr>\n",
       "  </tbody>\n",
       "</table>\n",
       "</div>"
      ],
      "text/plain": [
       "   Id  ReportsTo  ProductId  OrderId  Quantity  Discount  UnitPrice\n",
       "0   1        2.0          2    10258        50       0.2       15.2\n",
       "1   1        2.0          5    10258        65       0.2       17.0\n",
       "2   1        2.0         32    10258         6       0.2       25.6\n",
       "3   1        2.0         36    10270        30       0.0       15.2\n",
       "4   1        2.0         43    10270        25       0.0       36.8"
      ]
     },
     "execution_count": 47,
     "metadata": {},
     "output_type": "execute_result"
    }
   ],
   "source": [
    "cur.execute(\"\"\"Select e.Id, e.ReportsTo, od.ProductId, od.OrderId, od.Quantity, od.Discount, od.UnitPrice\n",
    "               FROM Employee AS e\n",
    "               LEFT JOIN 'Order' AS o\n",
    "               ON e.Id = o.EmployeeId\n",
    "               LEFT JOIN OrderDetail AS od\n",
    "               ON o.Id = od.OrderId;\"\"\")\n",
    "employee_groups_df = pd.DataFrame(cur.fetchall()) \n",
    "employee_groups_df.columns = [i[0] for i in cur.description]\n",
    "employee_groups_df.head()"
   ]
  },
  {
   "cell_type": "code",
   "execution_count": 48,
   "metadata": {},
   "outputs": [],
   "source": [
    "employee_groups_df['OrderTotal'] = round((1-employee_groups_df['Discount']) * employee_groups_df['UnitPrice'],2) * employee_groups_df['Quantity']"
   ]
  },
  {
   "cell_type": "code",
   "execution_count": 49,
   "metadata": {},
   "outputs": [],
   "source": [
    "employee_groups_df.drop(['ProductId', \"Discount\", \"UnitPrice\", \"Quantity\"], axis=1, inplace=True)"
   ]
  },
  {
   "cell_type": "code",
   "execution_count": 50,
   "metadata": {},
   "outputs": [
    {
     "data": {
      "text/plain": [
       "Id            False\n",
       "ReportsTo      True\n",
       "OrderId       False\n",
       "OrderTotal    False\n",
       "dtype: bool"
      ]
     },
     "execution_count": 50,
     "metadata": {},
     "output_type": "execute_result"
    }
   ],
   "source": [
    "employee_groups_df.isna().any()"
   ]
  },
  {
   "cell_type": "code",
   "execution_count": 51,
   "metadata": {},
   "outputs": [
    {
     "data": {
      "text/plain": [
       "Id            False\n",
       "ReportsTo     False\n",
       "OrderId       False\n",
       "OrderTotal    False\n",
       "dtype: bool"
      ]
     },
     "execution_count": 51,
     "metadata": {},
     "output_type": "execute_result"
    }
   ],
   "source": [
    "employee_groups_df.fillna(0, inplace=True)\n",
    "employee_groups_df.isna().any()"
   ]
  },
  {
   "cell_type": "code",
   "execution_count": 78,
   "metadata": {},
   "outputs": [
    {
     "name": "stdout",
     "output_type": "stream",
     "text": [
      "<class 'pandas.core.frame.DataFrame'>\n",
      "RangeIndex: 2155 entries, 0 to 2154\n",
      "Data columns (total 4 columns):\n",
      "Id            2155 non-null int64\n",
      "ReportsTo     2155 non-null int64\n",
      "OrderId       2155 non-null int64\n",
      "OrderTotal    2155 non-null float64\n",
      "dtypes: float64(1), int64(3)\n",
      "memory usage: 67.4 KB\n"
     ]
    }
   ],
   "source": [
    "employee_groups_df.ReportsTo = [int(x) for x in employee_groups_df.ReportsTo] \n",
    "employee_groups_df.info()#TURN REPORTS TO COLUMN INTO INTEGER THROUGH LIST COMPREHENSION"
   ]
  },
  {
   "cell_type": "code",
   "execution_count": 79,
   "metadata": {},
   "outputs": [],
   "source": [
    "manager_2_df = employee_groups_df.query(\"ReportsTo == 2\")\n",
    "manager_5_df = employee_groups_df.query(\"ReportsTo == 5\")"
   ]
  },
  {
   "cell_type": "code",
   "execution_count": 80,
   "metadata": {},
   "outputs": [
    {
     "name": "stdout",
     "output_type": "stream",
     "text": [
      "We cannot reject the null hypothesis.\n"
     ]
    }
   ],
   "source": [
    "results = stats.ttest_ind(manager_2_df.OrderTotal, manager_5_df.OrderTotal, equal_var=False)\n",
    "one_tailed_p = results[1]\n",
    "if one_tailed_p < alpha:\n",
    "    print(f'With a p-value of {one_tailed_p}, we can safely reject the null hypothesis.')\n",
    "else:\n",
    "    print('We cannot reject the null hypothesis.')"
   ]
  },
  {
   "cell_type": "code",
   "execution_count": null,
   "metadata": {},
   "outputs": [],
   "source": []
  }
 ],
 "metadata": {
  "kernelspec": {
   "display_name": "Python [conda env:learn-env] *",
   "language": "python",
   "name": "conda-env-learn-env-py"
  },
  "language_info": {
   "codemirror_mode": {
    "name": "ipython",
    "version": 3
   },
   "file_extension": ".py",
   "mimetype": "text/x-python",
   "name": "python",
   "nbconvert_exporter": "python",
   "pygments_lexer": "ipython3",
   "version": "3.6.6"
  },
  "toc": {
   "base_numbering": 1,
   "nav_menu": {},
   "number_sections": true,
   "sideBar": true,
   "skip_h1_title": false,
   "title_cell": "Table of Contents",
   "title_sidebar": "Contents",
   "toc_cell": false,
   "toc_position": {
    "height": "calc(100% - 180px)",
    "left": "10px",
    "top": "150px",
    "width": "165px"
   },
   "toc_section_display": true,
   "toc_window_display": false
  }
 },
 "nbformat": 4,
 "nbformat_minor": 2
}
