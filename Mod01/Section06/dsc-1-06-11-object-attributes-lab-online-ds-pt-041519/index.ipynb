{
 "cells": [
  {
   "cell_type": "markdown",
   "metadata": {},
   "source": [
    "# Object Attributes - Lab"
   ]
  },
  {
   "cell_type": "markdown",
   "metadata": {},
   "source": [
    "## Introduction\n",
    "In this lab, we will practice defining classes and instance methods. We will also practice working with getter and setter (read and write) methods using properties and decorators to operate on instance variables."
   ]
  },
  {
   "cell_type": "markdown",
   "metadata": {},
   "source": [
    "## Objectives\n",
    "\n",
    "You will be able to:\n",
    "\n",
    "* Practice defining classes and instantiating instances of those classes\n",
    "* Practice defining instance methods"
   ]
  },
  {
   "cell_type": "markdown",
   "metadata": {},
   "source": [
    "## Defining Classes and Instance Methods"
   ]
  },
  {
   "cell_type": "markdown",
   "metadata": {},
   "source": [
    "In the cells below define a `Driver` class and define a `Passenger` class.\n",
    "\n",
    "Our driver instance objects should have instance variables for first name, last name, miles driven, and rating. We can name these instance variables `_first`, `_last` (short for first and last name), `_miles_driven`, and `_rating`. We will want to be able to access, change, and delete these values using the appropriate properties. \n",
    "\n",
    "After defining the above instance methods, define an instance method called `greet_passenger`, which returns the string `Hello! I'll be your driver today. My name is ` followed by that driver's first name and last name (i.e. `Hello! I'll be your driver today. My name is John Doe`)."
   ]
  },
  {
   "cell_type": "code",
   "execution_count": 46,
   "metadata": {},
   "outputs": [
    {
     "name": "stdout",
     "output_type": "stream",
     "text": [
      "Once deleted, variables cannot be recovered. Proceed (y/[n])? y\n"
     ]
    }
   ],
   "source": [
    "%reset"
   ]
  },
  {
   "cell_type": "code",
   "execution_count": 68,
   "metadata": {},
   "outputs": [],
   "source": [
    "class Driver:\n",
    "        \n",
    "    def get_first(self):\n",
    "        return self._first\n",
    "\n",
    "    def set_first(self, first):\n",
    "        self._first = first\n",
    "\n",
    "    def del_first(self):\n",
    "        del self._first\n",
    "\n",
    "    first = property(get_first, set_first, del_first)\n",
    "           \n",
    "    \n",
    "    def set_last(self, last):\n",
    "        self._last = last\n",
    "    def get_last(self):\n",
    "        return self._last\n",
    "    def del_last(self):\n",
    "        del self._last\n",
    "        \n",
    "    last = property(get_last, set_last, del_last)\n",
    "\n",
    "    def set_miles(self, miles_driven):\n",
    "        self._miles_driven = miles_driven\n",
    "    def get_miles(self):\n",
    "        return self._miles_driven\n",
    "    def del_miles(self):\n",
    "        del self._miles_driven\n",
    "        \n",
    "    miles_driven = property( get_miles, set_miles, del_miles)\n",
    "    \n",
    "    def set_rating(self, rating):\n",
    "        self._rating = rating\n",
    "    def get_rating(self):\n",
    "        return self._rating\n",
    "    def del_rating(self):\n",
    "        del self._rating\n",
    "        \n",
    "    rating = property(get_rating, set_rating, del_rating)\n",
    "    \n",
    "    def greet_passenger(self):\n",
    "        return 'Hello! I\\'ll be your driver today. My name is {} {}'.format(self.first, self.last)\n",
    "        # Define Driver Class here with properties for each instance variable"
   ]
  },
  {
   "cell_type": "code",
   "execution_count": null,
   "metadata": {},
   "outputs": [],
   "source": []
  },
  {
   "cell_type": "code",
   "execution_count": 69,
   "metadata": {},
   "outputs": [
    {
     "name": "stdout",
     "output_type": "stream",
     "text": [
      "Rachel\n",
      "Jensen\n",
      "100\n",
      "4.9\n"
     ]
    },
    {
     "data": {
      "text/plain": [
       "\"Hello! I'll be your driver today. My name is Rachel Jensen\""
      ]
     },
     "execution_count": 69,
     "metadata": {},
     "output_type": "execute_result"
    }
   ],
   "source": [
    "driver = Driver()\n",
    "driver.first = \"Rachel\"\n",
    "driver.last = \"Jensen\"\n",
    "driver.miles_driven = 100\n",
    "driver.rating = 4.9\n",
    "print(driver.first) # \"Rachel\"\n",
    "print(driver.last) # \"Jensen\"\n",
    "print(driver.miles_driven) # 100\n",
    "print(driver.rating) # 4.9\n",
    "driver.greet_passenger() # Hello! I'll be your driver today. My name is Rachel Jensen"
   ]
  },
  {
   "cell_type": "markdown",
   "metadata": {},
   "source": [
    "In the `Passenger` class, we will want our passenger instance objects to have the attributes first name, last name, and email. Let's continue using the leading underscore naming convention we employed in our `Driver` class and name these instance variables `_first`, `_last`, and `_email`. Define the appropriate instance methods using property and the appropriate decorators for reading (getting), writing (setting), and deleting instance variables. \n",
    "\n",
    "Next, we want to define an instance method called `yell_name` which returns a string with the passengers name in all caps (i.e. \"RON BURGUNDY\"). "
   ]
  },
  {
   "cell_type": "code",
   "execution_count": 79,
   "metadata": {},
   "outputs": [],
   "source": [
    "class Passenger:\n",
    "    \n",
    "    def get_first(self):\n",
    "        return self._first\n",
    "    def set_first(self, first):\n",
    "        self._first = first\n",
    "    def del_first(self):\n",
    "        del self._first\n",
    "    \n",
    "    first = property(get_first, set_first, del_first)\n",
    "    \n",
    "    def get_last(self):\n",
    "        return self._last\n",
    "    def set_last(self, last):\n",
    "        self._last = last\n",
    "    def del_last(self):\n",
    "        del self._last\n",
    "        \n",
    "    last = property(get_last, set_last, del_last)\n",
    "    \n",
    "    def get_email(self):\n",
    "        return self._email\n",
    "    def set_email(self, email):\n",
    "        self._email = email\n",
    "    def del_email(self):\n",
    "        del self._email\n",
    "    \n",
    "    email = property(get_email, set_email, del_email)\n",
    "    \n",
    "    def yell_name(self):\n",
    "        return f'{self._first.upper()} {self._last.upper()}!!!'\n",
    "        # Define Passenger Class here with properties for each instance variable"
   ]
  },
  {
   "cell_type": "code",
   "execution_count": 80,
   "metadata": {},
   "outputs": [
    {
     "name": "stdout",
     "output_type": "stream",
     "text": [
      "Ron\n",
      "Burgundy\n",
      "ron.burgundy1984@gmail.com\n"
     ]
    },
    {
     "data": {
      "text/plain": [
       "'RON BURGUNDY!!!'"
      ]
     },
     "execution_count": 80,
     "metadata": {},
     "output_type": "execute_result"
    }
   ],
   "source": [
    "passenger = Passenger()\n",
    "passenger.first = \"Ron\"\n",
    "passenger.last = \"Burgundy\"\n",
    "passenger.email = \"ron.burgundy1984@gmail.com\"\n",
    "print(passenger.first) # \"Ron\"\n",
    "print(passenger.last) # \"Burgundy\"\n",
    "print(passenger.email) # \"ron.burgundy1984@gmail.com\"\n",
    "passenger.yell_name() # \"RON BURGUNDY\""
   ]
  },
  {
   "cell_type": "markdown",
   "metadata": {},
   "source": [
    "Great work!"
   ]
  },
  {
   "cell_type": "markdown",
   "metadata": {},
   "source": [
    "## Summary\n",
    "In this lab, we practiced defining classes, instance methods, and utilizing the property function to create, getter setter, and deleter properties so we could access and operate on our instance variables."
   ]
  }
 ],
 "metadata": {
  "kernelspec": {
   "display_name": "learn-env",
   "language": "python",
   "name": "learn-env"
  },
  "language_info": {
   "codemirror_mode": {
    "name": "ipython",
    "version": 3
   },
   "file_extension": ".py",
   "mimetype": "text/x-python",
   "name": "python",
   "nbconvert_exporter": "python",
   "pygments_lexer": "ipython3",
   "version": "3.7.3"
  }
 },
 "nbformat": 4,
 "nbformat_minor": 2
}
