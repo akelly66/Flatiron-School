{
 "cells": [
  {
   "cell_type": "markdown",
   "metadata": {},
   "source": [
    "# One-Sample z-test - Lab\n",
    "\n",
    "## Introduction\n",
    "In this lab you'll perform a few quick tests to help you better understand how hypothesis testing works.\n",
    "\n",
    "## Objectives\n",
    "You will be able to:\n",
    "* Understand and explain use cases for a one-sample z-test\n",
    "* Set up null and alternative hypotheses\n",
    "* Calculate z-statistic using z-tables and CDF functions\n",
    "* Calculate and interpret p-value for significance of results\n",
    "\n",
    "## Exercise 1\n",
    "A fast food chain claims that the mean time to order food at their restaurants is 60 seconds, with a standard deviation of 30 seconds. You decide to take this claim to the test and go to one of the restaurants to observe actual waiting times. You take a sample of 36 customers and find that the mean order time was 75 seconds. Does this finding prove enough evidence to contradict the fast food chain's claim of fast service?\n",
    "\n",
    "Follow the 5 steps shown in previous lesson and use $\\alpha$ = 0.05. "
   ]
  },
  {
   "cell_type": "markdown",
   "metadata": {},
   "source": [
    "# State you null and alternative hypotheses\n",
    "\n",
    "Alternative hypothesis: the population mean at 60 seconds is less than the sample mean at 75 seconds\n",
    "Null hypothesis: the population mean at 60 seconds is less than or equal to the sample mean\n",
    "\n",
    "Alpha is .05"
   ]
  },
  {
   "cell_type": "code",
   "execution_count": 4,
   "metadata": {
    "scrolled": true
   },
   "outputs": [
    {
     "name": "stdout",
     "output_type": "stream",
     "text": [
      "z = 3.0\n",
      "cumulative probability = 0.9986501019683699\n",
      "pvalue = 0.0013498980316301035\n"
     ]
    }
   ],
   "source": [
    "import scipy.stats as stats\n",
    "from math import sqrt\n",
    "\n",
    "sample_mean = 75\n",
    "n = 36\n",
    "sigma = 30\n",
    "mu = 60# Your solution here\n",
    "\n",
    "z = (sample_mean - mu)/(sigma/sqrt(n))\n",
    "print(f'z = {z}')\n",
    "print(f'cumulative probability = {cum_prob}')\n",
    "cum_prob = stats.norm.cdf(z)\n",
    "pvalue = 1 - cum_prob\n",
    "print(f'pvalue = {pvalue}')\n",
    "\n",
    "# (p = 0.0013498980316301035, z = 3.0)"
   ]
  },
  {
   "cell_type": "markdown",
   "metadata": {},
   "source": [
    "# Interpret the results in terms of the p-value\n",
    "\n",
    "The alternative hypothesis has been deemed significantly significant due to the fact that compared to alpha, there's a .13% probability that the mean wait time is 60 seconds."
   ]
  },
  {
   "cell_type": "markdown",
   "metadata": {},
   "source": [
    "## Exercise 2\n",
    "\n",
    "25 students complete a preparation program for taking the SAT test.  Here are the SAT scores from the 25 students who completed  program:\n",
    "\n",
    "``\n",
    "434 694 457 534 720 400 484 478 610 641 425 636 454 \n",
    "514 563 370 499 640 501 625 612 471 598 509 531\n",
    "``\n",
    "\n",
    "We know that the population average for SAT scores is 500 with a standard deviation of 100.\n",
    "\n",
    "Are our 25 students’ SAT scores significantly bigger than a population mean? \n",
    "\n",
    "*Note that the SAT preparation program claims that it will increase (and not decrease) the SAT score.  So, you can conduct a one-directional test. (alpha = .05).*"
   ]
  },
  {
   "cell_type": "code",
   "execution_count": 10,
   "metadata": {},
   "outputs": [
    {
     "data": {
      "text/plain": [
       "536.0"
      ]
     },
     "execution_count": 10,
     "metadata": {},
     "output_type": "execute_result"
    }
   ],
   "source": [
    "SAT_scores = [434, 694, 457, 534, 720, 400, 484, 478, 610, 641, 425, 636, 454, 514, 563, 370, 499, 640, 501, 625, 612, 471, 598, 509, 531]# State your hypotheses \n",
    "sample_mean = sum(SAT_scores)/len(SAT_scores)\n",
    "sample_mean"
   ]
  },
  {
   "cell_type": "markdown",
   "metadata": {},
   "source": [
    "I hypothesize that the SAT prep course with a sample mean of 536 improves scores, as compared to the population mean of 500. \n",
    "The null hypothesis is that the population mean of 500 is less than the sample mean, so the program would have little to no affect on the studen's score."
   ]
  },
  {
   "cell_type": "code",
   "execution_count": 11,
   "metadata": {},
   "outputs": [
    {
     "name": "stdout",
     "output_type": "stream",
     "text": [
      "z = 1.8\n",
      "cumulative probability = 0.9986501019683699\n",
      "pvalue = 0.03593031911292577\n"
     ]
    }
   ],
   "source": [
    "sample_mean = 536\n",
    "n = 25\n",
    "sigma = 100\n",
    "mu = 500# Your solution here\n",
    "\n",
    "z = (sample_mean - mu)/(sigma/sqrt(n))\n",
    "print(f'z = {z}')\n",
    "print(f'cumulative probability = {cum_prob}')\n",
    "cum_prob = stats.norm.cdf(z)\n",
    "pvalue = 1 - cum_prob\n",
    "print(f'pvalue = {pvalue}')# Give your solution here \n",
    "\n",
    "\n",
    "\n",
    "# p = 0.03593031911292577, z = 1.8"
   ]
  },
  {
   "cell_type": "markdown",
   "metadata": {},
   "source": [
    "# Interpret the results in terms of the p-value\n",
    "There is a 3.5% chance that the null hypothesis would turn out to be true, you can reject the null hypothesis. The alternative hypothesis is statistically significant. "
   ]
  },
  {
   "cell_type": "markdown",
   "metadata": {},
   "source": [
    "## Summary\n",
    "\n",
    "In this lesson, you conducted a couple of simple tests comparing sample and population means, in an attempt to reject our null hypotheses. This provides you with a strong foundation to move ahead with more advanced tests and approaches later on."
   ]
  }
 ],
 "metadata": {
  "kernelspec": {
   "display_name": "learn-env",
   "language": "python",
   "name": "learn-env"
  },
  "language_info": {
   "codemirror_mode": {
    "name": "ipython",
    "version": 3
   },
   "file_extension": ".py",
   "mimetype": "text/x-python",
   "name": "python",
   "nbconvert_exporter": "python",
   "pygments_lexer": "ipython3",
   "version": "3.7.3"
  }
 },
 "nbformat": 4,
 "nbformat_minor": 2
}
