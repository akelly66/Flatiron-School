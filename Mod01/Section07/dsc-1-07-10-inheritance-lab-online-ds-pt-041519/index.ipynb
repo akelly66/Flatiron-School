{
 "cells": [
  {
   "cell_type": "markdown",
   "metadata": {},
   "source": [
    "# Inheritance - Lab\n",
    "\n",
    "## Introduction\n",
    "\n",
    "In this lab, we'll use what we've learned about inheritance to model a zoo using superclasses, subclasses, and maybe even an abstract superclass!\n",
    "\n",
    "## Objectives\n",
    "\n",
    "You will be able to:\n",
    "\n",
    "* Use inheritance to to write D.R.Y. code\n",
    "* Understand the relationship between subclasses and superclasses\n",
    "* Create Object-Oriented data models that describe the real world with classes and subclasses\n",
    "\n",
    "## Modeling a Zoo\n",
    "\n",
    "Consider the following scenario:  You've been hired by a zookeeper to build a program that keeps track of all the animals in the zoo.  This is a great opportunity to make use of Inheritance and Object-Oriented Programming!\n",
    "\n",
    "## Creating an Abstract Superclass\n",
    "\n",
    "Start by creating an abstract superclass, `Animal`.  When our program is complete, all subclasses of `Animal` will have the following attributes:\n",
    "\n",
    "* `name`, which is a string set at instantation time\n",
    "* `size`, which can be `'small'`, `'medium'`, `'large'`, or `'enormous'`.\n",
    "* `weight`, which is an integer set at integer set at instantiation time.\n",
    "* `species`, a string that tells us the species of the animal\n",
    "* `food_type`, which can be `'herbivore'`, `'carnivore'`, or `'omnivore'`\n",
    "* `nocturnal`, a boolean value that is `True` if the animal sleeps during the day, otherwise `False`\n",
    "\n",
    "They'll also have the following behaviors:\n",
    "\n",
    "* `sleep`, which prints a string saying if the animal sleeps during day or night\n",
    "* `eat`, which takes in the string `plants` or `meat`, and returns `'{animal name} the {animal species} thinks {food} is yummy!'` or `'I don't eat this!'` based on the animal's `food_type` attribute. \n",
    "\n",
    "In the cell below, create an abstract superclass that meets these specifications.\n",
    "\n",
    "**_NOTE:_** For some attributes in an abstract superclass such as `size`, the initial value doesn't matter--just make sure that you remember to override it in each of the subclasses!"
   ]
  },
  {
   "cell_type": "code",
   "execution_count": 13,
   "metadata": {},
   "outputs": [],
   "source": [
    "class Animal(object):\n",
    "    def __init__(self, name, weight):\n",
    "        self.name = name\n",
    "        self.size = None\n",
    "        self.weight = weight\n",
    "        self.species = None\n",
    "        self.food_type = None\n",
    "        self.nocturnal = True\n",
    "        \n",
    "    def sleep(Animal):\n",
    "        if self.nocturnal:\n",
    "            print('I love the sun!')\n",
    "        else: \n",
    "            print(f'I\\'m a night owl. Wait, I\\m not an owl. I\\'m a {self.species}')\n",
    "    \n",
    "    def eat(Animal, food):\n",
    "        if self.food_type == 'omnivore' & food == 'plants' or food == 'meat':\n",
    "            print(f'({self.name} the {self.species} thinks {food} is yummy!)')\n",
    "        elif self.food_type == 'herbivore' & food == 'plants':\n",
    "            print(f'({self.name} the {self.species} thinks {food} is yummy!)')\n",
    "        elif self.food_type == 'carnivore' & food == 'meat':\n",
    "            print(f'({self.name} the {self.species} thinks {food} is yummy!)')\n",
    "        else:\n",
    "            print('Yuck city. No thanks.')"
   ]
  },
  {
   "cell_type": "markdown",
   "metadata": {},
   "source": [
    "Great! Now that we have our Abstract Superclass, we can begin building out the specific animal classes.\n",
    "\n",
    "In the cell below, complete the `Elephant` class.  This class should:\n",
    "\n",
    "* Subclass `Animal`\n",
    "* Have a species of `'elephant'`\n",
    "* Have a size of `'enormous'`\n",
    "* Have a food type of `'herbivore'`\n",
    "* Set nocturnal to `False`\n",
    "\n",
    "**_Hint:_** Remember to make use of the `super()` object during initialization, and be sure to pass in the values it expects at instantiation time!"
   ]
  },
  {
   "cell_type": "code",
   "execution_count": 14,
   "metadata": {},
   "outputs": [],
   "source": [
    "class Elephant(Animal):\n",
    "    def __init__(self, name, weight):\n",
    "        super().__init__(name, weight)\n",
    "        self.species = 'elephant'\n",
    "        self.size = 'enormous'\n",
    "        self.food_type = 'herbivore'\n",
    "        self.nocturnal = False "
   ]
  },
  {
   "cell_type": "markdown",
   "metadata": {},
   "source": [
    "Great! Now, in the cell below, create a `Tiger` class.  This class should:\n",
    "\n",
    "* Subclass `Animal`\n",
    "* Have a species of `'tiger'`\n",
    "* Have a size of `'large'`\n",
    "* Have a food type of `'carnivore'`\n",
    "* Set nocturnal to `True`"
   ]
  },
  {
   "cell_type": "code",
   "execution_count": 15,
   "metadata": {},
   "outputs": [],
   "source": [
    "class Tiger(Animal):\n",
    "    def __init__(self, name, weight):\n",
    "        super().__init__(name, weight)\n",
    "        self.species = 'tiger'\n",
    "        self.size = 'large'\n",
    "        self.food_type = 'carnivore'\n",
    "        self.nocturnal = True"
   ]
  },
  {
   "cell_type": "markdown",
   "metadata": {},
   "source": [
    "Great! 2 More classes to go. In the cell below, create a `Raccoon` class.  This class should:\n",
    "\n",
    "* Subclass `Animal`\n",
    "* Have a species of `raccoon`\n",
    "* Have a size of `'small'`\n",
    "* Have a food type of `'omnivore'`\n",
    "* Set nocturnal to `True`"
   ]
  },
  {
   "cell_type": "code",
   "execution_count": 16,
   "metadata": {},
   "outputs": [],
   "source": [
    "class Raccoon(Animal):\n",
    "    def __init__(self, name, weight):\n",
    "        super().__init__(name, weight)\n",
    "        self.species = 'raccoon'\n",
    "        self.size = 'small'\n",
    "        self.food_type = 'omnivore'\n",
    "        self.nocturnal = True"
   ]
  },
  {
   "cell_type": "markdown",
   "metadata": {},
   "source": [
    "Finally, let's create a `Gorilla` class.  This class should:\n",
    "\n",
    "* Subclass `Animal`\n",
    "* Have a species of `gorilla`\n",
    "* Have a size of `'Large'`\n",
    "* Have a food type of `'herbivore'`\n",
    "* Set nocturnal to `False`"
   ]
  },
  {
   "cell_type": "code",
   "execution_count": 17,
   "metadata": {},
   "outputs": [],
   "source": [
    "class Gorilla(Animal):\n",
    "    def __init__(self, name, weight):\n",
    "        super().__init__(name, weight)\n",
    "        self.species = 'gorilla'\n",
    "        self.size = 'large'\n",
    "        self.food_type = 'herbivore'\n",
    "        self.nocturnal = False"
   ]
  },
  {
   "cell_type": "markdown",
   "metadata": {},
   "source": [
    "## Using Our Objects\n",
    "\n",
    "Now that we've created classes to model each of the animals in the zoo, we'll write a function that helps us keep track of when to feed different animals.  But, before we can do that, we need to populate our zoo!\n",
    "\n",
    "In the cell below, create an array called `zoo`.  Then, complete the `add_animal_to_zoo` function. \n",
    "\n",
    "This function should take in the following parameters:\n",
    "\n",
    "* `zoo`, an array representing the current state of the zoo\n",
    "* `animal_type`, a string.  Can be `'Gorilla'`, `'Raccoon'`, `'Tiger'`, or `'Elephant'`.\n",
    "* `name`, the name of the animal being created\n",
    "* `weight`, the weight of the animal being created\n",
    "\n",
    "The function should then:\n",
    "\n",
    "* use `animal_type` to determine which object to create\n",
    "* Create an instance of that animal, passing in the `name` and `weight`\n",
    "* Append the newly created animal to `zoo`\n",
    "* Return `zoo`"
   ]
  },
  {
   "cell_type": "code",
   "execution_count": 39,
   "metadata": {},
   "outputs": [],
   "source": [
    "def add_animal_to_zoo(animal_type, name, weight):\n",
    "    if animal_type == 'gorilla':\n",
    "        animal = Gorilla(name, weight)\n",
    "    elif animal_type == 'raccoon':\n",
    "        animal = Raccoon(name, weight)\n",
    "    elif animal_type == 'elephant':\n",
    "        animal = Elephant(name, weight)\n",
    "    elif animal_type == 'tiger':\n",
    "        animal = Tiger(name, weight)\n",
    "    else:\n",
    "        print('We are currently unable to accept that animal')\n",
    "    \n",
    "    zoo.append(animal)\n",
    "    \n",
    "    "
   ]
  },
  {
   "cell_type": "markdown",
   "metadata": {},
   "source": [
    "Great! Now, let's add some animals to our zoo. \n",
    "\n",
    "Create the following animals and add them to our zoo.  The names and weights are up to you.\n",
    "\n",
    "* 2 Elephants\n",
    "* 2 Raccons\n",
    "* 1 Gorilla\n",
    "* 3 Tigers"
   ]
  },
  {
   "cell_type": "code",
   "execution_count": 40,
   "metadata": {},
   "outputs": [
    {
     "name": "stdout",
     "output_type": "stream",
     "text": [
      "[<__main__.Elephant object at 0x000001F7EF55A470>]\n"
     ]
    }
   ],
   "source": [
    "zoo = []\n",
    "zoo.append(add_animal_to_zoo('elephant', 'Sid', 1000))"
   ]
  },
  {
   "cell_type": "code",
   "execution_count": 41,
   "metadata": {},
   "outputs": [
    {
     "name": "stdout",
     "output_type": "stream",
     "text": [
      "[<__main__.Elephant object at 0x000001F7EF560C18>]\n",
      "[<__main__.Elephant object at 0x000001F7EF560C18>, None, <__main__.Elephant object at 0x000001F7EF55A470>]\n",
      "[<__main__.Elephant object at 0x000001F7EF560C18>, None, <__main__.Elephant object at 0x000001F7EF55A470>, None, <__main__.Raccoon object at 0x000001F7EF55A278>]\n",
      "[<__main__.Elephant object at 0x000001F7EF560C18>, None, <__main__.Elephant object at 0x000001F7EF55A470>, None, <__main__.Raccoon object at 0x000001F7EF55A278>, None, <__main__.Raccoon object at 0x000001F7EF560D30>]\n",
      "[<__main__.Elephant object at 0x000001F7EF560C18>, None, <__main__.Elephant object at 0x000001F7EF55A470>, None, <__main__.Raccoon object at 0x000001F7EF55A278>, None, <__main__.Raccoon object at 0x000001F7EF560D30>, None, <__main__.Gorilla object at 0x000001F7EF560D68>]\n",
      "[<__main__.Elephant object at 0x000001F7EF560C18>, None, <__main__.Elephant object at 0x000001F7EF55A470>, None, <__main__.Raccoon object at 0x000001F7EF55A278>, None, <__main__.Raccoon object at 0x000001F7EF560D30>, None, <__main__.Gorilla object at 0x000001F7EF560D68>, None, <__main__.Tiger object at 0x000001F7EF560DD8>]\n",
      "[<__main__.Elephant object at 0x000001F7EF560C18>, None, <__main__.Elephant object at 0x000001F7EF55A470>, None, <__main__.Raccoon object at 0x000001F7EF55A278>, None, <__main__.Raccoon object at 0x000001F7EF560D30>, None, <__main__.Gorilla object at 0x000001F7EF560D68>, None, <__main__.Tiger object at 0x000001F7EF560DD8>, None, <__main__.Tiger object at 0x000001F7EF560E10>]\n",
      "[<__main__.Elephant object at 0x000001F7EF560C18>, None, <__main__.Elephant object at 0x000001F7EF55A470>, None, <__main__.Raccoon object at 0x000001F7EF55A278>, None, <__main__.Raccoon object at 0x000001F7EF560D30>, None, <__main__.Gorilla object at 0x000001F7EF560D68>, None, <__main__.Tiger object at 0x000001F7EF560DD8>, None, <__main__.Tiger object at 0x000001F7EF560E10>, None, <__main__.Tiger object at 0x000001F7EF560DA0>]\n"
     ]
    },
    {
     "data": {
      "text/plain": [
       "[<__main__.Elephant at 0x1f7ef560c18>,\n",
       " None,\n",
       " <__main__.Elephant at 0x1f7ef55a470>,\n",
       " None,\n",
       " <__main__.Raccoon at 0x1f7ef55a278>,\n",
       " None,\n",
       " <__main__.Raccoon at 0x1f7ef560d30>,\n",
       " None,\n",
       " <__main__.Gorilla at 0x1f7ef560d68>,\n",
       " None,\n",
       " <__main__.Tiger at 0x1f7ef560dd8>,\n",
       " None,\n",
       " <__main__.Tiger at 0x1f7ef560e10>,\n",
       " None,\n",
       " <__main__.Tiger at 0x1f7ef560da0>,\n",
       " None]"
      ]
     },
     "execution_count": 41,
     "metadata": {},
     "output_type": "execute_result"
    }
   ],
   "source": [
    "zoo = []\n",
    "zoo.append(add_animal_to_zoo('elephant', 'Sid', 1000))\n",
    "\n",
    "zoo.append(add_animal_to_zoo('elephant', 'Lars', 1200))\n",
    "zoo.append(add_animal_to_zoo('raccoon', 'Peanut', 12))\n",
    "zoo.append(add_animal_to_zoo('raccoon', 'Butter', 11))\n",
    "zoo.append(add_animal_to_zoo('gorilla', 'King Kong', 210))\n",
    "zoo.append(add_animal_to_zoo('tiger', 'Gypsy', 280))\n",
    "zoo.append(add_animal_to_zoo('tiger', 'Tramp', 180))\n",
    "zoo.append(add_animal_to_zoo('tiger', 'Thief', 250))\n",
    "zoo\n",
    "# Create your animals and add them to the 'zoo' in this cell!"
   ]
  },
  {
   "cell_type": "markdown",
   "metadata": {},
   "source": [
    "Great! Now that we have a populated zoo, we can do what the zookeeper hired us to do--write a program that feeds the correct animals the right food at the right times!\n",
    "\n",
    "To do this, we'll write a function called `feed_animals`.  This function should take in two arguments:\n",
    "\n",
    "* `zoo`, the zoo array containing all the animals\n",
    "* `time`, which can be `'Day'` or `'Night'`.  This should default to day if nothing is entered for `time`.\n",
    "\n",
    "This function should:\n",
    "\n",
    "* Feed only the non-nocturnal animals if `time='Day'`, or only the nocturnal animals if `time='Night'`\n",
    "* Check the food type of each animal before feeding.  If the animal is a carnivore, feed it `meat`; otherwise, feed it `plants`. Feed the animals by using their `.eat()` method."
   ]
  },
  {
   "cell_type": "code",
   "execution_count": null,
   "metadata": {},
   "outputs": [],
   "source": [
    "def feed_animals(zoo, time='Day'):\n",
    "    for animal in zoo:\n",
    "        if time == 'Day' & animal.nocturnal or time == 'Night' & animal.nocturnal == False:\n",
    "            print(\"Go away, I\\m sleeping.\")\n",
    "        elif time == 'Day' & animal.nocturnal == False:\n",
    "            if animal.food_type\n",
    "                        \n",
    "            \n",
    "        "
   ]
  },
  {
   "cell_type": "markdown",
   "metadata": {},
   "source": [
    "Now, let's test out our program.  Call the function for a daytime feeding below."
   ]
  },
  {
   "cell_type": "code",
   "execution_count": null,
   "metadata": {},
   "outputs": [],
   "source": []
  },
  {
   "cell_type": "markdown",
   "metadata": {},
   "source": [
    "That looks correct--the two species that we have that aren't nocturnal are elephants and gorillas.  \n",
    "\n",
    "In the cell below, call `feed_animals` again, but this time set `time='Night'`"
   ]
  },
  {
   "cell_type": "code",
   "execution_count": null,
   "metadata": {},
   "outputs": [],
   "source": []
  },
  {
   "cell_type": "markdown",
   "metadata": {},
   "source": [
    "Thats it! You've used OOP and inheritance to build a working function to help the zookeeper feed his animals the right food at the correct times!\n",
    "\n",
    "## Summary\n",
    "\n",
    "In this lab, you learned how to:\n",
    "\n",
    "* Use inheritance to to write D.R.Y. code\n",
    "* Understand the relationship between subclasses and superclasses\n",
    "* Create Object-Oriented data models that describe the real world with classes and subclasses"
   ]
  }
 ],
 "metadata": {
  "kernelspec": {
   "display_name": "learn-env",
   "language": "python",
   "name": "learn-env"
  },
  "language_info": {
   "codemirror_mode": {
    "name": "ipython",
    "version": 3
   },
   "file_extension": ".py",
   "mimetype": "text/x-python",
   "name": "python",
   "nbconvert_exporter": "python",
   "pygments_lexer": "ipython3",
   "version": "3.7.3"
  }
 },
 "nbformat": 4,
 "nbformat_minor": 2
}
