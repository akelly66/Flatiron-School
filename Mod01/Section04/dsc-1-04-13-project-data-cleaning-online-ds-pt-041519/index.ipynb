{
 "cells": [
  {
   "cell_type": "markdown",
   "metadata": {},
   "source": [
    "# Project - Data Cleaning\n",
    "\n",
    "## Introduction\n",
    "In this lab, we'll make use of everything we've learned about pandas, data cleaning, and Exploratory Data Analysis. In order to complete this lab, you'll have to make import, clean, combine, reshape, and visualize data to answer questions provided, as well as your own questions!\n",
    "\n",
    "## Objectives\n",
    "You will be able to:\n",
    "* Show mastery of the content covered in this section\n",
    "\n",
    "## The Dataset\n",
    "In this lab, we'll work with the comprehensive [Super Heroes Dataset](https://www.kaggle.com/claudiodavi/superhero-set/data), which can be found on Kaggle!\n",
    "\n",
    "## Goals\n",
    "* Use all available pandas knowledge to clean the dataset and deal with null values\n",
    "* Use Queries and aggregations to group the data into interesting subsets as needed\n",
    "* Use descriptive statistics and data visualization to find answers to questions we may have about the data. \n",
    "\n",
    "## Getting Started\n",
    "\n",
    "In the cell below:\n",
    "\n",
    "* Import and alias pandas as `pd`\n",
    "* Import and alias numpy as `np`\n",
    "* Import and alias seaborn as `sns`\n",
    "* Import and alias matplotlib.pyplot as `plt`\n",
    "* Set matplotlib visualizations to display inline in the notebook"
   ]
  },
  {
   "cell_type": "code",
   "execution_count": 212,
   "metadata": {},
   "outputs": [],
   "source": [
    "import pandas as pd\n",
    "import numpy as np\n",
    "import seaborn as sns\n",
    "import matplotlib.pyplot as plt\n",
    "%matplotlib inline"
   ]
  },
  {
   "cell_type": "markdown",
   "metadata": {},
   "source": [
    "For this lab, our dataset is split among two different sources--`heroes_information.csv` and `super_hero_powers.csv`.\n",
    "\n",
    "Use pandas to read in each file and store them in DataFrames in the appropriate variables below. Then, display the head of each to ensure that everything loaded correctly.  "
   ]
  },
  {
   "cell_type": "code",
   "execution_count": 313,
   "metadata": {},
   "outputs": [],
   "source": [
    "heroes_df = pd.read_csv('heroes_information.csv')\n",
    "powers_df = pd.read_csv('super_hero_powers.csv')"
   ]
  },
  {
   "cell_type": "code",
   "execution_count": 314,
   "metadata": {},
   "outputs": [
    {
     "data": {
      "text/html": [
       "<div>\n",
       "<style scoped>\n",
       "    .dataframe tbody tr th:only-of-type {\n",
       "        vertical-align: middle;\n",
       "    }\n",
       "\n",
       "    .dataframe tbody tr th {\n",
       "        vertical-align: top;\n",
       "    }\n",
       "\n",
       "    .dataframe thead th {\n",
       "        text-align: right;\n",
       "    }\n",
       "</style>\n",
       "<table border=\"1\" class=\"dataframe\">\n",
       "  <thead>\n",
       "    <tr style=\"text-align: right;\">\n",
       "      <th></th>\n",
       "      <th>&lt;lambda&gt;</th>\n",
       "      <th>&lt;lambda&gt;</th>\n",
       "      <th>&lt;lambda&gt;</th>\n",
       "      <th>&lt;lambda&gt;</th>\n",
       "      <th>&lt;lambda&gt;</th>\n",
       "      <th>&lt;lambda&gt;</th>\n",
       "      <th>&lt;lambda&gt;</th>\n",
       "      <th>&lt;lambda&gt;</th>\n",
       "      <th>&lt;lambda&gt;</th>\n",
       "      <th>&lt;lambda&gt;</th>\n",
       "      <th>&lt;lambda&gt;</th>\n",
       "    </tr>\n",
       "  </thead>\n",
       "  <tbody>\n",
       "    <tr>\n",
       "      <th>0</th>\n",
       "      <td>True</td>\n",
       "      <td>True</td>\n",
       "      <td>True</td>\n",
       "      <td>True</td>\n",
       "      <td>True</td>\n",
       "      <td>True</td>\n",
       "      <td>True</td>\n",
       "      <td>True</td>\n",
       "      <td>True</td>\n",
       "      <td>True</td>\n",
       "      <td>True</td>\n",
       "    </tr>\n",
       "  </tbody>\n",
       "</table>\n",
       "</div>"
      ],
      "text/plain": [
       "   <lambda>  <lambda>  <lambda>  <lambda>  <lambda>  <lambda>  <lambda>  \\\n",
       "0      True      True      True      True      True      True      True   \n",
       "\n",
       "   <lambda>  <lambda>  <lambda>  <lambda>  \n",
       "0      True      True      True      True  "
      ]
     },
     "execution_count": 314,
     "metadata": {},
     "output_type": "execute_result"
    }
   ],
   "source": [
    "heroes_df.apply((lambda col: col.astype(str).str.contains('-').any() for col in heroes_df), axis=1)"
   ]
  },
  {
   "cell_type": "markdown",
   "metadata": {},
   "source": [
    "It looks as if the heroes information dataset contained an index column.  We did not specify that this dataset contained an index column, because we hadn't seen it yet. Pandas does not know how to tell apart an index column from any other data, so it stored it with the column name `Unnamed: 0`.  \n",
    "\n",
    "Our DataFrame provided row indices by default, so this column is not needed.  Drop it from the DataFrame in place in the cell below, and then display the head of `heroes_df` to ensure that it worked properly. "
   ]
  },
  {
   "cell_type": "code",
   "execution_count": 315,
   "metadata": {
    "scrolled": true
   },
   "outputs": [],
   "source": [
    "heroes_df = heroes_df.drop('Unnamed: 0', axis=1)"
   ]
  },
  {
   "cell_type": "code",
   "execution_count": 316,
   "metadata": {},
   "outputs": [
    {
     "data": {
      "text/html": [
       "<div>\n",
       "<style scoped>\n",
       "    .dataframe tbody tr th:only-of-type {\n",
       "        vertical-align: middle;\n",
       "    }\n",
       "\n",
       "    .dataframe tbody tr th {\n",
       "        vertical-align: top;\n",
       "    }\n",
       "\n",
       "    .dataframe thead th {\n",
       "        text-align: right;\n",
       "    }\n",
       "</style>\n",
       "<table border=\"1\" class=\"dataframe\">\n",
       "  <thead>\n",
       "    <tr style=\"text-align: right;\">\n",
       "      <th></th>\n",
       "      <th>name</th>\n",
       "      <th>Gender</th>\n",
       "      <th>Eye color</th>\n",
       "      <th>Race</th>\n",
       "      <th>Hair color</th>\n",
       "      <th>Height</th>\n",
       "      <th>Publisher</th>\n",
       "      <th>Skin color</th>\n",
       "      <th>Alignment</th>\n",
       "      <th>Weight</th>\n",
       "    </tr>\n",
       "  </thead>\n",
       "  <tbody>\n",
       "    <tr>\n",
       "      <th>0</th>\n",
       "      <td>A-Bomb</td>\n",
       "      <td>Male</td>\n",
       "      <td>yellow</td>\n",
       "      <td>Human</td>\n",
       "      <td>No Hair</td>\n",
       "      <td>203.0</td>\n",
       "      <td>Marvel Comics</td>\n",
       "      <td>-</td>\n",
       "      <td>good</td>\n",
       "      <td>441.0</td>\n",
       "    </tr>\n",
       "    <tr>\n",
       "      <th>1</th>\n",
       "      <td>Abe Sapien</td>\n",
       "      <td>Male</td>\n",
       "      <td>blue</td>\n",
       "      <td>Icthyo Sapien</td>\n",
       "      <td>No Hair</td>\n",
       "      <td>191.0</td>\n",
       "      <td>Dark Horse Comics</td>\n",
       "      <td>blue</td>\n",
       "      <td>good</td>\n",
       "      <td>65.0</td>\n",
       "    </tr>\n",
       "    <tr>\n",
       "      <th>2</th>\n",
       "      <td>Abin Sur</td>\n",
       "      <td>Male</td>\n",
       "      <td>blue</td>\n",
       "      <td>Ungaran</td>\n",
       "      <td>No Hair</td>\n",
       "      <td>185.0</td>\n",
       "      <td>DC Comics</td>\n",
       "      <td>red</td>\n",
       "      <td>good</td>\n",
       "      <td>90.0</td>\n",
       "    </tr>\n",
       "    <tr>\n",
       "      <th>3</th>\n",
       "      <td>Abomination</td>\n",
       "      <td>Male</td>\n",
       "      <td>green</td>\n",
       "      <td>Human / Radiation</td>\n",
       "      <td>No Hair</td>\n",
       "      <td>203.0</td>\n",
       "      <td>Marvel Comics</td>\n",
       "      <td>-</td>\n",
       "      <td>bad</td>\n",
       "      <td>441.0</td>\n",
       "    </tr>\n",
       "    <tr>\n",
       "      <th>4</th>\n",
       "      <td>Abraxas</td>\n",
       "      <td>Male</td>\n",
       "      <td>blue</td>\n",
       "      <td>Cosmic Entity</td>\n",
       "      <td>Black</td>\n",
       "      <td>-99.0</td>\n",
       "      <td>Marvel Comics</td>\n",
       "      <td>-</td>\n",
       "      <td>bad</td>\n",
       "      <td>-99.0</td>\n",
       "    </tr>\n",
       "  </tbody>\n",
       "</table>\n",
       "</div>"
      ],
      "text/plain": [
       "          name Gender Eye color               Race Hair color  Height  \\\n",
       "0       A-Bomb   Male    yellow              Human    No Hair   203.0   \n",
       "1   Abe Sapien   Male      blue      Icthyo Sapien    No Hair   191.0   \n",
       "2     Abin Sur   Male      blue            Ungaran    No Hair   185.0   \n",
       "3  Abomination   Male     green  Human / Radiation    No Hair   203.0   \n",
       "4      Abraxas   Male      blue      Cosmic Entity      Black   -99.0   \n",
       "\n",
       "           Publisher Skin color Alignment  Weight  \n",
       "0      Marvel Comics          -      good   441.0  \n",
       "1  Dark Horse Comics       blue      good    65.0  \n",
       "2          DC Comics        red      good    90.0  \n",
       "3      Marvel Comics          -       bad   441.0  \n",
       "4      Marvel Comics          -       bad   -99.0  "
      ]
     },
     "execution_count": 316,
     "metadata": {},
     "output_type": "execute_result"
    }
   ],
   "source": [
    "heroes_df.head()"
   ]
  },
  {
   "cell_type": "markdown",
   "metadata": {},
   "source": [
    "## Familiarize Yourself With the Dataset\n",
    "\n",
    "The first step in our Exploratory Data Analysis will be to get familiar with the data.  This step includes:\n",
    "\n",
    "* Understanding the dimensionality of your dataset\n",
    "* Investigating what type of data it contains, and the data types used to store it\n",
    "* Discovering how missing values are encoded, and how many there are\n",
    "* Getting a feel for what information it does and doesnt contain\n",
    "\n",
    "In the cell below, get the descriptive statistics of each DataFrame.  "
   ]
  },
  {
   "cell_type": "code",
   "execution_count": 317,
   "metadata": {},
   "outputs": [
    {
     "name": "stdout",
     "output_type": "stream",
     "text": [
      "(734, 10)\n",
      "<class 'pandas.core.frame.DataFrame'>\n",
      "RangeIndex: 734 entries, 0 to 733\n",
      "Data columns (total 10 columns):\n",
      "name          734 non-null object\n",
      "Gender        734 non-null object\n",
      "Eye color     734 non-null object\n",
      "Race          734 non-null object\n",
      "Hair color    734 non-null object\n",
      "Height        734 non-null float64\n",
      "Publisher     719 non-null object\n",
      "Skin color    734 non-null object\n",
      "Alignment     734 non-null object\n",
      "Weight        732 non-null float64\n",
      "dtypes: float64(2), object(8)\n",
      "memory usage: 57.4+ KB\n",
      "None\n",
      "name           0\n",
      "Gender         0\n",
      "Eye color      0\n",
      "Race           0\n",
      "Hair color     0\n",
      "Height         0\n",
      "Publisher     15\n",
      "Skin color     0\n",
      "Alignment      0\n",
      "Weight         2\n",
      "dtype: int64\n",
      "(667, 168)\n",
      "<class 'pandas.core.frame.DataFrame'>\n",
      "RangeIndex: 667 entries, 0 to 666\n",
      "Columns: 168 entries, hero_names to Omniscient\n",
      "dtypes: bool(167), object(1)\n",
      "memory usage: 114.1+ KB\n",
      "None\n",
      "hero_names               0\n",
      "Agility                  0\n",
      "Accelerated Healing      0\n",
      "Lantern Power Ring       0\n",
      "Dimensional Awareness    0\n",
      "Cold Resistance          0\n",
      "Durability               0\n",
      "Stealth                  0\n",
      "Energy Absorption        0\n",
      "Flight                   0\n",
      "Danger Sense             0\n",
      "Underwater breathing     0\n",
      "Marksmanship             0\n",
      "Weapons Master           0\n",
      "Power Augmentation       0\n",
      "Animal Attributes        0\n",
      "Longevity                0\n",
      "Intelligence             0\n",
      "Super Strength           0\n",
      "Cryokinesis              0\n",
      "Telepathy                0\n",
      "Energy Armor             0\n",
      "Energy Blasts            0\n",
      "Duplication              0\n",
      "Size Changing            0\n",
      "Density Control          0\n",
      "Stamina                  0\n",
      "Astral Travel            0\n",
      "Audio Control            0\n",
      "Dexterity                0\n",
      "                        ..\n",
      "Intuitive aptitude       0\n",
      "Vision - Microscopic     0\n",
      "Melting                  0\n",
      "Wind Control             0\n",
      "Super Breath             0\n",
      "Wallcrawling             0\n",
      "Vision - Night           0\n",
      "Vision - Infrared        0\n",
      "Grim Reaping             0\n",
      "Matter Absorption        0\n",
      "The Force                0\n",
      "Resurrection             0\n",
      "Terrakinesis             0\n",
      "Vision - Heat            0\n",
      "Vitakinesis              0\n",
      "Radar Sense              0\n",
      "Qwardian Power Ring      0\n",
      "Weather Control          0\n",
      "Vision - X-Ray           0\n",
      "Vision - Thermal         0\n",
      "Web Creation             0\n",
      "Reality Warping          0\n",
      "Odin Force               0\n",
      "Symbiote Costume         0\n",
      "Speed Force              0\n",
      "Phoenix Force            0\n",
      "Molecular Dissipation    0\n",
      "Vision - Cryo            0\n",
      "Omnipresent              0\n",
      "Omniscient               0\n",
      "Length: 168, dtype: int64\n"
     ]
    }
   ],
   "source": [
    "dataframes = [heroes_df, powers_df]\n",
    "for df in dataframes:\n",
    "    print(df.shape)\n",
    "    print(df.info())\n",
    "    print(df.isna().sum())"
   ]
  },
  {
   "cell_type": "markdown",
   "metadata": {},
   "source": [
    "## Dealing with Null Values\n",
    "\n",
    "Starting in the cell below, detect and deal with any null values in either data frame.  Then, explain your methodology for detecting and dealing with outliers in the markdown section below.  Be sure to explain your strategy for dealing with null values in numeric columns, as well as your strategy for dealing with null values in non-numeric columns.  \n",
    "\n",
    "Note that if you need to add more cells to write code in, you can do this by:\n",
    "\n",
    "**1.** Highlighting a cell and then pressing `ESC` to enter command mode.  \n",
    "**2.** Press `A` to add a cell above the highlighted cell, or `B` to add a cell below the highlighted cell. \n",
    "\n",
    "Describe your strategy below this line:\n",
    "____________________________________________________________________________________________________________________________\n",
    "\n",
    "\n"
   ]
  },
  {
   "cell_type": "code",
   "execution_count": 318,
   "metadata": {},
   "outputs": [
    {
     "data": {
      "text/plain": [
       "False"
      ]
     },
     "execution_count": 318,
     "metadata": {},
     "output_type": "execute_result"
    }
   ],
   "source": [
    "powers_df.isna().any().any()"
   ]
  },
  {
   "cell_type": "markdown",
   "metadata": {},
   "source": [
    "To remove the NaNs in the Publisher column, I chose to fill with Marvel because it's the most popular publisher. I would have randomly chosen between Marvel and DC but I couldn't figure it out. \n",
    "\n",
    "I removed the skin color column entirely because the mass majority of the values were dashes.\n",
    "\n",
    "I replaced the NaNs in the weight column with the median. \n",
    "\n",
    "I left the eye color column with the placeholders, because it's possible that those characters do not have eyes, or possibly are only referred to and never drawn, so it's possible that we don't know what they look like which could give us valuable information. \n",
    "\n"
   ]
  },
  {
   "cell_type": "code",
   "execution_count": 319,
   "metadata": {
    "scrolled": false
   },
   "outputs": [
    {
     "data": {
      "text/html": [
       "<div>\n",
       "<style scoped>\n",
       "    .dataframe tbody tr th:only-of-type {\n",
       "        vertical-align: middle;\n",
       "    }\n",
       "\n",
       "    .dataframe tbody tr th {\n",
       "        vertical-align: top;\n",
       "    }\n",
       "\n",
       "    .dataframe thead th {\n",
       "        text-align: right;\n",
       "    }\n",
       "</style>\n",
       "<table border=\"1\" class=\"dataframe\">\n",
       "  <thead>\n",
       "    <tr style=\"text-align: right;\">\n",
       "      <th></th>\n",
       "      <th>name</th>\n",
       "      <th>Gender</th>\n",
       "      <th>Eye color</th>\n",
       "      <th>Race</th>\n",
       "      <th>Hair color</th>\n",
       "      <th>Height</th>\n",
       "      <th>Publisher</th>\n",
       "      <th>Alignment</th>\n",
       "      <th>Weight</th>\n",
       "    </tr>\n",
       "  </thead>\n",
       "  <tbody>\n",
       "    <tr>\n",
       "      <th>0</th>\n",
       "      <td>A-Bomb</td>\n",
       "      <td>Male</td>\n",
       "      <td>yellow</td>\n",
       "      <td>Human</td>\n",
       "      <td>No Hair</td>\n",
       "      <td>203.0</td>\n",
       "      <td>Marvel Comics</td>\n",
       "      <td>good</td>\n",
       "      <td>441.0</td>\n",
       "    </tr>\n",
       "    <tr>\n",
       "      <th>1</th>\n",
       "      <td>Abe Sapien</td>\n",
       "      <td>Male</td>\n",
       "      <td>blue</td>\n",
       "      <td>Icthyo Sapien</td>\n",
       "      <td>No Hair</td>\n",
       "      <td>191.0</td>\n",
       "      <td>Dark Horse Comics</td>\n",
       "      <td>good</td>\n",
       "      <td>65.0</td>\n",
       "    </tr>\n",
       "    <tr>\n",
       "      <th>2</th>\n",
       "      <td>Abin Sur</td>\n",
       "      <td>Male</td>\n",
       "      <td>blue</td>\n",
       "      <td>Ungaran</td>\n",
       "      <td>No Hair</td>\n",
       "      <td>185.0</td>\n",
       "      <td>DC Comics</td>\n",
       "      <td>good</td>\n",
       "      <td>90.0</td>\n",
       "    </tr>\n",
       "    <tr>\n",
       "      <th>3</th>\n",
       "      <td>Abomination</td>\n",
       "      <td>Male</td>\n",
       "      <td>green</td>\n",
       "      <td>Human / Radiation</td>\n",
       "      <td>No Hair</td>\n",
       "      <td>203.0</td>\n",
       "      <td>Marvel Comics</td>\n",
       "      <td>bad</td>\n",
       "      <td>441.0</td>\n",
       "    </tr>\n",
       "    <tr>\n",
       "      <th>4</th>\n",
       "      <td>Abraxas</td>\n",
       "      <td>Male</td>\n",
       "      <td>blue</td>\n",
       "      <td>Cosmic Entity</td>\n",
       "      <td>Black</td>\n",
       "      <td>-99.0</td>\n",
       "      <td>Marvel Comics</td>\n",
       "      <td>bad</td>\n",
       "      <td>-99.0</td>\n",
       "    </tr>\n",
       "  </tbody>\n",
       "</table>\n",
       "</div>"
      ],
      "text/plain": [
       "          name Gender Eye color               Race Hair color  Height  \\\n",
       "0       A-Bomb   Male    yellow              Human    No Hair   203.0   \n",
       "1   Abe Sapien   Male      blue      Icthyo Sapien    No Hair   191.0   \n",
       "2     Abin Sur   Male      blue            Ungaran    No Hair   185.0   \n",
       "3  Abomination   Male     green  Human / Radiation    No Hair   203.0   \n",
       "4      Abraxas   Male      blue      Cosmic Entity      Black   -99.0   \n",
       "\n",
       "           Publisher Alignment  Weight  \n",
       "0      Marvel Comics      good   441.0  \n",
       "1  Dark Horse Comics      good    65.0  \n",
       "2          DC Comics      good    90.0  \n",
       "3      Marvel Comics       bad   441.0  \n",
       "4      Marvel Comics       bad   -99.0  "
      ]
     },
     "execution_count": 319,
     "metadata": {},
     "output_type": "execute_result"
    }
   ],
   "source": [
    "heroes_df.drop('Skin color', axis=1).head()\n"
   ]
  },
  {
   "cell_type": "code",
   "execution_count": 320,
   "metadata": {},
   "outputs": [
    {
     "data": {
      "text/plain": [
       "name          0\n",
       "Gender        0\n",
       "Eye color     0\n",
       "Race          0\n",
       "Hair color    0\n",
       "Height        0\n",
       "Publisher     0\n",
       "Skin color    0\n",
       "Alignment     0\n",
       "Weight        0\n",
       "dtype: int64"
      ]
     },
     "execution_count": 320,
     "metadata": {},
     "output_type": "execute_result"
    }
   ],
   "source": [
    "choices = ['Marvel Comics', 'DC Comics']\n",
    "heroes_df['Publisher'] = heroes_df['Publisher'].apply(lambda x: np.random.choice(choices) if pd.isnull(x) else x)\n",
    "\n",
    "heroes_df['Weight'] = heroes_df['Weight'].fillna(heroes_df.Weight.median())\n",
    "heroes_df.isna().sum()"
   ]
  },
  {
   "cell_type": "code",
   "execution_count": 321,
   "metadata": {},
   "outputs": [
    {
     "data": {
      "text/plain": [
       "Spider-Man         3\n",
       "Goliath            3\n",
       "Namor              2\n",
       "Vindicator         2\n",
       "Angel              2\n",
       "Blue Beetle        2\n",
       "Speedy             2\n",
       "Blizzard           2\n",
       "Captain Marvel     2\n",
       "Firestorm          2\n",
       "Batgirl            2\n",
       "Toxin              2\n",
       "Black Canary       2\n",
       "Batman             2\n",
       "Nova               2\n",
       "Atom               2\n",
       "Atlas              2\n",
       "Cat                1\n",
       "Stardust           1\n",
       "Doomsday           1\n",
       "Loki               1\n",
       "Plastic Man        1\n",
       "Justice            1\n",
       "Trickster          1\n",
       "Jean-Luc Picard    1\n",
       "Scorpia            1\n",
       "The Comedian       1\n",
       "Copycat            1\n",
       "Wolverine          1\n",
       "Batgirl V          1\n",
       "                  ..\n",
       "Ripcord            1\n",
       "Hawk               1\n",
       "Shadow Lass        1\n",
       "Doctor Fate        1\n",
       "Indigo             1\n",
       "Gravity            1\n",
       "X-Man              1\n",
       "Cypher             1\n",
       "Frenzy             1\n",
       "Box IV             1\n",
       "Agent Zero         1\n",
       "Snake-Eyes         1\n",
       "Beyonder           1\n",
       "Savage Dragon      1\n",
       "Walrus             1\n",
       "Man-Bat            1\n",
       "Professor Zoom     1\n",
       "Clea               1\n",
       "Venom III          1\n",
       "Darth Maul         1\n",
       "Beast              1\n",
       "Jim Powell         1\n",
       "Jar Jar Binks      1\n",
       "Yellow Claw        1\n",
       "Krypto             1\n",
       "Niki Sanders       1\n",
       "Thanos             1\n",
       "Hela               1\n",
       "Star-Lord          1\n",
       "Minna Murray       1\n",
       "Name: name, Length: 715, dtype: int64"
      ]
     },
     "execution_count": 321,
     "metadata": {},
     "output_type": "execute_result"
    }
   ],
   "source": [
    "heroes_df['name'].value_counts()"
   ]
  },
  {
   "cell_type": "markdown",
   "metadata": {},
   "source": [
    "## Joining, Grouping, and Aggregating\n",
    "\n",
    "In the cell below, join the two DataFrames.  Think about which sort of join you should use, as well as which columns you should join on.  Rename columns and manipulate as needed.  \n",
    "\n",
    "**_HINT:_** If the join throws an error message, consider settin the the column you want to join on as the index for each DataFrame.  "
   ]
  },
  {
   "cell_type": "code",
   "execution_count": 322,
   "metadata": {},
   "outputs": [],
   "source": [
    "powers_df = powers_df.rename(columns={'hero_names':'name'})\n",
    "powers_df.set_index('name', inplace=True)\n",
    "heroes_df.set_index('name', inplace=True)"
   ]
  },
  {
   "cell_type": "code",
   "execution_count": 323,
   "metadata": {},
   "outputs": [],
   "source": [
    "heroes_and_powers = powers_df.join(heroes_df, how='inner')"
   ]
  },
  {
   "cell_type": "code",
   "execution_count": 324,
   "metadata": {},
   "outputs": [
    {
     "data": {
      "text/plain": [
       "Index(['Agility', 'Accelerated Healing', 'Lantern Power Ring',\n",
       "       'Dimensional Awareness', 'Cold Resistance', 'Durability', 'Stealth',\n",
       "       'Energy Absorption', 'Flight', 'Danger Sense',\n",
       "       ...\n",
       "       'Omniscient', 'Gender', 'Eye color', 'Race', 'Hair color', 'Height',\n",
       "       'Publisher', 'Skin color', 'Alignment', 'Weight'],\n",
       "      dtype='object', length=176)"
      ]
     },
     "execution_count": 324,
     "metadata": {},
     "output_type": "execute_result"
    }
   ],
   "source": [
    "heroes_and_powers.columns"
   ]
  },
  {
   "cell_type": "code",
   "execution_count": 325,
   "metadata": {
    "scrolled": true
   },
   "outputs": [
    {
     "data": {
      "text/plain": [
       "Male      464\n",
       "Female    178\n",
       "-          18\n",
       "Name: Gender, dtype: int64"
      ]
     },
     "execution_count": 325,
     "metadata": {},
     "output_type": "execute_result"
    }
   ],
   "source": [
    "heroes_and_powers[\"Gender\"].value_counts()"
   ]
  },
  {
   "cell_type": "markdown",
   "metadata": {},
   "source": [
    "In the cell below, subset male and female heroes into different dataframes.  Create a scatterplot of the height and weight of each hero, with weight as the y-axis.  Plot both the male and female heroes subset into each dataframe, and make the color for each point in the scatterplot correspond to the gender of the superhero."
   ]
  },
  {
   "cell_type": "code",
   "execution_count": 326,
   "metadata": {},
   "outputs": [
    {
     "data": {
      "text/plain": [
       "<matplotlib.axes._subplots.AxesSubplot at 0x1dbc819dba8>"
      ]
     },
     "execution_count": 326,
     "metadata": {},
     "output_type": "execute_result"
    },
    {
     "data": {
      "image/png": "[encoded data removed]",
      "text/plain": [
       "<Figure size 432x288 with 1 Axes>"
      ]
     },
     "metadata": {
      "needs_background": "light"
     },
     "output_type": "display_data"
    }
   ],
   "source": [
    "male_heroes = heroes_and_powers[heroes_and_powers['Gender'] =='Male']\n",
    "female_heroes = heroes_and_powers[heroes_and_powers['Gender']=='Female'] \n",
    "\n",
    "ax = male_heroes.plot(kind='scatter', x='Height', y='Weight', color='blue', label='Male')\n",
    "female_heroes.plot(kind='scatter', x='Height', y='Weight', color='red', label='Female', ax=ax)"
   ]
  },
  {
   "cell_type": "markdown",
   "metadata": {},
   "source": [
    "## Some Initial Investigation\n",
    "\n",
    "Next, slice the DataFrame as needed and visualize the distribution of heights and weights by gender.  You should have 4 total plots.  \n",
    "\n",
    "In the cell below:\n",
    "\n",
    "* Slice the DataFrame into separate DataFrames by gender\n",
    "* Complete the `show_distplot` function.  This helper function should take in a DataFrame, a string containing the gender we want to visualize, and and the column name we want to visualize by gender. The function should display a distplot visualization from seaborn of the column/gender combination.  \n",
    "\n",
    "Hint: Don't forget to check the [seaborn documentation for distplot](https://seaborn.pydata.org/generated/seaborn.distplot.html) if you have questions about how to use it correctly! "
   ]
  },
  {
   "cell_type": "code",
   "execution_count": 327,
   "metadata": {},
   "outputs": [],
   "source": [
    "import seaborn as sns\n",
    "\n",
    "def show_distplot(dataframe, gender, column_name):\n",
    "    sns.distplot(dataframe[column_name], hist=True)\n",
    "    plt.title(f'Distribution of {column_name} for {gender}')\n",
    "    plt.show()"
   ]
  },
  {
   "cell_type": "code",
   "execution_count": 328,
   "metadata": {},
   "outputs": [
    {
     "data": {
      "image/png": "[encoded data removed]",
      "text/plain": [
       "<Figure size 432x288 with 1 Axes>"
      ]
     },
     "metadata": {
      "needs_background": "light"
     },
     "output_type": "display_data"
    },
    {
     "name": "stdout",
     "output_type": "stream",
     "text": [
      "count    464.000000\n",
      "mean     117.084052\n",
      "std      141.224950\n",
      "min      -99.000000\n",
      "25%      -99.000000\n",
      "50%      183.000000\n",
      "75%      188.000000\n",
      "max      975.000000\n",
      "Name: Height, dtype: float64\n"
     ]
    }
   ],
   "source": [
    "show_distplot(male_heroes, 'Male', 'Height')# Male Height\n",
    "print(male_heroes['Height'].describe())"
   ]
  },
  {
   "cell_type": "code",
   "execution_count": 329,
   "metadata": {},
   "outputs": [
    {
     "data": {
      "image/png": "[encoded data removed]",
      "text/plain": [
       "<Figure size 432x288 with 1 Axes>"
      ]
     },
     "metadata": {
      "needs_background": "light"
     },
     "output_type": "display_data"
    },
    {
     "name": "stdout",
     "output_type": "stream",
     "text": [
      "count    464.000000\n",
      "mean      59.295259\n",
      "std      139.742718\n",
      "min      -99.000000\n",
      "25%      -99.000000\n",
      "50%       79.000000\n",
      "75%      101.000000\n",
      "max      900.000000\n",
      "Name: Weight, dtype: float64\n"
     ]
    }
   ],
   "source": [
    "show_distplot(male_heroes, 'Male', 'Weight')# Male Weight\n",
    "print(male_heroes['Weight'].describe())"
   ]
  },
  {
   "cell_type": "code",
   "execution_count": 330,
   "metadata": {},
   "outputs": [
    {
     "data": {
      "image/png": "[encoded data removed]",
      "text/plain": [
       "<Figure size 432x288 with 1 Axes>"
      ]
     },
     "metadata": {
      "needs_background": "light"
     },
     "output_type": "display_data"
    },
    {
     "name": "stdout",
     "output_type": "stream",
     "text": [
      "count    178.000000\n",
      "mean     111.693820\n",
      "std      117.529527\n",
      "min      -99.000000\n",
      "25%      157.000000\n",
      "50%      168.000000\n",
      "75%      175.000000\n",
      "max      366.000000\n",
      "Name: Height, dtype: float64\n"
     ]
    }
   ],
   "source": [
    "show_distplot(female_heroes, 'Female', 'Height')# Female Height\n",
    "print(female_heroes['Height'].describe())"
   ]
  },
  {
   "cell_type": "code",
   "execution_count": 331,
   "metadata": {},
   "outputs": [
    {
     "data": {
      "image/png": "[encoded data removed]",
      "text/plain": [
       "<Figure size 432x288 with 1 Axes>"
      ]
     },
     "metadata": {
      "needs_background": "light"
     },
     "output_type": "display_data"
    },
    {
     "name": "stdout",
     "output_type": "stream",
     "text": [
      "count    178.000000\n",
      "mean      36.651685\n",
      "std      102.943800\n",
      "min      -99.000000\n",
      "25%       48.250000\n",
      "50%       54.500000\n",
      "75%       61.000000\n",
      "max      630.000000\n",
      "Name: Weight, dtype: float64\n"
     ]
    }
   ],
   "source": [
    "# Female Weight\n",
    "show_distplot(female_heroes, 'Female', 'Weight')\n",
    "print(female_heroes['Weight'].describe())"
   ]
  },
  {
   "cell_type": "markdown",
   "metadata": {},
   "source": [
    "Discuss your findings from the plots above, with respect to the distibution of height and weight by gender.  Your explanation should include discussion of any relevant summary statistics, including mean, median, mode, and the overall shape of each distribution.  \n",
    "\n",
    "Wite your answer below this line:\n",
    "____________________________________________________________________________________________________________________________\n",
    "\n"
   ]
  },
  {
   "cell_type": "markdown",
   "metadata": {},
   "source": [
    "There is less variation in both height and weight for females as compared to males. There's also negative heights and weights, which, in normal humans wouldn't be possible, but who knows when it comes to superheroes. Every plot has a left skew, indicating the mean is lower than the median for both height and weight. The outliers most likely skew the distribution in such a way. If they were removed, I'm sure we'd see a normal distribution, though again, this dataset include both non-humans, aliens, etc. and physics laws aren't necessarily abided by."
   ]
  },
  {
   "cell_type": "markdown",
   "metadata": {},
   "source": [
    "### Sample Question: Most Common Powers\n",
    "\n",
    "The rest of this notebook will be left to you to investigate the dataset by formulating your own questions, and then seeking answers using pandas and numpy.  Every answer should include some sort of visualization, when appropriate. Before moving on to formulating your own questions, use the dataset to answer the following questions about superhero powers:\n",
    "\n",
    "* What are the 5 most common powers overall?\n",
    "* What are the 5 most common powers in the Marvel Universe?\n",
    "* What are the 5 most common powers in the DC Universe?"
   ]
  },
  {
   "cell_type": "code",
   "execution_count": 332,
   "metadata": {},
   "outputs": [
    {
     "name": "stdout",
     "output_type": "stream",
     "text": [
      "242 heroes have this superpower: Agility\n",
      "178 heroes have this superpower: Accelerated Healing\n",
      "11 heroes have this superpower: Lantern Power Ring\n",
      "25 heroes have this superpower: Dimensional Awareness\n",
      "47 heroes have this superpower: Cold Resistance\n",
      "257 heroes have this superpower: Durability\n",
      "126 heroes have this superpower: Stealth\n",
      "77 heroes have this superpower: Energy Absorption\n",
      "212 heroes have this superpower: Flight\n",
      "30 heroes have this superpower: Danger Sense\n",
      "21 heroes have this superpower: Underwater breathing\n",
      "119 heroes have this superpower: Marksmanship\n",
      "105 heroes have this superpower: Weapons Master\n",
      "8 heroes have this superpower: Power Augmentation\n",
      "25 heroes have this superpower: Animal Attributes\n",
      "113 heroes have this superpower: Longevity\n",
      "158 heroes have this superpower: Intelligence\n",
      "360 heroes have this superpower: Super Strength\n",
      "19 heroes have this superpower: Cryokinesis\n",
      "92 heroes have this superpower: Telepathy\n",
      "8 heroes have this superpower: Energy Armor\n",
      "147 heroes have this superpower: Energy Blasts\n",
      "16 heroes have this superpower: Duplication\n",
      "55 heroes have this superpower: Size Changing\n",
      "15 heroes have this superpower: Density Control\n",
      "289 heroes have this superpower: Stamina\n",
      "4 heroes have this superpower: Astral Travel\n",
      "7 heroes have this superpower: Audio Control\n",
      "6 heroes have this superpower: Dexterity\n",
      "1 heroes have this superpower: Omnitrix\n",
      "249 heroes have this superpower: Super Speed\n",
      "8 heroes have this superpower: Possession\n",
      "40 heroes have this superpower: Animal Oriented Powers\n",
      "58 heroes have this superpower: Weapon-based Powers\n",
      "22 heroes have this superpower: Electrokinesis\n",
      "10 heroes have this superpower: Darkforce Manipulation\n",
      "7 heroes have this superpower: Death Touch\n",
      "72 heroes have this superpower: Teleportation\n",
      "89 heroes have this superpower: Enhanced Senses\n",
      "61 heroes have this superpower: Telekinesis\n",
      "42 heroes have this superpower: Energy Beams\n",
      "44 heroes have this superpower: Magic\n",
      "1 heroes have this superpower: Hyperkinesis\n",
      "65 heroes have this superpower: Jump\n",
      "4 heroes have this superpower: Clairvoyance\n",
      "23 heroes have this superpower: Dimensional Travel\n",
      "3 heroes have this superpower: Power Sense\n",
      "66 heroes have this superpower: Shapeshifting\n",
      "30 heroes have this superpower: Peak Human Condition\n",
      "69 heroes have this superpower: Immortality\n",
      "21 heroes have this superpower: Camouflage\n",
      "8 heroes have this superpower: Element Control\n",
      "31 heroes have this superpower: Phasing\n",
      "29 heroes have this superpower: Astral Projection\n",
      "1 heroes have this superpower: Electrical Transport\n",
      "32 heroes have this superpower: Fire Control\n",
      "2 heroes have this superpower: Projection\n",
      "4 heroes have this superpower: Summoning\n",
      "25 heroes have this superpower: Enhanced Memory\n",
      "164 heroes have this superpower: Reflexes\n",
      "117 heroes have this superpower: Invulnerability\n",
      "38 heroes have this superpower: Energy Constructs\n",
      "86 heroes have this superpower: Force Fields\n",
      "37 heroes have this superpower: Self-Sustenance\n",
      "1 heroes have this superpower: Anti-Gravity\n",
      "19 heroes have this superpower: Empathy\n",
      "4 heroes have this superpower: Power Nullifier\n",
      "7 heroes have this superpower: Radiation Control\n",
      "49 heroes have this superpower: Psionic Powers\n",
      "11 heroes have this superpower: Elasticity\n",
      "17 heroes have this superpower: Substance Secretion\n",
      "6 heroes have this superpower: Elemental Transmogrification\n",
      "23 heroes have this superpower: Technopath/Cyberpath\n",
      "3 heroes have this superpower: Photographic Reflexes\n",
      "3 heroes have this superpower: Seismic Power\n",
      "5 heroes have this superpower: Animation\n",
      "22 heroes have this superpower: Precognition\n",
      "22 heroes have this superpower: Mind Control\n",
      "18 heroes have this superpower: Fire Resistance\n",
      "12 heroes have this superpower: Power Absorption\n",
      "72 heroes have this superpower: Enhanced Hearing\n",
      "2 heroes have this superpower: Nova Force\n",
      "5 heroes have this superpower: Insanity\n",
      "23 heroes have this superpower: Hypnokinesis\n",
      "9 heroes have this superpower: Animal Control\n",
      "36 heroes have this superpower: Natural Armor\n",
      "20 heroes have this superpower: Intangibility\n",
      "25 heroes have this superpower: Enhanced Sight\n",
      "42 heroes have this superpower: Molecular Manipulation\n",
      "24 heroes have this superpower: Heat Generation\n",
      "5 heroes have this superpower: Adaptation\n",
      "10 heroes have this superpower: Gliding\n",
      "33 heroes have this superpower: Power Suit\n",
      "12 heroes have this superpower: Mind Blast\n",
      "9 heroes have this superpower: Probability Manipulation\n",
      "16 heroes have this superpower: Gravity Control\n",
      "28 heroes have this superpower: Regeneration\n",
      "15 heroes have this superpower: Light Control\n",
      "2 heroes have this superpower: Echolocation\n",
      "26 heroes have this superpower: Levitation\n",
      "10 heroes have this superpower: Toxin and Disease Control\n",
      "1 heroes have this superpower: Banish\n",
      "52 heroes have this superpower: Energy Manipulation\n",
      "43 heroes have this superpower: Heat Resistance\n",
      "58 heroes have this superpower: Natural Weapons\n",
      "33 heroes have this superpower: Time Travel\n",
      "32 heroes have this superpower: Enhanced Smell\n",
      "38 heroes have this superpower: Illusions\n",
      "1 heroes have this superpower: Thirstokinesis\n",
      "1 heroes have this superpower: Hair Manipulation\n",
      "2 heroes have this superpower: Illumination\n",
      "7 heroes have this superpower: Omnipotent\n",
      "7 heroes have this superpower: Cloaking\n",
      "1 heroes have this superpower: Changing Armor\n",
      "7 heroes have this superpower: Power Cosmic\n",
      "1 heroes have this superpower: Biokinesis\n",
      "13 heroes have this superpower: Water Control\n",
      "10 heroes have this superpower: Radiation Immunity\n",
      "43 heroes have this superpower: Vision - Telescopic\n",
      "48 heroes have this superpower: Toxin and Disease Resistance\n",
      "1 heroes have this superpower: Spatial Awareness\n",
      "7 heroes have this superpower: Energy Resistance\n",
      "33 heroes have this superpower: Telepathy Resistance\n",
      "2 heroes have this superpower: Molecular Combustion\n",
      "21 heroes have this superpower: Omnilingualism\n",
      "4 heroes have this superpower: Portal Creation\n",
      "11 heroes have this superpower: Magnetism\n",
      "12 heroes have this superpower: Mind Control Resistance\n",
      "8 heroes have this superpower: Plant Control\n",
      "4 heroes have this superpower: Sonar\n",
      "6 heroes have this superpower: Sonic Scream\n",
      "20 heroes have this superpower: Time Manipulation\n",
      "7 heroes have this superpower: Enhanced Touch\n",
      "6 heroes have this superpower: Magic Resistance\n",
      "22 heroes have this superpower: Invisibility\n",
      "20 heroes have this superpower: Sub-Mariner\n",
      "7 heroes have this superpower: Radiation Absorption\n",
      "1 heroes have this superpower: Intuitive aptitude\n",
      "19 heroes have this superpower: Vision - Microscopic\n",
      "2 heroes have this superpower: Melting\n",
      "3 heroes have this superpower: Wind Control\n",
      "23 heroes have this superpower: Super Breath\n",
      "34 heroes have this superpower: Wallcrawling\n",
      "34 heroes have this superpower: Vision - Night\n",
      "22 heroes have this superpower: Vision - Infrared\n",
      "3 heroes have this superpower: Grim Reaping\n",
      "11 heroes have this superpower: Matter Absorption\n",
      "6 heroes have this superpower: The Force\n",
      "15 heroes have this superpower: Resurrection\n",
      "2 heroes have this superpower: Terrakinesis\n",
      "19 heroes have this superpower: Vision - Heat\n",
      "2 heroes have this superpower: Vitakinesis\n",
      "6 heroes have this superpower: Radar Sense\n",
      "2 heroes have this superpower: Qwardian Power Ring\n",
      "8 heroes have this superpower: Weather Control\n",
      "23 heroes have this superpower: Vision - X-Ray\n",
      "23 heroes have this superpower: Vision - Thermal\n",
      "14 heroes have this superpower: Web Creation\n",
      "16 heroes have this superpower: Reality Warping\n",
      "2 heroes have this superpower: Odin Force\n",
      "9 heroes have this superpower: Symbiote Costume\n",
      "1 heroes have this superpower: Speed Force\n",
      "1 heroes have this superpower: Phoenix Force\n",
      "1 heroes have this superpower: Molecular Dissipation\n",
      "2 heroes have this superpower: Vision - Cryo\n",
      "2 heroes have this superpower: Omnipresent\n",
      "2 heroes have this superpower: Omniscient\n"
     ]
    }
   ],
   "source": [
    "def most_powers(dataframe):\n",
    "    for column in dataframe:\n",
    "        instances_of_power = dataframe[column].sum()\n",
    "        print(f'{instances_of_power} heroes have this superpower: {column}')\n",
    "most_powers(powers_df)"
   ]
  },
  {
   "cell_type": "code",
   "execution_count": 333,
   "metadata": {},
   "outputs": [
    {
     "data": {
      "text/plain": [
       "{'Agility': 242,\n",
       " 'Accelerated Healing': 178,\n",
       " 'Lantern Power Ring': 11,\n",
       " 'Dimensional Awareness': 25,\n",
       " 'Cold Resistance': 47,\n",
       " 'Durability': 257,\n",
       " 'Stealth': 126,\n",
       " 'Energy Absorption': 77,\n",
       " 'Flight': 212,\n",
       " 'Danger Sense': 30,\n",
       " 'Underwater breathing': 21,\n",
       " 'Marksmanship': 119,\n",
       " 'Weapons Master': 105,\n",
       " 'Power Augmentation': 8,\n",
       " 'Animal Attributes': 25,\n",
       " 'Longevity': 113,\n",
       " 'Intelligence': 158,\n",
       " 'Super Strength': 360,\n",
       " 'Cryokinesis': 19,\n",
       " 'Telepathy': 92,\n",
       " 'Energy Armor': 8,\n",
       " 'Energy Blasts': 147,\n",
       " 'Duplication': 16,\n",
       " 'Size Changing': 55,\n",
       " 'Density Control': 15,\n",
       " 'Stamina': 289,\n",
       " 'Astral Travel': 4,\n",
       " 'Audio Control': 7,\n",
       " 'Dexterity': 6,\n",
       " 'Omnitrix': 1,\n",
       " 'Super Speed': 249,\n",
       " 'Possession': 8,\n",
       " 'Animal Oriented Powers': 40,\n",
       " 'Weapon-based Powers': 58,\n",
       " 'Electrokinesis': 22,\n",
       " 'Darkforce Manipulation': 10,\n",
       " 'Death Touch': 7,\n",
       " 'Teleportation': 72,\n",
       " 'Enhanced Senses': 89,\n",
       " 'Telekinesis': 61,\n",
       " 'Energy Beams': 42,\n",
       " 'Magic': 44,\n",
       " 'Hyperkinesis': 1,\n",
       " 'Jump': 65,\n",
       " 'Clairvoyance': 4,\n",
       " 'Dimensional Travel': 23,\n",
       " 'Power Sense': 3,\n",
       " 'Shapeshifting': 66,\n",
       " 'Peak Human Condition': 30,\n",
       " 'Immortality': 69,\n",
       " 'Camouflage': 21,\n",
       " 'Element Control': 8,\n",
       " 'Phasing': 31,\n",
       " 'Astral Projection': 29,\n",
       " 'Electrical Transport': 1,\n",
       " 'Fire Control': 32,\n",
       " 'Projection': 2,\n",
       " 'Summoning': 4,\n",
       " 'Enhanced Memory': 25,\n",
       " 'Reflexes': 164,\n",
       " 'Invulnerability': 117,\n",
       " 'Energy Constructs': 38,\n",
       " 'Force Fields': 86,\n",
       " 'Self-Sustenance': 37,\n",
       " 'Anti-Gravity': 1,\n",
       " 'Empathy': 19,\n",
       " 'Power Nullifier': 4,\n",
       " 'Radiation Control': 7,\n",
       " 'Psionic Powers': 49,\n",
       " 'Elasticity': 11,\n",
       " 'Substance Secretion': 17,\n",
       " 'Elemental Transmogrification': 6,\n",
       " 'Technopath/Cyberpath': 23,\n",
       " 'Photographic Reflexes': 3,\n",
       " 'Seismic Power': 3,\n",
       " 'Animation': 5,\n",
       " 'Precognition': 22,\n",
       " 'Mind Control': 22,\n",
       " 'Fire Resistance': 18,\n",
       " 'Power Absorption': 12,\n",
       " 'Enhanced Hearing': 72,\n",
       " 'Nova Force': 2,\n",
       " 'Insanity': 5,\n",
       " 'Hypnokinesis': 23,\n",
       " 'Animal Control': 9,\n",
       " 'Natural Armor': 36,\n",
       " 'Intangibility': 20,\n",
       " 'Enhanced Sight': 25,\n",
       " 'Molecular Manipulation': 42,\n",
       " 'Heat Generation': 24,\n",
       " 'Adaptation': 5,\n",
       " 'Gliding': 10,\n",
       " 'Power Suit': 33,\n",
       " 'Mind Blast': 12,\n",
       " 'Probability Manipulation': 9,\n",
       " 'Gravity Control': 16,\n",
       " 'Regeneration': 28,\n",
       " 'Light Control': 15,\n",
       " 'Echolocation': 2,\n",
       " 'Levitation': 26,\n",
       " 'Toxin and Disease Control': 10,\n",
       " 'Banish': 1,\n",
       " 'Energy Manipulation': 52,\n",
       " 'Heat Resistance': 43,\n",
       " 'Natural Weapons': 58,\n",
       " 'Time Travel': 33,\n",
       " 'Enhanced Smell': 32,\n",
       " 'Illusions': 38,\n",
       " 'Thirstokinesis': 1,\n",
       " 'Hair Manipulation': 1,\n",
       " 'Illumination': 2,\n",
       " 'Omnipotent': 7,\n",
       " 'Cloaking': 7,\n",
       " 'Changing Armor': 1,\n",
       " 'Power Cosmic': 7,\n",
       " 'Biokinesis': 1,\n",
       " 'Water Control': 13,\n",
       " 'Radiation Immunity': 10,\n",
       " 'Vision - Telescopic': 43,\n",
       " 'Toxin and Disease Resistance': 48,\n",
       " 'Spatial Awareness': 1,\n",
       " 'Energy Resistance': 7,\n",
       " 'Telepathy Resistance': 33,\n",
       " 'Molecular Combustion': 2,\n",
       " 'Omnilingualism': 21,\n",
       " 'Portal Creation': 4,\n",
       " 'Magnetism': 11,\n",
       " 'Mind Control Resistance': 12,\n",
       " 'Plant Control': 8,\n",
       " 'Sonar': 4,\n",
       " 'Sonic Scream': 6,\n",
       " 'Time Manipulation': 20,\n",
       " 'Enhanced Touch': 7,\n",
       " 'Magic Resistance': 6,\n",
       " 'Invisibility': 22,\n",
       " 'Sub-Mariner': 20,\n",
       " 'Radiation Absorption': 7,\n",
       " 'Intuitive aptitude': 1,\n",
       " 'Vision - Microscopic': 19,\n",
       " 'Melting': 2,\n",
       " 'Wind Control': 3,\n",
       " 'Super Breath': 23,\n",
       " 'Wallcrawling': 34,\n",
       " 'Vision - Night': 34,\n",
       " 'Vision - Infrared': 22,\n",
       " 'Grim Reaping': 3,\n",
       " 'Matter Absorption': 11,\n",
       " 'The Force': 6,\n",
       " 'Resurrection': 15,\n",
       " 'Terrakinesis': 2,\n",
       " 'Vision - Heat': 19,\n",
       " 'Vitakinesis': 2,\n",
       " 'Radar Sense': 6,\n",
       " 'Qwardian Power Ring': 2,\n",
       " 'Weather Control': 8,\n",
       " 'Vision - X-Ray': 23,\n",
       " 'Vision - Thermal': 23,\n",
       " 'Web Creation': 14,\n",
       " 'Reality Warping': 16,\n",
       " 'Odin Force': 2,\n",
       " 'Symbiote Costume': 9,\n",
       " 'Speed Force': 1,\n",
       " 'Phoenix Force': 1,\n",
       " 'Molecular Dissipation': 1,\n",
       " 'Vision - Cryo': 2,\n",
       " 'Omnipresent': 2,\n",
       " 'Omniscient': 2,\n",
       " 'key': <function __main__.<lambda>(x)>}"
      ]
     },
     "execution_count": 333,
     "metadata": {},
     "output_type": "execute_result"
    }
   ],
   "source": [
    "dict(powers_df.sum(), key=lambda x: x[1])"
   ]
  },
  {
   "cell_type": "code",
   "execution_count": 334,
   "metadata": {},
   "outputs": [
    {
     "name": "stdout",
     "output_type": "stream",
     "text": [
      "[('Super Strength', 360), ('Stamina', 289), ('Durability', 257), ('Super Speed', 249), ('Agility', 242)]\n"
     ]
    },
    {
     "data": {
      "text/plain": [
       "Agility                                                                 75\n",
       "Accelerated Healing                                                     51\n",
       "Lantern Power Ring                                                      11\n",
       "Dimensional Awareness                                                    7\n",
       "Cold Resistance                                                         15\n",
       "Durability                                                              74\n",
       "Stealth                                                                 51\n",
       "Energy Absorption                                                       30\n",
       "Flight                                                                  86\n",
       "Danger Sense                                                             3\n",
       "Underwater breathing                                                    12\n",
       "Marksmanship                                                            47\n",
       "Weapons Master                                                          43\n",
       "Power Augmentation                                                       2\n",
       "Animal Attributes                                                        8\n",
       "Longevity                                                               33\n",
       "Intelligence                                                            69\n",
       "Super Strength                                                         110\n",
       "Cryokinesis                                                              7\n",
       "Telepathy                                                               19\n",
       "Energy Armor                                                             4\n",
       "Energy Blasts                                                           43\n",
       "Duplication                                                              9\n",
       "Size Changing                                                           21\n",
       "Density Control                                                         10\n",
       "Stamina                                                                 94\n",
       "Astral Travel                                                         True\n",
       "Audio Control                                                            3\n",
       "Dexterity                                                                2\n",
       "Omnitrix                                                              True\n",
       "                                               ...                        \n",
       "Matter Absorption                                                        3\n",
       "The Force                                                            False\n",
       "Resurrection                                                             6\n",
       "Terrakinesis                                                          True\n",
       "Vision - Heat                                                           13\n",
       "Vitakinesis                                                          False\n",
       "Radar Sense                                                           True\n",
       "Qwardian Power Ring                                                      2\n",
       "Weather Control                                                          2\n",
       "Vision - X-Ray                                                          19\n",
       "Vision - Thermal                                                         8\n",
       "Web Creation                                                         False\n",
       "Reality Warping                                                          3\n",
       "Odin Force                                                           False\n",
       "Symbiote Costume                                                      True\n",
       "Speed Force                                                           True\n",
       "Phoenix Force                                                        False\n",
       "Molecular Dissipation                                                 True\n",
       "Vision - Cryo                                                         True\n",
       "Omnipresent                                                          False\n",
       "Omniscient                                                           False\n",
       "Gender                   MaleMaleMaleMaleMaleMaleMaleMaleMaleMaleMaleMa...\n",
       "Eye color                blueblueblueredblueyellowblueblueblueblueblue-...\n",
       "Race                     UngaranHuman-AndroidHumanGod / Eternal-Atlante...\n",
       "Hair color               No HairBlondBlond-BlondNo HairBlondBlackBlondB...\n",
       "Height                                                             20131.5\n",
       "Publisher                DC ComicsDC ComicsDC ComicsDC ComicsDC ComicsD...\n",
       "Skin color               red--------------------------green---white----...\n",
       "Alignment                goodgoodgoodbadgoodbadgoodgoodgoodbadgoodgoodg...\n",
       "Weight                                                                8312\n",
       "Length: 176, dtype: object"
      ]
     },
     "execution_count": 334,
     "metadata": {},
     "output_type": "execute_result"
    }
   ],
   "source": [
    "import operator\n",
    "def most_powers(dataframe):\n",
    "    for column in dataframe:\n",
    "        instances_of_power = dataframe[column].sum()\n",
    "        \n",
    "    powers_dictionary = dict(dataframe.sum())\n",
    "    return sorted(powers_dictionary.items(), key=lambda x: x[1], reverse=True)[:5]\n",
    "print(most_powers(powers_df))\n",
    "marvel = heroes_and_powers[heroes_and_powers['Publisher'] == 'Marvel Comics']\n",
    "dc = heroes_and_powers[heroes_and_powers['Publisher'] == 'DC Comics']\n",
    "dc.sum()\n",
    "#count how many cells in each column are true\n",
    "#pair column name as key, true count as value\n",
    "# sort key value pairs in descending order by value"
   ]
  },
  {
   "cell_type": "code",
   "execution_count": 335,
   "metadata": {},
   "outputs": [
    {
     "data": {
      "text/plain": [
       "[('Agility', 0.0),\n",
       " ('Accelerated Healing', 0.0),\n",
       " ('Lantern Power Ring', 0.0),\n",
       " ('Dimensional Awareness', 0.0),\n",
       " ('Cold Resistance', 0.0)]"
      ]
     },
     "execution_count": 335,
     "metadata": {},
     "output_type": "execute_result"
    }
   ],
   "source": [
    "def top_5_powers(dataframe):\n",
    "    df = dataframe.drop(heroes_df.columns.values[1:], axis=1)\n",
    "    columns = df.columns.values\n",
    "    for col in columns:\n",
    "        df[col] = df[col].map({\"True\": 1, \"False\": 0})\n",
    "        \n",
    "    power_counts_dict = dict(df.sum())\n",
    "    \n",
    "    return sorted(power_counts_dict.items(), key=lambda x: x[1], reverse=True)[:5] \n",
    "\n",
    "marvel = heroes_and_powers[heroes_and_powers['Publisher'] == 'Marvel Comics']\n",
    "top_5_powers(marvel)"
   ]
  },
  {
   "cell_type": "code",
   "execution_count": null,
   "metadata": {},
   "outputs": [],
   "source": []
  },
  {
   "cell_type": "code",
   "execution_count": null,
   "metadata": {},
   "outputs": [],
   "source": []
  },
  {
   "cell_type": "markdown",
   "metadata": {},
   "source": [
    "Analyze the results you found above to answer the following question:\n",
    "\n",
    "How do the top 5 powers in the Marvel and DC universes compare?  Are they similar, or are there significant differences? How do they compare to the overall trends in the entire Superheroes dataset?\n",
    "\n",
    "Wite your answer below this line:\n",
    "____________________________________________________________________________________________________________________________\n",
    "\n",
    "\n",
    "### Your Own Investigation\n",
    "\n",
    "For the remainder of this lab, you'll be focusing on coming up with and answering your own question, just like we did above.  Your question should not be overly simple, and should require both descriptive statistics and data visualization to answer.  In case you're unsure of what questions to ask, some sample questions have been provided below.\n",
    "\n",
    "Pick one of the following questions to investigate and answer, or come up with one of your own!\n",
    "\n",
    "* Which powers have the highest chance of co-occuring in a hero (e.g. super strength and flight), and does this differ by gender?\n",
    "* Is there a relationship between a hero's height and weight and their powerset?\n",
    "* What is the distribution of skin colors amongst alien heroes?\n",
    "\n",
    "Explain your question below this line:\n",
    "____________________________________________________________________________________________________________________________\n",
    "\n",
    "\n",
    "\n",
    "Some sample cells have been provided to give you room to work. If you need to create more cells, you can do this easily by:\n",
    "\n",
    "1. Highlighting a cell and then pressing `esc` to enter command mode.\n",
    "1. Pressing `b` to add a cell below the currently highlighted cell, or `a` to add one above it.  \n",
    "\n",
    "Be sure to include thoughtful, well-labeled visualizations to back up your analysis!"
   ]
  },
  {
   "cell_type": "code",
   "execution_count": 336,
   "metadata": {},
   "outputs": [
    {
     "data": {
      "text/plain": [
       "<matplotlib.legend.Legend at 0x1dbc61a8c88>"
      ]
     },
     "execution_count": 336,
     "metadata": {},
     "output_type": "execute_result"
    },
    {
     "data": {
      "image/png": "[encoded data removed]",
      "text/plain": [
       "<Figure size 720x360 with 1 Axes>"
      ]
     },
     "metadata": {
      "needs_background": "light"
     },
     "output_type": "display_data"
    }
   ],
   "source": [
    "new_figure= plt.figure(figsize=(10,5))\n",
    "ax = new_figure.add_subplot(111)\n",
    "male_heroes['Publisher'].value_counts().plot.bar(label='Male', color='blue')\n",
    "plt.xlabel('Publisher')\n",
    "plt.ylabel('Number of Characters')\n",
    "plt.title('Female v. Male Heroes per Publisher')\n",
    "female_heroes['Publisher'].value_counts().plot.bar(label='Female', color='red')\n",
    "plt.legend()"
   ]
  },
  {
   "cell_type": "code",
   "execution_count": 337,
   "metadata": {
    "scrolled": true
   },
   "outputs": [
    {
     "data": {
      "text/plain": [
       "<BarContainer object of 660 artists>"
      ]
     },
     "execution_count": 337,
     "metadata": {},
     "output_type": "execute_result"
    },
    {
     "data": {
      "image/png": "[encoded data removed]",
      "text/plain": [
       "<Figure size 432x288 with 1 Axes>"
      ]
     },
     "metadata": {
      "needs_background": "light"
     },
     "output_type": "display_data"
    }
   ],
   "source": [
    "plt.barh(heroes_and_powers['Race'], width=1000) #notfinished"
   ]
  },
  {
   "cell_type": "code",
   "execution_count": null,
   "metadata": {},
   "outputs": [],
   "source": []
  },
  {
   "cell_type": "code",
   "execution_count": null,
   "metadata": {},
   "outputs": [],
   "source": []
  },
  {
   "cell_type": "markdown",
   "metadata": {},
   "source": [
    "## Summary\n",
    "\n",
    "In this lab, we demonstrated our mastery of:\n",
    "* Using all of our Pandas knowledge to date to clean the dataset and deal with null values\n",
    "* Using Queries and aggregations to group the data into interesting subsets as needed\n",
    "* Using descriptive statistics and data visualization to find answers to questions we may have about the data"
   ]
  }
 ],
 "metadata": {
  "kernelspec": {
   "display_name": "learn-env",
   "language": "python",
   "name": "learn-env"
  },
  "language_info": {
   "codemirror_mode": {
    "name": "ipython",
    "version": 3
   },
   "file_extension": ".py",
   "mimetype": "text/x-python",
   "name": "python",
   "nbconvert_exporter": "python",
   "pygments_lexer": "ipython3",
   "version": "3.7.3"
  }
 },
 "nbformat": 4,
 "nbformat_minor": 2
}
