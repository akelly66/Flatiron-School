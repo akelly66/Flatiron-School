{
 "cells": [
  {
   "cell_type": "markdown",
   "metadata": {},
   "source": [
    "# Multiple Linear Regression in Statsmodels - Lab"
   ]
  },
  {
   "cell_type": "markdown",
   "metadata": {},
   "source": [
    "## Introduction\n",
    "In this lab, you'll practice fitting a multiple linear regression model on our Boston Housing Data set!"
   ]
  },
  {
   "cell_type": "markdown",
   "metadata": {},
   "source": [
    "## Objectives\n",
    "You will be able to:\n",
    "* Run linear regression on Boston Housing dataset with all the predictors\n",
    "* Interpret the parameters of the multiple linear regression model"
   ]
  },
  {
   "cell_type": "markdown",
   "metadata": {},
   "source": [
    "## The Boston Housing Data"
   ]
  },
  {
   "cell_type": "markdown",
   "metadata": {},
   "source": [
    "We pre-processed the Boston Housing Data again. This time, however, we did things slightly different:\n",
    "- We dropped \"ZN\" and \"NOX\" completely\n",
    "- We categorized \"RAD\" in 3 bins and \"TAX\" in 4 bins\n",
    "- We used min-max-scaling on \"B\", \"CRIM\" and \"DIS\" (and logtransformed all of them first, except \"B\")\n",
    "- We used standardization on \"AGE\", \"INDUS\", \"LSTAT\" and \"PTRATIO\" (and logtransformed all of them first, except for \"AGE\") "
   ]
  },
  {
   "cell_type": "code",
   "execution_count": 23,
   "metadata": {},
   "outputs": [],
   "source": [
    "import pandas as pd\n",
    "import numpy as np\n",
    "from sklearn.datasets import load_boston\n",
    "boston = load_boston()\n",
    "\n",
    "boston_features = pd.DataFrame(boston.data, columns = boston.feature_names)\n",
    "boston_features = boston_features.drop([\"NOX\",\"ZN\"],axis=1)\n",
    "\n",
    "# first, create bins for based on the values observed. 3 values will result in 2 bins\n",
    "bins = [0,6,  24]\n",
    "bins_rad = pd.cut(boston_features['RAD'], bins)\n",
    "bins_rad = bins_rad.cat.as_unordered()\n",
    "\n",
    "# first, create bins for based on the values observed. 4 values will result in 3 bins\n",
    "bins = [0, 270, 360, 712]\n",
    "bins_tax = pd.cut(boston_features['TAX'], bins)\n",
    "bins_tax = bins_tax.cat.as_unordered()\n",
    "\n",
    "tax_dummy = pd.get_dummies(bins_tax, prefix=\"TAX\")\n",
    "rad_dummy = pd.get_dummies(bins_rad, prefix=\"RAD\")\n",
    "boston_features = boston_features.drop([\"RAD\",\"TAX\"], axis=1)\n",
    "boston_features = pd.concat([boston_features, rad_dummy, tax_dummy], axis=1)"
   ]
  },
  {
   "cell_type": "code",
   "execution_count": 24,
   "metadata": {},
   "outputs": [],
   "source": [
    "age = boston_features[\"AGE\"]\n",
    "b = boston_features[\"B\"]\n",
    "logcrim = np.log(boston_features[\"CRIM\"])\n",
    "logdis = np.log(boston_features[\"DIS\"])\n",
    "logindus = np.log(boston_features[\"INDUS\"])\n",
    "loglstat = np.log(boston_features[\"LSTAT\"])\n",
    "logptratio = np.log(boston_features[\"PTRATIO\"])\n",
    "\n",
    "# minmax scaling\n",
    "boston_features[\"B\"] = (b-min(b))/(max(b)-min(b))\n",
    "boston_features[\"CRIM\"] = (logcrim-min(logcrim))/(max(logcrim)-min(logcrim))\n",
    "boston_features[\"DIS\"] = (logdis-min(logdis))/(max(logdis)-min(logdis))\n",
    "\n",
    "#standardization\n",
    "boston_features[\"AGE\"] = (age-np.mean(age))/np.sqrt(np.var(age))\n",
    "boston_features[\"INDUS\"] = (logindus-np.mean(logindus))/np.sqrt(np.var(logindus))\n",
    "boston_features[\"LSTAT\"] = (loglstat-np.mean(loglstat))/np.sqrt(np.var(loglstat))\n",
    "boston_features[\"PTRATIO\"] = (logptratio-np.mean(logptratio))/(np.sqrt(np.var(logptratio)))"
   ]
  },
  {
   "cell_type": "code",
   "execution_count": 25,
   "metadata": {},
   "outputs": [
    {
     "name": "stdout",
     "output_type": "stream",
     "text": [
      "<class 'pandas.core.frame.DataFrame'>\n",
      "RangeIndex: 506 entries, 0 to 505\n",
      "Data columns (total 14 columns):\n",
      "CRIM              506 non-null float64\n",
      "INDUS             506 non-null float64\n",
      "CHAS              506 non-null float64\n",
      "RM                506 non-null float64\n",
      "AGE               506 non-null float64\n",
      "DIS               506 non-null float64\n",
      "PTRATIO           506 non-null float64\n",
      "B                 506 non-null float64\n",
      "LSTAT             506 non-null float64\n",
      "RAD_(0, 6]        506 non-null uint8\n",
      "RAD_(6, 24]       506 non-null uint8\n",
      "TAX_(0, 270]      506 non-null uint8\n",
      "TAX_(270, 360]    506 non-null uint8\n",
      "TAX_(360, 712]    506 non-null uint8\n",
      "dtypes: float64(9), uint8(5)\n",
      "memory usage: 38.1 KB\n"
     ]
    }
   ],
   "source": [
    "boston_features.info()"
   ]
  },
  {
   "cell_type": "markdown",
   "metadata": {},
   "source": [
    "## Run an linear model in Statsmodels"
   ]
  },
  {
   "cell_type": "code",
   "execution_count": 26,
   "metadata": {},
   "outputs": [],
   "source": [
    "target_df = pd.DataFrame(boston.target)"
   ]
  },
  {
   "cell_type": "code",
   "execution_count": 27,
   "metadata": {},
   "outputs": [],
   "source": [
    "target_df = target_df.rename(columns={0:'MEDV'})"
   ]
  },
  {
   "cell_type": "code",
   "execution_count": 28,
   "metadata": {},
   "outputs": [
    {
     "data": {
      "text/html": [
       "<table class=\"simpletable\">\n",
       "<caption>OLS Regression Results</caption>\n",
       "<tr>\n",
       "  <th>Dep. Variable:</th>          <td>MEDV</td>       <th>  R-squared:         </th> <td>   0.779</td> \n",
       "</tr>\n",
       "<tr>\n",
       "  <th>Model:</th>                   <td>OLS</td>       <th>  Adj. R-squared:    </th> <td>   0.774</td> \n",
       "</tr>\n",
       "<tr>\n",
       "  <th>Method:</th>             <td>Least Squares</td>  <th>  F-statistic:       </th> <td>   144.9</td> \n",
       "</tr>\n",
       "<tr>\n",
       "  <th>Date:</th>             <td>Sun, 02 Jun 2019</td> <th>  Prob (F-statistic):</th> <td>5.08e-153</td>\n",
       "</tr>\n",
       "<tr>\n",
       "  <th>Time:</th>                 <td>21:14:51</td>     <th>  Log-Likelihood:    </th> <td> -1458.2</td> \n",
       "</tr>\n",
       "<tr>\n",
       "  <th>No. Observations:</th>      <td>   506</td>      <th>  AIC:               </th> <td>   2942.</td> \n",
       "</tr>\n",
       "<tr>\n",
       "  <th>Df Residuals:</th>          <td>   493</td>      <th>  BIC:               </th> <td>   2997.</td> \n",
       "</tr>\n",
       "<tr>\n",
       "  <th>Df Model:</th>              <td>    12</td>      <th>                     </th>     <td> </td>    \n",
       "</tr>\n",
       "<tr>\n",
       "  <th>Covariance Type:</th>      <td>nonrobust</td>    <th>                     </th>     <td> </td>    \n",
       "</tr>\n",
       "</table>\n",
       "<table class=\"simpletable\">\n",
       "<tr>\n",
       "         <td></td>           <th>coef</th>     <th>std err</th>      <th>t</th>      <th>P>|t|</th>  <th>[0.025</th>    <th>0.975]</th>  \n",
       "</tr>\n",
       "<tr>\n",
       "  <th>const</th>          <td>    4.4607</td> <td>    1.789</td> <td>    2.493</td> <td> 0.013</td> <td>    0.946</td> <td>    7.976</td>\n",
       "</tr>\n",
       "<tr>\n",
       "  <th>CRIM</th>           <td>   -1.9538</td> <td>    2.115</td> <td>   -0.924</td> <td> 0.356</td> <td>   -6.110</td> <td>    2.202</td>\n",
       "</tr>\n",
       "<tr>\n",
       "  <th>INDUS</th>          <td>   -0.8046</td> <td>    0.362</td> <td>   -2.220</td> <td> 0.027</td> <td>   -1.517</td> <td>   -0.093</td>\n",
       "</tr>\n",
       "<tr>\n",
       "  <th>CHAS</th>           <td>    2.5959</td> <td>    0.796</td> <td>    3.260</td> <td> 0.001</td> <td>    1.032</td> <td>    4.160</td>\n",
       "</tr>\n",
       "<tr>\n",
       "  <th>RM</th>             <td>    2.6466</td> <td>    0.408</td> <td>    6.488</td> <td> 0.000</td> <td>    1.845</td> <td>    3.448</td>\n",
       "</tr>\n",
       "<tr>\n",
       "  <th>AGE</th>            <td>    0.0794</td> <td>    0.352</td> <td>    0.226</td> <td> 0.821</td> <td>   -0.612</td> <td>    0.770</td>\n",
       "</tr>\n",
       "<tr>\n",
       "  <th>DIS</th>            <td>  -10.0962</td> <td>    1.856</td> <td>   -5.439</td> <td> 0.000</td> <td>  -13.743</td> <td>   -6.449</td>\n",
       "</tr>\n",
       "<tr>\n",
       "  <th>PTRATIO</th>        <td>   -1.4867</td> <td>    0.241</td> <td>   -6.160</td> <td> 0.000</td> <td>   -1.961</td> <td>   -1.013</td>\n",
       "</tr>\n",
       "<tr>\n",
       "  <th>B</th>              <td>    3.8412</td> <td>    0.986</td> <td>    3.897</td> <td> 0.000</td> <td>    1.905</td> <td>    5.778</td>\n",
       "</tr>\n",
       "<tr>\n",
       "  <th>LSTAT</th>          <td>   -5.6288</td> <td>    0.354</td> <td>  -15.912</td> <td> 0.000</td> <td>   -6.324</td> <td>   -4.934</td>\n",
       "</tr>\n",
       "<tr>\n",
       "  <th>RAD_(0, 6]</th>     <td>    1.5613</td> <td>    0.821</td> <td>    1.901</td> <td> 0.058</td> <td>   -0.052</td> <td>    3.175</td>\n",
       "</tr>\n",
       "<tr>\n",
       "  <th>RAD_(6, 24]</th>    <td>    2.8993</td> <td>    1.073</td> <td>    2.701</td> <td> 0.007</td> <td>    0.791</td> <td>    5.008</td>\n",
       "</tr>\n",
       "<tr>\n",
       "  <th>TAX_(0, 270]</th>   <td>    2.6222</td> <td>    0.716</td> <td>    3.665</td> <td> 0.000</td> <td>    1.216</td> <td>    4.028</td>\n",
       "</tr>\n",
       "<tr>\n",
       "  <th>TAX_(270, 360]</th> <td>    1.3624</td> <td>    0.704</td> <td>    1.936</td> <td> 0.053</td> <td>   -0.020</td> <td>    2.745</td>\n",
       "</tr>\n",
       "<tr>\n",
       "  <th>TAX_(360, 712]</th> <td>    0.4761</td> <td>    0.684</td> <td>    0.696</td> <td> 0.487</td> <td>   -0.868</td> <td>    1.820</td>\n",
       "</tr>\n",
       "</table>\n",
       "<table class=\"simpletable\">\n",
       "<tr>\n",
       "  <th>Omnibus:</th>       <td>106.730</td> <th>  Durbin-Watson:     </th> <td>   1.093</td>\n",
       "</tr>\n",
       "<tr>\n",
       "  <th>Prob(Omnibus):</th> <td> 0.000</td>  <th>  Jarque-Bera (JB):  </th> <td> 432.101</td>\n",
       "</tr>\n",
       "<tr>\n",
       "  <th>Skew:</th>          <td> 0.891</td>  <th>  Prob(JB):          </th> <td>1.48e-94</td>\n",
       "</tr>\n",
       "<tr>\n",
       "  <th>Kurtosis:</th>      <td> 7.162</td>  <th>  Cond. No.          </th> <td>5.67e+16</td>\n",
       "</tr>\n",
       "</table><br/><br/>Warnings:<br/>[1] Standard Errors assume that the covariance matrix of the errors is correctly specified.<br/>[2] The smallest eigenvalue is 6.79e-30. This might indicate that there are<br/>strong multicollinearity problems or that the design matrix is singular."
      ],
      "text/plain": [
       "<class 'statsmodels.iolib.summary.Summary'>\n",
       "\"\"\"\n",
       "                            OLS Regression Results                            \n",
       "==============================================================================\n",
       "Dep. Variable:                   MEDV   R-squared:                       0.779\n",
       "Model:                            OLS   Adj. R-squared:                  0.774\n",
       "Method:                 Least Squares   F-statistic:                     144.9\n",
       "Date:                Sun, 02 Jun 2019   Prob (F-statistic):          5.08e-153\n",
       "Time:                        21:14:51   Log-Likelihood:                -1458.2\n",
       "No. Observations:                 506   AIC:                             2942.\n",
       "Df Residuals:                     493   BIC:                             2997.\n",
       "Df Model:                          12                                         \n",
       "Covariance Type:            nonrobust                                         \n",
       "==================================================================================\n",
       "                     coef    std err          t      P>|t|      [0.025      0.975]\n",
       "----------------------------------------------------------------------------------\n",
       "const              4.4607      1.789      2.493      0.013       0.946       7.976\n",
       "CRIM              -1.9538      2.115     -0.924      0.356      -6.110       2.202\n",
       "INDUS             -0.8046      0.362     -2.220      0.027      -1.517      -0.093\n",
       "CHAS               2.5959      0.796      3.260      0.001       1.032       4.160\n",
       "RM                 2.6466      0.408      6.488      0.000       1.845       3.448\n",
       "AGE                0.0794      0.352      0.226      0.821      -0.612       0.770\n",
       "DIS              -10.0962      1.856     -5.439      0.000     -13.743      -6.449\n",
       "PTRATIO           -1.4867      0.241     -6.160      0.000      -1.961      -1.013\n",
       "B                  3.8412      0.986      3.897      0.000       1.905       5.778\n",
       "LSTAT             -5.6288      0.354    -15.912      0.000      -6.324      -4.934\n",
       "RAD_(0, 6]         1.5613      0.821      1.901      0.058      -0.052       3.175\n",
       "RAD_(6, 24]        2.8993      1.073      2.701      0.007       0.791       5.008\n",
       "TAX_(0, 270]       2.6222      0.716      3.665      0.000       1.216       4.028\n",
       "TAX_(270, 360]     1.3624      0.704      1.936      0.053      -0.020       2.745\n",
       "TAX_(360, 712]     0.4761      0.684      0.696      0.487      -0.868       1.820\n",
       "==============================================================================\n",
       "Omnibus:                      106.730   Durbin-Watson:                   1.093\n",
       "Prob(Omnibus):                  0.000   Jarque-Bera (JB):              432.101\n",
       "Skew:                           0.891   Prob(JB):                     1.48e-94\n",
       "Kurtosis:                       7.162   Cond. No.                     5.67e+16\n",
       "==============================================================================\n",
       "\n",
       "Warnings:\n",
       "[1] Standard Errors assume that the covariance matrix of the errors is correctly specified.\n",
       "[2] The smallest eigenvalue is 6.79e-30. This might indicate that there are\n",
       "strong multicollinearity problems or that the design matrix is singular.\n",
       "\"\"\""
      ]
     },
     "execution_count": 28,
     "metadata": {},
     "output_type": "execute_result"
    }
   ],
   "source": [
    "import statsmodels.api as sm\n",
    "from statsmodels.formula.api import OLS\n",
    "\n",
    "predictors_int = sm.add_constant(boston_features)\n",
    "model = sm.OLS(target_df, predictors_int).fit()\n",
    "model.summary()"
   ]
  },
  {
   "cell_type": "markdown",
   "metadata": {},
   "source": [
    "## Run the same model in Scikit-learn"
   ]
  },
  {
   "cell_type": "code",
   "execution_count": 29,
   "metadata": {},
   "outputs": [
    {
     "name": "stdout",
     "output_type": "stream",
     "text": [
      "[[ -1.95380233  -0.80457549   2.59586776   2.64657111   0.07939727\n",
      "  -10.09618465  -1.48666599   3.8412139   -5.62879369  -0.66898159\n",
      "    0.66898159   1.13527933  -0.12449679  -1.01078255]]\n",
      "[8.17785839]\n"
     ]
    }
   ],
   "source": [
    "from sklearn.linear_model import LinearRegression\n",
    "linreg = LinearRegression()\n",
    "linreg.fit(boston_features, target_df)\n",
    "\n",
    "print(linreg.coef_)\n",
    "print(linreg.intercept_)"
   ]
  },
  {
   "cell_type": "markdown",
   "metadata": {},
   "source": [
    "## Remove the necessary variables to make sure the coefficients are the same for Scikit-learn vs Statsmodels"
   ]
  },
  {
   "cell_type": "code",
   "execution_count": 30,
   "metadata": {},
   "outputs": [],
   "source": [
    "boston_features = boston_features.drop('TAX_(0, 270]', axis=1)"
   ]
  },
  {
   "cell_type": "code",
   "execution_count": 32,
   "metadata": {},
   "outputs": [],
   "source": [
    "boston_features = boston_features.drop('RAD_(0, 6]', axis=1)"
   ]
  },
  {
   "cell_type": "markdown",
   "metadata": {},
   "source": [
    "### Statsmodels"
   ]
  },
  {
   "cell_type": "code",
   "execution_count": 33,
   "metadata": {},
   "outputs": [
    {
     "data": {
      "text/html": [
       "<table class=\"simpletable\">\n",
       "<caption>OLS Regression Results</caption>\n",
       "<tr>\n",
       "  <th>Dep. Variable:</th>          <td>MEDV</td>       <th>  R-squared:         </th> <td>   0.779</td> \n",
       "</tr>\n",
       "<tr>\n",
       "  <th>Model:</th>                   <td>OLS</td>       <th>  Adj. R-squared:    </th> <td>   0.774</td> \n",
       "</tr>\n",
       "<tr>\n",
       "  <th>Method:</th>             <td>Least Squares</td>  <th>  F-statistic:       </th> <td>   144.9</td> \n",
       "</tr>\n",
       "<tr>\n",
       "  <th>Date:</th>             <td>Sun, 02 Jun 2019</td> <th>  Prob (F-statistic):</th> <td>5.08e-153</td>\n",
       "</tr>\n",
       "<tr>\n",
       "  <th>Time:</th>                 <td>21:15:14</td>     <th>  Log-Likelihood:    </th> <td> -1458.2</td> \n",
       "</tr>\n",
       "<tr>\n",
       "  <th>No. Observations:</th>      <td>   506</td>      <th>  AIC:               </th> <td>   2942.</td> \n",
       "</tr>\n",
       "<tr>\n",
       "  <th>Df Residuals:</th>          <td>   493</td>      <th>  BIC:               </th> <td>   2997.</td> \n",
       "</tr>\n",
       "<tr>\n",
       "  <th>Df Model:</th>              <td>    12</td>      <th>                     </th>     <td> </td>    \n",
       "</tr>\n",
       "<tr>\n",
       "  <th>Covariance Type:</th>      <td>nonrobust</td>    <th>                     </th>     <td> </td>    \n",
       "</tr>\n",
       "</table>\n",
       "<table class=\"simpletable\">\n",
       "<tr>\n",
       "         <td></td>           <th>coef</th>     <th>std err</th>      <th>t</th>      <th>P>|t|</th>  <th>[0.025</th>    <th>0.975]</th>  \n",
       "</tr>\n",
       "<tr>\n",
       "  <th>const</th>          <td>    8.6442</td> <td>    3.189</td> <td>    2.711</td> <td> 0.007</td> <td>    2.379</td> <td>   14.910</td>\n",
       "</tr>\n",
       "<tr>\n",
       "  <th>CRIM</th>           <td>   -1.9538</td> <td>    2.115</td> <td>   -0.924</td> <td> 0.356</td> <td>   -6.110</td> <td>    2.202</td>\n",
       "</tr>\n",
       "<tr>\n",
       "  <th>INDUS</th>          <td>   -0.8046</td> <td>    0.362</td> <td>   -2.220</td> <td> 0.027</td> <td>   -1.517</td> <td>   -0.093</td>\n",
       "</tr>\n",
       "<tr>\n",
       "  <th>CHAS</th>           <td>    2.5959</td> <td>    0.796</td> <td>    3.260</td> <td> 0.001</td> <td>    1.032</td> <td>    4.160</td>\n",
       "</tr>\n",
       "<tr>\n",
       "  <th>RM</th>             <td>    2.6466</td> <td>    0.408</td> <td>    6.488</td> <td> 0.000</td> <td>    1.845</td> <td>    3.448</td>\n",
       "</tr>\n",
       "<tr>\n",
       "  <th>AGE</th>            <td>    0.0794</td> <td>    0.352</td> <td>    0.226</td> <td> 0.821</td> <td>   -0.612</td> <td>    0.770</td>\n",
       "</tr>\n",
       "<tr>\n",
       "  <th>DIS</th>            <td>  -10.0962</td> <td>    1.856</td> <td>   -5.439</td> <td> 0.000</td> <td>  -13.743</td> <td>   -6.449</td>\n",
       "</tr>\n",
       "<tr>\n",
       "  <th>PTRATIO</th>        <td>   -1.4867</td> <td>    0.241</td> <td>   -6.160</td> <td> 0.000</td> <td>   -1.961</td> <td>   -1.013</td>\n",
       "</tr>\n",
       "<tr>\n",
       "  <th>B</th>              <td>    3.8412</td> <td>    0.986</td> <td>    3.897</td> <td> 0.000</td> <td>    1.905</td> <td>    5.778</td>\n",
       "</tr>\n",
       "<tr>\n",
       "  <th>LSTAT</th>          <td>   -5.6288</td> <td>    0.354</td> <td>  -15.912</td> <td> 0.000</td> <td>   -6.324</td> <td>   -4.934</td>\n",
       "</tr>\n",
       "<tr>\n",
       "  <th>RAD_(6, 24]</th>    <td>    1.3380</td> <td>    0.672</td> <td>    1.990</td> <td> 0.047</td> <td>    0.017</td> <td>    2.659</td>\n",
       "</tr>\n",
       "<tr>\n",
       "  <th>TAX_(270, 360]</th> <td>   -1.2598</td> <td>    0.600</td> <td>   -2.100</td> <td> 0.036</td> <td>   -2.438</td> <td>   -0.081</td>\n",
       "</tr>\n",
       "<tr>\n",
       "  <th>TAX_(360, 712]</th> <td>   -2.1461</td> <td>    0.704</td> <td>   -3.047</td> <td> 0.002</td> <td>   -3.530</td> <td>   -0.762</td>\n",
       "</tr>\n",
       "</table>\n",
       "<table class=\"simpletable\">\n",
       "<tr>\n",
       "  <th>Omnibus:</th>       <td>106.730</td> <th>  Durbin-Watson:     </th> <td>   1.093</td>\n",
       "</tr>\n",
       "<tr>\n",
       "  <th>Prob(Omnibus):</th> <td> 0.000</td>  <th>  Jarque-Bera (JB):  </th> <td> 432.101</td>\n",
       "</tr>\n",
       "<tr>\n",
       "  <th>Skew:</th>          <td> 0.891</td>  <th>  Prob(JB):          </th> <td>1.48e-94</td>\n",
       "</tr>\n",
       "<tr>\n",
       "  <th>Kurtosis:</th>      <td> 7.162</td>  <th>  Cond. No.          </th> <td>    117.</td>\n",
       "</tr>\n",
       "</table><br/><br/>Warnings:<br/>[1] Standard Errors assume that the covariance matrix of the errors is correctly specified."
      ],
      "text/plain": [
       "<class 'statsmodels.iolib.summary.Summary'>\n",
       "\"\"\"\n",
       "                            OLS Regression Results                            \n",
       "==============================================================================\n",
       "Dep. Variable:                   MEDV   R-squared:                       0.779\n",
       "Model:                            OLS   Adj. R-squared:                  0.774\n",
       "Method:                 Least Squares   F-statistic:                     144.9\n",
       "Date:                Sun, 02 Jun 2019   Prob (F-statistic):          5.08e-153\n",
       "Time:                        21:15:14   Log-Likelihood:                -1458.2\n",
       "No. Observations:                 506   AIC:                             2942.\n",
       "Df Residuals:                     493   BIC:                             2997.\n",
       "Df Model:                          12                                         \n",
       "Covariance Type:            nonrobust                                         \n",
       "==================================================================================\n",
       "                     coef    std err          t      P>|t|      [0.025      0.975]\n",
       "----------------------------------------------------------------------------------\n",
       "const              8.6442      3.189      2.711      0.007       2.379      14.910\n",
       "CRIM              -1.9538      2.115     -0.924      0.356      -6.110       2.202\n",
       "INDUS             -0.8046      0.362     -2.220      0.027      -1.517      -0.093\n",
       "CHAS               2.5959      0.796      3.260      0.001       1.032       4.160\n",
       "RM                 2.6466      0.408      6.488      0.000       1.845       3.448\n",
       "AGE                0.0794      0.352      0.226      0.821      -0.612       0.770\n",
       "DIS              -10.0962      1.856     -5.439      0.000     -13.743      -6.449\n",
       "PTRATIO           -1.4867      0.241     -6.160      0.000      -1.961      -1.013\n",
       "B                  3.8412      0.986      3.897      0.000       1.905       5.778\n",
       "LSTAT             -5.6288      0.354    -15.912      0.000      -6.324      -4.934\n",
       "RAD_(6, 24]        1.3380      0.672      1.990      0.047       0.017       2.659\n",
       "TAX_(270, 360]    -1.2598      0.600     -2.100      0.036      -2.438      -0.081\n",
       "TAX_(360, 712]    -2.1461      0.704     -3.047      0.002      -3.530      -0.762\n",
       "==============================================================================\n",
       "Omnibus:                      106.730   Durbin-Watson:                   1.093\n",
       "Prob(Omnibus):                  0.000   Jarque-Bera (JB):              432.101\n",
       "Skew:                           0.891   Prob(JB):                     1.48e-94\n",
       "Kurtosis:                       7.162   Cond. No.                         117.\n",
       "==============================================================================\n",
       "\n",
       "Warnings:\n",
       "[1] Standard Errors assume that the covariance matrix of the errors is correctly specified.\n",
       "\"\"\""
      ]
     },
     "execution_count": 33,
     "metadata": {},
     "output_type": "execute_result"
    }
   ],
   "source": [
    "predictors_int = sm.add_constant(boston_features)\n",
    "model = sm.OLS(target_df, predictors_int).fit()\n",
    "\n",
    "model.summary()"
   ]
  },
  {
   "cell_type": "markdown",
   "metadata": {},
   "source": [
    "### Scikit-learn"
   ]
  },
  {
   "cell_type": "code",
   "execution_count": 34,
   "metadata": {},
   "outputs": [
    {
     "name": "stdout",
     "output_type": "stream",
     "text": [
      "[[ -1.95380233  -0.80457549   2.59586776   2.64657111   0.07939727\n",
      "  -10.09618465  -1.48666599   3.8412139   -5.62879369   1.33796317\n",
      "   -1.25977612  -2.14606188]]\n",
      "[8.64415614]\n"
     ]
    }
   ],
   "source": [
    "linreg.fit(boston_features, target_df)\n",
    "print(linreg.coef_)\n",
    "print(linreg.intercept_)"
   ]
  },
  {
   "cell_type": "markdown",
   "metadata": {},
   "source": [
    "## Interpret the coefficients for PTRATIO, PTRATIO, LSTAT"
   ]
  },
  {
   "cell_type": "markdown",
   "metadata": {},
   "source": [
    "- CRIM: per capita crime rate by town\n",
    "- INDUS: proportion of non-retail business acres per town\n",
    "- CHAS: Charles River dummy variable (= 1 if tract bounds river; 0 otherwise)\n",
    "- RM: average number of rooms per dwelling\n",
    "- AGE: proportion of owner-occupied units built prior to 1940\n",
    "- DIS: weighted distances to five Boston employment centres\n",
    "- RAD: index of accessibility to radial highways\n",
    "- TAX: full-value property-tax rate per $10,000\n",
    "- PTRATIO: pupil-teacher ratio by town\n",
    "- B: 1000(Bk - 0.63)^2 where Bk is the proportion of blacks by town\n",
    "- LSTAT: % lower status of the population"
   ]
  },
  {
   "cell_type": "markdown",
   "metadata": {},
   "source": [
    "For larger pupil to teacher ratios, the median value of owner occupied homes decreases by 1.4. \n",
    "for higher rates of a lower status population, the median value of owner occupied homes decreases by 5.6."
   ]
  },
  {
   "cell_type": "markdown",
   "metadata": {},
   "source": [
    "## Predict the house price given the following characteristics (before manipulation!!)\n",
    "\n",
    "Make sure to transform your variables as needed!\n",
    "\n",
    "- CRIM: 0.15\n",
    "- INDUS: 6.07\n",
    "- CHAS: 1        \n",
    "- RM:  6.1\n",
    "- AGE: 33.2\n",
    "- DIS: 7.6\n",
    "- PTRATIO: 17\n",
    "- B: 383\n",
    "- LSTAT: 10.87\n",
    "- RAD: 8\n",
    "- TAX: 284"
   ]
  },
  {
   "cell_type": "markdown",
   "metadata": {},
   "source": [
    "## Summary\n",
    "Congratulations! You've fitted your first multiple linear regression model on the Boston Housing Data."
   ]
  }
 ],
 "metadata": {
  "kernelspec": {
   "display_name": "Python 3",
   "language": "python",
   "name": "python3"
  },
  "language_info": {
   "codemirror_mode": {
    "name": "ipython",
    "version": 3
   },
   "file_extension": ".py",
   "mimetype": "text/x-python",
   "name": "python",
   "nbconvert_exporter": "python",
   "pygments_lexer": "ipython3",
   "version": "3.6.6"
  }
 },
 "nbformat": 4,
 "nbformat_minor": 2
}
