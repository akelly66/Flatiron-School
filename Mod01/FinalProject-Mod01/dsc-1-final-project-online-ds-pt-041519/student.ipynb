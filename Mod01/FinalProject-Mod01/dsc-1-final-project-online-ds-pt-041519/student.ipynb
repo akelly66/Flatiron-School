{
 "cells": [
  {
   "cell_type": "markdown",
   "metadata": {},
   "source": [
    "## Final Project Submission\n",
    "\n",
    "Please fill out:\n",
    "* Student name: Allie Kelly\n",
    "* Student pace: part time\n",
    "* Scheduled project review date/time: \n",
    "* Instructor name: Victor\n",
    "* Blog post URL:\n"
   ]
  },
  {
   "cell_type": "markdown",
   "metadata": {},
   "source": [
    " ## First Step: Import all necessary packages and data"
   ]
  },
  {
   "cell_type": "code",
   "execution_count": 1,
   "metadata": {},
   "outputs": [],
   "source": [
    "import pandas as pd\n",
    "import numpy as np\n",
    "import matplotlib.pyplot as plt\n",
    "import seaborn as sns\n",
    "%matplotlib inline"
   ]
  },
  {
   "cell_type": "code",
   "execution_count": 2,
   "metadata": {
    "scrolled": true
   },
   "outputs": [
    {
     "name": "stdout",
     "output_type": "stream",
     "text": [
      "                 id         price      bedrooms     bathrooms   sqft_living  \\\n",
      "count  2.159700e+04  2.159700e+04  21597.000000  21597.000000  21597.000000   \n",
      "mean   4.580474e+09  5.402966e+05      3.373200      2.115826   2080.321850   \n",
      "std    2.876736e+09  3.673681e+05      0.926299      0.768984    918.106125   \n",
      "min    1.000102e+06  7.800000e+04      1.000000      0.500000    370.000000   \n",
      "25%    2.123049e+09  3.220000e+05      3.000000      1.750000   1430.000000   \n",
      "50%    3.904930e+09  4.500000e+05      3.000000      2.250000   1910.000000   \n",
      "75%    7.308900e+09  6.450000e+05      4.000000      2.500000   2550.000000   \n",
      "max    9.900000e+09  7.700000e+06     33.000000      8.000000  13540.000000   \n",
      "\n",
      "           sqft_lot        floors    waterfront          view     condition  \\\n",
      "count  2.159700e+04  21597.000000  19221.000000  21534.000000  21597.000000   \n",
      "mean   1.509941e+04      1.494096      0.007596      0.233863      3.409825   \n",
      "std    4.141264e+04      0.539683      0.086825      0.765686      0.650546   \n",
      "min    5.200000e+02      1.000000      0.000000      0.000000      1.000000   \n",
      "25%    5.040000e+03      1.000000      0.000000      0.000000      3.000000   \n",
      "50%    7.618000e+03      1.500000      0.000000      0.000000      3.000000   \n",
      "75%    1.068500e+04      2.000000      0.000000      0.000000      4.000000   \n",
      "max    1.651359e+06      3.500000      1.000000      4.000000      5.000000   \n",
      "\n",
      "              grade    sqft_above      yr_built  yr_renovated       zipcode  \\\n",
      "count  21597.000000  21597.000000  21597.000000  17755.000000  21597.000000   \n",
      "mean       7.657915   1788.596842   1970.999676     83.636778  98077.951845   \n",
      "std        1.173200    827.759761     29.375234    399.946414     53.513072   \n",
      "min        3.000000    370.000000   1900.000000      0.000000  98001.000000   \n",
      "25%        7.000000   1190.000000   1951.000000      0.000000  98033.000000   \n",
      "50%        7.000000   1560.000000   1975.000000      0.000000  98065.000000   \n",
      "75%        8.000000   2210.000000   1997.000000      0.000000  98118.000000   \n",
      "max       13.000000   9410.000000   2015.000000   2015.000000  98199.000000   \n",
      "\n",
      "                lat          long  sqft_living15     sqft_lot15  \n",
      "count  21597.000000  21597.000000   21597.000000   21597.000000  \n",
      "mean      47.560093   -122.213982    1986.620318   12758.283512  \n",
      "std        0.138552      0.140724     685.230472   27274.441950  \n",
      "min       47.155900   -122.519000     399.000000     651.000000  \n",
      "25%       47.471100   -122.328000    1490.000000    5100.000000  \n",
      "50%       47.571800   -122.231000    1840.000000    7620.000000  \n",
      "75%       47.678000   -122.125000    2360.000000   10083.000000  \n",
      "max       47.777600   -121.315000    6210.000000  871200.000000  \n",
      "<class 'pandas.core.frame.DataFrame'>\n",
      "RangeIndex: 21597 entries, 0 to 21596\n",
      "Data columns (total 21 columns):\n",
      "id               21597 non-null int64\n",
      "date             21597 non-null object\n",
      "price            21597 non-null float64\n",
      "bedrooms         21597 non-null int64\n",
      "bathrooms        21597 non-null float64\n",
      "sqft_living      21597 non-null int64\n",
      "sqft_lot         21597 non-null int64\n",
      "floors           21597 non-null float64\n",
      "waterfront       19221 non-null float64\n",
      "view             21534 non-null float64\n",
      "condition        21597 non-null int64\n",
      "grade            21597 non-null int64\n",
      "sqft_above       21597 non-null int64\n",
      "sqft_basement    21597 non-null object\n",
      "yr_built         21597 non-null int64\n",
      "yr_renovated     17755 non-null float64\n",
      "zipcode          21597 non-null int64\n",
      "lat              21597 non-null float64\n",
      "long             21597 non-null float64\n",
      "sqft_living15    21597 non-null int64\n",
      "sqft_lot15       21597 non-null int64\n",
      "dtypes: float64(8), int64(11), object(2)\n",
      "memory usage: 3.5+ MB\n",
      "None\n"
     ]
    },
    {
     "data": {
      "text/html": [
       "<div>\n",
       "<style scoped>\n",
       "    .dataframe tbody tr th:only-of-type {\n",
       "        vertical-align: middle;\n",
       "    }\n",
       "\n",
       "    .dataframe tbody tr th {\n",
       "        vertical-align: top;\n",
       "    }\n",
       "\n",
       "    .dataframe thead th {\n",
       "        text-align: right;\n",
       "    }\n",
       "</style>\n",
       "<table border=\"1\" class=\"dataframe\">\n",
       "  <thead>\n",
       "    <tr style=\"text-align: right;\">\n",
       "      <th></th>\n",
       "      <th>id</th>\n",
       "      <th>date</th>\n",
       "      <th>price</th>\n",
       "      <th>bedrooms</th>\n",
       "      <th>bathrooms</th>\n",
       "      <th>sqft_living</th>\n",
       "      <th>sqft_lot</th>\n",
       "      <th>floors</th>\n",
       "      <th>waterfront</th>\n",
       "      <th>view</th>\n",
       "      <th>...</th>\n",
       "      <th>grade</th>\n",
       "      <th>sqft_above</th>\n",
       "      <th>sqft_basement</th>\n",
       "      <th>yr_built</th>\n",
       "      <th>yr_renovated</th>\n",
       "      <th>zipcode</th>\n",
       "      <th>lat</th>\n",
       "      <th>long</th>\n",
       "      <th>sqft_living15</th>\n",
       "      <th>sqft_lot15</th>\n",
       "    </tr>\n",
       "  </thead>\n",
       "  <tbody>\n",
       "    <tr>\n",
       "      <th>0</th>\n",
       "      <td>7129300520</td>\n",
       "      <td>10/13/2014</td>\n",
       "      <td>221900.0</td>\n",
       "      <td>3</td>\n",
       "      <td>1.00</td>\n",
       "      <td>1180</td>\n",
       "      <td>5650</td>\n",
       "      <td>1.0</td>\n",
       "      <td>NaN</td>\n",
       "      <td>0.0</td>\n",
       "      <td>...</td>\n",
       "      <td>7</td>\n",
       "      <td>1180</td>\n",
       "      <td>0.0</td>\n",
       "      <td>1955</td>\n",
       "      <td>0.0</td>\n",
       "      <td>98178</td>\n",
       "      <td>47.5112</td>\n",
       "      <td>-122.257</td>\n",
       "      <td>1340</td>\n",
       "      <td>5650</td>\n",
       "    </tr>\n",
       "    <tr>\n",
       "      <th>1</th>\n",
       "      <td>6414100192</td>\n",
       "      <td>12/9/2014</td>\n",
       "      <td>538000.0</td>\n",
       "      <td>3</td>\n",
       "      <td>2.25</td>\n",
       "      <td>2570</td>\n",
       "      <td>7242</td>\n",
       "      <td>2.0</td>\n",
       "      <td>0.0</td>\n",
       "      <td>0.0</td>\n",
       "      <td>...</td>\n",
       "      <td>7</td>\n",
       "      <td>2170</td>\n",
       "      <td>400.0</td>\n",
       "      <td>1951</td>\n",
       "      <td>1991.0</td>\n",
       "      <td>98125</td>\n",
       "      <td>47.7210</td>\n",
       "      <td>-122.319</td>\n",
       "      <td>1690</td>\n",
       "      <td>7639</td>\n",
       "    </tr>\n",
       "    <tr>\n",
       "      <th>2</th>\n",
       "      <td>5631500400</td>\n",
       "      <td>2/25/2015</td>\n",
       "      <td>180000.0</td>\n",
       "      <td>2</td>\n",
       "      <td>1.00</td>\n",
       "      <td>770</td>\n",
       "      <td>10000</td>\n",
       "      <td>1.0</td>\n",
       "      <td>0.0</td>\n",
       "      <td>0.0</td>\n",
       "      <td>...</td>\n",
       "      <td>6</td>\n",
       "      <td>770</td>\n",
       "      <td>0.0</td>\n",
       "      <td>1933</td>\n",
       "      <td>NaN</td>\n",
       "      <td>98028</td>\n",
       "      <td>47.7379</td>\n",
       "      <td>-122.233</td>\n",
       "      <td>2720</td>\n",
       "      <td>8062</td>\n",
       "    </tr>\n",
       "    <tr>\n",
       "      <th>3</th>\n",
       "      <td>2487200875</td>\n",
       "      <td>12/9/2014</td>\n",
       "      <td>604000.0</td>\n",
       "      <td>4</td>\n",
       "      <td>3.00</td>\n",
       "      <td>1960</td>\n",
       "      <td>5000</td>\n",
       "      <td>1.0</td>\n",
       "      <td>0.0</td>\n",
       "      <td>0.0</td>\n",
       "      <td>...</td>\n",
       "      <td>7</td>\n",
       "      <td>1050</td>\n",
       "      <td>910.0</td>\n",
       "      <td>1965</td>\n",
       "      <td>0.0</td>\n",
       "      <td>98136</td>\n",
       "      <td>47.5208</td>\n",
       "      <td>-122.393</td>\n",
       "      <td>1360</td>\n",
       "      <td>5000</td>\n",
       "    </tr>\n",
       "    <tr>\n",
       "      <th>4</th>\n",
       "      <td>1954400510</td>\n",
       "      <td>2/18/2015</td>\n",
       "      <td>510000.0</td>\n",
       "      <td>3</td>\n",
       "      <td>2.00</td>\n",
       "      <td>1680</td>\n",
       "      <td>8080</td>\n",
       "      <td>1.0</td>\n",
       "      <td>0.0</td>\n",
       "      <td>0.0</td>\n",
       "      <td>...</td>\n",
       "      <td>8</td>\n",
       "      <td>1680</td>\n",
       "      <td>0.0</td>\n",
       "      <td>1987</td>\n",
       "      <td>0.0</td>\n",
       "      <td>98074</td>\n",
       "      <td>47.6168</td>\n",
       "      <td>-122.045</td>\n",
       "      <td>1800</td>\n",
       "      <td>7503</td>\n",
       "    </tr>\n",
       "  </tbody>\n",
       "</table>\n",
       "<p>5 rows × 21 columns</p>\n",
       "</div>"
      ],
      "text/plain": [
       "           id        date     price  bedrooms  bathrooms  sqft_living  \\\n",
       "0  7129300520  10/13/2014  221900.0         3       1.00         1180   \n",
       "1  6414100192   12/9/2014  538000.0         3       2.25         2570   \n",
       "2  5631500400   2/25/2015  180000.0         2       1.00          770   \n",
       "3  2487200875   12/9/2014  604000.0         4       3.00         1960   \n",
       "4  1954400510   2/18/2015  510000.0         3       2.00         1680   \n",
       "\n",
       "   sqft_lot  floors  waterfront  view  ...  grade  sqft_above  sqft_basement  \\\n",
       "0      5650     1.0         NaN   0.0  ...      7        1180            0.0   \n",
       "1      7242     2.0         0.0   0.0  ...      7        2170          400.0   \n",
       "2     10000     1.0         0.0   0.0  ...      6         770            0.0   \n",
       "3      5000     1.0         0.0   0.0  ...      7        1050          910.0   \n",
       "4      8080     1.0         0.0   0.0  ...      8        1680            0.0   \n",
       "\n",
       "  yr_built  yr_renovated  zipcode      lat     long  sqft_living15  sqft_lot15  \n",
       "0     1955           0.0    98178  47.5112 -122.257           1340        5650  \n",
       "1     1951        1991.0    98125  47.7210 -122.319           1690        7639  \n",
       "2     1933           NaN    98028  47.7379 -122.233           2720        8062  \n",
       "3     1965           0.0    98136  47.5208 -122.393           1360        5000  \n",
       "4     1987           0.0    98074  47.6168 -122.045           1800        7503  \n",
       "\n",
       "[5 rows x 21 columns]"
      ]
     },
     "execution_count": 2,
     "metadata": {},
     "output_type": "execute_result"
    }
   ],
   "source": [
    "df = pd.read_csv('kc_house_data.csv')\n",
    "print(df.describe())\n",
    "print(df.info())\n",
    "df.head()"
   ]
  },
  {
   "cell_type": "code",
   "execution_count": 3,
   "metadata": {},
   "outputs": [
    {
     "data": {
      "image/png": "[encoded data removed]",
      "text/plain": [
       "<Figure size 864x936 with 20 Axes>"
      ]
     },
     "metadata": {
      "needs_background": "light"
     },
     "output_type": "display_data"
    }
   ],
   "source": [
    "df.hist(figsize=(12,13)); #Get histograms to explore distributions of variables"
   ]
  },
  {
   "cell_type": "markdown",
   "metadata": {},
   "source": [
    "## Preliminary Investigation\n",
    "### Data Types\n",
    "\n",
    "A few things stuck out to me first, namely that the bedroom max value is 33, which is almost an unbelieveable number and may have been intended to be just 3. When I clean the data, I may substitute for the mean/mode value to mitigate any disruption due to such an extreme outlier. \n",
    "\n",
    "I also noticed that the basement square-footage values are strings instead of floats, which will need to be changed. \n",
    "\n",
    "Year renovated, View, and Waterfront all have null values in them which will need to be investigated. \n",
    "\n",
    "Also, the zipcode series is an integer, but should be a string as zipcodes are immutable and should not be dealt with as a number, barring any rezoning which isn't a concern for this process. Changing the datatype may not be necessary for this project though. \n",
    "\n",
    "All categorical series are integers/floats, which will need to be changed to strings and one-hot encoded.\n",
    "\n",
    "### Histograms\n",
    "\n",
    "You can see most of the variables are categorical variables such as waterfront, view, year renovated, floors, condition, bathrooms and bedrooms. Grade looks continuous, though it's an integer so it's unlikely. Variables that indicate square footage seem to follow a normalized pattern. "
   ]
  },
  {
   "cell_type": "markdown",
   "metadata": {},
   "source": [
    "## Second Step: Scrub the Data\n",
    "\n",
    "\n",
    "### Dealing with NaNs"
   ]
  },
  {
   "cell_type": "code",
   "execution_count": 4,
   "metadata": {},
   "outputs": [],
   "source": [
    "df.sqft_basement = df.sqft_basement.replace('?', '0.0') #Replacing ? with the most common value"
   ]
  },
  {
   "cell_type": "code",
   "execution_count": 5,
   "metadata": {},
   "outputs": [],
   "source": [
    "df.waterfront.fillna(0.0, inplace=True) #Less than 1% of the properties were on the water, so I replaced the NaNs with 0.0."
   ]
  },
  {
   "cell_type": "code",
   "execution_count": 6,
   "metadata": {
    "scrolled": true
   },
   "outputs": [
    {
     "data": {
      "text/plain": [
       "0.0       17011\n",
       "NaN        3842\n",
       "2014.0       73\n",
       "2003.0       31\n",
       "2013.0       31\n",
       "2007.0       30\n",
       "2005.0       29\n",
       "2000.0       29\n",
       "1990.0       22\n",
       "2004.0       22\n",
       "2009.0       21\n",
       "1989.0       20\n",
       "2006.0       20\n",
       "2002.0       17\n",
       "1991.0       16\n",
       "1998.0       16\n",
       "1984.0       16\n",
       "1999.0       15\n",
       "2001.0       15\n",
       "2008.0       15\n",
       "2010.0       15\n",
       "1983.0       15\n",
       "2015.0       14\n",
       "1986.0       14\n",
       "1987.0       14\n",
       "1994.0       14\n",
       "1985.0       14\n",
       "1992.0       13\n",
       "1995.0       12\n",
       "1997.0       12\n",
       "          ...  \n",
       "1964.0        5\n",
       "1975.0        5\n",
       "1973.0        4\n",
       "1981.0        4\n",
       "1963.0        4\n",
       "1969.0        4\n",
       "1965.0        4\n",
       "1972.0        3\n",
       "1956.0        3\n",
       "1945.0        3\n",
       "1960.0        3\n",
       "1978.0        3\n",
       "1958.0        3\n",
       "1955.0        3\n",
       "1974.0        2\n",
       "1962.0        2\n",
       "1967.0        2\n",
       "1940.0        2\n",
       "1957.0        2\n",
       "1946.0        1\n",
       "1959.0        1\n",
       "1951.0        1\n",
       "1954.0        1\n",
       "1950.0        1\n",
       "1971.0        1\n",
       "1944.0        1\n",
       "1948.0        1\n",
       "1976.0        1\n",
       "1934.0        1\n",
       "1953.0        1\n",
       "Name: yr_renovated, Length: 71, dtype: int64"
      ]
     },
     "execution_count": 6,
     "metadata": {},
     "output_type": "execute_result"
    }
   ],
   "source": [
    "df.yr_renovated.value_counts(dropna=False) #It looks as if 0 indicates that it's never been renovated."
   ]
  },
  {
   "cell_type": "code",
   "execution_count": 7,
   "metadata": {},
   "outputs": [
    {
     "data": {
      "text/plain": [
       "<matplotlib.collections.PathCollection at 0x17dba0d0588>"
      ]
     },
     "execution_count": 7,
     "metadata": {},
     "output_type": "execute_result"
    },
    {
     "data": {
      "image/png": "[encoded data removed]",
      "text/plain": [
       "<Figure size 432x288 with 1 Axes>"
      ]
     },
     "metadata": {
      "needs_background": "light"
     },
     "output_type": "display_data"
    }
   ],
   "source": [
    "plt.scatter(df.yr_renovated, df.price)"
   ]
  },
  {
   "cell_type": "code",
   "execution_count": 8,
   "metadata": {},
   "outputs": [],
   "source": [
    "yes_ren = df.loc[df.yr_renovated > 0.0]\n"
   ]
  },
  {
   "cell_type": "code",
   "execution_count": 9,
   "metadata": {
    "scrolled": true
   },
   "outputs": [
    {
     "data": {
      "text/plain": [
       "<matplotlib.collections.PathCollection at 0x17dba11dc18>"
      ]
     },
     "execution_count": 9,
     "metadata": {},
     "output_type": "execute_result"
    },
    {
     "data": {
      "image/png": "[encoded data removed]",
      "text/plain": [
       "<Figure size 432x288 with 1 Axes>"
      ]
     },
     "metadata": {
      "needs_background": "light"
     },
     "output_type": "display_data"
    }
   ],
   "source": [
    "plt.scatter(yes_ren.yr_renovated, yes_ren.price) "
   ]
  },
  {
   "cell_type": "code",
   "execution_count": 10,
   "metadata": {
    "scrolled": true
   },
   "outputs": [],
   "source": [
    "df = df.drop(\"yr_renovated\", axis=1)"
   ]
  },
  {
   "cell_type": "markdown",
   "metadata": {},
   "source": [
    "It looks like there is a general trend towards higher priced homes having been more recently renovated, the vast majority of all the homes that have been renovated are still 200000 or less, so I'm going to drop this column. "
   ]
  },
  {
   "cell_type": "code",
   "execution_count": 11,
   "metadata": {
    "scrolled": false
   },
   "outputs": [
    {
     "data": {
      "text/plain": [
       "0.0    19422\n",
       "2.0      957\n",
       "3.0      508\n",
       "1.0      330\n",
       "4.0      317\n",
       "NaN       63\n",
       "Name: view, dtype: int64"
      ]
     },
     "execution_count": 11,
     "metadata": {},
     "output_type": "execute_result"
    }
   ],
   "source": [
    "df.view.value_counts(dropna=False) "
   ]
  },
  {
   "cell_type": "code",
   "execution_count": 12,
   "metadata": {
    "scrolled": true
   },
   "outputs": [],
   "source": [
    "df.view.fillna(0.0, inplace=True)\n"
   ]
  },
  {
   "cell_type": "markdown",
   "metadata": {},
   "source": [
    "### Multicollinearity Check"
   ]
  },
  {
   "cell_type": "code",
   "execution_count": 13,
   "metadata": {
    "scrolled": true
   },
   "outputs": [
    {
     "data": {
      "image/png": "[encoded data removed]",
      "text/plain": [
       "<Figure size 792x648 with 2 Axes>"
      ]
     },
     "metadata": {
      "needs_background": "light"
     },
     "output_type": "display_data"
    }
   ],
   "source": [
    "corr = df.corr()\n",
    "mask = np.zeros_like(corr, dtype=np.bool)\n",
    "mask[np.triu_indices_from(mask)] = True\n",
    "f, ax = plt.subplots(figsize=(11, 9))\n",
    "cmap = sns.diverging_palette(220, 10, as_cmap=True)\n",
    "sns.heatmap(corr, mask=mask, cmap=cmap, vmax=.3, center=0,\n",
    "            square=True, linewidths=.5, cbar_kws={\"shrink\": .5}) #Correlation heatmap\n",
    "plt.show()"
   ]
  },
  {
   "cell_type": "code",
   "execution_count": 14,
   "metadata": {},
   "outputs": [],
   "source": [
    "target = df.iloc[:,2] #Creating separate dataframe for the target variable, housing price"
   ]
  },
  {
   "cell_type": "code",
   "execution_count": 15,
   "metadata": {
    "scrolled": false
   },
   "outputs": [
    {
     "data": {
      "text/html": [
       "<div>\n",
       "<style scoped>\n",
       "    .dataframe tbody tr th:only-of-type {\n",
       "        vertical-align: middle;\n",
       "    }\n",
       "\n",
       "    .dataframe tbody tr th {\n",
       "        vertical-align: top;\n",
       "    }\n",
       "\n",
       "    .dataframe thead th {\n",
       "        text-align: right;\n",
       "    }\n",
       "</style>\n",
       "<table border=\"1\" class=\"dataframe\">\n",
       "  <thead>\n",
       "    <tr style=\"text-align: right;\">\n",
       "      <th></th>\n",
       "      <th>price</th>\n",
       "    </tr>\n",
       "  </thead>\n",
       "  <tbody>\n",
       "    <tr>\n",
       "      <th>0</th>\n",
       "      <td>221900.0</td>\n",
       "    </tr>\n",
       "    <tr>\n",
       "      <th>1</th>\n",
       "      <td>538000.0</td>\n",
       "    </tr>\n",
       "    <tr>\n",
       "      <th>2</th>\n",
       "      <td>180000.0</td>\n",
       "    </tr>\n",
       "    <tr>\n",
       "      <th>3</th>\n",
       "      <td>604000.0</td>\n",
       "    </tr>\n",
       "    <tr>\n",
       "      <th>4</th>\n",
       "      <td>510000.0</td>\n",
       "    </tr>\n",
       "    <tr>\n",
       "      <th>5</th>\n",
       "      <td>1230000.0</td>\n",
       "    </tr>\n",
       "    <tr>\n",
       "      <th>6</th>\n",
       "      <td>257500.0</td>\n",
       "    </tr>\n",
       "    <tr>\n",
       "      <th>7</th>\n",
       "      <td>291850.0</td>\n",
       "    </tr>\n",
       "    <tr>\n",
       "      <th>8</th>\n",
       "      <td>229500.0</td>\n",
       "    </tr>\n",
       "    <tr>\n",
       "      <th>9</th>\n",
       "      <td>323000.0</td>\n",
       "    </tr>\n",
       "    <tr>\n",
       "      <th>10</th>\n",
       "      <td>662500.0</td>\n",
       "    </tr>\n",
       "    <tr>\n",
       "      <th>11</th>\n",
       "      <td>468000.0</td>\n",
       "    </tr>\n",
       "    <tr>\n",
       "      <th>12</th>\n",
       "      <td>310000.0</td>\n",
       "    </tr>\n",
       "    <tr>\n",
       "      <th>13</th>\n",
       "      <td>400000.0</td>\n",
       "    </tr>\n",
       "    <tr>\n",
       "      <th>14</th>\n",
       "      <td>530000.0</td>\n",
       "    </tr>\n",
       "    <tr>\n",
       "      <th>15</th>\n",
       "      <td>650000.0</td>\n",
       "    </tr>\n",
       "    <tr>\n",
       "      <th>16</th>\n",
       "      <td>395000.0</td>\n",
       "    </tr>\n",
       "    <tr>\n",
       "      <th>17</th>\n",
       "      <td>485000.0</td>\n",
       "    </tr>\n",
       "    <tr>\n",
       "      <th>18</th>\n",
       "      <td>189000.0</td>\n",
       "    </tr>\n",
       "    <tr>\n",
       "      <th>19</th>\n",
       "      <td>230000.0</td>\n",
       "    </tr>\n",
       "    <tr>\n",
       "      <th>20</th>\n",
       "      <td>385000.0</td>\n",
       "    </tr>\n",
       "    <tr>\n",
       "      <th>21</th>\n",
       "      <td>2000000.0</td>\n",
       "    </tr>\n",
       "    <tr>\n",
       "      <th>22</th>\n",
       "      <td>285000.0</td>\n",
       "    </tr>\n",
       "    <tr>\n",
       "      <th>23</th>\n",
       "      <td>252700.0</td>\n",
       "    </tr>\n",
       "    <tr>\n",
       "      <th>24</th>\n",
       "      <td>329000.0</td>\n",
       "    </tr>\n",
       "    <tr>\n",
       "      <th>25</th>\n",
       "      <td>233000.0</td>\n",
       "    </tr>\n",
       "    <tr>\n",
       "      <th>26</th>\n",
       "      <td>937000.0</td>\n",
       "    </tr>\n",
       "    <tr>\n",
       "      <th>27</th>\n",
       "      <td>667000.0</td>\n",
       "    </tr>\n",
       "    <tr>\n",
       "      <th>28</th>\n",
       "      <td>438000.0</td>\n",
       "    </tr>\n",
       "    <tr>\n",
       "      <th>29</th>\n",
       "      <td>719000.0</td>\n",
       "    </tr>\n",
       "    <tr>\n",
       "      <th>...</th>\n",
       "      <td>...</td>\n",
       "    </tr>\n",
       "    <tr>\n",
       "      <th>21567</th>\n",
       "      <td>399950.0</td>\n",
       "    </tr>\n",
       "    <tr>\n",
       "      <th>21568</th>\n",
       "      <td>380000.0</td>\n",
       "    </tr>\n",
       "    <tr>\n",
       "      <th>21569</th>\n",
       "      <td>270000.0</td>\n",
       "    </tr>\n",
       "    <tr>\n",
       "      <th>21570</th>\n",
       "      <td>505000.0</td>\n",
       "    </tr>\n",
       "    <tr>\n",
       "      <th>21571</th>\n",
       "      <td>385000.0</td>\n",
       "    </tr>\n",
       "    <tr>\n",
       "      <th>21572</th>\n",
       "      <td>414500.0</td>\n",
       "    </tr>\n",
       "    <tr>\n",
       "      <th>21573</th>\n",
       "      <td>347500.0</td>\n",
       "    </tr>\n",
       "    <tr>\n",
       "      <th>21574</th>\n",
       "      <td>1220000.0</td>\n",
       "    </tr>\n",
       "    <tr>\n",
       "      <th>21575</th>\n",
       "      <td>572000.0</td>\n",
       "    </tr>\n",
       "    <tr>\n",
       "      <th>21576</th>\n",
       "      <td>475000.0</td>\n",
       "    </tr>\n",
       "    <tr>\n",
       "      <th>21577</th>\n",
       "      <td>1090000.0</td>\n",
       "    </tr>\n",
       "    <tr>\n",
       "      <th>21578</th>\n",
       "      <td>350000.0</td>\n",
       "    </tr>\n",
       "    <tr>\n",
       "      <th>21579</th>\n",
       "      <td>520000.0</td>\n",
       "    </tr>\n",
       "    <tr>\n",
       "      <th>21580</th>\n",
       "      <td>679950.0</td>\n",
       "    </tr>\n",
       "    <tr>\n",
       "      <th>21581</th>\n",
       "      <td>1580000.0</td>\n",
       "    </tr>\n",
       "    <tr>\n",
       "      <th>21582</th>\n",
       "      <td>541800.0</td>\n",
       "    </tr>\n",
       "    <tr>\n",
       "      <th>21583</th>\n",
       "      <td>810000.0</td>\n",
       "    </tr>\n",
       "    <tr>\n",
       "      <th>21584</th>\n",
       "      <td>1540000.0</td>\n",
       "    </tr>\n",
       "    <tr>\n",
       "      <th>21585</th>\n",
       "      <td>467000.0</td>\n",
       "    </tr>\n",
       "    <tr>\n",
       "      <th>21586</th>\n",
       "      <td>224000.0</td>\n",
       "    </tr>\n",
       "    <tr>\n",
       "      <th>21587</th>\n",
       "      <td>507250.0</td>\n",
       "    </tr>\n",
       "    <tr>\n",
       "      <th>21588</th>\n",
       "      <td>429000.0</td>\n",
       "    </tr>\n",
       "    <tr>\n",
       "      <th>21589</th>\n",
       "      <td>610685.0</td>\n",
       "    </tr>\n",
       "    <tr>\n",
       "      <th>21590</th>\n",
       "      <td>1010000.0</td>\n",
       "    </tr>\n",
       "    <tr>\n",
       "      <th>21591</th>\n",
       "      <td>475000.0</td>\n",
       "    </tr>\n",
       "    <tr>\n",
       "      <th>21592</th>\n",
       "      <td>360000.0</td>\n",
       "    </tr>\n",
       "    <tr>\n",
       "      <th>21593</th>\n",
       "      <td>400000.0</td>\n",
       "    </tr>\n",
       "    <tr>\n",
       "      <th>21594</th>\n",
       "      <td>402101.0</td>\n",
       "    </tr>\n",
       "    <tr>\n",
       "      <th>21595</th>\n",
       "      <td>400000.0</td>\n",
       "    </tr>\n",
       "    <tr>\n",
       "      <th>21596</th>\n",
       "      <td>325000.0</td>\n",
       "    </tr>\n",
       "  </tbody>\n",
       "</table>\n",
       "<p>21597 rows × 1 columns</p>\n",
       "</div>"
      ],
      "text/plain": [
       "           price\n",
       "0       221900.0\n",
       "1       538000.0\n",
       "2       180000.0\n",
       "3       604000.0\n",
       "4       510000.0\n",
       "5      1230000.0\n",
       "6       257500.0\n",
       "7       291850.0\n",
       "8       229500.0\n",
       "9       323000.0\n",
       "10      662500.0\n",
       "11      468000.0\n",
       "12      310000.0\n",
       "13      400000.0\n",
       "14      530000.0\n",
       "15      650000.0\n",
       "16      395000.0\n",
       "17      485000.0\n",
       "18      189000.0\n",
       "19      230000.0\n",
       "20      385000.0\n",
       "21     2000000.0\n",
       "22      285000.0\n",
       "23      252700.0\n",
       "24      329000.0\n",
       "25      233000.0\n",
       "26      937000.0\n",
       "27      667000.0\n",
       "28      438000.0\n",
       "29      719000.0\n",
       "...          ...\n",
       "21567   399950.0\n",
       "21568   380000.0\n",
       "21569   270000.0\n",
       "21570   505000.0\n",
       "21571   385000.0\n",
       "21572   414500.0\n",
       "21573   347500.0\n",
       "21574  1220000.0\n",
       "21575   572000.0\n",
       "21576   475000.0\n",
       "21577  1090000.0\n",
       "21578   350000.0\n",
       "21579   520000.0\n",
       "21580   679950.0\n",
       "21581  1580000.0\n",
       "21582   541800.0\n",
       "21583   810000.0\n",
       "21584  1540000.0\n",
       "21585   467000.0\n",
       "21586   224000.0\n",
       "21587   507250.0\n",
       "21588   429000.0\n",
       "21589   610685.0\n",
       "21590  1010000.0\n",
       "21591   475000.0\n",
       "21592   360000.0\n",
       "21593   400000.0\n",
       "21594   402101.0\n",
       "21595   400000.0\n",
       "21596   325000.0\n",
       "\n",
       "[21597 rows x 1 columns]"
      ]
     },
     "execution_count": 15,
     "metadata": {},
     "output_type": "execute_result"
    }
   ],
   "source": [
    "pd.DataFrame(target)"
   ]
  },
  {
   "cell_type": "code",
   "execution_count": 16,
   "metadata": {},
   "outputs": [],
   "source": [
    "features = df.drop(['price','id'], axis=1) #Dropping target variable and unusable ID column"
   ]
  },
  {
   "cell_type": "code",
   "execution_count": 17,
   "metadata": {
    "scrolled": true
   },
   "outputs": [
    {
     "data": {
      "text/html": [
       "<div>\n",
       "<style scoped>\n",
       "    .dataframe tbody tr th:only-of-type {\n",
       "        vertical-align: middle;\n",
       "    }\n",
       "\n",
       "    .dataframe tbody tr th {\n",
       "        vertical-align: top;\n",
       "    }\n",
       "\n",
       "    .dataframe thead th {\n",
       "        text-align: right;\n",
       "    }\n",
       "</style>\n",
       "<table border=\"1\" class=\"dataframe\">\n",
       "  <thead>\n",
       "    <tr style=\"text-align: right;\">\n",
       "      <th></th>\n",
       "      <th>bedrooms</th>\n",
       "      <th>bathrooms</th>\n",
       "      <th>sqft_living</th>\n",
       "      <th>sqft_lot</th>\n",
       "      <th>floors</th>\n",
       "      <th>waterfront</th>\n",
       "      <th>view</th>\n",
       "      <th>condition</th>\n",
       "      <th>grade</th>\n",
       "      <th>sqft_above</th>\n",
       "      <th>yr_built</th>\n",
       "      <th>zipcode</th>\n",
       "      <th>lat</th>\n",
       "      <th>long</th>\n",
       "      <th>sqft_living15</th>\n",
       "      <th>sqft_lot15</th>\n",
       "    </tr>\n",
       "  </thead>\n",
       "  <tbody>\n",
       "    <tr>\n",
       "      <th>bedrooms</th>\n",
       "      <td>1.000000</td>\n",
       "      <td>0.514508</td>\n",
       "      <td>0.578212</td>\n",
       "      <td>0.032471</td>\n",
       "      <td>0.177944</td>\n",
       "      <td>-0.002127</td>\n",
       "      <td>0.078354</td>\n",
       "      <td>0.026496</td>\n",
       "      <td>0.356563</td>\n",
       "      <td>0.479386</td>\n",
       "      <td>0.155670</td>\n",
       "      <td>-0.154092</td>\n",
       "      <td>-0.009951</td>\n",
       "      <td>0.132054</td>\n",
       "      <td>0.393406</td>\n",
       "      <td>0.030690</td>\n",
       "    </tr>\n",
       "    <tr>\n",
       "      <th>bathrooms</th>\n",
       "      <td>0.514508</td>\n",
       "      <td>1.000000</td>\n",
       "      <td>0.755758</td>\n",
       "      <td>0.088373</td>\n",
       "      <td>0.502582</td>\n",
       "      <td>0.063629</td>\n",
       "      <td>0.186016</td>\n",
       "      <td>-0.126479</td>\n",
       "      <td>0.665838</td>\n",
       "      <td>0.686668</td>\n",
       "      <td>0.507173</td>\n",
       "      <td>-0.204786</td>\n",
       "      <td>0.024280</td>\n",
       "      <td>0.224903</td>\n",
       "      <td>0.569884</td>\n",
       "      <td>0.088303</td>\n",
       "    </tr>\n",
       "    <tr>\n",
       "      <th>sqft_living</th>\n",
       "      <td>0.578212</td>\n",
       "      <td>0.755758</td>\n",
       "      <td>1.000000</td>\n",
       "      <td>0.173453</td>\n",
       "      <td>0.353953</td>\n",
       "      <td>0.104637</td>\n",
       "      <td>0.281715</td>\n",
       "      <td>-0.059445</td>\n",
       "      <td>0.762779</td>\n",
       "      <td>0.876448</td>\n",
       "      <td>0.318152</td>\n",
       "      <td>-0.199802</td>\n",
       "      <td>0.052155</td>\n",
       "      <td>0.241214</td>\n",
       "      <td>0.756402</td>\n",
       "      <td>0.184342</td>\n",
       "    </tr>\n",
       "    <tr>\n",
       "      <th>sqft_lot</th>\n",
       "      <td>0.032471</td>\n",
       "      <td>0.088373</td>\n",
       "      <td>0.173453</td>\n",
       "      <td>1.000000</td>\n",
       "      <td>-0.004814</td>\n",
       "      <td>0.021459</td>\n",
       "      <td>0.075054</td>\n",
       "      <td>-0.008830</td>\n",
       "      <td>0.114731</td>\n",
       "      <td>0.184139</td>\n",
       "      <td>0.052946</td>\n",
       "      <td>-0.129586</td>\n",
       "      <td>-0.085514</td>\n",
       "      <td>0.230227</td>\n",
       "      <td>0.144763</td>\n",
       "      <td>0.718204</td>\n",
       "    </tr>\n",
       "    <tr>\n",
       "      <th>floors</th>\n",
       "      <td>0.177944</td>\n",
       "      <td>0.502582</td>\n",
       "      <td>0.353953</td>\n",
       "      <td>-0.004814</td>\n",
       "      <td>1.000000</td>\n",
       "      <td>0.020797</td>\n",
       "      <td>0.028414</td>\n",
       "      <td>-0.264075</td>\n",
       "      <td>0.458794</td>\n",
       "      <td>0.523989</td>\n",
       "      <td>0.489193</td>\n",
       "      <td>-0.059541</td>\n",
       "      <td>0.049239</td>\n",
       "      <td>0.125943</td>\n",
       "      <td>0.280102</td>\n",
       "      <td>-0.010722</td>\n",
       "    </tr>\n",
       "    <tr>\n",
       "      <th>waterfront</th>\n",
       "      <td>-0.002127</td>\n",
       "      <td>0.063629</td>\n",
       "      <td>0.104637</td>\n",
       "      <td>0.021459</td>\n",
       "      <td>0.020797</td>\n",
       "      <td>1.000000</td>\n",
       "      <td>0.380543</td>\n",
       "      <td>0.016648</td>\n",
       "      <td>0.082818</td>\n",
       "      <td>0.071778</td>\n",
       "      <td>-0.024487</td>\n",
       "      <td>0.028923</td>\n",
       "      <td>-0.012157</td>\n",
       "      <td>-0.037628</td>\n",
       "      <td>0.083823</td>\n",
       "      <td>0.030658</td>\n",
       "    </tr>\n",
       "    <tr>\n",
       "      <th>view</th>\n",
       "      <td>0.078354</td>\n",
       "      <td>0.186016</td>\n",
       "      <td>0.281715</td>\n",
       "      <td>0.075054</td>\n",
       "      <td>0.028414</td>\n",
       "      <td>0.380543</td>\n",
       "      <td>1.000000</td>\n",
       "      <td>0.045622</td>\n",
       "      <td>0.249082</td>\n",
       "      <td>0.166017</td>\n",
       "      <td>-0.054452</td>\n",
       "      <td>0.085059</td>\n",
       "      <td>0.006321</td>\n",
       "      <td>-0.077702</td>\n",
       "      <td>0.278928</td>\n",
       "      <td>0.073083</td>\n",
       "    </tr>\n",
       "    <tr>\n",
       "      <th>condition</th>\n",
       "      <td>0.026496</td>\n",
       "      <td>-0.126479</td>\n",
       "      <td>-0.059445</td>\n",
       "      <td>-0.008830</td>\n",
       "      <td>-0.264075</td>\n",
       "      <td>0.016648</td>\n",
       "      <td>0.045622</td>\n",
       "      <td>1.000000</td>\n",
       "      <td>-0.146896</td>\n",
       "      <td>-0.158904</td>\n",
       "      <td>-0.361592</td>\n",
       "      <td>0.002888</td>\n",
       "      <td>-0.015102</td>\n",
       "      <td>-0.105877</td>\n",
       "      <td>-0.093072</td>\n",
       "      <td>-0.003126</td>\n",
       "    </tr>\n",
       "    <tr>\n",
       "      <th>grade</th>\n",
       "      <td>0.356563</td>\n",
       "      <td>0.665838</td>\n",
       "      <td>0.762779</td>\n",
       "      <td>0.114731</td>\n",
       "      <td>0.458794</td>\n",
       "      <td>0.082818</td>\n",
       "      <td>0.249082</td>\n",
       "      <td>-0.146896</td>\n",
       "      <td>1.000000</td>\n",
       "      <td>0.756073</td>\n",
       "      <td>0.447865</td>\n",
       "      <td>-0.185771</td>\n",
       "      <td>0.113575</td>\n",
       "      <td>0.200341</td>\n",
       "      <td>0.713867</td>\n",
       "      <td>0.120981</td>\n",
       "    </tr>\n",
       "    <tr>\n",
       "      <th>sqft_above</th>\n",
       "      <td>0.479386</td>\n",
       "      <td>0.686668</td>\n",
       "      <td>0.876448</td>\n",
       "      <td>0.184139</td>\n",
       "      <td>0.523989</td>\n",
       "      <td>0.071778</td>\n",
       "      <td>0.166017</td>\n",
       "      <td>-0.158904</td>\n",
       "      <td>0.756073</td>\n",
       "      <td>1.000000</td>\n",
       "      <td>0.424037</td>\n",
       "      <td>-0.261570</td>\n",
       "      <td>-0.001199</td>\n",
       "      <td>0.344842</td>\n",
       "      <td>0.731767</td>\n",
       "      <td>0.195077</td>\n",
       "    </tr>\n",
       "    <tr>\n",
       "      <th>yr_built</th>\n",
       "      <td>0.155670</td>\n",
       "      <td>0.507173</td>\n",
       "      <td>0.318152</td>\n",
       "      <td>0.052946</td>\n",
       "      <td>0.489193</td>\n",
       "      <td>-0.024487</td>\n",
       "      <td>-0.054452</td>\n",
       "      <td>-0.361592</td>\n",
       "      <td>0.447865</td>\n",
       "      <td>0.424037</td>\n",
       "      <td>1.000000</td>\n",
       "      <td>-0.347210</td>\n",
       "      <td>-0.148370</td>\n",
       "      <td>0.409993</td>\n",
       "      <td>0.326377</td>\n",
       "      <td>0.070777</td>\n",
       "    </tr>\n",
       "    <tr>\n",
       "      <th>zipcode</th>\n",
       "      <td>-0.154092</td>\n",
       "      <td>-0.204786</td>\n",
       "      <td>-0.199802</td>\n",
       "      <td>-0.129586</td>\n",
       "      <td>-0.059541</td>\n",
       "      <td>0.028923</td>\n",
       "      <td>0.085059</td>\n",
       "      <td>0.002888</td>\n",
       "      <td>-0.185771</td>\n",
       "      <td>-0.261570</td>\n",
       "      <td>-0.347210</td>\n",
       "      <td>1.000000</td>\n",
       "      <td>0.266742</td>\n",
       "      <td>-0.564259</td>\n",
       "      <td>-0.279299</td>\n",
       "      <td>-0.147294</td>\n",
       "    </tr>\n",
       "    <tr>\n",
       "      <th>lat</th>\n",
       "      <td>-0.009951</td>\n",
       "      <td>0.024280</td>\n",
       "      <td>0.052155</td>\n",
       "      <td>-0.085514</td>\n",
       "      <td>0.049239</td>\n",
       "      <td>-0.012157</td>\n",
       "      <td>0.006321</td>\n",
       "      <td>-0.015102</td>\n",
       "      <td>0.113575</td>\n",
       "      <td>-0.001199</td>\n",
       "      <td>-0.148370</td>\n",
       "      <td>0.266742</td>\n",
       "      <td>1.000000</td>\n",
       "      <td>-0.135371</td>\n",
       "      <td>0.048679</td>\n",
       "      <td>-0.086139</td>\n",
       "    </tr>\n",
       "    <tr>\n",
       "      <th>long</th>\n",
       "      <td>0.132054</td>\n",
       "      <td>0.224903</td>\n",
       "      <td>0.241214</td>\n",
       "      <td>0.230227</td>\n",
       "      <td>0.125943</td>\n",
       "      <td>-0.037628</td>\n",
       "      <td>-0.077702</td>\n",
       "      <td>-0.105877</td>\n",
       "      <td>0.200341</td>\n",
       "      <td>0.344842</td>\n",
       "      <td>0.409993</td>\n",
       "      <td>-0.564259</td>\n",
       "      <td>-0.135371</td>\n",
       "      <td>1.000000</td>\n",
       "      <td>0.335626</td>\n",
       "      <td>0.255586</td>\n",
       "    </tr>\n",
       "    <tr>\n",
       "      <th>sqft_living15</th>\n",
       "      <td>0.393406</td>\n",
       "      <td>0.569884</td>\n",
       "      <td>0.756402</td>\n",
       "      <td>0.144763</td>\n",
       "      <td>0.280102</td>\n",
       "      <td>0.083823</td>\n",
       "      <td>0.278928</td>\n",
       "      <td>-0.093072</td>\n",
       "      <td>0.713867</td>\n",
       "      <td>0.731767</td>\n",
       "      <td>0.326377</td>\n",
       "      <td>-0.279299</td>\n",
       "      <td>0.048679</td>\n",
       "      <td>0.335626</td>\n",
       "      <td>1.000000</td>\n",
       "      <td>0.183515</td>\n",
       "    </tr>\n",
       "    <tr>\n",
       "      <th>sqft_lot15</th>\n",
       "      <td>0.030690</td>\n",
       "      <td>0.088303</td>\n",
       "      <td>0.184342</td>\n",
       "      <td>0.718204</td>\n",
       "      <td>-0.010722</td>\n",
       "      <td>0.030658</td>\n",
       "      <td>0.073083</td>\n",
       "      <td>-0.003126</td>\n",
       "      <td>0.120981</td>\n",
       "      <td>0.195077</td>\n",
       "      <td>0.070777</td>\n",
       "      <td>-0.147294</td>\n",
       "      <td>-0.086139</td>\n",
       "      <td>0.255586</td>\n",
       "      <td>0.183515</td>\n",
       "      <td>1.000000</td>\n",
       "    </tr>\n",
       "  </tbody>\n",
       "</table>\n",
       "</div>"
      ],
      "text/plain": [
       "               bedrooms  bathrooms  sqft_living  sqft_lot    floors  \\\n",
       "bedrooms       1.000000   0.514508     0.578212  0.032471  0.177944   \n",
       "bathrooms      0.514508   1.000000     0.755758  0.088373  0.502582   \n",
       "sqft_living    0.578212   0.755758     1.000000  0.173453  0.353953   \n",
       "sqft_lot       0.032471   0.088373     0.173453  1.000000 -0.004814   \n",
       "floors         0.177944   0.502582     0.353953 -0.004814  1.000000   \n",
       "waterfront    -0.002127   0.063629     0.104637  0.021459  0.020797   \n",
       "view           0.078354   0.186016     0.281715  0.075054  0.028414   \n",
       "condition      0.026496  -0.126479    -0.059445 -0.008830 -0.264075   \n",
       "grade          0.356563   0.665838     0.762779  0.114731  0.458794   \n",
       "sqft_above     0.479386   0.686668     0.876448  0.184139  0.523989   \n",
       "yr_built       0.155670   0.507173     0.318152  0.052946  0.489193   \n",
       "zipcode       -0.154092  -0.204786    -0.199802 -0.129586 -0.059541   \n",
       "lat           -0.009951   0.024280     0.052155 -0.085514  0.049239   \n",
       "long           0.132054   0.224903     0.241214  0.230227  0.125943   \n",
       "sqft_living15  0.393406   0.569884     0.756402  0.144763  0.280102   \n",
       "sqft_lot15     0.030690   0.088303     0.184342  0.718204 -0.010722   \n",
       "\n",
       "               waterfront      view  condition     grade  sqft_above  \\\n",
       "bedrooms        -0.002127  0.078354   0.026496  0.356563    0.479386   \n",
       "bathrooms        0.063629  0.186016  -0.126479  0.665838    0.686668   \n",
       "sqft_living      0.104637  0.281715  -0.059445  0.762779    0.876448   \n",
       "sqft_lot         0.021459  0.075054  -0.008830  0.114731    0.184139   \n",
       "floors           0.020797  0.028414  -0.264075  0.458794    0.523989   \n",
       "waterfront       1.000000  0.380543   0.016648  0.082818    0.071778   \n",
       "view             0.380543  1.000000   0.045622  0.249082    0.166017   \n",
       "condition        0.016648  0.045622   1.000000 -0.146896   -0.158904   \n",
       "grade            0.082818  0.249082  -0.146896  1.000000    0.756073   \n",
       "sqft_above       0.071778  0.166017  -0.158904  0.756073    1.000000   \n",
       "yr_built        -0.024487 -0.054452  -0.361592  0.447865    0.424037   \n",
       "zipcode          0.028923  0.085059   0.002888 -0.185771   -0.261570   \n",
       "lat             -0.012157  0.006321  -0.015102  0.113575   -0.001199   \n",
       "long            -0.037628 -0.077702  -0.105877  0.200341    0.344842   \n",
       "sqft_living15    0.083823  0.278928  -0.093072  0.713867    0.731767   \n",
       "sqft_lot15       0.030658  0.073083  -0.003126  0.120981    0.195077   \n",
       "\n",
       "               yr_built   zipcode       lat      long  sqft_living15  \\\n",
       "bedrooms       0.155670 -0.154092 -0.009951  0.132054       0.393406   \n",
       "bathrooms      0.507173 -0.204786  0.024280  0.224903       0.569884   \n",
       "sqft_living    0.318152 -0.199802  0.052155  0.241214       0.756402   \n",
       "sqft_lot       0.052946 -0.129586 -0.085514  0.230227       0.144763   \n",
       "floors         0.489193 -0.059541  0.049239  0.125943       0.280102   \n",
       "waterfront    -0.024487  0.028923 -0.012157 -0.037628       0.083823   \n",
       "view          -0.054452  0.085059  0.006321 -0.077702       0.278928   \n",
       "condition     -0.361592  0.002888 -0.015102 -0.105877      -0.093072   \n",
       "grade          0.447865 -0.185771  0.113575  0.200341       0.713867   \n",
       "sqft_above     0.424037 -0.261570 -0.001199  0.344842       0.731767   \n",
       "yr_built       1.000000 -0.347210 -0.148370  0.409993       0.326377   \n",
       "zipcode       -0.347210  1.000000  0.266742 -0.564259      -0.279299   \n",
       "lat           -0.148370  0.266742  1.000000 -0.135371       0.048679   \n",
       "long           0.409993 -0.564259 -0.135371  1.000000       0.335626   \n",
       "sqft_living15  0.326377 -0.279299  0.048679  0.335626       1.000000   \n",
       "sqft_lot15     0.070777 -0.147294 -0.086139  0.255586       0.183515   \n",
       "\n",
       "               sqft_lot15  \n",
       "bedrooms         0.030690  \n",
       "bathrooms        0.088303  \n",
       "sqft_living      0.184342  \n",
       "sqft_lot         0.718204  \n",
       "floors          -0.010722  \n",
       "waterfront       0.030658  \n",
       "view             0.073083  \n",
       "condition       -0.003126  \n",
       "grade            0.120981  \n",
       "sqft_above       0.195077  \n",
       "yr_built         0.070777  \n",
       "zipcode         -0.147294  \n",
       "lat             -0.086139  \n",
       "long             0.255586  \n",
       "sqft_living15    0.183515  \n",
       "sqft_lot15       1.000000  "
      ]
     },
     "execution_count": 17,
     "metadata": {},
     "output_type": "execute_result"
    }
   ],
   "source": [
    "features.corr() #Correlation Matrix"
   ]
  },
  {
   "cell_type": "code",
   "execution_count": 18,
   "metadata": {
    "scrolled": false
   },
   "outputs": [
    {
     "data": {
      "text/html": [
       "<div>\n",
       "<style scoped>\n",
       "    .dataframe tbody tr th:only-of-type {\n",
       "        vertical-align: middle;\n",
       "    }\n",
       "\n",
       "    .dataframe tbody tr th {\n",
       "        vertical-align: top;\n",
       "    }\n",
       "\n",
       "    .dataframe thead th {\n",
       "        text-align: right;\n",
       "    }\n",
       "</style>\n",
       "<table border=\"1\" class=\"dataframe\">\n",
       "  <thead>\n",
       "    <tr style=\"text-align: right;\">\n",
       "      <th></th>\n",
       "      <th>bedrooms</th>\n",
       "      <th>bathrooms</th>\n",
       "      <th>sqft_living</th>\n",
       "      <th>sqft_lot</th>\n",
       "      <th>floors</th>\n",
       "      <th>waterfront</th>\n",
       "      <th>view</th>\n",
       "      <th>condition</th>\n",
       "      <th>grade</th>\n",
       "      <th>sqft_above</th>\n",
       "      <th>yr_built</th>\n",
       "      <th>zipcode</th>\n",
       "      <th>lat</th>\n",
       "      <th>long</th>\n",
       "      <th>sqft_living15</th>\n",
       "      <th>sqft_lot15</th>\n",
       "    </tr>\n",
       "  </thead>\n",
       "  <tbody>\n",
       "    <tr>\n",
       "      <th>bedrooms</th>\n",
       "      <td>True</td>\n",
       "      <td>False</td>\n",
       "      <td>False</td>\n",
       "      <td>False</td>\n",
       "      <td>False</td>\n",
       "      <td>False</td>\n",
       "      <td>False</td>\n",
       "      <td>False</td>\n",
       "      <td>False</td>\n",
       "      <td>False</td>\n",
       "      <td>False</td>\n",
       "      <td>False</td>\n",
       "      <td>False</td>\n",
       "      <td>False</td>\n",
       "      <td>False</td>\n",
       "      <td>False</td>\n",
       "    </tr>\n",
       "    <tr>\n",
       "      <th>bathrooms</th>\n",
       "      <td>False</td>\n",
       "      <td>True</td>\n",
       "      <td>True</td>\n",
       "      <td>False</td>\n",
       "      <td>False</td>\n",
       "      <td>False</td>\n",
       "      <td>False</td>\n",
       "      <td>False</td>\n",
       "      <td>False</td>\n",
       "      <td>False</td>\n",
       "      <td>False</td>\n",
       "      <td>False</td>\n",
       "      <td>False</td>\n",
       "      <td>False</td>\n",
       "      <td>False</td>\n",
       "      <td>False</td>\n",
       "    </tr>\n",
       "    <tr>\n",
       "      <th>sqft_living</th>\n",
       "      <td>False</td>\n",
       "      <td>True</td>\n",
       "      <td>True</td>\n",
       "      <td>False</td>\n",
       "      <td>False</td>\n",
       "      <td>False</td>\n",
       "      <td>False</td>\n",
       "      <td>False</td>\n",
       "      <td>True</td>\n",
       "      <td>True</td>\n",
       "      <td>False</td>\n",
       "      <td>False</td>\n",
       "      <td>False</td>\n",
       "      <td>False</td>\n",
       "      <td>True</td>\n",
       "      <td>False</td>\n",
       "    </tr>\n",
       "    <tr>\n",
       "      <th>sqft_lot</th>\n",
       "      <td>False</td>\n",
       "      <td>False</td>\n",
       "      <td>False</td>\n",
       "      <td>True</td>\n",
       "      <td>False</td>\n",
       "      <td>False</td>\n",
       "      <td>False</td>\n",
       "      <td>False</td>\n",
       "      <td>False</td>\n",
       "      <td>False</td>\n",
       "      <td>False</td>\n",
       "      <td>False</td>\n",
       "      <td>False</td>\n",
       "      <td>False</td>\n",
       "      <td>False</td>\n",
       "      <td>False</td>\n",
       "    </tr>\n",
       "    <tr>\n",
       "      <th>floors</th>\n",
       "      <td>False</td>\n",
       "      <td>False</td>\n",
       "      <td>False</td>\n",
       "      <td>False</td>\n",
       "      <td>True</td>\n",
       "      <td>False</td>\n",
       "      <td>False</td>\n",
       "      <td>False</td>\n",
       "      <td>False</td>\n",
       "      <td>False</td>\n",
       "      <td>False</td>\n",
       "      <td>False</td>\n",
       "      <td>False</td>\n",
       "      <td>False</td>\n",
       "      <td>False</td>\n",
       "      <td>False</td>\n",
       "    </tr>\n",
       "    <tr>\n",
       "      <th>waterfront</th>\n",
       "      <td>False</td>\n",
       "      <td>False</td>\n",
       "      <td>False</td>\n",
       "      <td>False</td>\n",
       "      <td>False</td>\n",
       "      <td>True</td>\n",
       "      <td>False</td>\n",
       "      <td>False</td>\n",
       "      <td>False</td>\n",
       "      <td>False</td>\n",
       "      <td>False</td>\n",
       "      <td>False</td>\n",
       "      <td>False</td>\n",
       "      <td>False</td>\n",
       "      <td>False</td>\n",
       "      <td>False</td>\n",
       "    </tr>\n",
       "    <tr>\n",
       "      <th>view</th>\n",
       "      <td>False</td>\n",
       "      <td>False</td>\n",
       "      <td>False</td>\n",
       "      <td>False</td>\n",
       "      <td>False</td>\n",
       "      <td>False</td>\n",
       "      <td>True</td>\n",
       "      <td>False</td>\n",
       "      <td>False</td>\n",
       "      <td>False</td>\n",
       "      <td>False</td>\n",
       "      <td>False</td>\n",
       "      <td>False</td>\n",
       "      <td>False</td>\n",
       "      <td>False</td>\n",
       "      <td>False</td>\n",
       "    </tr>\n",
       "    <tr>\n",
       "      <th>condition</th>\n",
       "      <td>False</td>\n",
       "      <td>False</td>\n",
       "      <td>False</td>\n",
       "      <td>False</td>\n",
       "      <td>False</td>\n",
       "      <td>False</td>\n",
       "      <td>False</td>\n",
       "      <td>True</td>\n",
       "      <td>False</td>\n",
       "      <td>False</td>\n",
       "      <td>False</td>\n",
       "      <td>False</td>\n",
       "      <td>False</td>\n",
       "      <td>False</td>\n",
       "      <td>False</td>\n",
       "      <td>False</td>\n",
       "    </tr>\n",
       "    <tr>\n",
       "      <th>grade</th>\n",
       "      <td>False</td>\n",
       "      <td>False</td>\n",
       "      <td>True</td>\n",
       "      <td>False</td>\n",
       "      <td>False</td>\n",
       "      <td>False</td>\n",
       "      <td>False</td>\n",
       "      <td>False</td>\n",
       "      <td>True</td>\n",
       "      <td>True</td>\n",
       "      <td>False</td>\n",
       "      <td>False</td>\n",
       "      <td>False</td>\n",
       "      <td>False</td>\n",
       "      <td>False</td>\n",
       "      <td>False</td>\n",
       "    </tr>\n",
       "    <tr>\n",
       "      <th>sqft_above</th>\n",
       "      <td>False</td>\n",
       "      <td>False</td>\n",
       "      <td>True</td>\n",
       "      <td>False</td>\n",
       "      <td>False</td>\n",
       "      <td>False</td>\n",
       "      <td>False</td>\n",
       "      <td>False</td>\n",
       "      <td>True</td>\n",
       "      <td>True</td>\n",
       "      <td>False</td>\n",
       "      <td>False</td>\n",
       "      <td>False</td>\n",
       "      <td>False</td>\n",
       "      <td>False</td>\n",
       "      <td>False</td>\n",
       "    </tr>\n",
       "    <tr>\n",
       "      <th>yr_built</th>\n",
       "      <td>False</td>\n",
       "      <td>False</td>\n",
       "      <td>False</td>\n",
       "      <td>False</td>\n",
       "      <td>False</td>\n",
       "      <td>False</td>\n",
       "      <td>False</td>\n",
       "      <td>False</td>\n",
       "      <td>False</td>\n",
       "      <td>False</td>\n",
       "      <td>True</td>\n",
       "      <td>False</td>\n",
       "      <td>False</td>\n",
       "      <td>False</td>\n",
       "      <td>False</td>\n",
       "      <td>False</td>\n",
       "    </tr>\n",
       "    <tr>\n",
       "      <th>zipcode</th>\n",
       "      <td>False</td>\n",
       "      <td>False</td>\n",
       "      <td>False</td>\n",
       "      <td>False</td>\n",
       "      <td>False</td>\n",
       "      <td>False</td>\n",
       "      <td>False</td>\n",
       "      <td>False</td>\n",
       "      <td>False</td>\n",
       "      <td>False</td>\n",
       "      <td>False</td>\n",
       "      <td>True</td>\n",
       "      <td>False</td>\n",
       "      <td>False</td>\n",
       "      <td>False</td>\n",
       "      <td>False</td>\n",
       "    </tr>\n",
       "    <tr>\n",
       "      <th>lat</th>\n",
       "      <td>False</td>\n",
       "      <td>False</td>\n",
       "      <td>False</td>\n",
       "      <td>False</td>\n",
       "      <td>False</td>\n",
       "      <td>False</td>\n",
       "      <td>False</td>\n",
       "      <td>False</td>\n",
       "      <td>False</td>\n",
       "      <td>False</td>\n",
       "      <td>False</td>\n",
       "      <td>False</td>\n",
       "      <td>True</td>\n",
       "      <td>False</td>\n",
       "      <td>False</td>\n",
       "      <td>False</td>\n",
       "    </tr>\n",
       "    <tr>\n",
       "      <th>long</th>\n",
       "      <td>False</td>\n",
       "      <td>False</td>\n",
       "      <td>False</td>\n",
       "      <td>False</td>\n",
       "      <td>False</td>\n",
       "      <td>False</td>\n",
       "      <td>False</td>\n",
       "      <td>False</td>\n",
       "      <td>False</td>\n",
       "      <td>False</td>\n",
       "      <td>False</td>\n",
       "      <td>False</td>\n",
       "      <td>False</td>\n",
       "      <td>True</td>\n",
       "      <td>False</td>\n",
       "      <td>False</td>\n",
       "    </tr>\n",
       "    <tr>\n",
       "      <th>sqft_living15</th>\n",
       "      <td>False</td>\n",
       "      <td>False</td>\n",
       "      <td>True</td>\n",
       "      <td>False</td>\n",
       "      <td>False</td>\n",
       "      <td>False</td>\n",
       "      <td>False</td>\n",
       "      <td>False</td>\n",
       "      <td>False</td>\n",
       "      <td>False</td>\n",
       "      <td>False</td>\n",
       "      <td>False</td>\n",
       "      <td>False</td>\n",
       "      <td>False</td>\n",
       "      <td>True</td>\n",
       "      <td>False</td>\n",
       "    </tr>\n",
       "    <tr>\n",
       "      <th>sqft_lot15</th>\n",
       "      <td>False</td>\n",
       "      <td>False</td>\n",
       "      <td>False</td>\n",
       "      <td>False</td>\n",
       "      <td>False</td>\n",
       "      <td>False</td>\n",
       "      <td>False</td>\n",
       "      <td>False</td>\n",
       "      <td>False</td>\n",
       "      <td>False</td>\n",
       "      <td>False</td>\n",
       "      <td>False</td>\n",
       "      <td>False</td>\n",
       "      <td>False</td>\n",
       "      <td>False</td>\n",
       "      <td>True</td>\n",
       "    </tr>\n",
       "  </tbody>\n",
       "</table>\n",
       "</div>"
      ],
      "text/plain": [
       "               bedrooms  bathrooms  sqft_living  sqft_lot  floors  waterfront  \\\n",
       "bedrooms           True      False        False     False   False       False   \n",
       "bathrooms         False       True         True     False   False       False   \n",
       "sqft_living       False       True         True     False   False       False   \n",
       "sqft_lot          False      False        False      True   False       False   \n",
       "floors            False      False        False     False    True       False   \n",
       "waterfront        False      False        False     False   False        True   \n",
       "view              False      False        False     False   False       False   \n",
       "condition         False      False        False     False   False       False   \n",
       "grade             False      False         True     False   False       False   \n",
       "sqft_above        False      False         True     False   False       False   \n",
       "yr_built          False      False        False     False   False       False   \n",
       "zipcode           False      False        False     False   False       False   \n",
       "lat               False      False        False     False   False       False   \n",
       "long              False      False        False     False   False       False   \n",
       "sqft_living15     False      False         True     False   False       False   \n",
       "sqft_lot15        False      False        False     False   False       False   \n",
       "\n",
       "                view  condition  grade  sqft_above  yr_built  zipcode    lat  \\\n",
       "bedrooms       False      False  False       False     False    False  False   \n",
       "bathrooms      False      False  False       False     False    False  False   \n",
       "sqft_living    False      False   True        True     False    False  False   \n",
       "sqft_lot       False      False  False       False     False    False  False   \n",
       "floors         False      False  False       False     False    False  False   \n",
       "waterfront     False      False  False       False     False    False  False   \n",
       "view            True      False  False       False     False    False  False   \n",
       "condition      False       True  False       False     False    False  False   \n",
       "grade          False      False   True        True     False    False  False   \n",
       "sqft_above     False      False   True        True     False    False  False   \n",
       "yr_built       False      False  False       False      True    False  False   \n",
       "zipcode        False      False  False       False     False     True  False   \n",
       "lat            False      False  False       False     False    False   True   \n",
       "long           False      False  False       False     False    False  False   \n",
       "sqft_living15  False      False  False       False     False    False  False   \n",
       "sqft_lot15     False      False  False       False     False    False  False   \n",
       "\n",
       "                long  sqft_living15  sqft_lot15  \n",
       "bedrooms       False          False       False  \n",
       "bathrooms      False          False       False  \n",
       "sqft_living    False           True       False  \n",
       "sqft_lot       False          False       False  \n",
       "floors         False          False       False  \n",
       "waterfront     False          False       False  \n",
       "view           False          False       False  \n",
       "condition      False          False       False  \n",
       "grade          False          False       False  \n",
       "sqft_above     False          False       False  \n",
       "yr_built       False          False       False  \n",
       "zipcode        False          False       False  \n",
       "lat            False          False       False  \n",
       "long            True          False       False  \n",
       "sqft_living15  False           True       False  \n",
       "sqft_lot15     False          False        True  "
      ]
     },
     "execution_count": 18,
     "metadata": {},
     "output_type": "execute_result"
    }
   ],
   "source": [
    "abs(features.corr()) > 0.75 #Finding correlations higher than 75%"
   ]
  },
  {
   "cell_type": "code",
   "execution_count": 19,
   "metadata": {},
   "outputs": [],
   "source": [
    "features = features.drop('sqft_above', axis=1) #Too highly correlated with sqft_living"
   ]
  },
  {
   "cell_type": "code",
   "execution_count": 20,
   "metadata": {
    "scrolled": true
   },
   "outputs": [
    {
     "data": {
      "text/plain": [
       "<seaborn.axisgrid.PairGrid at 0x17dba5b9898>"
      ]
     },
     "execution_count": 20,
     "metadata": {},
     "output_type": "execute_result"
    },
    {
     "data": {
      "image/png": "[encoded data removed]",
      "text/plain": [
       "<Figure size 540x540 with 12 Axes>"
      ]
     },
     "metadata": {
      "needs_background": "light"
     },
     "output_type": "display_data"
    }
   ],
   "source": [
    "sns.pairplot(features.iloc[:, range(0,4)]) #Pairplot to investigate other possibly correlated variables"
   ]
  },
  {
   "cell_type": "markdown",
   "metadata": {},
   "source": [
    "### Normalize Non-Categorical Features\n"
   ]
  },
  {
   "cell_type": "code",
   "execution_count": 21,
   "metadata": {},
   "outputs": [],
   "source": [
    "features.sqft_basement = features.sqft_basement.astype('float')"
   ]
  },
  {
   "cell_type": "code",
   "execution_count": 22,
   "metadata": {},
   "outputs": [
    {
     "data": {
      "image/png": "[encoded data removed]",
      "text/plain": [
       "<Figure size 432x288 with 1 Axes>"
      ]
     },
     "metadata": {
      "needs_background": "light"
     },
     "output_type": "display_data"
    },
    {
     "data": {
      "image/png": "[encoded data removed]",
      "text/plain": [
       "<Figure size 432x288 with 1 Axes>"
      ]
     },
     "metadata": {
      "needs_background": "light"
     },
     "output_type": "display_data"
    },
    {
     "data": {
      "image/png": "[encoded data removed]",
      "text/plain": [
       "<Figure size 432x288 with 1 Axes>"
      ]
     },
     "metadata": {
      "needs_background": "light"
     },
     "output_type": "display_data"
    },
    {
     "data": {
      "image/png": "[encoded data removed]",
      "text/plain": [
       "<Figure size 432x288 with 1 Axes>"
      ]
     },
     "metadata": {
      "needs_background": "light"
     },
     "output_type": "display_data"
    },
    {
     "data": {
      "image/png": "[encoded data removed]",
      "text/plain": [
       "<Figure size 432x288 with 1 Axes>"
      ]
     },
     "metadata": {
      "needs_background": "light"
     },
     "output_type": "display_data"
    }
   ],
   "source": [
    "for column in ['sqft_basement', 'sqft_living', 'sqft_living15', 'sqft_lot', 'sqft_lot15']:\n",
    "    features[column].plot.hist(bins = 20, density=True)\n",
    "    plt.legend()\n",
    "    plt.show()"
   ]
  },
  {
   "cell_type": "code",
   "execution_count": 23,
   "metadata": {
    "scrolled": true
   },
   "outputs": [
    {
     "name": "stderr",
     "output_type": "stream",
     "text": [
      "C:\\Users\\akell\\AppData\\Local\\Continuum\\anaconda3\\lib\\site-packages\\ipykernel_launcher.py:2: RuntimeWarning: divide by zero encountered in log\n",
      "  \n"
     ]
    },
    {
     "data": {
      "image/png": "[encoded data removed]",
      "text/plain": [
       "<Figure size 432x288 with 1 Axes>"
      ]
     },
     "metadata": {
      "needs_background": "light"
     },
     "output_type": "display_data"
    },
    {
     "data": {
      "image/png": "[encoded data removed]",
      "text/plain": [
       "<Figure size 432x288 with 1 Axes>"
      ]
     },
     "metadata": {
      "needs_background": "light"
     },
     "output_type": "display_data"
    },
    {
     "data": {
      "image/png": "[encoded data removed]",
      "text/plain": [
       "<Figure size 432x288 with 1 Axes>"
      ]
     },
     "metadata": {
      "needs_background": "light"
     },
     "output_type": "display_data"
    },
    {
     "data": {
      "image/png": "[encoded data removed]",
      "text/plain": [
       "<Figure size 432x288 with 1 Axes>"
      ]
     },
     "metadata": {
      "needs_background": "light"
     },
     "output_type": "display_data"
    },
    {
     "data": {
      "image/png": "[encoded data removed]",
      "text/plain": [
       "<Figure size 432x288 with 1 Axes>"
      ]
     },
     "metadata": {
      "needs_background": "light"
     },
     "output_type": "display_data"
    }
   ],
   "source": [
    "for column in ['sqft_basement', 'sqft_living', 'sqft_living15', 'sqft_lot', 'sqft_lot15']:\n",
    "    np.log(features[column]) #log transform each continuous variable\n",
    "\n",
    "\n",
    "features.sqft_living = (features.sqft_living-np.mean(features.sqft_living))/(max(features.sqft_living)-min(features.sqft_living))\n",
    "features.sqft_living15 = (features.sqft_living15-np.mean(features.sqft_living15))/(max(features.sqft_living15)-min(features.sqft_living15))\n",
    "features.sqft_lot = (features.sqft_lot-np.mean(features.sqft_lot))/(max(features.sqft_lot)-min(features.sqft_lot))\n",
    "features.sqft_lot15 = (features.sqft_lot15-np.mean(features.sqft_lot15))/(max(features.sqft_lot15)-min(features.sqft_lot15))\n",
    "features.sqft_basement = (features.sqft_basement-np.mean(features.sqft_basement))/(max(features.sqft_basement)-min(features.sqft_basement))\n",
    "\n",
    "#Mean normalization\n",
    "\n",
    "for column in ['sqft_basement', 'sqft_living', 'sqft_living15', 'sqft_lot', 'sqft_lot15']:\n",
    "    features[column].plot.hist(bins = 20, density=True)\n",
    "    plt.legend()\n",
    "    plt.show()"
   ]
  },
  {
   "cell_type": "markdown",
   "metadata": {},
   "source": [
    "### One-Hot Encode Categorical Features"
   ]
  },
  {
   "cell_type": "code",
   "execution_count": 24,
   "metadata": {
    "scrolled": true
   },
   "outputs": [],
   "source": [
    "features = features.drop(['date', 'lat', 'long', 'view'], axis=1)  \n"
   ]
  },
  {
   "cell_type": "markdown",
   "metadata": {},
   "source": [
    "Dropping view because it indicated whether the house has been viewed by prospective buyers. It may be interesting to know how many times it's been viewed before it's been sold, but that's not the purpose of this study. \n",
    "\n",
    "Dropping date sold because it may give us information about market fluctuations but can't predict future market fluctuations (should be a study on it's own), and lat and long because zip code as an indicator of area has more to do with housing prices because of school districts, etc, than it's precise location on a map. Possibility to redo this study in the future to add lat and long back in and see what happens."
   ]
  },
  {
   "cell_type": "code",
   "execution_count": 25,
   "metadata": {
    "scrolled": true
   },
   "outputs": [],
   "source": [
    "cat_bedrooms = features.bedrooms.astype('category')\n",
    "cat_bathrooms = features.bathrooms.astype('category')\n",
    "cat_floors = features.floors.astype('category')\n",
    "cat_waterfront = features.waterfront.astype('category')\n",
    "cat_condition = features.condition.astype('category')\n",
    "cat_grade = features.grade.astype('category')"
   ]
  },
  {
   "cell_type": "code",
   "execution_count": 26,
   "metadata": {},
   "outputs": [],
   "source": [
    "bath_dum = pd.get_dummies(cat_bathrooms, prefix=\"bath_\")\n",
    "bed_dum = pd.get_dummies(cat_bedrooms, prefix=\"bed_\")\n",
    "floors_dum = pd.get_dummies(cat_floors, prefix=\"flrs_\")\n",
    "waterfront_dum = pd.get_dummies(cat_waterfront, prefix=\"wf_\")\n",
    "condition_dum = pd.get_dummies(cat_condition, prefix=\"con_\")\n",
    "grade_dum = pd.get_dummies(cat_grade, prefix=\"grade_\")"
   ]
  },
  {
   "cell_type": "code",
   "execution_count": 27,
   "metadata": {
    "scrolled": true
   },
   "outputs": [],
   "source": [
    "features = features.drop(['bathrooms', 'bedrooms', 'floors', 'waterfront', 'condition', 'grade'], axis=1) #dropping to replace with dummy variables"
   ]
  },
  {
   "cell_type": "code",
   "execution_count": 28,
   "metadata": {},
   "outputs": [],
   "source": [
    "features = pd.concat([features, bath_dum, bed_dum, floors_dum, waterfront_dum, condition_dum, grade_dum], axis=1)"
   ]
  },
  {
   "cell_type": "markdown",
   "metadata": {},
   "source": [
    "### Binning Categories"
   ]
  },
  {
   "cell_type": "code",
   "execution_count": 29,
   "metadata": {},
   "outputs": [],
   "source": [
    "bins = [1900, 1951, 1975, 1997, 2015]\n",
    "\n",
    "yr_built_bins = pd.cut(features.yr_built, bins)"
   ]
  },
  {
   "cell_type": "code",
   "execution_count": 30,
   "metadata": {
    "scrolled": true
   },
   "outputs": [],
   "source": [
    "yr_built_bins = yr_built_bins.cat.as_unordered()\n"
   ]
  },
  {
   "cell_type": "code",
   "execution_count": 31,
   "metadata": {
    "scrolled": true
   },
   "outputs": [
    {
     "data": {
      "image/png": "[encoded data removed]",
      "text/plain": [
       "<Figure size 432x288 with 1 Axes>"
      ]
     },
     "metadata": {
      "needs_background": "light"
     },
     "output_type": "display_data"
    }
   ],
   "source": [
    "yr_built_bins.value_counts().plot(kind='bar');"
   ]
  },
  {
   "cell_type": "code",
   "execution_count": 32,
   "metadata": {},
   "outputs": [],
   "source": [
    "features.yr_built = yr_built_bins\n",
    "features.yr_built = features.yr_built.cat.codes\n",
    "yr_built_dum = pd.get_dummies(yr_built_bins, prefix='yr_built_') #Binning, getting category codes, and dummy variables"
   ]
  },
  {
   "cell_type": "code",
   "execution_count": 33,
   "metadata": {
    "scrolled": true
   },
   "outputs": [],
   "source": [
    "features = pd.concat([features, yr_built_dum], axis=1)\n",
    "features = features.drop('yr_built', axis=1)"
   ]
  },
  {
   "cell_type": "code",
   "execution_count": 34,
   "metadata": {},
   "outputs": [
    {
     "data": {
      "text/plain": [
       "count    21597.000000\n",
       "mean     98077.951845\n",
       "std         53.513072\n",
       "min      98001.000000\n",
       "25%      98033.000000\n",
       "50%      98065.000000\n",
       "75%      98118.000000\n",
       "max      98199.000000\n",
       "Name: zipcode, dtype: float64"
      ]
     },
     "execution_count": 34,
     "metadata": {},
     "output_type": "execute_result"
    }
   ],
   "source": [
    "features.zipcode.describe() #Making a decision on what the bins should be"
   ]
  },
  {
   "cell_type": "code",
   "execution_count": 35,
   "metadata": {
    "scrolled": true
   },
   "outputs": [],
   "source": [
    "bins = [98001, 98033, 98065, 98118, 98199]\n",
    "\n",
    "zip_bins = pd.cut(features.zipcode, bins)\n"
   ]
  },
  {
   "cell_type": "code",
   "execution_count": 36,
   "metadata": {},
   "outputs": [],
   "source": [
    "features.zipcode = zip_bins\n",
    "features.zipcode = features.zipcode.cat.codes\n",
    "zip_dum = pd.get_dummies(zip_bins, prefix='zip')\n",
    "\n",
    "features = features.drop('zipcode', axis=1)\n",
    "features = pd.concat([features, zip_dum], axis=1)"
   ]
  },
  {
   "cell_type": "markdown",
   "metadata": {},
   "source": [
    "## Data Exploration"
   ]
  },
  {
   "cell_type": "code",
   "execution_count": 37,
   "metadata": {
    "scrolled": true
   },
   "outputs": [
    {
     "data": {
      "image/png": "[encoded data removed]",
      "text/plain": [
       "<Figure size 432x288 with 1 Axes>"
      ]
     },
     "metadata": {
      "needs_background": "light"
     },
     "output_type": "display_data"
    },
    {
     "data": {
      "image/png": "[encoded data removed]",
      "text/plain": [
       "<Figure size 432x288 with 1 Axes>"
      ]
     },
     "metadata": {
      "needs_background": "light"
     },
     "output_type": "display_data"
    },
    {
     "data": {
      "image/png": "[encoded data removed]",
      "text/plain": [
       "<Figure size 432x288 with 1 Axes>"
      ]
     },
     "metadata": {
      "needs_background": "light"
     },
     "output_type": "display_data"
    },
    {
     "data": {
      "image/png": "[encoded data removed]",
      "text/plain": [
       "<Figure size 432x288 with 1 Axes>"
      ]
     },
     "metadata": {
      "needs_background": "light"
     },
     "output_type": "display_data"
    },
    {
     "data": {
      "image/png": "[encoded data removed]",
      "text/plain": [
       "<Figure size 432x288 with 1 Axes>"
      ]
     },
     "metadata": {
      "needs_background": "light"
     },
     "output_type": "display_data"
    }
   ],
   "source": [
    "for column in ['sqft_basement', 'sqft_living', 'sqft_living15', 'sqft_lot', 'sqft_lot15']:\n",
    "    features[column].plot.hist(density=True)\n",
    "    features[column].plot.kde(label=column)\n",
    "    plt.legend()\n",
    "    plt.show() #Looking to fulfill normality assumption"
   ]
  },
  {
   "cell_type": "code",
   "execution_count": 38,
   "metadata": {
    "scrolled": true
   },
   "outputs": [
    {
     "data": {
      "image/png": "[encoded data removed]",
      "text/plain": [
       "<Figure size 432x432 with 3 Axes>"
      ]
     },
     "metadata": {
      "needs_background": "light"
     },
     "output_type": "display_data"
    },
    {
     "data": {
      "image/png": "[encoded data removed]",
      "text/plain": [
       "<Figure size 432x432 with 3 Axes>"
      ]
     },
     "metadata": {
      "needs_background": "light"
     },
     "output_type": "display_data"
    },
    {
     "data": {
      "image/png": "[encoded data removed]",
      "text/plain": [
       "<Figure size 432x432 with 3 Axes>"
      ]
     },
     "metadata": {
      "needs_background": "light"
     },
     "output_type": "display_data"
    },
    {
     "data": {
      "image/png": "[encoded data removed]",
      "text/plain": [
       "<Figure size 432x432 with 3 Axes>"
      ]
     },
     "metadata": {
      "needs_background": "light"
     },
     "output_type": "display_data"
    },
    {
     "data": {
      "image/png": "[encoded data removed]",
      "text/plain": [
       "<Figure size 432x432 with 3 Axes>"
      ]
     },
     "metadata": {
      "needs_background": "light"
     },
     "output_type": "display_data"
    }
   ],
   "source": [
    "for column in ['sqft_basement', 'sqft_living', 'sqft_living15', 'sqft_lot', 'sqft_lot15']:\n",
    "    sns.jointplot(x= features[column], y=target, data=features, kind='reg')\n",
    "    plt.show() #Checking for linearity"
   ]
  },
  {
   "cell_type": "markdown",
   "metadata": {},
   "source": [
    "The log transformed target variable increased linearity, but not for sqft_lot or sqft_lot15, and I'm still on the fence about sqft_basement. "
   ]
  },
  {
   "cell_type": "markdown",
   "metadata": {},
   "source": [
    "## Modeling"
   ]
  },
  {
   "cell_type": "code",
   "execution_count": 39,
   "metadata": {},
   "outputs": [],
   "source": [
    "import statsmodels.formula.api as smf\n",
    "from statsmodels.formula.api import ols"
   ]
  },
  {
   "cell_type": "code",
   "execution_count": 40,
   "metadata": {},
   "outputs": [],
   "source": [
    "cleaned_df = pd.concat([target, features], axis=1)\n",
    "cleaned_df = cleaned_df.rename({0:'price'}, axis=1)"
   ]
  },
  {
   "cell_type": "code",
   "execution_count": 41,
   "metadata": {
    "scrolled": false
   },
   "outputs": [
    {
     "name": "stdout",
     "output_type": "stream",
     "text": [
      "['sqft_living', 0.49268789904035093, 540296.5735055797, 3698965.8991063796, 0.0]\n",
      "['sqft_lot', 0.008077735099594197, 540296.5735055797, 1316188.6121754467, 5.571622021764864e-40]\n",
      "['sqft_basement', 0.10311007135689365, 540296.5735055797, 1292778.9308097055, 0.0]\n",
      "['sqft_living15', 0.3425072641720194, 540296.5735055797, 1823268.3399985265, 0.0]\n",
      "['sqft_lot15', 0.00686328262138447, 540296.5735055797, 971414.9401480891, 3.3015927880200337e-34]\n"
     ]
    },
    {
     "data": {
      "text/html": [
       "<div>\n",
       "<style scoped>\n",
       "    .dataframe tbody tr th:only-of-type {\n",
       "        vertical-align: middle;\n",
       "    }\n",
       "\n",
       "    .dataframe tbody tr th {\n",
       "        vertical-align: top;\n",
       "    }\n",
       "\n",
       "    .dataframe thead th {\n",
       "        text-align: right;\n",
       "    }\n",
       "</style>\n",
       "<table border=\"1\" class=\"dataframe\">\n",
       "  <thead>\n",
       "    <tr style=\"text-align: right;\">\n",
       "      <th></th>\n",
       "      <th>0</th>\n",
       "      <th>1</th>\n",
       "      <th>2</th>\n",
       "      <th>3</th>\n",
       "      <th>4</th>\n",
       "    </tr>\n",
       "  </thead>\n",
       "  <tbody>\n",
       "    <tr>\n",
       "      <th>0</th>\n",
       "      <td>ind_var</td>\n",
       "      <td>r_squared</td>\n",
       "      <td>intercept</td>\n",
       "      <td>slope</td>\n",
       "      <td>p-value</td>\n",
       "    </tr>\n",
       "    <tr>\n",
       "      <th>1</th>\n",
       "      <td>sqft_living</td>\n",
       "      <td>0.492688</td>\n",
       "      <td>540297</td>\n",
       "      <td>3.69897e+06</td>\n",
       "      <td>0</td>\n",
       "    </tr>\n",
       "    <tr>\n",
       "      <th>2</th>\n",
       "      <td>sqft_lot</td>\n",
       "      <td>0.00807774</td>\n",
       "      <td>540297</td>\n",
       "      <td>1.31619e+06</td>\n",
       "      <td>5.57162e-40</td>\n",
       "    </tr>\n",
       "    <tr>\n",
       "      <th>3</th>\n",
       "      <td>sqft_basement</td>\n",
       "      <td>0.10311</td>\n",
       "      <td>540297</td>\n",
       "      <td>1.29278e+06</td>\n",
       "      <td>0</td>\n",
       "    </tr>\n",
       "    <tr>\n",
       "      <th>4</th>\n",
       "      <td>sqft_living15</td>\n",
       "      <td>0.342507</td>\n",
       "      <td>540297</td>\n",
       "      <td>1.82327e+06</td>\n",
       "      <td>0</td>\n",
       "    </tr>\n",
       "    <tr>\n",
       "      <th>5</th>\n",
       "      <td>sqft_lot15</td>\n",
       "      <td>0.00686328</td>\n",
       "      <td>540297</td>\n",
       "      <td>971415</td>\n",
       "      <td>3.30159e-34</td>\n",
       "    </tr>\n",
       "  </tbody>\n",
       "</table>\n",
       "</div>"
      ],
      "text/plain": [
       "               0           1          2            3            4\n",
       "0        ind_var   r_squared  intercept        slope      p-value\n",
       "1    sqft_living    0.492688     540297  3.69897e+06            0\n",
       "2       sqft_lot  0.00807774     540297  1.31619e+06  5.57162e-40\n",
       "3  sqft_basement     0.10311     540297  1.29278e+06            0\n",
       "4  sqft_living15    0.342507     540297  1.82327e+06            0\n",
       "5     sqft_lot15  0.00686328     540297       971415  3.30159e-34"
      ]
     },
     "execution_count": 41,
     "metadata": {},
     "output_type": "execute_result"
    }
   ],
   "source": [
    "x_cols = ['sqft_living', 'sqft_lot', 'sqft_basement', 'sqft_living15', 'sqft_lot15']\n",
    "dependent = 'price'\n",
    "results = [['ind_var', 'r_squared', 'intercept', 'slope', 'p-value' ]]\n",
    "for i, col in enumerate(x_cols):\n",
    "    formula = dependent + '~' + col\n",
    "    model = smf.ols(formula=formula, data=cleaned_df).fit()\n",
    "    X_new = pd.DataFrame({col: [cleaned_df[col].min(), cleaned_df[col].max()]});\n",
    "    preds = model.predict(X_new)\n",
    "    results.append([col, model.rsquared, model.params[0], model.params[1], model.pvalues[1]])\n",
    "    print(results[1+i])\n",
    "    \n",
    "pd.DataFrame(results) #Results for just the continuous variables"
   ]
  },
  {
   "cell_type": "code",
   "execution_count": 42,
   "metadata": {
    "scrolled": true
   },
   "outputs": [],
   "source": [
    "continuous_df = cleaned_df.iloc[:,0:6]"
   ]
  },
  {
   "cell_type": "code",
   "execution_count": 43,
   "metadata": {
    "scrolled": false
   },
   "outputs": [
    {
     "data": {
      "image/png": "[encoded data removed]",
      "text/plain": [
       "<Figure size 432x288 with 6 Axes>"
      ]
     },
     "metadata": {
      "needs_background": "light"
     },
     "output_type": "display_data"
    }
   ],
   "source": [
    "continuous_df.hist();"
   ]
  },
  {
   "cell_type": "markdown",
   "metadata": {},
   "source": [
    "## Take 2 with sqft_lot and sqft_lot15 dropped and log transformed target"
   ]
  },
  {
   "cell_type": "code",
   "execution_count": 44,
   "metadata": {},
   "outputs": [
    {
     "name": "stdout",
     "output_type": "stream",
     "text": [
      "['sqft_living', 0.483282036851469, 13.048210941923955, 5.2509371017326885, 0.0]\n",
      "['sqft_living15', 0.3835644204746943, 13.048210941923955, 2.765521026272535, 0.0]\n",
      "['sqft_basement', 0.09804363539260808, 13.048210941923955, 1.8068642899800222, 0.0]\n"
     ]
    },
    {
     "data": {
      "text/html": [
       "<div>\n",
       "<style scoped>\n",
       "    .dataframe tbody tr th:only-of-type {\n",
       "        vertical-align: middle;\n",
       "    }\n",
       "\n",
       "    .dataframe tbody tr th {\n",
       "        vertical-align: top;\n",
       "    }\n",
       "\n",
       "    .dataframe thead th {\n",
       "        text-align: right;\n",
       "    }\n",
       "</style>\n",
       "<table border=\"1\" class=\"dataframe\">\n",
       "  <thead>\n",
       "    <tr style=\"text-align: right;\">\n",
       "      <th></th>\n",
       "      <th>0</th>\n",
       "      <th>1</th>\n",
       "      <th>2</th>\n",
       "      <th>3</th>\n",
       "      <th>4</th>\n",
       "    </tr>\n",
       "  </thead>\n",
       "  <tbody>\n",
       "    <tr>\n",
       "      <th>0</th>\n",
       "      <td>ind_var</td>\n",
       "      <td>r_squared</td>\n",
       "      <td>intercept</td>\n",
       "      <td>slope</td>\n",
       "      <td>p-value</td>\n",
       "    </tr>\n",
       "    <tr>\n",
       "      <th>1</th>\n",
       "      <td>sqft_living</td>\n",
       "      <td>0.483282</td>\n",
       "      <td>13.0482</td>\n",
       "      <td>5.25094</td>\n",
       "      <td>0</td>\n",
       "    </tr>\n",
       "    <tr>\n",
       "      <th>2</th>\n",
       "      <td>sqft_living15</td>\n",
       "      <td>0.383564</td>\n",
       "      <td>13.0482</td>\n",
       "      <td>2.76552</td>\n",
       "      <td>0</td>\n",
       "    </tr>\n",
       "    <tr>\n",
       "      <th>3</th>\n",
       "      <td>sqft_basement</td>\n",
       "      <td>0.0980436</td>\n",
       "      <td>13.0482</td>\n",
       "      <td>1.80686</td>\n",
       "      <td>0</td>\n",
       "    </tr>\n",
       "  </tbody>\n",
       "</table>\n",
       "</div>"
      ],
      "text/plain": [
       "               0          1          2        3        4\n",
       "0        ind_var  r_squared  intercept    slope  p-value\n",
       "1    sqft_living   0.483282    13.0482  5.25094        0\n",
       "2  sqft_living15   0.383564    13.0482  2.76552        0\n",
       "3  sqft_basement  0.0980436    13.0482  1.80686        0"
      ]
     },
     "execution_count": 44,
     "metadata": {},
     "output_type": "execute_result"
    }
   ],
   "source": [
    "log_target = np.log(target)\n",
    "cleaned_df2 = pd.concat([log_target, features], axis=1)\n",
    "cleaned_df2 = cleaned_df2.rename({0:'price'}, axis=1)\n",
    "\n",
    "x_cols = ['sqft_living', 'sqft_living15', 'sqft_basement']\n",
    "dependent = 'price'\n",
    "results = [['ind_var', 'r_squared', 'intercept', 'slope', 'p-value' ]]\n",
    "for i, col in enumerate(x_cols):\n",
    "    formula = dependent + '~' + col\n",
    "    model = smf.ols(formula=formula, data=cleaned_df2).fit()\n",
    "    X_new = pd.DataFrame({col: [cleaned_df2[col].min(), cleaned_df2[col].max()]});\n",
    "    preds = model.predict(X_new)\n",
    "    results.append([col, model.rsquared, model.params[0], model.params[1], model.pvalues[1]])\n",
    "    print(results[1+i])\n",
    "    \n",
    "pd.DataFrame(results)"
   ]
  },
  {
   "cell_type": "markdown",
   "metadata": {},
   "source": [
    "The square footage of living space, basement, and living space of nearby homes seem to have the most influence on housing prices, but the variance in price isn't explained well by any of the independent variables. "
   ]
  },
  {
   "cell_type": "markdown",
   "metadata": {},
   "source": [
    "## Take 3 with categorical variables"
   ]
  },
  {
   "cell_type": "code",
   "execution_count": 45,
   "metadata": {},
   "outputs": [],
   "source": [
    "cleaned_df.columns = [x.strip().replace('.', '_') for x in cleaned_df.columns]"
   ]
  },
  {
   "cell_type": "code",
   "execution_count": 46,
   "metadata": {
    "scrolled": true
   },
   "outputs": [],
   "source": [
    "bath_cols = cleaned_df.columns[6:34]\n",
    "bed_cols = cleaned_df.columns[35:46]\n",
    "flrs_cols = cleaned_df.columns[47:52]\n",
    "wf_cols = cleaned_df.columns[53:55]\n",
    "condition_cols = cleaned_df.columns[55:59]\n",
    "grade_cols = cleaned_df.columns[60:70]\n",
    "yr_built_cols = cleaned_df.columns[71:74]\n",
    "zip_cols = cleaned_df.columns[75:78] #Separating categories for each model"
   ]
  },
  {
   "cell_type": "code",
   "execution_count": 47,
   "metadata": {
    "scrolled": true
   },
   "outputs": [
    {
     "name": "stdout",
     "output_type": "stream",
     "text": [
      "                            OLS Regression Results                            \n",
      "==============================================================================\n",
      "Dep. Variable:                  price   R-squared:                       0.358\n",
      "Model:                            OLS   Adj. R-squared:                  0.357\n",
      "Method:                 Least Squares   F-statistic:                     428.7\n",
      "Date:                Mon, 10 Jun 2019   Prob (F-statistic):               0.00\n",
      "Time:                        22:57:26   Log-Likelihood:            -3.0261e+05\n",
      "No. Observations:               21597   AIC:                         6.053e+05\n",
      "Df Residuals:                   21568   BIC:                         6.055e+05\n",
      "Df Model:                          28                                         \n",
      "Covariance Type:            nonrobust                                         \n",
      "==============================================================================\n",
      "                 coef    std err          t      P>|t|      [0.025      0.975]\n",
      "------------------------------------------------------------------------------\n",
      "Intercept    4.99e+06   2.08e+05     23.950      0.000    4.58e+06     5.4e+06\n",
      "bath__0_5  -4.753e+06   2.55e+05    -18.625      0.000   -5.25e+06   -4.25e+06\n",
      "bath__0_75 -4.695e+06   2.11e+05    -22.224      0.000   -5.11e+06   -4.28e+06\n",
      "bath__1_0  -4.643e+06   2.08e+05    -22.278      0.000   -5.05e+06   -4.23e+06\n",
      "bath__1_25 -4.368e+06    2.3e+05    -18.964      0.000   -4.82e+06   -3.92e+06\n",
      "bath__1_5  -4.581e+06   2.08e+05    -21.970      0.000   -4.99e+06   -4.17e+06\n",
      "bath__1_75 -4.535e+06   2.08e+05    -21.759      0.000   -4.94e+06   -4.13e+06\n",
      "bath__2_0  -4.532e+06   2.08e+05    -21.741      0.000   -4.94e+06   -4.12e+06\n",
      "bath__2_25 -4.456e+06   2.08e+05    -21.378      0.000   -4.86e+06   -4.05e+06\n",
      "bath__2_5  -4.436e+06   2.08e+05    -21.288      0.000   -4.84e+06   -4.03e+06\n",
      "bath__2_75  -4.33e+06   2.09e+05    -20.763      0.000   -4.74e+06   -3.92e+06\n",
      "bath__3_0  -4.281e+06   2.09e+05    -20.522      0.000   -4.69e+06   -3.87e+06\n",
      "bath__3_25 -4.019e+06   2.09e+05    -19.258      0.000   -4.43e+06   -3.61e+06\n",
      "bath__3_5  -4.058e+06   2.09e+05    -19.448      0.000   -4.47e+06   -3.65e+06\n",
      "bath__3_75 -3.792e+06    2.1e+05    -18.083      0.000    -4.2e+06   -3.38e+06\n",
      "bath__4_0  -3.722e+06    2.1e+05    -17.732      0.000   -4.13e+06   -3.31e+06\n",
      "bath__4_25 -3.463e+06   2.11e+05    -16.416      0.000   -3.88e+06   -3.05e+06\n",
      "bath__4_5  -3.656e+06    2.1e+05    -17.373      0.000   -4.07e+06   -3.24e+06\n",
      "bath__4_75 -2.968e+06   2.17e+05    -13.662      0.000   -3.39e+06   -2.54e+06\n",
      "bath__5_0  -3.316e+06   2.18e+05    -15.207      0.000   -3.74e+06   -2.89e+06\n",
      "bath__5_25 -3.172e+06   2.24e+05    -14.173      0.000   -3.61e+06   -2.73e+06\n",
      "bath__5_5  -2.468e+06   2.28e+05    -10.811      0.000   -2.91e+06   -2.02e+06\n",
      "bath__5_75 -2.498e+06   2.55e+05     -9.787      0.000      -3e+06      -2e+06\n",
      "bath__6_0  -2.042e+06   2.41e+05     -8.486      0.000   -2.51e+06   -1.57e+06\n",
      "bath__6_25 -1.895e+06   2.95e+05     -6.431      0.000   -2.47e+06   -1.32e+06\n",
      "bath__6_5   -3.28e+06   2.95e+05    -11.132      0.000   -3.86e+06    -2.7e+06\n",
      "bath__6_75 -2.255e+06   2.95e+05     -7.653      0.000   -2.83e+06   -1.68e+06\n",
      "bath__7_5   -4.54e+06   3.61e+05    -12.581      0.000   -5.25e+06   -3.83e+06\n",
      "bath__7_75    1.9e+06   3.61e+05      5.265      0.000    1.19e+06    2.61e+06\n",
      "==============================================================================\n",
      "Omnibus:                    13958.351   Durbin-Watson:                   1.969\n",
      "Prob(Omnibus):                  0.000   Jarque-Bera (JB):           445070.457\n",
      "Skew:                           2.626   Prob(JB):                         0.00\n",
      "Kurtosis:                      24.610   Cond. No.                         603.\n",
      "==============================================================================\n",
      "\n",
      "Warnings:\n",
      "[1] Standard Errors assume that the covariance matrix of the errors is correctly specified.\n",
      "                            OLS Regression Results                            \n",
      "==============================================================================\n",
      "Dep. Variable:                  price   R-squared:                       0.106\n",
      "Model:                            OLS   Adj. R-squared:                  0.106\n",
      "Method:                 Least Squares   F-statistic:                     233.8\n",
      "Date:                Mon, 10 Jun 2019   Prob (F-statistic):               0.00\n",
      "Time:                        22:57:26   Log-Likelihood:            -3.0618e+05\n",
      "No. Observations:               21597   AIC:                         6.124e+05\n",
      "Df Residuals:                   21585   BIC:                         6.125e+05\n",
      "Df Model:                          11                                         \n",
      "Covariance Type:            nonrobust                                         \n",
      "==============================================================================\n",
      "                 coef    std err          t      P>|t|      [0.025      0.975]\n",
      "------------------------------------------------------------------------------\n",
      "Intercept     6.4e+05   3.47e+05      1.843      0.065   -4.08e+04    1.32e+06\n",
      "bed__1     -3.218e+05   3.48e+05     -0.924      0.356      -1e+06    3.61e+05\n",
      "bed__2     -2.386e+05   3.47e+05     -0.687      0.492    -9.2e+05    4.42e+05\n",
      "bed__3     -1.737e+05   3.47e+05     -0.500      0.617   -8.55e+05    5.07e+05\n",
      "bed__4     -4435.3229   3.47e+05     -0.013      0.990   -6.85e+05    6.76e+05\n",
      "bed__5      1.469e+05   3.47e+05      0.423      0.673   -5.34e+05    8.28e+05\n",
      "bed__6      1.859e+05   3.48e+05      0.534      0.593   -4.96e+05    8.68e+05\n",
      "bed__7      3.114e+05   3.52e+05      0.885      0.376   -3.78e+05       1e+06\n",
      "bed__8      4.651e+05    3.6e+05      1.290      0.197   -2.41e+05    1.17e+06\n",
      "bed__9       2.54e+05   3.75e+05      0.677      0.498   -4.81e+05    9.89e+05\n",
      "bed__10       1.8e+05   4.01e+05      0.449      0.654   -6.06e+05    9.66e+05\n",
      "bed__11      -1.2e+05   4.91e+05     -0.244      0.807   -1.08e+06    8.43e+05\n",
      "==============================================================================\n",
      "Omnibus:                    18956.737   Durbin-Watson:                   1.960\n",
      "Prob(Omnibus):                  0.000   Jarque-Bera (JB):          1196022.955\n",
      "Skew:                           3.946   Prob(JB):                         0.00\n",
      "Kurtosis:                      38.592   Cond. No.                         595.\n",
      "==============================================================================\n",
      "\n",
      "Warnings:\n",
      "[1] Standard Errors assume that the covariance matrix of the errors is correctly specified.\n",
      "                            OLS Regression Results                            \n",
      "==============================================================================\n",
      "Dep. Variable:                  price   R-squared:                       0.085\n",
      "Model:                            OLS   Adj. R-squared:                  0.084\n",
      "Method:                 Least Squares   F-statistic:                     398.8\n",
      "Date:                Mon, 10 Jun 2019   Prob (F-statistic):               0.00\n",
      "Time:                        22:57:26   Log-Likelihood:            -3.0644e+05\n",
      "No. Observations:               21597   AIC:                         6.129e+05\n",
      "Df Residuals:                   21591   BIC:                         6.129e+05\n",
      "Df Model:                           5                                         \n",
      "Covariance Type:            nonrobust                                         \n",
      "==============================================================================\n",
      "                 coef    std err          t      P>|t|      [0.025      0.975]\n",
      "------------------------------------------------------------------------------\n",
      "Intercept   9.102e+05   1.33e+05      6.851      0.000     6.5e+05    1.17e+06\n",
      "flrs__1_0  -4.679e+05   1.33e+05     -3.520      0.000   -7.28e+05   -2.07e+05\n",
      "flrs__1_5  -3.512e+05   1.33e+05     -2.638      0.008   -6.12e+05   -9.03e+04\n",
      "flrs__2_0   -2.61e+05   1.33e+05     -1.964      0.050   -5.22e+05    -487.532\n",
      "flrs__2_5   1.508e+05   1.36e+05      1.111      0.267   -1.15e+05    4.17e+05\n",
      "flrs__3_0  -3.268e+05   1.34e+05     -2.445      0.014   -5.89e+05   -6.49e+04\n",
      "==============================================================================\n",
      "Omnibus:                    19214.865   Durbin-Watson:                   1.979\n",
      "Prob(Omnibus):                  0.000   Jarque-Bera (JB):          1216331.499\n",
      "Skew:                           4.036   Prob(JB):                         0.00\n",
      "Kurtosis:                      38.868   Cond. No.                         162.\n",
      "==============================================================================\n",
      "\n",
      "Warnings:\n",
      "[1] Standard Errors assume that the covariance matrix of the errors is correctly specified.\n",
      "                            OLS Regression Results                            \n",
      "==============================================================================\n",
      "Dep. Variable:                  price   R-squared:                       0.070\n",
      "Model:                            OLS   Adj. R-squared:                  0.070\n",
      "Method:                 Least Squares   F-statistic:                     1622.\n",
      "Date:                Mon, 10 Jun 2019   Prob (F-statistic):               0.00\n",
      "Time:                        22:57:27   Log-Likelihood:            -3.0661e+05\n",
      "No. Observations:               21597   AIC:                         6.132e+05\n",
      "Df Residuals:                   21595   BIC:                         6.132e+05\n",
      "Df Model:                           1                                         \n",
      "Covariance Type:            nonrobust                                         \n",
      "==============================================================================\n",
      "                 coef    std err          t      P>|t|      [0.025      0.975]\n",
      "------------------------------------------------------------------------------\n",
      "Intercept   7.498e+05   9807.571     76.455      0.000    7.31e+05    7.69e+05\n",
      "wf__0_0    -2.175e+05   9906.524    -21.960      0.000   -2.37e+05   -1.98e+05\n",
      "wf__1_0     9.674e+05   1.96e+04     49.444      0.000    9.29e+05    1.01e+06\n",
      "==============================================================================\n",
      "Omnibus:                    17707.435   Durbin-Watson:                   1.960\n",
      "Prob(Omnibus):                  0.000   Jarque-Bera (JB):           909716.460\n",
      "Skew:                           3.601   Prob(JB):                         0.00\n",
      "Kurtosis:                      33.969   Cond. No.                     1.89e+16\n",
      "==============================================================================\n",
      "\n",
      "Warnings:\n",
      "[1] Standard Errors assume that the covariance matrix of the errors is correctly specified.\n",
      "[2] The smallest eigenvalue is 1.21e-28. This might indicate that there are\n",
      "strong multicollinearity problems or that the design matrix is singular.\n",
      "                            OLS Regression Results                            \n",
      "==============================================================================\n",
      "Dep. Variable:                  price   R-squared:                       0.007\n",
      "Model:                            OLS   Adj. R-squared:                  0.007\n",
      "Method:                 Least Squares   F-statistic:                     36.86\n",
      "Date:                Mon, 10 Jun 2019   Prob (F-statistic):           9.12e-31\n",
      "Time:                        22:57:27   Log-Likelihood:            -3.0732e+05\n",
      "No. Observations:               21597   AIC:                         6.146e+05\n",
      "Df Residuals:                   21592   BIC:                         6.147e+05\n",
      "Df Model:                           4                                         \n",
      "Covariance Type:            nonrobust                                         \n",
      "==============================================================================\n",
      "                 coef    std err          t      P>|t|      [0.025      0.975]\n",
      "------------------------------------------------------------------------------\n",
      "Intercept   6.126e+05   8877.929     69.000      0.000    5.95e+05     6.3e+05\n",
      "con__1     -2.715e+05   6.86e+04     -3.960      0.000   -4.06e+05   -1.37e+05\n",
      "con__2     -2.844e+05   2.95e+04     -9.656      0.000   -3.42e+05   -2.27e+05\n",
      "con__3      -7.04e+04   9401.080     -7.489      0.000   -8.88e+04    -5.2e+04\n",
      "con__4      -9.12e+04   1.01e+04     -9.011      0.000   -1.11e+05   -7.14e+04\n",
      "==============================================================================\n",
      "Omnibus:                    19184.771   Durbin-Watson:                   1.969\n",
      "Prob(Omnibus):                  0.000   Jarque-Bera (JB):          1160794.218\n",
      "Skew:                           4.043   Prob(JB):                         0.00\n",
      "Kurtosis:                      37.994   Cond. No.                         34.1\n",
      "==============================================================================\n",
      "\n",
      "Warnings:\n"
     ]
    },
    {
     "name": "stdout",
     "output_type": "stream",
     "text": [
      "[1] Standard Errors assume that the covariance matrix of the errors is correctly specified.\n",
      "                            OLS Regression Results                            \n",
      "==============================================================================\n",
      "Dep. Variable:                  price   R-squared:                       0.520\n",
      "Model:                            OLS   Adj. R-squared:                  0.520\n",
      "Method:                 Least Squares   F-statistic:                     2338.\n",
      "Date:                Mon, 10 Jun 2019   Prob (F-statistic):               0.00\n",
      "Time:                        22:57:27   Log-Likelihood:            -2.9947e+05\n",
      "No. Observations:               21597   AIC:                         5.990e+05\n",
      "Df Residuals:                   21586   BIC:                         5.990e+05\n",
      "Df Model:                          10                                         \n",
      "Covariance Type:            nonrobust                                         \n",
      "==============================================================================\n",
      "                 coef    std err          t      P>|t|      [0.025      0.975]\n",
      "------------------------------------------------------------------------------\n",
      "Intercept   3.711e+06   7.06e+04     52.553      0.000    3.57e+06    3.85e+06\n",
      "grade__3   -3.449e+06   2.64e+05    -13.054      0.000   -3.97e+06   -2.93e+06\n",
      "grade__4   -3.499e+06   8.59e+04    -40.710      0.000   -3.67e+06   -3.33e+06\n",
      "grade__5   -3.462e+06   7.25e+04    -47.768      0.000    -3.6e+06   -3.32e+06\n",
      "grade__6   -3.409e+06   7.08e+04    -48.124      0.000   -3.55e+06   -3.27e+06\n",
      "grade__7   -3.308e+06   7.07e+04    -46.818      0.000   -3.45e+06   -3.17e+06\n",
      "grade__8   -3.168e+06   7.07e+04    -44.815      0.000   -3.31e+06   -3.03e+06\n",
      "grade__9   -2.937e+06   7.08e+04    -41.492      0.000   -3.08e+06    -2.8e+06\n",
      "grade__10  -2.638e+06    7.1e+04    -37.154      0.000   -2.78e+06    -2.5e+06\n",
      "grade__11  -2.213e+06   7.18e+04    -30.843      0.000   -2.35e+06   -2.07e+06\n",
      "grade__12  -1.508e+06   7.56e+04    -19.953      0.000   -1.66e+06   -1.36e+06\n",
      "==============================================================================\n",
      "Omnibus:                    15768.954   Durbin-Watson:                   1.982\n",
      "Prob(Omnibus):                  0.000   Jarque-Bera (JB):           792638.204\n",
      "Skew:                           2.994   Prob(JB):                         0.00\n",
      "Kurtosis:                      32.068   Cond. No.                         184.\n",
      "==============================================================================\n",
      "\n",
      "Warnings:\n",
      "[1] Standard Errors assume that the covariance matrix of the errors is correctly specified.\n"
     ]
    }
   ],
   "source": [
    "cat_cols = [bath_cols, bed_cols, flrs_cols, wf_cols, condition_cols, grade_cols]\n",
    "dependent = 'price'\n",
    "results = [['ind_var', 'r_squared', 'intercept', 'slope', 'p-value' ]]\n",
    "for col in cat_cols:\n",
    "    sum_cols = \"+\".join(col)\n",
    "    formula = dependent + '~' + sum_cols\n",
    "    model = smf.ols(formula=formula, data=cleaned_df).fit()\n",
    "    print(model.summary()) #Model with initial target\n",
    " "
   ]
  },
  {
   "cell_type": "code",
   "execution_count": 48,
   "metadata": {},
   "outputs": [
    {
     "name": "stdout",
     "output_type": "stream",
     "text": [
      "                            OLS Regression Results                            \n",
      "==============================================================================\n",
      "Dep. Variable:                  price   R-squared:                       0.318\n",
      "Model:                            OLS   Adj. R-squared:                  0.317\n",
      "Method:                 Least Squares   F-statistic:                     359.6\n",
      "Date:                Mon, 10 Jun 2019   Prob (F-statistic):               0.00\n",
      "Time:                        22:57:27   Log-Likelihood:                -12655.\n",
      "No. Observations:               21597   AIC:                         2.537e+04\n",
      "Df Residuals:                   21568   BIC:                         2.560e+04\n",
      "Df Model:                          28                                         \n",
      "Covariance Type:            nonrobust                                         \n",
      "==============================================================================\n",
      "                 coef    std err          t      P>|t|      [0.025      0.975]\n",
      "------------------------------------------------------------------------------\n",
      "Intercept     15.2482      0.308     49.569      0.000      14.645      15.851\n",
      "bath__0_5     -2.9438      0.377     -7.814      0.000      -3.682      -2.205\n",
      "bath__0_75    -2.7599      0.312     -8.848      0.000      -3.371      -2.148\n",
      "bath__1_0     -2.5842      0.308     -8.399      0.000      -3.187      -1.981\n",
      "bath__1_25    -2.0660      0.340     -6.075      0.000      -2.733      -1.399\n",
      "bath__1_5     -2.4218      0.308     -7.867      0.000      -3.025      -1.818\n",
      "bath__1_75    -2.3043      0.308     -7.488      0.000      -2.907      -1.701\n",
      "bath__2_0     -2.3030      0.308     -7.483      0.000      -2.906      -1.700\n",
      "bath__2_25    -2.1669      0.308     -7.041      0.000      -2.770      -1.564\n",
      "bath__2_5     -2.1164      0.308     -6.879      0.000      -2.719      -1.513\n",
      "bath__2_75    -1.9434      0.308     -6.312      0.000      -2.547      -1.340\n",
      "bath__3_0     -1.9104      0.308     -6.202      0.000      -2.514      -1.307\n",
      "bath__3_25    -1.6052      0.308     -5.209      0.000      -2.209      -1.001\n",
      "bath__3_5     -1.6087      0.308     -5.222      0.000      -2.212      -1.005\n",
      "bath__3_75    -1.3642      0.310     -4.406      0.000      -1.971      -0.757\n",
      "bath__4_0     -1.3326      0.310     -4.300      0.000      -1.940      -0.725\n",
      "bath__4_25    -1.1273      0.311     -3.619      0.000      -1.738      -0.517\n",
      "bath__4_5     -1.3093      0.311     -4.214      0.000      -1.918      -0.700\n",
      "bath__4_75    -0.8458      0.321     -2.637      0.008      -1.474      -0.217\n",
      "bath__5_0     -1.1715      0.322     -3.639      0.000      -1.802      -0.540\n",
      "bath__5_25    -1.0449      0.330     -3.162      0.002      -1.693      -0.397\n",
      "bath__5_5     -0.6303      0.337     -1.871      0.061      -1.291       0.030\n",
      "bath__5_75    -0.8286      0.377     -2.199      0.028      -1.567      -0.090\n",
      "bath__6_0     -0.5234      0.355     -1.473      0.141      -1.220       0.173\n",
      "bath__6_25    -0.3051      0.435     -0.701      0.483      -1.158       0.548\n",
      "bath__6_5     -0.9467      0.435     -2.176      0.030      -1.799      -0.094\n",
      "bath__6_75    -0.7737      0.435     -1.778      0.075      -1.626       0.079\n",
      "bath__7_5     -2.2312      0.533     -4.188      0.000      -3.276      -1.187\n",
      "bath__7_75     0.4974      0.533      0.933      0.351      -0.547       1.542\n",
      "==============================================================================\n",
      "Omnibus:                      165.547   Durbin-Watson:                   1.960\n",
      "Prob(Omnibus):                  0.000   Jarque-Bera (JB):              169.334\n",
      "Skew:                           0.213   Prob(JB):                     1.70e-37\n",
      "Kurtosis:                       3.080   Cond. No.                         603.\n",
      "==============================================================================\n",
      "\n",
      "Warnings:\n",
      "[1] Standard Errors assume that the covariance matrix of the errors is correctly specified.\n",
      "                            OLS Regression Results                            \n",
      "==============================================================================\n",
      "Dep. Variable:                  price   R-squared:                       0.131\n",
      "Model:                            OLS   Adj. R-squared:                  0.131\n",
      "Method:                 Least Squares   F-statistic:                     296.4\n",
      "Date:                Mon, 10 Jun 2019   Prob (F-statistic):               0.00\n",
      "Time:                        22:57:27   Log-Likelihood:                -15273.\n",
      "No. Observations:               21597   AIC:                         3.057e+04\n",
      "Df Residuals:                   21585   BIC:                         3.067e+04\n",
      "Df Model:                          11                                         \n",
      "Covariance Type:            nonrobust                                         \n",
      "==============================================================================\n",
      "                 coef    std err          t      P>|t|      [0.025      0.975]\n",
      "------------------------------------------------------------------------------\n",
      "Intercept     13.3692      0.491     27.233      0.000      12.407      14.331\n",
      "bed__1        -0.8015      0.492     -1.628      0.103      -1.766       0.163\n",
      "bed__2        -0.5699      0.491     -1.161      0.246      -1.532       0.393\n",
      "bed__3        -0.4325      0.491     -0.881      0.378      -1.395       0.530\n",
      "bed__4        -0.1466      0.491     -0.299      0.765      -1.109       0.816\n",
      "bed__5         0.0203      0.491      0.041      0.967      -0.942       0.983\n",
      "bed__6         0.0352      0.492      0.072      0.943      -0.929       0.999\n",
      "bed__7         0.1783      0.497      0.358      0.720      -0.797       1.153\n",
      "bed__8         0.2849      0.509      0.559      0.576      -0.714       1.283\n",
      "bed__9         0.2545      0.530      0.480      0.631      -0.785       1.294\n",
      "bed__10        0.2108      0.567      0.372      0.710      -0.900       1.322\n",
      "bed__11       -0.2076      0.694     -0.299      0.765      -1.568       1.153\n",
      "==============================================================================\n",
      "Omnibus:                      556.087   Durbin-Watson:                   1.951\n",
      "Prob(Omnibus):                  0.000   Jarque-Bera (JB):              656.994\n",
      "Skew:                           0.347   Prob(JB):                    2.17e-143\n",
      "Kurtosis:                       3.498   Cond. No.                         595.\n",
      "==============================================================================\n",
      "\n",
      "Warnings:\n",
      "[1] Standard Errors assume that the covariance matrix of the errors is correctly specified.\n",
      "                            OLS Regression Results                            \n",
      "==============================================================================\n",
      "Dep. Variable:                  price   R-squared:                       0.114\n",
      "Model:                            OLS   Adj. R-squared:                  0.114\n",
      "Method:                 Least Squares   F-statistic:                     558.0\n",
      "Date:                Mon, 10 Jun 2019   Prob (F-statistic):               0.00\n",
      "Time:                        22:57:27   Log-Likelihood:                -15480.\n",
      "No. Observations:               21597   AIC:                         3.097e+04\n",
      "Df Residuals:                   21591   BIC:                         3.102e+04\n",
      "Df Model:                           5                                         \n",
      "Covariance Type:            nonrobust                                         \n",
      "==============================================================================\n",
      "                 coef    std err          t      P>|t|      [0.025      0.975]\n",
      "------------------------------------------------------------------------------\n",
      "Intercept     13.4090      0.187     71.588      0.000      13.042      13.776\n",
      "flrs__1_0     -0.5331      0.187     -2.845      0.004      -0.900      -0.166\n",
      "flrs__1_5     -0.2974      0.188     -1.585      0.113      -0.665       0.070\n",
      "flrs__2_0     -0.1734      0.187     -0.925      0.355      -0.541       0.194\n",
      "flrs__2_5      0.2575      0.191      1.346      0.178      -0.118       0.633\n",
      "flrs__3_0     -0.2404      0.188     -1.276      0.202      -0.610       0.129\n",
      "==============================================================================\n",
      "Omnibus:                      820.630   Durbin-Watson:                   1.976\n",
      "Prob(Omnibus):                  0.000   Jarque-Bera (JB):             1028.304\n",
      "Skew:                           0.425   Prob(JB):                    5.09e-224\n",
      "Kurtosis:                       3.648   Cond. No.                         162.\n",
      "==============================================================================\n",
      "\n",
      "Warnings:\n",
      "[1] Standard Errors assume that the covariance matrix of the errors is correctly specified.\n",
      "                            OLS Regression Results                            \n",
      "==============================================================================\n",
      "Dep. Variable:                  price   R-squared:                       0.029\n",
      "Model:                            OLS   Adj. R-squared:                  0.029\n",
      "Method:                 Least Squares   F-statistic:                     648.3\n",
      "Date:                Mon, 10 Jun 2019   Prob (F-statistic):          6.30e-141\n",
      "Time:                        22:57:27   Log-Likelihood:                -16473.\n",
      "No. Observations:               21597   AIC:                         3.295e+04\n",
      "Df Residuals:                   21595   BIC:                         3.297e+04\n",
      "Df Model:                           1                                         \n",
      "Covariance Type:            nonrobust                                         \n",
      "==============================================================================\n",
      "                 coef    std err          t      P>|t|      [0.025      0.975]\n",
      "------------------------------------------------------------------------------\n",
      "Intercept      9.0595      0.014    630.812      0.000       9.031       9.088\n",
      "wf__0_0        3.9813      0.015    274.445      0.000       3.953       4.010\n",
      "wf__1_0        5.0783      0.029    177.249      0.000       5.022       5.134\n",
      "==============================================================================\n",
      "Omnibus:                      587.969   Durbin-Watson:                   1.951\n",
      "Prob(Omnibus):                  0.000   Jarque-Bera (JB):              701.596\n",
      "Skew:                           0.356   Prob(JB):                    4.47e-153\n",
      "Kurtosis:                       3.522   Cond. No.                     1.89e+16\n",
      "==============================================================================\n",
      "\n",
      "Warnings:\n",
      "[1] Standard Errors assume that the covariance matrix of the errors is correctly specified.\n",
      "[2] The smallest eigenvalue is 1.21e-28. This might indicate that there are\n",
      "strong multicollinearity problems or that the design matrix is singular.\n"
     ]
    },
    {
     "name": "stdout",
     "output_type": "stream",
     "text": [
      "                            OLS Regression Results                            \n",
      "==============================================================================\n",
      "Dep. Variable:                  price   R-squared:                       0.014\n",
      "Model:                            OLS   Adj. R-squared:                  0.013\n",
      "Method:                 Least Squares   F-statistic:                     74.33\n",
      "Date:                Mon, 10 Jun 2019   Prob (F-statistic):           1.11e-62\n",
      "Time:                        22:57:27   Log-Likelihood:                -16644.\n",
      "No. Observations:               21597   AIC:                         3.330e+04\n",
      "Df Residuals:                   21592   BIC:                         3.334e+04\n",
      "Df Model:                           4                                         \n",
      "Covariance Type:            nonrobust                                         \n",
      "==============================================================================\n",
      "                 coef    std err          t      P>|t|      [0.025      0.975]\n",
      "------------------------------------------------------------------------------\n",
      "Intercept     13.1583      0.013   1037.621      0.000      13.133      13.183\n",
      "con__1        -0.6455      0.098     -6.591      0.000      -0.837      -0.454\n",
      "con__2        -0.6191      0.042    -14.715      0.000      -0.702      -0.537\n",
      "con__3        -0.1016      0.013     -7.568      0.000      -0.128      -0.075\n",
      "con__4        -0.1461      0.014    -10.106      0.000      -0.174      -0.118\n",
      "==============================================================================\n",
      "Omnibus:                      901.392   Durbin-Watson:                   1.958\n",
      "Prob(Omnibus):                  0.000   Jarque-Bera (JB):             1151.502\n",
      "Skew:                           0.446   Prob(JB):                    9.01e-251\n",
      "Kurtosis:                       3.696   Cond. No.                         34.1\n",
      "==============================================================================\n",
      "\n",
      "Warnings:\n",
      "[1] Standard Errors assume that the covariance matrix of the errors is correctly specified.\n",
      "                            OLS Regression Results                            \n",
      "==============================================================================\n",
      "Dep. Variable:                  price   R-squared:                       0.497\n",
      "Model:                            OLS   Adj. R-squared:                  0.497\n",
      "Method:                 Least Squares   F-statistic:                     2135.\n",
      "Date:                Mon, 10 Jun 2019   Prob (F-statistic):               0.00\n",
      "Time:                        22:57:27   Log-Likelihood:                -9365.6\n",
      "No. Observations:               21597   AIC:                         1.875e+04\n",
      "Df Residuals:                   21586   BIC:                         1.884e+04\n",
      "Df Model:                          10                                         \n",
      "Covariance Type:            nonrobust                                         \n",
      "==============================================================================\n",
      "                 coef    std err          t      P>|t|      [0.025      0.975]\n",
      "------------------------------------------------------------------------------\n",
      "Intercept     15.0282      0.104    145.102      0.000      14.825      15.231\n",
      "grade__3      -2.5521      0.388     -6.586      0.000      -3.312      -1.793\n",
      "grade__4      -2.8680      0.126    -22.751      0.000      -3.115      -2.621\n",
      "grade__5      -2.7049      0.106    -25.442      0.000      -2.913      -2.496\n",
      "grade__6      -2.4844      0.104    -23.912      0.000      -2.688      -2.281\n",
      "grade__7      -2.1916      0.104    -21.145      0.000      -2.395      -1.988\n",
      "grade__8      -1.8920      0.104    -18.248      0.000      -2.095      -1.689\n",
      "grade__9      -1.5408      0.104    -14.840      0.000      -1.744      -1.337\n",
      "grade__10     -1.2252      0.104    -11.762      0.000      -1.429      -1.021\n",
      "grade__11     -0.8964      0.105     -8.517      0.000      -1.103      -0.690\n",
      "grade__12     -0.5136      0.111     -4.632      0.000      -0.731      -0.296\n",
      "==============================================================================\n",
      "Omnibus:                      113.879   Durbin-Watson:                   1.967\n",
      "Prob(Omnibus):                  0.000   Jarque-Bera (JB):              116.448\n",
      "Skew:                           0.170   Prob(JB):                     5.17e-26\n",
      "Kurtosis:                       3.118   Cond. No.                         184.\n",
      "==============================================================================\n",
      "\n",
      "Warnings:\n",
      "[1] Standard Errors assume that the covariance matrix of the errors is correctly specified.\n"
     ]
    }
   ],
   "source": [
    "cleaned_df2.columns = [x.strip().replace('.', '_') for x in cleaned_df2.columns]\n",
    "\n",
    "bath_cols2 = cleaned_df2.columns[6:34]\n",
    "bed_cols2 = cleaned_df2.columns[35:46]\n",
    "flrs_cols2 = cleaned_df2.columns[47:52]\n",
    "wf_cols2 = cleaned_df2.columns[53:55]\n",
    "condition_cols2 = cleaned_df2.columns[55:59]\n",
    "grade_cols2 = cleaned_df2.columns[60:70]\n",
    "yr_built_cols2 = cleaned_df2.columns[71:74]\n",
    "zip_cols2 = cleaned_df2.columns[75:78]\n",
    "\n",
    "\n",
    "\n",
    "cat_cols2 = [bath_cols2, bed_cols2, flrs_cols2, wf_cols2, condition_cols2, grade_cols2]\n",
    "for col in cat_cols2:\n",
    "    sum_cols = \"+\".join(col)\n",
    "    formula = dependent + '~' + sum_cols\n",
    "    model = smf.ols(formula=formula, data=cleaned_df2).fit()\n",
    "    print(model.summary()) #Model with log transformed target"
   ]
  },
  {
   "cell_type": "code",
   "execution_count": null,
   "metadata": {},
   "outputs": [],
   "source": []
  },
  {
   "cell_type": "code",
   "execution_count": null,
   "metadata": {},
   "outputs": [],
   "source": []
  }
 ],
 "metadata": {
  "kernelspec": {
   "display_name": "learn-env",
   "language": "python",
   "name": "learn-env"
  },
  "language_info": {
   "codemirror_mode": {
    "name": "ipython",
    "version": 3
   },
   "file_extension": ".py",
   "mimetype": "text/x-python",
   "name": "python",
   "nbconvert_exporter": "python",
   "pygments_lexer": "ipython3",
   "version": "3.7.3"
  }
 },
 "nbformat": 4,
 "nbformat_minor": 2
}
