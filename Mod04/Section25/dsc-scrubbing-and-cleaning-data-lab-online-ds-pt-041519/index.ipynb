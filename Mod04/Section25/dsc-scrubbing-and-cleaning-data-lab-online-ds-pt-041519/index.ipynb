{
 "cells": [
  {
   "cell_type": "markdown",
   "metadata": {},
   "source": [
    "# Scrubbing and Cleaning Data - Lab\n",
    "\n",
    "## Introduction\n",
    "\n",
    "In the previous labs, you joined the data from our separate files into a single DataFrame.  In this lab, you'll scrub the data to get it ready for exploration and modeling!\n",
    "\n",
    "## Objectives\n",
    "\n",
    "You will be able to:\n",
    "\n",
    "* Cast columns to the appropriate data types\n",
    "* Identify and deal with null values appropriately\n",
    "* Remove unnecessary columns\n",
    "* Understand how to normalize data\n",
    "\n",
    "\n",
    "## Getting Started\n",
    "\n",
    "You'll find the resulting dataset from our work in the _Obtaining Data_ Lab stored within the file `walmart_data_not_cleaned.csv`.  \n",
    "\n",
    "In the cells below:\n",
    "\n",
    "* Import pandas and set the standard alias\n",
    "* Import numpy and set the standard alias\n",
    "* Import matplotlib.pyplot and set the standard alias\n",
    "* Import seaborn and set the alias `sns` (this is the standard alias for seaborn)\n",
    "* Use the ipython magic command to set all matplotlib visualizations to display inline in the notebook\n",
    "* Load the dataset stored in the .csv file into a DataFrame using pandas\n",
    "* Inspect the head of the DataFrame to ensure everything loaded correctly"
   ]
  },
  {
   "cell_type": "code",
   "execution_count": 1,
   "metadata": {},
   "outputs": [
    {
     "data": {
      "text/html": [
       "<div>\n",
       "<style scoped>\n",
       "    .dataframe tbody tr th:only-of-type {\n",
       "        vertical-align: middle;\n",
       "    }\n",
       "\n",
       "    .dataframe tbody tr th {\n",
       "        vertical-align: top;\n",
       "    }\n",
       "\n",
       "    .dataframe thead th {\n",
       "        text-align: right;\n",
       "    }\n",
       "</style>\n",
       "<table border=\"1\" class=\"dataframe\">\n",
       "  <thead>\n",
       "    <tr style=\"text-align: right;\">\n",
       "      <th></th>\n",
       "      <th>prod_id</th>\n",
       "      <th>ages</th>\n",
       "      <th>piece_count</th>\n",
       "      <th>set_name</th>\n",
       "      <th>prod_desc</th>\n",
       "      <th>prod_long_desc</th>\n",
       "      <th>theme_name</th>\n",
       "      <th>country</th>\n",
       "      <th>list_price</th>\n",
       "      <th>num_reviews</th>\n",
       "      <th>play_star_rating</th>\n",
       "      <th>review_difficulty</th>\n",
       "      <th>star_rating</th>\n",
       "      <th>val_star_rating</th>\n",
       "    </tr>\n",
       "  </thead>\n",
       "  <tbody>\n",
       "    <tr>\n",
       "      <th>0</th>\n",
       "      <td>75823</td>\n",
       "      <td>6-12</td>\n",
       "      <td>277</td>\n",
       "      <td>Bird Island Egg Heist</td>\n",
       "      <td>Catapult into action and take back the eggs fr...</td>\n",
       "      <td>Use the staircase catapult to launch Red into ...</td>\n",
       "      <td>Angry Birds™</td>\n",
       "      <td>US</td>\n",
       "      <td>$29.99</td>\n",
       "      <td>2.0</td>\n",
       "      <td>4.0</td>\n",
       "      <td>Average</td>\n",
       "      <td>4.5</td>\n",
       "      <td>4.0</td>\n",
       "    </tr>\n",
       "    <tr>\n",
       "      <th>1</th>\n",
       "      <td>75822</td>\n",
       "      <td>6-12</td>\n",
       "      <td>168</td>\n",
       "      <td>Piggy Plane Attack</td>\n",
       "      <td>Launch a flying attack and rescue the eggs fro...</td>\n",
       "      <td>Pilot Pig has taken off from Bird Island with ...</td>\n",
       "      <td>Angry Birds™</td>\n",
       "      <td>US</td>\n",
       "      <td>$19.99</td>\n",
       "      <td>2.0</td>\n",
       "      <td>4.0</td>\n",
       "      <td>Easy</td>\n",
       "      <td>5.0</td>\n",
       "      <td>4.0</td>\n",
       "    </tr>\n",
       "    <tr>\n",
       "      <th>2</th>\n",
       "      <td>75821</td>\n",
       "      <td>6-12</td>\n",
       "      <td>74</td>\n",
       "      <td>Piggy Car Escape</td>\n",
       "      <td>Chase the piggy with lightning-fast Chuck and ...</td>\n",
       "      <td>Pitch speedy bird Chuck against the Piggy Car....</td>\n",
       "      <td>Angry Birds™</td>\n",
       "      <td>US</td>\n",
       "      <td>$12.99</td>\n",
       "      <td>11.0</td>\n",
       "      <td>4.3</td>\n",
       "      <td>Easy</td>\n",
       "      <td>4.3</td>\n",
       "      <td>4.1</td>\n",
       "    </tr>\n",
       "    <tr>\n",
       "      <th>3</th>\n",
       "      <td>21030</td>\n",
       "      <td>12+</td>\n",
       "      <td>1032</td>\n",
       "      <td>United States Capitol Building</td>\n",
       "      <td>Explore the architecture of the United States ...</td>\n",
       "      <td>Discover the architectural secrets of the icon...</td>\n",
       "      <td>Architecture</td>\n",
       "      <td>US</td>\n",
       "      <td>$99.99</td>\n",
       "      <td>23.0</td>\n",
       "      <td>3.6</td>\n",
       "      <td>Average</td>\n",
       "      <td>4.6</td>\n",
       "      <td>4.3</td>\n",
       "    </tr>\n",
       "    <tr>\n",
       "      <th>4</th>\n",
       "      <td>21035</td>\n",
       "      <td>12+</td>\n",
       "      <td>744</td>\n",
       "      <td>Solomon R. Guggenheim Museum®</td>\n",
       "      <td>Recreate the Solomon R. Guggenheim Museum® wit...</td>\n",
       "      <td>Discover the architectural secrets of Frank Ll...</td>\n",
       "      <td>Architecture</td>\n",
       "      <td>US</td>\n",
       "      <td>$79.99</td>\n",
       "      <td>14.0</td>\n",
       "      <td>3.2</td>\n",
       "      <td>Challenging</td>\n",
       "      <td>4.6</td>\n",
       "      <td>4.1</td>\n",
       "    </tr>\n",
       "  </tbody>\n",
       "</table>\n",
       "</div>"
      ],
      "text/plain": [
       "   prod_id  ages  piece_count                        set_name  \\\n",
       "0    75823  6-12          277           Bird Island Egg Heist   \n",
       "1    75822  6-12          168              Piggy Plane Attack   \n",
       "2    75821  6-12           74                Piggy Car Escape   \n",
       "3    21030   12+         1032  United States Capitol Building   \n",
       "4    21035   12+          744   Solomon R. Guggenheim Museum®   \n",
       "\n",
       "                                           prod_desc  \\\n",
       "0  Catapult into action and take back the eggs fr...   \n",
       "1  Launch a flying attack and rescue the eggs fro...   \n",
       "2  Chase the piggy with lightning-fast Chuck and ...   \n",
       "3  Explore the architecture of the United States ...   \n",
       "4  Recreate the Solomon R. Guggenheim Museum® wit...   \n",
       "\n",
       "                                      prod_long_desc    theme_name country  \\\n",
       "0  Use the staircase catapult to launch Red into ...  Angry Birds™      US   \n",
       "1  Pilot Pig has taken off from Bird Island with ...  Angry Birds™      US   \n",
       "2  Pitch speedy bird Chuck against the Piggy Car....  Angry Birds™      US   \n",
       "3  Discover the architectural secrets of the icon...  Architecture      US   \n",
       "4  Discover the architectural secrets of Frank Ll...  Architecture      US   \n",
       "\n",
       "  list_price  num_reviews  play_star_rating review_difficulty  star_rating  \\\n",
       "0     $29.99          2.0               4.0           Average          4.5   \n",
       "1     $19.99          2.0               4.0              Easy          5.0   \n",
       "2     $12.99         11.0               4.3              Easy          4.3   \n",
       "3     $99.99         23.0               3.6           Average          4.6   \n",
       "4     $79.99         14.0               3.2       Challenging          4.6   \n",
       "\n",
       "   val_star_rating  \n",
       "0              4.0  \n",
       "1              4.0  \n",
       "2              4.1  \n",
       "3              4.3  \n",
       "4              4.1  "
      ]
     },
     "execution_count": 1,
     "metadata": {},
     "output_type": "execute_result"
    }
   ],
   "source": [
    "import pandas as pd\n",
    "import numpy as np\n",
    "import matplotlib.pyplot as plt\n",
    "import seaborn as sns\n",
    "%matplotlib inline\n",
    "df = pd.read_csv('Lego_data_merged.csv')\n",
    "df.head()# Import statements go here"
   ]
  },
  {
   "cell_type": "code",
   "execution_count": 2,
   "metadata": {},
   "outputs": [],
   "source": [
    "# Now, load in the dataset and inspect the head to make sure everything loaded correctly"
   ]
  },
  {
   "cell_type": "markdown",
   "metadata": {},
   "source": [
    "## Starting our Data Cleaning\n",
    "\n",
    "To start, you'll deal with the most obvious issue: data features with the wrong data encoding.\n",
    "\n",
    "### Checking Data Types\n",
    "\n",
    "In the cell below, use the appropriate method to check the data type of each column. "
   ]
  },
  {
   "cell_type": "code",
   "execution_count": 3,
   "metadata": {},
   "outputs": [
    {
     "name": "stdout",
     "output_type": "stream",
     "text": [
      "<class 'pandas.core.frame.DataFrame'>\n",
      "RangeIndex: 10870 entries, 0 to 10869\n",
      "Data columns (total 14 columns):\n",
      "prod_id              10870 non-null int64\n",
      "ages                 10870 non-null object\n",
      "piece_count          10870 non-null int64\n",
      "set_name             10870 non-null object\n",
      "prod_desc            10512 non-null object\n",
      "prod_long_desc       10870 non-null object\n",
      "theme_name           10870 non-null object\n",
      "country              10870 non-null object\n",
      "list_price           10870 non-null object\n",
      "num_reviews          9449 non-null float64\n",
      "play_star_rating     9321 non-null float64\n",
      "review_difficulty    9104 non-null object\n",
      "star_rating          9449 non-null float64\n",
      "val_star_rating      9301 non-null float64\n",
      "dtypes: float64(4), int64(2), object(8)\n",
      "memory usage: 1.2+ MB\n"
     ]
    }
   ],
   "source": [
    "df.info()# Your code here"
   ]
  },
  {
   "cell_type": "markdown",
   "metadata": {},
   "source": [
    "Now, investigate some of the unique values inside of the `list_price` column."
   ]
  },
  {
   "cell_type": "code",
   "execution_count": 4,
   "metadata": {},
   "outputs": [
    {
     "data": {
      "text/plain": [
       "array(['$29.99', '$19.99', '$12.99', '$99.99', '$79.99', '$59.99',\n",
       "       '$49.99', '$39.99', '$34.99', '$159.99', '$9.99', '$199.99',\n",
       "       '$149.99', '$119.99', '$89.99', '$69.99', '$24.99', '$15.99',\n",
       "       '$14.99', '$6.99', '$16.99', '$7.99', '$4.99', '$2.49', '$369.99',\n",
       "       '$169.99', '$279.99', '$249.99', '$239.99', '$139.99'],\n",
       "      dtype=object)"
      ]
     },
     "execution_count": 4,
     "metadata": {},
     "output_type": "execute_result"
    }
   ],
   "source": [
    "df.list_price.unique()[:30]# Your code here"
   ]
  },
  {
   "cell_type": "markdown",
   "metadata": {},
   "source": [
    "### Numerical Data Stored as Strings\n",
    "\n",
    "A common issue to check for at this stage is numeric columns that have accidentally been encoded as strings. For example, you should notice that the `list_price` column above is currently formatted as a string and contains a proceeding '$'. Remove this and convert the remaining number to a `float` so that you can later model this value. After all, your primary task is to generate model to predict the price.\n",
    "\n",
    "> Note: While the data spans a multitude of countries, assume for now that all prices have been standardized to USD."
   ]
  },
  {
   "cell_type": "code",
   "execution_count": 5,
   "metadata": {},
   "outputs": [],
   "source": [
    "df.list_price = df.list_price.str.replace(\"$\",\"\")\n",
    "df.list_price = df.list_price.astype(float)# Your code here"
   ]
  },
  {
   "cell_type": "markdown",
   "metadata": {},
   "source": [
    "### Detecting and Dealing With Null Values\n",
    "\n",
    "Next, it's time to check for null values. How to deal with the null values will be determined by the columns containing them, and how many null values exist in each.  \n",
    " \n",
    "In the cell below, get a count of how many null values exist in each column in the DataFrame. "
   ]
  },
  {
   "cell_type": "code",
   "execution_count": 6,
   "metadata": {},
   "outputs": [
    {
     "data": {
      "text/plain": [
       "prod_id                 0\n",
       "ages                    0\n",
       "piece_count             0\n",
       "set_name                0\n",
       "prod_desc             358\n",
       "prod_long_desc          0\n",
       "theme_name              0\n",
       "country                 0\n",
       "list_price              0\n",
       "num_reviews          1421\n",
       "play_star_rating     1549\n",
       "review_difficulty    1766\n",
       "star_rating          1421\n",
       "val_star_rating      1569\n",
       "dtype: int64"
      ]
     },
     "execution_count": 6,
     "metadata": {},
     "output_type": "execute_result"
    }
   ],
   "source": [
    "df.isna().sum()# Your code here"
   ]
  },
  {
   "cell_type": "markdown",
   "metadata": {},
   "source": [
    "Now, get some descriptive statistics for each of the columns. You want to see where the minimum and maximum values lie.  "
   ]
  },
  {
   "cell_type": "code",
   "execution_count": 7,
   "metadata": {},
   "outputs": [
    {
     "data": {
      "text/html": [
       "<div>\n",
       "<style scoped>\n",
       "    .dataframe tbody tr th:only-of-type {\n",
       "        vertical-align: middle;\n",
       "    }\n",
       "\n",
       "    .dataframe tbody tr th {\n",
       "        vertical-align: top;\n",
       "    }\n",
       "\n",
       "    .dataframe thead th {\n",
       "        text-align: right;\n",
       "    }\n",
       "</style>\n",
       "<table border=\"1\" class=\"dataframe\">\n",
       "  <thead>\n",
       "    <tr style=\"text-align: right;\">\n",
       "      <th></th>\n",
       "      <th>prod_id</th>\n",
       "      <th>piece_count</th>\n",
       "      <th>list_price</th>\n",
       "      <th>num_reviews</th>\n",
       "      <th>play_star_rating</th>\n",
       "      <th>star_rating</th>\n",
       "      <th>val_star_rating</th>\n",
       "    </tr>\n",
       "  </thead>\n",
       "  <tbody>\n",
       "    <tr>\n",
       "      <th>count</th>\n",
       "      <td>1.087000e+04</td>\n",
       "      <td>10870.000000</td>\n",
       "      <td>10870.000000</td>\n",
       "      <td>9449.000000</td>\n",
       "      <td>9321.000000</td>\n",
       "      <td>9449.000000</td>\n",
       "      <td>9301.000000</td>\n",
       "    </tr>\n",
       "    <tr>\n",
       "      <th>mean</th>\n",
       "      <td>6.181634e+04</td>\n",
       "      <td>503.936431</td>\n",
       "      <td>67.309137</td>\n",
       "      <td>17.813737</td>\n",
       "      <td>4.355413</td>\n",
       "      <td>4.510319</td>\n",
       "      <td>4.214439</td>\n",
       "    </tr>\n",
       "    <tr>\n",
       "      <th>std</th>\n",
       "      <td>1.736390e+05</td>\n",
       "      <td>831.209318</td>\n",
       "      <td>94.669414</td>\n",
       "      <td>38.166693</td>\n",
       "      <td>0.617272</td>\n",
       "      <td>0.516463</td>\n",
       "      <td>0.670906</td>\n",
       "    </tr>\n",
       "    <tr>\n",
       "      <th>min</th>\n",
       "      <td>6.300000e+02</td>\n",
       "      <td>1.000000</td>\n",
       "      <td>2.272400</td>\n",
       "      <td>1.000000</td>\n",
       "      <td>1.000000</td>\n",
       "      <td>1.800000</td>\n",
       "      <td>1.000000</td>\n",
       "    </tr>\n",
       "    <tr>\n",
       "      <th>25%</th>\n",
       "      <td>2.112300e+04</td>\n",
       "      <td>97.000000</td>\n",
       "      <td>21.899000</td>\n",
       "      <td>2.000000</td>\n",
       "      <td>4.000000</td>\n",
       "      <td>4.300000</td>\n",
       "      <td>4.000000</td>\n",
       "    </tr>\n",
       "    <tr>\n",
       "      <th>50%</th>\n",
       "      <td>4.207350e+04</td>\n",
       "      <td>223.000000</td>\n",
       "      <td>36.587800</td>\n",
       "      <td>6.000000</td>\n",
       "      <td>4.500000</td>\n",
       "      <td>4.600000</td>\n",
       "      <td>4.300000</td>\n",
       "    </tr>\n",
       "    <tr>\n",
       "      <th>75%</th>\n",
       "      <td>7.124800e+04</td>\n",
       "      <td>556.000000</td>\n",
       "      <td>73.187800</td>\n",
       "      <td>14.000000</td>\n",
       "      <td>4.800000</td>\n",
       "      <td>5.000000</td>\n",
       "      <td>4.700000</td>\n",
       "    </tr>\n",
       "    <tr>\n",
       "      <th>max</th>\n",
       "      <td>2.000431e+06</td>\n",
       "      <td>7541.000000</td>\n",
       "      <td>1104.870000</td>\n",
       "      <td>367.000000</td>\n",
       "      <td>5.000000</td>\n",
       "      <td>5.000000</td>\n",
       "      <td>5.000000</td>\n",
       "    </tr>\n",
       "  </tbody>\n",
       "</table>\n",
       "</div>"
      ],
      "text/plain": [
       "            prod_id   piece_count    list_price  num_reviews  \\\n",
       "count  1.087000e+04  10870.000000  10870.000000  9449.000000   \n",
       "mean   6.181634e+04    503.936431     67.309137    17.813737   \n",
       "std    1.736390e+05    831.209318     94.669414    38.166693   \n",
       "min    6.300000e+02      1.000000      2.272400     1.000000   \n",
       "25%    2.112300e+04     97.000000     21.899000     2.000000   \n",
       "50%    4.207350e+04    223.000000     36.587800     6.000000   \n",
       "75%    7.124800e+04    556.000000     73.187800    14.000000   \n",
       "max    2.000431e+06   7541.000000   1104.870000   367.000000   \n",
       "\n",
       "       play_star_rating  star_rating  val_star_rating  \n",
       "count       9321.000000  9449.000000      9301.000000  \n",
       "mean           4.355413     4.510319         4.214439  \n",
       "std            0.617272     0.516463         0.670906  \n",
       "min            1.000000     1.800000         1.000000  \n",
       "25%            4.000000     4.300000         4.000000  \n",
       "50%            4.500000     4.600000         4.300000  \n",
       "75%            4.800000     5.000000         4.700000  \n",
       "max            5.000000     5.000000         5.000000  "
      ]
     },
     "execution_count": 7,
     "metadata": {},
     "output_type": "execute_result"
    }
   ],
   "source": [
    "df.describe()# Your code here"
   ]
  },
  {
   "cell_type": "markdown",
   "metadata": {},
   "source": [
    "Now that you have a bit more of a understanding of each of these features you can now make an informed decision about the best strategy for dealing with the various null values. \n",
    "\n",
    "Some common strategies for filling null values include:\n",
    "* Using the mean of the feature\n",
    "* Using the median of the feature\n",
    "* Inserting a random value from a normal distribution with the mean and std of the feature\n",
    "* Binning\n",
    "\n",
    "Given that most of the features with null values concern user reviews of the lego set, it is reasonable to wonder whether there is strong correlation between these features in the first place. Before proceeding, take a minute to investigate this hypothesis."
   ]
  },
  {
   "cell_type": "code",
   "execution_count": 8,
   "metadata": {},
   "outputs": [
    {
     "data": {
      "text/plain": [
       "<matplotlib.axes._subplots.AxesSubplot at 0x11e41fa58>"
      ]
     },
     "execution_count": 8,
     "metadata": {},
     "output_type": "execute_result"
    },
    {
     "data": {
      "image/png": "[encoded data removed]",
      "text/plain": [
       "<Figure size 720x720 with 2 Axes>"
      ]
     },
     "metadata": {
      "needs_background": "light"
     },
     "output_type": "display_data"
    }
   ],
   "source": [
    "ratings_df = df.loc[:, ['num_reviews', 'play_star_rating', 'star_rating', 'val_star_rating']]\n",
    "corr = ratings_df.corr()\n",
    "fig, ax = plt.subplots(figsize=(10,10))\n",
    "colormap = sns.diverging_palette(220, 10, as_cmap=True)\n",
    "sns.heatmap(corr, cmap=colormap, annot=True, fmt='.2f')\n",
    "#sns.heatmap(df.loc[# Investigate whether multicollinearity exists between the review features \n",
    "# (num_reviews, play_star_rating, star_rating, val_star_rating)"
   ]
  },
  {
   "cell_type": "markdown",
   "metadata": {},
   "source": [
    "Note that there is substantial correlation between the `play_star_rating`, `star_rating` and `val_star_rating`. While this could lead to multicollinearity in your eventual regression model, it is too early to clearly determine this at this point. Remember that multicollinearity is a relationship between 3 or more variables while correlation simply investigates the relationship between two variables.\n",
    "\n",
    "Additionally, these relationships provide an alternative method for imputing missing values: since they appear to be correlated, you could use these features to help impute missing values in the others features. For example, if you are missing the star_rating for a particular row but have the val_star_rating for that same entry, it seems reasonable to assume that it is a good estimate for the missing star_rating value as they are highly correlated. That said, doing so does come with risks; indeed you would be further increasing the correlation between these features which could further provoke multicollinearity in the final model.\n",
    "\n",
    "Investigate if you could use one of the other star rating features when one is missing. How many rows have one of `play_star_rating`, `star_rating` and `val_star_rating` missing, but not all three."
   ]
  },
  {
   "cell_type": "code",
   "execution_count": 9,
   "metadata": {},
   "outputs": [
    {
     "name": "stdout",
     "output_type": "stream",
     "text": [
      "1421\n"
     ]
    }
   ],
   "source": [
    "print(len(df[(df.play_star_rating.isnull()) & (df.star_rating.isnull()) & (df.val_star_rating.isnull())]))# Your code here\n",
    "# Number missing all three: 1421"
   ]
  },
  {
   "cell_type": "markdown",
   "metadata": {},
   "source": [
    "Well, it seems like when one is missing, the other two are also apt to be missing. While this has been a bit of an extended investigation, simply go ahead and fill the missing values with that feature's median.  \n",
    "\n",
    "Fill in the missing `review_difficulty` values with 'unknown'."
   ]
  },
  {
   "cell_type": "code",
   "execution_count": 10,
   "metadata": {},
   "outputs": [],
   "source": [
    "df.play_star_rating.fillna(df.play_star_rating.median(), inplace=True)\n",
    "df.star_rating.fillna(df.star_rating.median(), inplace=True)\n",
    "df.val_star_rating.fillna(df.val_star_rating.median(), inplace=True)\n",
    "df.review_difficulty.fillna(\"unknown\", inplace=True)# Your code here"
   ]
  },
  {
   "cell_type": "code",
   "execution_count": 11,
   "metadata": {},
   "outputs": [
    {
     "data": {
      "text/plain": [
       "prod_id                 0\n",
       "ages                    0\n",
       "piece_count             0\n",
       "set_name                0\n",
       "prod_desc             358\n",
       "prod_long_desc          0\n",
       "theme_name              0\n",
       "country                 0\n",
       "list_price              0\n",
       "num_reviews          1421\n",
       "play_star_rating        0\n",
       "review_difficulty       0\n",
       "star_rating             0\n",
       "val_star_rating         0\n",
       "dtype: int64"
      ]
     },
     "execution_count": 11,
     "metadata": {},
     "output_type": "execute_result"
    }
   ],
   "source": [
    "df.isna().sum()"
   ]
  },
  {
   "cell_type": "markdown",
   "metadata": {},
   "source": [
    "## Normalizing the Data\n",
    "\n",
    "Now, you'll need to convert all of our numeric columns to the same scale by **_normalizing_** our dataset.  Recall that you normalize a dataset by converting each numeric value to it's corresponding z-score for the column, which is obtained by subtracting the column's mean and then dividing by the column's standard deviation for every value. \n",
    "\n",
    "\n",
    "In the cell below:\n",
    "\n",
    "* Normalize the numeric X features by subtracting the column mean and dividing by the column standard deviation. \n",
    "(Don't bother to normalize the list_price as this is the feature you will be predicting.)"
   ]
  },
  {
   "cell_type": "code",
   "execution_count": 12,
   "metadata": {},
   "outputs": [],
   "source": [
    "for col in ['piece_count', 'num_reviews', 'play_star_rating', 'star_rating', 'val_star_rating']:\n",
    "    df[col] = df[col].astype('float64')\n",
    "    df[col] = (df[col] - df[col].mean())/df[col].std()    "
   ]
  },
  {
   "cell_type": "markdown",
   "metadata": {},
   "source": [
    "## Saving Your Results\n",
    "\n",
    "While you'll once again practice one-hot encoding as you would to preprocess data before fitting a model, saving such a reperesentation of the data will eat up additional disk space. After all, a categorical variable with 10 bins will be transformed to 10 seperate features when passed through `pd.get_dummies()`. As such, while the further practice is worthwhile, save your DataFrame as is for now."
   ]
  },
  {
   "cell_type": "code",
   "execution_count": 13,
   "metadata": {},
   "outputs": [],
   "source": [
    "df.to_csv(\"Lego_dataset_cleaned.csv\", index=False)#Your code here"
   ]
  },
  {
   "cell_type": "markdown",
   "metadata": {},
   "source": [
    "## One-Hot Encoding Categorical Columns\n",
    "\n",
    "As a final step, you'll need to deal with the categorical columns by **_one-hot encoding_** them into binary variables via the `pd.get_dummies()` method.  \n",
    "\n",
    "When doing this, you may also need to subset the appropriate features to avoid encoding the wrong data. The `get_dummies()` method by default converts all columns with *object* or *category* dtype. However, you should always check the result of calling `get_dummies()` to ensure that only the categorical variables have been transformed. Consult the [documentation](https://pandas.pydata.org/pandas-docs/stable/generated/pandas.get_dummies.html) for more details. If you are ever unsure of the dtypes, call `df.info()`.\n",
    "\n",
    "In the cell below, subset to the appropriate predictive features and then use the `pd.get_dummies()` to one-hot encode the dataset properly."
   ]
  },
  {
   "cell_type": "code",
   "execution_count": 14,
   "metadata": {},
   "outputs": [
    {
     "name": "stdout",
     "output_type": "stream",
     "text": [
      "<class 'pandas.core.frame.DataFrame'>\n",
      "RangeIndex: 10870 entries, 0 to 10869\n",
      "Data columns (total 14 columns):\n",
      "prod_id              10870 non-null int64\n",
      "ages                 10870 non-null object\n",
      "piece_count          10870 non-null float64\n",
      "set_name             10870 non-null object\n",
      "prod_desc            10512 non-null object\n",
      "prod_long_desc       10870 non-null object\n",
      "theme_name           10870 non-null object\n",
      "country              10870 non-null object\n",
      "list_price           10870 non-null float64\n",
      "num_reviews          9449 non-null float64\n",
      "play_star_rating     10870 non-null float64\n",
      "review_difficulty    10870 non-null object\n",
      "star_rating          10870 non-null float64\n",
      "val_star_rating      10870 non-null float64\n",
      "dtypes: float64(6), int64(1), object(7)\n",
      "memory usage: 1.2+ MB\n"
     ]
    }
   ],
   "source": [
    "df.info()"
   ]
  },
  {
   "cell_type": "code",
   "execution_count": 15,
   "metadata": {},
   "outputs": [],
   "source": [
    "features = ['ages', 'piece_count', 'theme_name', 'country', 'list_price', 'num_reviews',\n",
    "         'play_star_rating', 'review_difficulty', 'star_rating', 'val_star_rating']\n",
    "#Don't include prod_id, set_name, prod_desc, or prod_long_desc; they are too unique\n",
    "df = df[features]\n",
    "df = pd.get_dummies(df, drop_first=True)# Your code here"
   ]
  },
  {
   "cell_type": "markdown",
   "metadata": {},
   "source": [
    "That's it! You've now successfully scrubbed your dataset--you're now ready for data exploration and modeling!\n",
    "\n",
    "## Summary\n",
    "\n",
    "In this lesson, you gained practice with data cleaning by:\n",
    "\n",
    "* Casting columns to the appropriate data types\n",
    "* Identifying and dealing with null values appropriately\n",
    "* Removing unnecessary columns\n",
    "* Checking for and dealing with multicollinearity\n",
    "* Normalizing your data"
   ]
  }
 ],
 "metadata": {
  "kernelspec": {
   "display_name": "Python [conda env:learn-env] *",
   "language": "python",
   "name": "conda-env-learn-env-py"
  },
  "language_info": {
   "codemirror_mode": {
    "name": "ipython",
    "version": 3
   },
   "file_extension": ".py",
   "mimetype": "text/x-python",
   "name": "python",
   "nbconvert_exporter": "python",
   "pygments_lexer": "ipython3",
   "version": "3.6.6"
  },
  "toc": {
   "base_numbering": 1,
   "nav_menu": {},
   "number_sections": true,
   "sideBar": true,
   "skip_h1_title": false,
   "title_cell": "Table of Contents",
   "title_sidebar": "Contents",
   "toc_cell": false,
   "toc_position": {},
   "toc_section_display": true,
   "toc_window_display": false
  }
 },
 "nbformat": 4,
 "nbformat_minor": 2
}
