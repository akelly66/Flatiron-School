{
 "cells": [
  {
   "cell_type": "markdown",
   "metadata": {},
   "source": [
    "<b><font size=\"6\">Data-Driven Marketing with Google Merch Store Customer Data</font>"
   ]
  },
  {
   "cell_type": "markdown",
   "metadata": {},
   "source": [
    "    Notebook by Allison Kelly - allisonkelly42@gmail.com\n",
    "\n",
    "    Blog post - placeholder\n",
    "\n",
    "    Presentation - placeholder"
   ]
  },
  {
   "cell_type": "markdown",
   "metadata": {
    "toc": true
   },
   "source": [
    "<h1>Table of Contents<span class=\"tocSkip\"></span></h1>\n",
    "<div class=\"toc\"><ul class=\"toc-item\"><li><span><a href=\"#Introduction\" data-toc-modified-id=\"Introduction-1\"><span class=\"toc-item-num\">1&nbsp;&nbsp;</span>Introduction</a></span></li><li><span><a href=\"#Imports\" data-toc-modified-id=\"Imports-2\"><span class=\"toc-item-num\">2&nbsp;&nbsp;</span>Imports</a></span></li><li><span><a href=\"#Customer-Lifetime-Value-and-Customer-Attrition-Prediction\" data-toc-modified-id=\"Customer-Lifetime-Value-and-Customer-Attrition-Prediction-3\"><span class=\"toc-item-num\">3&nbsp;&nbsp;</span>Customer Lifetime Value and Customer Attrition Prediction</a></span><ul class=\"toc-item\"><li><span><a href=\"#Obtaining-the-data\" data-toc-modified-id=\"Obtaining-the-data-3.1\"><span class=\"toc-item-num\">3.1&nbsp;&nbsp;</span>Obtaining the data</a></span></li><li><span><a href=\"#Cleaning-the-Data\" data-toc-modified-id=\"Cleaning-the-Data-3.2\"><span class=\"toc-item-num\">3.2&nbsp;&nbsp;</span>Cleaning the Data</a></span></li><li><span><a href=\"#Exploratory-Data-Analysis\" data-toc-modified-id=\"Exploratory-Data-Analysis-3.3\"><span class=\"toc-item-num\">3.3&nbsp;&nbsp;</span>Exploratory Data Analysis</a></span></li><li><span><a href=\"#Market-Segmentation-and-the-RFM-Model\" data-toc-modified-id=\"Market-Segmentation-and-the-RFM-Model-3.4\"><span class=\"toc-item-num\">3.4&nbsp;&nbsp;</span>Market Segmentation and the RFM Model</a></span></li><li><span><a href=\"#Modeling\" data-toc-modified-id=\"Modeling-3.5\"><span class=\"toc-item-num\">3.5&nbsp;&nbsp;</span>Modeling</a></span></li></ul></li><li><span><a href=\"#Future-Work\" data-toc-modified-id=\"Future-Work-4\"><span class=\"toc-item-num\">4&nbsp;&nbsp;</span>Future Work</a></span></li></ul></div>"
   ]
  },
  {
   "cell_type": "markdown",
   "metadata": {},
   "source": [
    "# Introduction"
   ]
  },
  {
   "cell_type": "markdown",
   "metadata": {},
   "source": [
    "Leveraging machine learning and AI with the massive amounts of consumer history, web traffic, and product reviews can have a measurable impact on marketing campaigns. By harnessing the power of statistical and analytical tools, patterns untracked by basic dashboards can be unearthed, translating into higher conversion rates over traditional marketing strategies. The following notebook is one such demonstration of this power.\n",
    "\n",
    "Part one explores customer purchase history on the <a href=\"https://shop.googlemerchandisestore.com/\">Google Merchandise Store.</a> By using machine learning, I will predict the customer lifetime value (CLV) of each customer. This data can then be used to segment ads, email marketing campaigns, and other traditional marketing ventures. I will also predict and measure customer attrition which can be used to develop proactive prevention strategies and increase revenue. \n",
    "\n",
    "Part two uses NLP to parse through Google Play store app reviews, conduct sentiment analysis, and classify reviews. The NLP machine learning models can be used to recommend apps and get feedback in realtime to prompt bug fixes and improvements. You'll find this in a separate notebook <b>here.</b> \n",
    "\n",
    "Finally, part three will focusing on tracking important metrics and gleaning insights from the Google Analytics demo account for the Google Merchandise Store. Setting benchmarks for KPIs and tracking campaign results are essential to understanding consumer behavior and making informed business decisions. PLACEHOLDER FOR WHERE THIS CAN BE FOUND"
   ]
  },
  {
   "cell_type": "markdown",
   "metadata": {},
   "source": [
    "# Imports"
   ]
  },
  {
   "cell_type": "code",
   "execution_count": 24,
   "metadata": {
    "ExecuteTime": {
     "end_time": "2020-02-13T00:24:12.097906Z",
     "start_time": "2020-02-13T00:24:12.090411Z"
    }
   },
   "outputs": [],
   "source": [
    "import pandas as pd\n",
    "\n",
    "# Plot data\n",
    "import matplotlib.pyplot as plt\n",
    "import seaborn as sns \n",
    "import plotly.plotly as py\n",
    "import plotly.offline as pyoff\n",
    "import plotly.graph_objs as go\n",
    "\n",
    "import time\n",
    "import datetime\n",
    "import numpy as np\n",
    "import json # for data cleaning\n",
    "\n",
    "import warnings # Ignoring warnings\n",
    "warnings.filterwarnings(\"ignore\")\n",
    "\n",
    "from scipy import stats\n",
    "\n",
    "from sklearn.model_selection import train_test_split\n",
    "from sklearn.linear_model import LinearRegression\n",
    "from sklearn import metrics\n",
    "from sklearn.metrics.cluster import calinski_harabasz_score\n",
    "from sklearn.cluster import KMeans\n",
    "from sklearn.preprocessing import StandardScaler, MinMaxScaler"
   ]
  },
  {
   "cell_type": "markdown",
   "metadata": {},
   "source": [
    "# Customer Lifetime Value and Customer Attrition Prediction"
   ]
  },
  {
   "cell_type": "markdown",
   "metadata": {},
   "source": [
    "In marketing, according to <a href=\"https://en.wikipedia.org/wiki/Customer_lifetime_value\">Wikipedia</a>, Customer Lifetime Value (CLV) can be defined as \"a prediction of the net profit attributed to the entire future relationship with a customer.\" CLV is an important metric to track as it can help identify your customer acquisition budget, help your marketing team to segment your customer base, increase retention and satisfaction, etc. CLV is represented as a dollar amount and varies customer to customer. "
   ]
  },
  {
   "cell_type": "markdown",
   "metadata": {},
   "source": [
    "<img src=\"brandwise-clv-bellcurve.gif\">"
   ]
  },
  {
   "cell_type": "markdown",
   "metadata": {
    "ExecuteTime": {
     "end_time": "2020-01-27T00:28:51.101049Z",
     "start_time": "2020-01-27T00:28:51.096686Z"
    }
   },
   "source": [
    "## Obtaining the data"
   ]
  },
  {
   "cell_type": "markdown",
   "metadata": {},
   "source": [
    "This dataset was derived from the Google Merchandise Store demo account as provided by Google BigQuery on Kaggle. You can find the data <a href=\"https://www.kaggle.com/c/ga-customer-revenue-prediction\">here.</a> "
   ]
  },
  {
   "cell_type": "code",
   "execution_count": null,
   "metadata": {
    "ExecuteTime": {
     "end_time": "2020-01-31T16:57:14.760959Z",
     "start_time": "2020-01-31T16:56:46.425025Z"
    },
    "scrolled": true
   },
   "outputs": [],
   "source": [
    "df = pd.read_csv('train.csv') # loading and checking out the dataset\n",
    "df.head()"
   ]
  },
  {
   "cell_type": "code",
   "execution_count": null,
   "metadata": {
    "ExecuteTime": {
     "end_time": "2020-01-31T16:57:15.479574Z",
     "start_time": "2020-01-31T16:57:14.766742Z"
    },
    "scrolled": true
   },
   "outputs": [],
   "source": [
    "print(df.info())\n",
    "\n",
    "print('\\n\\nNumber of individual visitors to the Google Merch Store: ', \n",
    "      len(df.fullVisitorId.unique()))"
   ]
  },
  {
   "cell_type": "markdown",
   "metadata": {},
   "source": [
    "The dataframe is consisted of 903,653 datapoints describing visits to the Google Merch Store with 742,753 unique visitors. Most features consist of objects, though the integers are either dates, times or immutable ID numbers that should be categorized accordingly. "
   ]
  },
  {
   "cell_type": "markdown",
   "metadata": {
    "ExecuteTime": {
     "end_time": "2020-01-26T22:06:33.295152Z",
     "start_time": "2020-01-26T22:06:33.202927Z"
    }
   },
   "source": [
    "## Cleaning the Data"
   ]
  },
  {
   "cell_type": "code",
   "execution_count": null,
   "metadata": {
    "ExecuteTime": {
     "end_time": "2020-01-31T16:57:15.491096Z",
     "start_time": "2020-01-31T16:57:15.483541Z"
    }
   },
   "outputs": [],
   "source": [
    "\n",
    "def datetime_edits(dataframe):\n",
    "    \n",
    "    \"\"\"This function changes the two columns \n",
    "    with dates/times into datetime objects.\n",
    "    To be used with dataframes with similar\n",
    "    setup to this one.\"\"\"\n",
    "    \n",
    "    try:\n",
    "        dataframe.date.astype(str)\n",
    "        dataframe.date = pd.to_datetime(dataframe.date, \n",
    "                                        format='%Y%m%d')\n",
    "    except:\n",
    "        print(\"Your dataframe does not contain a 'date' column.\")\n",
    "        \n",
    "    try:\n",
    "        dataframe.visitStartTime = pd.to_datetime(dataframe.visitStartTime, unit='s')\n",
    "    \n",
    "    except:\n",
    "        print(\"Your dataframe does not containt a 'visitStartTime' column.\")\n",
    "    \n",
    "    # confirming proper edits were made\n",
    "    return \"Date column:\", dataframe.date.dtype, \"Time column:\", dataframe.visitStartTime.dtype\n"
   ]
  },
  {
   "cell_type": "code",
   "execution_count": null,
   "metadata": {
    "ExecuteTime": {
     "end_time": "2020-01-31T16:57:17.020508Z",
     "start_time": "2020-01-31T16:57:15.495589Z"
    }
   },
   "outputs": [],
   "source": [
    "datetime_edits(df)"
   ]
  },
  {
   "cell_type": "code",
   "execution_count": null,
   "metadata": {
    "ExecuteTime": {
     "end_time": "2020-01-31T16:57:17.732112Z",
     "start_time": "2020-01-31T16:57:17.025184Z"
    },
    "scrolled": true
   },
   "outputs": [],
   "source": [
    "# changing immutable IDs to strings\n",
    "df.visitId = df.visitId.astype(str)"
   ]
  },
  {
   "cell_type": "code",
   "execution_count": null,
   "metadata": {
    "ExecuteTime": {
     "end_time": "2020-01-31T17:09:27.099466Z",
     "start_time": "2020-01-31T16:57:17.734790Z"
    },
    "scrolled": true
   },
   "outputs": [],
   "source": [
    "\n",
    "def unpack_col(df, col):\n",
    "    \n",
    "    '''Some column values are dictionary-like strings.\n",
    "    This function unpacks those values, creating new\n",
    "    columns for each key that can then be analyzed \n",
    "    as separate features. Returns dataframe of \n",
    "    unpacked column, not including original column.\n",
    "    '''\n",
    "    \n",
    "    df[col] = df[col].dropna().apply(json.loads)\n",
    "    unpacked_df = df[col].apply(pd.Series)\n",
    "        \n",
    "    return unpacked_df\n",
    "        \n",
    "geo_df = unpack_col(df, 'geoNetwork')\n",
    "totals_df = unpack_col(df, 'totals')\n"
   ]
  },
  {
   "cell_type": "code",
   "execution_count": null,
   "metadata": {
    "ExecuteTime": {
     "end_time": "2020-01-31T17:09:33.254232Z",
     "start_time": "2020-01-31T17:09:27.137484Z"
    }
   },
   "outputs": [],
   "source": [
    "df_expanded = pd.concat([df, geo_df, totals_df], axis=1)"
   ]
  },
  {
   "cell_type": "code",
   "execution_count": null,
   "metadata": {
    "ExecuteTime": {
     "end_time": "2020-01-31T17:09:33.419251Z",
     "start_time": "2020-01-31T17:09:33.270994Z"
    },
    "scrolled": false
   },
   "outputs": [],
   "source": [
    "df_expanded.head()"
   ]
  },
  {
   "cell_type": "code",
   "execution_count": null,
   "metadata": {
    "ExecuteTime": {
     "end_time": "2020-01-31T17:09:37.694077Z",
     "start_time": "2020-01-31T17:09:33.423231Z"
    }
   },
   "outputs": [],
   "source": [
    "# Dropping unpacked columns \n",
    "\n",
    "df_expanded = df_expanded.drop('geoNetwork', axis=1)\n",
    "df_expanded = df_expanded.drop('totals', axis=1)"
   ]
  },
  {
   "cell_type": "markdown",
   "metadata": {},
   "source": [
    "The nested information in the device and trafficSource columns would be necessary for an analysis of ad quality, but we're concerned with what the customer does once they get to the store, not how they get there. We'll drop those columns as well. "
   ]
  },
  {
   "cell_type": "code",
   "execution_count": null,
   "metadata": {
    "ExecuteTime": {
     "end_time": "2020-01-31T17:09:38.317234Z",
     "start_time": "2020-01-31T17:09:37.698429Z"
    }
   },
   "outputs": [],
   "source": [
    "df_expanded = df_expanded.drop(['device', 'trafficSource'], axis=1)"
   ]
  },
  {
   "cell_type": "code",
   "execution_count": null,
   "metadata": {
    "ExecuteTime": {
     "end_time": "2020-01-31T17:09:42.158811Z",
     "start_time": "2020-01-31T17:09:38.325328Z"
    }
   },
   "outputs": [],
   "source": [
    "\n",
    "# Identifying columns that have no variation\n",
    "cols = list(df_expanded.columns)\n",
    "\n",
    "one_variant = []\n",
    "for col in cols:\n",
    "    if len(df_expanded[col].unique()) == 1:\n",
    "        print(df_expanded[col].unique())\n",
    "        one_variant.append(col)\n",
    "one_variant"
   ]
  },
  {
   "cell_type": "markdown",
   "metadata": {
    "ExecuteTime": {
     "end_time": "2020-01-28T20:57:28.308643Z",
     "start_time": "2020-01-28T20:57:28.292521Z"
    }
   },
   "source": [
    "Columns with no variation in value will be dropped. Some columns in a full dataset such as language could be relevant to CLV, but since we don't have that information available through the Google Demo Account, we'll remove those columns. "
   ]
  },
  {
   "cell_type": "code",
   "execution_count": null,
   "metadata": {
    "ExecuteTime": {
     "end_time": "2020-01-31T17:09:42.795401Z",
     "start_time": "2020-01-31T17:09:42.162054Z"
    }
   },
   "outputs": [],
   "source": [
    "df_expanded = df_expanded.drop(one_variant, axis=1)"
   ]
  },
  {
   "cell_type": "markdown",
   "metadata": {
    "ExecuteTime": {
     "end_time": "2020-01-28T21:10:12.329093Z",
     "start_time": "2020-01-28T21:10:12.173179Z"
    }
   },
   "source": [
    "Because our unique customer identifier is tied to 'fullVisitorId' and 'visitStartTime' describes the frequency (or lacktherof) of visits to the store, we can safely remove 'sessionId' and 'visitId'."
   ]
  },
  {
   "cell_type": "code",
   "execution_count": null,
   "metadata": {
    "ExecuteTime": {
     "end_time": "2020-01-31T17:09:43.191155Z",
     "start_time": "2020-01-31T17:09:42.798365Z"
    }
   },
   "outputs": [],
   "source": [
    "df_expanded = df_expanded.drop(['visitId', 'sessionId'], axis=1)"
   ]
  },
  {
   "cell_type": "markdown",
   "metadata": {},
   "source": [
    "Columns 'region,' 'metro,' and 'city' may have an impact on whether or not a customer will spend in the future and how much due to income levels and cost of living, however most of the information in these categories is not available. We'll drop these columns for this project, though you may consider leaving them if other datasets give a more detailed look into the customers location. We can also drop 'continent' and 'subcontinent' because the country names themselves give us that information inherently. "
   ]
  },
  {
   "cell_type": "code",
   "execution_count": null,
   "metadata": {
    "ExecuteTime": {
     "end_time": "2020-01-31T17:09:43.461720Z",
     "start_time": "2020-01-31T17:09:43.195181Z"
    }
   },
   "outputs": [],
   "source": [
    "# Only keeping country column to identify location of transaction\n",
    "df_expanded = df_expanded.drop(['region', 'metro', 'city', 'continent', 'subContinent' ], axis=1)"
   ]
  },
  {
   "cell_type": "code",
   "execution_count": null,
   "metadata": {
    "ExecuteTime": {
     "end_time": "2020-01-31T17:09:43.868255Z",
     "start_time": "2020-01-31T17:09:43.465644Z"
    }
   },
   "outputs": [],
   "source": [
    "# Removing parentheses around \"Other\" channel group\n",
    "df_expanded.channelGrouping = df_expanded.channelGrouping.str.strip('()')"
   ]
  },
  {
   "cell_type": "markdown",
   "metadata": {},
   "source": [
    "Finally, we'll drop the 'networkDomain' column as it doesn't pertain to the prediction of CLV. "
   ]
  },
  {
   "cell_type": "code",
   "execution_count": null,
   "metadata": {
    "ExecuteTime": {
     "end_time": "2020-01-31T17:09:43.960264Z",
     "start_time": "2020-01-31T17:09:43.875360Z"
    }
   },
   "outputs": [],
   "source": [
    "df_expanded.drop('networkDomain', axis=1, inplace=True)"
   ]
  },
  {
   "cell_type": "code",
   "execution_count": null,
   "metadata": {
    "ExecuteTime": {
     "end_time": "2020-01-31T17:09:44.409459Z",
     "start_time": "2020-01-31T17:09:43.964148Z"
    }
   },
   "outputs": [],
   "source": [
    "df_expanded.isna().any()"
   ]
  },
  {
   "cell_type": "code",
   "execution_count": null,
   "metadata": {
    "ExecuteTime": {
     "end_time": "2020-01-31T17:09:54.711552Z",
     "start_time": "2020-01-31T17:09:44.415065Z"
    }
   },
   "outputs": [],
   "source": [
    "# Replacing a variant of NaN with 'Unknown'\n",
    "df_expanded = df_expanded.replace('(not set)', 'Unknown')"
   ]
  },
  {
   "cell_type": "code",
   "execution_count": null,
   "metadata": {
    "ExecuteTime": {
     "end_time": "2020-01-31T17:15:43.072512Z",
     "start_time": "2020-01-31T17:15:42.941630Z"
    },
    "scrolled": true
   },
   "outputs": [],
   "source": [
    "nan_cols = ['pageviews', 'bounces', 'newVisits', 'transactionRevenue']\n",
    "for col in nan_cols: \n",
    "    \n",
    "    print(f'{col} NaN: ', df_expanded[col].isnull().sum())\n",
    "    print(f'{col} datatype: ', df_expanded[col].dtype, '\\n')"
   ]
  },
  {
   "cell_type": "markdown",
   "metadata": {},
   "source": [
    "Each of the columns that contain null values are related to the customer's behavior once on the site. We can change the NaNs to 0 to indicate no pages were viewed, the customer did not bounce, the customer has been to the merch store previously, and the customer did not purchase from the store. We also need to correct the datatype of 'transactionRevenue' from object to float. "
   ]
  },
  {
   "cell_type": "code",
   "execution_count": null,
   "metadata": {
    "ExecuteTime": {
     "end_time": "2020-01-31T17:15:48.907252Z",
     "start_time": "2020-01-31T17:15:48.045872Z"
    }
   },
   "outputs": [],
   "source": [
    "df_expanded.fillna('0', inplace=True)"
   ]
  },
  {
   "cell_type": "code",
   "execution_count": null,
   "metadata": {
    "ExecuteTime": {
     "end_time": "2020-01-31T17:09:55.622348Z",
     "start_time": "2020-01-31T16:56:43.068Z"
    }
   },
   "outputs": [],
   "source": [
    "df_expanded.transactionRevenue = df_expanded.transactionRevenue.astype('float')"
   ]
  },
  {
   "cell_type": "code",
   "execution_count": null,
   "metadata": {
    "ExecuteTime": {
     "end_time": "2020-01-31T17:15:54.407570Z",
     "start_time": "2020-01-31T17:15:52.494929Z"
    },
    "scrolled": true
   },
   "outputs": [],
   "source": [
    "for col in df_expanded.columns:\n",
    "    print(df_expanded[col].value_counts().head())"
   ]
  },
  {
   "cell_type": "code",
   "execution_count": null,
   "metadata": {
    "ExecuteTime": {
     "end_time": "2020-01-31T17:16:09.726472Z",
     "start_time": "2020-01-31T17:16:01.491977Z"
    }
   },
   "outputs": [],
   "source": [
    "df_expanded.to_csv('cleaned_df.csv', index=False)"
   ]
  },
  {
   "cell_type": "markdown",
   "metadata": {},
   "source": [
    "## Exploratory Data Analysis"
   ]
  },
  {
   "cell_type": "code",
   "execution_count": null,
   "metadata": {
    "ExecuteTime": {
     "end_time": "2020-01-31T23:27:33.236868Z",
     "start_time": "2020-01-31T23:27:30.624993Z"
    },
    "scrolled": false
   },
   "outputs": [],
   "source": [
    "df = pd.read_csv('cleaned_df.csv')\n",
    "df.head()"
   ]
  },
  {
   "cell_type": "code",
   "execution_count": 99,
   "metadata": {
    "ExecuteTime": {
     "end_time": "2020-02-13T01:25:25.265785Z",
     "start_time": "2020-02-13T01:25:24.758213Z"
    },
    "scrolled": false
   },
   "outputs": [
    {
     "data": {
      "text/html": [
       "<div>\n",
       "<style scoped>\n",
       "    .dataframe tbody tr th:only-of-type {\n",
       "        vertical-align: middle;\n",
       "    }\n",
       "\n",
       "    .dataframe tbody tr th {\n",
       "        vertical-align: top;\n",
       "    }\n",
       "\n",
       "    .dataframe thead th {\n",
       "        text-align: right;\n",
       "    }\n",
       "</style>\n",
       "<table border=\"1\" class=\"dataframe\">\n",
       "  <thead>\n",
       "    <tr style=\"text-align: right;\">\n",
       "      <th></th>\n",
       "      <th>visitNumber</th>\n",
       "      <th>hits</th>\n",
       "      <th>pageviews</th>\n",
       "      <th>bounces</th>\n",
       "      <th>newVisits</th>\n",
       "      <th>transactionRevenue</th>\n",
       "      <th>logRevenue</th>\n",
       "    </tr>\n",
       "  </thead>\n",
       "  <tbody>\n",
       "    <tr>\n",
       "      <th>count</th>\n",
       "      <td>903653.000000</td>\n",
       "      <td>903653.000000</td>\n",
       "      <td>903653.000000</td>\n",
       "      <td>903653.000000</td>\n",
       "      <td>903653.000000</td>\n",
       "      <td>9.036530e+05</td>\n",
       "      <td>903653.000000</td>\n",
       "    </tr>\n",
       "    <tr>\n",
       "      <th>mean</th>\n",
       "      <td>2.264897</td>\n",
       "      <td>4.596538</td>\n",
       "      <td>3.849338</td>\n",
       "      <td>0.498676</td>\n",
       "      <td>0.778020</td>\n",
       "      <td>1.704273e+06</td>\n",
       "      <td>0.227118</td>\n",
       "    </tr>\n",
       "    <tr>\n",
       "      <th>std</th>\n",
       "      <td>9.283735</td>\n",
       "      <td>9.641437</td>\n",
       "      <td>7.025002</td>\n",
       "      <td>0.499999</td>\n",
       "      <td>0.415578</td>\n",
       "      <td>5.277866e+07</td>\n",
       "      <td>2.003710</td>\n",
       "    </tr>\n",
       "    <tr>\n",
       "      <th>min</th>\n",
       "      <td>1.000000</td>\n",
       "      <td>1.000000</td>\n",
       "      <td>0.000000</td>\n",
       "      <td>0.000000</td>\n",
       "      <td>0.000000</td>\n",
       "      <td>0.000000e+00</td>\n",
       "      <td>0.000000</td>\n",
       "    </tr>\n",
       "    <tr>\n",
       "      <th>25%</th>\n",
       "      <td>1.000000</td>\n",
       "      <td>1.000000</td>\n",
       "      <td>1.000000</td>\n",
       "      <td>0.000000</td>\n",
       "      <td>1.000000</td>\n",
       "      <td>0.000000e+00</td>\n",
       "      <td>0.000000</td>\n",
       "    </tr>\n",
       "    <tr>\n",
       "      <th>50%</th>\n",
       "      <td>1.000000</td>\n",
       "      <td>2.000000</td>\n",
       "      <td>1.000000</td>\n",
       "      <td>0.000000</td>\n",
       "      <td>1.000000</td>\n",
       "      <td>0.000000e+00</td>\n",
       "      <td>0.000000</td>\n",
       "    </tr>\n",
       "    <tr>\n",
       "      <th>75%</th>\n",
       "      <td>1.000000</td>\n",
       "      <td>4.000000</td>\n",
       "      <td>4.000000</td>\n",
       "      <td>1.000000</td>\n",
       "      <td>1.000000</td>\n",
       "      <td>0.000000e+00</td>\n",
       "      <td>0.000000</td>\n",
       "    </tr>\n",
       "    <tr>\n",
       "      <th>max</th>\n",
       "      <td>395.000000</td>\n",
       "      <td>500.000000</td>\n",
       "      <td>469.000000</td>\n",
       "      <td>1.000000</td>\n",
       "      <td>1.000000</td>\n",
       "      <td>2.312950e+10</td>\n",
       "      <td>23.864375</td>\n",
       "    </tr>\n",
       "  </tbody>\n",
       "</table>\n",
       "</div>"
      ],
      "text/plain": [
       "         visitNumber           hits      pageviews        bounces  \\\n",
       "count  903653.000000  903653.000000  903653.000000  903653.000000   \n",
       "mean        2.264897       4.596538       3.849338       0.498676   \n",
       "std         9.283735       9.641437       7.025002       0.499999   \n",
       "min         1.000000       1.000000       0.000000       0.000000   \n",
       "25%         1.000000       1.000000       1.000000       0.000000   \n",
       "50%         1.000000       2.000000       1.000000       0.000000   \n",
       "75%         1.000000       4.000000       4.000000       1.000000   \n",
       "max       395.000000     500.000000     469.000000       1.000000   \n",
       "\n",
       "           newVisits  transactionRevenue     logRevenue  \n",
       "count  903653.000000        9.036530e+05  903653.000000  \n",
       "mean        0.778020        1.704273e+06       0.227118  \n",
       "std         0.415578        5.277866e+07       2.003710  \n",
       "min         0.000000        0.000000e+00       0.000000  \n",
       "25%         1.000000        0.000000e+00       0.000000  \n",
       "50%         1.000000        0.000000e+00       0.000000  \n",
       "75%         1.000000        0.000000e+00       0.000000  \n",
       "max         1.000000        2.312950e+10      23.864375  "
      ]
     },
     "execution_count": 99,
     "metadata": {},
     "output_type": "execute_result"
    }
   ],
   "source": [
    "df.describe()"
   ]
  },
  {
   "cell_type": "markdown",
   "metadata": {},
   "source": [
    "The dataset is pulled through Google Analytics BigQuery, and according to the BigQuery cookbook, transaction revenue is in USD * 10^6. We'll need to add a negligable amount to each transaction (to avoid dividing by 0) and take the log of the transactionRevenue column before we proceed with data exploration."
   ]
  },
  {
   "cell_type": "code",
   "execution_count": 100,
   "metadata": {
    "ExecuteTime": {
     "end_time": "2020-02-13T01:25:30.492422Z",
     "start_time": "2020-02-13T01:25:30.470776Z"
    },
    "scrolled": true
   },
   "outputs": [],
   "source": [
    "df['logRevenue'] = np.log(df.transactionRevenue+1)"
   ]
  },
  {
   "cell_type": "code",
   "execution_count": 101,
   "metadata": {
    "ExecuteTime": {
     "end_time": "2020-02-13T01:25:31.295934Z",
     "start_time": "2020-02-13T01:25:31.275232Z"
    }
   },
   "outputs": [
    {
     "data": {
      "text/html": [
       "<div>\n",
       "<style scoped>\n",
       "    .dataframe tbody tr th:only-of-type {\n",
       "        vertical-align: middle;\n",
       "    }\n",
       "\n",
       "    .dataframe tbody tr th {\n",
       "        vertical-align: top;\n",
       "    }\n",
       "\n",
       "    .dataframe thead th {\n",
       "        text-align: right;\n",
       "    }\n",
       "</style>\n",
       "<table border=\"1\" class=\"dataframe\">\n",
       "  <thead>\n",
       "    <tr style=\"text-align: right;\">\n",
       "      <th></th>\n",
       "      <th>channelGrouping</th>\n",
       "      <th>date</th>\n",
       "      <th>fullVisitorId</th>\n",
       "      <th>visitNumber</th>\n",
       "      <th>visitStartTime</th>\n",
       "      <th>country</th>\n",
       "      <th>hits</th>\n",
       "      <th>pageviews</th>\n",
       "      <th>bounces</th>\n",
       "      <th>newVisits</th>\n",
       "      <th>transactionRevenue</th>\n",
       "      <th>logRevenue</th>\n",
       "    </tr>\n",
       "  </thead>\n",
       "  <tbody>\n",
       "    <tr>\n",
       "      <th>0</th>\n",
       "      <td>Organic Search</td>\n",
       "      <td>2016-09-02 00:00:00</td>\n",
       "      <td>1131660440785968503</td>\n",
       "      <td>1</td>\n",
       "      <td>2016-09-02 15:33:05</td>\n",
       "      <td>Turkey</td>\n",
       "      <td>1</td>\n",
       "      <td>1</td>\n",
       "      <td>1</td>\n",
       "      <td>1</td>\n",
       "      <td>0.0</td>\n",
       "      <td>0.0</td>\n",
       "    </tr>\n",
       "    <tr>\n",
       "      <th>1</th>\n",
       "      <td>Organic Search</td>\n",
       "      <td>2016-09-02 00:00:00</td>\n",
       "      <td>377306020877927890</td>\n",
       "      <td>1</td>\n",
       "      <td>2016-09-03 05:22:27</td>\n",
       "      <td>Australia</td>\n",
       "      <td>1</td>\n",
       "      <td>1</td>\n",
       "      <td>1</td>\n",
       "      <td>1</td>\n",
       "      <td>0.0</td>\n",
       "      <td>0.0</td>\n",
       "    </tr>\n",
       "    <tr>\n",
       "      <th>2</th>\n",
       "      <td>Organic Search</td>\n",
       "      <td>2016-09-02 00:00:00</td>\n",
       "      <td>3895546263509774583</td>\n",
       "      <td>1</td>\n",
       "      <td>2016-09-03 01:16:26</td>\n",
       "      <td>Spain</td>\n",
       "      <td>1</td>\n",
       "      <td>1</td>\n",
       "      <td>1</td>\n",
       "      <td>1</td>\n",
       "      <td>0.0</td>\n",
       "      <td>0.0</td>\n",
       "    </tr>\n",
       "    <tr>\n",
       "      <th>3</th>\n",
       "      <td>Organic Search</td>\n",
       "      <td>2016-09-02 00:00:00</td>\n",
       "      <td>4763447161404445595</td>\n",
       "      <td>1</td>\n",
       "      <td>2016-09-03 05:40:13</td>\n",
       "      <td>Indonesia</td>\n",
       "      <td>1</td>\n",
       "      <td>1</td>\n",
       "      <td>1</td>\n",
       "      <td>1</td>\n",
       "      <td>0.0</td>\n",
       "      <td>0.0</td>\n",
       "    </tr>\n",
       "    <tr>\n",
       "      <th>4</th>\n",
       "      <td>Organic Search</td>\n",
       "      <td>2016-09-02 00:00:00</td>\n",
       "      <td>27294437909732085</td>\n",
       "      <td>2</td>\n",
       "      <td>2016-09-02 13:23:20</td>\n",
       "      <td>United Kingdom</td>\n",
       "      <td>1</td>\n",
       "      <td>1</td>\n",
       "      <td>1</td>\n",
       "      <td>0</td>\n",
       "      <td>0.0</td>\n",
       "      <td>0.0</td>\n",
       "    </tr>\n",
       "  </tbody>\n",
       "</table>\n",
       "</div>"
      ],
      "text/plain": [
       "  channelGrouping                 date        fullVisitorId  visitNumber  \\\n",
       "0  Organic Search  2016-09-02 00:00:00  1131660440785968503            1   \n",
       "1  Organic Search  2016-09-02 00:00:00   377306020877927890            1   \n",
       "2  Organic Search  2016-09-02 00:00:00  3895546263509774583            1   \n",
       "3  Organic Search  2016-09-02 00:00:00  4763447161404445595            1   \n",
       "4  Organic Search  2016-09-02 00:00:00    27294437909732085            2   \n",
       "\n",
       "        visitStartTime         country  hits  pageviews  bounces  newVisits  \\\n",
       "0  2016-09-02 15:33:05          Turkey     1          1        1          1   \n",
       "1  2016-09-03 05:22:27       Australia     1          1        1          1   \n",
       "2  2016-09-03 01:16:26           Spain     1          1        1          1   \n",
       "3  2016-09-03 05:40:13       Indonesia     1          1        1          1   \n",
       "4  2016-09-02 13:23:20  United Kingdom     1          1        1          0   \n",
       "\n",
       "   transactionRevenue  logRevenue  \n",
       "0                 0.0         0.0  \n",
       "1                 0.0         0.0  \n",
       "2                 0.0         0.0  \n",
       "3                 0.0         0.0  \n",
       "4                 0.0         0.0  "
      ]
     },
     "execution_count": 101,
     "metadata": {},
     "output_type": "execute_result"
    }
   ],
   "source": [
    "df.head()"
   ]
  },
  {
   "cell_type": "code",
   "execution_count": 102,
   "metadata": {
    "ExecuteTime": {
     "end_time": "2020-02-13T01:25:32.242371Z",
     "start_time": "2020-02-13T01:25:32.014750Z"
    },
    "scrolled": false
   },
   "outputs": [
    {
     "name": "stdout",
     "output_type": "stream",
     "text": [
      "Our timeline begins:  2016-08-01 07:00:12 and ends:  2017-08-02 06:59:53\n",
      "11515 customers made purchases during that time period totalling 205236.02\n"
     ]
    }
   ],
   "source": [
    "purchase_df = df.loc[df.transactionRevenue > 0.0]\n",
    "\n",
    "print('Our timeline begins: ', df.visitStartTime.min(), 'and ends: ', df.visitStartTime.max())\n",
    "print(f'{len(purchase_df)} customers made purchases during that time period totalling {round(purchase_df.logRevenue.sum(),2)}')\n"
   ]
  },
  {
   "cell_type": "markdown",
   "metadata": {},
   "source": [
    "The vast majority of visits to the Google Merch Store did NOT yield purchases."
   ]
  },
  {
   "cell_type": "code",
   "execution_count": 103,
   "metadata": {
    "ExecuteTime": {
     "end_time": "2020-02-13T01:25:33.470769Z",
     "start_time": "2020-02-13T01:25:33.462766Z"
    }
   },
   "outputs": [
    {
     "data": {
      "text/plain": [
       "23.86"
      ]
     },
     "execution_count": 103,
     "metadata": {},
     "output_type": "execute_result"
    }
   ],
   "source": [
    "round(purchase_df.logRevenue.max(),2)"
   ]
  },
  {
   "cell_type": "code",
   "execution_count": 112,
   "metadata": {
    "ExecuteTime": {
     "end_time": "2020-02-13T01:29:28.608381Z",
     "start_time": "2020-02-13T01:29:27.542804Z"
    }
   },
   "outputs": [
    {
     "data": {
      "image/png": "[encoded data removed]",
      "text/plain": [
       "<Figure size 936x288 with 2 Axes>"
      ]
     },
     "metadata": {
      "needs_background": "light"
     },
     "output_type": "display_data"
    }
   ],
   "source": [
    "fig = plt.subplots(figsize=(13, 4))\n",
    "plt.tight_layout()\n",
    "\n",
    "plt.subplot(1, 2, 1)\n",
    "sns.distplot(purchase_df.logRevenue)\n",
    "plt.title(f\"Distribution of Revenue (only purchases)\")\n",
    "\n",
    "plt.subplot(1, 2, 2)\n",
    "sns.distplot(df.logRevenue)\n",
    "plt.title(f\"Distribution of Revenue (including no purchase)\");"
   ]
  },
  {
   "cell_type": "code",
   "execution_count": null,
   "metadata": {
    "ExecuteTime": {
     "end_time": "2020-01-31T23:27:46.676873Z",
     "start_time": "2020-01-31T23:27:35.377108Z"
    },
    "scrolled": false
   },
   "outputs": [],
   "source": [
    "plt.subplots(figsize=(15,8))\n",
    "\n",
    "plt.subplot(1,2,1)\n",
    "sns.violinplot(x='logRevenue', y='channelGrouping', data=purchase_df)\n",
    "plt.title('Distribution of Purchase Revenue by Channel')\n",
    "\n",
    "plt.subplot(1,2,2)\n",
    "sns.violinplot(x='logRevenue', y='channelGrouping', data=df)\n",
    "plt.title('Distribution of Purchase Revenue by Channel, including no purchase')\n",
    "\n",
    "plt.tight_layout();"
   ]
  },
  {
   "cell_type": "code",
   "execution_count": null,
   "metadata": {
    "ExecuteTime": {
     "end_time": "2020-01-31T23:27:47.246411Z",
     "start_time": "2020-01-31T23:27:46.681524Z"
    }
   },
   "outputs": [],
   "source": [
    "df.date = pd.to_datetime(df.date)"
   ]
  },
  {
   "cell_type": "code",
   "execution_count": null,
   "metadata": {
    "ExecuteTime": {
     "end_time": "2020-01-31T23:27:47.350091Z",
     "start_time": "2020-01-31T23:27:47.249002Z"
    }
   },
   "outputs": [],
   "source": [
    "time_df = df.groupby(by=['date']).agg({'fullVisitorId':'count', 'transactionRevenue':'sum'})"
   ]
  },
  {
   "cell_type": "code",
   "execution_count": null,
   "metadata": {
    "ExecuteTime": {
     "end_time": "2020-01-31T23:27:47.962861Z",
     "start_time": "2020-01-31T23:27:47.352500Z"
    }
   },
   "outputs": [],
   "source": [
    "plt.figure(figsize=(15,8))\n",
    "\n",
    "plt.subplot(2,1,1)\n",
    "plt.plot(time_df.index,time_df['transactionRevenue'])\n",
    "plt.ylabel('Revenue')\n",
    "\n",
    "plt.subplot(2,1,2)\n",
    "plt.plot(time_df.index,time_df['fullVisitorId'])\n",
    "plt.ylabel('Visits');"
   ]
  },
  {
   "cell_type": "code",
   "execution_count": null,
   "metadata": {
    "ExecuteTime": {
     "end_time": "2020-01-31T23:27:48.108196Z",
     "start_time": "2020-01-31T23:27:47.966520Z"
    }
   },
   "outputs": [],
   "source": [
    "country_df = df.groupby(by=['country']).agg({'fullVisitorId':'count', 'transactionRevenue':'sum'})"
   ]
  },
  {
   "cell_type": "code",
   "execution_count": null,
   "metadata": {
    "ExecuteTime": {
     "end_time": "2020-01-31T23:38:38.527717Z",
     "start_time": "2020-01-31T23:38:38.520996Z"
    }
   },
   "outputs": [],
   "source": [
    "top_ten_by_rev = country_df.sort_values('transactionRevenue', ascending=False).head(10)\n",
    "top_ten_by_count = country_df.sort_values('fullVisitorId', ascending=False).head(10)"
   ]
  },
  {
   "cell_type": "code",
   "execution_count": null,
   "metadata": {
    "ExecuteTime": {
     "end_time": "2020-01-31T23:50:05.088441Z",
     "start_time": "2020-01-31T23:50:04.579557Z"
    },
    "scrolled": false
   },
   "outputs": [],
   "source": [
    "plt.figure(figsize=(14,6))\n",
    "\n",
    "plt.subplot(1,2,1)\n",
    "plt.bar(top_ten_by_rev.index,np.log(top_ten_by_rev['transactionRevenue']))\n",
    "plt.title('Top Ten Countries by Revenue')\n",
    "plt.ylabel('Revenue (log)')\n",
    "plt.xticks(rotation=45)\n",
    "\n",
    "plt.subplot(1,2,2)\n",
    "plt.bar(top_ten_by_count.index,np.log(top_ten_by_count['fullVisitorId']))\n",
    "plt.title('Top Ten Countries by Order Count')\n",
    "plt.ylabel('Order Count')\n",
    "plt.xticks(rotation=45);"
   ]
  },
  {
   "cell_type": "code",
   "execution_count": null,
   "metadata": {
    "ExecuteTime": {
     "end_time": "2020-02-01T00:13:08.781771Z",
     "start_time": "2020-02-01T00:13:08.751692Z"
    }
   },
   "outputs": [],
   "source": [
    "customer_df = purchase_df.groupby(by=['fullVisitorId']).agg({'visitNumber':'count', 'transactionRevenue':'sum'})"
   ]
  },
  {
   "cell_type": "code",
   "execution_count": null,
   "metadata": {
    "ExecuteTime": {
     "end_time": "2020-02-01T00:13:08.996178Z",
     "start_time": "2020-02-01T00:13:08.987381Z"
    }
   },
   "outputs": [],
   "source": [
    "customer_df = customer_df.loc[customer_df['visitNumber'] >1]"
   ]
  },
  {
   "cell_type": "code",
   "execution_count": null,
   "metadata": {
    "ExecuteTime": {
     "end_time": "2020-02-01T00:19:18.451340Z",
     "start_time": "2020-02-01T00:19:18.445164Z"
    }
   },
   "outputs": [],
   "source": [
    "print(f'{len(customer_df)} out of {len(purchase_df)} customers have made repeat purchases. ({round((len(customer_df)/len(purchase_df))*100)}% of customers)')"
   ]
  },
  {
   "cell_type": "code",
   "execution_count": null,
   "metadata": {
    "ExecuteTime": {
     "end_time": "2020-02-01T00:14:14.507456Z",
     "start_time": "2020-02-01T00:14:14.502199Z"
    },
    "scrolled": false
   },
   "outputs": [],
   "source": [
    "print(f'The most orders made by a single customer: {customer_df.visitNumber.max()}')"
   ]
  },
  {
   "cell_type": "markdown",
   "metadata": {},
   "source": [
    "## Market Segmentation and the RFM Model"
   ]
  },
  {
   "cell_type": "markdown",
   "metadata": {},
   "source": [
    "In marketing, customer segmentation is the gold standard. As you understand your customers with precise detail, the more genuine your marketing rhetoric will come across. Generally, there are four ways to segment your consumer base: \n",
    "\n",
    " - Demographic\n",
    " - Geographic\n",
    " - Psychographic\n",
    " - Behavioral\n",
    " \n",
    "In order to supplement the web data we have from the Google Merchandise Store, we'll engineer a few features in order to 'score' each customer based on the RFM model. This technique takes the recency (R) of the last purchase, the frequency (F) of all purchases, and the monetary value (M) defined by the revenue of each customer. "
   ]
  },
  {
   "cell_type": "markdown",
   "metadata": {},
   "source": [
    "<img src=\"RFM.png\">"
   ]
  },
  {
   "cell_type": "markdown",
   "metadata": {},
   "source": [
    "Further down, we'll be using the sklearn's KMeans clustering algorithm to segment the customers. Depending on the busines objective, of which we don't have, we could have a set amount of segments to identify. For our purposes in this notebook, we'll try a technique to identify the optimal number of segments by finding the lowest sum of squared errors. \n",
    " \n",
    "*It's worth it to note that the data may NOT have identifiable clusters. Work with the data you have and make decisions that best suit the stakeholder's needs while not looking for information that isn't there."
   ]
  },
  {
   "cell_type": "code",
   "execution_count": 3,
   "metadata": {
    "ExecuteTime": {
     "end_time": "2020-02-13T00:12:19.452540Z",
     "start_time": "2020-02-13T00:12:15.928115Z"
    }
   },
   "outputs": [],
   "source": [
    "# Importing cleaned dataset\n",
    "df = pd.read_csv('cleaned_df.csv')\n",
    "df.fullVisitorId = df.fullVisitorId.astype(str)\n",
    "df['logRevenue'] = np.log(df.transactionRevenue+1)"
   ]
  },
  {
   "cell_type": "code",
   "execution_count": 51,
   "metadata": {
    "ExecuteTime": {
     "end_time": "2020-02-13T00:52:13.122042Z",
     "start_time": "2020-02-13T00:52:13.112928Z"
    }
   },
   "outputs": [],
   "source": [
    "\n",
    "def RFM_dataframe(customer_col, purchase_date_col, revenue_col, df):\n",
    "    '''\n",
    "    This function takes in a previously cleaned\n",
    "    dataframe and the column names for customers, \n",
    "    purchase dates, and revenue as strings.\n",
    "    Returns dataframe with two engineerd columns: \n",
    "    recency, and frequency, as well as a cumulative\n",
    "    revenue total for each unique\n",
    "    visitor to the Google Merch Store.\n",
    "    '''\n",
    "    \n",
    "    # Select only unique customer IDs\n",
    "    cust_df = df.groupby(customer_col)\n",
    "    cust_df = pd.DataFrame(df[customer_col].unique(), columns=[customer_col])\n",
    "    cust_df[customer_col].astype(str)\n",
    "    \n",
    "    # Create Dataframe of unique visitors and most recent visit to site\n",
    "    df_recency = df.groupby(customer_col)[purchase_date_col].max().reset_index()\n",
    "    df_recency.columns = [customer_col,purchase_date_col]\n",
    "    df_recency[purchase_date_col] = pd.to_datetime(df_recency[purchase_date_col])\n",
    "    df_recency['Recency'] = (df_recency[purchase_date_col].max() - df_recency[purchase_date_col]).dt.days\n",
    "    df_recency = df_recency.drop(purchase_date_col, axis=1)\n",
    "    df_recency['Recency'].astype('int')\n",
    "    \n",
    "    # Get visit counts for each user and create dataframe\n",
    "    df_frequency = df.groupby(customer_col)[purchase_date_col].count().reset_index()\n",
    "    df_frequency.columns = [customer_col,'Frequency']\n",
    "    \n",
    "    # Get total order revenue for each unique visitor \n",
    "    df_revenue = df.groupby(customer_col)[revenue_col].sum().reset_index()\n",
    "    \n",
    "    # Merge data\n",
    "    \n",
    "    dfs = [df_frequency, df_recency, df_revenue]\n",
    "    \n",
    "    for e in dfs:\n",
    "        cust_df = pd.merge(cust_df, e, on=customer_col)\n",
    "        \n",
    "    return cust_df"
   ]
  },
  {
   "cell_type": "markdown",
   "metadata": {},
   "source": [
    "Above is a nifty function I created to take our cleaned dataset and engineer the necessary features for segmentation and returns a new dataframe with only the necessary features needed to segment customers using the RFM model."
   ]
  },
  {
   "cell_type": "code",
   "execution_count": 6,
   "metadata": {
    "ExecuteTime": {
     "end_time": "2020-02-13T00:13:57.198188Z",
     "start_time": "2020-02-13T00:12:19.526326Z"
    }
   },
   "outputs": [],
   "source": [
    "cust_df = RFM_dataframe(df)"
   ]
  },
  {
   "cell_type": "code",
   "execution_count": 129,
   "metadata": {
    "ExecuteTime": {
     "end_time": "2020-02-13T01:48:08.525335Z",
     "start_time": "2020-02-13T01:48:08.510971Z"
    },
    "scrolled": false
   },
   "outputs": [
    {
     "data": {
      "text/html": [
       "<div>\n",
       "<style scoped>\n",
       "    .dataframe tbody tr th:only-of-type {\n",
       "        vertical-align: middle;\n",
       "    }\n",
       "\n",
       "    .dataframe tbody tr th {\n",
       "        vertical-align: top;\n",
       "    }\n",
       "\n",
       "    .dataframe thead th {\n",
       "        text-align: right;\n",
       "    }\n",
       "</style>\n",
       "<table border=\"1\" class=\"dataframe\">\n",
       "  <thead>\n",
       "    <tr style=\"text-align: right;\">\n",
       "      <th></th>\n",
       "      <th>fullVisitorId</th>\n",
       "      <th>Frequency</th>\n",
       "      <th>Recency</th>\n",
       "      <th>logRevenue</th>\n",
       "    </tr>\n",
       "  </thead>\n",
       "  <tbody>\n",
       "    <tr>\n",
       "      <th>0</th>\n",
       "      <td>1131660440785968503</td>\n",
       "      <td>1</td>\n",
       "      <td>333</td>\n",
       "      <td>0.0</td>\n",
       "    </tr>\n",
       "    <tr>\n",
       "      <th>1</th>\n",
       "      <td>377306020877927890</td>\n",
       "      <td>1</td>\n",
       "      <td>333</td>\n",
       "      <td>0.0</td>\n",
       "    </tr>\n",
       "    <tr>\n",
       "      <th>2</th>\n",
       "      <td>3895546263509774583</td>\n",
       "      <td>1</td>\n",
       "      <td>333</td>\n",
       "      <td>0.0</td>\n",
       "    </tr>\n",
       "    <tr>\n",
       "      <th>3</th>\n",
       "      <td>4763447161404445595</td>\n",
       "      <td>1</td>\n",
       "      <td>333</td>\n",
       "      <td>0.0</td>\n",
       "    </tr>\n",
       "    <tr>\n",
       "      <th>4</th>\n",
       "      <td>27294437909732085</td>\n",
       "      <td>2</td>\n",
       "      <td>333</td>\n",
       "      <td>0.0</td>\n",
       "    </tr>\n",
       "  </tbody>\n",
       "</table>\n",
       "</div>"
      ],
      "text/plain": [
       "         fullVisitorId  Frequency  Recency  logRevenue\n",
       "0  1131660440785968503          1      333         0.0\n",
       "1   377306020877927890          1      333         0.0\n",
       "2  3895546263509774583          1      333         0.0\n",
       "3  4763447161404445595          1      333         0.0\n",
       "4    27294437909732085          2      333         0.0"
      ]
     },
     "execution_count": 129,
     "metadata": {},
     "output_type": "execute_result"
    }
   ],
   "source": [
    "cust_df.head()"
   ]
  },
  {
   "cell_type": "markdown",
   "metadata": {},
   "source": [
    "Without assuming Google's marketing plan, I've decided to segment only those who have previously purchased. It may be beneficial to dive deeper into the behaviors of those who have not made purchases such as number of pages visited, pages on which they bounced, etc. so that you might improve your chances of them completing purchases online."
   ]
  },
  {
   "cell_type": "code",
   "execution_count": 173,
   "metadata": {
    "ExecuteTime": {
     "end_time": "2020-02-13T02:10:29.784322Z",
     "start_time": "2020-02-13T02:10:29.774279Z"
    }
   },
   "outputs": [],
   "source": [
    "purchases = cust_df.loc[cust_df.logRevenue >0]"
   ]
  },
  {
   "cell_type": "markdown",
   "metadata": {},
   "source": [
    "As we saw earlier, the data was very skewed, so we'll take the natural log of our other two features to normalize."
   ]
  },
  {
   "cell_type": "code",
   "execution_count": 174,
   "metadata": {
    "ExecuteTime": {
     "end_time": "2020-02-13T02:10:31.330920Z",
     "start_time": "2020-02-13T02:10:31.021641Z"
    }
   },
   "outputs": [],
   "source": [
    "purchases['Recency'] = np.log(purchases['Recency']+1)\n",
    "purchases['Frequency'] = np.log(purchases['Frequency']+1)"
   ]
  },
  {
   "cell_type": "markdown",
   "metadata": {},
   "source": [
    "Now that our data is ready to cluster, we'll test a few cluster levels and compare the sum of squared errors in an elbow plot to identify the best level to cluster each feature individually."
   ]
  },
  {
   "cell_type": "code",
   "execution_count": 175,
   "metadata": {
    "ExecuteTime": {
     "end_time": "2020-02-13T02:10:33.150055Z",
     "start_time": "2020-02-13T02:10:33.142220Z"
    },
    "scrolled": true
   },
   "outputs": [],
   "source": [
    "\n",
    "def SSE_plot(df, col_to_plot=False):\n",
    "    '''\n",
    "    This function takes in one column of\n",
    "    the RFM dataframe as a string\n",
    "    and will plot a KMeans elbow plot of the \n",
    "    sum of squared estimate. Where the elbow\n",
    "    bends will determine how many clusters are\n",
    "    optimal for the Kmeans clustering.\n",
    "    '''\n",
    "    sse={}\n",
    "    if col_to_plot:\n",
    "        km_var = df[[col_to_plot]].copy()\n",
    "    else:\n",
    "        km_var = df.copy()\n",
    "    for k in range(1, 10):\n",
    "        kmeans = KMeans(n_clusters=k, max_iter=1000).fit(km_var)\n",
    "        km_var[\"clusters\"] = kmeans.labels_\n",
    "        sse[k] = kmeans.inertia_ \n",
    "    plt.figure()\n",
    "    plt.plot(list(sse.keys()), list(sse.values()))\n",
    "    plt.xlabel(\"Number of cluster\")\n",
    "#     plt.title(str(km_var))\n",
    "    plt.show();\n",
    "    "
   ]
  },
  {
   "cell_type": "code",
   "execution_count": 176,
   "metadata": {
    "ExecuteTime": {
     "end_time": "2020-02-13T02:10:37.515673Z",
     "start_time": "2020-02-13T02:10:33.997490Z"
    },
    "scrolled": false
   },
   "outputs": [
    {
     "name": "stdout",
     "output_type": "stream",
     "text": [
      "Frequency\n"
     ]
    },
    {
     "data": {
      "image/png": "[encoded data removed]",
      "text/plain": [
       "<Figure size 432x288 with 1 Axes>"
      ]
     },
     "metadata": {
      "needs_background": "light"
     },
     "output_type": "display_data"
    },
    {
     "name": "stdout",
     "output_type": "stream",
     "text": [
      "Recency\n"
     ]
    },
    {
     "data": {
      "image/png": "[encoded data removed]",
      "text/plain": [
       "<Figure size 432x288 with 1 Axes>"
      ]
     },
     "metadata": {
      "needs_background": "light"
     },
     "output_type": "display_data"
    },
    {
     "name": "stdout",
     "output_type": "stream",
     "text": [
      "logRevenue\n"
     ]
    },
    {
     "data": {
      "image/png": "[encoded data removed]",
      "text/plain": [
       "<Figure size 432x288 with 1 Axes>"
      ]
     },
     "metadata": {
      "needs_background": "light"
     },
     "output_type": "display_data"
    }
   ],
   "source": [
    "%matplotlib inline\n",
    "for col in ['Frequency', 'Recency', 'logRevenue']:\n",
    "    print(col)\n",
    "    SSE_plot(purchases, col)"
   ]
  },
  {
   "cell_type": "code",
   "execution_count": 177,
   "metadata": {
    "ExecuteTime": {
     "end_time": "2020-02-13T02:10:37.533989Z",
     "start_time": "2020-02-13T02:10:37.526131Z"
    }
   },
   "outputs": [],
   "source": [
    "\n",
    "def order_cluster(cluster_col, feature_col, df, ascending):\n",
    "    '''\n",
    "    This function takes in a column of cluster\n",
    "    assignments and features used to assign the \n",
    "    cluster as strings, dataframe in which clusters\n",
    "    are featured, and ascending argument. Returns \n",
    "    dataframe with clusters ordered from worst to best.\n",
    "    '''\n",
    "    \n",
    "    df_new = df.groupby(cluster_col)[feature_col].mean().reset_index()\n",
    "    df_new = df_new.sort_values(by=feature_col,ascending=ascending).reset_index(drop=True)\n",
    "    df_new['index'] = df_new.index\n",
    "    df_final = pd.merge(df,df_new[[cluster_col,'index']], on=cluster_col)\n",
    "    df_final = df_final.drop([cluster_col],axis=1)\n",
    "    df_final = df_final.rename(columns={\"index\":cluster_col})\n",
    "    return df_final"
   ]
  },
  {
   "cell_type": "markdown",
   "metadata": {},
   "source": [
    "Below, we'll cluster based on the number identified by the SSE plots. We'll use the function above to order the clusters from worst to best and view basic statistics of each feature's cluster."
   ]
  },
  {
   "cell_type": "code",
   "execution_count": 182,
   "metadata": {
    "ExecuteTime": {
     "end_time": "2020-02-13T02:11:29.249944Z",
     "start_time": "2020-02-13T02:11:29.026087Z"
    },
    "scrolled": true
   },
   "outputs": [
    {
     "data": {
      "text/html": [
       "<div>\n",
       "<style scoped>\n",
       "    .dataframe tbody tr th:only-of-type {\n",
       "        vertical-align: middle;\n",
       "    }\n",
       "\n",
       "    .dataframe tbody tr th {\n",
       "        vertical-align: top;\n",
       "    }\n",
       "\n",
       "    .dataframe thead th {\n",
       "        text-align: right;\n",
       "    }\n",
       "</style>\n",
       "<table border=\"1\" class=\"dataframe\">\n",
       "  <thead>\n",
       "    <tr style=\"text-align: right;\">\n",
       "      <th></th>\n",
       "      <th>count</th>\n",
       "      <th>mean</th>\n",
       "      <th>std</th>\n",
       "      <th>min</th>\n",
       "      <th>25%</th>\n",
       "      <th>50%</th>\n",
       "      <th>75%</th>\n",
       "      <th>max</th>\n",
       "    </tr>\n",
       "    <tr>\n",
       "      <th>FrequencyCluster</th>\n",
       "      <th></th>\n",
       "      <th></th>\n",
       "      <th></th>\n",
       "      <th></th>\n",
       "      <th></th>\n",
       "      <th></th>\n",
       "      <th></th>\n",
       "      <th></th>\n",
       "    </tr>\n",
       "  </thead>\n",
       "  <tbody>\n",
       "    <tr>\n",
       "      <th>0</th>\n",
       "      <td>3232.0</td>\n",
       "      <td>0.693147</td>\n",
       "      <td>1.110395e-16</td>\n",
       "      <td>0.693147</td>\n",
       "      <td>0.693147</td>\n",
       "      <td>0.693147</td>\n",
       "      <td>0.693147</td>\n",
       "      <td>0.693147</td>\n",
       "    </tr>\n",
       "    <tr>\n",
       "      <th>1</th>\n",
       "      <td>3732.0</td>\n",
       "      <td>1.210694</td>\n",
       "      <td>1.403099e-01</td>\n",
       "      <td>1.098612</td>\n",
       "      <td>1.098612</td>\n",
       "      <td>1.098612</td>\n",
       "      <td>1.386294</td>\n",
       "      <td>1.386294</td>\n",
       "    </tr>\n",
       "    <tr>\n",
       "      <th>2</th>\n",
       "      <td>2396.0</td>\n",
       "      <td>1.813461</td>\n",
       "      <td>1.990027e-01</td>\n",
       "      <td>1.609438</td>\n",
       "      <td>1.609438</td>\n",
       "      <td>1.791759</td>\n",
       "      <td>1.945910</td>\n",
       "      <td>2.197225</td>\n",
       "    </tr>\n",
       "    <tr>\n",
       "      <th>3</th>\n",
       "      <td>670.0</td>\n",
       "      <td>2.684826</td>\n",
       "      <td>4.425648e-01</td>\n",
       "      <td>2.302585</td>\n",
       "      <td>2.397895</td>\n",
       "      <td>2.564949</td>\n",
       "      <td>2.890372</td>\n",
       "      <td>5.631212</td>\n",
       "    </tr>\n",
       "  </tbody>\n",
       "</table>\n",
       "</div>"
      ],
      "text/plain": [
       "                   count      mean           std       min       25%  \\\n",
       "FrequencyCluster                                                       \n",
       "0                 3232.0  0.693147  1.110395e-16  0.693147  0.693147   \n",
       "1                 3732.0  1.210694  1.403099e-01  1.098612  1.098612   \n",
       "2                 2396.0  1.813461  1.990027e-01  1.609438  1.609438   \n",
       "3                  670.0  2.684826  4.425648e-01  2.302585  2.397895   \n",
       "\n",
       "                       50%       75%       max  \n",
       "FrequencyCluster                                \n",
       "0                 0.693147  0.693147  0.693147  \n",
       "1                 1.098612  1.386294  1.386294  \n",
       "2                 1.791759  1.945910  2.197225  \n",
       "3                 2.564949  2.890372  5.631212  "
      ]
     },
     "execution_count": 182,
     "metadata": {},
     "output_type": "execute_result"
    }
   ],
   "source": [
    "frequency_kmeans = KMeans(n_clusters=4)\n",
    "frequency_kmeans.fit(purchases[['Frequency']])\n",
    "\n",
    "# Assigning cluster prediction to customers\n",
    "purchases['FrequencyCluster'] = frequency_kmeans.predict(purchases[['Frequency']])\n",
    "\n",
    "# Ordering clusters from low to high and identifying statistics\n",
    "purchases = order_cluster('FrequencyCluster', 'Frequency',purchases,True)\n",
    "purchases.groupby('FrequencyCluster')['Frequency'].describe()"
   ]
  },
  {
   "cell_type": "code",
   "execution_count": 187,
   "metadata": {
    "ExecuteTime": {
     "end_time": "2020-02-13T02:37:57.802595Z",
     "start_time": "2020-02-13T02:37:57.554492Z"
    },
    "cell_style": "center"
   },
   "outputs": [
    {
     "data": {
      "text/html": [
       "<div>\n",
       "<style scoped>\n",
       "    .dataframe tbody tr th:only-of-type {\n",
       "        vertical-align: middle;\n",
       "    }\n",
       "\n",
       "    .dataframe tbody tr th {\n",
       "        vertical-align: top;\n",
       "    }\n",
       "\n",
       "    .dataframe thead th {\n",
       "        text-align: right;\n",
       "    }\n",
       "</style>\n",
       "<table border=\"1\" class=\"dataframe\">\n",
       "  <thead>\n",
       "    <tr style=\"text-align: right;\">\n",
       "      <th></th>\n",
       "      <th>count</th>\n",
       "      <th>mean</th>\n",
       "      <th>std</th>\n",
       "      <th>min</th>\n",
       "      <th>25%</th>\n",
       "      <th>50%</th>\n",
       "      <th>75%</th>\n",
       "      <th>max</th>\n",
       "    </tr>\n",
       "    <tr>\n",
       "      <th>RecencyCluster</th>\n",
       "      <th></th>\n",
       "      <th></th>\n",
       "      <th></th>\n",
       "      <th></th>\n",
       "      <th></th>\n",
       "      <th></th>\n",
       "      <th></th>\n",
       "      <th></th>\n",
       "    </tr>\n",
       "  </thead>\n",
       "  <tbody>\n",
       "    <tr>\n",
       "      <th>0</th>\n",
       "      <td>5520.0</td>\n",
       "      <td>5.525373</td>\n",
       "      <td>0.240259</td>\n",
       "      <td>5.017280</td>\n",
       "      <td>5.356586</td>\n",
       "      <td>5.513429</td>\n",
       "      <td>5.736572</td>\n",
       "      <td>5.902633</td>\n",
       "    </tr>\n",
       "    <tr>\n",
       "      <th>1</th>\n",
       "      <td>2907.0</td>\n",
       "      <td>4.505547</td>\n",
       "      <td>0.324144</td>\n",
       "      <td>3.828641</td>\n",
       "      <td>4.276666</td>\n",
       "      <td>4.532599</td>\n",
       "      <td>4.779123</td>\n",
       "      <td>5.010635</td>\n",
       "    </tr>\n",
       "    <tr>\n",
       "      <th>2</th>\n",
       "      <td>1174.0</td>\n",
       "      <td>3.134230</td>\n",
       "      <td>0.457627</td>\n",
       "      <td>2.197225</td>\n",
       "      <td>2.772589</td>\n",
       "      <td>3.135494</td>\n",
       "      <td>3.555348</td>\n",
       "      <td>3.806662</td>\n",
       "    </tr>\n",
       "    <tr>\n",
       "      <th>3</th>\n",
       "      <td>429.0</td>\n",
       "      <td>1.169868</td>\n",
       "      <td>0.727823</td>\n",
       "      <td>0.000000</td>\n",
       "      <td>0.693147</td>\n",
       "      <td>1.386294</td>\n",
       "      <td>1.791759</td>\n",
       "      <td>2.079442</td>\n",
       "    </tr>\n",
       "  </tbody>\n",
       "</table>\n",
       "</div>"
      ],
      "text/plain": [
       "                 count      mean       std       min       25%       50%  \\\n",
       "RecencyCluster                                                             \n",
       "0               5520.0  5.525373  0.240259  5.017280  5.356586  5.513429   \n",
       "1               2907.0  4.505547  0.324144  3.828641  4.276666  4.532599   \n",
       "2               1174.0  3.134230  0.457627  2.197225  2.772589  3.135494   \n",
       "3                429.0  1.169868  0.727823  0.000000  0.693147  1.386294   \n",
       "\n",
       "                     75%       max  \n",
       "RecencyCluster                      \n",
       "0               5.736572  5.902633  \n",
       "1               4.779123  5.010635  \n",
       "2               3.555348  3.806662  \n",
       "3               1.791759  2.079442  "
      ]
     },
     "execution_count": 187,
     "metadata": {},
     "output_type": "execute_result"
    }
   ],
   "source": [
    "recency_kmeans = KMeans(n_clusters=4)\n",
    "recency_kmeans.fit(purchases[['Recency']])\n",
    "\n",
    "# Assigning cluster prediction to customers\n",
    "purchases['RecencyCluster'] = recency_kmeans.predict(purchases[['Recency']])\n",
    "\n",
    "# Ordering clusters from low to high and identifying statistics\n",
    "purchases = order_cluster('RecencyCluster', 'Recency',purchases,False)\n",
    "purchases.groupby('RecencyCluster')['Recency'].describe()"
   ]
  },
  {
   "cell_type": "code",
   "execution_count": 184,
   "metadata": {
    "ExecuteTime": {
     "end_time": "2020-02-13T02:11:43.949088Z",
     "start_time": "2020-02-13T02:11:43.746352Z"
    },
    "scrolled": false
   },
   "outputs": [
    {
     "data": {
      "text/html": [
       "<div>\n",
       "<style scoped>\n",
       "    .dataframe tbody tr th:only-of-type {\n",
       "        vertical-align: middle;\n",
       "    }\n",
       "\n",
       "    .dataframe tbody tr th {\n",
       "        vertical-align: top;\n",
       "    }\n",
       "\n",
       "    .dataframe thead th {\n",
       "        text-align: right;\n",
       "    }\n",
       "</style>\n",
       "<table border=\"1\" class=\"dataframe\">\n",
       "  <thead>\n",
       "    <tr style=\"text-align: right;\">\n",
       "      <th></th>\n",
       "      <th>count</th>\n",
       "      <th>mean</th>\n",
       "      <th>std</th>\n",
       "      <th>min</th>\n",
       "      <th>25%</th>\n",
       "      <th>50%</th>\n",
       "      <th>75%</th>\n",
       "      <th>max</th>\n",
       "    </tr>\n",
       "    <tr>\n",
       "      <th>RevenueCluster</th>\n",
       "      <th></th>\n",
       "      <th></th>\n",
       "      <th></th>\n",
       "      <th></th>\n",
       "      <th></th>\n",
       "      <th></th>\n",
       "      <th></th>\n",
       "      <th></th>\n",
       "    </tr>\n",
       "  </thead>\n",
       "  <tbody>\n",
       "    <tr>\n",
       "      <th>0</th>\n",
       "      <td>9084.0</td>\n",
       "      <td>17.679047</td>\n",
       "      <td>1.134271</td>\n",
       "      <td>9.210440</td>\n",
       "      <td>16.906098</td>\n",
       "      <td>17.599246</td>\n",
       "      <td>18.326425</td>\n",
       "      <td>27.995666</td>\n",
       "    </tr>\n",
       "    <tr>\n",
       "      <th>1</th>\n",
       "      <td>847.0</td>\n",
       "      <td>39.486561</td>\n",
       "      <td>7.473095</td>\n",
       "      <td>30.886037</td>\n",
       "      <td>35.073167</td>\n",
       "      <td>36.687241</td>\n",
       "      <td>39.152788</td>\n",
       "      <td>65.669430</td>\n",
       "    </tr>\n",
       "    <tr>\n",
       "      <th>2</th>\n",
       "      <td>87.0</td>\n",
       "      <td>92.431287</td>\n",
       "      <td>22.725313</td>\n",
       "      <td>66.048770</td>\n",
       "      <td>74.673787</td>\n",
       "      <td>84.919186</td>\n",
       "      <td>103.605626</td>\n",
       "      <td>158.931070</td>\n",
       "    </tr>\n",
       "    <tr>\n",
       "      <th>3</th>\n",
       "      <td>11.0</td>\n",
       "      <td>233.683318</td>\n",
       "      <td>62.057712</td>\n",
       "      <td>167.865328</td>\n",
       "      <td>184.178069</td>\n",
       "      <td>203.469336</td>\n",
       "      <td>284.660350</td>\n",
       "      <td>336.619337</td>\n",
       "    </tr>\n",
       "    <tr>\n",
       "      <th>4</th>\n",
       "      <td>1.0</td>\n",
       "      <td>582.402406</td>\n",
       "      <td>NaN</td>\n",
       "      <td>582.402406</td>\n",
       "      <td>582.402406</td>\n",
       "      <td>582.402406</td>\n",
       "      <td>582.402406</td>\n",
       "      <td>582.402406</td>\n",
       "    </tr>\n",
       "  </tbody>\n",
       "</table>\n",
       "</div>"
      ],
      "text/plain": [
       "                 count        mean        std         min         25%  \\\n",
       "RevenueCluster                                                          \n",
       "0               9084.0   17.679047   1.134271    9.210440   16.906098   \n",
       "1                847.0   39.486561   7.473095   30.886037   35.073167   \n",
       "2                 87.0   92.431287  22.725313   66.048770   74.673787   \n",
       "3                 11.0  233.683318  62.057712  167.865328  184.178069   \n",
       "4                  1.0  582.402406        NaN  582.402406  582.402406   \n",
       "\n",
       "                       50%         75%         max  \n",
       "RevenueCluster                                      \n",
       "0                17.599246   18.326425   27.995666  \n",
       "1                36.687241   39.152788   65.669430  \n",
       "2                84.919186  103.605626  158.931070  \n",
       "3               203.469336  284.660350  336.619337  \n",
       "4               582.402406  582.402406  582.402406  "
      ]
     },
     "execution_count": 184,
     "metadata": {},
     "output_type": "execute_result"
    }
   ],
   "source": [
    "revenue_kmeans = KMeans(n_clusters=5)\n",
    "revenue_kmeans.fit(purchases[['logRevenue']])\n",
    "\n",
    "# Assigning cluster prediction to customers\n",
    "purchases['RevenueCluster'] = revenue_kmeans.predict(purchases[['logRevenue']])\n",
    "\n",
    "# Ordering clusters from low to high and identifying statistics\n",
    "purchases = order_cluster('RevenueCluster', 'logRevenue',purchases,True)\n",
    "purchases.groupby('RevenueCluster')['logRevenue'].describe()"
   ]
  },
  {
   "cell_type": "markdown",
   "metadata": {},
   "source": [
    "<b>\n",
    "- Frequency: </b> Nearly 70% of the customers fall in the lower two clusters and there's a large gap between the minimum and maximum values of the high value cluster. \n"
   ]
  },
  {
   "cell_type": "markdown",
   "metadata": {},
   "source": [
    "<b>\n",
    "- Recency: </b> Most customers are quite inactive (how many Google tees do you <i>really</i> need?) The window of recency gets larger the better the cluster assignment is.  "
   ]
  },
  {
   "cell_type": "markdown",
   "metadata": {},
   "source": [
    "<b>\n",
    "- Revenue: </b> The vast majority of consumers purchased, on average, 17 dollars worth of products on the Google Merchandise Store. Only 10 percent of consumers purchased more than 30 dollars worth of products with one person spending nearly 600 dollars."
   ]
  },
  {
   "cell_type": "code",
   "execution_count": 185,
   "metadata": {
    "ExecuteTime": {
     "end_time": "2020-02-13T02:11:45.536747Z",
     "start_time": "2020-02-13T02:11:45.514362Z"
    },
    "scrolled": false
   },
   "outputs": [
    {
     "data": {
      "text/html": [
       "<div>\n",
       "<style scoped>\n",
       "    .dataframe tbody tr th:only-of-type {\n",
       "        vertical-align: middle;\n",
       "    }\n",
       "\n",
       "    .dataframe tbody tr th {\n",
       "        vertical-align: top;\n",
       "    }\n",
       "\n",
       "    .dataframe thead th {\n",
       "        text-align: right;\n",
       "    }\n",
       "</style>\n",
       "<table border=\"1\" class=\"dataframe\">\n",
       "  <thead>\n",
       "    <tr style=\"text-align: right;\">\n",
       "      <th></th>\n",
       "      <th>Recency</th>\n",
       "      <th>Frequency</th>\n",
       "      <th>logRevenue</th>\n",
       "    </tr>\n",
       "    <tr>\n",
       "      <th>OverallScore</th>\n",
       "      <th></th>\n",
       "      <th></th>\n",
       "      <th></th>\n",
       "    </tr>\n",
       "  </thead>\n",
       "  <tbody>\n",
       "    <tr>\n",
       "      <th>0</th>\n",
       "      <td>5.538197</td>\n",
       "      <td>0.693147</td>\n",
       "      <td>17.486465</td>\n",
       "    </tr>\n",
       "    <tr>\n",
       "      <th>1</th>\n",
       "      <td>5.194417</td>\n",
       "      <td>1.040604</td>\n",
       "      <td>17.662253</td>\n",
       "    </tr>\n",
       "    <tr>\n",
       "      <th>2</th>\n",
       "      <td>4.805109</td>\n",
       "      <td>1.393419</td>\n",
       "      <td>18.642624</td>\n",
       "    </tr>\n",
       "    <tr>\n",
       "      <th>3</th>\n",
       "      <td>4.156084</td>\n",
       "      <td>1.645626</td>\n",
       "      <td>21.753934</td>\n",
       "    </tr>\n",
       "    <tr>\n",
       "      <th>4</th>\n",
       "      <td>3.597439</td>\n",
       "      <td>1.942669</td>\n",
       "      <td>25.657556</td>\n",
       "    </tr>\n",
       "    <tr>\n",
       "      <th>5</th>\n",
       "      <td>2.897217</td>\n",
       "      <td>2.206071</td>\n",
       "      <td>34.618688</td>\n",
       "    </tr>\n",
       "    <tr>\n",
       "      <th>6</th>\n",
       "      <td>2.285679</td>\n",
       "      <td>2.562774</td>\n",
       "      <td>48.468014</td>\n",
       "    </tr>\n",
       "    <tr>\n",
       "      <th>7</th>\n",
       "      <td>1.931743</td>\n",
       "      <td>2.803124</td>\n",
       "      <td>73.186554</td>\n",
       "    </tr>\n",
       "    <tr>\n",
       "      <th>8</th>\n",
       "      <td>1.400932</td>\n",
       "      <td>3.214805</td>\n",
       "      <td>146.255854</td>\n",
       "    </tr>\n",
       "    <tr>\n",
       "      <th>9</th>\n",
       "      <td>0.818869</td>\n",
       "      <td>3.492809</td>\n",
       "      <td>249.477480</td>\n",
       "    </tr>\n",
       "  </tbody>\n",
       "</table>\n",
       "</div>"
      ],
      "text/plain": [
       "               Recency  Frequency  logRevenue\n",
       "OverallScore                                 \n",
       "0             5.538197   0.693147   17.486465\n",
       "1             5.194417   1.040604   17.662253\n",
       "2             4.805109   1.393419   18.642624\n",
       "3             4.156084   1.645626   21.753934\n",
       "4             3.597439   1.942669   25.657556\n",
       "5             2.897217   2.206071   34.618688\n",
       "6             2.285679   2.562774   48.468014\n",
       "7             1.931743   2.803124   73.186554\n",
       "8             1.400932   3.214805  146.255854\n",
       "9             0.818869   3.492809  249.477480"
      ]
     },
     "execution_count": 185,
     "metadata": {},
     "output_type": "execute_result"
    }
   ],
   "source": [
    "# Adding cluster numbers to identify overall score per customer\n",
    "purchases['OverallScore'] = purchases['RecencyCluster'] + purchases['FrequencyCluster'] + purchases['RevenueCluster']\n",
    "purchases.groupby('OverallScore')['Recency','Frequency','logRevenue'].mean()"
   ]
  },
  {
   "cell_type": "code",
   "execution_count": 153,
   "metadata": {
    "ExecuteTime": {
     "end_time": "2020-02-13T01:55:23.074041Z",
     "start_time": "2020-02-13T01:55:23.056271Z"
    }
   },
   "outputs": [],
   "source": [
    "# Naming and defining segments\n",
    "purchases['Segment'] = 0\n",
    "purchases.loc[purchases['OverallScore']>2,'Segment'] = 1 \n",
    "purchases.loc[purchases['OverallScore']>5,'Segment'] = 2 "
   ]
  },
  {
   "cell_type": "markdown",
   "metadata": {},
   "source": [
    "Again, depending on your business model, you may already have certain cutoffs for segments. Here, I've broken them down to three groups. Inactive, infrequent, low spenders are low value, mid value is higher than average revenue with average - more than average recency and average to more than average frequency, and high value customers fall into the upper eschelons of at least two features. "
   ]
  },
  {
   "cell_type": "code",
   "execution_count": 154,
   "metadata": {
    "ExecuteTime": {
     "end_time": "2020-02-13T01:55:23.981445Z",
     "start_time": "2020-02-13T01:55:23.963964Z"
    },
    "scrolled": true
   },
   "outputs": [
    {
     "name": "stdout",
     "output_type": "stream",
     "text": [
      "Low:  7336\n",
      "Mid:  2517\n",
      "High:  177\n"
     ]
    }
   ],
   "source": [
    "print('Low: ', len(purchases.query('Segment == 0')))\n",
    "print('Mid: ', len(purchases.query('Segment == 1')))\n",
    "print('High: ', len(purchases.query('Segment == 2')))"
   ]
  },
  {
   "cell_type": "code",
   "execution_count": 155,
   "metadata": {
    "ExecuteTime": {
     "end_time": "2020-02-13T01:55:25.371350Z",
     "start_time": "2020-02-13T01:55:25.363709Z"
    }
   },
   "outputs": [],
   "source": [
    "def scatter_plot(col1, col2, df):\n",
    "    '''\n",
    "    This function visualizes two features\n",
    "    from the RFM dataframe and color codes\n",
    "    each of the final clusters.'''\n",
    "    \n",
    "    plt.figure(figsize=(6,4))\n",
    "    \n",
    "    # Low Value Segment\n",
    "    plt.scatter(x=df.query(\"Segment == 0\")[col1],\n",
    "               y=df.query(\"Segment == 0\")[col2],\n",
    "               c='#440154FF',\n",
    "               alpha=.8)\n",
    "    \n",
    "    # Mid Value Segment\n",
    "    plt.scatter(x=df.query(\"Segment == 1\")[col1],\n",
    "               y=df.query(\"Segment == 1\")[col2],\n",
    "               c='#20A387FF',\n",
    "               alpha=.3)\n",
    "    \n",
    "    # High Value Segment\n",
    "    plt.scatter(x=df.query(\"Segment == 2\")[col1],\n",
    "               y=df.query(\"Segment == 2\")[col2],\n",
    "               c='#FDE725FF',\n",
    "               alpha=.5)\n",
    "    \n",
    "    plt.xlabel(col1)\n",
    "    plt.ylabel(col2)\n",
    "    plt.title(f'{col1} x {col2} Clusters')\n",
    "    plt.show();"
   ]
  },
  {
   "cell_type": "code",
   "execution_count": 156,
   "metadata": {
    "ExecuteTime": {
     "end_time": "2020-02-13T01:55:27.435555Z",
     "start_time": "2020-02-13T01:55:26.267915Z"
    },
    "scrolled": false
   },
   "outputs": [
    {
     "data": {
      "image/png": "[encoded data removed]",
      "text/plain": [
       "<Figure size 432x288 with 1 Axes>"
      ]
     },
     "metadata": {
      "needs_background": "light"
     },
     "output_type": "display_data"
    },
    {
     "data": {
      "image/png": "[encoded data removed]",
      "text/plain": [
       "<Figure size 432x288 with 1 Axes>"
      ]
     },
     "metadata": {
      "needs_background": "light"
     },
     "output_type": "display_data"
    },
    {
     "data": {
      "image/png": "[encoded data removed]",
      "text/plain": [
       "<Figure size 432x288 with 1 Axes>"
      ]
     },
     "metadata": {
      "needs_background": "light"
     },
     "output_type": "display_data"
    }
   ],
   "source": [
    "%matplotlib inline\n",
    "scatter_plot('Frequency', 'logRevenue', purchases)\n",
    "scatter_plot('Recency', 'logRevenue', purchases)\n",
    "scatter_plot('Recency', 'Frequency', purchases)"
   ]
  },
  {
   "cell_type": "markdown",
   "metadata": {},
   "source": [
    "The clusters look pretty well defined! It looks as if we were correct on our assumptions of the cluster levels. Below, we'll take a look at a 3D plot of the clusters to see behind the overlap. "
   ]
  },
  {
   "cell_type": "code",
   "execution_count": 157,
   "metadata": {
    "ExecuteTime": {
     "end_time": "2020-02-13T01:55:29.675268Z",
     "start_time": "2020-02-13T01:55:29.660633Z"
    }
   },
   "outputs": [],
   "source": [
    "high = purchases.query('Segment == 2')\n",
    "mid = purchases.query('Segment == 1')\n",
    "low = purchases.query('Segment == 0')"
   ]
  },
  {
   "cell_type": "code",
   "execution_count": 188,
   "metadata": {
    "ExecuteTime": {
     "end_time": "2020-02-13T02:53:56.772144Z",
     "start_time": "2020-02-13T02:53:56.657571Z"
    },
    "scrolled": false
   },
   "outputs": [
    {
     "data": {
      "application/javascript": [
       "/* Put everything inside the global mpl namespace */\n",
       "window.mpl = {};\n",
       "\n",
       "\n",
       "mpl.get_websocket_type = function() {\n",
       "    if (typeof(WebSocket) !== 'undefined') {\n",
       "        return WebSocket;\n",
       "    } else if (typeof(MozWebSocket) !== 'undefined') {\n",
       "        return MozWebSocket;\n",
       "    } else {\n",
       "        alert('Your browser does not have WebSocket support.' +\n",
       "              'Please try Chrome, Safari or Firefox ≥ 6. ' +\n",
       "              'Firefox 4 and 5 are also supported but you ' +\n",
       "              'have to enable WebSockets in about:config.');\n",
       "    };\n",
       "}\n",
       "\n",
       "mpl.figure = function(figure_id, websocket, ondownload, parent_element) {\n",
       "    this.id = figure_id;\n",
       "\n",
       "    this.ws = websocket;\n",
       "\n",
       "    this.supports_binary = (this.ws.binaryType != undefined);\n",
       "\n",
       "    if (!this.supports_binary) {\n",
       "        var warnings = document.getElementById(\"mpl-warnings\");\n",
       "        if (warnings) {\n",
       "            warnings.style.display = 'block';\n",
       "            warnings.textContent = (\n",
       "                \"This browser does not support binary websocket messages. \" +\n",
       "                    \"Performance may be slow.\");\n",
       "        }\n",
       "    }\n",
       "\n",
       "    this.imageObj = new Image();\n",
       "\n",
       "    this.context = undefined;\n",
       "    this.message = undefined;\n",
       "    this.canvas = undefined;\n",
       "    this.rubberband_canvas = undefined;\n",
       "    this.rubberband_context = undefined;\n",
       "    this.format_dropdown = undefined;\n",
       "\n",
       "    this.image_mode = 'full';\n",
       "\n",
       "    this.root = $('<div/>');\n",
       "    this._root_extra_style(this.root)\n",
       "    this.root.attr('style', 'display: inline-block');\n",
       "\n",
       "    $(parent_element).append(this.root);\n",
       "\n",
       "    this._init_header(this);\n",
       "    this._init_canvas(this);\n",
       "    this._init_toolbar(this);\n",
       "\n",
       "    var fig = this;\n",
       "\n",
       "    this.waiting = false;\n",
       "\n",
       "    this.ws.onopen =  function () {\n",
       "            fig.send_message(\"supports_binary\", {value: fig.supports_binary});\n",
       "            fig.send_message(\"send_image_mode\", {});\n",
       "            if (mpl.ratio != 1) {\n",
       "                fig.send_message(\"set_dpi_ratio\", {'dpi_ratio': mpl.ratio});\n",
       "            }\n",
       "            fig.send_message(\"refresh\", {});\n",
       "        }\n",
       "\n",
       "    this.imageObj.onload = function() {\n",
       "            if (fig.image_mode == 'full') {\n",
       "                // Full images could contain transparency (where diff images\n",
       "                // almost always do), so we need to clear the canvas so that\n",
       "                // there is no ghosting.\n",
       "                fig.context.clearRect(0, 0, fig.canvas.width, fig.canvas.height);\n",
       "            }\n",
       "            fig.context.drawImage(fig.imageObj, 0, 0);\n",
       "        };\n",
       "\n",
       "    this.imageObj.onunload = function() {\n",
       "        fig.ws.close();\n",
       "    }\n",
       "\n",
       "    this.ws.onmessage = this._make_on_message_function(this);\n",
       "\n",
       "    this.ondownload = ondownload;\n",
       "}\n",
       "\n",
       "mpl.figure.prototype._init_header = function() {\n",
       "    var titlebar = $(\n",
       "        '<div class=\"ui-dialog-titlebar ui-widget-header ui-corner-all ' +\n",
       "        'ui-helper-clearfix\"/>');\n",
       "    var titletext = $(\n",
       "        '<div class=\"ui-dialog-title\" style=\"width: 100%; ' +\n",
       "        'text-align: center; padding: 3px;\"/>');\n",
       "    titlebar.append(titletext)\n",
       "    this.root.append(titlebar);\n",
       "    this.header = titletext[0];\n",
       "}\n",
       "\n",
       "\n",
       "\n",
       "mpl.figure.prototype._canvas_extra_style = function(canvas_div) {\n",
       "\n",
       "}\n",
       "\n",
       "\n",
       "mpl.figure.prototype._root_extra_style = function(canvas_div) {\n",
       "\n",
       "}\n",
       "\n",
       "mpl.figure.prototype._init_canvas = function() {\n",
       "    var fig = this;\n",
       "\n",
       "    var canvas_div = $('<div/>');\n",
       "\n",
       "    canvas_div.attr('style', 'position: relative; clear: both; outline: 0');\n",
       "\n",
       "    function canvas_keyboard_event(event) {\n",
       "        return fig.key_event(event, event['data']);\n",
       "    }\n",
       "\n",
       "    canvas_div.keydown('key_press', canvas_keyboard_event);\n",
       "    canvas_div.keyup('key_release', canvas_keyboard_event);\n",
       "    this.canvas_div = canvas_div\n",
       "    this._canvas_extra_style(canvas_div)\n",
       "    this.root.append(canvas_div);\n",
       "\n",
       "    var canvas = $('<canvas/>');\n",
       "    canvas.addClass('mpl-canvas');\n",
       "    canvas.attr('style', \"left: 0; top: 0; z-index: 0; outline: 0\")\n",
       "\n",
       "    this.canvas = canvas[0];\n",
       "    this.context = canvas[0].getContext(\"2d\");\n",
       "\n",
       "    var backingStore = this.context.backingStorePixelRatio ||\n",
       "\tthis.context.webkitBackingStorePixelRatio ||\n",
       "\tthis.context.mozBackingStorePixelRatio ||\n",
       "\tthis.context.msBackingStorePixelRatio ||\n",
       "\tthis.context.oBackingStorePixelRatio ||\n",
       "\tthis.context.backingStorePixelRatio || 1;\n",
       "\n",
       "    mpl.ratio = (window.devicePixelRatio || 1) / backingStore;\n",
       "\n",
       "    var rubberband = $('<canvas/>');\n",
       "    rubberband.attr('style', \"position: absolute; left: 0; top: 0; z-index: 1;\")\n",
       "\n",
       "    var pass_mouse_events = true;\n",
       "\n",
       "    canvas_div.resizable({\n",
       "        start: function(event, ui) {\n",
       "            pass_mouse_events = false;\n",
       "        },\n",
       "        resize: function(event, ui) {\n",
       "            fig.request_resize(ui.size.width, ui.size.height);\n",
       "        },\n",
       "        stop: function(event, ui) {\n",
       "            pass_mouse_events = true;\n",
       "            fig.request_resize(ui.size.width, ui.size.height);\n",
       "        },\n",
       "    });\n",
       "\n",
       "    function mouse_event_fn(event) {\n",
       "        if (pass_mouse_events)\n",
       "            return fig.mouse_event(event, event['data']);\n",
       "    }\n",
       "\n",
       "    rubberband.mousedown('button_press', mouse_event_fn);\n",
       "    rubberband.mouseup('button_release', mouse_event_fn);\n",
       "    // Throttle sequential mouse events to 1 every 20ms.\n",
       "    rubberband.mousemove('motion_notify', mouse_event_fn);\n",
       "\n",
       "    rubberband.mouseenter('figure_enter', mouse_event_fn);\n",
       "    rubberband.mouseleave('figure_leave', mouse_event_fn);\n",
       "\n",
       "    canvas_div.on(\"wheel\", function (event) {\n",
       "        event = event.originalEvent;\n",
       "        event['data'] = 'scroll'\n",
       "        if (event.deltaY < 0) {\n",
       "            event.step = 1;\n",
       "        } else {\n",
       "            event.step = -1;\n",
       "        }\n",
       "        mouse_event_fn(event);\n",
       "    });\n",
       "\n",
       "    canvas_div.append(canvas);\n",
       "    canvas_div.append(rubberband);\n",
       "\n",
       "    this.rubberband = rubberband;\n",
       "    this.rubberband_canvas = rubberband[0];\n",
       "    this.rubberband_context = rubberband[0].getContext(\"2d\");\n",
       "    this.rubberband_context.strokeStyle = \"#000000\";\n",
       "\n",
       "    this._resize_canvas = function(width, height) {\n",
       "        // Keep the size of the canvas, canvas container, and rubber band\n",
       "        // canvas in synch.\n",
       "        canvas_div.css('width', width)\n",
       "        canvas_div.css('height', height)\n",
       "\n",
       "        canvas.attr('width', width * mpl.ratio);\n",
       "        canvas.attr('height', height * mpl.ratio);\n",
       "        canvas.attr('style', 'width: ' + width + 'px; height: ' + height + 'px;');\n",
       "\n",
       "        rubberband.attr('width', width);\n",
       "        rubberband.attr('height', height);\n",
       "    }\n",
       "\n",
       "    // Set the figure to an initial 600x600px, this will subsequently be updated\n",
       "    // upon first draw.\n",
       "    this._resize_canvas(600, 600);\n",
       "\n",
       "    // Disable right mouse context menu.\n",
       "    $(this.rubberband_canvas).bind(\"contextmenu\",function(e){\n",
       "        return false;\n",
       "    });\n",
       "\n",
       "    function set_focus () {\n",
       "        canvas.focus();\n",
       "        canvas_div.focus();\n",
       "    }\n",
       "\n",
       "    window.setTimeout(set_focus, 100);\n",
       "}\n",
       "\n",
       "mpl.figure.prototype._init_toolbar = function() {\n",
       "    var fig = this;\n",
       "\n",
       "    var nav_element = $('<div/>')\n",
       "    nav_element.attr('style', 'width: 100%');\n",
       "    this.root.append(nav_element);\n",
       "\n",
       "    // Define a callback function for later on.\n",
       "    function toolbar_event(event) {\n",
       "        return fig.toolbar_button_onclick(event['data']);\n",
       "    }\n",
       "    function toolbar_mouse_event(event) {\n",
       "        return fig.toolbar_button_onmouseover(event['data']);\n",
       "    }\n",
       "\n",
       "    for(var toolbar_ind in mpl.toolbar_items) {\n",
       "        var name = mpl.toolbar_items[toolbar_ind][0];\n",
       "        var tooltip = mpl.toolbar_items[toolbar_ind][1];\n",
       "        var image = mpl.toolbar_items[toolbar_ind][2];\n",
       "        var method_name = mpl.toolbar_items[toolbar_ind][3];\n",
       "\n",
       "        if (!name) {\n",
       "            // put a spacer in here.\n",
       "            continue;\n",
       "        }\n",
       "        var button = $('<button/>');\n",
       "        button.addClass('ui-button ui-widget ui-state-default ui-corner-all ' +\n",
       "                        'ui-button-icon-only');\n",
       "        button.attr('role', 'button');\n",
       "        button.attr('aria-disabled', 'false');\n",
       "        button.click(method_name, toolbar_event);\n",
       "        button.mouseover(tooltip, toolbar_mouse_event);\n",
       "\n",
       "        var icon_img = $('<span/>');\n",
       "        icon_img.addClass('ui-button-icon-primary ui-icon');\n",
       "        icon_img.addClass(image);\n",
       "        icon_img.addClass('ui-corner-all');\n",
       "\n",
       "        var tooltip_span = $('<span/>');\n",
       "        tooltip_span.addClass('ui-button-text');\n",
       "        tooltip_span.html(tooltip);\n",
       "\n",
       "        button.append(icon_img);\n",
       "        button.append(tooltip_span);\n",
       "\n",
       "        nav_element.append(button);\n",
       "    }\n",
       "\n",
       "    var fmt_picker_span = $('<span/>');\n",
       "\n",
       "    var fmt_picker = $('<select/>');\n",
       "    fmt_picker.addClass('mpl-toolbar-option ui-widget ui-widget-content');\n",
       "    fmt_picker_span.append(fmt_picker);\n",
       "    nav_element.append(fmt_picker_span);\n",
       "    this.format_dropdown = fmt_picker[0];\n",
       "\n",
       "    for (var ind in mpl.extensions) {\n",
       "        var fmt = mpl.extensions[ind];\n",
       "        var option = $(\n",
       "            '<option/>', {selected: fmt === mpl.default_extension}).html(fmt);\n",
       "        fmt_picker.append(option)\n",
       "    }\n",
       "\n",
       "    // Add hover states to the ui-buttons\n",
       "    $( \".ui-button\" ).hover(\n",
       "        function() { $(this).addClass(\"ui-state-hover\");},\n",
       "        function() { $(this).removeClass(\"ui-state-hover\");}\n",
       "    );\n",
       "\n",
       "    var status_bar = $('<span class=\"mpl-message\"/>');\n",
       "    nav_element.append(status_bar);\n",
       "    this.message = status_bar[0];\n",
       "}\n",
       "\n",
       "mpl.figure.prototype.request_resize = function(x_pixels, y_pixels) {\n",
       "    // Request matplotlib to resize the figure. Matplotlib will then trigger a resize in the client,\n",
       "    // which will in turn request a refresh of the image.\n",
       "    this.send_message('resize', {'width': x_pixels, 'height': y_pixels});\n",
       "}\n",
       "\n",
       "mpl.figure.prototype.send_message = function(type, properties) {\n",
       "    properties['type'] = type;\n",
       "    properties['figure_id'] = this.id;\n",
       "    this.ws.send(JSON.stringify(properties));\n",
       "}\n",
       "\n",
       "mpl.figure.prototype.send_draw_message = function() {\n",
       "    if (!this.waiting) {\n",
       "        this.waiting = true;\n",
       "        this.ws.send(JSON.stringify({type: \"draw\", figure_id: this.id}));\n",
       "    }\n",
       "}\n",
       "\n",
       "\n",
       "mpl.figure.prototype.handle_save = function(fig, msg) {\n",
       "    var format_dropdown = fig.format_dropdown;\n",
       "    var format = format_dropdown.options[format_dropdown.selectedIndex].value;\n",
       "    fig.ondownload(fig, format);\n",
       "}\n",
       "\n",
       "\n",
       "mpl.figure.prototype.handle_resize = function(fig, msg) {\n",
       "    var size = msg['size'];\n",
       "    if (size[0] != fig.canvas.width || size[1] != fig.canvas.height) {\n",
       "        fig._resize_canvas(size[0], size[1]);\n",
       "        fig.send_message(\"refresh\", {});\n",
       "    };\n",
       "}\n",
       "\n",
       "mpl.figure.prototype.handle_rubberband = function(fig, msg) {\n",
       "    var x0 = msg['x0'] / mpl.ratio;\n",
       "    var y0 = (fig.canvas.height - msg['y0']) / mpl.ratio;\n",
       "    var x1 = msg['x1'] / mpl.ratio;\n",
       "    var y1 = (fig.canvas.height - msg['y1']) / mpl.ratio;\n",
       "    x0 = Math.floor(x0) + 0.5;\n",
       "    y0 = Math.floor(y0) + 0.5;\n",
       "    x1 = Math.floor(x1) + 0.5;\n",
       "    y1 = Math.floor(y1) + 0.5;\n",
       "    var min_x = Math.min(x0, x1);\n",
       "    var min_y = Math.min(y0, y1);\n",
       "    var width = Math.abs(x1 - x0);\n",
       "    var height = Math.abs(y1 - y0);\n",
       "\n",
       "    fig.rubberband_context.clearRect(\n",
       "        0, 0, fig.canvas.width, fig.canvas.height);\n",
       "\n",
       "    fig.rubberband_context.strokeRect(min_x, min_y, width, height);\n",
       "}\n",
       "\n",
       "mpl.figure.prototype.handle_figure_label = function(fig, msg) {\n",
       "    // Updates the figure title.\n",
       "    fig.header.textContent = msg['label'];\n",
       "}\n",
       "\n",
       "mpl.figure.prototype.handle_cursor = function(fig, msg) {\n",
       "    var cursor = msg['cursor'];\n",
       "    switch(cursor)\n",
       "    {\n",
       "    case 0:\n",
       "        cursor = 'pointer';\n",
       "        break;\n",
       "    case 1:\n",
       "        cursor = 'default';\n",
       "        break;\n",
       "    case 2:\n",
       "        cursor = 'crosshair';\n",
       "        break;\n",
       "    case 3:\n",
       "        cursor = 'move';\n",
       "        break;\n",
       "    }\n",
       "    fig.rubberband_canvas.style.cursor = cursor;\n",
       "}\n",
       "\n",
       "mpl.figure.prototype.handle_message = function(fig, msg) {\n",
       "    fig.message.textContent = msg['message'];\n",
       "}\n",
       "\n",
       "mpl.figure.prototype.handle_draw = function(fig, msg) {\n",
       "    // Request the server to send over a new figure.\n",
       "    fig.send_draw_message();\n",
       "}\n",
       "\n",
       "mpl.figure.prototype.handle_image_mode = function(fig, msg) {\n",
       "    fig.image_mode = msg['mode'];\n",
       "}\n",
       "\n",
       "mpl.figure.prototype.updated_canvas_event = function() {\n",
       "    // Called whenever the canvas gets updated.\n",
       "    this.send_message(\"ack\", {});\n",
       "}\n",
       "\n",
       "// A function to construct a web socket function for onmessage handling.\n",
       "// Called in the figure constructor.\n",
       "mpl.figure.prototype._make_on_message_function = function(fig) {\n",
       "    return function socket_on_message(evt) {\n",
       "        if (evt.data instanceof Blob) {\n",
       "            /* FIXME: We get \"Resource interpreted as Image but\n",
       "             * transferred with MIME type text/plain:\" errors on\n",
       "             * Chrome.  But how to set the MIME type?  It doesn't seem\n",
       "             * to be part of the websocket stream */\n",
       "            evt.data.type = \"image/png\";\n",
       "\n",
       "            /* Free the memory for the previous frames */\n",
       "            if (fig.imageObj.src) {\n",
       "                (window.URL || window.webkitURL).revokeObjectURL(\n",
       "                    fig.imageObj.src);\n",
       "            }\n",
       "\n",
       "            fig.imageObj.src = (window.URL || window.webkitURL).createObjectURL(\n",
       "                evt.data);\n",
       "            fig.updated_canvas_event();\n",
       "            fig.waiting = false;\n",
       "            return;\n",
       "        }\n",
       "        else if (typeof evt.data === 'string' && evt.data.slice(0, 21) == \"data:image/png;base64\") {\n",
       "            fig.imageObj.src = evt.data;\n",
       "            fig.updated_canvas_event();\n",
       "            fig.waiting = false;\n",
       "            return;\n",
       "        }\n",
       "\n",
       "        var msg = JSON.parse(evt.data);\n",
       "        var msg_type = msg['type'];\n",
       "\n",
       "        // Call the  \"handle_{type}\" callback, which takes\n",
       "        // the figure and JSON message as its only arguments.\n",
       "        try {\n",
       "            var callback = fig[\"handle_\" + msg_type];\n",
       "        } catch (e) {\n",
       "            console.log(\"No handler for the '\" + msg_type + \"' message type: \", msg);\n",
       "            return;\n",
       "        }\n",
       "\n",
       "        if (callback) {\n",
       "            try {\n",
       "                // console.log(\"Handling '\" + msg_type + \"' message: \", msg);\n",
       "                callback(fig, msg);\n",
       "            } catch (e) {\n",
       "                console.log(\"Exception inside the 'handler_\" + msg_type + \"' callback:\", e, e.stack, msg);\n",
       "            }\n",
       "        }\n",
       "    };\n",
       "}\n",
       "\n",
       "// from http://stackoverflow.com/questions/1114465/getting-mouse-location-in-canvas\n",
       "mpl.findpos = function(e) {\n",
       "    //this section is from http://www.quirksmode.org/js/events_properties.html\n",
       "    var targ;\n",
       "    if (!e)\n",
       "        e = window.event;\n",
       "    if (e.target)\n",
       "        targ = e.target;\n",
       "    else if (e.srcElement)\n",
       "        targ = e.srcElement;\n",
       "    if (targ.nodeType == 3) // defeat Safari bug\n",
       "        targ = targ.parentNode;\n",
       "\n",
       "    // jQuery normalizes the pageX and pageY\n",
       "    // pageX,Y are the mouse positions relative to the document\n",
       "    // offset() returns the position of the element relative to the document\n",
       "    var x = e.pageX - $(targ).offset().left;\n",
       "    var y = e.pageY - $(targ).offset().top;\n",
       "\n",
       "    return {\"x\": x, \"y\": y};\n",
       "};\n",
       "\n",
       "/*\n",
       " * return a copy of an object with only non-object keys\n",
       " * we need this to avoid circular references\n",
       " * http://stackoverflow.com/a/24161582/3208463\n",
       " */\n",
       "function simpleKeys (original) {\n",
       "  return Object.keys(original).reduce(function (obj, key) {\n",
       "    if (typeof original[key] !== 'object')\n",
       "        obj[key] = original[key]\n",
       "    return obj;\n",
       "  }, {});\n",
       "}\n",
       "\n",
       "mpl.figure.prototype.mouse_event = function(event, name) {\n",
       "    var canvas_pos = mpl.findpos(event)\n",
       "\n",
       "    if (name === 'button_press')\n",
       "    {\n",
       "        this.canvas.focus();\n",
       "        this.canvas_div.focus();\n",
       "    }\n",
       "\n",
       "    var x = canvas_pos.x * mpl.ratio;\n",
       "    var y = canvas_pos.y * mpl.ratio;\n",
       "\n",
       "    this.send_message(name, {x: x, y: y, button: event.button,\n",
       "                             step: event.step,\n",
       "                             guiEvent: simpleKeys(event)});\n",
       "\n",
       "    /* This prevents the web browser from automatically changing to\n",
       "     * the text insertion cursor when the button is pressed.  We want\n",
       "     * to control all of the cursor setting manually through the\n",
       "     * 'cursor' event from matplotlib */\n",
       "    event.preventDefault();\n",
       "    return false;\n",
       "}\n",
       "\n",
       "mpl.figure.prototype._key_event_extra = function(event, name) {\n",
       "    // Handle any extra behaviour associated with a key event\n",
       "}\n",
       "\n",
       "mpl.figure.prototype.key_event = function(event, name) {\n",
       "\n",
       "    // Prevent repeat events\n",
       "    if (name == 'key_press')\n",
       "    {\n",
       "        if (event.which === this._key)\n",
       "            return;\n",
       "        else\n",
       "            this._key = event.which;\n",
       "    }\n",
       "    if (name == 'key_release')\n",
       "        this._key = null;\n",
       "\n",
       "    var value = '';\n",
       "    if (event.ctrlKey && event.which != 17)\n",
       "        value += \"ctrl+\";\n",
       "    if (event.altKey && event.which != 18)\n",
       "        value += \"alt+\";\n",
       "    if (event.shiftKey && event.which != 16)\n",
       "        value += \"shift+\";\n",
       "\n",
       "    value += 'k';\n",
       "    value += event.which.toString();\n",
       "\n",
       "    this._key_event_extra(event, name);\n",
       "\n",
       "    this.send_message(name, {key: value,\n",
       "                             guiEvent: simpleKeys(event)});\n",
       "    return false;\n",
       "}\n",
       "\n",
       "mpl.figure.prototype.toolbar_button_onclick = function(name) {\n",
       "    if (name == 'download') {\n",
       "        this.handle_save(this, null);\n",
       "    } else {\n",
       "        this.send_message(\"toolbar_button\", {name: name});\n",
       "    }\n",
       "};\n",
       "\n",
       "mpl.figure.prototype.toolbar_button_onmouseover = function(tooltip) {\n",
       "    this.message.textContent = tooltip;\n",
       "};\n",
       "mpl.toolbar_items = [[\"Home\", \"Reset original view\", \"fa fa-home icon-home\", \"home\"], [\"Back\", \"Back to previous view\", \"fa fa-arrow-left icon-arrow-left\", \"back\"], [\"Forward\", \"Forward to next view\", \"fa fa-arrow-right icon-arrow-right\", \"forward\"], [\"\", \"\", \"\", \"\"], [\"Pan\", \"Pan axes with left mouse, zoom with right\", \"fa fa-arrows icon-move\", \"pan\"], [\"Zoom\", \"Zoom to rectangle\", \"fa fa-square-o icon-check-empty\", \"zoom\"], [\"\", \"\", \"\", \"\"], [\"Download\", \"Download plot\", \"fa fa-floppy-o icon-save\", \"download\"]];\n",
       "\n",
       "mpl.extensions = [\"eps\", \"pdf\", \"png\", \"ps\", \"raw\", \"svg\"];\n",
       "\n",
       "mpl.default_extension = \"png\";var comm_websocket_adapter = function(comm) {\n",
       "    // Create a \"websocket\"-like object which calls the given IPython comm\n",
       "    // object with the appropriate methods. Currently this is a non binary\n",
       "    // socket, so there is still some room for performance tuning.\n",
       "    var ws = {};\n",
       "\n",
       "    ws.close = function() {\n",
       "        comm.close()\n",
       "    };\n",
       "    ws.send = function(m) {\n",
       "        //console.log('sending', m);\n",
       "        comm.send(m);\n",
       "    };\n",
       "    // Register the callback with on_msg.\n",
       "    comm.on_msg(function(msg) {\n",
       "        //console.log('receiving', msg['content']['data'], msg);\n",
       "        // Pass the mpl event to the overridden (by mpl) onmessage function.\n",
       "        ws.onmessage(msg['content']['data'])\n",
       "    });\n",
       "    return ws;\n",
       "}\n",
       "\n",
       "mpl.mpl_figure_comm = function(comm, msg) {\n",
       "    // This is the function which gets called when the mpl process\n",
       "    // starts-up an IPython Comm through the \"matplotlib\" channel.\n",
       "\n",
       "    var id = msg.content.data.id;\n",
       "    // Get hold of the div created by the display call when the Comm\n",
       "    // socket was opened in Python.\n",
       "    var element = $(\"#\" + id);\n",
       "    var ws_proxy = comm_websocket_adapter(comm)\n",
       "\n",
       "    function ondownload(figure, format) {\n",
       "        window.open(figure.imageObj.src);\n",
       "    }\n",
       "\n",
       "    var fig = new mpl.figure(id, ws_proxy,\n",
       "                           ondownload,\n",
       "                           element.get(0));\n",
       "\n",
       "    // Call onopen now - mpl needs it, as it is assuming we've passed it a real\n",
       "    // web socket which is closed, not our websocket->open comm proxy.\n",
       "    ws_proxy.onopen();\n",
       "\n",
       "    fig.parent_element = element.get(0);\n",
       "    fig.cell_info = mpl.find_output_cell(\"<div id='\" + id + \"'></div>\");\n",
       "    if (!fig.cell_info) {\n",
       "        console.error(\"Failed to find cell for figure\", id, fig);\n",
       "        return;\n",
       "    }\n",
       "\n",
       "    var output_index = fig.cell_info[2]\n",
       "    var cell = fig.cell_info[0];\n",
       "\n",
       "};\n",
       "\n",
       "mpl.figure.prototype.handle_close = function(fig, msg) {\n",
       "    var width = fig.canvas.width/mpl.ratio\n",
       "    fig.root.unbind('remove')\n",
       "\n",
       "    // Update the output cell to use the data from the current canvas.\n",
       "    fig.push_to_output();\n",
       "    var dataURL = fig.canvas.toDataURL();\n",
       "    // Re-enable the keyboard manager in IPython - without this line, in FF,\n",
       "    // the notebook keyboard shortcuts fail.\n",
       "    IPython.keyboard_manager.enable()\n",
       "    $(fig.parent_element).html('<img src=\"' + dataURL + '\" width=\"' + width + '\">');\n",
       "    fig.close_ws(fig, msg);\n",
       "}\n",
       "\n",
       "mpl.figure.prototype.close_ws = function(fig, msg){\n",
       "    fig.send_message('closing', msg);\n",
       "    // fig.ws.close()\n",
       "}\n",
       "\n",
       "mpl.figure.prototype.push_to_output = function(remove_interactive) {\n",
       "    // Turn the data on the canvas into data in the output cell.\n",
       "    var width = this.canvas.width/mpl.ratio\n",
       "    var dataURL = this.canvas.toDataURL();\n",
       "    this.cell_info[1]['text/html'] = '<img src=\"' + dataURL + '\" width=\"' + width + '\">';\n",
       "}\n",
       "\n",
       "mpl.figure.prototype.updated_canvas_event = function() {\n",
       "    // Tell IPython that the notebook contents must change.\n",
       "    IPython.notebook.set_dirty(true);\n",
       "    this.send_message(\"ack\", {});\n",
       "    var fig = this;\n",
       "    // Wait a second, then push the new image to the DOM so\n",
       "    // that it is saved nicely (might be nice to debounce this).\n",
       "    setTimeout(function () { fig.push_to_output() }, 1000);\n",
       "}\n",
       "\n",
       "mpl.figure.prototype._init_toolbar = function() {\n",
       "    var fig = this;\n",
       "\n",
       "    var nav_element = $('<div/>')\n",
       "    nav_element.attr('style', 'width: 100%');\n",
       "    this.root.append(nav_element);\n",
       "\n",
       "    // Define a callback function for later on.\n",
       "    function toolbar_event(event) {\n",
       "        return fig.toolbar_button_onclick(event['data']);\n",
       "    }\n",
       "    function toolbar_mouse_event(event) {\n",
       "        return fig.toolbar_button_onmouseover(event['data']);\n",
       "    }\n",
       "\n",
       "    for(var toolbar_ind in mpl.toolbar_items){\n",
       "        var name = mpl.toolbar_items[toolbar_ind][0];\n",
       "        var tooltip = mpl.toolbar_items[toolbar_ind][1];\n",
       "        var image = mpl.toolbar_items[toolbar_ind][2];\n",
       "        var method_name = mpl.toolbar_items[toolbar_ind][3];\n",
       "\n",
       "        if (!name) { continue; };\n",
       "\n",
       "        var button = $('<button class=\"btn btn-default\" href=\"#\" title=\"' + name + '\"><i class=\"fa ' + image + ' fa-lg\"></i></button>');\n",
       "        button.click(method_name, toolbar_event);\n",
       "        button.mouseover(tooltip, toolbar_mouse_event);\n",
       "        nav_element.append(button);\n",
       "    }\n",
       "\n",
       "    // Add the status bar.\n",
       "    var status_bar = $('<span class=\"mpl-message\" style=\"text-align:right; float: right;\"/>');\n",
       "    nav_element.append(status_bar);\n",
       "    this.message = status_bar[0];\n",
       "\n",
       "    // Add the close button to the window.\n",
       "    var buttongrp = $('<div class=\"btn-group inline pull-right\"></div>');\n",
       "    var button = $('<button class=\"btn btn-mini btn-primary\" href=\"#\" title=\"Stop Interaction\"><i class=\"fa fa-power-off icon-remove icon-large\"></i></button>');\n",
       "    button.click(function (evt) { fig.handle_close(fig, {}); } );\n",
       "    button.mouseover('Stop Interaction', toolbar_mouse_event);\n",
       "    buttongrp.append(button);\n",
       "    var titlebar = this.root.find($('.ui-dialog-titlebar'));\n",
       "    titlebar.prepend(buttongrp);\n",
       "}\n",
       "\n",
       "mpl.figure.prototype._root_extra_style = function(el){\n",
       "    var fig = this\n",
       "    el.on(\"remove\", function(){\n",
       "\tfig.close_ws(fig, {});\n",
       "    });\n",
       "}\n",
       "\n",
       "mpl.figure.prototype._canvas_extra_style = function(el){\n",
       "    // this is important to make the div 'focusable\n",
       "    el.attr('tabindex', 0)\n",
       "    // reach out to IPython and tell the keyboard manager to turn it's self\n",
       "    // off when our div gets focus\n",
       "\n",
       "    // location in version 3\n",
       "    if (IPython.notebook.keyboard_manager) {\n",
       "        IPython.notebook.keyboard_manager.register_events(el);\n",
       "    }\n",
       "    else {\n",
       "        // location in version 2\n",
       "        IPython.keyboard_manager.register_events(el);\n",
       "    }\n",
       "\n",
       "}\n",
       "\n",
       "mpl.figure.prototype._key_event_extra = function(event, name) {\n",
       "    var manager = IPython.notebook.keyboard_manager;\n",
       "    if (!manager)\n",
       "        manager = IPython.keyboard_manager;\n",
       "\n",
       "    // Check for shift+enter\n",
       "    if (event.shiftKey && event.which == 13) {\n",
       "        this.canvas_div.blur();\n",
       "        event.shiftKey = false;\n",
       "        // Send a \"J\" for go to next cell\n",
       "        event.which = 74;\n",
       "        event.keyCode = 74;\n",
       "        manager.command_mode();\n",
       "        manager.handle_keydown(event);\n",
       "    }\n",
       "}\n",
       "\n",
       "mpl.figure.prototype.handle_save = function(fig, msg) {\n",
       "    fig.ondownload(fig, null);\n",
       "}\n",
       "\n",
       "\n",
       "mpl.find_output_cell = function(html_output) {\n",
       "    // Return the cell and output element which can be found *uniquely* in the notebook.\n",
       "    // Note - this is a bit hacky, but it is done because the \"notebook_saving.Notebook\"\n",
       "    // IPython event is triggered only after the cells have been serialised, which for\n",
       "    // our purposes (turning an active figure into a static one), is too late.\n",
       "    var cells = IPython.notebook.get_cells();\n",
       "    var ncells = cells.length;\n",
       "    for (var i=0; i<ncells; i++) {\n",
       "        var cell = cells[i];\n",
       "        if (cell.cell_type === 'code'){\n",
       "            for (var j=0; j<cell.output_area.outputs.length; j++) {\n",
       "                var data = cell.output_area.outputs[j];\n",
       "                if (data.data) {\n",
       "                    // IPython >= 3 moved mimebundle to data attribute of output\n",
       "                    data = data.data;\n",
       "                }\n",
       "                if (data['text/html'] == html_output) {\n",
       "                    return [cell, data, j];\n",
       "                }\n",
       "            }\n",
       "        }\n",
       "    }\n",
       "}\n",
       "\n",
       "// Register the function which deals with the matplotlib target/channel.\n",
       "// The kernel may be null if the page has been refreshed.\n",
       "if (IPython.notebook.kernel != null) {\n",
       "    IPython.notebook.kernel.comm_manager.register_target('matplotlib', mpl.mpl_figure_comm);\n",
       "}\n"
      ],
      "text/plain": [
       "<IPython.core.display.Javascript object>"
      ]
     },
     "metadata": {},
     "output_type": "display_data"
    },
    {
     "data": {
      "text/html": [
       "<img src=\"data:image/png;base64,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\" width=\"482\">"
      ],
      "text/plain": [
       "<IPython.core.display.HTML object>"
      ]
     },
     "metadata": {},
     "output_type": "display_data"
    }
   ],
   "source": [
    "from mpl_toolkits.mplot3d import Axes3D\n",
    "%matplotlib notebook\n",
    "\n",
    "fig = plt.figure()\n",
    "ax = fig.add_subplot(111, projection='3d')\n",
    "\n",
    "g1= (low['Frequency'].values, low['Recency'].values, low['logRevenue'].values)\n",
    "g2 = (mid['Frequency'].values, mid['Recency'].values, mid['logRevenue'].values)\n",
    "g3= (high['Frequency'].values, high['Recency'].values, high['logRevenue'].values)\n",
    "\n",
    "data = [g1, g2, g3]\n",
    "colors = ['#440154FF', '#20A387FF', '#FDE725FF']\n",
    "groups = ['Low', 'Med', 'High']\n",
    "\n",
    "for data, color, group in zip(data, colors, groups):\n",
    "    x, y, z = data\n",
    "    ax.scatter(x, y, z, alpha=0.5, c=color, label=group)\n",
    "\n",
    "# Make legend\n",
    "    ax.legend()\n",
    "    ax.set_xlabel('Frequency')\n",
    "    ax.set_ylabel('Recency')\n",
    "    ax.set_zlabel('Revenue')\n",
    "    ax.set_title('Spatial Representation of Segments', loc='left')\n",
    "    plt.show();"
   ]
  },
  {
   "cell_type": "markdown",
   "metadata": {},
   "source": [
    "From this plot, we can see there are customers that have not spent a lot of money but frequently stop by the site and have made purchases recently that also fall into the high value category. Scores seem to be pulled down by either very infrequent purchases or made their last purchase far in the past. "
   ]
  },
  {
   "cell_type": "markdown",
   "metadata": {},
   "source": [
    "## Modeling"
   ]
  },
  {
   "cell_type": "code",
   "execution_count": null,
   "metadata": {},
   "outputs": [],
   "source": []
  },
  {
   "cell_type": "markdown",
   "metadata": {},
   "source": [
    "# Future Work"
   ]
  }
 ],
 "metadata": {
  "kernelspec": {
   "display_name": "Python [conda env:learn-env] *",
   "language": "python",
   "name": "conda-env-learn-env-py"
  },
  "language_info": {
   "codemirror_mode": {
    "name": "ipython",
    "version": 3
   },
   "file_extension": ".py",
   "mimetype": "text/x-python",
   "name": "python",
   "nbconvert_exporter": "python",
   "pygments_lexer": "ipython3",
   "version": "3.6.6"
  },
  "toc": {
   "base_numbering": 1,
   "nav_menu": {},
   "number_sections": true,
   "sideBar": true,
   "skip_h1_title": false,
   "title_cell": "Table of Contents",
   "title_sidebar": "Contents",
   "toc_cell": true,
   "toc_position": {
    "height": "509px",
    "left": "628px",
    "top": "213px",
    "width": "273.188px"
   },
   "toc_section_display": true,
   "toc_window_display": false
  }
 },
 "nbformat": 4,
 "nbformat_minor": 2
}
