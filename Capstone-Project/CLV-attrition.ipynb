{
 "cells": [
  {
   "cell_type": "markdown",
   "metadata": {},
   "source": [
    "<b><font size=\"6\">Data-Driven Marketing with Google Merch Store Customer Data</font>"
   ]
  },
  {
   "cell_type": "markdown",
   "metadata": {},
   "source": [
    "    Notebook by Allison Kelly - allisonkelly42@gmail.com\n",
    "\n",
    "    Blog post - placeholder\n",
    "\n",
    "    Presentation - placeholder"
   ]
  },
  {
   "cell_type": "markdown",
   "metadata": {
    "toc": true
   },
   "source": [
    "<h1>Table of Contents<span class=\"tocSkip\"></span></h1>\n",
    "<div class=\"toc\"><ul class=\"toc-item\"><li><span><a href=\"#Introduction\" data-toc-modified-id=\"Introduction-1\"><span class=\"toc-item-num\">1&nbsp;&nbsp;</span>Introduction</a></span></li><li><span><a href=\"#Imports\" data-toc-modified-id=\"Imports-2\"><span class=\"toc-item-num\">2&nbsp;&nbsp;</span>Imports</a></span></li><li><span><a href=\"#Data-Cleaning-and-EDA\" data-toc-modified-id=\"Data-Cleaning-and-EDA-3\"><span class=\"toc-item-num\">3&nbsp;&nbsp;</span>Data Cleaning and EDA</a></span><ul class=\"toc-item\"><li><span><a href=\"#Obtaining-the-data\" data-toc-modified-id=\"Obtaining-the-data-3.1\"><span class=\"toc-item-num\">3.1&nbsp;&nbsp;</span>Obtaining the data</a></span></li><li><span><a href=\"#Cleaning-the-Data\" data-toc-modified-id=\"Cleaning-the-Data-3.2\"><span class=\"toc-item-num\">3.2&nbsp;&nbsp;</span>Cleaning the Data</a></span></li><li><span><a href=\"#Exploratory-Data-Analysis\" data-toc-modified-id=\"Exploratory-Data-Analysis-3.3\"><span class=\"toc-item-num\">3.3&nbsp;&nbsp;</span>Exploratory Data Analysis</a></span></li></ul></li><li><span><a href=\"#Market-Segmentation-and-the-RFM-Model\" data-toc-modified-id=\"Market-Segmentation-and-the-RFM-Model-4\"><span class=\"toc-item-num\">4&nbsp;&nbsp;</span>Market Segmentation and the RFM Model</a></span><ul class=\"toc-item\"><li><span><a href=\"#Feature-Engineering\" data-toc-modified-id=\"Feature-Engineering-4.1\"><span class=\"toc-item-num\">4.1&nbsp;&nbsp;</span>Feature Engineering</a></span></li><li><span><a href=\"#Customer-Segmentation---Unsupervised-Machine-Learning-with-Kmeans\" data-toc-modified-id=\"Customer-Segmentation---Unsupervised-Machine-Learning-with-Kmeans-4.2\"><span class=\"toc-item-num\">4.2&nbsp;&nbsp;</span>Customer Segmentation - Unsupervised Machine Learning with Kmeans</a></span></li></ul></li><li><span><a href=\"#Customer-Lifetime-Value\" data-toc-modified-id=\"Customer-Lifetime-Value-5\"><span class=\"toc-item-num\">5&nbsp;&nbsp;</span>Customer Lifetime Value</a></span><ul class=\"toc-item\"><li><span><a href=\"#Assumptions\" data-toc-modified-id=\"Assumptions-5.1\"><span class=\"toc-item-num\">5.1&nbsp;&nbsp;</span>Assumptions</a></span></li><li><span><a href=\"#Feature-Engineering\" data-toc-modified-id=\"Feature-Engineering-5.2\"><span class=\"toc-item-num\">5.2&nbsp;&nbsp;</span>Feature Engineering</a></span></li><li><span><a href=\"#Purchase-Prediction-with-the-BG/NBD-Model\" data-toc-modified-id=\"Purchase-Prediction-with-the-BG/NBD-Model-5.3\"><span class=\"toc-item-num\">5.3&nbsp;&nbsp;</span>Purchase Prediction with the BG/NBD Model</a></span></li></ul></li><li><span><a href=\"#Future-Work\" data-toc-modified-id=\"Future-Work-6\"><span class=\"toc-item-num\">6&nbsp;&nbsp;</span>Future Work</a></span></li></ul></div>"
   ]
  },
  {
   "cell_type": "markdown",
   "metadata": {},
   "source": [
    "# Introduction"
   ]
  },
  {
   "cell_type": "markdown",
   "metadata": {},
   "source": [
    "Leveraging machine learning and AI with the massive amounts of consumer history, web traffic, and product reviews can have a measurable impact on marketing campaigns. By harnessing the power of statistical and analytical tools, patterns untracked by basic dashboards can be unearthed, translating into higher conversion rates over traditional marketing strategies. The following notebook is one such demonstration of this power.\n",
    "\n",
    "Part one explores customer purchase history on the <a href=\"https://shop.googlemerchandisestore.com/\">Google Merchandise Store.</a> By using machine learning, I will predict the customer lifetime value (CLV) of each customer. This data can then be used to segment ads, email marketing campaigns, and other traditional marketing ventures. I will also predict and measure customer attrition which can be used to develop proactive prevention strategies and increase revenue. \n",
    "\n",
    "Part two uses NLP to parse through Google Play store app reviews, conduct sentiment analysis, and classify reviews. The NLP machine learning models can be used to recommend apps and get feedback in realtime to prompt bug fixes and improvements. You'll find this in a separate notebook <b>here.</b> \n",
    "\n",
    "Finally, part three will focusing on tracking important metrics and gleaning insights from the Google Analytics demo account for the Google Merchandise Store. Setting benchmarks for KPIs and tracking campaign results are essential to understanding consumer behavior and making informed business decisions. PLACEHOLDER FOR WHERE THIS CAN BE FOUND"
   ]
  },
  {
   "cell_type": "markdown",
   "metadata": {},
   "source": [
    "# Imports"
   ]
  },
  {
   "cell_type": "code",
   "execution_count": 295,
   "metadata": {
    "ExecuteTime": {
     "end_time": "2020-02-21T01:06:45.466879Z",
     "start_time": "2020-02-21T01:06:45.457665Z"
    }
   },
   "outputs": [],
   "source": [
    "import pandas as pd\n",
    "\n",
    "# Plot data\n",
    "import matplotlib.pyplot as plt\n",
    "import seaborn as sns \n",
    "\n",
    "import plotly.offline as pyoff\n",
    "import plotly.graph_objs as go\n",
    "\n",
    "import time\n",
    "import datetime\n",
    "import numpy as np\n",
    "import json # for data cleaning\n",
    "\n",
    "import warnings # Ignoring warnings\n",
    "warnings.filterwarnings(\"ignore\")\n",
    "\n",
    "from scipy import stats\n",
    "from scipy.stats import poisson\n",
    "\n",
    "from sklearn.model_selection import train_test_split\n",
    "from sklearn.linear_model import LinearRegression\n",
    "from sklearn import metrics\n",
    "from sklearn.metrics.cluster import calinski_harabasz_score\n",
    "from sklearn.cluster import KMeans\n",
    "from sklearn.preprocessing import StandardScaler, MinMaxScaler\n",
    "\n",
    "# Package for CLV modeling\n",
    "import lifetimes\n",
    "from lifetimes.plotting import *\n",
    "from lifetimes.utils import *"
   ]
  },
  {
   "cell_type": "markdown",
   "metadata": {},
   "source": [
    "# Data Cleaning and EDA"
   ]
  },
  {
   "cell_type": "markdown",
   "metadata": {
    "ExecuteTime": {
     "end_time": "2020-01-27T00:28:51.101049Z",
     "start_time": "2020-01-27T00:28:51.096686Z"
    }
   },
   "source": [
    "## Obtaining the data"
   ]
  },
  {
   "cell_type": "markdown",
   "metadata": {},
   "source": [
    "This dataset was derived from the Google Merchandise Store demo account as provided by Google BigQuery on Kaggle. You can find the data <a href=\"https://www.kaggle.com/c/ga-customer-revenue-prediction\">here.</a> "
   ]
  },
  {
   "cell_type": "code",
   "execution_count": 296,
   "metadata": {
    "ExecuteTime": {
     "end_time": "2020-02-21T01:06:54.632661Z",
     "start_time": "2020-02-21T01:06:45.473807Z"
    },
    "scrolled": true
   },
   "outputs": [
    {
     "ename": "KeyboardInterrupt",
     "evalue": "",
     "output_type": "error",
     "traceback": [
      "\u001b[0;31m---------------------------------------------------------------------------\u001b[0m",
      "\u001b[0;31mKeyboardInterrupt\u001b[0m                         Traceback (most recent call last)",
      "\u001b[0;32m<ipython-input-296-ca53d1da7881>\u001b[0m in \u001b[0;36m<module>\u001b[0;34m()\u001b[0m\n\u001b[0;32m----> 1\u001b[0;31m \u001b[0mdf\u001b[0m \u001b[0;34m=\u001b[0m \u001b[0mpd\u001b[0m\u001b[0;34m.\u001b[0m\u001b[0mread_csv\u001b[0m\u001b[0;34m(\u001b[0m\u001b[0;34m'train.csv'\u001b[0m\u001b[0;34m)\u001b[0m \u001b[0;31m# loading and checking out the dataset\u001b[0m\u001b[0;34m\u001b[0m\u001b[0m\n\u001b[0m\u001b[1;32m      2\u001b[0m \u001b[0mdf\u001b[0m\u001b[0;34m.\u001b[0m\u001b[0mhead\u001b[0m\u001b[0;34m(\u001b[0m\u001b[0;34m)\u001b[0m\u001b[0;34m\u001b[0m\u001b[0m\n",
      "\u001b[0;32m~/anaconda3/envs/learn-env/lib/python3.6/site-packages/pandas/io/parsers.py\u001b[0m in \u001b[0;36mparser_f\u001b[0;34m(filepath_or_buffer, sep, delimiter, header, names, index_col, usecols, squeeze, prefix, mangle_dupe_cols, dtype, engine, converters, true_values, false_values, skipinitialspace, skiprows, nrows, na_values, keep_default_na, na_filter, verbose, skip_blank_lines, parse_dates, infer_datetime_format, keep_date_col, date_parser, dayfirst, iterator, chunksize, compression, thousands, decimal, lineterminator, quotechar, quoting, escapechar, comment, encoding, dialect, tupleize_cols, error_bad_lines, warn_bad_lines, skipfooter, doublequote, delim_whitespace, low_memory, memory_map, float_precision)\u001b[0m\n\u001b[1;32m    676\u001b[0m         \u001b[0;32mreturn\u001b[0m \u001b[0m_read\u001b[0m\u001b[0;34m(\u001b[0m\u001b[0mfilepath_or_buffer\u001b[0m\u001b[0;34m,\u001b[0m \u001b[0mkwds\u001b[0m\u001b[0;34m)\u001b[0m\u001b[0;34m\u001b[0m\u001b[0m\n\u001b[1;32m    677\u001b[0m \u001b[0;34m\u001b[0m\u001b[0m\n\u001b[0;32m--> 678\u001b[0;31m     \u001b[0mparser_f\u001b[0m\u001b[0;34m.\u001b[0m\u001b[0m__name__\u001b[0m \u001b[0;34m=\u001b[0m \u001b[0mname\u001b[0m\u001b[0;34m\u001b[0m\u001b[0m\n\u001b[0m\u001b[1;32m    679\u001b[0m \u001b[0;34m\u001b[0m\u001b[0m\n\u001b[1;32m    680\u001b[0m     \u001b[0;32mreturn\u001b[0m \u001b[0mparser_f\u001b[0m\u001b[0;34m\u001b[0m\u001b[0m\n",
      "\u001b[0;32m~/anaconda3/envs/learn-env/lib/python3.6/site-packages/pandas/io/parsers.py\u001b[0m in \u001b[0;36m_read\u001b[0;34m(filepath_or_buffer, kwds)\u001b[0m\n\u001b[1;32m    444\u001b[0m     \u001b[0;31m# Check for duplicates in names.\u001b[0m\u001b[0;34m\u001b[0m\u001b[0;34m\u001b[0m\u001b[0m\n\u001b[1;32m    445\u001b[0m     \u001b[0m_validate_names\u001b[0m\u001b[0;34m(\u001b[0m\u001b[0mkwds\u001b[0m\u001b[0;34m.\u001b[0m\u001b[0mget\u001b[0m\u001b[0;34m(\u001b[0m\u001b[0;34m\"names\"\u001b[0m\u001b[0;34m,\u001b[0m \u001b[0;32mNone\u001b[0m\u001b[0;34m)\u001b[0m\u001b[0;34m)\u001b[0m\u001b[0;34m\u001b[0m\u001b[0m\n\u001b[0;32m--> 446\u001b[0;31m \u001b[0;34m\u001b[0m\u001b[0m\n\u001b[0m\u001b[1;32m    447\u001b[0m     \u001b[0;31m# Create the parser.\u001b[0m\u001b[0;34m\u001b[0m\u001b[0;34m\u001b[0m\u001b[0m\n\u001b[1;32m    448\u001b[0m     \u001b[0mparser\u001b[0m \u001b[0;34m=\u001b[0m \u001b[0mTextFileReader\u001b[0m\u001b[0;34m(\u001b[0m\u001b[0mfp_or_buf\u001b[0m\u001b[0;34m,\u001b[0m \u001b[0;34m**\u001b[0m\u001b[0mkwds\u001b[0m\u001b[0;34m)\u001b[0m\u001b[0;34m\u001b[0m\u001b[0m\n",
      "\u001b[0;32m~/anaconda3/envs/learn-env/lib/python3.6/site-packages/pandas/io/parsers.py\u001b[0m in \u001b[0;36mread\u001b[0;34m(self, nrows)\u001b[0m\n\u001b[1;32m   1034\u001b[0m             )\n\u001b[1;32m   1035\u001b[0m \u001b[0;34m\u001b[0m\u001b[0m\n\u001b[0;32m-> 1036\u001b[0;31m         \u001b[0mindex_col\u001b[0m \u001b[0;34m=\u001b[0m \u001b[0moptions\u001b[0m\u001b[0;34m[\u001b[0m\u001b[0;34m\"index_col\"\u001b[0m\u001b[0;34m]\u001b[0m\u001b[0;34m\u001b[0m\u001b[0m\n\u001b[0m\u001b[1;32m   1037\u001b[0m         \u001b[0mnames\u001b[0m \u001b[0;34m=\u001b[0m \u001b[0moptions\u001b[0m\u001b[0;34m[\u001b[0m\u001b[0;34m\"names\"\u001b[0m\u001b[0;34m]\u001b[0m\u001b[0;34m\u001b[0m\u001b[0m\n\u001b[1;32m   1038\u001b[0m         \u001b[0mconverters\u001b[0m \u001b[0;34m=\u001b[0m \u001b[0moptions\u001b[0m\u001b[0;34m[\u001b[0m\u001b[0;34m\"converters\"\u001b[0m\u001b[0;34m]\u001b[0m\u001b[0;34m\u001b[0m\u001b[0m\n",
      "\u001b[0;32m~/anaconda3/envs/learn-env/lib/python3.6/site-packages/pandas/io/parsers.py\u001b[0m in \u001b[0;36mread\u001b[0;34m(self, nrows)\u001b[0m\n\u001b[1;32m   1846\u001b[0m             data, names = _process_date_conversion(\n\u001b[1;32m   1847\u001b[0m                 \u001b[0mdata\u001b[0m\u001b[0;34m,\u001b[0m\u001b[0;34m\u001b[0m\u001b[0m\n\u001b[0;32m-> 1848\u001b[0;31m                 \u001b[0mself\u001b[0m\u001b[0;34m.\u001b[0m\u001b[0m_date_conv\u001b[0m\u001b[0;34m,\u001b[0m\u001b[0;34m\u001b[0m\u001b[0m\n\u001b[0m\u001b[1;32m   1849\u001b[0m                 \u001b[0mself\u001b[0m\u001b[0;34m.\u001b[0m\u001b[0mparse_dates\u001b[0m\u001b[0;34m,\u001b[0m\u001b[0;34m\u001b[0m\u001b[0m\n\u001b[1;32m   1850\u001b[0m                 \u001b[0mself\u001b[0m\u001b[0;34m.\u001b[0m\u001b[0mindex_col\u001b[0m\u001b[0;34m,\u001b[0m\u001b[0;34m\u001b[0m\u001b[0m\n",
      "\u001b[0;32mpandas/_libs/parsers.pyx\u001b[0m in \u001b[0;36mpandas._libs.parsers.TextReader.read\u001b[0;34m()\u001b[0m\n",
      "\u001b[0;32mpandas/_libs/parsers.pyx\u001b[0m in \u001b[0;36mpandas._libs.parsers.TextReader._read_low_memory\u001b[0;34m()\u001b[0m\n",
      "\u001b[0;32mpandas/_libs/parsers.pyx\u001b[0m in \u001b[0;36mpandas._libs.parsers.TextReader._read_rows\u001b[0;34m()\u001b[0m\n",
      "\u001b[0;32mpandas/_libs/parsers.pyx\u001b[0m in \u001b[0;36mpandas._libs.parsers.TextReader._convert_column_data\u001b[0;34m()\u001b[0m\n",
      "\u001b[0;32mpandas/_libs/parsers.pyx\u001b[0m in \u001b[0;36mpandas._libs.parsers.TextReader._convert_tokens\u001b[0;34m()\u001b[0m\n",
      "\u001b[0;32mpandas/_libs/parsers.pyx\u001b[0m in \u001b[0;36mpandas._libs.parsers.TextReader._convert_with_dtype\u001b[0;34m()\u001b[0m\n",
      "\u001b[0;32m~/anaconda3/envs/learn-env/lib/python3.6/site-packages/pandas/core/dtypes/common.py\u001b[0m in \u001b[0;36mis_integer_dtype\u001b[0;34m(arr_or_dtype)\u001b[0m\n\u001b[1;32m    809\u001b[0m     \u001b[0;34m>>\u001b[0m\u001b[0;34m>\u001b[0m \u001b[0mis_integer_dtype\u001b[0m\u001b[0;34m(\u001b[0m\u001b[0;34m'Int8'\u001b[0m\u001b[0;34m)\u001b[0m\u001b[0;34m\u001b[0m\u001b[0m\n\u001b[1;32m    810\u001b[0m     \u001b[0;32mTrue\u001b[0m\u001b[0;34m\u001b[0m\u001b[0m\n\u001b[0;32m--> 811\u001b[0;31m     \u001b[0;34m>>\u001b[0m\u001b[0;34m>\u001b[0m \u001b[0mis_integer_dtype\u001b[0m\u001b[0;34m(\u001b[0m\u001b[0mpd\u001b[0m\u001b[0;34m.\u001b[0m\u001b[0mInt8Dtype\u001b[0m\u001b[0;34m)\u001b[0m\u001b[0;34m\u001b[0m\u001b[0m\n\u001b[0m\u001b[1;32m    812\u001b[0m     \u001b[0;32mTrue\u001b[0m\u001b[0;34m\u001b[0m\u001b[0m\n\u001b[1;32m    813\u001b[0m     \u001b[0;34m>>\u001b[0m\u001b[0;34m>\u001b[0m \u001b[0mis_integer_dtype\u001b[0m\u001b[0;34m(\u001b[0m\u001b[0mnp\u001b[0m\u001b[0;34m.\u001b[0m\u001b[0mdatetime64\u001b[0m\u001b[0;34m)\u001b[0m\u001b[0;34m\u001b[0m\u001b[0m\n",
      "\u001b[0;31mKeyboardInterrupt\u001b[0m: "
     ]
    }
   ],
   "source": [
    "df = pd.read_csv('train.csv') # loading and checking out the dataset\n",
    "df.head()"
   ]
  },
  {
   "cell_type": "code",
   "execution_count": null,
   "metadata": {
    "ExecuteTime": {
     "end_time": "2020-02-21T01:06:54.639712Z",
     "start_time": "2020-02-21T01:06:45.468Z"
    },
    "scrolled": true
   },
   "outputs": [],
   "source": [
    "print(df.info())\n",
    "\n",
    "print('\\n\\nNumber of individual visitors to the Google Merch Store: ', \n",
    "      len(df.fullVisitorId.unique()))"
   ]
  },
  {
   "cell_type": "markdown",
   "metadata": {},
   "source": [
    "The dataframe is consisted of 903,653 datapoints describing visits to the Google Merch Store with 742,753 unique visitors. Most features consist of objects, though the integers are either dates, times or immutable ID numbers that should be categorized accordingly. "
   ]
  },
  {
   "cell_type": "markdown",
   "metadata": {
    "ExecuteTime": {
     "end_time": "2020-01-26T22:06:33.295152Z",
     "start_time": "2020-01-26T22:06:33.202927Z"
    }
   },
   "source": [
    "## Cleaning the Data"
   ]
  },
  {
   "cell_type": "code",
   "execution_count": null,
   "metadata": {
    "ExecuteTime": {
     "end_time": "2020-02-21T01:06:54.642318Z",
     "start_time": "2020-02-21T01:06:45.474Z"
    }
   },
   "outputs": [],
   "source": [
    "\n",
    "def datetime_edits(dataframe):\n",
    "    \n",
    "    \"\"\"This function changes the two columns \n",
    "    with dates/times into datetime objects.\n",
    "    To be used with dataframes with similar\n",
    "    setup to this one.\"\"\"\n",
    "    \n",
    "    try:\n",
    "        dataframe.date.astype(str)\n",
    "        dataframe.date = pd.to_datetime(dataframe.date, \n",
    "                                        format='%Y%m%d')\n",
    "    except:\n",
    "        print(\"Your dataframe does not contain a 'date' column.\")\n",
    "        \n",
    "    try:\n",
    "        dataframe.visitStartTime = pd.to_datetime(dataframe.visitStartTime, unit='s')\n",
    "    \n",
    "    except:\n",
    "        print(\"Your dataframe does not containt a 'visitStartTime' column.\")\n",
    "    \n",
    "    # confirming proper edits were made\n",
    "    return \"Date column:\", dataframe.date.dtype, \"Time column:\", dataframe.visitStartTime.dtype\n"
   ]
  },
  {
   "cell_type": "code",
   "execution_count": null,
   "metadata": {
    "ExecuteTime": {
     "end_time": "2020-02-21T01:06:54.645784Z",
     "start_time": "2020-02-21T01:06:45.478Z"
    }
   },
   "outputs": [],
   "source": [
    "datetime_edits(df)"
   ]
  },
  {
   "cell_type": "code",
   "execution_count": null,
   "metadata": {
    "ExecuteTime": {
     "end_time": "2020-02-21T01:06:54.649774Z",
     "start_time": "2020-02-21T01:06:45.484Z"
    },
    "scrolled": true
   },
   "outputs": [],
   "source": [
    "# changing immutable IDs to strings\n",
    "df.visitId = df.visitId.astype(str)"
   ]
  },
  {
   "cell_type": "code",
   "execution_count": null,
   "metadata": {
    "ExecuteTime": {
     "end_time": "2020-02-21T01:06:54.653233Z",
     "start_time": "2020-02-21T01:06:45.489Z"
    },
    "scrolled": true
   },
   "outputs": [],
   "source": [
    "\n",
    "def unpack_col(df, col):\n",
    "    \n",
    "    '''Some column values are dictionary-like strings.\n",
    "    This function unpacks those values, creating new\n",
    "    columns for each key that can then be analyzed \n",
    "    as separate features. Returns dataframe of \n",
    "    unpacked column, not including original column.\n",
    "    '''\n",
    "    \n",
    "    df[col] = df[col].dropna().apply(json.loads)\n",
    "    unpacked_df = df[col].apply(pd.Series)\n",
    "        \n",
    "    return unpacked_df\n",
    "        \n",
    "geo_df = unpack_col(df, 'geoNetwork')\n",
    "totals_df = unpack_col(df, 'totals')\n"
   ]
  },
  {
   "cell_type": "code",
   "execution_count": null,
   "metadata": {
    "ExecuteTime": {
     "end_time": "2020-02-21T01:06:54.656217Z",
     "start_time": "2020-02-21T01:06:45.493Z"
    }
   },
   "outputs": [],
   "source": [
    "df_expanded = pd.concat([df, geo_df, totals_df], axis=1)"
   ]
  },
  {
   "cell_type": "code",
   "execution_count": null,
   "metadata": {
    "ExecuteTime": {
     "end_time": "2020-02-21T01:06:54.659797Z",
     "start_time": "2020-02-21T01:06:45.498Z"
    },
    "scrolled": false
   },
   "outputs": [],
   "source": [
    "df_expanded.head()"
   ]
  },
  {
   "cell_type": "code",
   "execution_count": null,
   "metadata": {
    "ExecuteTime": {
     "end_time": "2020-02-21T01:06:54.662972Z",
     "start_time": "2020-02-21T01:06:45.502Z"
    }
   },
   "outputs": [],
   "source": [
    "# Dropping unpacked columns \n",
    "\n",
    "df_expanded = df_expanded.drop('geoNetwork', axis=1)\n",
    "df_expanded = df_expanded.drop('totals', axis=1)"
   ]
  },
  {
   "cell_type": "markdown",
   "metadata": {},
   "source": [
    "The nested information in the device and trafficSource columns would be necessary for an analysis of ad quality, but we're concerned with what the customer does once they get to the store, not how they get there. We'll drop those columns as well. "
   ]
  },
  {
   "cell_type": "code",
   "execution_count": null,
   "metadata": {
    "ExecuteTime": {
     "end_time": "2020-02-21T01:06:54.666016Z",
     "start_time": "2020-02-21T01:06:45.507Z"
    }
   },
   "outputs": [],
   "source": [
    "df_expanded = df_expanded.drop(['device', 'trafficSource'], axis=1)"
   ]
  },
  {
   "cell_type": "code",
   "execution_count": null,
   "metadata": {
    "ExecuteTime": {
     "end_time": "2020-02-21T01:06:54.669595Z",
     "start_time": "2020-02-21T01:06:45.512Z"
    }
   },
   "outputs": [],
   "source": [
    "\n",
    "# Identifying columns that have no variation\n",
    "cols = list(df_expanded.columns)\n",
    "\n",
    "one_variant = []\n",
    "for col in cols:\n",
    "    if len(df_expanded[col].unique()) == 1:\n",
    "        print(df_expanded[col].unique())\n",
    "        one_variant.append(col)\n",
    "one_variant"
   ]
  },
  {
   "cell_type": "markdown",
   "metadata": {
    "ExecuteTime": {
     "end_time": "2020-01-28T20:57:28.308643Z",
     "start_time": "2020-01-28T20:57:28.292521Z"
    }
   },
   "source": [
    "Columns with no variation in value will be dropped. Some columns in a full dataset such as language could be relevant to CLV, but since we don't have that information available through the Google Demo Account, we'll remove those columns. "
   ]
  },
  {
   "cell_type": "code",
   "execution_count": null,
   "metadata": {
    "ExecuteTime": {
     "end_time": "2020-02-21T01:06:54.672771Z",
     "start_time": "2020-02-21T01:06:45.519Z"
    }
   },
   "outputs": [],
   "source": [
    "df_expanded = df_expanded.drop(one_variant, axis=1)"
   ]
  },
  {
   "cell_type": "markdown",
   "metadata": {
    "ExecuteTime": {
     "end_time": "2020-01-28T21:10:12.329093Z",
     "start_time": "2020-01-28T21:10:12.173179Z"
    }
   },
   "source": [
    "Because our unique customer identifier is tied to 'fullVisitorId' and 'visitStartTime' describes the frequency (or lacktherof) of visits to the store, we can safely remove 'sessionId' and 'visitId'."
   ]
  },
  {
   "cell_type": "code",
   "execution_count": null,
   "metadata": {
    "ExecuteTime": {
     "end_time": "2020-02-21T01:06:54.675813Z",
     "start_time": "2020-02-21T01:06:45.524Z"
    }
   },
   "outputs": [],
   "source": [
    "df_expanded = df_expanded.drop(['visitId', 'sessionId'], axis=1)"
   ]
  },
  {
   "cell_type": "markdown",
   "metadata": {},
   "source": [
    "Columns 'region,' 'metro,' and 'city' may have an impact on whether or not a customer will spend in the future and how much due to income levels and cost of living, however most of the information in these categories is not available. We'll drop these columns for this project, though you may consider leaving them if other datasets give a more detailed look into the customers location. We can also drop 'continent' and 'subcontinent' because the country names themselves give us that information inherently. "
   ]
  },
  {
   "cell_type": "code",
   "execution_count": null,
   "metadata": {
    "ExecuteTime": {
     "end_time": "2020-02-21T01:06:54.685854Z",
     "start_time": "2020-02-21T01:06:45.529Z"
    }
   },
   "outputs": [],
   "source": [
    "# Only keeping country column to identify location of transaction\n",
    "df_expanded = df_expanded.drop(['region', 'metro', 'city', 'continent', 'subContinent' ], axis=1)"
   ]
  },
  {
   "cell_type": "code",
   "execution_count": null,
   "metadata": {
    "ExecuteTime": {
     "end_time": "2020-02-21T01:06:54.699537Z",
     "start_time": "2020-02-21T01:06:45.533Z"
    }
   },
   "outputs": [],
   "source": [
    "# Removing parentheses around \"Other\" channel group\n",
    "df_expanded.channelGrouping = df_expanded.channelGrouping.str.strip('()')"
   ]
  },
  {
   "cell_type": "markdown",
   "metadata": {},
   "source": [
    "Finally, we'll drop the 'networkDomain' column as it doesn't pertain to the prediction of CLV. "
   ]
  },
  {
   "cell_type": "code",
   "execution_count": null,
   "metadata": {
    "ExecuteTime": {
     "end_time": "2020-02-21T01:06:54.722660Z",
     "start_time": "2020-02-21T01:06:45.539Z"
    }
   },
   "outputs": [],
   "source": [
    "df_expanded.drop('networkDomain', axis=1, inplace=True)"
   ]
  },
  {
   "cell_type": "code",
   "execution_count": null,
   "metadata": {
    "ExecuteTime": {
     "end_time": "2020-02-21T01:06:54.753653Z",
     "start_time": "2020-02-21T01:06:45.543Z"
    }
   },
   "outputs": [],
   "source": [
    "df_expanded.isna().any()"
   ]
  },
  {
   "cell_type": "code",
   "execution_count": null,
   "metadata": {
    "ExecuteTime": {
     "end_time": "2020-02-21T01:06:54.764166Z",
     "start_time": "2020-02-21T01:06:45.547Z"
    }
   },
   "outputs": [],
   "source": [
    "# Replacing a variant of NaN with 'Unknown'\n",
    "df_expanded = df_expanded.replace('(not set)', 'Unknown')"
   ]
  },
  {
   "cell_type": "code",
   "execution_count": null,
   "metadata": {
    "ExecuteTime": {
     "end_time": "2020-02-21T01:06:54.770074Z",
     "start_time": "2020-02-21T01:06:45.552Z"
    },
    "scrolled": true
   },
   "outputs": [],
   "source": [
    "nan_cols = ['pageviews', 'bounces', 'newVisits', 'transactionRevenue']\n",
    "for col in nan_cols: \n",
    "    \n",
    "    print(f'{col} NaN: ', df_expanded[col].isnull().sum())\n",
    "    print(f'{col} datatype: ', df_expanded[col].dtype, '\\n')"
   ]
  },
  {
   "cell_type": "markdown",
   "metadata": {},
   "source": [
    "Each of the columns that contain null values are related to the customer's behavior once on the site. We can change the NaNs to 0 to indicate no pages were viewed, the customer did not bounce, the customer has been to the merch store previously, and the customer did not purchase from the store. We also need to correct the datatype of 'transactionRevenue' from object to float. "
   ]
  },
  {
   "cell_type": "code",
   "execution_count": null,
   "metadata": {
    "ExecuteTime": {
     "end_time": "2020-02-21T01:06:54.773552Z",
     "start_time": "2020-02-21T01:06:45.557Z"
    }
   },
   "outputs": [],
   "source": [
    "df_expanded.fillna('0', inplace=True)"
   ]
  },
  {
   "cell_type": "code",
   "execution_count": null,
   "metadata": {
    "ExecuteTime": {
     "end_time": "2020-02-21T01:06:54.776941Z",
     "start_time": "2020-02-21T01:06:45.561Z"
    }
   },
   "outputs": [],
   "source": [
    "df_expanded.transactionRevenue = df_expanded.transactionRevenue.astype('float')"
   ]
  },
  {
   "cell_type": "code",
   "execution_count": null,
   "metadata": {
    "ExecuteTime": {
     "end_time": "2020-02-21T01:06:54.780886Z",
     "start_time": "2020-02-21T01:06:45.566Z"
    },
    "scrolled": true
   },
   "outputs": [],
   "source": [
    "for col in df_expanded.columns:\n",
    "    print(df_expanded[col].value_counts().head())"
   ]
  },
  {
   "cell_type": "code",
   "execution_count": null,
   "metadata": {
    "ExecuteTime": {
     "end_time": "2020-02-21T01:06:54.784275Z",
     "start_time": "2020-02-21T01:06:45.570Z"
    }
   },
   "outputs": [],
   "source": [
    "df_expanded.to_csv('cleaned_df.csv', index=False)"
   ]
  },
  {
   "cell_type": "markdown",
   "metadata": {},
   "source": [
    "## Exploratory Data Analysis"
   ]
  },
  {
   "cell_type": "code",
   "execution_count": null,
   "metadata": {
    "ExecuteTime": {
     "end_time": "2020-02-21T01:06:54.787261Z",
     "start_time": "2020-02-21T01:06:45.576Z"
    },
    "scrolled": false
   },
   "outputs": [],
   "source": [
    "df = pd.read_csv('cleaned_df.csv')\n",
    "df.head()"
   ]
  },
  {
   "cell_type": "code",
   "execution_count": null,
   "metadata": {
    "ExecuteTime": {
     "end_time": "2020-02-21T01:06:54.789506Z",
     "start_time": "2020-02-21T01:06:45.581Z"
    },
    "scrolled": false
   },
   "outputs": [],
   "source": [
    "df.describe()"
   ]
  },
  {
   "cell_type": "markdown",
   "metadata": {},
   "source": [
    "The dataset is pulled through Google Analytics BigQuery, and according to the BigQuery cookbook, transaction revenue is in USD * 10^6. We'll need to add a negligable amount to each transaction (to avoid dividing by 0) and take the log of the transactionRevenue column before we proceed with data exploration."
   ]
  },
  {
   "cell_type": "code",
   "execution_count": null,
   "metadata": {
    "ExecuteTime": {
     "end_time": "2020-02-21T01:06:54.792290Z",
     "start_time": "2020-02-21T01:06:45.586Z"
    },
    "scrolled": true
   },
   "outputs": [],
   "source": [
    "df['logRevenue'] = np.log(df.transactionRevenue+1)"
   ]
  },
  {
   "cell_type": "code",
   "execution_count": null,
   "metadata": {
    "ExecuteTime": {
     "end_time": "2020-02-21T01:06:54.794603Z",
     "start_time": "2020-02-21T01:06:45.591Z"
    }
   },
   "outputs": [],
   "source": [
    "df.head()"
   ]
  },
  {
   "cell_type": "code",
   "execution_count": null,
   "metadata": {
    "ExecuteTime": {
     "end_time": "2020-02-21T01:06:54.796348Z",
     "start_time": "2020-02-21T01:06:45.596Z"
    },
    "scrolled": false
   },
   "outputs": [],
   "source": [
    "purchase_df = df.loc[df.transactionRevenue > 0.0]\n",
    "\n",
    "print('Our timeline begins: ', df.visitStartTime.min(), 'and ends: ', df.visitStartTime.max())\n",
    "print(f'{len(purchase_df)} customers made purchases during that time period totalling {round(purchase_df.logRevenue.sum(),2)}')\n"
   ]
  },
  {
   "cell_type": "markdown",
   "metadata": {},
   "source": [
    "The vast majority of visits to the Google Merch Store did NOT yield purchases."
   ]
  },
  {
   "cell_type": "code",
   "execution_count": null,
   "metadata": {
    "ExecuteTime": {
     "end_time": "2020-02-21T01:06:54.798986Z",
     "start_time": "2020-02-21T01:06:45.604Z"
    }
   },
   "outputs": [],
   "source": [
    "round(purchase_df.logRevenue.max(),2)"
   ]
  },
  {
   "cell_type": "code",
   "execution_count": null,
   "metadata": {
    "ExecuteTime": {
     "end_time": "2020-02-21T01:06:54.802070Z",
     "start_time": "2020-02-21T01:06:45.608Z"
    }
   },
   "outputs": [],
   "source": [
    "%matplotlib inline\n",
    "fig = plt.subplots(figsize=(13, 4))\n",
    "plt.tight_layout()\n",
    "\n",
    "plt.subplot(1, 2, 1)\n",
    "sns.distplot(purchase_df.logRevenue)\n",
    "plt.title(f\"Distribution of Revenue (only purchases)\")\n",
    "\n",
    "plt.subplot(1, 2, 2)\n",
    "sns.distplot(df.logRevenue)\n",
    "plt.title(f\"Distribution of Revenue (including no purchase)\");"
   ]
  },
  {
   "cell_type": "code",
   "execution_count": null,
   "metadata": {
    "ExecuteTime": {
     "end_time": "2020-02-21T01:06:54.804862Z",
     "start_time": "2020-02-21T01:06:45.612Z"
    },
    "scrolled": false
   },
   "outputs": [],
   "source": [
    "plt.subplots(figsize=(15,8))\n",
    "\n",
    "plt.subplot(1,2,1)\n",
    "sns.violinplot(x='logRevenue', y='channelGrouping', data=purchase_df)\n",
    "plt.title('Distribution of Purchase Revenue by Channel')\n",
    "\n",
    "plt.subplot(1,2,2)\n",
    "sns.violinplot(x='logRevenue', y='channelGrouping', data=df)\n",
    "plt.title('Distribution of Purchase Revenue by Channel, including no purchase')\n",
    "\n",
    "plt.tight_layout();"
   ]
  },
  {
   "cell_type": "code",
   "execution_count": null,
   "metadata": {
    "ExecuteTime": {
     "end_time": "2020-02-21T01:06:54.807895Z",
     "start_time": "2020-02-21T01:06:45.616Z"
    }
   },
   "outputs": [],
   "source": [
    "df.date = pd.to_datetime(df.date)"
   ]
  },
  {
   "cell_type": "code",
   "execution_count": null,
   "metadata": {
    "ExecuteTime": {
     "end_time": "2020-02-21T01:06:54.810675Z",
     "start_time": "2020-02-21T01:06:45.620Z"
    }
   },
   "outputs": [],
   "source": [
    "time_df = df.groupby(by=['date']).agg({'fullVisitorId':'count', 'transactionRevenue':'sum'})"
   ]
  },
  {
   "cell_type": "code",
   "execution_count": null,
   "metadata": {
    "ExecuteTime": {
     "end_time": "2020-02-21T01:06:54.812571Z",
     "start_time": "2020-02-21T01:06:45.625Z"
    }
   },
   "outputs": [],
   "source": [
    "plt.figure(figsize=(15,8))\n",
    "\n",
    "plt.subplot(2,1,1)\n",
    "plt.plot(time_df.index,time_df['transactionRevenue'])\n",
    "plt.ylabel('Revenue')\n",
    "\n",
    "plt.subplot(2,1,2)\n",
    "plt.plot(time_df.index,time_df['fullVisitorId'])\n",
    "plt.ylabel('Visits');"
   ]
  },
  {
   "cell_type": "code",
   "execution_count": null,
   "metadata": {
    "ExecuteTime": {
     "end_time": "2020-02-21T01:06:54.814855Z",
     "start_time": "2020-02-21T01:06:45.630Z"
    }
   },
   "outputs": [],
   "source": [
    "country_df = df.groupby(by=['country']).agg({'fullVisitorId':'count','logRevenue': 'sum'})  #.agg({'fullVisitorId':'count', 'transactionRevenue':'sum'})"
   ]
  },
  {
   "cell_type": "code",
   "execution_count": null,
   "metadata": {
    "ExecuteTime": {
     "end_time": "2020-02-21T01:06:54.818292Z",
     "start_time": "2020-02-21T01:06:45.635Z"
    }
   },
   "outputs": [],
   "source": [
    "top_ten_by_rev = country_df.sort_values('logRevenue', ascending=False).head(10)\n",
    "top_ten_by_count = country_df.sort_values('fullVisitorId', ascending=False).head(10)"
   ]
  },
  {
   "cell_type": "code",
   "execution_count": null,
   "metadata": {
    "ExecuteTime": {
     "end_time": "2020-02-21T01:06:54.821454Z",
     "start_time": "2020-02-21T01:06:45.639Z"
    },
    "scrolled": false
   },
   "outputs": [],
   "source": [
    "plt.figure(figsize=(14,6))\n",
    "\n",
    "plt.subplot(1,2,1)\n",
    "plt.bar(top_ten_by_rev.index,top_ten_by_rev['logRevenue'])\n",
    "plt.title('Top Ten Countries by Revenue')\n",
    "plt.ylabel('Revenue (log)')\n",
    "plt.xticks(rotation=45)\n",
    "\n",
    "plt.subplot(1,2,2)\n",
    "plt.bar(top_ten_by_count.index,top_ten_by_count['fullVisitorId'])\n",
    "plt.title('Top Ten Countries by Order Count')\n",
    "plt.ylabel('Order Count')\n",
    "plt.xticks(rotation=45);"
   ]
  },
  {
   "cell_type": "code",
   "execution_count": null,
   "metadata": {
    "ExecuteTime": {
     "end_time": "2020-02-21T01:06:54.824545Z",
     "start_time": "2020-02-21T01:06:45.644Z"
    }
   },
   "outputs": [],
   "source": [
    "customer_df = purchase_df.groupby(by=['fullVisitorId']).agg({'visitNumber':'count', 'transactionRevenue':'sum'})"
   ]
  },
  {
   "cell_type": "code",
   "execution_count": null,
   "metadata": {
    "ExecuteTime": {
     "end_time": "2020-02-21T01:06:54.827539Z",
     "start_time": "2020-02-21T01:06:45.648Z"
    }
   },
   "outputs": [],
   "source": [
    "customer_df = customer_df.loc[customer_df['visitNumber'] >1]"
   ]
  },
  {
   "cell_type": "code",
   "execution_count": null,
   "metadata": {
    "ExecuteTime": {
     "end_time": "2020-02-21T01:06:54.829425Z",
     "start_time": "2020-02-21T01:06:45.653Z"
    }
   },
   "outputs": [],
   "source": [
    "print(f'{len(customer_df)} out of {len(purchase_df)} customers have made repeat purchases. ({round((len(customer_df)/len(purchase_df))*100)}% of customers)')"
   ]
  },
  {
   "cell_type": "code",
   "execution_count": null,
   "metadata": {
    "ExecuteTime": {
     "end_time": "2020-02-21T01:06:54.832751Z",
     "start_time": "2020-02-21T01:06:45.657Z"
    },
    "scrolled": false
   },
   "outputs": [],
   "source": [
    "print(f'The most orders made by a single customer: {customer_df.visitNumber.max()}')"
   ]
  },
  {
   "cell_type": "markdown",
   "metadata": {},
   "source": [
    "# Market Segmentation and the RFM Model"
   ]
  },
  {
   "cell_type": "markdown",
   "metadata": {},
   "source": [
    "In marketing, customer segmentation is the gold standard. As you understand your customers with precise detail, the more genuine your marketing rhetoric will come across. Generally, there are four ways to segment your consumer base: \n",
    "\n",
    " - Demographic\n",
    " - Geographic\n",
    " - Psychographic\n",
    " - Behavioral\n",
    " \n",
    "In order to supplement the web data we have from the Google Merchandise Store, we'll engineer a few features in order to 'score' each customer based on the RFM model. This technique takes the recency (R) of the last purchase, the frequency (F) of all purchases, and the monetary value (M) defined by the revenue of each customer. "
   ]
  },
  {
   "cell_type": "markdown",
   "metadata": {},
   "source": [
    "<img src=\"RFM.png\">"
   ]
  },
  {
   "cell_type": "markdown",
   "metadata": {},
   "source": [
    "Further down, we'll be using the sklearn's KMeans clustering algorithm to segment the customers. Depending on the busines objective, of which we don't have, we could have a set amount of segments to identify. For our purposes in this notebook, we'll try a technique to identify the optimal number of segments by finding the lowest sum of squared errors. \n",
    " \n",
    "*It's worth it to note that the data may NOT have identifiable clusters. Work with the data you have and make decisions that best suit the stakeholder's needs while not looking for information that isn't there."
   ]
  },
  {
   "cell_type": "code",
   "execution_count": 339,
   "metadata": {
    "ExecuteTime": {
     "end_time": "2020-02-21T01:44:49.655235Z",
     "start_time": "2020-02-21T01:44:45.953622Z"
    }
   },
   "outputs": [],
   "source": [
    "# Importing cleaned dataset\n",
    "df = pd.read_csv('cleaned_df.csv')\n",
    "df.fullVisitorId = df.fullVisitorId.astype(str)\n",
    "df['logRevenue'] = np.log(df.transactionRevenue+1)"
   ]
  },
  {
   "cell_type": "markdown",
   "metadata": {},
   "source": [
    "## Feature Engineering"
   ]
  },
  {
   "cell_type": "code",
   "execution_count": 340,
   "metadata": {
    "ExecuteTime": {
     "end_time": "2020-02-21T01:44:49.692715Z",
     "start_time": "2020-02-21T01:44:49.658391Z"
    }
   },
   "outputs": [],
   "source": [
    "\n",
    "def RFM_dataframe(customer_col, purchase_date_col, revenue_col, df):\n",
    "    '''\n",
    "    This function takes in a previously cleaned\n",
    "    dataframe and the column names for customers, \n",
    "    purchase dates, and revenue as strings.\n",
    "    Returns dataframe with two engineerd columns: \n",
    "    recency, and frequency, as well as a cumulative\n",
    "    revenue total for each unique\n",
    "    visitor to the Google Merch Store.\n",
    "    '''\n",
    "    \n",
    "    # Select only unique customer IDs\n",
    "    cust_df = df.groupby(customer_col)\n",
    "    cust_df = pd.DataFrame(df[customer_col].unique(), columns=[customer_col])\n",
    "    cust_df[customer_col].astype(str)\n",
    "    \n",
    "    # Create Dataframe of unique visitors and most recent visit to site\n",
    "    df_recency = df.groupby(customer_col)[purchase_date_col].max().reset_index()\n",
    "    df_recency.columns = [customer_col,purchase_date_col]\n",
    "    df_recency[purchase_date_col] = pd.to_datetime(df_recency[purchase_date_col])\n",
    "    df_recency['Recency'] = (df_recency[purchase_date_col].max() - df_recency[purchase_date_col]).dt.days\n",
    "    df_recency = df_recency.drop(purchase_date_col, axis=1)\n",
    "    df_recency['Recency'].astype('int')\n",
    "    \n",
    "    # Get visit counts for each user and create dataframe\n",
    "    # Frequency is determined by repeat purchases: Order count - 1\n",
    "    df_frequency = df.groupby(customer_col)[purchase_date_col].count().reset_index()\n",
    "    \n",
    "    df_frequency.columns = [customer_col,'Frequency']\n",
    "    df_frequency['Frequency'] = df_frequency['Frequency'] - 1\n",
    "    \n",
    "    # Get total order revenue for each unique visitor \n",
    "    df_revenue = df.groupby(customer_col)[revenue_col].mean().reset_index()\n",
    "    \n",
    "    # Merge data\n",
    "    \n",
    "    dfs = [df_frequency, df_recency, df_revenue]\n",
    "    \n",
    "    for e in dfs:\n",
    "        cust_df = pd.merge(cust_df, e, on=customer_col)\n",
    "        \n",
    "    return cust_df"
   ]
  },
  {
   "cell_type": "markdown",
   "metadata": {},
   "source": [
    "Above is a nifty function I created to take our cleaned dataset and engineer the necessary features for segmentation and returns a new dataframe with only the necessary features needed to segment customers using the RFM model."
   ]
  },
  {
   "cell_type": "code",
   "execution_count": 341,
   "metadata": {
    "ExecuteTime": {
     "end_time": "2020-02-21T01:46:45.751174Z",
     "start_time": "2020-02-21T01:44:49.733028Z"
    }
   },
   "outputs": [],
   "source": [
    "cust_df = RFM_dataframe('fullVisitorId', 'visitStartTime', 'logRevenue', df)"
   ]
  },
  {
   "cell_type": "code",
   "execution_count": 342,
   "metadata": {
    "ExecuteTime": {
     "end_time": "2020-02-21T01:46:45.782064Z",
     "start_time": "2020-02-21T01:46:45.754860Z"
    },
    "scrolled": false
   },
   "outputs": [
    {
     "data": {
      "text/html": [
       "<div>\n",
       "<style scoped>\n",
       "    .dataframe tbody tr th:only-of-type {\n",
       "        vertical-align: middle;\n",
       "    }\n",
       "\n",
       "    .dataframe tbody tr th {\n",
       "        vertical-align: top;\n",
       "    }\n",
       "\n",
       "    .dataframe thead th {\n",
       "        text-align: right;\n",
       "    }\n",
       "</style>\n",
       "<table border=\"1\" class=\"dataframe\">\n",
       "  <thead>\n",
       "    <tr style=\"text-align: right;\">\n",
       "      <th></th>\n",
       "      <th>fullVisitorId</th>\n",
       "      <th>Frequency</th>\n",
       "      <th>Recency</th>\n",
       "      <th>logRevenue</th>\n",
       "    </tr>\n",
       "  </thead>\n",
       "  <tbody>\n",
       "    <tr>\n",
       "      <th>0</th>\n",
       "      <td>1131660440785968503</td>\n",
       "      <td>1</td>\n",
       "      <td>333</td>\n",
       "      <td>0.0</td>\n",
       "    </tr>\n",
       "    <tr>\n",
       "      <th>1</th>\n",
       "      <td>377306020877927890</td>\n",
       "      <td>1</td>\n",
       "      <td>333</td>\n",
       "      <td>0.0</td>\n",
       "    </tr>\n",
       "    <tr>\n",
       "      <th>2</th>\n",
       "      <td>3895546263509774583</td>\n",
       "      <td>1</td>\n",
       "      <td>333</td>\n",
       "      <td>0.0</td>\n",
       "    </tr>\n",
       "    <tr>\n",
       "      <th>3</th>\n",
       "      <td>4763447161404445595</td>\n",
       "      <td>1</td>\n",
       "      <td>333</td>\n",
       "      <td>0.0</td>\n",
       "    </tr>\n",
       "    <tr>\n",
       "      <th>4</th>\n",
       "      <td>27294437909732085</td>\n",
       "      <td>2</td>\n",
       "      <td>333</td>\n",
       "      <td>0.0</td>\n",
       "    </tr>\n",
       "  </tbody>\n",
       "</table>\n",
       "</div>"
      ],
      "text/plain": [
       "         fullVisitorId  Frequency  Recency  logRevenue\n",
       "0  1131660440785968503          1      333         0.0\n",
       "1   377306020877927890          1      333         0.0\n",
       "2  3895546263509774583          1      333         0.0\n",
       "3  4763447161404445595          1      333         0.0\n",
       "4    27294437909732085          2      333         0.0"
      ]
     },
     "execution_count": 342,
     "metadata": {},
     "output_type": "execute_result"
    }
   ],
   "source": [
    "cust_df.head()"
   ]
  },
  {
   "cell_type": "markdown",
   "metadata": {},
   "source": [
    "Without assuming Google's marketing plan, I've decided to segment only those who have previously purchased. It may be beneficial to dive deeper into the behaviors of those who have not made purchases such as number of pages visited, pages on which they bounced, etc. so that you might improve your chances of them completing purchases online."
   ]
  },
  {
   "cell_type": "code",
   "execution_count": 343,
   "metadata": {
    "ExecuteTime": {
     "end_time": "2020-02-21T01:46:45.839232Z",
     "start_time": "2020-02-21T01:46:45.797184Z"
    }
   },
   "outputs": [],
   "source": [
    "purchases = cust_df.loc[cust_df.logRevenue >0]"
   ]
  },
  {
   "cell_type": "markdown",
   "metadata": {},
   "source": [
    "As we saw earlier, the data was very skewed, so we'll take the natural log of our other two features to normalize."
   ]
  },
  {
   "cell_type": "code",
   "execution_count": 344,
   "metadata": {
    "ExecuteTime": {
     "end_time": "2020-02-21T01:46:45.853594Z",
     "start_time": "2020-02-21T01:46:45.842086Z"
    }
   },
   "outputs": [],
   "source": [
    "purchases['Recency'] = np.log(purchases['Recency']+1)\n",
    "purchases['Frequency'] = np.log(purchases['Frequency']+1)"
   ]
  },
  {
   "cell_type": "markdown",
   "metadata": {
    "ExecuteTime": {
     "end_time": "2020-02-13T15:36:21.624644Z",
     "start_time": "2020-02-13T15:36:21.620990Z"
    }
   },
   "source": [
    "## Customer Segmentation - Unsupervised Machine Learning with Kmeans"
   ]
  },
  {
   "cell_type": "markdown",
   "metadata": {},
   "source": [
    "Now that our data is ready to cluster, we'll test a few cluster levels and compare the sum of squared errors in an elbow plot to identify the best level to cluster each feature individually."
   ]
  },
  {
   "cell_type": "code",
   "execution_count": 345,
   "metadata": {
    "ExecuteTime": {
     "end_time": "2020-02-21T01:46:45.866229Z",
     "start_time": "2020-02-21T01:46:45.856830Z"
    },
    "scrolled": true
   },
   "outputs": [],
   "source": [
    "\n",
    "def SSE_plot(df, col_to_plot=False):\n",
    "    '''\n",
    "    This function takes in one column of\n",
    "    the RFM dataframe as a string\n",
    "    and will plot a KMeans elbow plot of the \n",
    "    sum of squared estimate. Where the elbow\n",
    "    bends will determine how many clusters are\n",
    "    optimal for the Kmeans clustering.\n",
    "    '''\n",
    "    sse={}\n",
    "    if col_to_plot:\n",
    "        km_var = df[[col_to_plot]].copy()\n",
    "    else:\n",
    "        km_var = df.copy()\n",
    "    for k in range(1, 10):\n",
    "        kmeans = KMeans(n_clusters=k, max_iter=1000).fit(km_var)\n",
    "        km_var[\"clusters\"] = kmeans.labels_\n",
    "        sse[k] = kmeans.inertia_ \n",
    "    plt.figure()\n",
    "    plt.plot(list(sse.keys()), list(sse.values()))\n",
    "    plt.xlabel(\"Number of cluster\")\n",
    "#     plt.title(str(km_var))\n",
    "    plt.show();\n",
    "    "
   ]
  },
  {
   "cell_type": "code",
   "execution_count": 346,
   "metadata": {
    "ExecuteTime": {
     "end_time": "2020-02-21T01:46:49.114354Z",
     "start_time": "2020-02-21T01:46:45.873892Z"
    },
    "scrolled": false
   },
   "outputs": [
    {
     "name": "stdout",
     "output_type": "stream",
     "text": [
      "Frequency\n"
     ]
    },
    {
     "data": {
      "image/png": "[encoded data removed]",
      "text/plain": [
       "<Figure size 432x288 with 1 Axes>"
      ]
     },
     "metadata": {
      "needs_background": "light"
     },
     "output_type": "display_data"
    },
    {
     "name": "stdout",
     "output_type": "stream",
     "text": [
      "Recency\n"
     ]
    },
    {
     "data": {
      "image/png": "[encoded data removed]",
      "text/plain": [
       "<Figure size 432x288 with 1 Axes>"
      ]
     },
     "metadata": {
      "needs_background": "light"
     },
     "output_type": "display_data"
    },
    {
     "name": "stdout",
     "output_type": "stream",
     "text": [
      "logRevenue\n"
     ]
    },
    {
     "data": {
      "image/png": "[encoded data removed]",
      "text/plain": [
       "<Figure size 432x288 with 1 Axes>"
      ]
     },
     "metadata": {
      "needs_background": "light"
     },
     "output_type": "display_data"
    }
   ],
   "source": [
    "%matplotlib inline\n",
    "for col in ['Frequency', 'Recency', 'logRevenue']:\n",
    "    print(col)\n",
    "    SSE_plot(purchases, col)"
   ]
  },
  {
   "cell_type": "code",
   "execution_count": 347,
   "metadata": {
    "ExecuteTime": {
     "end_time": "2020-02-21T01:46:49.139136Z",
     "start_time": "2020-02-21T01:46:49.119127Z"
    }
   },
   "outputs": [],
   "source": [
    "\n",
    "def order_cluster(cluster_col, feature_col, df, ascending):\n",
    "    '''\n",
    "    This function takes in a column of cluster\n",
    "    assignments and features used to assign the \n",
    "    cluster as strings, dataframe in which clusters\n",
    "    are featured, and ascending argument. Returns \n",
    "    dataframe with clusters ordered from worst to best.\n",
    "    '''\n",
    "    \n",
    "    df_new = df.groupby(cluster_col)[feature_col].mean().reset_index()\n",
    "    df_new = df_new.sort_values(by=feature_col,ascending=ascending).reset_index(drop=True)\n",
    "    df_new['index'] = df_new.index\n",
    "    df_final = pd.merge(df,df_new[[cluster_col,'index']], on=cluster_col)\n",
    "    df_final = df_final.drop([cluster_col],axis=1)\n",
    "    df_final = df_final.rename(columns={\"index\":cluster_col})\n",
    "    return df_final"
   ]
  },
  {
   "cell_type": "markdown",
   "metadata": {},
   "source": [
    "Below, we'll cluster based on the number identified by the SSE plots. We'll use the function above to order the clusters from worst to best and view basic statistics of each feature's cluster."
   ]
  },
  {
   "cell_type": "code",
   "execution_count": 348,
   "metadata": {
    "ExecuteTime": {
     "end_time": "2020-02-21T01:46:49.266701Z",
     "start_time": "2020-02-21T01:46:49.147897Z"
    },
    "scrolled": true
   },
   "outputs": [
    {
     "data": {
      "text/html": [
       "<div>\n",
       "<style scoped>\n",
       "    .dataframe tbody tr th:only-of-type {\n",
       "        vertical-align: middle;\n",
       "    }\n",
       "\n",
       "    .dataframe tbody tr th {\n",
       "        vertical-align: top;\n",
       "    }\n",
       "\n",
       "    .dataframe thead th {\n",
       "        text-align: right;\n",
       "    }\n",
       "</style>\n",
       "<table border=\"1\" class=\"dataframe\">\n",
       "  <thead>\n",
       "    <tr style=\"text-align: right;\">\n",
       "      <th></th>\n",
       "      <th>count</th>\n",
       "      <th>mean</th>\n",
       "      <th>std</th>\n",
       "      <th>min</th>\n",
       "      <th>25%</th>\n",
       "      <th>50%</th>\n",
       "      <th>75%</th>\n",
       "      <th>max</th>\n",
       "    </tr>\n",
       "    <tr>\n",
       "      <th>FrequencyCluster</th>\n",
       "      <th></th>\n",
       "      <th></th>\n",
       "      <th></th>\n",
       "      <th></th>\n",
       "      <th></th>\n",
       "      <th></th>\n",
       "      <th></th>\n",
       "      <th></th>\n",
       "    </tr>\n",
       "  </thead>\n",
       "  <tbody>\n",
       "    <tr>\n",
       "      <th>0</th>\n",
       "      <td>3232.0</td>\n",
       "      <td>0.693147</td>\n",
       "      <td>1.110395e-16</td>\n",
       "      <td>0.693147</td>\n",
       "      <td>0.693147</td>\n",
       "      <td>0.693147</td>\n",
       "      <td>0.693147</td>\n",
       "      <td>0.693147</td>\n",
       "    </tr>\n",
       "    <tr>\n",
       "      <th>1</th>\n",
       "      <td>3732.0</td>\n",
       "      <td>1.210694</td>\n",
       "      <td>1.403099e-01</td>\n",
       "      <td>1.098612</td>\n",
       "      <td>1.098612</td>\n",
       "      <td>1.098612</td>\n",
       "      <td>1.386294</td>\n",
       "      <td>1.386294</td>\n",
       "    </tr>\n",
       "    <tr>\n",
       "      <th>2</th>\n",
       "      <td>2396.0</td>\n",
       "      <td>1.813461</td>\n",
       "      <td>1.990027e-01</td>\n",
       "      <td>1.609438</td>\n",
       "      <td>1.609438</td>\n",
       "      <td>1.791759</td>\n",
       "      <td>1.945910</td>\n",
       "      <td>2.197225</td>\n",
       "    </tr>\n",
       "    <tr>\n",
       "      <th>3</th>\n",
       "      <td>670.0</td>\n",
       "      <td>2.684826</td>\n",
       "      <td>4.425648e-01</td>\n",
       "      <td>2.302585</td>\n",
       "      <td>2.397895</td>\n",
       "      <td>2.564949</td>\n",
       "      <td>2.890372</td>\n",
       "      <td>5.631212</td>\n",
       "    </tr>\n",
       "  </tbody>\n",
       "</table>\n",
       "</div>"
      ],
      "text/plain": [
       "                   count      mean           std       min       25%  \\\n",
       "FrequencyCluster                                                       \n",
       "0                 3232.0  0.693147  1.110395e-16  0.693147  0.693147   \n",
       "1                 3732.0  1.210694  1.403099e-01  1.098612  1.098612   \n",
       "2                 2396.0  1.813461  1.990027e-01  1.609438  1.609438   \n",
       "3                  670.0  2.684826  4.425648e-01  2.302585  2.397895   \n",
       "\n",
       "                       50%       75%       max  \n",
       "FrequencyCluster                                \n",
       "0                 0.693147  0.693147  0.693147  \n",
       "1                 1.098612  1.386294  1.386294  \n",
       "2                 1.791759  1.945910  2.197225  \n",
       "3                 2.564949  2.890372  5.631212  "
      ]
     },
     "execution_count": 348,
     "metadata": {},
     "output_type": "execute_result"
    }
   ],
   "source": [
    "def frequency_cluster(cluster_number, frequency_col, dataframe):\n",
    "    frequency_kmeans = KMeans(n_clusters=cluster_number)\n",
    "    frequency_kmeans.fit(dataframe[[frequency_col]])\n",
    "    \n",
    "    # Assigning cluster prediction to customers\n",
    "    dataframe['FrequencyCluster'] = frequency_kmeans.predict(dataframe[[frequency_col]])\n",
    "    \n",
    "    # Ordering clusters from low to high and identifying statistics\n",
    "    dataframe = order_cluster('FrequencyCluster', frequency_col, dataframe, True)\n",
    "    \n",
    "    return dataframe\n",
    "\n",
    "purchases = frequency_cluster(4, 'Frequency', purchases)\n",
    "purchases.groupby('FrequencyCluster')['Frequency'].describe()"
   ]
  },
  {
   "cell_type": "code",
   "execution_count": 349,
   "metadata": {
    "ExecuteTime": {
     "end_time": "2020-02-21T01:46:49.442750Z",
     "start_time": "2020-02-21T01:46:49.270029Z"
    },
    "cell_style": "center",
    "scrolled": true
   },
   "outputs": [
    {
     "data": {
      "text/html": [
       "<div>\n",
       "<style scoped>\n",
       "    .dataframe tbody tr th:only-of-type {\n",
       "        vertical-align: middle;\n",
       "    }\n",
       "\n",
       "    .dataframe tbody tr th {\n",
       "        vertical-align: top;\n",
       "    }\n",
       "\n",
       "    .dataframe thead th {\n",
       "        text-align: right;\n",
       "    }\n",
       "</style>\n",
       "<table border=\"1\" class=\"dataframe\">\n",
       "  <thead>\n",
       "    <tr style=\"text-align: right;\">\n",
       "      <th></th>\n",
       "      <th>count</th>\n",
       "      <th>mean</th>\n",
       "      <th>std</th>\n",
       "      <th>min</th>\n",
       "      <th>25%</th>\n",
       "      <th>50%</th>\n",
       "      <th>75%</th>\n",
       "      <th>max</th>\n",
       "    </tr>\n",
       "    <tr>\n",
       "      <th>RecencyCluster</th>\n",
       "      <th></th>\n",
       "      <th></th>\n",
       "      <th></th>\n",
       "      <th></th>\n",
       "      <th></th>\n",
       "      <th></th>\n",
       "      <th></th>\n",
       "      <th></th>\n",
       "    </tr>\n",
       "  </thead>\n",
       "  <tbody>\n",
       "    <tr>\n",
       "      <th>0</th>\n",
       "      <td>5500.0</td>\n",
       "      <td>5.527220</td>\n",
       "      <td>0.238730</td>\n",
       "      <td>5.023881</td>\n",
       "      <td>5.361292</td>\n",
       "      <td>5.517453</td>\n",
       "      <td>5.736572</td>\n",
       "      <td>5.902633</td>\n",
       "    </tr>\n",
       "    <tr>\n",
       "      <th>1</th>\n",
       "      <td>2927.0</td>\n",
       "      <td>4.509043</td>\n",
       "      <td>0.325774</td>\n",
       "      <td>3.828641</td>\n",
       "      <td>4.276666</td>\n",
       "      <td>4.532599</td>\n",
       "      <td>4.783308</td>\n",
       "      <td>5.017280</td>\n",
       "    </tr>\n",
       "    <tr>\n",
       "      <th>2</th>\n",
       "      <td>1174.0</td>\n",
       "      <td>3.134230</td>\n",
       "      <td>0.457627</td>\n",
       "      <td>2.197225</td>\n",
       "      <td>2.772589</td>\n",
       "      <td>3.135494</td>\n",
       "      <td>3.555348</td>\n",
       "      <td>3.806662</td>\n",
       "    </tr>\n",
       "    <tr>\n",
       "      <th>3</th>\n",
       "      <td>429.0</td>\n",
       "      <td>1.169868</td>\n",
       "      <td>0.727823</td>\n",
       "      <td>0.000000</td>\n",
       "      <td>0.693147</td>\n",
       "      <td>1.386294</td>\n",
       "      <td>1.791759</td>\n",
       "      <td>2.079442</td>\n",
       "    </tr>\n",
       "  </tbody>\n",
       "</table>\n",
       "</div>"
      ],
      "text/plain": [
       "                 count      mean       std       min       25%       50%  \\\n",
       "RecencyCluster                                                             \n",
       "0               5500.0  5.527220  0.238730  5.023881  5.361292  5.517453   \n",
       "1               2927.0  4.509043  0.325774  3.828641  4.276666  4.532599   \n",
       "2               1174.0  3.134230  0.457627  2.197225  2.772589  3.135494   \n",
       "3                429.0  1.169868  0.727823  0.000000  0.693147  1.386294   \n",
       "\n",
       "                     75%       max  \n",
       "RecencyCluster                      \n",
       "0               5.736572  5.902633  \n",
       "1               4.783308  5.017280  \n",
       "2               3.555348  3.806662  \n",
       "3               1.791759  2.079442  "
      ]
     },
     "execution_count": 349,
     "metadata": {},
     "output_type": "execute_result"
    }
   ],
   "source": [
    "def recency_cluster(cluster_number, recency_col, dataframe):\n",
    "    recency_kmeans = KMeans(n_clusters=cluster_number)\n",
    "    recency_kmeans.fit(dataframe[[recency_col]])\n",
    "    \n",
    "    # Assigning cluster prediction to customers\n",
    "    dataframe['RecencyCluster'] = recency_kmeans.predict(dataframe[[recency_col]])\n",
    "    \n",
    "    # Ordering clusters from low to high and identifying statistics\n",
    "    dataframe = order_cluster('RecencyCluster', recency_col, dataframe, False)\n",
    "    \n",
    "    return dataframe\n",
    "\n",
    "purchases = recency_cluster(4, 'Recency', purchases)\n",
    "purchases.groupby('RecencyCluster')['Recency'].describe()"
   ]
  },
  {
   "cell_type": "markdown",
   "metadata": {},
   "source": [
    "Having tested with the number of clusters determined by the elbow plot above, three clusters were insufficient for this dataset. Instead, I'll be using five clusters. More clusters added nuance to the revenue category, thus giving more weight to revenue when scoring overall in the following cells. "
   ]
  },
  {
   "cell_type": "code",
   "execution_count": 350,
   "metadata": {
    "ExecuteTime": {
     "end_time": "2020-02-21T01:46:49.609489Z",
     "start_time": "2020-02-21T01:46:49.446338Z"
    }
   },
   "outputs": [
    {
     "data": {
      "text/html": [
       "<div>\n",
       "<style scoped>\n",
       "    .dataframe tbody tr th:only-of-type {\n",
       "        vertical-align: middle;\n",
       "    }\n",
       "\n",
       "    .dataframe tbody tr th {\n",
       "        vertical-align: top;\n",
       "    }\n",
       "\n",
       "    .dataframe thead th {\n",
       "        text-align: right;\n",
       "    }\n",
       "</style>\n",
       "<table border=\"1\" class=\"dataframe\">\n",
       "  <thead>\n",
       "    <tr style=\"text-align: right;\">\n",
       "      <th></th>\n",
       "      <th>count</th>\n",
       "      <th>mean</th>\n",
       "      <th>std</th>\n",
       "      <th>min</th>\n",
       "      <th>25%</th>\n",
       "      <th>50%</th>\n",
       "      <th>75%</th>\n",
       "      <th>max</th>\n",
       "    </tr>\n",
       "    <tr>\n",
       "      <th>RevenueCluster</th>\n",
       "      <th></th>\n",
       "      <th></th>\n",
       "      <th></th>\n",
       "      <th></th>\n",
       "      <th></th>\n",
       "      <th></th>\n",
       "      <th></th>\n",
       "      <th></th>\n",
       "    </tr>\n",
       "  </thead>\n",
       "  <tbody>\n",
       "    <tr>\n",
       "      <th>0</th>\n",
       "      <td>1731.0</td>\n",
       "      <td>2.724251</td>\n",
       "      <td>0.865749</td>\n",
       "      <td>0.084436</td>\n",
       "      <td>2.114455</td>\n",
       "      <td>2.857774</td>\n",
       "      <td>3.456093</td>\n",
       "      <td>4.075156</td>\n",
       "    </tr>\n",
       "    <tr>\n",
       "      <th>1</th>\n",
       "      <td>2420.0</td>\n",
       "      <td>5.419021</td>\n",
       "      <td>0.798875</td>\n",
       "      <td>4.081481</td>\n",
       "      <td>4.586617</td>\n",
       "      <td>5.634379</td>\n",
       "      <td>6.016611</td>\n",
       "      <td>7.188834</td>\n",
       "    </tr>\n",
       "    <tr>\n",
       "      <th>2</th>\n",
       "      <td>2510.0</td>\n",
       "      <td>8.975940</td>\n",
       "      <td>0.868077</td>\n",
       "      <td>7.223599</td>\n",
       "      <td>8.487796</td>\n",
       "      <td>8.829573</td>\n",
       "      <td>9.231235</td>\n",
       "      <td>12.838400</td>\n",
       "    </tr>\n",
       "    <tr>\n",
       "      <th>3</th>\n",
       "      <td>1905.0</td>\n",
       "      <td>16.732905</td>\n",
       "      <td>0.728210</td>\n",
       "      <td>12.866427</td>\n",
       "      <td>16.536148</td>\n",
       "      <td>16.810743</td>\n",
       "      <td>17.255287</td>\n",
       "      <td>17.583201</td>\n",
       "    </tr>\n",
       "    <tr>\n",
       "      <th>4</th>\n",
       "      <td>1464.0</td>\n",
       "      <td>18.435444</td>\n",
       "      <td>0.739991</td>\n",
       "      <td>17.584817</td>\n",
       "      <td>17.875566</td>\n",
       "      <td>18.210700</td>\n",
       "      <td>18.801836</td>\n",
       "      <td>21.830540</td>\n",
       "    </tr>\n",
       "  </tbody>\n",
       "</table>\n",
       "</div>"
      ],
      "text/plain": [
       "                 count       mean       std        min        25%        50%  \\\n",
       "RevenueCluster                                                                 \n",
       "0               1731.0   2.724251  0.865749   0.084436   2.114455   2.857774   \n",
       "1               2420.0   5.419021  0.798875   4.081481   4.586617   5.634379   \n",
       "2               2510.0   8.975940  0.868077   7.223599   8.487796   8.829573   \n",
       "3               1905.0  16.732905  0.728210  12.866427  16.536148  16.810743   \n",
       "4               1464.0  18.435444  0.739991  17.584817  17.875566  18.210700   \n",
       "\n",
       "                      75%        max  \n",
       "RevenueCluster                        \n",
       "0                3.456093   4.075156  \n",
       "1                6.016611   7.188834  \n",
       "2                9.231235  12.838400  \n",
       "3               17.255287  17.583201  \n",
       "4               18.801836  21.830540  "
      ]
     },
     "execution_count": 350,
     "metadata": {},
     "output_type": "execute_result"
    }
   ],
   "source": [
    "def revenue_cluster(cluster_number, revenue_col, dataframe):    \n",
    "    revenue_kmeans = KMeans(n_clusters=cluster_number)\n",
    "    revenue_kmeans.fit(dataframe[[revenue_col]])\n",
    "    \n",
    "    # Assigning cluster prediction to customers\n",
    "    dataframe['RevenueCluster'] = revenue_kmeans.predict(dataframe[[revenue_col]])\n",
    "    \n",
    "    # Ordering clusters from low to high and identifying statistics\n",
    "    dataframe = order_cluster('RevenueCluster', revenue_col,dataframe,True)\n",
    "    \n",
    "    return dataframe\n",
    "\n",
    "purchases = revenue_cluster(5, 'logRevenue', purchases)\n",
    "purchases.groupby('RevenueCluster')['logRevenue'].describe()"
   ]
  },
  {
   "cell_type": "markdown",
   "metadata": {},
   "source": [
    "<b>\n",
    "- Frequency: </b> Nearly 70% of the customers fall in the lower two clusters and there's a large gap between the minimum and maximum values of the high value cluster. \n"
   ]
  },
  {
   "cell_type": "markdown",
   "metadata": {},
   "source": [
    "<b>\n",
    "- Recency: </b> Most customers are quite inactive (how many Google tees do you <i>really</i> need?) The window of recency gets larger the better the cluster assignment is.  "
   ]
  },
  {
   "cell_type": "markdown",
   "metadata": {},
   "source": [
    "<b>\n",
    "- Revenue: </b> As we saw in the EDA, the vast majority of consumers purchased, on average, 17 dollars worth of products on the Google Merchandise Store. The three revenue clusters are pretty well spaced, with no more than about 22 dollars spent in an average order. Nearly a third of all purchases are between 13 and 22 dollars. "
   ]
  },
  {
   "cell_type": "code",
   "execution_count": 351,
   "metadata": {
    "ExecuteTime": {
     "end_time": "2020-02-21T01:46:49.635331Z",
     "start_time": "2020-02-21T01:46:49.612931Z"
    },
    "scrolled": false
   },
   "outputs": [
    {
     "data": {
      "text/html": [
       "<div>\n",
       "<style scoped>\n",
       "    .dataframe tbody tr th:only-of-type {\n",
       "        vertical-align: middle;\n",
       "    }\n",
       "\n",
       "    .dataframe tbody tr th {\n",
       "        vertical-align: top;\n",
       "    }\n",
       "\n",
       "    .dataframe thead th {\n",
       "        text-align: right;\n",
       "    }\n",
       "</style>\n",
       "<table border=\"1\" class=\"dataframe\">\n",
       "  <thead>\n",
       "    <tr style=\"text-align: right;\">\n",
       "      <th></th>\n",
       "      <th>Recency</th>\n",
       "      <th>Frequency</th>\n",
       "      <th>logRevenue</th>\n",
       "    </tr>\n",
       "    <tr>\n",
       "      <th>OverallScore</th>\n",
       "      <th></th>\n",
       "      <th></th>\n",
       "      <th></th>\n",
       "    </tr>\n",
       "  </thead>\n",
       "  <tbody>\n",
       "    <tr>\n",
       "      <th>2</th>\n",
       "      <td>5.514921</td>\n",
       "      <td>1.629406</td>\n",
       "      <td>4.664499</td>\n",
       "    </tr>\n",
       "    <tr>\n",
       "      <th>3</th>\n",
       "      <td>5.333629</td>\n",
       "      <td>1.278259</td>\n",
       "      <td>9.198685</td>\n",
       "    </tr>\n",
       "    <tr>\n",
       "      <th>4</th>\n",
       "      <td>4.713412</td>\n",
       "      <td>1.159720</td>\n",
       "      <td>11.789061</td>\n",
       "    </tr>\n",
       "    <tr>\n",
       "      <th>5</th>\n",
       "      <td>3.572718</td>\n",
       "      <td>1.204661</td>\n",
       "      <td>12.022177</td>\n",
       "    </tr>\n",
       "    <tr>\n",
       "      <th>6</th>\n",
       "      <td>2.209888</td>\n",
       "      <td>1.375232</td>\n",
       "      <td>11.754498</td>\n",
       "    </tr>\n",
       "    <tr>\n",
       "      <th>7</th>\n",
       "      <td>1.590808</td>\n",
       "      <td>1.157660</td>\n",
       "      <td>15.803349</td>\n",
       "    </tr>\n",
       "    <tr>\n",
       "      <th>8</th>\n",
       "      <td>1.217425</td>\n",
       "      <td>2.172094</td>\n",
       "      <td>13.558121</td>\n",
       "    </tr>\n",
       "    <tr>\n",
       "      <th>9</th>\n",
       "      <td>1.739136</td>\n",
       "      <td>2.230665</td>\n",
       "      <td>16.524265</td>\n",
       "    </tr>\n",
       "  </tbody>\n",
       "</table>\n",
       "</div>"
      ],
      "text/plain": [
       "               Recency  Frequency  logRevenue\n",
       "OverallScore                                 \n",
       "2             5.514921   1.629406    4.664499\n",
       "3             5.333629   1.278259    9.198685\n",
       "4             4.713412   1.159720   11.789061\n",
       "5             3.572718   1.204661   12.022177\n",
       "6             2.209888   1.375232   11.754498\n",
       "7             1.590808   1.157660   15.803349\n",
       "8             1.217425   2.172094   13.558121\n",
       "9             1.739136   2.230665   16.524265"
      ]
     },
     "execution_count": 351,
     "metadata": {},
     "output_type": "execute_result"
    }
   ],
   "source": [
    "# Adding cluster numbers to identify overall score per customer\n",
    "\n",
    "purchases['OverallScore'] = purchases['RecencyCluster'] + purchases['FrequencyCluster'] + purchases['RevenueCluster']\n",
    "purchases.groupby('OverallScore')['Recency','Frequency','logRevenue'].mean()"
   ]
  },
  {
   "cell_type": "code",
   "execution_count": 352,
   "metadata": {
    "ExecuteTime": {
     "end_time": "2020-02-21T01:46:49.658053Z",
     "start_time": "2020-02-21T01:46:49.639864Z"
    }
   },
   "outputs": [],
   "source": [
    "# Naming and defining segments\n",
    "purchases['Segment'] = 0\n",
    "purchases.loc[purchases['OverallScore']>3,'Segment'] = 1 \n",
    "purchases.loc[purchases['OverallScore']>6,'Segment'] = 2 "
   ]
  },
  {
   "cell_type": "markdown",
   "metadata": {},
   "source": [
    "Again, depending on your business model, you may already have certain cutoffs for segments. Here, I've broken them down to three groups. Inactive, infrequent, low spenders are low value, mid value is higher than average revenue with average - more than average recency and average to more than average frequency, and high value customers fall into the upper eschelons of at least two features. "
   ]
  },
  {
   "cell_type": "code",
   "execution_count": 353,
   "metadata": {
    "ExecuteTime": {
     "end_time": "2020-02-21T01:46:49.682326Z",
     "start_time": "2020-02-21T01:46:49.661374Z"
    },
    "scrolled": true
   },
   "outputs": [
    {
     "name": "stdout",
     "output_type": "stream",
     "text": [
      "Low:  5155\n",
      "Mid:  4787\n",
      "High:  88\n"
     ]
    }
   ],
   "source": [
    "print('Low: ', len(purchases.query('Segment == 0')))\n",
    "print('Mid: ', len(purchases.query('Segment == 1')))\n",
    "print('High: ', len(purchases.query('Segment == 2')))"
   ]
  },
  {
   "cell_type": "code",
   "execution_count": 354,
   "metadata": {
    "ExecuteTime": {
     "end_time": "2020-02-21T01:46:49.699451Z",
     "start_time": "2020-02-21T01:46:49.687933Z"
    }
   },
   "outputs": [],
   "source": [
    "def scatter_plot(col1, col2, df):\n",
    "    '''\n",
    "    This function visualizes two features\n",
    "    from the RFM dataframe and color codes\n",
    "    each of the final clusters.'''\n",
    "    \n",
    "    plt.figure(figsize=(6,4))\n",
    "    \n",
    "    # Low Value Segment\n",
    "    plt.scatter(x=df.query(\"Segment == 0\")[col1],\n",
    "               y=df.query(\"Segment == 0\")[col2],\n",
    "               c='#440154FF',\n",
    "               alpha=.8)\n",
    "    \n",
    "    # Mid Value Segment\n",
    "    plt.scatter(x=df.query(\"Segment == 1\")[col1],\n",
    "               y=df.query(\"Segment == 1\")[col2],\n",
    "               c='#20A387FF',\n",
    "               alpha=.3)\n",
    "    \n",
    "    # High Value Segment\n",
    "    plt.scatter(x=df.query(\"Segment == 2\")[col1],\n",
    "               y=df.query(\"Segment == 2\")[col2],\n",
    "               c='#FDE725FF',\n",
    "               alpha=.5)\n",
    "    \n",
    "    plt.xlabel(col1)\n",
    "    plt.ylabel(col2)\n",
    "    plt.title(f'{col1} x {col2} Clusters')\n",
    "    plt.show();"
   ]
  },
  {
   "cell_type": "code",
   "execution_count": 355,
   "metadata": {
    "ExecuteTime": {
     "end_time": "2020-02-21T01:46:50.892325Z",
     "start_time": "2020-02-21T01:46:49.702846Z"
    },
    "scrolled": false
   },
   "outputs": [
    {
     "data": {
      "image/png": "[encoded data removed]",
      "text/plain": [
       "<Figure size 432x288 with 1 Axes>"
      ]
     },
     "metadata": {
      "needs_background": "light"
     },
     "output_type": "display_data"
    },
    {
     "data": {
      "image/png": "[encoded data removed]",
      "text/plain": [
       "<Figure size 432x288 with 1 Axes>"
      ]
     },
     "metadata": {
      "needs_background": "light"
     },
     "output_type": "display_data"
    },
    {
     "data": {
      "image/png": "[encoded data removed]",
      "text/plain": [
       "<Figure size 432x288 with 1 Axes>"
      ]
     },
     "metadata": {
      "needs_background": "light"
     },
     "output_type": "display_data"
    }
   ],
   "source": [
    "%matplotlib inline\n",
    "scatter_plot('Frequency', 'logRevenue', purchases)\n",
    "scatter_plot('Recency', 'logRevenue', purchases)\n",
    "scatter_plot('Recency', 'Frequency', purchases)"
   ]
  },
  {
   "cell_type": "markdown",
   "metadata": {},
   "source": [
    "The clusters look pretty well defined! It looks as if we were correct on our assumptions of the cluster levels. Below, we'll take a look at a 3D plot of the clusters to see behind the overlap. "
   ]
  },
  {
   "cell_type": "code",
   "execution_count": 356,
   "metadata": {
    "ExecuteTime": {
     "end_time": "2020-02-21T01:46:50.956688Z",
     "start_time": "2020-02-21T01:46:50.896129Z"
    }
   },
   "outputs": [],
   "source": [
    "high = purchases.query('Segment == 2')\n",
    "mid = purchases.query('Segment == 1')\n",
    "low = purchases.query('Segment == 0')"
   ]
  },
  {
   "cell_type": "code",
   "execution_count": 357,
   "metadata": {
    "ExecuteTime": {
     "end_time": "2020-02-21T01:46:50.981362Z",
     "start_time": "2020-02-21T01:46:50.962919Z"
    },
    "scrolled": false
   },
   "outputs": [],
   "source": [
    "# from mpl_toolkits.mplot3d import Axes3D\n",
    "# %matplotlib notebook\n",
    "\n",
    "# fig = plt.figure()\n",
    "# ax = fig.add_subplot(111, projection='3d')\n",
    "\n",
    "# g1= (low['Frequency'].values, low['Recency'].values, low['logRevenue'].values)\n",
    "# g2 = (mid['Frequency'].values, mid['Recency'].values, mid['logRevenue'].values)\n",
    "# g3= (high['Frequency'].values, high['Recency'].values, high['logRevenue'].values)\n",
    "\n",
    "# data = [g1, g2, g3]\n",
    "# colors = ['#440154FF', '#20A387FF', '#FDE725FF']\n",
    "# groups = ['Low', 'Med', 'High']\n",
    "\n",
    "# for data, color, group in zip(data, colors, groups):\n",
    "#     x, y, z = data\n",
    "#     ax.scatter(x, y, z, alpha=0.5, c=color, label=group)\n",
    "\n",
    "# # Make legend\n",
    "#     ax.legend()\n",
    "#     ax.set_xlabel('Frequency')\n",
    "#     ax.set_ylabel('Recency')\n",
    "#     ax.set_zlabel('Revenue')\n",
    "#     ax.set_title('Spatial Representation of Segments', loc='left')\n",
    "#     plt.show();"
   ]
  },
  {
   "cell_type": "markdown",
   "metadata": {},
   "source": [
    "From this plot, we can see there are customers that have not spent a lot of money but frequently stop by the site and have made purchases recently that also fall into the high value category. Scores seem to be pulled down by either very infrequent purchases or made their last purchase far in the past. "
   ]
  },
  {
   "cell_type": "code",
   "execution_count": 358,
   "metadata": {
    "ExecuteTime": {
     "end_time": "2020-02-21T01:46:50.995487Z",
     "start_time": "2020-02-21T01:46:50.985136Z"
    }
   },
   "outputs": [],
   "source": [
    "# import plotly.plotly as py\n",
    "# import plotly.offline as pyoff\n",
    "# import plotly.graph_objs as go\n",
    "# pyoff.init_notebook_mode(connected=True)\n",
    "# %matplotlib inline\n",
    "\n",
    "# plot_data = [\n",
    "#     go.Scatter(\n",
    "#         x=purchases.query(\"Segment == 0\")['OverallScore'],\n",
    "#         y=purchases.query(\"Segment == 0\")['logRevenue'],\n",
    "#         mode='markers',\n",
    "#         name='Low',\n",
    "#         marker= dict(size= 7,\n",
    "#             line= dict(width=1),\n",
    "#             color= '#440154',\n",
    "#             opacity= 0.8\n",
    "#            )\n",
    "#     ),\n",
    "#         go.Scatter(\n",
    "#         x=purchases.query(\"Segment == 1\")['OverallScore'],\n",
    "#         y=purchases.query(\"Segment == 1\")['logRevenue'],\n",
    "#         mode='markers',\n",
    "#         name='Mid',\n",
    "#         marker= dict(size= 9,\n",
    "#             line= dict(width=1),\n",
    "#             color= '#20A387',\n",
    "#             opacity= 0.5\n",
    "#            )\n",
    "#     ),\n",
    "#         go.Scatter(\n",
    "#         x=purchases.query(\"Segment == 2\")['OverallScore'],\n",
    "#         y=purchases.query(\"Segment == 2\")['logRevenue'],\n",
    "#         mode='markers',\n",
    "#         name='High',\n",
    "#         marker= dict(size= 11,\n",
    "#             line= dict(width=1),\n",
    "#             color= '#FDE725',\n",
    "#             opacity= 0.9\n",
    "#            )\n",
    "#     )\n",
    "# ]\n",
    "\n",
    "# plot_layout = go.Layout(\n",
    "#         yaxis= {'title': \"LTV\"},\n",
    "#         xaxis= {'title': \"RFM Score\"},\n",
    "#         title='Relationship between RFM and LTV'\n",
    "#     )\n",
    "\n",
    "# fig = go.Figure(data=plot_data, layout=plot_layout)\n",
    "# pyoff.iplot(fig);"
   ]
  },
  {
   "cell_type": "markdown",
   "metadata": {},
   "source": [
    "# Customer Lifetime Value \n",
    "\n",
    "In marketing, according to <a href=\"https://en.wikipedia.org/wiki/Customer_lifetime_value\">Wikipedia</a>, Customer Lifetime Value (CLV) can be defined as \"a prediction of the net profit attributed to the entire future relationship with a customer.\" CLV is an important metric to track as it can help identify your customer acquisition budget, help your marketing team to segment your customer base, increase retention and satisfaction, etc. CLV is represented as a dollar amount and varies customer to customer. \n",
    "\n",
    "<img src=\"brandwise-clv-bellcurve.gif\">\n",
    "\n",
    "Customer lifetime value can be predicted with the <a href=\"http://brucehardie.com/papers/018/fader_et_al_mksc_05.pdf\"> BG/NBD (Beta Geometric Negative Binomial Distribution) model.</a> Luckily, there's a Python package called <a href=\"https://pypi.org/project/Lifetimes/\">Lifetimes</a> designed by Cameron Davidson-Pilon former Director of Data Science at Shopify that will do the heavy lifting for us. You can find the documentation \n",
    "\n",
    "Before we move on, there are a few basic assumptions of the BG/NBD model to undestand. "
   ]
  },
  {
   "cell_type": "markdown",
   "metadata": {},
   "source": [
    "## Assumptions\n",
    "<b> 1. For active customers, puchases made during time period <i>t </i> follow a Poisson Distribution with mean <i> λt<i>."
   ]
  },
  {
   "cell_type": "markdown",
   "metadata": {},
   "source": [
    "For example, if λ = 3:"
   ]
  },
  {
   "cell_type": "code",
   "execution_count": 359,
   "metadata": {
    "ExecuteTime": {
     "end_time": "2020-02-21T01:46:51.265308Z",
     "start_time": "2020-02-21T01:46:50.999243Z"
    },
    "scrolled": true
   },
   "outputs": [
    {
     "data": {
      "image/png": "[encoded data removed]",
      "text/plain": [
       "<Figure size 576x360 with 1 Axes>"
      ]
     },
     "metadata": {
      "needs_background": "light"
     },
     "output_type": "display_data"
    }
   ],
   "source": [
    "%matplotlib inline\n",
    "\n",
    "probability = []\n",
    "poisson_distribution = poisson(3)\n",
    "\n",
    "for transaction in range(20):\n",
    "    probability.append(poisson_distribution.pmf(transaction))\n",
    "    \n",
    "plt.figure(figsize=(8,5))\n",
    "plt.ylabel('Probability')\n",
    "plt.xlabel('Number of Transactions')\n",
    "plt.xticks(range(0, 20))\n",
    "plt.title('Probability Distribution Curve')\n",
    "plt.plot(probability, color='black', linewidth=0.7, zorder=1)\n",
    "plt.scatter(range(0, 20), probability, color='purple', edgecolor='black', linewidth=0.7, zorder=2)\n",
    "plt.show()"
   ]
  },
  {
   "cell_type": "markdown",
   "metadata": {},
   "source": [
    "<b> 2. The differences between rates of transaction for multiple customers follows a gamma distribution with shape <i>r</i> and scale <i>a</i>."
   ]
  },
  {
   "cell_type": "markdown",
   "metadata": {
    "ExecuteTime": {
     "end_time": "2020-02-14T19:13:20.196918Z",
     "start_time": "2020-02-14T19:13:20.190374Z"
    }
   },
   "source": [
    "For a group of 50 customers where r = 8 and a = 0.8: "
   ]
  },
  {
   "cell_type": "code",
   "execution_count": 360,
   "metadata": {
    "ExecuteTime": {
     "end_time": "2020-02-21T01:46:55.523656Z",
     "start_time": "2020-02-21T01:46:51.268544Z"
    }
   },
   "outputs": [
    {
     "data": {
      "image/png": "[encoded data removed]",
      "text/plain": [
       "<Figure size 576x360 with 1 Axes>"
      ]
     },
     "metadata": {
      "needs_background": "light"
     },
     "output_type": "display_data"
    }
   ],
   "source": [
    "\n",
    "plt.figure(figsize=(8,5))\n",
    "\n",
    "for customer in range(50):\n",
    "    probability = []\n",
    "    poisson_distribution = poisson(np.random.gamma(shape=8, scale=0.8))\n",
    "\n",
    "    for transaction in range(20):\n",
    "        probability.append(poisson_distribution.pmf(transaction))\n",
    "        \n",
    "        plt.plot(probability, color='black', linewidth=0.5, zorder=1)\n",
    "        \n",
    "plt.ylabel('Probability')\n",
    "plt.xlabel('Number of Transactions')    \n",
    "plt.xticks(range(0, 20))\n",
    "plt.title('Probability Distribution Curve');"
   ]
  },
  {
   "cell_type": "markdown",
   "metadata": {},
   "source": [
    "<b> 3. The probability of customers becoming inactive after each purchase has a probability of <i>p</i>. "
   ]
  },
  {
   "cell_type": "markdown",
   "metadata": {},
   "source": [
    "<b> 4. The variation in individual customer's posibility of becoming inactive follows a Beta distribution with two shape parameters - α and β."
   ]
  },
  {
   "cell_type": "code",
   "execution_count": 361,
   "metadata": {
    "ExecuteTime": {
     "end_time": "2020-02-21T01:46:55.986949Z",
     "start_time": "2020-02-21T01:46:55.551346Z"
    }
   },
   "outputs": [
    {
     "data": {
      "image/png": "[encoded data removed]",
      "text/plain": [
       "<Figure size 576x360 with 1 Axes>"
      ]
     },
     "metadata": {
      "needs_background": "light"
     },
     "output_type": "display_data"
    }
   ],
   "source": [
    "a = 1\n",
    "b = 2.5\n",
    "\n",
    "plt.figure(figsize=(8,5))\n",
    "\n",
    "for customer in range(0, 20):\n",
    "    probability_arr = []\n",
    "    poisson_distribution = poisson(np.random.gamma(shape=8, scale=0.8))\n",
    "    \n",
    "    beta = np.random.beta(a=a, b=b)\n",
    "    cumulative_beta = 0\n",
    "    \n",
    "    for transaction in range(1,20): \n",
    "        \n",
    "        proba = poisson_distribution.pmf(transaction)\n",
    "        cumulative_beta = beta + cumulative_beta - (beta * cumulative_beta)\n",
    "        inactive_probability = 1 - cumulative_beta\n",
    "        proba *= inactive_probability\n",
    "        probability_arr.append(proba)\n",
    "        \n",
    "    probability_arr = np.array(probability_arr)\n",
    "    probability_arr /= probability_arr.sum()\n",
    "    plt.plot(probability_arr, color='black', linewidth=0.7, zorder=1)\n",
    "\n",
    "\n",
    "plt.ylabel('Probability Inactive')\n",
    "plt.xlabel('Number of Transactions')\n",
    "plt.xticks(range(1, 20))\n",
    "plt.title('Dropoff Probability - 20 customers');"
   ]
  },
  {
   "cell_type": "markdown",
   "metadata": {},
   "source": [
    "<b> 5. Each customer has an individual and independent transaction rate and dropoff probability."
   ]
  },
  {
   "cell_type": "markdown",
   "metadata": {
    "ExecuteTime": {
     "end_time": "2020-02-13T15:03:43.518699Z",
     "start_time": "2020-02-13T15:03:43.495996Z"
    }
   },
   "source": [
    "## Feature Engineering"
   ]
  },
  {
   "cell_type": "markdown",
   "metadata": {},
   "source": [
    "If your dataset does not have features representing the three elements of RFM and the age of the customer, Lifetimes has a built in method. However, there is one major difference between our preprocessing method and that of the Lifetimes package:\n",
    "\n",
    "<b>The Lifetimes package determines that the monetary value is reduced to zero if the customer has not made more than one purchase. </b> "
   ]
  },
  {
   "cell_type": "code",
   "execution_count": 362,
   "metadata": {
    "ExecuteTime": {
     "end_time": "2020-02-21T01:49:00.282756Z",
     "start_time": "2020-02-21T01:46:55.992455Z"
    }
   },
   "outputs": [],
   "source": [
    "age = pd.to_datetime(df.visitStartTime.max()) - pd.to_datetime(df.groupby('fullVisitorId').visitStartTime.min()) \n",
    "age = pd.DataFrame(age)\n",
    "age.visitStartTime = age.visitStartTime.dt.days\n",
    "purchases = purchases.merge(age, on='fullVisitorId')\n",
    "purchases.rename({'visitStartTime':'age'}, axis=1, inplace=True)"
   ]
  },
  {
   "cell_type": "code",
   "execution_count": 365,
   "metadata": {
    "ExecuteTime": {
     "end_time": "2020-02-21T01:54:03.378670Z",
     "start_time": "2020-02-21T01:54:03.365419Z"
    }
   },
   "outputs": [],
   "source": [
    "purchases = purchases.query('Frequency >= 1')"
   ]
  },
  {
   "cell_type": "markdown",
   "metadata": {
    "ExecuteTime": {
     "end_time": "2020-02-21T00:58:58.301709Z",
     "start_time": "2020-02-21T00:58:58.245703Z"
    }
   },
   "source": [
    "## Purchase Prediction with the BG/NBD Model"
   ]
  },
  {
   "cell_type": "code",
   "execution_count": 375,
   "metadata": {
    "ExecuteTime": {
     "end_time": "2020-02-21T02:06:43.913596Z",
     "start_time": "2020-02-21T02:06:16.039585Z"
    }
   },
   "outputs": [
    {
     "data": {
      "text/html": [
       "<div>\n",
       "<style scoped>\n",
       "    .dataframe tbody tr th:only-of-type {\n",
       "        vertical-align: middle;\n",
       "    }\n",
       "\n",
       "    .dataframe tbody tr th {\n",
       "        vertical-align: top;\n",
       "    }\n",
       "\n",
       "    .dataframe thead th {\n",
       "        text-align: right;\n",
       "    }\n",
       "</style>\n",
       "<table border=\"1\" class=\"dataframe\">\n",
       "  <thead>\n",
       "    <tr style=\"text-align: right;\">\n",
       "      <th></th>\n",
       "      <th>frequency</th>\n",
       "      <th>recency</th>\n",
       "      <th>T</th>\n",
       "      <th>monetary_value</th>\n",
       "    </tr>\n",
       "    <tr>\n",
       "      <th>fullVisitorId</th>\n",
       "      <th></th>\n",
       "      <th></th>\n",
       "      <th></th>\n",
       "      <th></th>\n",
       "    </tr>\n",
       "  </thead>\n",
       "  <tbody>\n",
       "    <tr>\n",
       "      <th>0000168159078983594</th>\n",
       "      <td>0.0</td>\n",
       "      <td>0.0</td>\n",
       "      <td>311.0</td>\n",
       "      <td>0.0</td>\n",
       "    </tr>\n",
       "    <tr>\n",
       "      <th>0000174067426171406</th>\n",
       "      <td>0.0</td>\n",
       "      <td>0.0</td>\n",
       "      <td>264.0</td>\n",
       "      <td>0.0</td>\n",
       "    </tr>\n",
       "    <tr>\n",
       "      <th>0000197671390269035</th>\n",
       "      <td>0.0</td>\n",
       "      <td>0.0</td>\n",
       "      <td>91.0</td>\n",
       "      <td>0.0</td>\n",
       "    </tr>\n",
       "    <tr>\n",
       "      <th>0000245437374675368</th>\n",
       "      <td>0.0</td>\n",
       "      <td>0.0</td>\n",
       "      <td>333.0</td>\n",
       "      <td>0.0</td>\n",
       "    </tr>\n",
       "    <tr>\n",
       "      <th>000026722803385797</th>\n",
       "      <td>0.0</td>\n",
       "      <td>0.0</td>\n",
       "      <td>58.0</td>\n",
       "      <td>0.0</td>\n",
       "    </tr>\n",
       "  </tbody>\n",
       "</table>\n",
       "</div>"
      ],
      "text/plain": [
       "                     frequency  recency      T  monetary_value\n",
       "fullVisitorId                                                 \n",
       "0000168159078983594        0.0      0.0  311.0             0.0\n",
       "0000174067426171406        0.0      0.0  264.0             0.0\n",
       "0000197671390269035        0.0      0.0   91.0             0.0\n",
       "0000245437374675368        0.0      0.0  333.0             0.0\n",
       "000026722803385797         0.0      0.0   58.0             0.0"
      ]
     },
     "execution_count": 375,
     "metadata": {},
     "output_type": "execute_result"
    }
   ],
   "source": [
    "data = summary_data_from_transaction_data(df, 'fullVisitorId', 'visitStartTime', monetary_value_col='logRevenue', observation_period_end=df.visitStartTime.max())\n",
    "data.head()"
   ]
  },
  {
   "cell_type": "code",
   "execution_count": 378,
   "metadata": {
    "ExecuteTime": {
     "end_time": "2020-02-21T02:08:32.251732Z",
     "start_time": "2020-02-21T02:08:18.154304Z"
    }
   },
   "outputs": [
    {
     "name": "stdout",
     "output_type": "stream",
     "text": [
      "<lifetimes.BetaGeoFitter: fitted with 716924 subjects, a: 0.25, alpha: 0.97, b: 0.12, r: 0.02>\n"
     ]
    }
   ],
   "source": [
    "from lifetimes import BetaGeoFitter\n",
    "\n",
    "bgf = BetaGeoFitter(penalizer_coef=0.1)\n",
    "bgf.fit(data['frequency'], data['recency'], data['T'])\n",
    "print(bgf)"
   ]
  },
  {
   "cell_type": "code",
   "execution_count": 379,
   "metadata": {
    "ExecuteTime": {
     "end_time": "2020-02-21T02:08:38.673425Z",
     "start_time": "2020-02-21T02:08:38.657676Z"
    },
    "scrolled": true
   },
   "outputs": [
    {
     "data": {
      "text/html": [
       "<div>\n",
       "<style scoped>\n",
       "    .dataframe tbody tr th:only-of-type {\n",
       "        vertical-align: middle;\n",
       "    }\n",
       "\n",
       "    .dataframe tbody tr th {\n",
       "        vertical-align: top;\n",
       "    }\n",
       "\n",
       "    .dataframe thead th {\n",
       "        text-align: right;\n",
       "    }\n",
       "</style>\n",
       "<table border=\"1\" class=\"dataframe\">\n",
       "  <thead>\n",
       "    <tr style=\"text-align: right;\">\n",
       "      <th></th>\n",
       "      <th>coef</th>\n",
       "      <th>se(coef)</th>\n",
       "      <th>lower 95% bound</th>\n",
       "      <th>upper 95% bound</th>\n",
       "    </tr>\n",
       "  </thead>\n",
       "  <tbody>\n",
       "    <tr>\n",
       "      <th>r</th>\n",
       "      <td>0.018899</td>\n",
       "      <td>0.000088</td>\n",
       "      <td>0.018726</td>\n",
       "      <td>0.019071</td>\n",
       "    </tr>\n",
       "    <tr>\n",
       "      <th>alpha</th>\n",
       "      <td>0.966094</td>\n",
       "      <td>0.011925</td>\n",
       "      <td>0.942720</td>\n",
       "      <td>0.989468</td>\n",
       "    </tr>\n",
       "    <tr>\n",
       "      <th>a</th>\n",
       "      <td>0.246089</td>\n",
       "      <td>0.001598</td>\n",
       "      <td>0.242957</td>\n",
       "      <td>0.249220</td>\n",
       "    </tr>\n",
       "    <tr>\n",
       "      <th>b</th>\n",
       "      <td>0.118022</td>\n",
       "      <td>0.001064</td>\n",
       "      <td>0.115936</td>\n",
       "      <td>0.120108</td>\n",
       "    </tr>\n",
       "  </tbody>\n",
       "</table>\n",
       "</div>"
      ],
      "text/plain": [
       "           coef  se(coef)  lower 95% bound  upper 95% bound\n",
       "r      0.018899  0.000088         0.018726         0.019071\n",
       "alpha  0.966094  0.011925         0.942720         0.989468\n",
       "a      0.246089  0.001598         0.242957         0.249220\n",
       "b      0.118022  0.001064         0.115936         0.120108"
      ]
     },
     "execution_count": 379,
     "metadata": {},
     "output_type": "execute_result"
    }
   ],
   "source": [
    "bgf.summary"
   ]
  },
  {
   "cell_type": "code",
   "execution_count": 380,
   "metadata": {
    "ExecuteTime": {
     "end_time": "2020-02-21T02:08:48.751020Z",
     "start_time": "2020-02-21T02:08:42.119812Z"
    },
    "scrolled": true
   },
   "outputs": [
    {
     "data": {
      "image/png": "[encoded data removed]",
      "text/plain": [
       "<Figure size 432x288 with 2 Axes>"
      ]
     },
     "metadata": {
      "needs_background": "light"
     },
     "output_type": "display_data"
    }
   ],
   "source": [
    "from lifetimes.plotting import plot_frequency_recency_matrix\n",
    "\n",
    "plot_frequency_recency_matrix(bgf);"
   ]
  },
  {
   "cell_type": "code",
   "execution_count": 381,
   "metadata": {
    "ExecuteTime": {
     "end_time": "2020-02-21T02:08:49.262855Z",
     "start_time": "2020-02-21T02:08:48.755000Z"
    },
    "scrolled": true
   },
   "outputs": [
    {
     "data": {
      "text/plain": [
       "<matplotlib.axes._subplots.AxesSubplot at 0x1a68fe8ba8>"
      ]
     },
     "execution_count": 381,
     "metadata": {},
     "output_type": "execute_result"
    },
    {
     "data": {
      "image/png": "[encoded data removed]",
      "text/plain": [
       "<Figure size 432x288 with 2 Axes>"
      ]
     },
     "metadata": {
      "needs_background": "light"
     },
     "output_type": "display_data"
    }
   ],
   "source": [
    "from lifetimes.plotting import plot_probability_alive_matrix\n",
    "\n",
    "plot_probability_alive_matrix(bgf)"
   ]
  },
  {
   "cell_type": "code",
   "execution_count": 382,
   "metadata": {
    "ExecuteTime": {
     "end_time": "2020-02-21T02:09:45.820962Z",
     "start_time": "2020-02-21T02:09:44.901540Z"
    },
    "scrolled": true
   },
   "outputs": [
    {
     "data": {
      "text/html": [
       "<div>\n",
       "<style scoped>\n",
       "    .dataframe tbody tr th:only-of-type {\n",
       "        vertical-align: middle;\n",
       "    }\n",
       "\n",
       "    .dataframe tbody tr th {\n",
       "        vertical-align: top;\n",
       "    }\n",
       "\n",
       "    .dataframe thead th {\n",
       "        text-align: right;\n",
       "    }\n",
       "</style>\n",
       "<table border=\"1\" class=\"dataframe\">\n",
       "  <thead>\n",
       "    <tr style=\"text-align: right;\">\n",
       "      <th></th>\n",
       "      <th>frequency</th>\n",
       "      <th>recency</th>\n",
       "      <th>T</th>\n",
       "      <th>monetary_value</th>\n",
       "      <th>predicted_purchases</th>\n",
       "    </tr>\n",
       "    <tr>\n",
       "      <th>fullVisitorId</th>\n",
       "      <th></th>\n",
       "      <th></th>\n",
       "      <th></th>\n",
       "      <th></th>\n",
       "      <th></th>\n",
       "    </tr>\n",
       "  </thead>\n",
       "  <tbody>\n",
       "    <tr>\n",
       "      <th>3884810646891698298</th>\n",
       "      <td>13.0</td>\n",
       "      <td>20.0</td>\n",
       "      <td>20.0</td>\n",
       "      <td>0.0</td>\n",
       "      <td>0.604920</td>\n",
       "    </tr>\n",
       "    <tr>\n",
       "      <th>8497228714350538778</th>\n",
       "      <td>20.0</td>\n",
       "      <td>29.0</td>\n",
       "      <td>29.0</td>\n",
       "      <td>0.0</td>\n",
       "      <td>0.656806</td>\n",
       "    </tr>\n",
       "    <tr>\n",
       "      <th>8010418375703640133</th>\n",
       "      <td>8.0</td>\n",
       "      <td>9.0</td>\n",
       "      <td>10.0</td>\n",
       "      <td>0.0</td>\n",
       "      <td>0.672672</td>\n",
       "    </tr>\n",
       "    <tr>\n",
       "      <th>4132140165890827890</th>\n",
       "      <td>10.0</td>\n",
       "      <td>12.0</td>\n",
       "      <td>12.0</td>\n",
       "      <td>0.0</td>\n",
       "      <td>0.745048</td>\n",
       "    </tr>\n",
       "    <tr>\n",
       "      <th>7477638593794484792</th>\n",
       "      <td>33.0</td>\n",
       "      <td>37.0</td>\n",
       "      <td>38.0</td>\n",
       "      <td>0.0</td>\n",
       "      <td>0.829677</td>\n",
       "    </tr>\n",
       "  </tbody>\n",
       "</table>\n",
       "</div>"
      ],
      "text/plain": [
       "                     frequency  recency     T  monetary_value  \\\n",
       "fullVisitorId                                                   \n",
       "3884810646891698298       13.0     20.0  20.0             0.0   \n",
       "8497228714350538778       20.0     29.0  29.0             0.0   \n",
       "8010418375703640133        8.0      9.0  10.0             0.0   \n",
       "4132140165890827890       10.0     12.0  12.0             0.0   \n",
       "7477638593794484792       33.0     37.0  38.0             0.0   \n",
       "\n",
       "                     predicted_purchases  \n",
       "fullVisitorId                             \n",
       "3884810646891698298             0.604920  \n",
       "8497228714350538778             0.656806  \n",
       "8010418375703640133             0.672672  \n",
       "4132140165890827890             0.745048  \n",
       "7477638593794484792             0.829677  "
      ]
     },
     "execution_count": 382,
     "metadata": {},
     "output_type": "execute_result"
    }
   ],
   "source": [
    "t = 1\n",
    "data['predicted_purchases'] = bgf.conditional_expected_number_of_purchases_up_to_time(t,\n",
    "                                                                                      data['frequency'],\n",
    "                                                                                      data['recency'], \n",
    "                                                                                      data['T'])\n",
    "data.sort_values(by='predicted_purchases').tail(5)"
   ]
  },
  {
   "cell_type": "code",
   "execution_count": 383,
   "metadata": {
    "ExecuteTime": {
     "end_time": "2020-02-21T02:14:22.254509Z",
     "start_time": "2020-02-21T02:10:03.801108Z"
    },
    "scrolled": false
   },
   "outputs": [
    {
     "data": {
      "text/plain": [
       "<matplotlib.axes._subplots.AxesSubplot at 0x1a3f051c18>"
      ]
     },
     "execution_count": 383,
     "metadata": {},
     "output_type": "execute_result"
    },
    {
     "data": {
      "image/png": "[encoded data removed]",
      "text/plain": [
       "<Figure size 432x288 with 1 Axes>"
      ]
     },
     "metadata": {
      "needs_background": "light"
     },
     "output_type": "display_data"
    }
   ],
   "source": [
    "from lifetimes.plotting import plot_period_transactions\n",
    "plot_period_transactions(bgf)"
   ]
  },
  {
   "cell_type": "code",
   "execution_count": 393,
   "metadata": {
    "ExecuteTime": {
     "end_time": "2020-02-21T02:36:12.449160Z",
     "start_time": "2020-02-21T02:33:31.524722Z"
    }
   },
   "outputs": [
    {
     "ename": "AttributeError",
     "evalue": "'int' object has no attribute 'n'",
     "output_type": "error",
     "traceback": [
      "\u001b[0;31m---------------------------------------------------------------------------\u001b[0m",
      "\u001b[0;31mAttributeError\u001b[0m                            Traceback (most recent call last)",
      "\u001b[0;32m<ipython-input-393-53169e06dc84>\u001b[0m in \u001b[0;36m<module>\u001b[0;34m()\u001b[0m\n\u001b[1;32m      3\u001b[0m \u001b[0mdf\u001b[0m\u001b[0;34m.\u001b[0m\u001b[0mvisitStartTime\u001b[0m \u001b[0;34m=\u001b[0m \u001b[0mpd\u001b[0m\u001b[0;34m.\u001b[0m\u001b[0mto_datetime\u001b[0m\u001b[0;34m(\u001b[0m\u001b[0mdf\u001b[0m\u001b[0;34m.\u001b[0m\u001b[0mvisitStartTime\u001b[0m\u001b[0;34m)\u001b[0m\u001b[0;34m\u001b[0m\u001b[0m\n\u001b[1;32m      4\u001b[0m summary_cal_holdout = calibration_and_holdout_data(df, 'fullVisitorId', 'visitStartTime',\n\u001b[0;32m----> 5\u001b[0;31m                                         calibration_period_end= '2017-02-02 00:00:00')   \n\u001b[0m\u001b[1;32m      6\u001b[0m \u001b[0mprint\u001b[0m\u001b[0;34m(\u001b[0m\u001b[0msummary_cal_holdout\u001b[0m\u001b[0;34m.\u001b[0m\u001b[0mhead\u001b[0m\u001b[0;34m(\u001b[0m\u001b[0;34m)\u001b[0m\u001b[0;34m)\u001b[0m\u001b[0;34m\u001b[0m\u001b[0m\n",
      "\u001b[0;32m~/anaconda3/envs/learn-env/lib/python3.6/site-packages/lifetimes/utils.py\u001b[0m in \u001b[0;36mcalibration_and_holdout_data\u001b[0;34m(transactions, customer_id_col, datetime_col, calibration_period_end, observation_period_end, freq, datetime_format, monetary_value_col)\u001b[0m\n\u001b[1;32m    122\u001b[0m     \u001b[0mcombined_data\u001b[0m\u001b[0;34m.\u001b[0m\u001b[0mfillna\u001b[0m\u001b[0;34m(\u001b[0m\u001b[0;36m0\u001b[0m\u001b[0;34m,\u001b[0m \u001b[0minplace\u001b[0m\u001b[0;34m=\u001b[0m\u001b[0;32mTrue\u001b[0m\u001b[0;34m)\u001b[0m\u001b[0;34m\u001b[0m\u001b[0m\n\u001b[1;32m    123\u001b[0m \u001b[0;34m\u001b[0m\u001b[0m\n\u001b[0;32m--> 124\u001b[0;31m     \u001b[0mdelta_time\u001b[0m \u001b[0;34m=\u001b[0m \u001b[0;34m(\u001b[0m\u001b[0mto_period\u001b[0m\u001b[0;34m(\u001b[0m\u001b[0mobservation_period_end\u001b[0m\u001b[0;34m)\u001b[0m \u001b[0;34m-\u001b[0m \u001b[0mto_period\u001b[0m\u001b[0;34m(\u001b[0m\u001b[0mcalibration_period_end\u001b[0m\u001b[0;34m)\u001b[0m\u001b[0;34m)\u001b[0m\u001b[0;34m.\u001b[0m\u001b[0mn\u001b[0m\u001b[0;34m\u001b[0m\u001b[0m\n\u001b[0m\u001b[1;32m    125\u001b[0m     \u001b[0mcombined_data\u001b[0m\u001b[0;34m[\u001b[0m\u001b[0;34m\"duration_holdout\"\u001b[0m\u001b[0;34m]\u001b[0m \u001b[0;34m=\u001b[0m \u001b[0mdelta_time\u001b[0m\u001b[0;34m\u001b[0m\u001b[0m\n\u001b[1;32m    126\u001b[0m \u001b[0;34m\u001b[0m\u001b[0m\n",
      "\u001b[0;31mAttributeError\u001b[0m: 'int' object has no attribute 'n'"
     ]
    }
   ],
   "source": [
    "# from lifetimes.utils import calibration_and_holdout_data\n",
    "\n",
    "# df.visitStartTime = pd.to_datetime(df.visitStartTime)\n",
    "# summary_cal_holdout = calibration_and_holdout_data(df, 'fullVisitorId', 'visitStartTime',\n",
    "#                                         calibration_period_end= '2017-02-02 00:00:00')   \n",
    "# print(summary_cal_holdout.head())"
   ]
  },
  {
   "cell_type": "code",
   "execution_count": null,
   "metadata": {
    "ExecuteTime": {
     "end_time": "2020-02-21T02:18:08.641777Z",
     "start_time": "2020-02-21T02:17:46.597Z"
    }
   },
   "outputs": [],
   "source": [
    "from lifetimes.plotting import plot_calibration_purchases_vs_holdout_purchases\n",
    "\n",
    "bgf.fit(summary_cal_holdout['frequency_cal'], summary_cal_holdout['recency_cal'], summary_cal_holdout['T_cal'])\n",
    "plot_calibration_purchases_vs_holdout_purchases(bgf, summary_cal_holdout)"
   ]
  },
  {
   "cell_type": "code",
   "execution_count": 395,
   "metadata": {
    "ExecuteTime": {
     "end_time": "2020-02-21T02:42:06.773167Z",
     "start_time": "2020-02-21T02:42:06.527336Z"
    }
   },
   "outputs": [
    {
     "ename": "KeyError",
     "evalue": "'T'",
     "output_type": "error",
     "traceback": [
      "\u001b[0;31m---------------------------------------------------------------------------\u001b[0m",
      "\u001b[0;31mKeyError\u001b[0m                                  Traceback (most recent call last)",
      "\u001b[0;32m~/anaconda3/envs/learn-env/lib/python3.6/site-packages/pandas/core/indexes/base.py\u001b[0m in \u001b[0;36mget_loc\u001b[0;34m(self, key, method, tolerance)\u001b[0m\n\u001b[1;32m   3077\u001b[0m             \u001b[0;34mf\"cannot do {form} indexing on {type(self)} with these \"\u001b[0m\u001b[0;34m\u001b[0m\u001b[0m\n\u001b[0;32m-> 3078\u001b[0;31m             \u001b[0;34mf\"indexers [{key}] of {type(key)}\"\u001b[0m\u001b[0;34m\u001b[0m\u001b[0m\n\u001b[0m\u001b[1;32m   3079\u001b[0m         )\n",
      "\u001b[0;32mpandas/_libs/index.pyx\u001b[0m in \u001b[0;36mpandas._libs.index.IndexEngine.get_loc\u001b[0;34m()\u001b[0m\n",
      "\u001b[0;32mpandas/_libs/index.pyx\u001b[0m in \u001b[0;36mpandas._libs.index.IndexEngine.get_loc\u001b[0;34m()\u001b[0m\n",
      "\u001b[0;32mpandas/_libs/hashtable_class_helper.pxi\u001b[0m in \u001b[0;36mpandas._libs.hashtable.PyObjectHashTable.get_item\u001b[0;34m()\u001b[0m\n",
      "\u001b[0;32mpandas/_libs/hashtable_class_helper.pxi\u001b[0m in \u001b[0;36mpandas._libs.hashtable.PyObjectHashTable.get_item\u001b[0;34m()\u001b[0m\n",
      "\u001b[0;31mKeyError\u001b[0m: 'T'",
      "\nDuring handling of the above exception, another exception occurred:\n",
      "\u001b[0;31mKeyError\u001b[0m                                  Traceback (most recent call last)",
      "\u001b[0;32m<ipython-input-395-f53956aee9bb>\u001b[0m in \u001b[0;36m<module>\u001b[0;34m()\u001b[0m\n\u001b[1;32m      5\u001b[0m \u001b[0mdays_since_birth\u001b[0m \u001b[0;34m=\u001b[0m \u001b[0;36m365\u001b[0m\u001b[0;34m\u001b[0m\u001b[0m\n\u001b[1;32m      6\u001b[0m \u001b[0msp_trans\u001b[0m \u001b[0;34m=\u001b[0m \u001b[0mdf\u001b[0m\u001b[0;34m.\u001b[0m\u001b[0mloc\u001b[0m\u001b[0;34m[\u001b[0m\u001b[0mdf\u001b[0m\u001b[0;34m[\u001b[0m\u001b[0;34m'fullVisitorId'\u001b[0m\u001b[0;34m]\u001b[0m \u001b[0;34m==\u001b[0m \u001b[0mid\u001b[0m\u001b[0;34m]\u001b[0m\u001b[0;34m\u001b[0m\u001b[0m\n\u001b[0;32m----> 7\u001b[0;31m \u001b[0mplot_history_alive\u001b[0m\u001b[0;34m(\u001b[0m\u001b[0mbgf\u001b[0m\u001b[0;34m,\u001b[0m \u001b[0mdays_since_birth\u001b[0m\u001b[0;34m,\u001b[0m \u001b[0msp_trans\u001b[0m\u001b[0;34m,\u001b[0m \u001b[0;34m'T'\u001b[0m\u001b[0;34m)\u001b[0m\u001b[0;34m\u001b[0m\u001b[0m\n\u001b[0m",
      "\u001b[0;32m~/anaconda3/envs/learn-env/lib/python3.6/site-packages/lifetimes/plotting.py\u001b[0m in \u001b[0;36mplot_history_alive\u001b[0;34m(model, t, transactions, datetime_col, freq, start_date, ax, **kwargs)\u001b[0m\n\u001b[1;32m    362\u001b[0m \u001b[0;34m\u001b[0m\u001b[0m\n\u001b[1;32m    363\u001b[0m     \u001b[0;32mif\u001b[0m \u001b[0mstart_date\u001b[0m \u001b[0;32mis\u001b[0m \u001b[0;32mNone\u001b[0m\u001b[0;34m:\u001b[0m\u001b[0;34m\u001b[0m\u001b[0m\n\u001b[0;32m--> 364\u001b[0;31m         \u001b[0mstart_date\u001b[0m \u001b[0;34m=\u001b[0m \u001b[0mmin\u001b[0m\u001b[0;34m(\u001b[0m\u001b[0mtransactions\u001b[0m\u001b[0;34m[\u001b[0m\u001b[0mdatetime_col\u001b[0m\u001b[0;34m]\u001b[0m\u001b[0;34m)\u001b[0m\u001b[0;34m\u001b[0m\u001b[0m\n\u001b[0m\u001b[1;32m    365\u001b[0m \u001b[0;34m\u001b[0m\u001b[0m\n\u001b[1;32m    366\u001b[0m     \u001b[0;32mif\u001b[0m \u001b[0max\u001b[0m \u001b[0;32mis\u001b[0m \u001b[0;32mNone\u001b[0m\u001b[0;34m:\u001b[0m\u001b[0;34m\u001b[0m\u001b[0m\n",
      "\u001b[0;32m~/anaconda3/envs/learn-env/lib/python3.6/site-packages/pandas/core/frame.py\u001b[0m in \u001b[0;36m__getitem__\u001b[0;34m(self, key)\u001b[0m\n\u001b[1;32m   2686\u001b[0m         \u001b[0mdtype\u001b[0m\u001b[0;34m:\u001b[0m \u001b[0mobject\u001b[0m\u001b[0;34m\u001b[0m\u001b[0m\n\u001b[1;32m   2687\u001b[0m         \u001b[0;34m>>\u001b[0m\u001b[0;34m>\u001b[0m \u001b[0mdf2_transposed\u001b[0m\u001b[0;34m.\u001b[0m\u001b[0mdtypes\u001b[0m\u001b[0;34m\u001b[0m\u001b[0m\n\u001b[0;32m-> 2688\u001b[0;31m         \u001b[0;36m0\u001b[0m    \u001b[0mobject\u001b[0m\u001b[0;34m\u001b[0m\u001b[0m\n\u001b[0m\u001b[1;32m   2689\u001b[0m         \u001b[0;36m1\u001b[0m    \u001b[0mobject\u001b[0m\u001b[0;34m\u001b[0m\u001b[0m\n\u001b[1;32m   2690\u001b[0m         \u001b[0mdtype\u001b[0m\u001b[0;34m:\u001b[0m \u001b[0mobject\u001b[0m\u001b[0;34m\u001b[0m\u001b[0m\n",
      "\u001b[0;32m~/anaconda3/envs/learn-env/lib/python3.6/site-packages/pandas/core/frame.py\u001b[0m in \u001b[0;36m_getitem_column\u001b[0;34m(self, key)\u001b[0m\n\u001b[1;32m   2693\u001b[0m         \u001b[0;31m# construct the args\u001b[0m\u001b[0;34m\u001b[0m\u001b[0;34m\u001b[0m\u001b[0m\n\u001b[1;32m   2694\u001b[0m \u001b[0;34m\u001b[0m\u001b[0m\n\u001b[0;32m-> 2695\u001b[0;31m         \u001b[0mdtypes\u001b[0m \u001b[0;34m=\u001b[0m \u001b[0mlist\u001b[0m\u001b[0;34m(\u001b[0m\u001b[0mself\u001b[0m\u001b[0;34m.\u001b[0m\u001b[0mdtypes\u001b[0m\u001b[0;34m)\u001b[0m\u001b[0;34m\u001b[0m\u001b[0m\n\u001b[0m\u001b[1;32m   2696\u001b[0m         \u001b[0;32mif\u001b[0m \u001b[0mself\u001b[0m\u001b[0;34m.\u001b[0m\u001b[0m_is_homogeneous_type\u001b[0m \u001b[0;32mand\u001b[0m \u001b[0mdtypes\u001b[0m \u001b[0;32mand\u001b[0m \u001b[0mis_extension_array_dtype\u001b[0m\u001b[0;34m(\u001b[0m\u001b[0mdtypes\u001b[0m\u001b[0;34m[\u001b[0m\u001b[0;36m0\u001b[0m\u001b[0;34m]\u001b[0m\u001b[0;34m)\u001b[0m\u001b[0;34m:\u001b[0m\u001b[0;34m\u001b[0m\u001b[0m\n\u001b[1;32m   2697\u001b[0m             \u001b[0;31m# We have EAs with the same dtype. We can preserve that dtype in transpose.\u001b[0m\u001b[0;34m\u001b[0m\u001b[0;34m\u001b[0m\u001b[0m\n",
      "\u001b[0;32m~/anaconda3/envs/learn-env/lib/python3.6/site-packages/pandas/core/generic.py\u001b[0m in \u001b[0;36m_get_item_cache\u001b[0;34m(self, item)\u001b[0m\n\u001b[1;32m   2487\u001b[0m         \"\"\"\n\u001b[1;32m   2488\u001b[0m         \u001b[0;32mfrom\u001b[0m \u001b[0mpandas\u001b[0m\u001b[0;34m.\u001b[0m\u001b[0mio\u001b[0m \u001b[0;32mimport\u001b[0m \u001b[0mpytables\u001b[0m\u001b[0;34m\u001b[0m\u001b[0m\n\u001b[0;32m-> 2489\u001b[0;31m \u001b[0;34m\u001b[0m\u001b[0m\n\u001b[0m\u001b[1;32m   2490\u001b[0m         pytables.to_hdf(\n\u001b[1;32m   2491\u001b[0m             \u001b[0mpath_or_buf\u001b[0m\u001b[0;34m,\u001b[0m\u001b[0;34m\u001b[0m\u001b[0m\n",
      "\u001b[0;32m~/anaconda3/envs/learn-env/lib/python3.6/site-packages/pandas/core/internals.py\u001b[0m in \u001b[0;36mget\u001b[0;34m(self, item, fastpath)\u001b[0m\n",
      "\u001b[0;32m~/anaconda3/envs/learn-env/lib/python3.6/site-packages/pandas/core/indexes/base.py\u001b[0m in \u001b[0;36mget_loc\u001b[0;34m(self, key, method, tolerance)\u001b[0m\n\u001b[1;32m   3078\u001b[0m             \u001b[0;34mf\"indexers [{key}] of {type(key)}\"\u001b[0m\u001b[0;34m\u001b[0m\u001b[0m\n\u001b[1;32m   3079\u001b[0m         )\n\u001b[0;32m-> 3080\u001b[0;31m \u001b[0;34m\u001b[0m\u001b[0m\n\u001b[0m\u001b[1;32m   3081\u001b[0m     \u001b[0;31m# --------------------------------------------------------------------\u001b[0m\u001b[0;34m\u001b[0m\u001b[0;34m\u001b[0m\u001b[0m\n\u001b[1;32m   3082\u001b[0m     \u001b[0;31m# Reindex Methods\u001b[0m\u001b[0;34m\u001b[0m\u001b[0;34m\u001b[0m\u001b[0m\n",
      "\u001b[0;32mpandas/_libs/index.pyx\u001b[0m in \u001b[0;36mpandas._libs.index.IndexEngine.get_loc\u001b[0;34m()\u001b[0m\n",
      "\u001b[0;32mpandas/_libs/index.pyx\u001b[0m in \u001b[0;36mpandas._libs.index.IndexEngine.get_loc\u001b[0;34m()\u001b[0m\n",
      "\u001b[0;32mpandas/_libs/hashtable_class_helper.pxi\u001b[0m in \u001b[0;36mpandas._libs.hashtable.PyObjectHashTable.get_item\u001b[0;34m()\u001b[0m\n",
      "\u001b[0;32mpandas/_libs/hashtable_class_helper.pxi\u001b[0m in \u001b[0;36mpandas._libs.hashtable.PyObjectHashTable.get_item\u001b[0;34m()\u001b[0m\n",
      "\u001b[0;31mKeyError\u001b[0m: 'T'"
     ]
    },
    {
     "data": {
      "text/plain": [
       "<Figure size 864x576 with 0 Axes>"
      ]
     },
     "metadata": {},
     "output_type": "display_data"
    }
   ],
   "source": [
    "from lifetimes.plotting import plot_history_alive\n",
    "\n",
    "fig = plt.figure(figsize=(12,8))\n",
    "id = 7477638593794484792\n",
    "days_since_birth = 365\n",
    "sp_trans = df.loc[df['fullVisitorId'] == id]\n",
    "plot_history_alive(bgf, days_since_birth, sp_trans, 'InvoiceDate')"
   ]
  },
  {
   "cell_type": "markdown",
   "metadata": {},
   "source": [
    "# Future Work"
   ]
  }
 ],
 "metadata": {
  "kernelspec": {
   "display_name": "Python [conda env:learn-env] *",
   "language": "python",
   "name": "conda-env-learn-env-py"
  },
  "language_info": {
   "codemirror_mode": {
    "name": "ipython",
    "version": 3
   },
   "file_extension": ".py",
   "mimetype": "text/x-python",
   "name": "python",
   "nbconvert_exporter": "python",
   "pygments_lexer": "ipython3",
   "version": "3.6.6"
  },
  "toc": {
   "base_numbering": 1,
   "nav_menu": {},
   "number_sections": true,
   "sideBar": true,
   "skip_h1_title": false,
   "title_cell": "Table of Contents",
   "title_sidebar": "Contents",
   "toc_cell": true,
   "toc_position": {
    "height": "509px",
    "left": "628px",
    "top": "213px",
    "width": "273.188px"
   },
   "toc_section_display": true,
   "toc_window_display": false
  }
 },
 "nbformat": 4,
 "nbformat_minor": 2
}
