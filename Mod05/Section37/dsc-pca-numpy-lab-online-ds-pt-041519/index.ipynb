{
 "cells": [
  {
   "cell_type": "markdown",
   "metadata": {},
   "source": [
    "# Performing Principal Component Analysis (PCA) - Lab\n",
    "\n",
    "## Introduction\n",
    "\n",
    "Now that you have high level overview of PCA as well as some of the details in the algorithm itself, its time to practice implementing PCA on your own using the NumPy package. \n",
    "\n",
    "## Objectives\n",
    "\n",
    "You will be able to:\n",
    "    \n",
    "* Implement PCA from scratch using NumPy"
   ]
  },
  {
   "cell_type": "markdown",
   "metadata": {},
   "source": [
    "## Import the Data\n",
    "\n",
    "To start, import the data stored in the file 'foodusa.csv'."
   ]
  },
  {
   "cell_type": "code",
   "execution_count": 2,
   "metadata": {},
   "outputs": [],
   "source": [
    "import numpy as np\n",
    "from numpy import array\n",
    "from numpy.linalg import eig, inv\n",
    "import pandas as pd#Your code here"
   ]
  },
  {
   "cell_type": "code",
   "execution_count": 9,
   "metadata": {},
   "outputs": [
    {
     "data": {
      "text/html": [
       "<div>\n",
       "<style scoped>\n",
       "    .dataframe tbody tr th:only-of-type {\n",
       "        vertical-align: middle;\n",
       "    }\n",
       "\n",
       "    .dataframe tbody tr th {\n",
       "        vertical-align: top;\n",
       "    }\n",
       "\n",
       "    .dataframe thead th {\n",
       "        text-align: right;\n",
       "    }\n",
       "</style>\n",
       "<table border=\"1\" class=\"dataframe\">\n",
       "  <thead>\n",
       "    <tr style=\"text-align: right;\">\n",
       "      <th></th>\n",
       "      <th>Bread</th>\n",
       "      <th>Burger</th>\n",
       "      <th>Milk</th>\n",
       "      <th>Oranges</th>\n",
       "      <th>Tomatoes</th>\n",
       "    </tr>\n",
       "    <tr>\n",
       "      <th>City</th>\n",
       "      <th></th>\n",
       "      <th></th>\n",
       "      <th></th>\n",
       "      <th></th>\n",
       "      <th></th>\n",
       "    </tr>\n",
       "  </thead>\n",
       "  <tbody>\n",
       "    <tr>\n",
       "      <th>ATLANTA</th>\n",
       "      <td>24.5</td>\n",
       "      <td>94.5</td>\n",
       "      <td>73.9</td>\n",
       "      <td>80.1</td>\n",
       "      <td>41.6</td>\n",
       "    </tr>\n",
       "    <tr>\n",
       "      <th>BALTIMORE</th>\n",
       "      <td>26.5</td>\n",
       "      <td>91.0</td>\n",
       "      <td>67.5</td>\n",
       "      <td>74.6</td>\n",
       "      <td>53.3</td>\n",
       "    </tr>\n",
       "    <tr>\n",
       "      <th>BOSTON</th>\n",
       "      <td>29.7</td>\n",
       "      <td>100.8</td>\n",
       "      <td>61.4</td>\n",
       "      <td>104.0</td>\n",
       "      <td>59.6</td>\n",
       "    </tr>\n",
       "    <tr>\n",
       "      <th>BUFFALO</th>\n",
       "      <td>22.8</td>\n",
       "      <td>86.6</td>\n",
       "      <td>65.3</td>\n",
       "      <td>118.4</td>\n",
       "      <td>51.2</td>\n",
       "    </tr>\n",
       "    <tr>\n",
       "      <th>CHICAGO</th>\n",
       "      <td>26.7</td>\n",
       "      <td>86.7</td>\n",
       "      <td>62.7</td>\n",
       "      <td>105.9</td>\n",
       "      <td>51.2</td>\n",
       "    </tr>\n",
       "  </tbody>\n",
       "</table>\n",
       "</div>"
      ],
      "text/plain": [
       "           Bread  Burger  Milk  Oranges  Tomatoes\n",
       "City                                             \n",
       "ATLANTA     24.5    94.5  73.9     80.1      41.6\n",
       "BALTIMORE   26.5    91.0  67.5     74.6      53.3\n",
       "BOSTON      29.7   100.8  61.4    104.0      59.6\n",
       "BUFFALO     22.8    86.6  65.3    118.4      51.2\n",
       "CHICAGO     26.7    86.7  62.7    105.9      51.2"
      ]
     },
     "execution_count": 9,
     "metadata": {},
     "output_type": "execute_result"
    }
   ],
   "source": [
    "df = pd.read_csv('foodusa.csv', index_col=0)\n",
    "df.head()"
   ]
  },
  {
   "cell_type": "markdown",
   "metadata": {},
   "source": [
    "## Normalize the Data\n",
    "\n",
    "Next, normalize your data by subtracting the feature mean from each of the columns"
   ]
  },
  {
   "cell_type": "code",
   "execution_count": 10,
   "metadata": {},
   "outputs": [],
   "source": [
    "mean = df.mean()\n",
    "df = df - mean#Your code here"
   ]
  },
  {
   "cell_type": "markdown",
   "metadata": {},
   "source": [
    "## Calculate the Covariance Matrix\n",
    "\n",
    "The next step for PCA is to calculate to covariance matrix for your normalized data. Do so here."
   ]
  },
  {
   "cell_type": "code",
   "execution_count": 11,
   "metadata": {},
   "outputs": [],
   "source": [
    "cov = np.cov([df.Bread, df.Burger, df.Milk, df.Oranges, df.Tomatoes])#Your code here"
   ]
  },
  {
   "cell_type": "code",
   "execution_count": 12,
   "metadata": {},
   "outputs": [
    {
     "data": {
      "text/plain": [
       "array([[  6.2844664 ,  12.91096838,   5.71905138,   1.31037549,\n",
       "          7.28513834],\n",
       "       [ 12.91096838,  57.07711462,  17.50752964,  22.69187747,\n",
       "         36.29478261],\n",
       "       [  5.71905138,  17.50752964,  48.30588933,  -0.27503953,\n",
       "         13.44347826],\n",
       "       [  1.31037549,  22.69187747,  -0.27503953, 202.75628458,\n",
       "         38.76241107],\n",
       "       [  7.28513834,  36.29478261,  13.44347826,  38.76241107,\n",
       "         57.80055336]])"
      ]
     },
     "execution_count": 12,
     "metadata": {},
     "output_type": "execute_result"
    }
   ],
   "source": [
    "cov"
   ]
  },
  {
   "cell_type": "markdown",
   "metadata": {},
   "source": [
    "## Calculate the Eigenvectors\n",
    "\n",
    "Next, calculate the eigenvectors for your covariance matrix."
   ]
  },
  {
   "cell_type": "code",
   "execution_count": 14,
   "metadata": {},
   "outputs": [
    {
     "data": {
      "text/plain": [
       "array([[-0.02848905, -0.16532108, -0.96716354, -0.18972574,  0.02135748],\n",
       "       [-0.2001224 , -0.63218494,  0.24877074, -0.65862454,  0.25420475],\n",
       "       [-0.0416723 , -0.44215032,  0.03606094,  0.10765906, -0.88874949],\n",
       "       [-0.93885906,  0.31435473, -0.01521357, -0.06904699, -0.12135003],\n",
       "       [-0.27558389, -0.52791603, -0.03429221,  0.71684022,  0.36100184]])"
      ]
     },
     "execution_count": 14,
     "metadata": {},
     "output_type": "execute_result"
    }
   ],
   "source": [
    "eig_val, eig_vec = np.linalg.eig(cov)\n",
    "eig_vec#Your code here"
   ]
  },
  {
   "cell_type": "markdown",
   "metadata": {},
   "source": [
    "## Sorting the Eigenvectors to Determine Primary Components\n",
    "\n",
    "Great! Now that you have the eigenvectors and their associated eigenvalues, sort the eigenvectors based on their eigenvalues!"
   ]
  },
  {
   "cell_type": "code",
   "execution_count": 16,
   "metadata": {},
   "outputs": [
    {
     "data": {
      "text/plain": [
       "array([[-0.02848905, -0.16532108,  0.02135748, -0.18972574, -0.96716354],\n",
       "       [-0.2001224 , -0.63218494,  0.25420475, -0.65862454,  0.24877074],\n",
       "       [-0.0416723 , -0.44215032, -0.88874949,  0.10765906,  0.03606094],\n",
       "       [-0.93885906,  0.31435473, -0.12135003, -0.06904699, -0.01521357],\n",
       "       [-0.27558389, -0.52791603,  0.36100184,  0.71684022, -0.03429221]])"
      ]
     },
     "execution_count": 16,
     "metadata": {},
     "output_type": "execute_result"
    }
   ],
   "source": [
    "eig_indeces = np.argsort(eig_val)[::-1]\n",
    "eig_sort = eig_vec[:,eig_indeces]\n",
    "eig_sort#Your code here"
   ]
  },
  {
   "cell_type": "markdown",
   "metadata": {},
   "source": [
    "## Reprojecting the Data\n",
    "\n",
    "Finally, reproject the dataset using your eigenvectors. Reproject the dataset down to 2 dimensions."
   ]
  },
  {
   "cell_type": "code",
   "execution_count": 18,
   "metadata": {},
   "outputs": [
    {
     "data": {
      "text/plain": [
       "array([[ 11.10636706,  14.73134932, -14.17203836,   1.85530932,\n",
       "        -13.15196933],\n",
       "       [  1.21900301,  21.44989411,  -7.19007196,  -0.14425049,\n",
       "        -18.50968283]])"
      ]
     },
     "execution_count": 18,
     "metadata": {},
     "output_type": "execute_result"
    }
   ],
   "source": [
    "transformed = eig_sort.dot(df.T).T\n",
    "transformed[:2]#Your code here"
   ]
  },
  {
   "cell_type": "markdown",
   "metadata": {},
   "source": [
    "## Summary\n",
    "\n",
    "Well done! You've now coded PCA on your own using NumPy! With that, it's time to look at further application of PCA."
   ]
  }
 ],
 "metadata": {
  "kernelspec": {
   "display_name": "Python 3",
   "language": "python",
   "name": "python3"
  },
  "language_info": {
   "codemirror_mode": {
    "name": "ipython",
    "version": 3
   },
   "file_extension": ".py",
   "mimetype": "text/x-python",
   "name": "python",
   "nbconvert_exporter": "python",
   "pygments_lexer": "ipython3",
   "version": "3.6.6"
  },
  "toc": {
   "base_numbering": 1,
   "nav_menu": {},
   "number_sections": true,
   "sideBar": true,
   "skip_h1_title": false,
   "title_cell": "Table of Contents",
   "title_sidebar": "Contents",
   "toc_cell": false,
   "toc_position": {},
   "toc_section_display": true,
   "toc_window_display": false
  }
 },
 "nbformat": 4,
 "nbformat_minor": 2
}
