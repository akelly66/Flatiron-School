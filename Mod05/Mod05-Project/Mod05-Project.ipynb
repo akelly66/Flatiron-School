{
 "cells": [
  {
   "cell_type": "markdown",
   "metadata": {},
   "source": [
    "# Module 05 Project Overview"
   ]
  },
  {
   "cell_type": "markdown",
   "metadata": {},
   "source": [
    "The purpose of this project is to examine the relationship between hyperglycemic tests and hospital readmittance rates of patients with diabetes as a diagnosis. The model will attempt to predict which patients are likely to be readmitted for complications and categorized as being hospitalized within a month, more than a month from most recent discharge, and never. This model and similar models can change when testing is administered, possibly resulting in earlier diagnosis and preventative measures to be taken during the initial treatment period to avoid readmittance, lowering healthcare costs for both patient and hospital. \n",
    "\n",
    "This machine learning project is a supervised, multi-class classification problem.\n",
    "\n",
    "You'll find the accompanying biomedical research paper with label descriptions and further information <a href=\"http://dx.doi.org/10.1155/2014/781670\">here.</a>"
   ]
  },
  {
   "cell_type": "markdown",
   "metadata": {
    "ExecuteTime": {
     "end_time": "2019-12-15T00:51:23.881804Z",
     "start_time": "2019-12-15T00:51:23.876932Z"
    }
   },
   "source": [
    "# FEATURE IMPORTANCE"
   ]
  },
  {
   "cell_type": "code",
   "execution_count": 1,
   "metadata": {
    "ExecuteTime": {
     "end_time": "2019-12-15T02:09:10.482441Z",
     "start_time": "2019-12-15T02:09:10.477486Z"
    }
   },
   "outputs": [],
   "source": [
    "# from eli5.sklearn import PermutationImportance\n",
    "\n",
    "# permumtation_impor = PermutationImportance(random_forest, random_state=2019).fit(X_test, y_test)\n",
    "# eli5.show_weights(permumtation_impor, feature_names = X_test.columns.tolist())"
   ]
  },
  {
   "cell_type": "code",
   "execution_count": 2,
   "metadata": {
    "ExecuteTime": {
     "end_time": "2019-12-15T02:09:19.581530Z",
     "start_time": "2019-12-15T02:09:10.489723Z"
    }
   },
   "outputs": [
    {
     "name": "stderr",
     "output_type": "stream",
     "text": [
      "Using TensorFlow backend.\n"
     ]
    }
   ],
   "source": [
    "# standard imports\n",
    "import pandas as pd\n",
    "import numpy as np\n",
    "import pandas_profiling\n",
    "\n",
    "import warnings\n",
    "warnings.filterwarnings(\"ignore\")\n",
    "\n",
    "# visualization\n",
    "import matplotlib.pyplot as plt\n",
    "%matplotlib inline\n",
    "plt.style.use('seaborn-whitegrid')\n",
    "import seaborn as sns\n",
    "\n",
    "# modeling\n",
    "from sklearn.model_selection import train_test_split\n",
    "from sklearn import preprocessing, tree\n",
    "from sklearn.linear_model import LogisticRegression\n",
    "from sklearn.ensemble import RandomForestClassifier, AdaBoostClassifier, GradientBoostingClassifier\n",
    "from sklearn.decomposition import PCA\n",
    "from sklearn.pipeline import Pipeline\n",
    "from sklearn.metrics import f1_score, accuracy_score, recall_score, classification_report\n",
    "from xgboost import XGBClassifier\n",
    "\n",
    "# resampling\n",
    "from sklearn.utils import resample\n",
    "from imblearn.over_sampling import SMOTE, RandomOverSampler"
   ]
  },
  {
   "cell_type": "code",
   "execution_count": 3,
   "metadata": {
    "ExecuteTime": {
     "end_time": "2019-12-15T02:09:22.325591Z",
     "start_time": "2019-12-15T02:09:19.599320Z"
    }
   },
   "outputs": [],
   "source": [
    "raw_df = pd.read_csv(\"diabetes_data.csv\")\n",
    "df = pd.read_csv(\"diabetes_data.csv\")"
   ]
  },
  {
   "cell_type": "code",
   "execution_count": 4,
   "metadata": {
    "ExecuteTime": {
     "end_time": "2019-12-15T02:09:22.429208Z",
     "start_time": "2019-12-15T02:09:22.361199Z"
    },
    "scrolled": true
   },
   "outputs": [
    {
     "data": {
      "text/html": [
       "<div>\n",
       "<style scoped>\n",
       "    .dataframe tbody tr th:only-of-type {\n",
       "        vertical-align: middle;\n",
       "    }\n",
       "\n",
       "    .dataframe tbody tr th {\n",
       "        vertical-align: top;\n",
       "    }\n",
       "\n",
       "    .dataframe thead th {\n",
       "        text-align: right;\n",
       "    }\n",
       "</style>\n",
       "<table border=\"1\" class=\"dataframe\">\n",
       "  <thead>\n",
       "    <tr style=\"text-align: right;\">\n",
       "      <th></th>\n",
       "      <th>encounter_id</th>\n",
       "      <th>patient_nbr</th>\n",
       "      <th>race</th>\n",
       "      <th>gender</th>\n",
       "      <th>age</th>\n",
       "      <th>weight</th>\n",
       "      <th>admission_type_id</th>\n",
       "      <th>discharge_disposition_id</th>\n",
       "      <th>admission_source_id</th>\n",
       "      <th>time_in_hospital</th>\n",
       "      <th>...</th>\n",
       "      <th>citoglipton</th>\n",
       "      <th>insulin</th>\n",
       "      <th>glyburide-metformin</th>\n",
       "      <th>glipizide-metformin</th>\n",
       "      <th>glimepiride-pioglitazone</th>\n",
       "      <th>metformin-rosiglitazone</th>\n",
       "      <th>metformin-pioglitazone</th>\n",
       "      <th>change</th>\n",
       "      <th>diabetesMed</th>\n",
       "      <th>readmitted</th>\n",
       "    </tr>\n",
       "  </thead>\n",
       "  <tbody>\n",
       "    <tr>\n",
       "      <th>0</th>\n",
       "      <td>2278392</td>\n",
       "      <td>8222157</td>\n",
       "      <td>Caucasian</td>\n",
       "      <td>Female</td>\n",
       "      <td>[0-10)</td>\n",
       "      <td>?</td>\n",
       "      <td>6</td>\n",
       "      <td>25</td>\n",
       "      <td>1</td>\n",
       "      <td>1</td>\n",
       "      <td>...</td>\n",
       "      <td>No</td>\n",
       "      <td>No</td>\n",
       "      <td>No</td>\n",
       "      <td>No</td>\n",
       "      <td>No</td>\n",
       "      <td>No</td>\n",
       "      <td>No</td>\n",
       "      <td>No</td>\n",
       "      <td>No</td>\n",
       "      <td>NO</td>\n",
       "    </tr>\n",
       "    <tr>\n",
       "      <th>1</th>\n",
       "      <td>149190</td>\n",
       "      <td>55629189</td>\n",
       "      <td>Caucasian</td>\n",
       "      <td>Female</td>\n",
       "      <td>[10-20)</td>\n",
       "      <td>?</td>\n",
       "      <td>1</td>\n",
       "      <td>1</td>\n",
       "      <td>7</td>\n",
       "      <td>3</td>\n",
       "      <td>...</td>\n",
       "      <td>No</td>\n",
       "      <td>Up</td>\n",
       "      <td>No</td>\n",
       "      <td>No</td>\n",
       "      <td>No</td>\n",
       "      <td>No</td>\n",
       "      <td>No</td>\n",
       "      <td>Ch</td>\n",
       "      <td>Yes</td>\n",
       "      <td>&gt;30</td>\n",
       "    </tr>\n",
       "    <tr>\n",
       "      <th>2</th>\n",
       "      <td>64410</td>\n",
       "      <td>86047875</td>\n",
       "      <td>AfricanAmerican</td>\n",
       "      <td>Female</td>\n",
       "      <td>[20-30)</td>\n",
       "      <td>?</td>\n",
       "      <td>1</td>\n",
       "      <td>1</td>\n",
       "      <td>7</td>\n",
       "      <td>2</td>\n",
       "      <td>...</td>\n",
       "      <td>No</td>\n",
       "      <td>No</td>\n",
       "      <td>No</td>\n",
       "      <td>No</td>\n",
       "      <td>No</td>\n",
       "      <td>No</td>\n",
       "      <td>No</td>\n",
       "      <td>No</td>\n",
       "      <td>Yes</td>\n",
       "      <td>NO</td>\n",
       "    </tr>\n",
       "    <tr>\n",
       "      <th>3</th>\n",
       "      <td>500364</td>\n",
       "      <td>82442376</td>\n",
       "      <td>Caucasian</td>\n",
       "      <td>Male</td>\n",
       "      <td>[30-40)</td>\n",
       "      <td>?</td>\n",
       "      <td>1</td>\n",
       "      <td>1</td>\n",
       "      <td>7</td>\n",
       "      <td>2</td>\n",
       "      <td>...</td>\n",
       "      <td>No</td>\n",
       "      <td>Up</td>\n",
       "      <td>No</td>\n",
       "      <td>No</td>\n",
       "      <td>No</td>\n",
       "      <td>No</td>\n",
       "      <td>No</td>\n",
       "      <td>Ch</td>\n",
       "      <td>Yes</td>\n",
       "      <td>NO</td>\n",
       "    </tr>\n",
       "    <tr>\n",
       "      <th>4</th>\n",
       "      <td>16680</td>\n",
       "      <td>42519267</td>\n",
       "      <td>Caucasian</td>\n",
       "      <td>Male</td>\n",
       "      <td>[40-50)</td>\n",
       "      <td>?</td>\n",
       "      <td>1</td>\n",
       "      <td>1</td>\n",
       "      <td>7</td>\n",
       "      <td>1</td>\n",
       "      <td>...</td>\n",
       "      <td>No</td>\n",
       "      <td>Steady</td>\n",
       "      <td>No</td>\n",
       "      <td>No</td>\n",
       "      <td>No</td>\n",
       "      <td>No</td>\n",
       "      <td>No</td>\n",
       "      <td>Ch</td>\n",
       "      <td>Yes</td>\n",
       "      <td>NO</td>\n",
       "    </tr>\n",
       "  </tbody>\n",
       "</table>\n",
       "<p>5 rows × 50 columns</p>\n",
       "</div>"
      ],
      "text/plain": [
       "   encounter_id  patient_nbr             race  gender      age weight  \\\n",
       "0       2278392      8222157        Caucasian  Female   [0-10)      ?   \n",
       "1        149190     55629189        Caucasian  Female  [10-20)      ?   \n",
       "2         64410     86047875  AfricanAmerican  Female  [20-30)      ?   \n",
       "3        500364     82442376        Caucasian    Male  [30-40)      ?   \n",
       "4         16680     42519267        Caucasian    Male  [40-50)      ?   \n",
       "\n",
       "   admission_type_id  discharge_disposition_id  admission_source_id  \\\n",
       "0                  6                        25                    1   \n",
       "1                  1                         1                    7   \n",
       "2                  1                         1                    7   \n",
       "3                  1                         1                    7   \n",
       "4                  1                         1                    7   \n",
       "\n",
       "   time_in_hospital    ...     citoglipton insulin  glyburide-metformin  \\\n",
       "0                 1    ...              No      No                   No   \n",
       "1                 3    ...              No      Up                   No   \n",
       "2                 2    ...              No      No                   No   \n",
       "3                 2    ...              No      Up                   No   \n",
       "4                 1    ...              No  Steady                   No   \n",
       "\n",
       "   glipizide-metformin  glimepiride-pioglitazone  metformin-rosiglitazone  \\\n",
       "0                   No                        No                       No   \n",
       "1                   No                        No                       No   \n",
       "2                   No                        No                       No   \n",
       "3                   No                        No                       No   \n",
       "4                   No                        No                       No   \n",
       "\n",
       "   metformin-pioglitazone  change diabetesMed readmitted  \n",
       "0                      No      No          No         NO  \n",
       "1                      No      Ch         Yes        >30  \n",
       "2                      No      No         Yes         NO  \n",
       "3                      No      Ch         Yes         NO  \n",
       "4                      No      Ch         Yes         NO  \n",
       "\n",
       "[5 rows x 50 columns]"
      ]
     },
     "execution_count": 4,
     "metadata": {},
     "output_type": "execute_result"
    }
   ],
   "source": [
    "df.head()"
   ]
  },
  {
   "cell_type": "code",
   "execution_count": 5,
   "metadata": {
    "ExecuteTime": {
     "end_time": "2019-12-15T02:09:22.442661Z",
     "start_time": "2019-12-15T02:09:22.433099Z"
    }
   },
   "outputs": [
    {
     "data": {
      "text/plain": [
       "101766"
      ]
     },
     "execution_count": 5,
     "metadata": {},
     "output_type": "execute_result"
    }
   ],
   "source": [
    "len(df)"
   ]
  },
  {
   "cell_type": "code",
   "execution_count": 6,
   "metadata": {
    "ExecuteTime": {
     "end_time": "2019-12-15T02:09:22.461450Z",
     "start_time": "2019-12-15T02:09:22.452078Z"
    }
   },
   "outputs": [],
   "source": [
    "#df.profile_report()"
   ]
  },
  {
   "cell_type": "markdown",
   "metadata": {},
   "source": [
    "# Preprocessing"
   ]
  },
  {
   "cell_type": "code",
   "execution_count": 7,
   "metadata": {
    "ExecuteTime": {
     "end_time": "2019-12-15T02:09:22.503302Z",
     "start_time": "2019-12-15T02:09:22.466868Z"
    }
   },
   "outputs": [
    {
     "data": {
      "text/html": [
       "<div>\n",
       "<style scoped>\n",
       "    .dataframe tbody tr th:only-of-type {\n",
       "        vertical-align: middle;\n",
       "    }\n",
       "\n",
       "    .dataframe tbody tr th {\n",
       "        vertical-align: top;\n",
       "    }\n",
       "\n",
       "    .dataframe thead th {\n",
       "        text-align: right;\n",
       "    }\n",
       "</style>\n",
       "<table border=\"1\" class=\"dataframe\">\n",
       "  <thead>\n",
       "    <tr style=\"text-align: right;\">\n",
       "      <th></th>\n",
       "      <th>encounter_id</th>\n",
       "      <th>patient_nbr</th>\n",
       "      <th>race</th>\n",
       "      <th>gender</th>\n",
       "      <th>age</th>\n",
       "      <th>weight</th>\n",
       "      <th>admission_type_id</th>\n",
       "      <th>discharge_disposition_id</th>\n",
       "      <th>admission_source_id</th>\n",
       "      <th>time_in_hospital</th>\n",
       "      <th>...</th>\n",
       "      <th>citoglipton</th>\n",
       "      <th>insulin</th>\n",
       "      <th>glyburide-metformin</th>\n",
       "      <th>glipizide-metformin</th>\n",
       "      <th>glimepiride-pioglitazone</th>\n",
       "      <th>metformin-rosiglitazone</th>\n",
       "      <th>metformin-pioglitazone</th>\n",
       "      <th>change</th>\n",
       "      <th>diabetesMed</th>\n",
       "      <th>readmitted</th>\n",
       "    </tr>\n",
       "  </thead>\n",
       "  <tbody>\n",
       "    <tr>\n",
       "      <th>0</th>\n",
       "      <td>2278392</td>\n",
       "      <td>8222157</td>\n",
       "      <td>Caucasian</td>\n",
       "      <td>Female</td>\n",
       "      <td>[0-10)</td>\n",
       "      <td>?</td>\n",
       "      <td>6</td>\n",
       "      <td>25</td>\n",
       "      <td>1</td>\n",
       "      <td>1</td>\n",
       "      <td>...</td>\n",
       "      <td>No</td>\n",
       "      <td>No</td>\n",
       "      <td>No</td>\n",
       "      <td>No</td>\n",
       "      <td>No</td>\n",
       "      <td>No</td>\n",
       "      <td>No</td>\n",
       "      <td>No</td>\n",
       "      <td>No</td>\n",
       "      <td>NO</td>\n",
       "    </tr>\n",
       "    <tr>\n",
       "      <th>1</th>\n",
       "      <td>149190</td>\n",
       "      <td>55629189</td>\n",
       "      <td>Caucasian</td>\n",
       "      <td>Female</td>\n",
       "      <td>[10-20)</td>\n",
       "      <td>?</td>\n",
       "      <td>1</td>\n",
       "      <td>1</td>\n",
       "      <td>7</td>\n",
       "      <td>3</td>\n",
       "      <td>...</td>\n",
       "      <td>No</td>\n",
       "      <td>Up</td>\n",
       "      <td>No</td>\n",
       "      <td>No</td>\n",
       "      <td>No</td>\n",
       "      <td>No</td>\n",
       "      <td>No</td>\n",
       "      <td>Ch</td>\n",
       "      <td>Yes</td>\n",
       "      <td>&gt;30</td>\n",
       "    </tr>\n",
       "    <tr>\n",
       "      <th>2</th>\n",
       "      <td>64410</td>\n",
       "      <td>86047875</td>\n",
       "      <td>AfricanAmerican</td>\n",
       "      <td>Female</td>\n",
       "      <td>[20-30)</td>\n",
       "      <td>?</td>\n",
       "      <td>1</td>\n",
       "      <td>1</td>\n",
       "      <td>7</td>\n",
       "      <td>2</td>\n",
       "      <td>...</td>\n",
       "      <td>No</td>\n",
       "      <td>No</td>\n",
       "      <td>No</td>\n",
       "      <td>No</td>\n",
       "      <td>No</td>\n",
       "      <td>No</td>\n",
       "      <td>No</td>\n",
       "      <td>No</td>\n",
       "      <td>Yes</td>\n",
       "      <td>NO</td>\n",
       "    </tr>\n",
       "    <tr>\n",
       "      <th>3</th>\n",
       "      <td>500364</td>\n",
       "      <td>82442376</td>\n",
       "      <td>Caucasian</td>\n",
       "      <td>Male</td>\n",
       "      <td>[30-40)</td>\n",
       "      <td>?</td>\n",
       "      <td>1</td>\n",
       "      <td>1</td>\n",
       "      <td>7</td>\n",
       "      <td>2</td>\n",
       "      <td>...</td>\n",
       "      <td>No</td>\n",
       "      <td>Up</td>\n",
       "      <td>No</td>\n",
       "      <td>No</td>\n",
       "      <td>No</td>\n",
       "      <td>No</td>\n",
       "      <td>No</td>\n",
       "      <td>Ch</td>\n",
       "      <td>Yes</td>\n",
       "      <td>NO</td>\n",
       "    </tr>\n",
       "    <tr>\n",
       "      <th>4</th>\n",
       "      <td>16680</td>\n",
       "      <td>42519267</td>\n",
       "      <td>Caucasian</td>\n",
       "      <td>Male</td>\n",
       "      <td>[40-50)</td>\n",
       "      <td>?</td>\n",
       "      <td>1</td>\n",
       "      <td>1</td>\n",
       "      <td>7</td>\n",
       "      <td>1</td>\n",
       "      <td>...</td>\n",
       "      <td>No</td>\n",
       "      <td>Steady</td>\n",
       "      <td>No</td>\n",
       "      <td>No</td>\n",
       "      <td>No</td>\n",
       "      <td>No</td>\n",
       "      <td>No</td>\n",
       "      <td>Ch</td>\n",
       "      <td>Yes</td>\n",
       "      <td>NO</td>\n",
       "    </tr>\n",
       "  </tbody>\n",
       "</table>\n",
       "<p>5 rows × 50 columns</p>\n",
       "</div>"
      ],
      "text/plain": [
       "   encounter_id  patient_nbr             race  gender      age weight  \\\n",
       "0       2278392      8222157        Caucasian  Female   [0-10)      ?   \n",
       "1        149190     55629189        Caucasian  Female  [10-20)      ?   \n",
       "2         64410     86047875  AfricanAmerican  Female  [20-30)      ?   \n",
       "3        500364     82442376        Caucasian    Male  [30-40)      ?   \n",
       "4         16680     42519267        Caucasian    Male  [40-50)      ?   \n",
       "\n",
       "   admission_type_id  discharge_disposition_id  admission_source_id  \\\n",
       "0                  6                        25                    1   \n",
       "1                  1                         1                    7   \n",
       "2                  1                         1                    7   \n",
       "3                  1                         1                    7   \n",
       "4                  1                         1                    7   \n",
       "\n",
       "   time_in_hospital    ...     citoglipton insulin  glyburide-metformin  \\\n",
       "0                 1    ...              No      No                   No   \n",
       "1                 3    ...              No      Up                   No   \n",
       "2                 2    ...              No      No                   No   \n",
       "3                 2    ...              No      Up                   No   \n",
       "4                 1    ...              No  Steady                   No   \n",
       "\n",
       "   glipizide-metformin  glimepiride-pioglitazone  metformin-rosiglitazone  \\\n",
       "0                   No                        No                       No   \n",
       "1                   No                        No                       No   \n",
       "2                   No                        No                       No   \n",
       "3                   No                        No                       No   \n",
       "4                   No                        No                       No   \n",
       "\n",
       "   metformin-pioglitazone  change diabetesMed readmitted  \n",
       "0                      No      No          No         NO  \n",
       "1                      No      Ch         Yes        >30  \n",
       "2                      No      No         Yes         NO  \n",
       "3                      No      Ch         Yes         NO  \n",
       "4                      No      Ch         Yes         NO  \n",
       "\n",
       "[5 rows x 50 columns]"
      ]
     },
     "execution_count": 7,
     "metadata": {},
     "output_type": "execute_result"
    }
   ],
   "source": [
    "df.head()"
   ]
  },
  {
   "cell_type": "code",
   "execution_count": 8,
   "metadata": {
    "ExecuteTime": {
     "end_time": "2019-12-15T02:09:22.574058Z",
     "start_time": "2019-12-15T02:09:22.510513Z"
    }
   },
   "outputs": [],
   "source": [
    "df.drop(['weight','payer_code', 'citoglipton','examide'], inplace=True, axis=1) #Dropping weight since too few rows have actual values\n",
    "# Payer Code unnecessary for classification task\n",
    "#Rejected citoglipton and examide - all \"no\""
   ]
  },
  {
   "cell_type": "markdown",
   "metadata": {},
   "source": [
    "Because the medical specialty of the service provider could have influence on whether the H1bAlc test was performed, missing values will be replace with 'Unknown'."
   ]
  },
  {
   "cell_type": "code",
   "execution_count": 9,
   "metadata": {
    "ExecuteTime": {
     "end_time": "2019-12-15T02:09:22.603441Z",
     "start_time": "2019-12-15T02:09:22.584591Z"
    }
   },
   "outputs": [],
   "source": [
    "df['medical_specialty'].replace(to_replace='?', value='Unknown', inplace=True)"
   ]
  },
  {
   "cell_type": "code",
   "execution_count": 10,
   "metadata": {
    "ExecuteTime": {
     "end_time": "2019-12-15T02:09:22.671250Z",
     "start_time": "2019-12-15T02:09:22.609481Z"
    },
    "scrolled": false
   },
   "outputs": [
    {
     "data": {
      "text/plain": [
       "Caucasian          0.747784\n",
       "AfricanAmerican    0.188766\n",
       "?                  0.022336\n",
       "Hispanic           0.020017\n",
       "Other              0.014799\n",
       "Asian              0.006299\n",
       "Name: race, dtype: float64"
      ]
     },
     "execution_count": 10,
     "metadata": {},
     "output_type": "execute_result"
    }
   ],
   "source": [
    "df.race.value_counts(normalize=True)"
   ]
  },
  {
   "cell_type": "markdown",
   "metadata": {},
   "source": [
    "The following code replaces missing values in the race column with a random choice aligned with the probabilities of all other race options."
   ]
  },
  {
   "cell_type": "code",
   "execution_count": 11,
   "metadata": {
    "ExecuteTime": {
     "end_time": "2019-12-15T02:09:22.924508Z",
     "start_time": "2019-12-15T02:09:22.685739Z"
    }
   },
   "outputs": [],
   "source": [
    "df['race'] = df['race'].apply(lambda x: np.random.choice(['Caucasian', 'AfricanAmerican','Hispanic', 'Other', 'Asian'], p=[0.76, 0.19, 0.02, 0.02, 0.01]) if x == '?' else x)"
   ]
  },
  {
   "cell_type": "code",
   "execution_count": 12,
   "metadata": {
    "ExecuteTime": {
     "end_time": "2019-12-15T02:09:22.983444Z",
     "start_time": "2019-12-15T02:09:22.932378Z"
    }
   },
   "outputs": [
    {
     "data": {
      "text/plain": [
       "Caucasian          0.764725\n",
       "AfricanAmerican    0.193080\n",
       "Hispanic           0.020508\n",
       "Other              0.015152\n",
       "Asian              0.006535\n",
       "Name: race, dtype: float64"
      ]
     },
     "execution_count": 12,
     "metadata": {},
     "output_type": "execute_result"
    }
   ],
   "source": [
    "df.race.value_counts(normalize=True) #Confirming appropriate distribution"
   ]
  },
  {
   "cell_type": "code",
   "execution_count": 13,
   "metadata": {
    "ExecuteTime": {
     "end_time": "2019-12-15T02:09:23.030876Z",
     "start_time": "2019-12-15T02:09:22.986613Z"
    }
   },
   "outputs": [
    {
     "data": {
      "text/plain": [
       "Female             54708\n",
       "Male               47055\n",
       "Unknown/Invalid        3\n",
       "Name: gender, dtype: int64"
      ]
     },
     "execution_count": 13,
     "metadata": {},
     "output_type": "execute_result"
    }
   ],
   "source": [
    "df.gender.value_counts()"
   ]
  },
  {
   "cell_type": "code",
   "execution_count": 14,
   "metadata": {
    "ExecuteTime": {
     "end_time": "2019-12-15T02:09:23.112498Z",
     "start_time": "2019-12-15T02:09:23.034463Z"
    }
   },
   "outputs": [],
   "source": [
    "df = df[df.gender != 'Unknown/Invalid'] #dropping the three unknown gender rows"
   ]
  },
  {
   "cell_type": "markdown",
   "metadata": {},
   "source": [
    "Due to my lack of medical knowledge, the following function will take in a column of ICD9 codes and replace them with the verbal diagnosis. This will help my understanding of the data. "
   ]
  },
  {
   "cell_type": "code",
   "execution_count": 15,
   "metadata": {
    "ExecuteTime": {
     "end_time": "2019-12-15T02:09:23.140416Z",
     "start_time": "2019-12-15T02:09:23.128843Z"
    }
   },
   "outputs": [],
   "source": [
    "def diagnose(x):\n",
    "    if (x >= 390) and (x <= 459) or (x == 785):\n",
    "        return 'circulatory'\n",
    "    \n",
    "    elif (x >= 460) and (x <= 519) or (x == 786):\n",
    "        return'respiratory'\n",
    "    \n",
    "    elif (x >= 520) and (x <= 579) or (x == 787):\n",
    "        return 'digestive'\n",
    "    \n",
    "    elif (x >= 250) and (x <= 251):\n",
    "        return 'diabetes'\n",
    "    \n",
    "    elif (x >= 800) and (x <= 999):\n",
    "        return 'injury_poisoning'\n",
    "    \n",
    "    elif (x >= 710) and (x <= 739): \n",
    "        return 'musculoskeletal'\n",
    "    \n",
    "    elif (x >= 580) and (x <= 629) or (x == 788): \n",
    "        return 'genitourinary'\n",
    "    \n",
    "    elif (x >= 140) and (x <= 239): \n",
    "         return'neoplasms'\n",
    "    \n",
    "    elif (x >= 240) and (x <= 279): \n",
    "         return'endocrine_nutrition_metabolic'\n",
    "    \n",
    "    elif (x >= 680) and (x <= 709) or (x == 782): \n",
    "         return'skin_disease'\n",
    "    \n",
    "    elif (x >= 1) and (x <= 139): \n",
    "         return'infection_parasites'\n",
    "    \n",
    "    elif (x >= 290) and (x <= 319): \n",
    "        return 'mental'\n",
    "    \n",
    "    elif (x >= 0) and (x <1) or (x == 786): \n",
    "        return 'external_injury'\n",
    "    \n",
    "    elif (x >= 280) and (x <= 289):\n",
    "        return 'blood'\n",
    "    \n",
    "    elif (x >= 320) and (x <= 359): \n",
    "        return 'nervous'\n",
    "    \n",
    "    elif (x >= 630) and (x <= 679):\n",
    "        return 'pregnancy_childbirth'\n",
    "    \n",
    "    elif (x >= 360) and (x <= 389): \n",
    "        return 'sensory'\n",
    "    \n",
    "    elif (x >= 740) and (x <= 759):\n",
    "        return 'congenital'\n",
    "    \n",
    "    elif (x >= 789) and (x <= 799) or (x == 780) or (x == 781) or (x == 784) or (x == 783):\n",
    "        return 'other'\n",
    "    else:\n",
    "        return x"
   ]
  },
  {
   "cell_type": "code",
   "execution_count": 16,
   "metadata": {
    "ExecuteTime": {
     "end_time": "2019-12-15T02:09:23.901923Z",
     "start_time": "2019-12-15T02:09:23.148291Z"
    }
   },
   "outputs": [],
   "source": [
    "for col in ['diag_1', 'diag_2', 'diag_3']: \n",
    "    df[col] = [x.replace('V', \"0.\") for x in df[col]]\n",
    "    df[col] = [x.replace('E', '0.') for x in df[col]]\n",
    "    df[col] = [x.replace('?', '0') for x in df[col]]\n",
    "    df[col] = df[col].astype(float)"
   ]
  },
  {
   "cell_type": "code",
   "execution_count": 17,
   "metadata": {
    "ExecuteTime": {
     "end_time": "2019-12-15T02:09:24.219246Z",
     "start_time": "2019-12-15T02:09:23.927726Z"
    }
   },
   "outputs": [],
   "source": [
    "df.diag_1 = df.diag_1.apply(diagnose)\n",
    "df.diag_2 = df.diag_2.apply(diagnose)\n",
    "df.diag_3 = df.diag_3.apply(diagnose)"
   ]
  },
  {
   "cell_type": "code",
   "execution_count": 18,
   "metadata": {
    "ExecuteTime": {
     "end_time": "2019-12-15T02:09:24.253868Z",
     "start_time": "2019-12-15T02:09:24.223726Z"
    },
    "scrolled": false
   },
   "outputs": [
    {
     "name": "stdout",
     "output_type": "stream",
     "text": [
      "diag_1 ['diabetes' 'endocrine_nutrition_metabolic' 'pregnancy_childbirth'\n",
      " 'infection_parasites' 'neoplasms' 'circulatory' 'respiratory'\n",
      " 'injury_poisoning' 'skin_disease' 'musculoskeletal' 'digestive'\n",
      " 'external_injury' 'genitourinary' 'mental' 'other' 'nervous' 'blood'\n",
      " 'sensory' 'congenital'] \n",
      "\n",
      "\n",
      "diag_2 ['external_injury' 'diabetes' 'neoplasms' 'circulatory' 'respiratory'\n",
      " 'blood' 'injury_poisoning' 'musculoskeletal' 'genitourinary'\n",
      " 'infection_parasites' 'endocrine_nutrition_metabolic' 'digestive'\n",
      " 'skin_disease' 'nervous' 'other' 'mental' 'pregnancy_childbirth'\n",
      " 'congenital' 'sensory'] \n",
      "\n",
      "\n",
      "diag_3 ['external_injury' 'endocrine_nutrition_metabolic' 'circulatory'\n",
      " 'diabetes' 'infection_parasites' 'respiratory' 'injury_poisoning'\n",
      " 'neoplasms' 'genitourinary' 'musculoskeletal' 'other' 'digestive'\n",
      " 'skin_disease' 'mental' 'congenital' 'nervous' 'sensory'\n",
      " 'pregnancy_childbirth' 'blood'] \n",
      "\n",
      "\n"
     ]
    }
   ],
   "source": [
    "for col in ['diag_1', 'diag_2', 'diag_3']:\n",
    "    print(col, df[col].unique(), '\\n\\n')"
   ]
  },
  {
   "cell_type": "markdown",
   "metadata": {},
   "source": [
    "Keeping in line with the research paper, for patients who have had multiple encounters, each encounter past the first has been removed as they cannot be deemed statistically independent. "
   ]
  },
  {
   "cell_type": "code",
   "execution_count": 19,
   "metadata": {
    "ExecuteTime": {
     "end_time": "2019-12-15T02:09:24.585083Z",
     "start_time": "2019-12-15T02:09:24.257739Z"
    }
   },
   "outputs": [],
   "source": [
    "df = df.drop_duplicates(subset=['patient_nbr'], keep='first')"
   ]
  },
  {
   "cell_type": "markdown",
   "metadata": {},
   "source": [
    "# Exploratory Data Analysis"
   ]
  },
  {
   "cell_type": "code",
   "execution_count": 20,
   "metadata": {
    "ExecuteTime": {
     "end_time": "2019-12-15T02:09:24.635533Z",
     "start_time": "2019-12-15T02:09:24.589137Z"
    }
   },
   "outputs": [],
   "source": [
    "target = df.readmitted\n",
    "features = df.drop('readmitted', axis=1)"
   ]
  },
  {
   "cell_type": "code",
   "execution_count": 21,
   "metadata": {
    "ExecuteTime": {
     "end_time": "2019-12-15T02:09:24.696767Z",
     "start_time": "2019-12-15T02:09:24.639702Z"
    }
   },
   "outputs": [],
   "source": [
    "#df.profile_report()"
   ]
  },
  {
   "cell_type": "markdown",
   "metadata": {},
   "source": [
    "Since the problem we're trying to solve is classifying and predicting patients that received the H1BA1c hyperglycemia test and the likelihood that they will be readmitted for complications, we'll take a look at readmittance rates for those who have received and have not received the test. "
   ]
  },
  {
   "cell_type": "code",
   "execution_count": 22,
   "metadata": {
    "ExecuteTime": {
     "end_time": "2019-12-15T02:09:24.721074Z",
     "start_time": "2019-12-15T02:09:24.700281Z"
    },
    "scrolled": true
   },
   "outputs": [
    {
     "data": {
      "text/plain": [
       "Index(['encounter_id', 'patient_nbr', 'race', 'gender', 'age',\n",
       "       'admission_type_id', 'discharge_disposition_id', 'admission_source_id',\n",
       "       'time_in_hospital', 'medical_specialty', 'num_lab_procedures',\n",
       "       'num_procedures', 'num_medications', 'number_outpatient',\n",
       "       'number_emergency', 'number_inpatient', 'diag_1', 'diag_2', 'diag_3',\n",
       "       'number_diagnoses', 'max_glu_serum', 'A1Cresult', 'metformin',\n",
       "       'repaglinide', 'nateglinide', 'chlorpropamide', 'glimepiride',\n",
       "       'acetohexamide', 'glipizide', 'glyburide', 'tolbutamide',\n",
       "       'pioglitazone', 'rosiglitazone', 'acarbose', 'miglitol', 'troglitazone',\n",
       "       'tolazamide', 'insulin', 'glyburide-metformin', 'glipizide-metformin',\n",
       "       'glimepiride-pioglitazone', 'metformin-rosiglitazone',\n",
       "       'metformin-pioglitazone', 'change', 'diabetesMed', 'readmitted'],\n",
       "      dtype='object')"
      ]
     },
     "execution_count": 22,
     "metadata": {},
     "output_type": "execute_result"
    }
   ],
   "source": [
    "df.columns"
   ]
  },
  {
   "cell_type": "code",
   "execution_count": 23,
   "metadata": {
    "ExecuteTime": {
     "end_time": "2019-12-15T02:09:24.782722Z",
     "start_time": "2019-12-15T02:09:24.729405Z"
    }
   },
   "outputs": [],
   "source": [
    "tested = df.loc[df.A1Cresult != 'None']\n",
    "not_tested = df.loc[df.A1Cresult == 'None']"
   ]
  },
  {
   "cell_type": "code",
   "execution_count": 24,
   "metadata": {
    "ExecuteTime": {
     "end_time": "2019-12-15T02:09:25.199296Z",
     "start_time": "2019-12-15T02:09:24.797853Z"
    }
   },
   "outputs": [
    {
     "data": {
      "image/png": "[encoded data removed]",
      "text/plain": [
       "<Figure size 1080x360 with 2 Axes>"
      ]
     },
     "metadata": {
      "needs_background": "light"
     },
     "output_type": "display_data"
    }
   ],
   "source": [
    "fig, (ax1, ax2) = plt.subplots(nrows=1, ncols=2, figsize=(15, 5))\n",
    "tested.readmitted.value_counts(normalize=True).plot(kind='bar', ax=ax1)\n",
    "not_tested.readmitted.value_counts(normalize=True).plot(kind='bar', ax=ax2)\n",
    "ax1.set_ylabel('Relative Frequency')\n",
    "plt.subplots_adjust(wspace=.25)\n",
    "ax1.set_title(\"Tested\")\n",
    "ax2.set_title(\"NOT Tested\")\n",
    "\n",
    "plt.show()"
   ]
  },
  {
   "cell_type": "markdown",
   "metadata": {},
   "source": [
    "As you can see in the plots above, whether or not patients were tested for hyperglycemia, 40% of patients were readmitted. You can also observe the class disparity which will need to be remedied before modeling can begin."
   ]
  },
  {
   "cell_type": "code",
   "execution_count": 25,
   "metadata": {
    "ExecuteTime": {
     "end_time": "2019-12-15T02:09:25.525604Z",
     "start_time": "2019-12-15T02:09:25.211756Z"
    },
    "scrolled": false
   },
   "outputs": [
    {
     "name": "stdout",
     "output_type": "stream",
     "text": [
      "Female    38025\n",
      "Male      33490\n",
      "Name: gender, dtype: int64\n"
     ]
    },
    {
     "data": {
      "image/png": "[encoded data removed]",
      "text/plain": [
       "<Figure size 432x288 with 1 Axes>"
      ]
     },
     "metadata": {
      "needs_background": "light"
     },
     "output_type": "display_data"
    }
   ],
   "source": [
    "df.groupby(df.gender).readmitted.value_counts(normalize=True).plot(kind='bar', stacked=True)\n",
    "plt.title('Rate of Readmittance by Gender')\n",
    "plt.xlabel('Readmittance Classification')\n",
    "plt.ylabel('Relative Frequency');\n",
    "print(df.gender.value_counts())"
   ]
  },
  {
   "cell_type": "markdown",
   "metadata": {},
   "source": [
    "More African American and Caucasian women are readmitted than men, however  , and both men and women are more often not readmitted, and lease likely to be readmitted within the thirty days following discharge. "
   ]
  },
  {
   "cell_type": "code",
   "execution_count": 26,
   "metadata": {
    "ExecuteTime": {
     "end_time": "2019-12-15T02:09:25.971579Z",
     "start_time": "2019-12-15T02:09:25.531552Z"
    },
    "scrolled": true
   },
   "outputs": [
    {
     "data": {
      "image/png": "[encoded data removed]",
      "text/plain": [
       "<Figure size 432x432 with 1 Axes>"
      ]
     },
     "metadata": {
      "needs_background": "light"
     },
     "output_type": "display_data"
    }
   ],
   "source": [
    "fig = plt.figure(figsize=(6,6))\n",
    "\n",
    "df.age.value_counts().plot(kind='barh', color='blue', alpha=.5)\n",
    "plt.title('Distribution of Patients per Age Group')\n",
    "plt.ylabel('Age Group')\n",
    "plt.xticks(rotation='vertical', size='large')\n",
    "plt.yticks(size='large')\n",
    "plt.xlabel('Number of Occurrences');"
   ]
  },
  {
   "cell_type": "code",
   "execution_count": 27,
   "metadata": {
    "ExecuteTime": {
     "end_time": "2019-12-15T02:09:26.626487Z",
     "start_time": "2019-12-15T02:09:25.974600Z"
    },
    "scrolled": false
   },
   "outputs": [
    {
     "data": {
      "image/png": "[encoded data removed]",
      "text/plain": [
       "<Figure size 1080x576 with 1 Axes>"
      ]
     },
     "metadata": {
      "needs_background": "light"
     },
     "output_type": "display_data"
    }
   ],
   "source": [
    "fig = plt.figure(figsize=(15,8))\n",
    "age_df = df.groupby(df.age)\n",
    "\n",
    "age_df.readmitted.value_counts(normalize=True).plot(kind='bar')\n",
    "plt.title('Distribution of Readmittance of Patients per Age Group')\n",
    "plt.xlabel('Readmittance per Age Group')\n",
    "plt.xticks(rotation='vertical', size='x-large')\n",
    "plt.ylabel('Number of Occurrences');"
   ]
  },
  {
   "cell_type": "markdown",
   "metadata": {},
   "source": [
    "If you look closely, there is a general downward trend as patients increase in age for those who are not readmitted, while the rate of readmittance increases with age. There is another increase for patients who are 90-100 years old, though that may be due to the patient expiring or moving to hospice care.  "
   ]
  },
  {
   "cell_type": "code",
   "execution_count": 28,
   "metadata": {
    "ExecuteTime": {
     "end_time": "2019-12-15T02:09:26.655996Z",
     "start_time": "2019-12-15T02:09:26.633384Z"
    },
    "scrolled": true
   },
   "outputs": [
    {
     "data": {
      "text/plain": [
       "NO     63.397129\n",
       ">30    28.803828\n",
       "<30     7.799043\n",
       "Name: readmitted, dtype: float64"
      ]
     },
     "execution_count": 28,
     "metadata": {},
     "output_type": "execute_result"
    }
   ],
   "source": [
    "diabetes2 = tested.loc[tested['diag_2']=='diabetes'] \n",
    "diabetes2.loc[diabetes2['A1Cresult'] != 'None'].readmitted.value_counts(normalize=True)*100"
   ]
  },
  {
   "cell_type": "code",
   "execution_count": 29,
   "metadata": {
    "ExecuteTime": {
     "end_time": "2019-12-15T02:09:26.696589Z",
     "start_time": "2019-12-15T02:09:26.665710Z"
    }
   },
   "outputs": [
    {
     "data": {
      "text/plain": [
       "diag_1                         A1Cresult\n",
       "blood                          Norm         52.857143\n",
       "                               >8           31.428571\n",
       "                               >7           15.714286\n",
       "circulatory                    >8           46.636012\n",
       "                               Norm         29.235237\n",
       "                               >7           24.128751\n",
       "congenital                     >8           57.142857\n",
       "                               >7           28.571429\n",
       "                               Norm         14.285714\n",
       "diabetes                       >8           73.493976\n",
       "                               Norm         16.530120\n",
       "                               >7            9.975904\n",
       "digestive                      >8           42.216981\n",
       "                               Norm         32.900943\n",
       "                               >7           24.882075\n",
       "endocrine_nutrition_metabolic  >8           43.333333\n",
       "                               Norm         32.500000\n",
       "                               >7           24.166667\n",
       "external_injury                Norm         46.875000\n",
       "                               >8           37.500000\n",
       "                               >7           15.625000\n",
       "genitourinary                  >8           45.740741\n",
       "                               Norm         27.777778\n",
       "                               >7           26.481481\n",
       "infection_parasites            >8           43.788820\n",
       "                               Norm         29.192547\n",
       "                               >7           27.018634\n",
       "injury_poisoning               Norm         40.068493\n",
       "                               >8           36.986301\n",
       "                               >7           22.945205\n",
       "mental                         >8           46.511628\n",
       "                               Norm         32.299742\n",
       "                               >7           21.188630\n",
       "musculoskeletal                >8           36.069652\n",
       "                               Norm         34.079602\n",
       "                               >7           29.850746\n",
       "neoplasms                      >8           39.453125\n",
       "                               Norm         37.109375\n",
       "                               >7           23.437500\n",
       "nervous                        Norm         43.750000\n",
       "                               >8           29.861111\n",
       "                               >7           26.388889\n",
       "other                          >8           41.604010\n",
       "                               Norm         33.333333\n",
       "                               >7           25.062657\n",
       "pregnancy_childbirth           Norm         43.037975\n",
       "                               >8           39.240506\n",
       "                               >7           17.721519\n",
       "respiratory                    >8           42.161017\n",
       "                               Norm         30.720339\n",
       "                               >7           27.118644\n",
       "sensory                        >8           40.000000\n",
       "                               Norm         37.500000\n",
       "                               >7           22.500000\n",
       "skin_disease                   >8           50.687623\n",
       "                               Norm         30.451866\n",
       "                               >7           18.860511\n",
       "Name: A1Cresult, dtype: float64"
      ]
     },
     "execution_count": 29,
     "metadata": {},
     "output_type": "execute_result"
    }
   ],
   "source": [
    "tested.groupby('diag_1').A1Cresult.value_counts(normalize=True)*100"
   ]
  },
  {
   "cell_type": "markdown",
   "metadata": {},
   "source": [
    "# Machine Learning Modeling"
   ]
  },
  {
   "cell_type": "code",
   "execution_count": 30,
   "metadata": {
    "ExecuteTime": {
     "end_time": "2019-12-15T02:09:26.732938Z",
     "start_time": "2019-12-15T02:09:26.708234Z"
    }
   },
   "outputs": [
    {
     "data": {
      "text/plain": [
       "NO     0.601021\n",
       ">30    0.310984\n",
       "<30    0.087996\n",
       "Name: readmitted, dtype: float64"
      ]
     },
     "execution_count": 30,
     "metadata": {},
     "output_type": "execute_result"
    }
   ],
   "source": [
    "df.readmitted.value_counts(normalize=True)"
   ]
  },
  {
   "cell_type": "code",
   "execution_count": 31,
   "metadata": {
    "ExecuteTime": {
     "end_time": "2019-12-15T02:09:26.781273Z",
     "start_time": "2019-12-15T02:09:26.736170Z"
    }
   },
   "outputs": [],
   "source": [
    "features.drop(['encounter_id','patient_nbr'], inplace=True, axis=1) #eliminating irrelevant ordinal data\n",
    "features.columns = features.columns.str.replace(\"[\", \"_\") "
   ]
  },
  {
   "cell_type": "code",
   "execution_count": 32,
   "metadata": {
    "ExecuteTime": {
     "end_time": "2019-12-15T02:09:27.366674Z",
     "start_time": "2019-12-15T02:09:26.785376Z"
    },
    "scrolled": true
   },
   "outputs": [
    {
     "data": {
      "text/plain": [
       "566"
      ]
     },
     "execution_count": 32,
     "metadata": {},
     "output_type": "execute_result"
    }
   ],
   "source": [
    "features = features.astype('category', inplace=True)\n",
    "features = pd.get_dummies(features)\n",
    "len(features.columns)"
   ]
  },
  {
   "cell_type": "markdown",
   "metadata": {},
   "source": [
    "## Resampling"
   ]
  },
  {
   "cell_type": "markdown",
   "metadata": {
    "ExecuteTime": {
     "end_time": "2019-12-10T00:28:39.173880Z",
     "start_time": "2019-12-10T00:28:39.157345Z"
    }
   },
   "source": [
    "In order for our models to work properly, we'll need to address the class imbalance of our target variable. I'll try three different resampling methods after first separating into the training and testing sets, setting a baseline model, and identifying the performance metric."
   ]
  },
  {
   "cell_type": "code",
   "execution_count": 33,
   "metadata": {
    "ExecuteTime": {
     "end_time": "2019-12-15T02:09:27.615549Z",
     "start_time": "2019-12-15T02:09:27.370444Z"
    }
   },
   "outputs": [],
   "source": [
    "x_train, x_test, y_train, y_test = train_test_split(features, target, test_size=.2)"
   ]
  },
  {
   "cell_type": "code",
   "execution_count": 34,
   "metadata": {
    "ExecuteTime": {
     "end_time": "2019-12-15T02:09:44.732882Z",
     "start_time": "2019-12-15T02:09:27.618388Z"
    },
    "scrolled": true
   },
   "outputs": [
    {
     "name": "stdout",
     "output_type": "stream",
     "text": [
      "Accuracy Score:  0.6151856253932741 \n",
      "\n",
      "\n",
      "Averaged Recall Score:  0.6151856253932741 \n",
      "\n",
      "\n",
      "              precision    recall  f1-score   support\n",
      "\n",
      "         <30       0.38      0.01      0.02      1241\n",
      "         >30       0.49      0.19      0.28      4479\n",
      "          NO       0.63      0.92      0.75      8583\n",
      "\n",
      "    accuracy                           0.62     14303\n",
      "   macro avg       0.50      0.38      0.35     14303\n",
      "weighted avg       0.57      0.62      0.54     14303\n",
      "\n",
      "Distribution of Classifications (%)\n"
     ]
    },
    {
     "data": {
      "text/plain": [
       "NO     87.331329\n",
       ">30    12.389009\n",
       "<30     0.279662\n",
       "Name: 0, dtype: float64"
      ]
     },
     "execution_count": 34,
     "metadata": {},
     "output_type": "execute_result"
    }
   ],
   "source": [
    "log = LogisticRegression().fit(x_train, y_train)\n",
    " \n",
    "# Predict on training set\n",
    "preds = log.predict(x_test)\n",
    "\n",
    "# Checking accuracy\n",
    "print('Accuracy Score: ', accuracy_score(y_test, preds),'\\n\\n')\n",
    "print('Averaged Recall Score: ', recall_score(y_test, preds, average='weighted'), '\\n\\n')\n",
    "    \n",
    "log_report = classification_report(y_test, preds)\n",
    "print(classification_report(y_test, preds))\n",
    "# Checking unique values\n",
    "predictions = pd.DataFrame(preds)\n",
    "print(f'Distribution of Classifications (%)')\n",
    "predictions[0].value_counts(normalize=True) *100\n",
    "  "
   ]
  },
  {
   "cell_type": "markdown",
   "metadata": {},
   "source": [
    "Not the best scores. Because of the class imbalance, the model is favoring 'NO' but our goal is to prevent patients from being readmitted. \n",
    "\n",
    "Our goal for the model will be to reduce false negatives by optimizing for recall. Let's compare Random Forests classification method against logistic regression."
   ]
  },
  {
   "cell_type": "code",
   "execution_count": 35,
   "metadata": {
    "ExecuteTime": {
     "end_time": "2019-12-15T02:09:50.665426Z",
     "start_time": "2019-12-15T02:09:44.738648Z"
    },
    "scrolled": true
   },
   "outputs": [
    {
     "name": "stdout",
     "output_type": "stream",
     "text": [
      "Accuracy Score:  0.5758931692651891 \n",
      "\n",
      "\n",
      "Averaged Recall Score:  0.5758931692651891 \n",
      "\n",
      "\n",
      "              precision    recall  f1-score   support\n",
      "\n",
      "         <30       0.18      0.02      0.04      1241\n",
      "         >30       0.41      0.31      0.35      4479\n",
      "          NO       0.64      0.79      0.71      8583\n",
      "\n",
      "    accuracy                           0.58     14303\n",
      "   macro avg       0.41      0.38      0.37     14303\n",
      "weighted avg       0.52      0.58      0.54     14303\n",
      "\n",
      "Distribution of Classifications (%)\n"
     ]
    },
    {
     "data": {
      "text/plain": [
       "NO     74.816472\n",
       ">30    24.148780\n",
       "<30     1.034748\n",
       "Name: 0, dtype: float64"
      ]
     },
     "execution_count": 35,
     "metadata": {},
     "output_type": "execute_result"
    }
   ],
   "source": [
    "rf = RandomForestClassifier().fit(x_train, y_train)\n",
    " \n",
    "# Predict on training set\n",
    "preds = rf.predict(x_test)\n",
    "\n",
    "# Checking accuracy\n",
    "print('Accuracy Score: ', accuracy_score(y_test, preds),'\\n\\n')\n",
    "print('Averaged Recall Score: ', recall_score(y_test, preds, average='weighted'), '\\n\\n')\n",
    "    \n",
    "print(classification_report(y_test, preds))\n",
    "# Checking unique values\n",
    "predictions = pd.DataFrame(preds)\n",
    "print(f'Distribution of Classifications (%)')\n",
    "predictions[0].value_counts(normalize=True) *100"
   ]
  },
  {
   "cell_type": "markdown",
   "metadata": {},
   "source": [
    "The distribution of classes improved, but recall and f1 scores decreased. We'll move forward with our resampling methods and compare the results of the logistical regression model. "
   ]
  },
  {
   "cell_type": "markdown",
   "metadata": {},
   "source": [
    "### Oversampling the Minority"
   ]
  },
  {
   "cell_type": "code",
   "execution_count": 36,
   "metadata": {
    "ExecuteTime": {
     "end_time": "2019-12-15T02:09:51.029741Z",
     "start_time": "2019-12-15T02:09:50.668546Z"
    }
   },
   "outputs": [
    {
     "data": {
      "text/plain": [
       "<30    0.333333\n",
       ">30    0.333333\n",
       "NO     0.333333\n",
       "Name: readmitted, dtype: float64"
      ]
     },
     "execution_count": 36,
     "metadata": {},
     "output_type": "execute_result"
    }
   ],
   "source": [
    "# Returning to one dataframe\n",
    "train = pd.concat([x_train, y_train], axis=1)\n",
    "\n",
    "# Separating classes\n",
    "not_readmitted = train[train.readmitted == 'NO']\n",
    "less_than = train[train.readmitted == '<30']\n",
    "more_than = train[train.readmitted == '>30']\n",
    "\n",
    "# Resampling minority classes\n",
    "less_oversample = resample(less_than, \n",
    "                              replace=True, \n",
    "                              n_samples=len(not_readmitted),\n",
    "                              random_state=42)\n",
    "more_oversample =resample(more_than, \n",
    "                              replace=True, \n",
    "                              n_samples=len(not_readmitted),\n",
    "                              random_state=42)\n",
    "\n",
    "# Returning to new training set\n",
    "oversample_train = pd.concat([not_readmitted, less_oversample, more_oversample])\n",
    "\n",
    "oversample_train.readmitted.value_counts(normalize=True)"
   ]
  },
  {
   "cell_type": "markdown",
   "metadata": {},
   "source": [
    "Now that we've upsampled our minority classes and each class is equal in size, we can refit the base model on the balanced data. "
   ]
  },
  {
   "cell_type": "code",
   "execution_count": 37,
   "metadata": {
    "ExecuteTime": {
     "end_time": "2019-12-15T02:10:15.204749Z",
     "start_time": "2019-12-15T02:09:51.033258Z"
    }
   },
   "outputs": [
    {
     "name": "stdout",
     "output_type": "stream",
     "text": [
      "Accuracy Score:  0.47829126756624485 \n",
      "\n",
      "\n",
      "Averaged Recall Score:  0.47829126756624485 \n",
      "\n",
      "\n",
      "              precision    recall  f1-score   support\n",
      "\n",
      "         <30       0.14      0.41      0.21      1241\n",
      "         >30       0.41      0.42      0.42      4479\n",
      "          NO       0.73      0.52      0.60      8583\n",
      "\n",
      "    accuracy                           0.48     14303\n",
      "   macro avg       0.43      0.45      0.41     14303\n",
      "weighted avg       0.58      0.48      0.51     14303\n",
      "\n",
      "Distribution of Classifications (%)\n"
     ]
    },
    {
     "data": {
      "text/plain": [
       "NO     42.662379\n",
       ">30    32.084178\n",
       "<30    25.253443\n",
       "Name: 0, dtype: float64"
      ]
     },
     "execution_count": 37,
     "metadata": {},
     "output_type": "execute_result"
    }
   ],
   "source": [
    "oversample_x_train = oversample_train.drop('readmitted', axis=1)\n",
    "oversample_y_train = oversample_train.readmitted\n",
    "\n",
    "oversample_log = LogisticRegression().fit(oversample_x_train, oversample_y_train)\n",
    " \n",
    "# Predict on training set\n",
    "oversample_preds = oversample_log.predict(x_test)\n",
    "\n",
    "# Checking accuracy\n",
    "print('Accuracy Score: ', accuracy_score(y_test, oversample_preds),'\\n\\n')\n",
    "print('Averaged Recall Score: ', recall_score(y_test, oversample_preds, average='weighted'), '\\n\\n')\n",
    "    \n",
    "print(classification_report(y_test, oversample_preds))\n",
    "# Checking unique values\n",
    "predictions = pd.DataFrame(oversample_preds)\n",
    "print(f'Distribution of Classifications (%)')\n",
    "predictions[0].value_counts(normalize=True) *100"
   ]
  },
  {
   "cell_type": "markdown",
   "metadata": {},
   "source": [
    "Accuracy decreased, but the f1 scores of the readmitted classes did improve slightly. However, our goal is to reduce the number of false negatives, which can be reached by a higher recall. Next, we'll look at downsampling. "
   ]
  },
  {
   "cell_type": "markdown",
   "metadata": {},
   "source": [
    "### Undersampling the Majority"
   ]
  },
  {
   "cell_type": "code",
   "execution_count": 38,
   "metadata": {
    "ExecuteTime": {
     "end_time": "2019-12-15T02:10:15.395103Z",
     "start_time": "2019-12-15T02:10:15.208401Z"
    }
   },
   "outputs": [
    {
     "data": {
      "text/plain": [
       "NO     0.500000\n",
       ">30    0.389274\n",
       "<30    0.110726\n",
       "Name: readmitted, dtype: float64"
      ]
     },
     "execution_count": 38,
     "metadata": {},
     "output_type": "execute_result"
    }
   ],
   "source": [
    "readmitted = train[train.readmitted != \"NO\"]\n",
    "undersample = resample(not_readmitted, \n",
    "                              replace=True, \n",
    "                              n_samples=len(readmitted),\n",
    "                              random_state=42)\n",
    "\n",
    "\n",
    "# Returning to new training set\n",
    "undersample_train = pd.concat([readmitted, undersample])\n",
    "\n",
    "undersample_train.readmitted.value_counts(normalize=True)"
   ]
  },
  {
   "cell_type": "code",
   "execution_count": 39,
   "metadata": {
    "ExecuteTime": {
     "end_time": "2019-12-15T02:10:24.091152Z",
     "start_time": "2019-12-15T02:10:15.401593Z"
    },
    "scrolled": true
   },
   "outputs": [
    {
     "name": "stdout",
     "output_type": "stream",
     "text": [
      "Accuracy Score:  0.5949800741103265 \n",
      "\n",
      "\n",
      "Averaged Recall Score:  0.5949800741103265 \n",
      "\n",
      "\n",
      "              precision    recall  f1-score   support\n",
      "\n",
      "         <30       0.33      0.03      0.06      1241\n",
      "         >30       0.44      0.44      0.44      4479\n",
      "          NO       0.67      0.76      0.71      8583\n",
      "\n",
      "    accuracy                           0.59     14303\n",
      "   macro avg       0.48      0.41      0.40     14303\n",
      "weighted avg       0.57      0.59      0.57     14303\n",
      "\n",
      "Distribution of Classifications (%)\n"
     ]
    },
    {
     "data": {
      "text/plain": [
       "NO     67.762008\n",
       ">30    31.440956\n",
       "<30     0.797036\n",
       "Name: 0, dtype: float64"
      ]
     },
     "execution_count": 39,
     "metadata": {},
     "output_type": "execute_result"
    }
   ],
   "source": [
    "undersample_x_train = undersample_train.drop('readmitted', axis=1)\n",
    "undersample_y_train = undersample_train.readmitted\n",
    "\n",
    "undersample_log = LogisticRegression().fit(undersample_x_train, undersample_y_train)\n",
    " \n",
    "# Predict on training set\n",
    "undersample_preds = undersample_log.predict(x_test)\n",
    "\n",
    "# Checking accuracy\n",
    "print('Accuracy Score: ', accuracy_score(y_test, undersample_preds),'\\n\\n')\n",
    "print('Averaged Recall Score: ', recall_score(y_test, undersample_preds, average='weighted'), '\\n\\n')\n",
    "    \n",
    "print(classification_report(y_test, undersample_preds))\n",
    "# Checking unique values\n",
    "predictions = pd.DataFrame(undersample_preds)\n",
    "print(f'Distribution of Classifications (%)')\n",
    "predictions[0].value_counts(normalize=True) *100"
   ]
  },
  {
   "cell_type": "code",
   "execution_count": 40,
   "metadata": {
    "ExecuteTime": {
     "end_time": "2019-12-15T02:10:24.115275Z",
     "start_time": "2019-12-15T02:10:24.100629Z"
    }
   },
   "outputs": [
    {
     "name": "stdout",
     "output_type": "stream",
     "text": [
      "              precision    recall  f1-score   support\n",
      "\n",
      "         <30       0.38      0.01      0.02      1241\n",
      "         >30       0.49      0.19      0.28      4479\n",
      "          NO       0.63      0.92      0.75      8583\n",
      "\n",
      "    accuracy                           0.62     14303\n",
      "   macro avg       0.50      0.38      0.35     14303\n",
      "weighted avg       0.57      0.62      0.54     14303\n",
      "\n"
     ]
    }
   ],
   "source": [
    "print(log_report)"
   ]
  },
  {
   "cell_type": "markdown",
   "metadata": {},
   "source": [
    "This model performed slightly better. While recall dropped .02 points for the weighted average, the f1 score did increase and the distribution of the classifications is more similar than oversampling. We'll try one more technique before moving on. "
   ]
  },
  {
   "cell_type": "markdown",
   "metadata": {},
   "source": [
    "### SMOTE (Synthetic Minority Oversampling Technique)"
   ]
  },
  {
   "cell_type": "markdown",
   "metadata": {},
   "source": [
    "SMOTE is a nearest-neighbors algorithm that synthesizes data to supplement the real minority data for an even more robust training dataset."
   ]
  },
  {
   "cell_type": "code",
   "execution_count": 41,
   "metadata": {
    "ExecuteTime": {
     "end_time": "2019-12-15T02:10:24.126748Z",
     "start_time": "2019-12-15T02:10:24.120892Z"
    }
   },
   "outputs": [],
   "source": [
    "not_admitted = sum(target=='NO')\n",
    "less = not_admitted - sum(target == '<30') \n",
    "greater = not_admitted - sum(target == '>30')\n",
    "\n",
    "sampling_dist = {'<30': not_admitted, '>30':not_admitted}\n",
    "sm = SMOTE(random_state=42, sampling_strategy=sampling_dist)\n",
    "smote_x_train, smote_y_train = sm.fit_resample(x_train, y_train)"
   ]
  },
  {
   "cell_type": "code",
   "execution_count": 42,
   "metadata": {
    "ExecuteTime": {
     "end_time": "2019-12-15T02:10:24.139337Z",
     "start_time": "2019-12-15T02:10:24.133419Z"
    },
    "scrolled": true
   },
   "outputs": [],
   "source": [
    "smote_log = LogisticRegression().fit(smote_x_train, smote_y_train)\n",
    " \n",
    "# Predict on training set\n",
    "smote_preds = smote_log.predict(x_test)\n",
    "\n",
    "# Checking accuracy\n",
    "print('Accuracy Score: ', accuracy_score(y_test, smote_preds),'\\n\\n')\n",
    "print('Averaged Recall Score: ', recall_score(y_test, smote_preds, average='weighted'), '\\n\\n')\n",
    "    \n",
    "print(classification_report(y_test, smote_preds))\n",
    "# Checking unique values\n",
    "predictions = pd.DataFrame(smote_preds)\n",
    "print(f'Distribution of Classifications (%)')\n",
    "predictions[0].value_counts(normalize=True) *100"
   ]
  },
  {
   "cell_type": "markdown",
   "metadata": {
    "ExecuteTime": {
     "start_time": "2019-12-14T22:53:51.491Z"
    }
   },
   "source": [
    "At this point, we'll move forward with the undersampled majority as our training set. "
   ]
  },
  {
   "cell_type": "markdown",
   "metadata": {},
   "source": [
    "## Pipelines"
   ]
  },
  {
   "cell_type": "code",
   "execution_count": 92,
   "metadata": {
    "ExecuteTime": {
     "end_time": "2019-12-15T17:37:17.524313Z",
     "start_time": "2019-12-15T17:37:09.059384Z"
    },
    "scrolled": true
   },
   "outputs": [
    {
     "data": {
      "image/png": "[encoded data removed]",
      "text/plain": [
       "<Figure size 432x288 with 1 Axes>"
      ]
     },
     "metadata": {
      "needs_background": "light"
     },
     "output_type": "display_data"
    }
   ],
   "source": [
    "pca = PCA(n_components=300, whiten=True)\n",
    "X_pca_train = pca.fit_transform(undersample_x_train)\n",
    "\n",
    "plt.plot(range(1,301), pca.explained_variance_ratio_.cumsum())\n",
    "plt.title('Total Variance Explained by Varying Number of Principle Components');"
   ]
  },
  {
   "cell_type": "code",
   "execution_count": null,
   "metadata": {
    "ExecuteTime": {
     "start_time": "2019-12-15T17:46:59.727Z"
    }
   },
   "outputs": [],
   "source": [
    "X_pca_test = pca.transform(x_test)\n",
    "clf = XGBClassifier()\n",
    "%timeit clf.fit(X_pca_train, undersample_y_train)"
   ]
  },
  {
   "cell_type": "code",
   "execution_count": 43,
   "metadata": {
    "ExecuteTime": {
     "end_time": "2019-12-15T02:11:03.378207Z",
     "start_time": "2019-12-15T02:10:24.147427Z"
    }
   },
   "outputs": [
    {
     "name": "stdout",
     "output_type": "stream",
     "text": [
      "Test accuracy: 0.432\n"
     ]
    }
   ],
   "source": [
    "tree_pipe = Pipeline([('pca', PCA(n_components=200)),\n",
    "                ('tree', tree.DecisionTreeClassifier(random_state=42))])\n",
    "\n",
    "tree_pipe.fit(undersample_x_train, undersample_y_train)\n",
    "\n",
    "print('Test accuracy: %.3f' % tree_pipe.score(x_test, y_test))\n",
    "#print('\\nModel hyperparameters:\\n', pipe.steps[1].get_params())"
   ]
  },
  {
   "cell_type": "code",
   "execution_count": 44,
   "metadata": {
    "ExecuteTime": {
     "end_time": "2019-12-15T02:12:38.089932Z",
     "start_time": "2019-12-15T02:11:03.382334Z"
    }
   },
   "outputs": [
    {
     "name": "stdout",
     "output_type": "stream",
     "text": [
      "Test accuracy: 0.582\n"
     ]
    }
   ],
   "source": [
    "ada_pipe = Pipeline([('pca', PCA(n_components=200)),\n",
    "               \n",
    "                ('ada', AdaBoostClassifier(random_state=42))])\n",
    "\n",
    "ada_pipe.fit(undersample_x_train, undersample_y_train)\n",
    "\n",
    "print('Test accuracy: %.3f' % ada_pipe.score(x_test, y_test))"
   ]
  },
  {
   "cell_type": "code",
   "execution_count": 45,
   "metadata": {
    "ExecuteTime": {
     "end_time": "2019-12-15T02:25:49.518889Z",
     "start_time": "2019-12-15T02:12:38.094463Z"
    }
   },
   "outputs": [
    {
     "name": "stdout",
     "output_type": "stream",
     "text": [
      "Test accuracy: 0.603\n"
     ]
    }
   ],
   "source": [
    "gb_pipe = Pipeline([('pca', PCA(n_components=200)),\n",
    "               \n",
    "                ('gb', GradientBoostingClassifier(random_state=42))])\n",
    "\n",
    "gb_pipe.fit(undersample_x_train, undersample_y_train)\n",
    "\n",
    "print('Test accuracy: %.3f' % gb_pipe.score(x_test, y_test))"
   ]
  },
  {
   "cell_type": "code",
   "execution_count": 47,
   "metadata": {
    "ExecuteTime": {
     "end_time": "2019-12-15T02:31:43.711323Z",
     "start_time": "2019-12-15T02:25:49.652675Z"
    }
   },
   "outputs": [
    {
     "name": "stdout",
     "output_type": "stream",
     "text": [
      "Test accuracy: 0.603\n"
     ]
    }
   ],
   "source": [
    "xgb_pipe = Pipeline([('pca', PCA(n_components=250)),\n",
    "               \n",
    "                ('xgb', XGBClassifier(random_state=42))])\n",
    "\n",
    "#xgb_pipe.fit(undersample_x_train, undersample_y_train)\n",
    "\n",
    "print('Train accuracy: %.3f' % xgb_pipe.score(undersample_x_train, undersample_y_train))\n",
    "print('Test accuracy: %.3f' % xgb_pipe.score(x_test, y_test))"
   ]
  },
  {
   "cell_type": "code",
   "execution_count": 49,
   "metadata": {
    "ExecuteTime": {
     "end_time": "2019-12-15T02:50:51.372349Z",
     "start_time": "2019-12-15T02:50:51.368110Z"
    }
   },
   "outputs": [],
   "source": [
    "from sklearn.model_selection import GridSearchCV"
   ]
  },
  {
   "cell_type": "code",
   "execution_count": 71,
   "metadata": {
    "ExecuteTime": {
     "end_time": "2019-12-15T03:06:42.178634Z",
     "start_time": "2019-12-15T03:06:42.170701Z"
    }
   },
   "outputs": [],
   "source": [
    "undersample_x_train.columns = undersample_x_train.columns.str.replace(\"[\", \"_\")\n",
    "x_test.columns = x_test.columns.str.replace(\"[\", \"_\")"
   ]
  },
  {
   "cell_type": "code",
   "execution_count": 86,
   "metadata": {
    "ExecuteTime": {
     "end_time": "2019-12-15T03:30:40.090540Z",
     "start_time": "2019-12-15T03:27:21.273753Z"
    }
   },
   "outputs": [
    {
     "name": "stdout",
     "output_type": "stream",
     "text": [
      "Fitting 3 folds for each of 8 candidates, totalling 24 fits\n",
      "[CV] xgb__learning_rate=0.1, xgb__max_depth=6, xgb__min_child_weight=1, xgb__n_estimators=100, xgb__subsample=0.5 \n"
     ]
    },
    {
     "name": "stderr",
     "output_type": "stream",
     "text": [
      "[Parallel(n_jobs=1)]: Using backend SequentialBackend with 1 concurrent workers.\n"
     ]
    },
    {
     "ename": "KeyboardInterrupt",
     "evalue": "",
     "output_type": "error",
     "traceback": [
      "\u001b[0;31m---------------------------------------------------------------------------\u001b[0m",
      "\u001b[0;31mKeyboardInterrupt\u001b[0m                         Traceback (most recent call last)",
      "\u001b[0;32m<ipython-input-86-7111a17b8ba7>\u001b[0m in \u001b[0;36m<module>\u001b[0;34m()\u001b[0m\n\u001b[1;32m     13\u001b[0m \u001b[0;34m\u001b[0m\u001b[0m\n\u001b[1;32m     14\u001b[0m \u001b[0;31m# Fit using grid search\u001b[0m\u001b[0;34m\u001b[0m\u001b[0;34m\u001b[0m\u001b[0m\n\u001b[0;32m---> 15\u001b[0;31m \u001b[0mgrid_xgb\u001b[0m \u001b[0;34m=\u001b[0m \u001b[0mgs_xgb\u001b[0m\u001b[0;34m.\u001b[0m\u001b[0mfit\u001b[0m\u001b[0;34m(\u001b[0m\u001b[0mundersample_x_train\u001b[0m\u001b[0;34m,\u001b[0m \u001b[0mundersample_y_train\u001b[0m\u001b[0;34m)\u001b[0m\u001b[0;34m\u001b[0m\u001b[0m\n\u001b[0m\u001b[1;32m     16\u001b[0m \u001b[0;34m\u001b[0m\u001b[0m\n\u001b[1;32m     17\u001b[0m \u001b[0mbest_parameters\u001b[0m \u001b[0;34m=\u001b[0m \u001b[0mgrid_xgb\u001b[0m\u001b[0;34m.\u001b[0m\u001b[0mbest_params_\u001b[0m\u001b[0;34m\u001b[0m\u001b[0m\n",
      "\u001b[0;32m~/anaconda3/envs/learn-env/lib/python3.6/site-packages/sklearn/model_selection/_search.py\u001b[0m in \u001b[0;36mfit\u001b[0;34m(self, X, y, groups, **fit_params)\u001b[0m\n\u001b[1;32m    686\u001b[0m                 \u001b[0;32mreturn\u001b[0m \u001b[0mresults\u001b[0m\u001b[0;34m\u001b[0m\u001b[0m\n\u001b[1;32m    687\u001b[0m \u001b[0;34m\u001b[0m\u001b[0m\n\u001b[0;32m--> 688\u001b[0;31m             \u001b[0mself\u001b[0m\u001b[0;34m.\u001b[0m\u001b[0m_run_search\u001b[0m\u001b[0;34m(\u001b[0m\u001b[0mevaluate_candidates\u001b[0m\u001b[0;34m)\u001b[0m\u001b[0;34m\u001b[0m\u001b[0m\n\u001b[0m\u001b[1;32m    689\u001b[0m \u001b[0;34m\u001b[0m\u001b[0m\n\u001b[1;32m    690\u001b[0m         \u001b[0;31m# For multi-metric evaluation, store the best_index_, best_params_ and\u001b[0m\u001b[0;34m\u001b[0m\u001b[0;34m\u001b[0m\u001b[0m\n",
      "\u001b[0;32m~/anaconda3/envs/learn-env/lib/python3.6/site-packages/sklearn/model_selection/_search.py\u001b[0m in \u001b[0;36m_run_search\u001b[0;34m(self, evaluate_candidates)\u001b[0m\n\u001b[1;32m   1147\u001b[0m     \u001b[0;32mdef\u001b[0m \u001b[0m_run_search\u001b[0m\u001b[0;34m(\u001b[0m\u001b[0mself\u001b[0m\u001b[0;34m,\u001b[0m \u001b[0mevaluate_candidates\u001b[0m\u001b[0;34m)\u001b[0m\u001b[0;34m:\u001b[0m\u001b[0;34m\u001b[0m\u001b[0m\n\u001b[1;32m   1148\u001b[0m         \u001b[0;34m\"\"\"Search all candidates in param_grid\"\"\"\u001b[0m\u001b[0;34m\u001b[0m\u001b[0m\n\u001b[0;32m-> 1149\u001b[0;31m         \u001b[0mevaluate_candidates\u001b[0m\u001b[0;34m(\u001b[0m\u001b[0mParameterGrid\u001b[0m\u001b[0;34m(\u001b[0m\u001b[0mself\u001b[0m\u001b[0;34m.\u001b[0m\u001b[0mparam_grid\u001b[0m\u001b[0;34m)\u001b[0m\u001b[0;34m)\u001b[0m\u001b[0;34m\u001b[0m\u001b[0m\n\u001b[0m\u001b[1;32m   1150\u001b[0m \u001b[0;34m\u001b[0m\u001b[0m\n\u001b[1;32m   1151\u001b[0m \u001b[0;34m\u001b[0m\u001b[0m\n",
      "\u001b[0;32m~/anaconda3/envs/learn-env/lib/python3.6/site-packages/sklearn/model_selection/_search.py\u001b[0m in \u001b[0;36mevaluate_candidates\u001b[0;34m(candidate_params)\u001b[0m\n\u001b[1;32m    665\u001b[0m                                \u001b[0;32mfor\u001b[0m \u001b[0mparameters\u001b[0m\u001b[0;34m,\u001b[0m \u001b[0;34m(\u001b[0m\u001b[0mtrain\u001b[0m\u001b[0;34m,\u001b[0m \u001b[0mtest\u001b[0m\u001b[0;34m)\u001b[0m\u001b[0;34m\u001b[0m\u001b[0m\n\u001b[1;32m    666\u001b[0m                                in product(candidate_params,\n\u001b[0;32m--> 667\u001b[0;31m                                           cv.split(X, y, groups)))\n\u001b[0m\u001b[1;32m    668\u001b[0m \u001b[0;34m\u001b[0m\u001b[0m\n\u001b[1;32m    669\u001b[0m                 \u001b[0;32mif\u001b[0m \u001b[0mlen\u001b[0m\u001b[0;34m(\u001b[0m\u001b[0mout\u001b[0m\u001b[0;34m)\u001b[0m \u001b[0;34m<\u001b[0m \u001b[0;36m1\u001b[0m\u001b[0;34m:\u001b[0m\u001b[0;34m\u001b[0m\u001b[0m\n",
      "\u001b[0;32m~/anaconda3/envs/learn-env/lib/python3.6/site-packages/joblib/parallel.py\u001b[0m in \u001b[0;36m__call__\u001b[0;34m(self, iterable)\u001b[0m\n\u001b[1;32m   1001\u001b[0m             \u001b[0;31m# remaining jobs.\u001b[0m\u001b[0;34m\u001b[0m\u001b[0;34m\u001b[0m\u001b[0m\n\u001b[1;32m   1002\u001b[0m             \u001b[0mself\u001b[0m\u001b[0;34m.\u001b[0m\u001b[0m_iterating\u001b[0m \u001b[0;34m=\u001b[0m \u001b[0;32mFalse\u001b[0m\u001b[0;34m\u001b[0m\u001b[0m\n\u001b[0;32m-> 1003\u001b[0;31m             \u001b[0;32mif\u001b[0m \u001b[0mself\u001b[0m\u001b[0;34m.\u001b[0m\u001b[0mdispatch_one_batch\u001b[0m\u001b[0;34m(\u001b[0m\u001b[0miterator\u001b[0m\u001b[0;34m)\u001b[0m\u001b[0;34m:\u001b[0m\u001b[0;34m\u001b[0m\u001b[0m\n\u001b[0m\u001b[1;32m   1004\u001b[0m                 \u001b[0mself\u001b[0m\u001b[0;34m.\u001b[0m\u001b[0m_iterating\u001b[0m \u001b[0;34m=\u001b[0m \u001b[0mself\u001b[0m\u001b[0;34m.\u001b[0m\u001b[0m_original_iterator\u001b[0m \u001b[0;32mis\u001b[0m \u001b[0;32mnot\u001b[0m \u001b[0;32mNone\u001b[0m\u001b[0;34m\u001b[0m\u001b[0m\n\u001b[1;32m   1005\u001b[0m \u001b[0;34m\u001b[0m\u001b[0m\n",
      "\u001b[0;32m~/anaconda3/envs/learn-env/lib/python3.6/site-packages/joblib/parallel.py\u001b[0m in \u001b[0;36mdispatch_one_batch\u001b[0;34m(self, iterator)\u001b[0m\n\u001b[1;32m    832\u001b[0m                 \u001b[0;32mreturn\u001b[0m \u001b[0;32mFalse\u001b[0m\u001b[0;34m\u001b[0m\u001b[0m\n\u001b[1;32m    833\u001b[0m             \u001b[0;32melse\u001b[0m\u001b[0;34m:\u001b[0m\u001b[0;34m\u001b[0m\u001b[0m\n\u001b[0;32m--> 834\u001b[0;31m                 \u001b[0mself\u001b[0m\u001b[0;34m.\u001b[0m\u001b[0m_dispatch\u001b[0m\u001b[0;34m(\u001b[0m\u001b[0mtasks\u001b[0m\u001b[0;34m)\u001b[0m\u001b[0;34m\u001b[0m\u001b[0m\n\u001b[0m\u001b[1;32m    835\u001b[0m                 \u001b[0;32mreturn\u001b[0m \u001b[0;32mTrue\u001b[0m\u001b[0;34m\u001b[0m\u001b[0m\n\u001b[1;32m    836\u001b[0m \u001b[0;34m\u001b[0m\u001b[0m\n",
      "\u001b[0;32m~/anaconda3/envs/learn-env/lib/python3.6/site-packages/joblib/parallel.py\u001b[0m in \u001b[0;36m_dispatch\u001b[0;34m(self, batch)\u001b[0m\n\u001b[1;32m    751\u001b[0m         \u001b[0;32mwith\u001b[0m \u001b[0mself\u001b[0m\u001b[0;34m.\u001b[0m\u001b[0m_lock\u001b[0m\u001b[0;34m:\u001b[0m\u001b[0;34m\u001b[0m\u001b[0m\n\u001b[1;32m    752\u001b[0m             \u001b[0mjob_idx\u001b[0m \u001b[0;34m=\u001b[0m \u001b[0mlen\u001b[0m\u001b[0;34m(\u001b[0m\u001b[0mself\u001b[0m\u001b[0;34m.\u001b[0m\u001b[0m_jobs\u001b[0m\u001b[0;34m)\u001b[0m\u001b[0;34m\u001b[0m\u001b[0m\n\u001b[0;32m--> 753\u001b[0;31m             \u001b[0mjob\u001b[0m \u001b[0;34m=\u001b[0m \u001b[0mself\u001b[0m\u001b[0;34m.\u001b[0m\u001b[0m_backend\u001b[0m\u001b[0;34m.\u001b[0m\u001b[0mapply_async\u001b[0m\u001b[0;34m(\u001b[0m\u001b[0mbatch\u001b[0m\u001b[0;34m,\u001b[0m \u001b[0mcallback\u001b[0m\u001b[0;34m=\u001b[0m\u001b[0mcb\u001b[0m\u001b[0;34m)\u001b[0m\u001b[0;34m\u001b[0m\u001b[0m\n\u001b[0m\u001b[1;32m    754\u001b[0m             \u001b[0;31m# A job can complete so quickly than its callback is\u001b[0m\u001b[0;34m\u001b[0m\u001b[0;34m\u001b[0m\u001b[0m\n\u001b[1;32m    755\u001b[0m             \u001b[0;31m# called before we get here, causing self._jobs to\u001b[0m\u001b[0;34m\u001b[0m\u001b[0;34m\u001b[0m\u001b[0m\n",
      "\u001b[0;32m~/anaconda3/envs/learn-env/lib/python3.6/site-packages/joblib/_parallel_backends.py\u001b[0m in \u001b[0;36mapply_async\u001b[0;34m(self, func, callback)\u001b[0m\n\u001b[1;32m    199\u001b[0m     \u001b[0;32mdef\u001b[0m \u001b[0mapply_async\u001b[0m\u001b[0;34m(\u001b[0m\u001b[0mself\u001b[0m\u001b[0;34m,\u001b[0m \u001b[0mfunc\u001b[0m\u001b[0;34m,\u001b[0m \u001b[0mcallback\u001b[0m\u001b[0;34m=\u001b[0m\u001b[0;32mNone\u001b[0m\u001b[0;34m)\u001b[0m\u001b[0;34m:\u001b[0m\u001b[0;34m\u001b[0m\u001b[0m\n\u001b[1;32m    200\u001b[0m         \u001b[0;34m\"\"\"Schedule a func to be run\"\"\"\u001b[0m\u001b[0;34m\u001b[0m\u001b[0m\n\u001b[0;32m--> 201\u001b[0;31m         \u001b[0mresult\u001b[0m \u001b[0;34m=\u001b[0m \u001b[0mImmediateResult\u001b[0m\u001b[0;34m(\u001b[0m\u001b[0mfunc\u001b[0m\u001b[0;34m)\u001b[0m\u001b[0;34m\u001b[0m\u001b[0m\n\u001b[0m\u001b[1;32m    202\u001b[0m         \u001b[0;32mif\u001b[0m \u001b[0mcallback\u001b[0m\u001b[0;34m:\u001b[0m\u001b[0;34m\u001b[0m\u001b[0m\n\u001b[1;32m    203\u001b[0m             \u001b[0mcallback\u001b[0m\u001b[0;34m(\u001b[0m\u001b[0mresult\u001b[0m\u001b[0;34m)\u001b[0m\u001b[0;34m\u001b[0m\u001b[0m\n",
      "\u001b[0;32m~/anaconda3/envs/learn-env/lib/python3.6/site-packages/joblib/_parallel_backends.py\u001b[0m in \u001b[0;36m__init__\u001b[0;34m(self, batch)\u001b[0m\n\u001b[1;32m    580\u001b[0m         \u001b[0;31m# Don't delay the application, to avoid keeping the input\u001b[0m\u001b[0;34m\u001b[0m\u001b[0;34m\u001b[0m\u001b[0m\n\u001b[1;32m    581\u001b[0m         \u001b[0;31m# arguments in memory\u001b[0m\u001b[0;34m\u001b[0m\u001b[0;34m\u001b[0m\u001b[0m\n\u001b[0;32m--> 582\u001b[0;31m         \u001b[0mself\u001b[0m\u001b[0;34m.\u001b[0m\u001b[0mresults\u001b[0m \u001b[0;34m=\u001b[0m \u001b[0mbatch\u001b[0m\u001b[0;34m(\u001b[0m\u001b[0;34m)\u001b[0m\u001b[0;34m\u001b[0m\u001b[0m\n\u001b[0m\u001b[1;32m    583\u001b[0m \u001b[0;34m\u001b[0m\u001b[0m\n\u001b[1;32m    584\u001b[0m     \u001b[0;32mdef\u001b[0m \u001b[0mget\u001b[0m\u001b[0;34m(\u001b[0m\u001b[0mself\u001b[0m\u001b[0;34m)\u001b[0m\u001b[0;34m:\u001b[0m\u001b[0;34m\u001b[0m\u001b[0m\n",
      "\u001b[0;32m~/anaconda3/envs/learn-env/lib/python3.6/site-packages/joblib/parallel.py\u001b[0m in \u001b[0;36m__call__\u001b[0;34m(self)\u001b[0m\n\u001b[1;32m    254\u001b[0m         \u001b[0;32mwith\u001b[0m \u001b[0mparallel_backend\u001b[0m\u001b[0;34m(\u001b[0m\u001b[0mself\u001b[0m\u001b[0;34m.\u001b[0m\u001b[0m_backend\u001b[0m\u001b[0;34m,\u001b[0m \u001b[0mn_jobs\u001b[0m\u001b[0;34m=\u001b[0m\u001b[0mself\u001b[0m\u001b[0;34m.\u001b[0m\u001b[0m_n_jobs\u001b[0m\u001b[0;34m)\u001b[0m\u001b[0;34m:\u001b[0m\u001b[0;34m\u001b[0m\u001b[0m\n\u001b[1;32m    255\u001b[0m             return [func(*args, **kwargs)\n\u001b[0;32m--> 256\u001b[0;31m                     for func, args, kwargs in self.items]\n\u001b[0m\u001b[1;32m    257\u001b[0m \u001b[0;34m\u001b[0m\u001b[0m\n\u001b[1;32m    258\u001b[0m     \u001b[0;32mdef\u001b[0m \u001b[0m__len__\u001b[0m\u001b[0;34m(\u001b[0m\u001b[0mself\u001b[0m\u001b[0;34m)\u001b[0m\u001b[0;34m:\u001b[0m\u001b[0;34m\u001b[0m\u001b[0m\n",
      "\u001b[0;32m~/anaconda3/envs/learn-env/lib/python3.6/site-packages/joblib/parallel.py\u001b[0m in \u001b[0;36m<listcomp>\u001b[0;34m(.0)\u001b[0m\n\u001b[1;32m    254\u001b[0m         \u001b[0;32mwith\u001b[0m \u001b[0mparallel_backend\u001b[0m\u001b[0;34m(\u001b[0m\u001b[0mself\u001b[0m\u001b[0;34m.\u001b[0m\u001b[0m_backend\u001b[0m\u001b[0;34m,\u001b[0m \u001b[0mn_jobs\u001b[0m\u001b[0;34m=\u001b[0m\u001b[0mself\u001b[0m\u001b[0;34m.\u001b[0m\u001b[0m_n_jobs\u001b[0m\u001b[0;34m)\u001b[0m\u001b[0;34m:\u001b[0m\u001b[0;34m\u001b[0m\u001b[0m\n\u001b[1;32m    255\u001b[0m             return [func(*args, **kwargs)\n\u001b[0;32m--> 256\u001b[0;31m                     for func, args, kwargs in self.items]\n\u001b[0m\u001b[1;32m    257\u001b[0m \u001b[0;34m\u001b[0m\u001b[0m\n\u001b[1;32m    258\u001b[0m     \u001b[0;32mdef\u001b[0m \u001b[0m__len__\u001b[0m\u001b[0;34m(\u001b[0m\u001b[0mself\u001b[0m\u001b[0;34m)\u001b[0m\u001b[0;34m:\u001b[0m\u001b[0;34m\u001b[0m\u001b[0m\n",
      "\u001b[0;32m~/anaconda3/envs/learn-env/lib/python3.6/site-packages/sklearn/model_selection/_validation.py\u001b[0m in \u001b[0;36m_fit_and_score\u001b[0;34m(estimator, X, y, scorer, train, test, verbose, parameters, fit_params, return_train_score, return_parameters, return_n_test_samples, return_times, return_estimator, error_score)\u001b[0m\n\u001b[1;32m    514\u001b[0m             \u001b[0mestimator\u001b[0m\u001b[0;34m.\u001b[0m\u001b[0mfit\u001b[0m\u001b[0;34m(\u001b[0m\u001b[0mX_train\u001b[0m\u001b[0;34m,\u001b[0m \u001b[0;34m**\u001b[0m\u001b[0mfit_params\u001b[0m\u001b[0;34m)\u001b[0m\u001b[0;34m\u001b[0m\u001b[0m\n\u001b[1;32m    515\u001b[0m         \u001b[0;32melse\u001b[0m\u001b[0;34m:\u001b[0m\u001b[0;34m\u001b[0m\u001b[0m\n\u001b[0;32m--> 516\u001b[0;31m             \u001b[0mestimator\u001b[0m\u001b[0;34m.\u001b[0m\u001b[0mfit\u001b[0m\u001b[0;34m(\u001b[0m\u001b[0mX_train\u001b[0m\u001b[0;34m,\u001b[0m \u001b[0my_train\u001b[0m\u001b[0;34m,\u001b[0m \u001b[0;34m**\u001b[0m\u001b[0mfit_params\u001b[0m\u001b[0;34m)\u001b[0m\u001b[0;34m\u001b[0m\u001b[0m\n\u001b[0m\u001b[1;32m    517\u001b[0m \u001b[0;34m\u001b[0m\u001b[0m\n\u001b[1;32m    518\u001b[0m     \u001b[0;32mexcept\u001b[0m \u001b[0mException\u001b[0m \u001b[0;32mas\u001b[0m \u001b[0me\u001b[0m\u001b[0;34m:\u001b[0m\u001b[0;34m\u001b[0m\u001b[0m\n",
      "\u001b[0;32m~/anaconda3/envs/learn-env/lib/python3.6/site-packages/sklearn/pipeline.py\u001b[0m in \u001b[0;36mfit\u001b[0;34m(self, X, y, **fit_params)\u001b[0m\n\u001b[1;32m    354\u001b[0m                                  self._log_message(len(self.steps) - 1)):\n\u001b[1;32m    355\u001b[0m             \u001b[0;32mif\u001b[0m \u001b[0mself\u001b[0m\u001b[0;34m.\u001b[0m\u001b[0m_final_estimator\u001b[0m \u001b[0;34m!=\u001b[0m \u001b[0;34m'passthrough'\u001b[0m\u001b[0;34m:\u001b[0m\u001b[0;34m\u001b[0m\u001b[0m\n\u001b[0;32m--> 356\u001b[0;31m                 \u001b[0mself\u001b[0m\u001b[0;34m.\u001b[0m\u001b[0m_final_estimator\u001b[0m\u001b[0;34m.\u001b[0m\u001b[0mfit\u001b[0m\u001b[0;34m(\u001b[0m\u001b[0mXt\u001b[0m\u001b[0;34m,\u001b[0m \u001b[0my\u001b[0m\u001b[0;34m,\u001b[0m \u001b[0;34m**\u001b[0m\u001b[0mfit_params\u001b[0m\u001b[0;34m)\u001b[0m\u001b[0;34m\u001b[0m\u001b[0m\n\u001b[0m\u001b[1;32m    357\u001b[0m         \u001b[0;32mreturn\u001b[0m \u001b[0mself\u001b[0m\u001b[0;34m\u001b[0m\u001b[0m\n\u001b[1;32m    358\u001b[0m \u001b[0;34m\u001b[0m\u001b[0m\n",
      "\u001b[0;32m~/anaconda3/envs/learn-env/lib/python3.6/site-packages/xgboost/sklearn.py\u001b[0m in \u001b[0;36mfit\u001b[0;34m(self, X, y, sample_weight, eval_set, eval_metric, early_stopping_rounds, verbose, xgb_model, sample_weight_eval_set)\u001b[0m\n\u001b[1;32m    519\u001b[0m                               \u001b[0mearly_stopping_rounds\u001b[0m\u001b[0;34m=\u001b[0m\u001b[0mearly_stopping_rounds\u001b[0m\u001b[0;34m,\u001b[0m\u001b[0;34m\u001b[0m\u001b[0m\n\u001b[1;32m    520\u001b[0m                               \u001b[0mevals_result\u001b[0m\u001b[0;34m=\u001b[0m\u001b[0mevals_result\u001b[0m\u001b[0;34m,\u001b[0m \u001b[0mobj\u001b[0m\u001b[0;34m=\u001b[0m\u001b[0mobj\u001b[0m\u001b[0;34m,\u001b[0m \u001b[0mfeval\u001b[0m\u001b[0;34m=\u001b[0m\u001b[0mfeval\u001b[0m\u001b[0;34m,\u001b[0m\u001b[0;34m\u001b[0m\u001b[0m\n\u001b[0;32m--> 521\u001b[0;31m                               verbose_eval=verbose, xgb_model=None)\n\u001b[0m\u001b[1;32m    522\u001b[0m \u001b[0;34m\u001b[0m\u001b[0m\n\u001b[1;32m    523\u001b[0m         \u001b[0mself\u001b[0m\u001b[0;34m.\u001b[0m\u001b[0mobjective\u001b[0m \u001b[0;34m=\u001b[0m \u001b[0mxgb_options\u001b[0m\u001b[0;34m[\u001b[0m\u001b[0;34m\"objective\"\u001b[0m\u001b[0;34m]\u001b[0m\u001b[0;34m\u001b[0m\u001b[0m\n",
      "\u001b[0;32m~/anaconda3/envs/learn-env/lib/python3.6/site-packages/xgboost/training.py\u001b[0m in \u001b[0;36mtrain\u001b[0;34m(params, dtrain, num_boost_round, evals, obj, feval, maximize, early_stopping_rounds, evals_result, verbose_eval, xgb_model, callbacks, learning_rates)\u001b[0m\n\u001b[1;32m    202\u001b[0m                            \u001b[0mevals\u001b[0m\u001b[0;34m=\u001b[0m\u001b[0mevals\u001b[0m\u001b[0;34m,\u001b[0m\u001b[0;34m\u001b[0m\u001b[0m\n\u001b[1;32m    203\u001b[0m                            \u001b[0mobj\u001b[0m\u001b[0;34m=\u001b[0m\u001b[0mobj\u001b[0m\u001b[0;34m,\u001b[0m \u001b[0mfeval\u001b[0m\u001b[0;34m=\u001b[0m\u001b[0mfeval\u001b[0m\u001b[0;34m,\u001b[0m\u001b[0;34m\u001b[0m\u001b[0m\n\u001b[0;32m--> 204\u001b[0;31m                            xgb_model=xgb_model, callbacks=callbacks)\n\u001b[0m\u001b[1;32m    205\u001b[0m \u001b[0;34m\u001b[0m\u001b[0m\n\u001b[1;32m    206\u001b[0m \u001b[0;34m\u001b[0m\u001b[0m\n",
      "\u001b[0;32m~/anaconda3/envs/learn-env/lib/python3.6/site-packages/xgboost/training.py\u001b[0m in \u001b[0;36m_train_internal\u001b[0;34m(params, dtrain, num_boost_round, evals, obj, feval, xgb_model, callbacks)\u001b[0m\n\u001b[1;32m     72\u001b[0m         \u001b[0;31m# Skip the first update if it is a recovery step.\u001b[0m\u001b[0;34m\u001b[0m\u001b[0;34m\u001b[0m\u001b[0m\n\u001b[1;32m     73\u001b[0m         \u001b[0;32mif\u001b[0m \u001b[0mversion\u001b[0m \u001b[0;34m%\u001b[0m \u001b[0;36m2\u001b[0m \u001b[0;34m==\u001b[0m \u001b[0;36m0\u001b[0m\u001b[0;34m:\u001b[0m\u001b[0;34m\u001b[0m\u001b[0m\n\u001b[0;32m---> 74\u001b[0;31m             \u001b[0mbst\u001b[0m\u001b[0;34m.\u001b[0m\u001b[0mupdate\u001b[0m\u001b[0;34m(\u001b[0m\u001b[0mdtrain\u001b[0m\u001b[0;34m,\u001b[0m \u001b[0mi\u001b[0m\u001b[0;34m,\u001b[0m \u001b[0mobj\u001b[0m\u001b[0;34m)\u001b[0m\u001b[0;34m\u001b[0m\u001b[0m\n\u001b[0m\u001b[1;32m     75\u001b[0m             \u001b[0mbst\u001b[0m\u001b[0;34m.\u001b[0m\u001b[0msave_rabit_checkpoint\u001b[0m\u001b[0;34m(\u001b[0m\u001b[0;34m)\u001b[0m\u001b[0;34m\u001b[0m\u001b[0m\n\u001b[1;32m     76\u001b[0m             \u001b[0mversion\u001b[0m \u001b[0;34m+=\u001b[0m \u001b[0;36m1\u001b[0m\u001b[0;34m\u001b[0m\u001b[0m\n",
      "\u001b[0;32m~/anaconda3/envs/learn-env/lib/python3.6/site-packages/xgboost/core.py\u001b[0m in \u001b[0;36mupdate\u001b[0;34m(self, dtrain, iteration, fobj)\u001b[0m\n\u001b[1;32m    892\u001b[0m         \u001b[0;32mif\u001b[0m \u001b[0mfobj\u001b[0m \u001b[0;32mis\u001b[0m \u001b[0;32mNone\u001b[0m\u001b[0;34m:\u001b[0m\u001b[0;34m\u001b[0m\u001b[0m\n\u001b[1;32m    893\u001b[0m             _check_call(_LIB.XGBoosterUpdateOneIter(self.handle, ctypes.c_int(iteration),\n\u001b[0;32m--> 894\u001b[0;31m                                                     dtrain.handle))\n\u001b[0m\u001b[1;32m    895\u001b[0m         \u001b[0;32melse\u001b[0m\u001b[0;34m:\u001b[0m\u001b[0;34m\u001b[0m\u001b[0m\n\u001b[1;32m    896\u001b[0m             \u001b[0mpred\u001b[0m \u001b[0;34m=\u001b[0m \u001b[0mself\u001b[0m\u001b[0;34m.\u001b[0m\u001b[0mpredict\u001b[0m\u001b[0;34m(\u001b[0m\u001b[0mdtrain\u001b[0m\u001b[0;34m)\u001b[0m\u001b[0;34m\u001b[0m\u001b[0m\n",
      "\u001b[0;31mKeyboardInterrupt\u001b[0m: "
     ]
    }
   ],
   "source": [
    "param_grid = {\n",
    "    'xgb__learning_rate': [0.1,0.2],\n",
    "    'xgb__max_depth': [6],\n",
    "    'xgb__min_child_weight': [1, 2],\n",
    "    'xgb__subsample': [0.5, 0.7],\n",
    "    'xgb__n_estimators': [100],\n",
    "}\n",
    "\n",
    "gs_xgb = GridSearchCV(estimator=xgb_pipe,\n",
    "            param_grid=param_grid,\n",
    "            scoring='recall_weighted',\n",
    "            cv=3, verbose=1, n_jobs=-1, return_train_score = True)\n",
    "\n",
    "# Fit using grid search\n",
    "grid_xgb = gs_xgb.fit(undersample_x_train, undersample_y_train)\n",
    "\n",
    "best_parameters = grid_xgb.best_params_\n",
    "\n",
    "print('Grid Search found the following optimal parameters: ')\n",
    "for param_name in sorted(best_parameters.keys()):\n",
    "    print('%s: %r' % (param_name, best_parameters[param_name]))\n",
    "\n",
    "training_preds = grid_xgb.predict(undersample_x_train)\n",
    "test_preds = grid_xgb.predict(x_test)\n",
    "training_accuracy = accuracy_score(undersample_y_train, training_preds)\n",
    "test_accuracy = accuracy_score(y_test, test_preds)\n",
    "\n",
    "print('')\n",
    "print('Training Accuracy: {:.4}%'.format(training_accuracy * 100))\n",
    "print('Validation accuracy: {:.4}%'.format(test_accuracy * 100))"
   ]
  }
 ],
 "metadata": {
  "kernelspec": {
   "display_name": "Python [conda env:learn-env] *",
   "language": "python",
   "name": "conda-env-learn-env-py"
  },
  "language_info": {
   "codemirror_mode": {
    "name": "ipython",
    "version": 3
   },
   "file_extension": ".py",
   "mimetype": "text/x-python",
   "name": "python",
   "nbconvert_exporter": "python",
   "pygments_lexer": "ipython3",
   "version": "3.6.6"
  },
  "toc": {
   "base_numbering": 1,
   "nav_menu": {},
   "number_sections": true,
   "sideBar": true,
   "skip_h1_title": false,
   "title_cell": "Table of Contents",
   "title_sidebar": "Contents",
   "toc_cell": false,
   "toc_position": {},
   "toc_section_display": true,
   "toc_window_display": false
  }
 },
 "nbformat": 4,
 "nbformat_minor": 2
}
