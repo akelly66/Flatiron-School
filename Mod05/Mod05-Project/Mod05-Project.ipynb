{
 "cells": [
  {
   "cell_type": "markdown",
   "metadata": {},
   "source": [
    "# Module 05 Project Overview"
   ]
  },
  {
   "cell_type": "markdown",
   "metadata": {},
   "source": [
    "The purpose of this project is to examine the relationship between hyperglycemic tests and hospital readmittance rates of patients with diabetes as a diagnosis. The model will attempt to predict which patients are likely to be readmitted for complications and categorized as being hospitalized within a month, more than a month from most recent discharge, and never. This model and similar models can change when testing is administered, possibly resulting in earlier diagnosis and preventative measures to be taken during the initial treatment period to avoid readmittance, lowering healthcare costs for both patient and hospital. \n",
    "\n",
    "This machine learning project is a supervised, multi-class classification problem.\n",
    "\n",
    "You'll find the accompanying biomedical research paper with label descriptions and further information <a href=\"http://dx.doi.org/10.1155/2014/781670\">here.</a>"
   ]
  },
  {
   "cell_type": "code",
   "execution_count": 1,
   "metadata": {
    "ExecuteTime": {
     "end_time": "2019-12-10T00:28:29.620154Z",
     "start_time": "2019-12-10T00:28:25.138674Z"
    }
   },
   "outputs": [],
   "source": [
    "import pandas as pd\n",
    "import numpy as np\n",
    "import pandas_profiling\n",
    "\n",
    "import warnings\n",
    "warnings.filterwarnings(\"ignore\")\n",
    "\n",
    "import matplotlib.pyplot as plt\n",
    "%matplotlib inline\n",
    "plt.style.use('seaborn-whitegrid')\n",
    "import seaborn as sns\n",
    "\n",
    "from sklearn.model_selection import train_test_split\n",
    "from sklearn import preprocessing\n",
    "from sklearn.linear_model import LogisticRegression"
   ]
  },
  {
   "cell_type": "code",
   "execution_count": 2,
   "metadata": {
    "ExecuteTime": {
     "end_time": "2019-12-10T00:28:32.387301Z",
     "start_time": "2019-12-10T00:28:29.625914Z"
    }
   },
   "outputs": [],
   "source": [
    "raw_df = pd.read_csv(\"diabetes_data.csv\")\n",
    "df = pd.read_csv(\"diabetes_data.csv\")"
   ]
  },
  {
   "cell_type": "code",
   "execution_count": 3,
   "metadata": {
    "ExecuteTime": {
     "end_time": "2019-12-10T00:28:32.517878Z",
     "start_time": "2019-12-10T00:28:32.392365Z"
    },
    "scrolled": true
   },
   "outputs": [
    {
     "data": {
      "text/html": [
       "<div>\n",
       "<style scoped>\n",
       "    .dataframe tbody tr th:only-of-type {\n",
       "        vertical-align: middle;\n",
       "    }\n",
       "\n",
       "    .dataframe tbody tr th {\n",
       "        vertical-align: top;\n",
       "    }\n",
       "\n",
       "    .dataframe thead th {\n",
       "        text-align: right;\n",
       "    }\n",
       "</style>\n",
       "<table border=\"1\" class=\"dataframe\">\n",
       "  <thead>\n",
       "    <tr style=\"text-align: right;\">\n",
       "      <th></th>\n",
       "      <th>encounter_id</th>\n",
       "      <th>patient_nbr</th>\n",
       "      <th>race</th>\n",
       "      <th>gender</th>\n",
       "      <th>age</th>\n",
       "      <th>weight</th>\n",
       "      <th>admission_type_id</th>\n",
       "      <th>discharge_disposition_id</th>\n",
       "      <th>admission_source_id</th>\n",
       "      <th>time_in_hospital</th>\n",
       "      <th>...</th>\n",
       "      <th>citoglipton</th>\n",
       "      <th>insulin</th>\n",
       "      <th>glyburide-metformin</th>\n",
       "      <th>glipizide-metformin</th>\n",
       "      <th>glimepiride-pioglitazone</th>\n",
       "      <th>metformin-rosiglitazone</th>\n",
       "      <th>metformin-pioglitazone</th>\n",
       "      <th>change</th>\n",
       "      <th>diabetesMed</th>\n",
       "      <th>readmitted</th>\n",
       "    </tr>\n",
       "  </thead>\n",
       "  <tbody>\n",
       "    <tr>\n",
       "      <th>0</th>\n",
       "      <td>2278392</td>\n",
       "      <td>8222157</td>\n",
       "      <td>Caucasian</td>\n",
       "      <td>Female</td>\n",
       "      <td>[0-10)</td>\n",
       "      <td>?</td>\n",
       "      <td>6</td>\n",
       "      <td>25</td>\n",
       "      <td>1</td>\n",
       "      <td>1</td>\n",
       "      <td>...</td>\n",
       "      <td>No</td>\n",
       "      <td>No</td>\n",
       "      <td>No</td>\n",
       "      <td>No</td>\n",
       "      <td>No</td>\n",
       "      <td>No</td>\n",
       "      <td>No</td>\n",
       "      <td>No</td>\n",
       "      <td>No</td>\n",
       "      <td>NO</td>\n",
       "    </tr>\n",
       "    <tr>\n",
       "      <th>1</th>\n",
       "      <td>149190</td>\n",
       "      <td>55629189</td>\n",
       "      <td>Caucasian</td>\n",
       "      <td>Female</td>\n",
       "      <td>[10-20)</td>\n",
       "      <td>?</td>\n",
       "      <td>1</td>\n",
       "      <td>1</td>\n",
       "      <td>7</td>\n",
       "      <td>3</td>\n",
       "      <td>...</td>\n",
       "      <td>No</td>\n",
       "      <td>Up</td>\n",
       "      <td>No</td>\n",
       "      <td>No</td>\n",
       "      <td>No</td>\n",
       "      <td>No</td>\n",
       "      <td>No</td>\n",
       "      <td>Ch</td>\n",
       "      <td>Yes</td>\n",
       "      <td>&gt;30</td>\n",
       "    </tr>\n",
       "    <tr>\n",
       "      <th>2</th>\n",
       "      <td>64410</td>\n",
       "      <td>86047875</td>\n",
       "      <td>AfricanAmerican</td>\n",
       "      <td>Female</td>\n",
       "      <td>[20-30)</td>\n",
       "      <td>?</td>\n",
       "      <td>1</td>\n",
       "      <td>1</td>\n",
       "      <td>7</td>\n",
       "      <td>2</td>\n",
       "      <td>...</td>\n",
       "      <td>No</td>\n",
       "      <td>No</td>\n",
       "      <td>No</td>\n",
       "      <td>No</td>\n",
       "      <td>No</td>\n",
       "      <td>No</td>\n",
       "      <td>No</td>\n",
       "      <td>No</td>\n",
       "      <td>Yes</td>\n",
       "      <td>NO</td>\n",
       "    </tr>\n",
       "    <tr>\n",
       "      <th>3</th>\n",
       "      <td>500364</td>\n",
       "      <td>82442376</td>\n",
       "      <td>Caucasian</td>\n",
       "      <td>Male</td>\n",
       "      <td>[30-40)</td>\n",
       "      <td>?</td>\n",
       "      <td>1</td>\n",
       "      <td>1</td>\n",
       "      <td>7</td>\n",
       "      <td>2</td>\n",
       "      <td>...</td>\n",
       "      <td>No</td>\n",
       "      <td>Up</td>\n",
       "      <td>No</td>\n",
       "      <td>No</td>\n",
       "      <td>No</td>\n",
       "      <td>No</td>\n",
       "      <td>No</td>\n",
       "      <td>Ch</td>\n",
       "      <td>Yes</td>\n",
       "      <td>NO</td>\n",
       "    </tr>\n",
       "    <tr>\n",
       "      <th>4</th>\n",
       "      <td>16680</td>\n",
       "      <td>42519267</td>\n",
       "      <td>Caucasian</td>\n",
       "      <td>Male</td>\n",
       "      <td>[40-50)</td>\n",
       "      <td>?</td>\n",
       "      <td>1</td>\n",
       "      <td>1</td>\n",
       "      <td>7</td>\n",
       "      <td>1</td>\n",
       "      <td>...</td>\n",
       "      <td>No</td>\n",
       "      <td>Steady</td>\n",
       "      <td>No</td>\n",
       "      <td>No</td>\n",
       "      <td>No</td>\n",
       "      <td>No</td>\n",
       "      <td>No</td>\n",
       "      <td>Ch</td>\n",
       "      <td>Yes</td>\n",
       "      <td>NO</td>\n",
       "    </tr>\n",
       "  </tbody>\n",
       "</table>\n",
       "<p>5 rows × 50 columns</p>\n",
       "</div>"
      ],
      "text/plain": [
       "   encounter_id  patient_nbr             race  gender      age weight  \\\n",
       "0       2278392      8222157        Caucasian  Female   [0-10)      ?   \n",
       "1        149190     55629189        Caucasian  Female  [10-20)      ?   \n",
       "2         64410     86047875  AfricanAmerican  Female  [20-30)      ?   \n",
       "3        500364     82442376        Caucasian    Male  [30-40)      ?   \n",
       "4         16680     42519267        Caucasian    Male  [40-50)      ?   \n",
       "\n",
       "   admission_type_id  discharge_disposition_id  admission_source_id  \\\n",
       "0                  6                        25                    1   \n",
       "1                  1                         1                    7   \n",
       "2                  1                         1                    7   \n",
       "3                  1                         1                    7   \n",
       "4                  1                         1                    7   \n",
       "\n",
       "   time_in_hospital    ...     citoglipton insulin  glyburide-metformin  \\\n",
       "0                 1    ...              No      No                   No   \n",
       "1                 3    ...              No      Up                   No   \n",
       "2                 2    ...              No      No                   No   \n",
       "3                 2    ...              No      Up                   No   \n",
       "4                 1    ...              No  Steady                   No   \n",
       "\n",
       "   glipizide-metformin  glimepiride-pioglitazone  metformin-rosiglitazone  \\\n",
       "0                   No                        No                       No   \n",
       "1                   No                        No                       No   \n",
       "2                   No                        No                       No   \n",
       "3                   No                        No                       No   \n",
       "4                   No                        No                       No   \n",
       "\n",
       "   metformin-pioglitazone  change diabetesMed readmitted  \n",
       "0                      No      No          No         NO  \n",
       "1                      No      Ch         Yes        >30  \n",
       "2                      No      No         Yes         NO  \n",
       "3                      No      Ch         Yes         NO  \n",
       "4                      No      Ch         Yes         NO  \n",
       "\n",
       "[5 rows x 50 columns]"
      ]
     },
     "execution_count": 3,
     "metadata": {},
     "output_type": "execute_result"
    }
   ],
   "source": [
    "df.head()"
   ]
  },
  {
   "cell_type": "code",
   "execution_count": 4,
   "metadata": {
    "ExecuteTime": {
     "end_time": "2019-12-10T00:28:32.554430Z",
     "start_time": "2019-12-10T00:28:32.541138Z"
    }
   },
   "outputs": [
    {
     "data": {
      "text/plain": [
       "101766"
      ]
     },
     "execution_count": 4,
     "metadata": {},
     "output_type": "execute_result"
    }
   ],
   "source": [
    "len(df)"
   ]
  },
  {
   "cell_type": "code",
   "execution_count": 5,
   "metadata": {
    "ExecuteTime": {
     "end_time": "2019-12-10T00:28:32.567825Z",
     "start_time": "2019-12-10T00:28:32.560242Z"
    }
   },
   "outputs": [],
   "source": [
    "#df.profile_report()"
   ]
  },
  {
   "cell_type": "markdown",
   "metadata": {},
   "source": [
    "## Preprocessing"
   ]
  },
  {
   "cell_type": "code",
   "execution_count": 6,
   "metadata": {
    "ExecuteTime": {
     "end_time": "2019-12-10T00:28:32.635462Z",
     "start_time": "2019-12-10T00:28:32.575140Z"
    }
   },
   "outputs": [
    {
     "data": {
      "text/html": [
       "<div>\n",
       "<style scoped>\n",
       "    .dataframe tbody tr th:only-of-type {\n",
       "        vertical-align: middle;\n",
       "    }\n",
       "\n",
       "    .dataframe tbody tr th {\n",
       "        vertical-align: top;\n",
       "    }\n",
       "\n",
       "    .dataframe thead th {\n",
       "        text-align: right;\n",
       "    }\n",
       "</style>\n",
       "<table border=\"1\" class=\"dataframe\">\n",
       "  <thead>\n",
       "    <tr style=\"text-align: right;\">\n",
       "      <th></th>\n",
       "      <th>encounter_id</th>\n",
       "      <th>patient_nbr</th>\n",
       "      <th>race</th>\n",
       "      <th>gender</th>\n",
       "      <th>age</th>\n",
       "      <th>weight</th>\n",
       "      <th>admission_type_id</th>\n",
       "      <th>discharge_disposition_id</th>\n",
       "      <th>admission_source_id</th>\n",
       "      <th>time_in_hospital</th>\n",
       "      <th>...</th>\n",
       "      <th>citoglipton</th>\n",
       "      <th>insulin</th>\n",
       "      <th>glyburide-metformin</th>\n",
       "      <th>glipizide-metformin</th>\n",
       "      <th>glimepiride-pioglitazone</th>\n",
       "      <th>metformin-rosiglitazone</th>\n",
       "      <th>metformin-pioglitazone</th>\n",
       "      <th>change</th>\n",
       "      <th>diabetesMed</th>\n",
       "      <th>readmitted</th>\n",
       "    </tr>\n",
       "  </thead>\n",
       "  <tbody>\n",
       "    <tr>\n",
       "      <th>0</th>\n",
       "      <td>2278392</td>\n",
       "      <td>8222157</td>\n",
       "      <td>Caucasian</td>\n",
       "      <td>Female</td>\n",
       "      <td>[0-10)</td>\n",
       "      <td>?</td>\n",
       "      <td>6</td>\n",
       "      <td>25</td>\n",
       "      <td>1</td>\n",
       "      <td>1</td>\n",
       "      <td>...</td>\n",
       "      <td>No</td>\n",
       "      <td>No</td>\n",
       "      <td>No</td>\n",
       "      <td>No</td>\n",
       "      <td>No</td>\n",
       "      <td>No</td>\n",
       "      <td>No</td>\n",
       "      <td>No</td>\n",
       "      <td>No</td>\n",
       "      <td>NO</td>\n",
       "    </tr>\n",
       "    <tr>\n",
       "      <th>1</th>\n",
       "      <td>149190</td>\n",
       "      <td>55629189</td>\n",
       "      <td>Caucasian</td>\n",
       "      <td>Female</td>\n",
       "      <td>[10-20)</td>\n",
       "      <td>?</td>\n",
       "      <td>1</td>\n",
       "      <td>1</td>\n",
       "      <td>7</td>\n",
       "      <td>3</td>\n",
       "      <td>...</td>\n",
       "      <td>No</td>\n",
       "      <td>Up</td>\n",
       "      <td>No</td>\n",
       "      <td>No</td>\n",
       "      <td>No</td>\n",
       "      <td>No</td>\n",
       "      <td>No</td>\n",
       "      <td>Ch</td>\n",
       "      <td>Yes</td>\n",
       "      <td>&gt;30</td>\n",
       "    </tr>\n",
       "    <tr>\n",
       "      <th>2</th>\n",
       "      <td>64410</td>\n",
       "      <td>86047875</td>\n",
       "      <td>AfricanAmerican</td>\n",
       "      <td>Female</td>\n",
       "      <td>[20-30)</td>\n",
       "      <td>?</td>\n",
       "      <td>1</td>\n",
       "      <td>1</td>\n",
       "      <td>7</td>\n",
       "      <td>2</td>\n",
       "      <td>...</td>\n",
       "      <td>No</td>\n",
       "      <td>No</td>\n",
       "      <td>No</td>\n",
       "      <td>No</td>\n",
       "      <td>No</td>\n",
       "      <td>No</td>\n",
       "      <td>No</td>\n",
       "      <td>No</td>\n",
       "      <td>Yes</td>\n",
       "      <td>NO</td>\n",
       "    </tr>\n",
       "    <tr>\n",
       "      <th>3</th>\n",
       "      <td>500364</td>\n",
       "      <td>82442376</td>\n",
       "      <td>Caucasian</td>\n",
       "      <td>Male</td>\n",
       "      <td>[30-40)</td>\n",
       "      <td>?</td>\n",
       "      <td>1</td>\n",
       "      <td>1</td>\n",
       "      <td>7</td>\n",
       "      <td>2</td>\n",
       "      <td>...</td>\n",
       "      <td>No</td>\n",
       "      <td>Up</td>\n",
       "      <td>No</td>\n",
       "      <td>No</td>\n",
       "      <td>No</td>\n",
       "      <td>No</td>\n",
       "      <td>No</td>\n",
       "      <td>Ch</td>\n",
       "      <td>Yes</td>\n",
       "      <td>NO</td>\n",
       "    </tr>\n",
       "    <tr>\n",
       "      <th>4</th>\n",
       "      <td>16680</td>\n",
       "      <td>42519267</td>\n",
       "      <td>Caucasian</td>\n",
       "      <td>Male</td>\n",
       "      <td>[40-50)</td>\n",
       "      <td>?</td>\n",
       "      <td>1</td>\n",
       "      <td>1</td>\n",
       "      <td>7</td>\n",
       "      <td>1</td>\n",
       "      <td>...</td>\n",
       "      <td>No</td>\n",
       "      <td>Steady</td>\n",
       "      <td>No</td>\n",
       "      <td>No</td>\n",
       "      <td>No</td>\n",
       "      <td>No</td>\n",
       "      <td>No</td>\n",
       "      <td>Ch</td>\n",
       "      <td>Yes</td>\n",
       "      <td>NO</td>\n",
       "    </tr>\n",
       "  </tbody>\n",
       "</table>\n",
       "<p>5 rows × 50 columns</p>\n",
       "</div>"
      ],
      "text/plain": [
       "   encounter_id  patient_nbr             race  gender      age weight  \\\n",
       "0       2278392      8222157        Caucasian  Female   [0-10)      ?   \n",
       "1        149190     55629189        Caucasian  Female  [10-20)      ?   \n",
       "2         64410     86047875  AfricanAmerican  Female  [20-30)      ?   \n",
       "3        500364     82442376        Caucasian    Male  [30-40)      ?   \n",
       "4         16680     42519267        Caucasian    Male  [40-50)      ?   \n",
       "\n",
       "   admission_type_id  discharge_disposition_id  admission_source_id  \\\n",
       "0                  6                        25                    1   \n",
       "1                  1                         1                    7   \n",
       "2                  1                         1                    7   \n",
       "3                  1                         1                    7   \n",
       "4                  1                         1                    7   \n",
       "\n",
       "   time_in_hospital    ...     citoglipton insulin  glyburide-metformin  \\\n",
       "0                 1    ...              No      No                   No   \n",
       "1                 3    ...              No      Up                   No   \n",
       "2                 2    ...              No      No                   No   \n",
       "3                 2    ...              No      Up                   No   \n",
       "4                 1    ...              No  Steady                   No   \n",
       "\n",
       "   glipizide-metformin  glimepiride-pioglitazone  metformin-rosiglitazone  \\\n",
       "0                   No                        No                       No   \n",
       "1                   No                        No                       No   \n",
       "2                   No                        No                       No   \n",
       "3                   No                        No                       No   \n",
       "4                   No                        No                       No   \n",
       "\n",
       "   metformin-pioglitazone  change diabetesMed readmitted  \n",
       "0                      No      No          No         NO  \n",
       "1                      No      Ch         Yes        >30  \n",
       "2                      No      No         Yes         NO  \n",
       "3                      No      Ch         Yes         NO  \n",
       "4                      No      Ch         Yes         NO  \n",
       "\n",
       "[5 rows x 50 columns]"
      ]
     },
     "execution_count": 6,
     "metadata": {},
     "output_type": "execute_result"
    }
   ],
   "source": [
    "df.head()"
   ]
  },
  {
   "cell_type": "code",
   "execution_count": 7,
   "metadata": {
    "ExecuteTime": {
     "end_time": "2019-12-10T00:28:32.728334Z",
     "start_time": "2019-12-10T00:28:32.655605Z"
    }
   },
   "outputs": [],
   "source": [
    "df.drop(['weight','payer_code', 'citoglipton','examide'], inplace=True, axis=1) #Dropping weight since too few rows have actual values\n",
    " #Unnecessary for classification task\n",
    "#Rejected - all \"no\"\n",
    "#Rejected - all \"no\""
   ]
  },
  {
   "cell_type": "markdown",
   "metadata": {},
   "source": [
    "Because the medical specialty of the service provider could have influence on whether the H1bAlc test was performed, missing values will be replace with 'Unknown'."
   ]
  },
  {
   "cell_type": "code",
   "execution_count": 8,
   "metadata": {
    "ExecuteTime": {
     "end_time": "2019-12-10T00:28:32.759804Z",
     "start_time": "2019-12-10T00:28:32.742008Z"
    }
   },
   "outputs": [],
   "source": [
    "df['medical_specialty'].replace(to_replace='?', value='Unknown', inplace=True)"
   ]
  },
  {
   "cell_type": "code",
   "execution_count": 9,
   "metadata": {
    "ExecuteTime": {
     "end_time": "2019-12-10T00:28:32.814194Z",
     "start_time": "2019-12-10T00:28:32.764529Z"
    },
    "scrolled": false
   },
   "outputs": [
    {
     "data": {
      "text/plain": [
       "Caucasian          0.747784\n",
       "AfricanAmerican    0.188766\n",
       "?                  0.022336\n",
       "Hispanic           0.020017\n",
       "Other              0.014799\n",
       "Asian              0.006299\n",
       "Name: race, dtype: float64"
      ]
     },
     "execution_count": 9,
     "metadata": {},
     "output_type": "execute_result"
    }
   ],
   "source": [
    "df.race.value_counts(normalize=True)"
   ]
  },
  {
   "cell_type": "markdown",
   "metadata": {},
   "source": [
    "The following code replaces missing values in the race column with a random choice aligned with the probabilities of all other race options."
   ]
  },
  {
   "cell_type": "code",
   "execution_count": 10,
   "metadata": {
    "ExecuteTime": {
     "end_time": "2019-12-10T00:28:33.040135Z",
     "start_time": "2019-12-10T00:28:32.821513Z"
    }
   },
   "outputs": [],
   "source": [
    "df['race'] = df['race'].apply(lambda x: np.random.choice(['Caucasian', 'AfricanAmerican','Hispanic', 'Other', 'Asian'], p=[0.76, 0.19, 0.02, 0.02, 0.01]) if x == '?' else x)"
   ]
  },
  {
   "cell_type": "code",
   "execution_count": 11,
   "metadata": {
    "ExecuteTime": {
     "end_time": "2019-12-10T00:28:33.092775Z",
     "start_time": "2019-12-10T00:28:33.045754Z"
    }
   },
   "outputs": [
    {
     "data": {
      "text/plain": [
       "Caucasian          0.765226\n",
       "AfricanAmerican    0.192658\n",
       "Hispanic           0.020351\n",
       "Other              0.015231\n",
       "Asian              0.006535\n",
       "Name: race, dtype: float64"
      ]
     },
     "execution_count": 11,
     "metadata": {},
     "output_type": "execute_result"
    }
   ],
   "source": [
    "df.race.value_counts(normalize=True) #Confirming appropriate distribution"
   ]
  },
  {
   "cell_type": "code",
   "execution_count": 12,
   "metadata": {
    "ExecuteTime": {
     "end_time": "2019-12-10T00:28:33.138182Z",
     "start_time": "2019-12-10T00:28:33.097390Z"
    }
   },
   "outputs": [
    {
     "data": {
      "text/plain": [
       "Female             54708\n",
       "Male               47055\n",
       "Unknown/Invalid        3\n",
       "Name: gender, dtype: int64"
      ]
     },
     "execution_count": 12,
     "metadata": {},
     "output_type": "execute_result"
    }
   ],
   "source": [
    "df.gender.value_counts()"
   ]
  },
  {
   "cell_type": "code",
   "execution_count": 13,
   "metadata": {
    "ExecuteTime": {
     "end_time": "2019-12-10T00:28:33.246306Z",
     "start_time": "2019-12-10T00:28:33.143674Z"
    }
   },
   "outputs": [],
   "source": [
    "df = df[df.gender != 'Unknown/Invalid'] #dropping the three unknown gender rows"
   ]
  },
  {
   "cell_type": "markdown",
   "metadata": {},
   "source": [
    "Due to my lack of medical knowledge, the following function will take in a column of ICD9 codes and replace them with the verbal diagnosis. This will help my understanding of the data. "
   ]
  },
  {
   "cell_type": "code",
   "execution_count": 14,
   "metadata": {
    "ExecuteTime": {
     "end_time": "2019-12-10T00:28:33.268709Z",
     "start_time": "2019-12-10T00:28:33.251727Z"
    }
   },
   "outputs": [],
   "source": [
    "def diagnose(x):\n",
    "    if (x >= 390) and (x <= 459) or (x == 785):\n",
    "        return 'circulatory'\n",
    "    \n",
    "    elif (x >= 460) and (x <= 519) or (x == 786):\n",
    "        return'respiratory'\n",
    "    \n",
    "    elif (x >= 520) and (x <= 579) or (x == 787):\n",
    "        return 'digestive'\n",
    "    \n",
    "    elif (x >= 250) and (x <= 251):\n",
    "        return 'diabetes'\n",
    "    \n",
    "    elif (x >= 800) and (x <= 999):\n",
    "        return 'injury_poisoning'\n",
    "    \n",
    "    elif (x >= 710) and (x <= 739): \n",
    "        return 'musculoskeletal'\n",
    "    \n",
    "    elif (x >= 580) and (x <= 629) or (x == 788): \n",
    "        return 'genitourinary'\n",
    "    \n",
    "    elif (x >= 140) and (x <= 239): \n",
    "         return'neoplasms'\n",
    "    \n",
    "    elif (x >= 240) and (x <= 279): \n",
    "         return'endocrine_nutrition_metabolic'\n",
    "    \n",
    "    elif (x >= 680) and (x <= 709) or (x == 782): \n",
    "         return'skin_disease'\n",
    "    \n",
    "    elif (x >= 1) and (x <= 139): \n",
    "         return'infection_parasites'\n",
    "    \n",
    "    elif (x >= 290) and (x <= 319): \n",
    "        return 'mental'\n",
    "    \n",
    "    elif (x >= 0) and (x <1) or (x == 786): \n",
    "        return 'external_injury'\n",
    "    \n",
    "    elif (x >= 280) and (x <= 289):\n",
    "        return 'blood'\n",
    "    \n",
    "    elif (x >= 320) and (x <= 359): \n",
    "        return 'nervous'\n",
    "    \n",
    "    elif (x >= 630) and (x <= 679):\n",
    "        return 'pregnancy_childbirth'\n",
    "    \n",
    "    elif (x >= 360) and (x <= 389): \n",
    "        return 'sensory'\n",
    "    \n",
    "    elif (x >= 740) and (x <= 759):\n",
    "        return 'congenital'\n",
    "    \n",
    "    elif (x >= 789) and (x <= 799) or (x == 780) or (x == 781) or (x == 784) or (x == 783):\n",
    "        return 'other'\n",
    "    else:\n",
    "        return x"
   ]
  },
  {
   "cell_type": "code",
   "execution_count": 15,
   "metadata": {
    "ExecuteTime": {
     "end_time": "2019-12-10T00:28:34.157204Z",
     "start_time": "2019-12-10T00:28:33.278082Z"
    }
   },
   "outputs": [],
   "source": [
    "for col in ['diag_1', 'diag_2', 'diag_3']: \n",
    "    df[col] = [x.replace('V', \"0.\") for x in df[col]]\n",
    "    df[col] = [x.replace('E', '0.') for x in df[col]]\n",
    "    df[col] = [x.replace('?', '0') for x in df[col]]\n",
    "    df[col] = df[col].astype(float)"
   ]
  },
  {
   "cell_type": "code",
   "execution_count": 16,
   "metadata": {
    "ExecuteTime": {
     "end_time": "2019-12-10T00:28:34.607550Z",
     "start_time": "2019-12-10T00:28:34.161153Z"
    }
   },
   "outputs": [],
   "source": [
    "df.diag_1 = df.diag_1.apply(diagnose)\n",
    "df.diag_2 = df.diag_2.apply(diagnose)\n",
    "df.diag_3 = df.diag_3.apply(diagnose)"
   ]
  },
  {
   "cell_type": "code",
   "execution_count": 17,
   "metadata": {
    "ExecuteTime": {
     "end_time": "2019-12-10T00:28:34.666215Z",
     "start_time": "2019-12-10T00:28:34.611406Z"
    },
    "scrolled": false
   },
   "outputs": [
    {
     "name": "stdout",
     "output_type": "stream",
     "text": [
      "diag_1 ['diabetes' 'endocrine_nutrition_metabolic' 'pregnancy_childbirth'\n",
      " 'infection_parasites' 'neoplasms' 'circulatory' 'respiratory'\n",
      " 'injury_poisoning' 'skin_disease' 'musculoskeletal' 'digestive'\n",
      " 'external_injury' 'genitourinary' 'mental' 'other' 'nervous' 'blood'\n",
      " 'sensory' 'congenital'] \n",
      "\n",
      "\n",
      "diag_2 ['external_injury' 'diabetes' 'neoplasms' 'circulatory' 'respiratory'\n",
      " 'blood' 'injury_poisoning' 'musculoskeletal' 'genitourinary'\n",
      " 'infection_parasites' 'endocrine_nutrition_metabolic' 'digestive'\n",
      " 'skin_disease' 'nervous' 'other' 'mental' 'pregnancy_childbirth'\n",
      " 'congenital' 'sensory'] \n",
      "\n",
      "\n",
      "diag_3 ['external_injury' 'endocrine_nutrition_metabolic' 'circulatory'\n",
      " 'diabetes' 'infection_parasites' 'respiratory' 'injury_poisoning'\n",
      " 'neoplasms' 'genitourinary' 'musculoskeletal' 'other' 'digestive'\n",
      " 'skin_disease' 'mental' 'congenital' 'nervous' 'sensory'\n",
      " 'pregnancy_childbirth' 'blood'] \n",
      "\n",
      "\n"
     ]
    }
   ],
   "source": [
    "for col in ['diag_1', 'diag_2', 'diag_3']:\n",
    "    print(col, df[col].unique(), '\\n\\n')"
   ]
  },
  {
   "cell_type": "markdown",
   "metadata": {},
   "source": [
    "Keeping in line with the research paper, for patients who have had multiple encounters, each encounter past the first has been removed as they cannot be deemed statistically independent. "
   ]
  },
  {
   "cell_type": "code",
   "execution_count": 18,
   "metadata": {
    "ExecuteTime": {
     "end_time": "2019-12-10T00:28:34.957534Z",
     "start_time": "2019-12-10T00:28:34.672284Z"
    }
   },
   "outputs": [],
   "source": [
    "df = df.drop_duplicates(subset=['patient_nbr'], keep='first')"
   ]
  },
  {
   "cell_type": "markdown",
   "metadata": {},
   "source": [
    "## Exploratory Data Analysis"
   ]
  },
  {
   "cell_type": "code",
   "execution_count": 19,
   "metadata": {
    "ExecuteTime": {
     "end_time": "2019-12-10T00:28:34.992895Z",
     "start_time": "2019-12-10T00:28:34.961584Z"
    }
   },
   "outputs": [],
   "source": [
    "target = df.readmitted\n",
    "features = df.drop('readmitted', axis=1)"
   ]
  },
  {
   "cell_type": "code",
   "execution_count": 20,
   "metadata": {
    "ExecuteTime": {
     "end_time": "2019-12-10T00:28:35.025695Z",
     "start_time": "2019-12-10T00:28:35.004525Z"
    }
   },
   "outputs": [],
   "source": [
    "#df.profile_report()"
   ]
  },
  {
   "cell_type": "markdown",
   "metadata": {},
   "source": [
    "Since the problem we're trying to solve is classifying and predicting patients that received the H1BA1c hyperglycemia test and the likelihood that they will be readmitted for complications, we'll take a look at readmittance rates for those who have received and have not received the test. "
   ]
  },
  {
   "cell_type": "code",
   "execution_count": 21,
   "metadata": {
    "ExecuteTime": {
     "end_time": "2019-12-10T00:28:35.074885Z",
     "start_time": "2019-12-10T00:28:35.035117Z"
    },
    "scrolled": true
   },
   "outputs": [
    {
     "data": {
      "text/plain": [
       "Index(['encounter_id', 'patient_nbr', 'race', 'gender', 'age',\n",
       "       'admission_type_id', 'discharge_disposition_id', 'admission_source_id',\n",
       "       'time_in_hospital', 'medical_specialty', 'num_lab_procedures',\n",
       "       'num_procedures', 'num_medications', 'number_outpatient',\n",
       "       'number_emergency', 'number_inpatient', 'diag_1', 'diag_2', 'diag_3',\n",
       "       'number_diagnoses', 'max_glu_serum', 'A1Cresult', 'metformin',\n",
       "       'repaglinide', 'nateglinide', 'chlorpropamide', 'glimepiride',\n",
       "       'acetohexamide', 'glipizide', 'glyburide', 'tolbutamide',\n",
       "       'pioglitazone', 'rosiglitazone', 'acarbose', 'miglitol', 'troglitazone',\n",
       "       'tolazamide', 'insulin', 'glyburide-metformin', 'glipizide-metformin',\n",
       "       'glimepiride-pioglitazone', 'metformin-rosiglitazone',\n",
       "       'metformin-pioglitazone', 'change', 'diabetesMed', 'readmitted'],\n",
       "      dtype='object')"
      ]
     },
     "execution_count": 21,
     "metadata": {},
     "output_type": "execute_result"
    }
   ],
   "source": [
    "df.columns"
   ]
  },
  {
   "cell_type": "code",
   "execution_count": 22,
   "metadata": {
    "ExecuteTime": {
     "end_time": "2019-12-10T00:28:35.179819Z",
     "start_time": "2019-12-10T00:28:35.095171Z"
    }
   },
   "outputs": [],
   "source": [
    "tested = df.loc[df.A1Cresult != 'None']\n",
    "not_tested = df.loc[df.A1Cresult == 'None']"
   ]
  },
  {
   "cell_type": "code",
   "execution_count": 46,
   "metadata": {
    "ExecuteTime": {
     "end_time": "2019-12-10T00:39:13.349795Z",
     "start_time": "2019-12-10T00:39:12.854977Z"
    }
   },
   "outputs": [
    {
     "data": {
      "image/png": "[encoded data removed]",
      "text/plain": [
       "<Figure size 1080x360 with 2 Axes>"
      ]
     },
     "metadata": {},
     "output_type": "display_data"
    }
   ],
   "source": [
    "fig, (ax1, ax2) = plt.subplots(nrows=1, ncols=2, figsize=(15, 5))\n",
    "tested.readmitted.value_counts(normalize=True).plot(kind='bar', ax=ax1)\n",
    "not_tested.readmitted.value_counts(normalize=True).plot(kind='bar', ax=ax2)\n",
    "ax1.set_ylabel('Relative Frequency')\n",
    "plt.subplots_adjust(wspace=.25)\n",
    "ax1.set_title(\"Tested\")\n",
    "ax2.set_title(\"NOT Tested\")\n",
    "\n",
    "plt.show()"
   ]
  },
  {
   "cell_type": "markdown",
   "metadata": {},
   "source": [
    "As you can see in the plots above, whether or not patients were tested for hyperglycemia, 40% of patients were readmitted. You can also observe the class disparity which will need to be remedied before modeling can begin."
   ]
  },
  {
   "cell_type": "code",
   "execution_count": 55,
   "metadata": {
    "ExecuteTime": {
     "end_time": "2019-12-10T00:51:15.446346Z",
     "start_time": "2019-12-10T00:51:15.108118Z"
    },
    "scrolled": false
   },
   "outputs": [
    {
     "name": "stdout",
     "output_type": "stream",
     "text": [
      "Female    38025\n",
      "Male      33490\n",
      "Name: gender, dtype: int64\n"
     ]
    },
    {
     "data": {
      "image/png": "[encoded data removed]",
      "text/plain": [
       "<Figure size 432x288 with 1 Axes>"
      ]
     },
     "metadata": {},
     "output_type": "display_data"
    }
   ],
   "source": [
    "df.groupby(df.gender).readmitted.value_counts(normalize=True).plot(kind='bar', stacked=True)\n",
    "plt.title('Rate of Readmittance by Gender')\n",
    "plt.xlabel('Readmittance Classification')\n",
    "plt.ylabel('Relative Frequency');\n",
    "print(df.gender.value_counts())"
   ]
  },
  {
   "cell_type": "markdown",
   "metadata": {},
   "source": [
    "More African American and Caucasian women are readmitted than men, however  , and both men and women are more often not readmitted, and lease likely to be readmitted within the thirty days following discharge. "
   ]
  },
  {
   "cell_type": "code",
   "execution_count": 25,
   "metadata": {
    "ExecuteTime": {
     "end_time": "2019-12-10T00:28:36.930052Z",
     "start_time": "2019-12-10T00:28:36.453344Z"
    },
    "scrolled": true
   },
   "outputs": [
    {
     "data": {
      "image/png": "[encoded data removed]",
      "text/plain": [
       "<Figure size 432x432 with 1 Axes>"
      ]
     },
     "metadata": {},
     "output_type": "display_data"
    }
   ],
   "source": [
    "fig = plt.figure(figsize=(6,6))\n",
    "\n",
    "df.age.value_counts().plot(kind='barh', color='blue', alpha=.5)\n",
    "plt.title('Distribution of Patients per Age Group')\n",
    "plt.ylabel('Age Group')\n",
    "plt.xticks(rotation='vertical', size='large')\n",
    "plt.yticks(size='large')\n",
    "plt.xlabel('Number of Occurrences');"
   ]
  },
  {
   "cell_type": "code",
   "execution_count": 71,
   "metadata": {
    "ExecuteTime": {
     "end_time": "2019-12-10T01:07:00.134359Z",
     "start_time": "2019-12-10T01:07:00.125623Z"
    }
   },
   "outputs": [
    {
     "data": {
      "text/plain": [
       "<pandas.core.groupby.groupby.DataFrameGroupBy object at 0x1a1c991198>"
      ]
     },
     "execution_count": 71,
     "metadata": {},
     "output_type": "execute_result"
    }
   ],
   "source": [
    "age_df"
   ]
  },
  {
   "cell_type": "code",
   "execution_count": 72,
   "metadata": {
    "ExecuteTime": {
     "end_time": "2019-12-10T01:07:26.157040Z",
     "start_time": "2019-12-10T01:07:25.450623Z"
    },
    "scrolled": false
   },
   "outputs": [
    {
     "data": {
      "image/png": "[encoded data removed]",
      "text/plain": [
       "<Figure size 1080x576 with 1 Axes>"
      ]
     },
     "metadata": {},
     "output_type": "display_data"
    }
   ],
   "source": [
    "fig = plt.figure(figsize=(15,8))\n",
    "age_df = df.groupby(df.age)\n",
    "\n",
    "age_df.readmitted.value_counts(normalize=True).plot(kind='bar')\n",
    "plt.title('Distribution of Readmittance of Patients per Age Group')\n",
    "plt.xlabel('Readmittance per Age Group')\n",
    "plt.xticks(rotation='vertical', size='x-large')\n",
    "plt.ylabel('Number of Occurrences');"
   ]
  },
  {
   "cell_type": "markdown",
   "metadata": {},
   "source": [
    "If you look closely, there is a general downward trend as patients increase in age for those who are not readmitted, while the rate of readmittance increases with age. There is another increase for patients who are 90-100 years old, though that may be due to the patient expiring or moving to hospice care.  "
   ]
  },
  {
   "cell_type": "code",
   "execution_count": 28,
   "metadata": {
    "ExecuteTime": {
     "end_time": "2019-12-10T00:28:37.929003Z",
     "start_time": "2019-12-10T00:28:37.865103Z"
    },
    "scrolled": true
   },
   "outputs": [
    {
     "data": {
      "text/plain": [
       "NO     63.397129\n",
       ">30    28.803828\n",
       "<30     7.799043\n",
       "Name: readmitted, dtype: float64"
      ]
     },
     "execution_count": 28,
     "metadata": {},
     "output_type": "execute_result"
    }
   ],
   "source": [
    "diabetes2 = tested.loc[tested['diag_2']=='diabetes'] \n",
    "diabetes2.loc[diabetes2['A1Cresult'] != 'None'].readmitted.value_counts(normalize=True)*100"
   ]
  },
  {
   "cell_type": "code",
   "execution_count": 29,
   "metadata": {
    "ExecuteTime": {
     "end_time": "2019-12-10T00:28:37.997157Z",
     "start_time": "2019-12-10T00:28:37.954541Z"
    }
   },
   "outputs": [
    {
     "data": {
      "text/plain": [
       "diag_1                         A1Cresult\n",
       "blood                          Norm         52.857143\n",
       "                               >8           31.428571\n",
       "                               >7           15.714286\n",
       "circulatory                    >8           46.636012\n",
       "                               Norm         29.235237\n",
       "                               >7           24.128751\n",
       "congenital                     >8           57.142857\n",
       "                               >7           28.571429\n",
       "                               Norm         14.285714\n",
       "diabetes                       >8           73.493976\n",
       "                               Norm         16.530120\n",
       "                               >7            9.975904\n",
       "digestive                      >8           42.216981\n",
       "                               Norm         32.900943\n",
       "                               >7           24.882075\n",
       "endocrine_nutrition_metabolic  >8           43.333333\n",
       "                               Norm         32.500000\n",
       "                               >7           24.166667\n",
       "external_injury                Norm         46.875000\n",
       "                               >8           37.500000\n",
       "                               >7           15.625000\n",
       "genitourinary                  >8           45.740741\n",
       "                               Norm         27.777778\n",
       "                               >7           26.481481\n",
       "infection_parasites            >8           43.788820\n",
       "                               Norm         29.192547\n",
       "                               >7           27.018634\n",
       "injury_poisoning               Norm         40.068493\n",
       "                               >8           36.986301\n",
       "                               >7           22.945205\n",
       "mental                         >8           46.511628\n",
       "                               Norm         32.299742\n",
       "                               >7           21.188630\n",
       "musculoskeletal                >8           36.069652\n",
       "                               Norm         34.079602\n",
       "                               >7           29.850746\n",
       "neoplasms                      >8           39.453125\n",
       "                               Norm         37.109375\n",
       "                               >7           23.437500\n",
       "nervous                        Norm         43.750000\n",
       "                               >8           29.861111\n",
       "                               >7           26.388889\n",
       "other                          >8           41.604010\n",
       "                               Norm         33.333333\n",
       "                               >7           25.062657\n",
       "pregnancy_childbirth           Norm         43.037975\n",
       "                               >8           39.240506\n",
       "                               >7           17.721519\n",
       "respiratory                    >8           42.161017\n",
       "                               Norm         30.720339\n",
       "                               >7           27.118644\n",
       "sensory                        >8           40.000000\n",
       "                               Norm         37.500000\n",
       "                               >7           22.500000\n",
       "skin_disease                   >8           50.687623\n",
       "                               Norm         30.451866\n",
       "                               >7           18.860511\n",
       "Name: A1Cresult, dtype: float64"
      ]
     },
     "execution_count": 29,
     "metadata": {},
     "output_type": "execute_result"
    }
   ],
   "source": [
    "tested.groupby('diag_1').A1Cresult.value_counts(normalize=True)*100"
   ]
  },
  {
   "cell_type": "markdown",
   "metadata": {},
   "source": [
    "## Preliminary Model"
   ]
  },
  {
   "cell_type": "code",
   "execution_count": 30,
   "metadata": {
    "ExecuteTime": {
     "end_time": "2019-12-10T00:28:38.077229Z",
     "start_time": "2019-12-10T00:28:38.005374Z"
    }
   },
   "outputs": [],
   "source": [
    "features.drop(['encounter_id','patient_nbr'], inplace=True, axis=1) #eliminating irrelevant ordinal data"
   ]
  },
  {
   "cell_type": "code",
   "execution_count": 31,
   "metadata": {
    "ExecuteTime": {
     "end_time": "2019-12-10T00:28:38.688247Z",
     "start_time": "2019-12-10T00:28:38.102357Z"
    }
   },
   "outputs": [
    {
     "data": {
      "text/plain": [
       "566"
      ]
     },
     "execution_count": 31,
     "metadata": {},
     "output_type": "execute_result"
    }
   ],
   "source": [
    "features = features.astype('category', inplace=True)\n",
    "features = pd.get_dummies(features)\n",
    "len(features.columns)"
   ]
  },
  {
   "cell_type": "code",
   "execution_count": 32,
   "metadata": {
    "ExecuteTime": {
     "end_time": "2019-12-10T00:28:39.154701Z",
     "start_time": "2019-12-10T00:28:38.699517Z"
    }
   },
   "outputs": [],
   "source": [
    "x_train, x_test, y_train, y_test = train_test_split(features, target, test_size=.2)"
   ]
  },
  {
   "cell_type": "markdown",
   "metadata": {
    "ExecuteTime": {
     "end_time": "2019-12-10T00:28:39.173880Z",
     "start_time": "2019-12-10T00:28:39.157345Z"
    }
   },
   "source": [
    "In order for our models to work properly, we'll need to address the class imbalance of our target variable. "
   ]
  },
  {
   "cell_type": "code",
   "execution_count": null,
   "metadata": {},
   "outputs": [],
   "source": []
  }
 ],
 "metadata": {
  "kernelspec": {
   "display_name": "Python [conda env:learn-env] *",
   "language": "python",
   "name": "conda-env-learn-env-py"
  },
  "language_info": {
   "codemirror_mode": {
    "name": "ipython",
    "version": 3
   },
   "file_extension": ".py",
   "mimetype": "text/x-python",
   "name": "python",
   "nbconvert_exporter": "python",
   "pygments_lexer": "ipython3",
   "version": "3.6.6"
  },
  "toc": {
   "base_numbering": 1,
   "nav_menu": {},
   "number_sections": true,
   "sideBar": true,
   "skip_h1_title": false,
   "title_cell": "Table of Contents",
   "title_sidebar": "Contents",
   "toc_cell": false,
   "toc_position": {},
   "toc_section_display": true,
   "toc_window_display": false
  }
 },
 "nbformat": 4,
 "nbformat_minor": 2
}
